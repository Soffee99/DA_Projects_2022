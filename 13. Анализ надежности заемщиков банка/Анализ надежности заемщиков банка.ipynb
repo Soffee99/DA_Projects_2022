{
 "cells": [
  {
   "cell_type": "markdown",
   "id": "5890200e",
   "metadata": {
    "toc": true
   },
   "source": [
    "<h1>Исследование надежности заемщиков<span class=\"tocSkip\"></span></h1>\n",
    "<div class=\"toc\"><ul class=\"toc-item\"><li><span><a href=\"#Обзор-данных\" data-toc-modified-id=\"Обзор-данных-1\"><span class=\"toc-item-num\">1&nbsp;&nbsp;</span>Обзор данных</a></span></li><li><span><a href=\"#Предобработка-данных\" data-toc-modified-id=\"Предобработка-данных-2\"><span class=\"toc-item-num\">2&nbsp;&nbsp;</span>Предобработка данных</a></span><ul class=\"toc-item\"><li><span><a href=\"#Заполнение-пропусков\" data-toc-modified-id=\"Заполнение-пропусков-2.1\"><span class=\"toc-item-num\">2.1&nbsp;&nbsp;</span>Заполнение пропусков</a></span></li><li><span><a href=\"#Проверка-данных-на-аномалии-и-исправления.\" data-toc-modified-id=\"Проверка-данных-на-аномалии-и-исправления.-2.2\"><span class=\"toc-item-num\">2.2&nbsp;&nbsp;</span>Проверка данных на аномалии и исправления.</a></span><ul class=\"toc-item\"><li><span><a href=\"#Проверим-на-аномалии-столбец-days_employed.\" data-toc-modified-id=\"Проверим-на-аномалии-столбец-days_employed.-2.2.1\"><span class=\"toc-item-num\">2.2.1&nbsp;&nbsp;</span>Проверим на аномалии столбец <code>days_employed</code>.</a></span></li><li><span><a href=\"#Проверим-на-аномалии-столбец-children.\" data-toc-modified-id=\"Проверим-на-аномалии-столбец-children.-2.2.2\"><span class=\"toc-item-num\">2.2.2&nbsp;&nbsp;</span>Проверим на аномалии столбец <code>children</code>.</a></span></li></ul></li><li><span><a href=\"#Изменение-типов-данных.\" data-toc-modified-id=\"Изменение-типов-данных.-2.3\"><span class=\"toc-item-num\">2.3&nbsp;&nbsp;</span>Изменение типов данных.</a></span></li><li><span><a href=\"#Удаление-дубликатов.\" data-toc-modified-id=\"Удаление-дубликатов.-2.4\"><span class=\"toc-item-num\">2.4&nbsp;&nbsp;</span>Удаление дубликатов.</a></span></li><li><span><a href=\"#Формирование-дополнительных-датафреймов-словарей,-декомпозиция-исходного-датафрейма.\" data-toc-modified-id=\"Формирование-дополнительных-датафреймов-словарей,-декомпозиция-исходного-датафрейма.-2.5\"><span class=\"toc-item-num\">2.5&nbsp;&nbsp;</span>Формирование дополнительных датафреймов словарей, декомпозиция исходного датафрейма.</a></span></li><li><span><a href=\"#Категоризация-дохода.\" data-toc-modified-id=\"Категоризация-дохода.-2.6\"><span class=\"toc-item-num\">2.6&nbsp;&nbsp;</span>Категоризация дохода.</a></span></li><li><span><a href=\"#Категоризация-целей-кредита.\" data-toc-modified-id=\"Категоризация-целей-кредита.-2.7\"><span class=\"toc-item-num\">2.7&nbsp;&nbsp;</span>Категоризация целей кредита.</a></span></li></ul></li><li><span><a href=\"#Ответы-на-вопросы.\" data-toc-modified-id=\"Ответы-на-вопросы.-3\"><span class=\"toc-item-num\">3&nbsp;&nbsp;</span>Ответы на вопросы.</a></span><ul class=\"toc-item\"><li><span><a href=\"#Есть-ли-зависимость-между-количеством-детей-заемщика-и-возвратом-кредита-в-срок?\" data-toc-modified-id=\"Есть-ли-зависимость-между-количеством-детей-заемщика-и-возвратом-кредита-в-срок?-3.1\"><span class=\"toc-item-num\">3.1&nbsp;&nbsp;</span>Есть ли зависимость между количеством детей заемщика и возвратом кредита в срок?</a></span></li><li><span><a href=\"#Есть-ли-зависимость-между-семейным-положением-заемщика-и-возвратом-кредита-в-срок?\" data-toc-modified-id=\"Есть-ли-зависимость-между-семейным-положением-заемщика-и-возвратом-кредита-в-срок?-3.2\"><span class=\"toc-item-num\">3.2&nbsp;&nbsp;</span>Есть ли зависимость между семейным положением заемщика и возвратом кредита в срок?</a></span></li><li><span><a href=\"#Есть-ли-зависимость-между-уровнем-дохода-заемщика-и-возвратом-кредита-в-срок?\" data-toc-modified-id=\"Есть-ли-зависимость-между-уровнем-дохода-заемщика-и-возвратом-кредита-в-срок?-3.3\"><span class=\"toc-item-num\">3.3&nbsp;&nbsp;</span>Есть ли зависимость между уровнем дохода заемщика и возвратом кредита в срок?</a></span></li><li><span><a href=\"#Как-разные-цели-кредита-влияют-на-его-возврат-в-срок?\" data-toc-modified-id=\"Как-разные-цели-кредита-влияют-на-его-возврат-в-срок?-3.4\"><span class=\"toc-item-num\">3.4&nbsp;&nbsp;</span>Как разные цели кредита влияют на его возврат в срок?</a></span></li></ul></li><li><span><a href=\"#Общий-вывод:\" data-toc-modified-id=\"Общий-вывод:-4\"><span class=\"toc-item-num\">4&nbsp;&nbsp;</span>Общий вывод:</a></span></li></ul></div>"
   ]
  },
  {
   "cell_type": "markdown",
   "id": "3b96aae6",
   "metadata": {},
   "source": [
    "# Исследование надежности заемщиков."
   ]
  },
  {
   "cell_type": "markdown",
   "id": "428ba9bb",
   "metadata": {},
   "source": [
    " На данных кредитного отдела банка разберемся, влияют ли следующие параметры на факт погашения заемщиком кредита в срок:\n",
    " - семейное положение, \n",
    " - количество детей заемщика,\n",
    " - уровень дохода, \n",
    " - цель кредитования. \n",
    " \n",
    " Результаты исследования необходимы для построении модели кредитного скоринга — специальной системы, которая оценивает способность потенциального заёмщика вернуть кредит банку.\n",
    "\n",
    "**Цель исследования** — получить ответы на следующие вопросы:\n",
    "1. Есть ли зависимость между количеством детей заемщика и возвратом кредита в срок?\n",
    "2. Есть ли зависимость между семейным положением заемщика и возвратом кредита в срок?\n",
    "3. Есть ли зависимость между уровнем дохода заемщика и возвратом кредита в срок?\n",
    "4. Как разные цели кредита влияют на его возврат в срок?\n",
    "\n",
    "**Ход исследования**\n",
    "\n",
    "Входные данные от банка — статистика о платёжеспособности клиентов - получим из файла `/datasets/data.csv`. О качестве данных ничего не известно, поэтому перед проверкой гипотез проведем обзор и предобработку данных. \n",
    "\n",
    "Таким образом, исследование пройдёт в четыре этапа:\n",
    " 1. Обзор данных.\n",
    " 2. Предобработка данных.\n",
    " 3. Ответы на вопросы.\n",
    " 4. Общий вывод.\n",
    "\n"
   ]
  },
  {
   "cell_type": "markdown",
   "id": "fc2e170a",
   "metadata": {},
   "source": [
    "##  Обзор данных\n",
    "Составим первое представление о данных."
   ]
  },
  {
   "cell_type": "markdown",
   "id": "03783a2a",
   "metadata": {},
   "source": [
    "Основной инструмент аналитика — `pandas`. Импортируем эту библиотеку."
   ]
  },
  {
   "cell_type": "code",
   "execution_count": 1,
   "id": "af75ee8b",
   "metadata": {},
   "outputs": [],
   "source": [
    "import pandas as pd"
   ]
  },
  {
   "cell_type": "markdown",
   "id": "7d733a10",
   "metadata": {},
   "source": [
    "Прочитаем файл `data.csv` из пути `/Users/sofyabelaya/Downloads/data.csv` и сохраним его в переменной `data`:"
   ]
  },
  {
   "cell_type": "code",
   "execution_count": 2,
   "id": "96388d73",
   "metadata": {},
   "outputs": [],
   "source": [
    "data = pd.read_csv('/Users/sofyabelaya/Downloads/data.csv') "
   ]
  },
  {
   "cell_type": "markdown",
   "id": "6481f820",
   "metadata": {},
   "source": [
    "Выведем на экран первые десять строк таблицы:"
   ]
  },
  {
   "cell_type": "code",
   "execution_count": 3,
   "id": "439ce148",
   "metadata": {},
   "outputs": [
    {
     "data": {
      "text/html": [
       "<div>\n",
       "<style scoped>\n",
       "    .dataframe tbody tr th:only-of-type {\n",
       "        vertical-align: middle;\n",
       "    }\n",
       "\n",
       "    .dataframe tbody tr th {\n",
       "        vertical-align: top;\n",
       "    }\n",
       "\n",
       "    .dataframe thead th {\n",
       "        text-align: right;\n",
       "    }\n",
       "</style>\n",
       "<table border=\"1\" class=\"dataframe\">\n",
       "  <thead>\n",
       "    <tr style=\"text-align: right;\">\n",
       "      <th></th>\n",
       "      <th>children</th>\n",
       "      <th>days_employed</th>\n",
       "      <th>dob_years</th>\n",
       "      <th>education</th>\n",
       "      <th>education_id</th>\n",
       "      <th>family_status</th>\n",
       "      <th>family_status_id</th>\n",
       "      <th>gender</th>\n",
       "      <th>income_type</th>\n",
       "      <th>debt</th>\n",
       "      <th>total_income</th>\n",
       "      <th>purpose</th>\n",
       "    </tr>\n",
       "  </thead>\n",
       "  <tbody>\n",
       "    <tr>\n",
       "      <th>0</th>\n",
       "      <td>1</td>\n",
       "      <td>-8437.673028</td>\n",
       "      <td>42</td>\n",
       "      <td>высшее</td>\n",
       "      <td>0</td>\n",
       "      <td>женат / замужем</td>\n",
       "      <td>0</td>\n",
       "      <td>F</td>\n",
       "      <td>сотрудник</td>\n",
       "      <td>0</td>\n",
       "      <td>253875.639453</td>\n",
       "      <td>покупка жилья</td>\n",
       "    </tr>\n",
       "    <tr>\n",
       "      <th>1</th>\n",
       "      <td>1</td>\n",
       "      <td>-4024.803754</td>\n",
       "      <td>36</td>\n",
       "      <td>среднее</td>\n",
       "      <td>1</td>\n",
       "      <td>женат / замужем</td>\n",
       "      <td>0</td>\n",
       "      <td>F</td>\n",
       "      <td>сотрудник</td>\n",
       "      <td>0</td>\n",
       "      <td>112080.014102</td>\n",
       "      <td>приобретение автомобиля</td>\n",
       "    </tr>\n",
       "    <tr>\n",
       "      <th>2</th>\n",
       "      <td>0</td>\n",
       "      <td>-5623.422610</td>\n",
       "      <td>33</td>\n",
       "      <td>Среднее</td>\n",
       "      <td>1</td>\n",
       "      <td>женат / замужем</td>\n",
       "      <td>0</td>\n",
       "      <td>M</td>\n",
       "      <td>сотрудник</td>\n",
       "      <td>0</td>\n",
       "      <td>145885.952297</td>\n",
       "      <td>покупка жилья</td>\n",
       "    </tr>\n",
       "    <tr>\n",
       "      <th>3</th>\n",
       "      <td>3</td>\n",
       "      <td>-4124.747207</td>\n",
       "      <td>32</td>\n",
       "      <td>среднее</td>\n",
       "      <td>1</td>\n",
       "      <td>женат / замужем</td>\n",
       "      <td>0</td>\n",
       "      <td>M</td>\n",
       "      <td>сотрудник</td>\n",
       "      <td>0</td>\n",
       "      <td>267628.550329</td>\n",
       "      <td>дополнительное образование</td>\n",
       "    </tr>\n",
       "    <tr>\n",
       "      <th>4</th>\n",
       "      <td>0</td>\n",
       "      <td>340266.072047</td>\n",
       "      <td>53</td>\n",
       "      <td>среднее</td>\n",
       "      <td>1</td>\n",
       "      <td>гражданский брак</td>\n",
       "      <td>1</td>\n",
       "      <td>F</td>\n",
       "      <td>пенсионер</td>\n",
       "      <td>0</td>\n",
       "      <td>158616.077870</td>\n",
       "      <td>сыграть свадьбу</td>\n",
       "    </tr>\n",
       "    <tr>\n",
       "      <th>5</th>\n",
       "      <td>0</td>\n",
       "      <td>-926.185831</td>\n",
       "      <td>27</td>\n",
       "      <td>высшее</td>\n",
       "      <td>0</td>\n",
       "      <td>гражданский брак</td>\n",
       "      <td>1</td>\n",
       "      <td>M</td>\n",
       "      <td>компаньон</td>\n",
       "      <td>0</td>\n",
       "      <td>255763.565419</td>\n",
       "      <td>покупка жилья</td>\n",
       "    </tr>\n",
       "    <tr>\n",
       "      <th>6</th>\n",
       "      <td>0</td>\n",
       "      <td>-2879.202052</td>\n",
       "      <td>43</td>\n",
       "      <td>высшее</td>\n",
       "      <td>0</td>\n",
       "      <td>женат / замужем</td>\n",
       "      <td>0</td>\n",
       "      <td>F</td>\n",
       "      <td>компаньон</td>\n",
       "      <td>0</td>\n",
       "      <td>240525.971920</td>\n",
       "      <td>операции с жильем</td>\n",
       "    </tr>\n",
       "    <tr>\n",
       "      <th>7</th>\n",
       "      <td>0</td>\n",
       "      <td>-152.779569</td>\n",
       "      <td>50</td>\n",
       "      <td>СРЕДНЕЕ</td>\n",
       "      <td>1</td>\n",
       "      <td>женат / замужем</td>\n",
       "      <td>0</td>\n",
       "      <td>M</td>\n",
       "      <td>сотрудник</td>\n",
       "      <td>0</td>\n",
       "      <td>135823.934197</td>\n",
       "      <td>образование</td>\n",
       "    </tr>\n",
       "    <tr>\n",
       "      <th>8</th>\n",
       "      <td>2</td>\n",
       "      <td>-6929.865299</td>\n",
       "      <td>35</td>\n",
       "      <td>ВЫСШЕЕ</td>\n",
       "      <td>0</td>\n",
       "      <td>гражданский брак</td>\n",
       "      <td>1</td>\n",
       "      <td>F</td>\n",
       "      <td>сотрудник</td>\n",
       "      <td>0</td>\n",
       "      <td>95856.832424</td>\n",
       "      <td>на проведение свадьбы</td>\n",
       "    </tr>\n",
       "    <tr>\n",
       "      <th>9</th>\n",
       "      <td>0</td>\n",
       "      <td>-2188.756445</td>\n",
       "      <td>41</td>\n",
       "      <td>среднее</td>\n",
       "      <td>1</td>\n",
       "      <td>женат / замужем</td>\n",
       "      <td>0</td>\n",
       "      <td>M</td>\n",
       "      <td>сотрудник</td>\n",
       "      <td>0</td>\n",
       "      <td>144425.938277</td>\n",
       "      <td>покупка жилья для семьи</td>\n",
       "    </tr>\n",
       "  </tbody>\n",
       "</table>\n",
       "</div>"
      ],
      "text/plain": [
       "   children  days_employed  dob_years education  education_id  \\\n",
       "0         1   -8437.673028         42    высшее             0   \n",
       "1         1   -4024.803754         36   среднее             1   \n",
       "2         0   -5623.422610         33   Среднее             1   \n",
       "3         3   -4124.747207         32   среднее             1   \n",
       "4         0  340266.072047         53   среднее             1   \n",
       "5         0    -926.185831         27    высшее             0   \n",
       "6         0   -2879.202052         43    высшее             0   \n",
       "7         0    -152.779569         50   СРЕДНЕЕ             1   \n",
       "8         2   -6929.865299         35    ВЫСШЕЕ             0   \n",
       "9         0   -2188.756445         41   среднее             1   \n",
       "\n",
       "      family_status  family_status_id gender income_type  debt   total_income  \\\n",
       "0   женат / замужем                 0      F   сотрудник     0  253875.639453   \n",
       "1   женат / замужем                 0      F   сотрудник     0  112080.014102   \n",
       "2   женат / замужем                 0      M   сотрудник     0  145885.952297   \n",
       "3   женат / замужем                 0      M   сотрудник     0  267628.550329   \n",
       "4  гражданский брак                 1      F   пенсионер     0  158616.077870   \n",
       "5  гражданский брак                 1      M   компаньон     0  255763.565419   \n",
       "6   женат / замужем                 0      F   компаньон     0  240525.971920   \n",
       "7   женат / замужем                 0      M   сотрудник     0  135823.934197   \n",
       "8  гражданский брак                 1      F   сотрудник     0   95856.832424   \n",
       "9   женат / замужем                 0      M   сотрудник     0  144425.938277   \n",
       "\n",
       "                      purpose  \n",
       "0               покупка жилья  \n",
       "1     приобретение автомобиля  \n",
       "2               покупка жилья  \n",
       "3  дополнительное образование  \n",
       "4             сыграть свадьбу  \n",
       "5               покупка жилья  \n",
       "6           операции с жильем  \n",
       "7                 образование  \n",
       "8       на проведение свадьбы  \n",
       "9     покупка жилья для семьи  "
      ]
     },
     "execution_count": 3,
     "metadata": {},
     "output_type": "execute_result"
    }
   ],
   "source": [
    "data.head(10)"
   ]
  },
  {
   "cell_type": "markdown",
   "id": "5ed7f4c2",
   "metadata": {},
   "source": [
    "Получим сводную информацию о таблице:"
   ]
  },
  {
   "cell_type": "code",
   "execution_count": 4,
   "id": "a5e331d9",
   "metadata": {},
   "outputs": [
    {
     "name": "stdout",
     "output_type": "stream",
     "text": [
      "<class 'pandas.core.frame.DataFrame'>\n",
      "RangeIndex: 21525 entries, 0 to 21524\n",
      "Data columns (total 12 columns):\n",
      " #   Column            Non-Null Count  Dtype  \n",
      "---  ------            --------------  -----  \n",
      " 0   children          21525 non-null  int64  \n",
      " 1   days_employed     19351 non-null  float64\n",
      " 2   dob_years         21525 non-null  int64  \n",
      " 3   education         21525 non-null  object \n",
      " 4   education_id      21525 non-null  int64  \n",
      " 5   family_status     21525 non-null  object \n",
      " 6   family_status_id  21525 non-null  int64  \n",
      " 7   gender            21525 non-null  object \n",
      " 8   income_type       21525 non-null  object \n",
      " 9   debt              21525 non-null  int64  \n",
      " 10  total_income      19351 non-null  float64\n",
      " 11  purpose           21525 non-null  object \n",
      "dtypes: float64(2), int64(5), object(5)\n",
      "memory usage: 2.0+ MB\n"
     ]
    }
   ],
   "source": [
    "data.info() "
   ]
  },
  {
   "cell_type": "markdown",
   "id": "5e0a5d54",
   "metadata": {},
   "source": [
    "Итак, в таблице 12 столбцов и 21525 строк. В столбцах используются три типа данных — `object`, `int64` и `float64`.\n",
    "\n",
    "Согласно документации к данным:\n",
    "* `children` — количество детей в семье;\n",
    "* `days_employed` — общий трудовой стаж в днях;  \n",
    "* `dob_years` — возраст клиента в годах;\n",
    "* `education` — уровень образования клиента;\n",
    "* `education_id` — идентификатор уровня образования;\n",
    "* `family_status` — семейное положение;\n",
    "* `family_status_id` — идентификатор семейного положения;\n",
    "* `gender` — пол клиента;\n",
    "* `income_type` — тип занятости;  \n",
    "* `debt` —  имел ли задолженность по возврату кредитов;\n",
    "* `total_income` — ежемесячный доход;\n",
    "* `purpose` — цель получения кредита.\n",
    "\n",
    "Видны следующие недочеты во входных данных: \n",
    "1. Пропущенные значения в столбцах `days_employed` и `total_income`, так как количество значений в них меньше остальных.\n",
    "2. Артефакты в столбце `days_employed` - отрицательное количество дней трудового стажа.\n",
    "3. Некорректный тип данных в столбце `total_income` - вещественный вместо целочисленного.\n",
    "4. Неявные дубликаты в столбце `education` - значения записаны в разных регистрах."
   ]
  },
  {
   "cell_type": "markdown",
   "id": "de5c0ede",
   "metadata": {},
   "source": [
    "**Выводы**\n",
    "\n",
    "В каждой строке таблицы — полноценные данные о потенциальном заемщике: пол и возраст, семейное положение и количество детей, образование, тип занятости и стаж работы, уровень дохода и наличие задолженности по непогашеным кредитам, а также непосредственная цель кредитования. \n",
    "\n",
    "Предварительно можно утверждать, что, данных достаточно для получения ответов на поставленные заказчиков вопросы. Но встречаются пропуски, артефакты и неявные дубликаты  в данных.\n",
    "\n",
    "Чтобы двигаться дальше, нужно устранить проблемы в данных."
   ]
  },
  {
   "cell_type": "markdown",
   "id": "1425a084",
   "metadata": {},
   "source": [
    "##  Предобработка данных\n",
    "Заполним пропуски и проверим данные на аномалии и исправим их. Изменим типы данных и удалим дубликаты."
   ]
  },
  {
   "cell_type": "markdown",
   "id": "b0408b2b",
   "metadata": {},
   "source": [
    "### Заполнение пропусков\n",
    "Сначала посчитаем, сколько в таблице пропущенных значений."
   ]
  },
  {
   "cell_type": "code",
   "execution_count": 5,
   "id": "de79c4f1",
   "metadata": {},
   "outputs": [
    {
     "data": {
      "text/plain": [
       "children               0\n",
       "days_employed       2174\n",
       "dob_years              0\n",
       "education              0\n",
       "education_id           0\n",
       "family_status          0\n",
       "family_status_id       0\n",
       "gender                 0\n",
       "income_type            0\n",
       "debt                   0\n",
       "total_income        2174\n",
       "purpose                0\n",
       "dtype: int64"
      ]
     },
     "execution_count": 5,
     "metadata": {},
     "output_type": "execute_result"
    }
   ],
   "source": [
    "data.isna().sum()"
   ]
  },
  {
   "cell_type": "markdown",
   "id": "b93f8f4b",
   "metadata": {},
   "source": [
    "Одинаковое количество пропусков обнаружено в столбцах `days_employed` и `total_income`. Пропущенные значения в столбце `total_income` существенны для нашего исследования. Поэтому попробуем их проанализировать и понять причину возникновения. \n",
    "\n",
    "Для этого:\n",
    "1. проверим, какую долю составляют пропущенные значения в столбцах с пропусками;\n",
    "2. проверим значения в столбцах на артефакты (аномалии);\n",
    "3. проверим наличие выдающихся значений;\n",
    "4. подберем наиболее подходящий вариант для заполнения пропусков."
   ]
  },
  {
   "cell_type": "markdown",
   "id": "295c9d8a",
   "metadata": {},
   "source": [
    "Для начала посмотрим, пересекаются ли пропуски в обих столбцах. "
   ]
  },
  {
   "cell_type": "code",
   "execution_count": 6,
   "id": "ed93f2b7",
   "metadata": {},
   "outputs": [
    {
     "data": {
      "text/html": [
       "<div>\n",
       "<style scoped>\n",
       "    .dataframe tbody tr th:only-of-type {\n",
       "        vertical-align: middle;\n",
       "    }\n",
       "\n",
       "    .dataframe tbody tr th {\n",
       "        vertical-align: top;\n",
       "    }\n",
       "\n",
       "    .dataframe thead th {\n",
       "        text-align: right;\n",
       "    }\n",
       "</style>\n",
       "<table border=\"1\" class=\"dataframe\">\n",
       "  <thead>\n",
       "    <tr style=\"text-align: right;\">\n",
       "      <th></th>\n",
       "      <th>children</th>\n",
       "      <th>days_employed</th>\n",
       "      <th>dob_years</th>\n",
       "      <th>education</th>\n",
       "      <th>education_id</th>\n",
       "      <th>family_status</th>\n",
       "      <th>family_status_id</th>\n",
       "      <th>gender</th>\n",
       "      <th>income_type</th>\n",
       "      <th>debt</th>\n",
       "      <th>total_income</th>\n",
       "      <th>purpose</th>\n",
       "    </tr>\n",
       "  </thead>\n",
       "  <tbody>\n",
       "    <tr>\n",
       "      <th>12</th>\n",
       "      <td>0</td>\n",
       "      <td>NaN</td>\n",
       "      <td>65</td>\n",
       "      <td>среднее</td>\n",
       "      <td>1</td>\n",
       "      <td>гражданский брак</td>\n",
       "      <td>1</td>\n",
       "      <td>M</td>\n",
       "      <td>пенсионер</td>\n",
       "      <td>0</td>\n",
       "      <td>NaN</td>\n",
       "      <td>сыграть свадьбу</td>\n",
       "    </tr>\n",
       "    <tr>\n",
       "      <th>26</th>\n",
       "      <td>0</td>\n",
       "      <td>NaN</td>\n",
       "      <td>41</td>\n",
       "      <td>среднее</td>\n",
       "      <td>1</td>\n",
       "      <td>женат / замужем</td>\n",
       "      <td>0</td>\n",
       "      <td>M</td>\n",
       "      <td>госслужащий</td>\n",
       "      <td>0</td>\n",
       "      <td>NaN</td>\n",
       "      <td>образование</td>\n",
       "    </tr>\n",
       "    <tr>\n",
       "      <th>29</th>\n",
       "      <td>0</td>\n",
       "      <td>NaN</td>\n",
       "      <td>63</td>\n",
       "      <td>среднее</td>\n",
       "      <td>1</td>\n",
       "      <td>Не женат / не замужем</td>\n",
       "      <td>4</td>\n",
       "      <td>F</td>\n",
       "      <td>пенсионер</td>\n",
       "      <td>0</td>\n",
       "      <td>NaN</td>\n",
       "      <td>строительство жилой недвижимости</td>\n",
       "    </tr>\n",
       "    <tr>\n",
       "      <th>41</th>\n",
       "      <td>0</td>\n",
       "      <td>NaN</td>\n",
       "      <td>50</td>\n",
       "      <td>среднее</td>\n",
       "      <td>1</td>\n",
       "      <td>женат / замужем</td>\n",
       "      <td>0</td>\n",
       "      <td>F</td>\n",
       "      <td>госслужащий</td>\n",
       "      <td>0</td>\n",
       "      <td>NaN</td>\n",
       "      <td>сделка с подержанным автомобилем</td>\n",
       "    </tr>\n",
       "    <tr>\n",
       "      <th>55</th>\n",
       "      <td>0</td>\n",
       "      <td>NaN</td>\n",
       "      <td>54</td>\n",
       "      <td>среднее</td>\n",
       "      <td>1</td>\n",
       "      <td>гражданский брак</td>\n",
       "      <td>1</td>\n",
       "      <td>F</td>\n",
       "      <td>пенсионер</td>\n",
       "      <td>1</td>\n",
       "      <td>NaN</td>\n",
       "      <td>сыграть свадьбу</td>\n",
       "    </tr>\n",
       "    <tr>\n",
       "      <th>...</th>\n",
       "      <td>...</td>\n",
       "      <td>...</td>\n",
       "      <td>...</td>\n",
       "      <td>...</td>\n",
       "      <td>...</td>\n",
       "      <td>...</td>\n",
       "      <td>...</td>\n",
       "      <td>...</td>\n",
       "      <td>...</td>\n",
       "      <td>...</td>\n",
       "      <td>...</td>\n",
       "      <td>...</td>\n",
       "    </tr>\n",
       "    <tr>\n",
       "      <th>21489</th>\n",
       "      <td>2</td>\n",
       "      <td>NaN</td>\n",
       "      <td>47</td>\n",
       "      <td>Среднее</td>\n",
       "      <td>1</td>\n",
       "      <td>женат / замужем</td>\n",
       "      <td>0</td>\n",
       "      <td>M</td>\n",
       "      <td>компаньон</td>\n",
       "      <td>0</td>\n",
       "      <td>NaN</td>\n",
       "      <td>сделка с автомобилем</td>\n",
       "    </tr>\n",
       "    <tr>\n",
       "      <th>21495</th>\n",
       "      <td>1</td>\n",
       "      <td>NaN</td>\n",
       "      <td>50</td>\n",
       "      <td>среднее</td>\n",
       "      <td>1</td>\n",
       "      <td>гражданский брак</td>\n",
       "      <td>1</td>\n",
       "      <td>F</td>\n",
       "      <td>сотрудник</td>\n",
       "      <td>0</td>\n",
       "      <td>NaN</td>\n",
       "      <td>свадьба</td>\n",
       "    </tr>\n",
       "    <tr>\n",
       "      <th>21497</th>\n",
       "      <td>0</td>\n",
       "      <td>NaN</td>\n",
       "      <td>48</td>\n",
       "      <td>ВЫСШЕЕ</td>\n",
       "      <td>0</td>\n",
       "      <td>женат / замужем</td>\n",
       "      <td>0</td>\n",
       "      <td>F</td>\n",
       "      <td>компаньон</td>\n",
       "      <td>0</td>\n",
       "      <td>NaN</td>\n",
       "      <td>строительство недвижимости</td>\n",
       "    </tr>\n",
       "    <tr>\n",
       "      <th>21502</th>\n",
       "      <td>1</td>\n",
       "      <td>NaN</td>\n",
       "      <td>42</td>\n",
       "      <td>среднее</td>\n",
       "      <td>1</td>\n",
       "      <td>женат / замужем</td>\n",
       "      <td>0</td>\n",
       "      <td>F</td>\n",
       "      <td>сотрудник</td>\n",
       "      <td>0</td>\n",
       "      <td>NaN</td>\n",
       "      <td>строительство жилой недвижимости</td>\n",
       "    </tr>\n",
       "    <tr>\n",
       "      <th>21510</th>\n",
       "      <td>2</td>\n",
       "      <td>NaN</td>\n",
       "      <td>28</td>\n",
       "      <td>среднее</td>\n",
       "      <td>1</td>\n",
       "      <td>женат / замужем</td>\n",
       "      <td>0</td>\n",
       "      <td>F</td>\n",
       "      <td>сотрудник</td>\n",
       "      <td>0</td>\n",
       "      <td>NaN</td>\n",
       "      <td>приобретение автомобиля</td>\n",
       "    </tr>\n",
       "  </tbody>\n",
       "</table>\n",
       "<p>2174 rows × 12 columns</p>\n",
       "</div>"
      ],
      "text/plain": [
       "       children  days_employed  dob_years education  education_id  \\\n",
       "12            0            NaN         65   среднее             1   \n",
       "26            0            NaN         41   среднее             1   \n",
       "29            0            NaN         63   среднее             1   \n",
       "41            0            NaN         50   среднее             1   \n",
       "55            0            NaN         54   среднее             1   \n",
       "...         ...            ...        ...       ...           ...   \n",
       "21489         2            NaN         47   Среднее             1   \n",
       "21495         1            NaN         50   среднее             1   \n",
       "21497         0            NaN         48    ВЫСШЕЕ             0   \n",
       "21502         1            NaN         42   среднее             1   \n",
       "21510         2            NaN         28   среднее             1   \n",
       "\n",
       "               family_status  family_status_id gender  income_type  debt  \\\n",
       "12          гражданский брак                 1      M    пенсионер     0   \n",
       "26           женат / замужем                 0      M  госслужащий     0   \n",
       "29     Не женат / не замужем                 4      F    пенсионер     0   \n",
       "41           женат / замужем                 0      F  госслужащий     0   \n",
       "55          гражданский брак                 1      F    пенсионер     1   \n",
       "...                      ...               ...    ...          ...   ...   \n",
       "21489        женат / замужем                 0      M    компаньон     0   \n",
       "21495       гражданский брак                 1      F    сотрудник     0   \n",
       "21497        женат / замужем                 0      F    компаньон     0   \n",
       "21502        женат / замужем                 0      F    сотрудник     0   \n",
       "21510        женат / замужем                 0      F    сотрудник     0   \n",
       "\n",
       "       total_income                           purpose  \n",
       "12              NaN                   сыграть свадьбу  \n",
       "26              NaN                       образование  \n",
       "29              NaN  строительство жилой недвижимости  \n",
       "41              NaN  сделка с подержанным автомобилем  \n",
       "55              NaN                   сыграть свадьбу  \n",
       "...             ...                               ...  \n",
       "21489           NaN              сделка с автомобилем  \n",
       "21495           NaN                           свадьба  \n",
       "21497           NaN        строительство недвижимости  \n",
       "21502           NaN  строительство жилой недвижимости  \n",
       "21510           NaN           приобретение автомобиля  \n",
       "\n",
       "[2174 rows x 12 columns]"
      ]
     },
     "execution_count": 6,
     "metadata": {},
     "output_type": "execute_result"
    }
   ],
   "source": [
    "data[data.isna().any(axis=1)]"
   ]
  },
  {
   "cell_type": "markdown",
   "id": "8651960a",
   "metadata": {},
   "source": [
    "Проверим, какую долю составляют пропущенные значения в каждом из столбцов с пропусками. Поскольку количество пропусков в обоих столбцах одинаковое, то и доля пропусков также будет одинаковой. \n"
   ]
  },
  {
   "cell_type": "markdown",
   "id": "8ade08a8",
   "metadata": {},
   "source": [
    "Посчитаем долю пропусков для столбца `total_income`."
   ]
  },
  {
   "cell_type": "code",
   "execution_count": 7,
   "id": "3a33ce1d",
   "metadata": {},
   "outputs": [
    {
     "data": {
      "text/plain": [
       "'Доля пропусков: 10%'"
      ]
     },
     "execution_count": 7,
     "metadata": {},
     "output_type": "execute_result"
    }
   ],
   "source": [
    "'Доля пропусков: {:.0%}'.format(data['days_employed'].isna().mean())"
   ]
  },
  {
   "cell_type": "markdown",
   "id": "624977c7",
   "metadata": {},
   "source": [
    "Одной командой получим ответ сразу на два вопроса:\n",
    "1. есть ли аномалии в виде отрицательных значений в данном столбце?\n",
    "2. большой ли разброс значений?"
   ]
  },
  {
   "cell_type": "code",
   "execution_count": 8,
   "id": "e9d84dc5",
   "metadata": {},
   "outputs": [
    {
     "data": {
      "text/plain": [
       "count    1.935100e+04\n",
       "mean     1.674223e+05\n",
       "std      1.029716e+05\n",
       "min      2.066726e+04\n",
       "25%      1.030532e+05\n",
       "50%      1.450179e+05\n",
       "75%      2.034351e+05\n",
       "max      2.265604e+06\n",
       "Name: total_income, dtype: float64"
      ]
     },
     "execution_count": 8,
     "metadata": {},
     "output_type": "execute_result"
    }
   ],
   "source": [
    "data['total_income'].describe()"
   ]
  },
  {
   "cell_type": "markdown",
   "id": "2c971128",
   "metadata": {},
   "source": [
    "В столбце `total_income` аномалии не обнаружены. Но минимальное и максимальное значения в столбце отличаются на два порядка!"
   ]
  },
  {
   "cell_type": "markdown",
   "id": "4588efe4",
   "metadata": {},
   "source": [
    "**Вывод**\n",
    "\n",
    "Обнаруженные пропуски не похожи на простое нежелание респондента предоставить сведения, так как данные о ежемесячном доходе являются весьма важными сведениями для принятия решения банком о выдаче кредита. В обоих столбцах одинаковое количество пропусков и данные пропущены в одних и тех же строках, поэтому причинами пропусков могли стать:\n",
    "* технический сбой при выгрузке данных;\n",
    "* человеческий фактор.\n",
    "\n",
    "Доля пропусков в столбцах - 10%. Процент существенный и на практике было бы правильно установить причину пропусков у заказчика и корректно восстановить данные. Но в учебном проекте такой возможности нет. \n",
    "\n",
    "Возможные решения:\n",
    "1. пропущенные значения в столбце `total_income` - это количественные переменные и пропуски в них заполним характерными значениями. Наличие выдающихся значений (выбросов), говорит нам о том, что распределение признака не является нормальным, а значит заполнять пропуски средним арифметическим было бы некорректно, в то время как медиана к выбросам более устойчива. Так как в рамках учебной программы мы не обладаем знаниями более сложных подходов к обработке пропусков, заполним их медианой.\n",
    "2. значения в столбце `days_employed` будут разобраны ниже.\n"
   ]
  },
  {
   "cell_type": "markdown",
   "id": "4f7b0bdc",
   "metadata": {},
   "source": [
    "Найдем медиану и заменим ей все пустые значения в столбце `total_income`."
   ]
  },
  {
   "cell_type": "code",
   "execution_count": 9,
   "id": "852a347b",
   "metadata": {},
   "outputs": [],
   "source": [
    "total_income_median = data['total_income'].median()"
   ]
  },
  {
   "cell_type": "code",
   "execution_count": 10,
   "id": "f79d603b",
   "metadata": {},
   "outputs": [],
   "source": [
    "data['total_income'] = data['total_income'].fillna(value=total_income_median)"
   ]
  },
  {
   "cell_type": "markdown",
   "id": "29a53cc4",
   "metadata": {},
   "source": [
    "Проверим все ли пропуски были заменены. "
   ]
  },
  {
   "cell_type": "code",
   "execution_count": 11,
   "id": "bdc8fc57",
   "metadata": {},
   "outputs": [
    {
     "data": {
      "text/plain": [
       "0"
      ]
     },
     "execution_count": 11,
     "metadata": {},
     "output_type": "execute_result"
    }
   ],
   "source": [
    "data['total_income'].isna().sum()"
   ]
  },
  {
   "cell_type": "markdown",
   "id": "82c2425c",
   "metadata": {},
   "source": [
    "### Проверка данных на аномалии и исправления."
   ]
  },
  {
   "cell_type": "markdown",
   "id": "8316ffe1",
   "metadata": {},
   "source": [
    "#### Проверим на аномалии столбец `days_employed`."
   ]
  },
  {
   "cell_type": "markdown",
   "id": "e5ca7342",
   "metadata": {},
   "source": [
    "В столбце `days_employed` обнаружены не только пропуски, но и видны аномалии в виде отрицательных значений в трудовом стаже. Посмотрим основные статистические данные об этом столбце."
   ]
  },
  {
   "cell_type": "code",
   "execution_count": 12,
   "id": "75b14b26",
   "metadata": {},
   "outputs": [
    {
     "data": {
      "text/plain": [
       "count     19351.000000\n",
       "mean      63046.497661\n",
       "std      140827.311974\n",
       "min      -18388.949901\n",
       "25%       -2747.423625\n",
       "50%       -1203.369529\n",
       "75%        -291.095954\n",
       "max      401755.400475\n",
       "Name: days_employed, dtype: float64"
      ]
     },
     "execution_count": 12,
     "metadata": {},
     "output_type": "execute_result"
    }
   ],
   "source": [
    "data['days_employed'].describe()"
   ]
  },
  {
   "cell_type": "markdown",
   "id": "8c15586c",
   "metadata": {},
   "source": [
    "Посчитаем долю отрицательных значений от общего числа заполненных."
   ]
  },
  {
   "cell_type": "code",
   "execution_count": 13,
   "id": "8346e2c7",
   "metadata": {},
   "outputs": [],
   "source": [
    "negative_days = data[data['days_employed'] < 0]"
   ]
  },
  {
   "cell_type": "code",
   "execution_count": 14,
   "id": "1abe2351",
   "metadata": {},
   "outputs": [
    {
     "data": {
      "text/plain": [
       "'Доля отрицательных значений: 82%'"
      ]
     },
     "execution_count": 14,
     "metadata": {},
     "output_type": "execute_result"
    }
   ],
   "source": [
    "'Доля отрицательных значений: {:.0%}'.format(negative_days['days_employed'].count() / data['days_employed'].count())\n"
   ]
  },
  {
   "cell_type": "markdown",
   "id": "b3b44fdb",
   "metadata": {},
   "source": [
    "Итак, столбец `days_employed` содержит следующие проблемы данных:\n",
    "1. пропуски;\n",
    "2. аномалии - отрицательные значения;\n",
    "3. некорректный тип данных: вещественный вместо целочисленного;\n",
    "4. некорректные значения: минимальный стаж - 18388 дней (50 лет), максимальный стаж - 401755 дней (1100 лет)\n",
    "\n",
    "В рамках учебного проекта установить у заказчика причину возникновения некорректных данных невозможно. Поэтому можно только  предположить, что ошибки были допущены вследствие:\n",
    "* человеческого фактора:\n",
    "     - возможно, в трудовом стаже стояло тире перед значением, которое при выгрузке стало минусом,\n",
    "     - возможно, раньше данные хранились в другом формате и при переносе в новую базу данных это не учли,\n",
    "     - возможно, значения трудового стажа были указаны в трудочасах, а не трудоднях.\n",
    "* технический сбой при выгрузке данных.\n",
    "\n",
    "Поскольку данные этого столбца не влияют на наше дальнейшее исследование, то пока уберем только минус перед значениями.\n"
   ]
  },
  {
   "cell_type": "markdown",
   "id": "202d0cf3",
   "metadata": {},
   "source": [
    "Изменим значения в столбце `days_employed` на положительные. "
   ]
  },
  {
   "cell_type": "code",
   "execution_count": 15,
   "id": "b3a6f04f",
   "metadata": {},
   "outputs": [],
   "source": [
    "data['days_employed'] = data['days_employed'].abs()"
   ]
  },
  {
   "cell_type": "markdown",
   "id": "c4ea3a3a",
   "metadata": {},
   "source": [
    "Проверим все ли значения стали положительными."
   ]
  },
  {
   "cell_type": "code",
   "execution_count": 16,
   "id": "b1227520",
   "metadata": {},
   "outputs": [
    {
     "data": {
      "text/plain": [
       "0"
      ]
     },
     "execution_count": 16,
     "metadata": {},
     "output_type": "execute_result"
    }
   ],
   "source": [
    "data[data['days_employed'] < 0]['days_employed'].count()"
   ]
  },
  {
   "cell_type": "markdown",
   "id": "dcbfaf40",
   "metadata": {},
   "source": [
    "#### Проверим на аномалии столбец `children`."
   ]
  },
  {
   "cell_type": "code",
   "execution_count": 17,
   "id": "0713a500",
   "metadata": {},
   "outputs": [
    {
     "data": {
      "text/plain": [
       "array([-1,  0,  1,  2,  3,  4,  5, 20])"
      ]
     },
     "execution_count": 17,
     "metadata": {},
     "output_type": "execute_result"
    }
   ],
   "source": [
    "data['children'].sort_values().unique()"
   ]
  },
  {
   "cell_type": "markdown",
   "id": "a7e96a67",
   "metadata": {},
   "source": [
    "В столбце `children` проявились неожиданные аномалии в виде отрицательного значения и выдающегося - 20 детей. "
   ]
  },
  {
   "cell_type": "markdown",
   "id": "98314f41",
   "metadata": {},
   "source": [
    "Посмотрим статистику по количеству заемщиков с разным количеством детей."
   ]
  },
  {
   "cell_type": "code",
   "execution_count": 18,
   "id": "42616c6b",
   "metadata": {},
   "outputs": [
    {
     "data": {
      "text/plain": [
       " 0     14149\n",
       " 1      4818\n",
       " 2      2055\n",
       " 3       330\n",
       " 20       76\n",
       "-1        47\n",
       " 4        41\n",
       " 5         9\n",
       "Name: children, dtype: int64"
      ]
     },
     "execution_count": 18,
     "metadata": {},
     "output_type": "execute_result"
    }
   ],
   "source": [
    "data['children'].value_counts() "
   ]
  },
  {
   "cell_type": "markdown",
   "id": "878705e3",
   "metadata": {},
   "source": [
    "По данным у 76 заемщиков в семье 20 детей. Выведем первые 10 строк на экран с данными о заемщиках с 20 детьми и проанализируем этот выброс."
   ]
  },
  {
   "cell_type": "code",
   "execution_count": 19,
   "id": "ef757e6b",
   "metadata": {},
   "outputs": [
    {
     "data": {
      "text/html": [
       "<div>\n",
       "<style scoped>\n",
       "    .dataframe tbody tr th:only-of-type {\n",
       "        vertical-align: middle;\n",
       "    }\n",
       "\n",
       "    .dataframe tbody tr th {\n",
       "        vertical-align: top;\n",
       "    }\n",
       "\n",
       "    .dataframe thead th {\n",
       "        text-align: right;\n",
       "    }\n",
       "</style>\n",
       "<table border=\"1\" class=\"dataframe\">\n",
       "  <thead>\n",
       "    <tr style=\"text-align: right;\">\n",
       "      <th></th>\n",
       "      <th>children</th>\n",
       "      <th>days_employed</th>\n",
       "      <th>dob_years</th>\n",
       "      <th>education</th>\n",
       "      <th>education_id</th>\n",
       "      <th>family_status</th>\n",
       "      <th>family_status_id</th>\n",
       "      <th>gender</th>\n",
       "      <th>income_type</th>\n",
       "      <th>debt</th>\n",
       "      <th>total_income</th>\n",
       "      <th>purpose</th>\n",
       "    </tr>\n",
       "  </thead>\n",
       "  <tbody>\n",
       "    <tr>\n",
       "      <th>606</th>\n",
       "      <td>20</td>\n",
       "      <td>880.221113</td>\n",
       "      <td>21</td>\n",
       "      <td>среднее</td>\n",
       "      <td>1</td>\n",
       "      <td>женат / замужем</td>\n",
       "      <td>0</td>\n",
       "      <td>M</td>\n",
       "      <td>компаньон</td>\n",
       "      <td>0</td>\n",
       "      <td>145334.865002</td>\n",
       "      <td>покупка жилья</td>\n",
       "    </tr>\n",
       "    <tr>\n",
       "      <th>720</th>\n",
       "      <td>20</td>\n",
       "      <td>855.595512</td>\n",
       "      <td>44</td>\n",
       "      <td>среднее</td>\n",
       "      <td>1</td>\n",
       "      <td>женат / замужем</td>\n",
       "      <td>0</td>\n",
       "      <td>F</td>\n",
       "      <td>компаньон</td>\n",
       "      <td>0</td>\n",
       "      <td>112998.738649</td>\n",
       "      <td>покупка недвижимости</td>\n",
       "    </tr>\n",
       "    <tr>\n",
       "      <th>1074</th>\n",
       "      <td>20</td>\n",
       "      <td>3310.411598</td>\n",
       "      <td>56</td>\n",
       "      <td>среднее</td>\n",
       "      <td>1</td>\n",
       "      <td>женат / замужем</td>\n",
       "      <td>0</td>\n",
       "      <td>F</td>\n",
       "      <td>сотрудник</td>\n",
       "      <td>1</td>\n",
       "      <td>229518.537004</td>\n",
       "      <td>получение образования</td>\n",
       "    </tr>\n",
       "    <tr>\n",
       "      <th>2510</th>\n",
       "      <td>20</td>\n",
       "      <td>2714.161249</td>\n",
       "      <td>59</td>\n",
       "      <td>высшее</td>\n",
       "      <td>0</td>\n",
       "      <td>вдовец / вдова</td>\n",
       "      <td>2</td>\n",
       "      <td>F</td>\n",
       "      <td>сотрудник</td>\n",
       "      <td>0</td>\n",
       "      <td>264474.835577</td>\n",
       "      <td>операции с коммерческой недвижимостью</td>\n",
       "    </tr>\n",
       "    <tr>\n",
       "      <th>2941</th>\n",
       "      <td>20</td>\n",
       "      <td>2161.591519</td>\n",
       "      <td>0</td>\n",
       "      <td>среднее</td>\n",
       "      <td>1</td>\n",
       "      <td>женат / замужем</td>\n",
       "      <td>0</td>\n",
       "      <td>F</td>\n",
       "      <td>сотрудник</td>\n",
       "      <td>0</td>\n",
       "      <td>199739.941398</td>\n",
       "      <td>на покупку автомобиля</td>\n",
       "    </tr>\n",
       "    <tr>\n",
       "      <th>3302</th>\n",
       "      <td>20</td>\n",
       "      <td>NaN</td>\n",
       "      <td>35</td>\n",
       "      <td>среднее</td>\n",
       "      <td>1</td>\n",
       "      <td>Не женат / не замужем</td>\n",
       "      <td>4</td>\n",
       "      <td>F</td>\n",
       "      <td>госслужащий</td>\n",
       "      <td>0</td>\n",
       "      <td>145017.937533</td>\n",
       "      <td>профильное образование</td>\n",
       "    </tr>\n",
       "    <tr>\n",
       "      <th>3396</th>\n",
       "      <td>20</td>\n",
       "      <td>NaN</td>\n",
       "      <td>56</td>\n",
       "      <td>высшее</td>\n",
       "      <td>0</td>\n",
       "      <td>женат / замужем</td>\n",
       "      <td>0</td>\n",
       "      <td>F</td>\n",
       "      <td>компаньон</td>\n",
       "      <td>0</td>\n",
       "      <td>145017.937533</td>\n",
       "      <td>высшее образование</td>\n",
       "    </tr>\n",
       "    <tr>\n",
       "      <th>3671</th>\n",
       "      <td>20</td>\n",
       "      <td>913.161503</td>\n",
       "      <td>23</td>\n",
       "      <td>среднее</td>\n",
       "      <td>1</td>\n",
       "      <td>Не женат / не замужем</td>\n",
       "      <td>4</td>\n",
       "      <td>F</td>\n",
       "      <td>сотрудник</td>\n",
       "      <td>0</td>\n",
       "      <td>101255.492076</td>\n",
       "      <td>на покупку подержанного автомобиля</td>\n",
       "    </tr>\n",
       "    <tr>\n",
       "      <th>3697</th>\n",
       "      <td>20</td>\n",
       "      <td>2907.910616</td>\n",
       "      <td>40</td>\n",
       "      <td>среднее</td>\n",
       "      <td>1</td>\n",
       "      <td>гражданский брак</td>\n",
       "      <td>1</td>\n",
       "      <td>M</td>\n",
       "      <td>сотрудник</td>\n",
       "      <td>0</td>\n",
       "      <td>115380.694664</td>\n",
       "      <td>на покупку подержанного автомобиля</td>\n",
       "    </tr>\n",
       "    <tr>\n",
       "      <th>3735</th>\n",
       "      <td>20</td>\n",
       "      <td>805.044438</td>\n",
       "      <td>26</td>\n",
       "      <td>высшее</td>\n",
       "      <td>0</td>\n",
       "      <td>Не женат / не замужем</td>\n",
       "      <td>4</td>\n",
       "      <td>M</td>\n",
       "      <td>сотрудник</td>\n",
       "      <td>0</td>\n",
       "      <td>137200.646181</td>\n",
       "      <td>ремонт жилью</td>\n",
       "    </tr>\n",
       "  </tbody>\n",
       "</table>\n",
       "</div>"
      ],
      "text/plain": [
       "      children  days_employed  dob_years education  education_id  \\\n",
       "606         20     880.221113         21   среднее             1   \n",
       "720         20     855.595512         44   среднее             1   \n",
       "1074        20    3310.411598         56   среднее             1   \n",
       "2510        20    2714.161249         59    высшее             0   \n",
       "2941        20    2161.591519          0   среднее             1   \n",
       "3302        20            NaN         35   среднее             1   \n",
       "3396        20            NaN         56    высшее             0   \n",
       "3671        20     913.161503         23   среднее             1   \n",
       "3697        20    2907.910616         40   среднее             1   \n",
       "3735        20     805.044438         26    высшее             0   \n",
       "\n",
       "              family_status  family_status_id gender  income_type  debt  \\\n",
       "606         женат / замужем                 0      M    компаньон     0   \n",
       "720         женат / замужем                 0      F    компаньон     0   \n",
       "1074        женат / замужем                 0      F    сотрудник     1   \n",
       "2510         вдовец / вдова                 2      F    сотрудник     0   \n",
       "2941        женат / замужем                 0      F    сотрудник     0   \n",
       "3302  Не женат / не замужем                 4      F  госслужащий     0   \n",
       "3396        женат / замужем                 0      F    компаньон     0   \n",
       "3671  Не женат / не замужем                 4      F    сотрудник     0   \n",
       "3697       гражданский брак                 1      M    сотрудник     0   \n",
       "3735  Не женат / не замужем                 4      M    сотрудник     0   \n",
       "\n",
       "       total_income                                purpose  \n",
       "606   145334.865002                          покупка жилья  \n",
       "720   112998.738649                   покупка недвижимости  \n",
       "1074  229518.537004                  получение образования  \n",
       "2510  264474.835577  операции с коммерческой недвижимостью  \n",
       "2941  199739.941398                  на покупку автомобиля  \n",
       "3302  145017.937533                 профильное образование  \n",
       "3396  145017.937533                     высшее образование  \n",
       "3671  101255.492076     на покупку подержанного автомобиля  \n",
       "3697  115380.694664     на покупку подержанного автомобиля  \n",
       "3735  137200.646181                           ремонт жилью  "
      ]
     },
     "execution_count": 19,
     "metadata": {},
     "output_type": "execute_result"
    }
   ],
   "source": [
    "data[data['children'] == 20].head(10)"
   ]
  },
  {
   "cell_type": "markdown",
   "id": "536109fc",
   "metadata": {},
   "source": [
    "Посмотрим какое количество респондентов младце 40 лет имеет 20 детей."
   ]
  },
  {
   "cell_type": "code",
   "execution_count": 20,
   "id": "130f0c4c",
   "metadata": {},
   "outputs": [
    {
     "data": {
      "text/plain": [
       "32"
      ]
     },
     "execution_count": 20,
     "metadata": {},
     "output_type": "execute_result"
    }
   ],
   "source": [
    "dob_under40 = data[data['children'] == 20]\n",
    "dob_under40 = dob_under40[dob_under40['dob_years'] < 40]['dob_years'].count()\n",
    "dob_under40"
   ]
  },
  {
   "cell_type": "markdown",
   "id": "a0b89848",
   "metadata": {},
   "source": [
    "**Вывод**\n",
    "\n",
    "Очевидно, что у заемщика в возрасте от 20 до 40 лет никак не может быть такое количество детей. Большой процент таких заемщиков дает основание предполагать, что в данные ошибочно был приписан ноль. К тому же в России зарегистрирована только одна семья с таким количеством детей - Семья Шишкиных из Воронежской области. \n",
    "Предположительно и минус в значениях стал следствием человеческой ошибки или сбоя выгрузки данных (возможно это было тире).\n",
    "\n",
    "Исходя из полученной информации данные откорректируем следующим образом:\n",
    "- значение '20'заменим на '2',\n",
    "- значение '-1' заменим на '1'."
   ]
  },
  {
   "cell_type": "code",
   "execution_count": 21,
   "id": "0f3d089d",
   "metadata": {},
   "outputs": [],
   "source": [
    "data['children'] = data['children'].replace({20 : 2, -1 : 1})"
   ]
  },
  {
   "cell_type": "markdown",
   "id": "d3eab230",
   "metadata": {},
   "source": [
    "Проверим остались ли аномалии в столбце."
   ]
  },
  {
   "cell_type": "code",
   "execution_count": 22,
   "id": "eaa4f428",
   "metadata": {},
   "outputs": [
    {
     "data": {
      "text/plain": [
       "0    14149\n",
       "1     4865\n",
       "2     2131\n",
       "3      330\n",
       "4       41\n",
       "5        9\n",
       "Name: children, dtype: int64"
      ]
     },
     "execution_count": 22,
     "metadata": {},
     "output_type": "execute_result"
    }
   ],
   "source": [
    "data['children'].value_counts() "
   ]
  },
  {
   "cell_type": "markdown",
   "id": "6b2dbcb4",
   "metadata": {},
   "source": [
    "### Изменение типов данных."
   ]
  },
  {
   "cell_type": "markdown",
   "id": "765c0d20",
   "metadata": {},
   "source": [
    "В столбцe `total_income` вещественный тип данных заменим на целочисленный, так как:\n",
    " - доходы обычно округляются до целых чисел, дробная часть малоинтересна,\n",
    " - это позволит оптимизировать размер датасета."
   ]
  },
  {
   "cell_type": "code",
   "execution_count": 23,
   "id": "1a6bc662",
   "metadata": {},
   "outputs": [],
   "source": [
    "data['total_income'] = data['total_income'].astype('int')"
   ]
  },
  {
   "cell_type": "markdown",
   "id": "820e3280",
   "metadata": {},
   "source": [
    "Проверим, все ли значения приведены к единому типу данных `int` и как этот столбец выглядит после измений, выведем первые 5 строк."
   ]
  },
  {
   "cell_type": "code",
   "execution_count": 24,
   "id": "c88f4864",
   "metadata": {},
   "outputs": [
    {
     "data": {
      "text/plain": [
       "dtype('int64')"
      ]
     },
     "execution_count": 24,
     "metadata": {},
     "output_type": "execute_result"
    }
   ],
   "source": [
    "data['total_income'].dtypes"
   ]
  },
  {
   "cell_type": "code",
   "execution_count": 25,
   "id": "b05c63d2",
   "metadata": {},
   "outputs": [
    {
     "data": {
      "text/html": [
       "<div>\n",
       "<style scoped>\n",
       "    .dataframe tbody tr th:only-of-type {\n",
       "        vertical-align: middle;\n",
       "    }\n",
       "\n",
       "    .dataframe tbody tr th {\n",
       "        vertical-align: top;\n",
       "    }\n",
       "\n",
       "    .dataframe thead th {\n",
       "        text-align: right;\n",
       "    }\n",
       "</style>\n",
       "<table border=\"1\" class=\"dataframe\">\n",
       "  <thead>\n",
       "    <tr style=\"text-align: right;\">\n",
       "      <th></th>\n",
       "      <th>children</th>\n",
       "      <th>days_employed</th>\n",
       "      <th>dob_years</th>\n",
       "      <th>education</th>\n",
       "      <th>education_id</th>\n",
       "      <th>family_status</th>\n",
       "      <th>family_status_id</th>\n",
       "      <th>gender</th>\n",
       "      <th>income_type</th>\n",
       "      <th>debt</th>\n",
       "      <th>total_income</th>\n",
       "      <th>purpose</th>\n",
       "    </tr>\n",
       "  </thead>\n",
       "  <tbody>\n",
       "    <tr>\n",
       "      <th>0</th>\n",
       "      <td>1</td>\n",
       "      <td>8437.673028</td>\n",
       "      <td>42</td>\n",
       "      <td>высшее</td>\n",
       "      <td>0</td>\n",
       "      <td>женат / замужем</td>\n",
       "      <td>0</td>\n",
       "      <td>F</td>\n",
       "      <td>сотрудник</td>\n",
       "      <td>0</td>\n",
       "      <td>253875</td>\n",
       "      <td>покупка жилья</td>\n",
       "    </tr>\n",
       "    <tr>\n",
       "      <th>1</th>\n",
       "      <td>1</td>\n",
       "      <td>4024.803754</td>\n",
       "      <td>36</td>\n",
       "      <td>среднее</td>\n",
       "      <td>1</td>\n",
       "      <td>женат / замужем</td>\n",
       "      <td>0</td>\n",
       "      <td>F</td>\n",
       "      <td>сотрудник</td>\n",
       "      <td>0</td>\n",
       "      <td>112080</td>\n",
       "      <td>приобретение автомобиля</td>\n",
       "    </tr>\n",
       "    <tr>\n",
       "      <th>2</th>\n",
       "      <td>0</td>\n",
       "      <td>5623.422610</td>\n",
       "      <td>33</td>\n",
       "      <td>Среднее</td>\n",
       "      <td>1</td>\n",
       "      <td>женат / замужем</td>\n",
       "      <td>0</td>\n",
       "      <td>M</td>\n",
       "      <td>сотрудник</td>\n",
       "      <td>0</td>\n",
       "      <td>145885</td>\n",
       "      <td>покупка жилья</td>\n",
       "    </tr>\n",
       "    <tr>\n",
       "      <th>3</th>\n",
       "      <td>3</td>\n",
       "      <td>4124.747207</td>\n",
       "      <td>32</td>\n",
       "      <td>среднее</td>\n",
       "      <td>1</td>\n",
       "      <td>женат / замужем</td>\n",
       "      <td>0</td>\n",
       "      <td>M</td>\n",
       "      <td>сотрудник</td>\n",
       "      <td>0</td>\n",
       "      <td>267628</td>\n",
       "      <td>дополнительное образование</td>\n",
       "    </tr>\n",
       "    <tr>\n",
       "      <th>4</th>\n",
       "      <td>0</td>\n",
       "      <td>340266.072047</td>\n",
       "      <td>53</td>\n",
       "      <td>среднее</td>\n",
       "      <td>1</td>\n",
       "      <td>гражданский брак</td>\n",
       "      <td>1</td>\n",
       "      <td>F</td>\n",
       "      <td>пенсионер</td>\n",
       "      <td>0</td>\n",
       "      <td>158616</td>\n",
       "      <td>сыграть свадьбу</td>\n",
       "    </tr>\n",
       "  </tbody>\n",
       "</table>\n",
       "</div>"
      ],
      "text/plain": [
       "   children  days_employed  dob_years education  education_id  \\\n",
       "0         1    8437.673028         42    высшее             0   \n",
       "1         1    4024.803754         36   среднее             1   \n",
       "2         0    5623.422610         33   Среднее             1   \n",
       "3         3    4124.747207         32   среднее             1   \n",
       "4         0  340266.072047         53   среднее             1   \n",
       "\n",
       "      family_status  family_status_id gender income_type  debt  total_income  \\\n",
       "0   женат / замужем                 0      F   сотрудник     0        253875   \n",
       "1   женат / замужем                 0      F   сотрудник     0        112080   \n",
       "2   женат / замужем                 0      M   сотрудник     0        145885   \n",
       "3   женат / замужем                 0      M   сотрудник     0        267628   \n",
       "4  гражданский брак                 1      F   пенсионер     0        158616   \n",
       "\n",
       "                      purpose  \n",
       "0               покупка жилья  \n",
       "1     приобретение автомобиля  \n",
       "2               покупка жилья  \n",
       "3  дополнительное образование  \n",
       "4             сыграть свадьбу  "
      ]
     },
     "execution_count": 25,
     "metadata": {},
     "output_type": "execute_result"
    }
   ],
   "source": [
    "data.head()"
   ]
  },
  {
   "cell_type": "markdown",
   "id": "e16a272a",
   "metadata": {},
   "source": [
    "### Удаление дубликатов."
   ]
  },
  {
   "cell_type": "markdown",
   "id": "79fd7134",
   "metadata": {},
   "source": [
    "Проверим данные на явные и неявные дубликаты."
   ]
  },
  {
   "cell_type": "markdown",
   "id": "938f13cc",
   "metadata": {},
   "source": [
    "1. Найдем общее количество явных дубликатов в датасете, удалим их и обновим индексацию."
   ]
  },
  {
   "cell_type": "code",
   "execution_count": 26,
   "id": "c6f824ea",
   "metadata": {},
   "outputs": [
    {
     "data": {
      "text/plain": [
       "54"
      ]
     },
     "execution_count": 26,
     "metadata": {},
     "output_type": "execute_result"
    }
   ],
   "source": [
    "data.duplicated().sum()"
   ]
  },
  {
   "cell_type": "code",
   "execution_count": 27,
   "id": "53206bea",
   "metadata": {},
   "outputs": [],
   "source": [
    "data = data.drop_duplicates().reset_index(drop=True)"
   ]
  },
  {
   "cell_type": "markdown",
   "id": "476d1074",
   "metadata": {},
   "source": [
    "Проверим, все ли дубликаты удалены. В датасете было 21525 строк. После удаления 54 строк должно остаться 21471 строка."
   ]
  },
  {
   "cell_type": "code",
   "execution_count": 28,
   "id": "ad84aa28",
   "metadata": {
    "scrolled": true
   },
   "outputs": [
    {
     "data": {
      "text/plain": [
       "(21471, 12)"
      ]
     },
     "execution_count": 28,
     "metadata": {},
     "output_type": "execute_result"
    }
   ],
   "source": [
    "data.shape"
   ]
  },
  {
   "cell_type": "markdown",
   "id": "cbe7a1d6",
   "metadata": {},
   "source": [
    "2. Найдем неявные дубликаты. "
   ]
  },
  {
   "cell_type": "markdown",
   "id": "8486a881",
   "metadata": {},
   "source": [
    "Воспользуемся сочетанием методов `sort_values` и `unique` для нахождения неявных дубликатов во всех столбцах. В исследовании оставим только те столбцы, в которых такие дубликаты обнаружены."
   ]
  },
  {
   "cell_type": "code",
   "execution_count": 29,
   "id": "22403f87",
   "metadata": {},
   "outputs": [
    {
     "data": {
      "text/plain": [
       "array(['ВЫСШЕЕ', 'Высшее', 'НАЧАЛЬНОЕ', 'НЕОКОНЧЕННОЕ ВЫСШЕЕ',\n",
       "       'Начальное', 'Неоконченное высшее', 'СРЕДНЕЕ', 'Среднее',\n",
       "       'УЧЕНАЯ СТЕПЕНЬ', 'Ученая степень', 'высшее', 'начальное',\n",
       "       'неоконченное высшее', 'среднее', 'ученая степень'], dtype=object)"
      ]
     },
     "execution_count": 29,
     "metadata": {},
     "output_type": "execute_result"
    }
   ],
   "source": [
    "data['education'].sort_values().unique()"
   ]
  },
  {
   "cell_type": "code",
   "execution_count": 30,
   "id": "a55f7310",
   "metadata": {},
   "outputs": [
    {
     "data": {
      "text/plain": [
       "array(['F', 'M', 'XNA'], dtype=object)"
      ]
     },
     "execution_count": 30,
     "metadata": {},
     "output_type": "execute_result"
    }
   ],
   "source": [
    "data['gender'].sort_values().unique()"
   ]
  },
  {
   "cell_type": "markdown",
   "id": "977a5f6a",
   "metadata": {},
   "source": [
    "Решим проблему с обнаруженными неявными дубликатами в данных."
   ]
  },
  {
   "cell_type": "markdown",
   "id": "4e9558f0",
   "metadata": {},
   "source": [
    "* В столбце `education` приведем все значения к нижнему регистру."
   ]
  },
  {
   "cell_type": "code",
   "execution_count": 31,
   "id": "b62e2dc8",
   "metadata": {},
   "outputs": [],
   "source": [
    "data['education'] = data['education'].str.lower()"
   ]
  },
  {
   "cell_type": "markdown",
   "id": "1f27e79a",
   "metadata": {},
   "source": [
    "Проверим результат наших изменений."
   ]
  },
  {
   "cell_type": "code",
   "execution_count": 32,
   "id": "7b50aed5",
   "metadata": {},
   "outputs": [
    {
     "data": {
      "text/plain": [
       "array(['высшее', 'начальное', 'неоконченное высшее', 'среднее',\n",
       "       'ученая степень'], dtype=object)"
      ]
     },
     "execution_count": 32,
     "metadata": {},
     "output_type": "execute_result"
    }
   ],
   "source": [
    "data['education'].sort_values().unique()"
   ]
  },
  {
   "cell_type": "markdown",
   "id": "5cce1b25",
   "metadata": {},
   "source": [
    "* В столбце `gender` была обнаружена одна строка с указанием пола 'XNA'. Поскольку пол не влияет на наше исследование, а по другим характеристикам достоверно установить пол не представляется возможным, оставим эту ячейку без изменений."
   ]
  },
  {
   "cell_type": "code",
   "execution_count": 33,
   "id": "7b80677e",
   "metadata": {
    "scrolled": true
   },
   "outputs": [
    {
     "data": {
      "text/html": [
       "<div>\n",
       "<style scoped>\n",
       "    .dataframe tbody tr th:only-of-type {\n",
       "        vertical-align: middle;\n",
       "    }\n",
       "\n",
       "    .dataframe tbody tr th {\n",
       "        vertical-align: top;\n",
       "    }\n",
       "\n",
       "    .dataframe thead th {\n",
       "        text-align: right;\n",
       "    }\n",
       "</style>\n",
       "<table border=\"1\" class=\"dataframe\">\n",
       "  <thead>\n",
       "    <tr style=\"text-align: right;\">\n",
       "      <th></th>\n",
       "      <th>children</th>\n",
       "      <th>days_employed</th>\n",
       "      <th>dob_years</th>\n",
       "      <th>education</th>\n",
       "      <th>education_id</th>\n",
       "      <th>family_status</th>\n",
       "      <th>family_status_id</th>\n",
       "      <th>gender</th>\n",
       "      <th>income_type</th>\n",
       "      <th>debt</th>\n",
       "      <th>total_income</th>\n",
       "      <th>purpose</th>\n",
       "    </tr>\n",
       "  </thead>\n",
       "  <tbody>\n",
       "    <tr>\n",
       "      <th>10690</th>\n",
       "      <td>0</td>\n",
       "      <td>2358.600502</td>\n",
       "      <td>24</td>\n",
       "      <td>неоконченное высшее</td>\n",
       "      <td>2</td>\n",
       "      <td>гражданский брак</td>\n",
       "      <td>1</td>\n",
       "      <td>XNA</td>\n",
       "      <td>компаньон</td>\n",
       "      <td>0</td>\n",
       "      <td>203905</td>\n",
       "      <td>покупка недвижимости</td>\n",
       "    </tr>\n",
       "  </tbody>\n",
       "</table>\n",
       "</div>"
      ],
      "text/plain": [
       "       children  days_employed  dob_years            education  education_id  \\\n",
       "10690         0    2358.600502         24  неоконченное высшее             2   \n",
       "\n",
       "          family_status  family_status_id gender income_type  debt  \\\n",
       "10690  гражданский брак                 1    XNA   компаньон     0   \n",
       "\n",
       "       total_income               purpose  \n",
       "10690        203905  покупка недвижимости  "
      ]
     },
     "execution_count": 33,
     "metadata": {},
     "output_type": "execute_result"
    }
   ],
   "source": [
    "data[data['gender'] == 'XNA']"
   ]
  },
  {
   "cell_type": "markdown",
   "id": "45569c44",
   "metadata": {},
   "source": [
    "### Формирование дополнительных датафреймов словарей, декомпозиция исходного датафрейма.\n"
   ]
  },
  {
   "cell_type": "markdown",
   "id": "3ec3f249",
   "metadata": {},
   "source": [
    "Чтобы разгрузить исходный датафрейм и облегчить его визуальное восприятие и скорость обработки создадим два новых датафрейма со столбцами, содержащими строковые значения:\n",
    "* `education_id` и `education`\n",
    "* `family_status_id` и `family_status`\n",
    "\n",
    "Получив отдельные датасеты с идентификаторами, удалим столбы `education` и  `family_status` из исходной датафрейма.\n"
   ]
  },
  {
   "cell_type": "markdown",
   "id": "58adf5fb",
   "metadata": {},
   "source": [
    "Создадим новые датасеты с идентификаторами."
   ]
  },
  {
   "cell_type": "code",
   "execution_count": 34,
   "id": "57393bd2",
   "metadata": {},
   "outputs": [],
   "source": [
    "data_education_id = data[['education', 'education_id']]"
   ]
  },
  {
   "cell_type": "code",
   "execution_count": 35,
   "id": "970d6767",
   "metadata": {},
   "outputs": [],
   "source": [
    "data_family_status_id = data[['family_status_id', 'family_status']]"
   ]
  },
  {
   "cell_type": "markdown",
   "id": "762ff2aa",
   "metadata": {},
   "source": [
    "Удалим дубликаты и получим два словаря-идентификатора:\n",
    "1. уровень образования,\n",
    "2. семейный статус."
   ]
  },
  {
   "cell_type": "code",
   "execution_count": 36,
   "id": "87230ede",
   "metadata": {},
   "outputs": [],
   "source": [
    "data_education_id = data_education_id.drop_duplicates().reset_index(drop=True)"
   ]
  },
  {
   "cell_type": "code",
   "execution_count": 37,
   "id": "03d95416",
   "metadata": {},
   "outputs": [],
   "source": [
    "data_family_status_id = data_family_status_id.drop_duplicates().reset_index(drop=True)"
   ]
  },
  {
   "cell_type": "markdown",
   "id": "9c0dcd44",
   "metadata": {},
   "source": [
    "Выведем словари-идентификаторы на экран.  <a id='soffee'></a>"
   ]
  },
  {
   "cell_type": "code",
   "execution_count": 38,
   "id": "3c671d52",
   "metadata": {},
   "outputs": [
    {
     "data": {
      "text/html": [
       "<div>\n",
       "<style scoped>\n",
       "    .dataframe tbody tr th:only-of-type {\n",
       "        vertical-align: middle;\n",
       "    }\n",
       "\n",
       "    .dataframe tbody tr th {\n",
       "        vertical-align: top;\n",
       "    }\n",
       "\n",
       "    .dataframe thead th {\n",
       "        text-align: right;\n",
       "    }\n",
       "</style>\n",
       "<table border=\"1\" class=\"dataframe\">\n",
       "  <thead>\n",
       "    <tr style=\"text-align: right;\">\n",
       "      <th></th>\n",
       "      <th>education</th>\n",
       "      <th>education_id</th>\n",
       "    </tr>\n",
       "  </thead>\n",
       "  <tbody>\n",
       "    <tr>\n",
       "      <th>0</th>\n",
       "      <td>высшее</td>\n",
       "      <td>0</td>\n",
       "    </tr>\n",
       "    <tr>\n",
       "      <th>1</th>\n",
       "      <td>среднее</td>\n",
       "      <td>1</td>\n",
       "    </tr>\n",
       "    <tr>\n",
       "      <th>2</th>\n",
       "      <td>неоконченное высшее</td>\n",
       "      <td>2</td>\n",
       "    </tr>\n",
       "    <tr>\n",
       "      <th>3</th>\n",
       "      <td>начальное</td>\n",
       "      <td>3</td>\n",
       "    </tr>\n",
       "    <tr>\n",
       "      <th>4</th>\n",
       "      <td>ученая степень</td>\n",
       "      <td>4</td>\n",
       "    </tr>\n",
       "  </tbody>\n",
       "</table>\n",
       "</div>"
      ],
      "text/plain": [
       "             education  education_id\n",
       "0               высшее             0\n",
       "1              среднее             1\n",
       "2  неоконченное высшее             2\n",
       "3            начальное             3\n",
       "4       ученая степень             4"
      ]
     },
     "execution_count": 38,
     "metadata": {},
     "output_type": "execute_result"
    }
   ],
   "source": [
    "data_education_id"
   ]
  },
  {
   "cell_type": "code",
   "execution_count": 39,
   "id": "317f6f99",
   "metadata": {},
   "outputs": [
    {
     "data": {
      "text/html": [
       "<div>\n",
       "<style scoped>\n",
       "    .dataframe tbody tr th:only-of-type {\n",
       "        vertical-align: middle;\n",
       "    }\n",
       "\n",
       "    .dataframe tbody tr th {\n",
       "        vertical-align: top;\n",
       "    }\n",
       "\n",
       "    .dataframe thead th {\n",
       "        text-align: right;\n",
       "    }\n",
       "</style>\n",
       "<table border=\"1\" class=\"dataframe\">\n",
       "  <thead>\n",
       "    <tr style=\"text-align: right;\">\n",
       "      <th></th>\n",
       "      <th>family_status_id</th>\n",
       "      <th>family_status</th>\n",
       "    </tr>\n",
       "  </thead>\n",
       "  <tbody>\n",
       "    <tr>\n",
       "      <th>0</th>\n",
       "      <td>0</td>\n",
       "      <td>женат / замужем</td>\n",
       "    </tr>\n",
       "    <tr>\n",
       "      <th>1</th>\n",
       "      <td>1</td>\n",
       "      <td>гражданский брак</td>\n",
       "    </tr>\n",
       "    <tr>\n",
       "      <th>2</th>\n",
       "      <td>2</td>\n",
       "      <td>вдовец / вдова</td>\n",
       "    </tr>\n",
       "    <tr>\n",
       "      <th>3</th>\n",
       "      <td>3</td>\n",
       "      <td>в разводе</td>\n",
       "    </tr>\n",
       "    <tr>\n",
       "      <th>4</th>\n",
       "      <td>4</td>\n",
       "      <td>Не женат / не замужем</td>\n",
       "    </tr>\n",
       "  </tbody>\n",
       "</table>\n",
       "</div>"
      ],
      "text/plain": [
       "   family_status_id          family_status\n",
       "0                 0        женат / замужем\n",
       "1                 1       гражданский брак\n",
       "2                 2         вдовец / вдова\n",
       "3                 3              в разводе\n",
       "4                 4  Не женат / не замужем"
      ]
     },
     "execution_count": 39,
     "metadata": {},
     "output_type": "execute_result"
    }
   ],
   "source": [
    "data_family_status_id"
   ]
  },
  {
   "cell_type": "markdown",
   "id": "5d1c73f0",
   "metadata": {},
   "source": [
    "Удалим столбы `education` и  `family_status` из исходного датафрейма `data`."
   ]
  },
  {
   "cell_type": "code",
   "execution_count": 40,
   "id": "ecca6383",
   "metadata": {},
   "outputs": [],
   "source": [
    "data = data.drop(['family_status', 'education'], axis=1)"
   ]
  },
  {
   "cell_type": "markdown",
   "id": "4f591307",
   "metadata": {},
   "source": [
    "Выведем первые 5 строк обновленного датафрейма."
   ]
  },
  {
   "cell_type": "code",
   "execution_count": 41,
   "id": "f5cbda07",
   "metadata": {},
   "outputs": [
    {
     "data": {
      "text/html": [
       "<div>\n",
       "<style scoped>\n",
       "    .dataframe tbody tr th:only-of-type {\n",
       "        vertical-align: middle;\n",
       "    }\n",
       "\n",
       "    .dataframe tbody tr th {\n",
       "        vertical-align: top;\n",
       "    }\n",
       "\n",
       "    .dataframe thead th {\n",
       "        text-align: right;\n",
       "    }\n",
       "</style>\n",
       "<table border=\"1\" class=\"dataframe\">\n",
       "  <thead>\n",
       "    <tr style=\"text-align: right;\">\n",
       "      <th></th>\n",
       "      <th>children</th>\n",
       "      <th>days_employed</th>\n",
       "      <th>dob_years</th>\n",
       "      <th>education_id</th>\n",
       "      <th>family_status_id</th>\n",
       "      <th>gender</th>\n",
       "      <th>income_type</th>\n",
       "      <th>debt</th>\n",
       "      <th>total_income</th>\n",
       "      <th>purpose</th>\n",
       "    </tr>\n",
       "  </thead>\n",
       "  <tbody>\n",
       "    <tr>\n",
       "      <th>0</th>\n",
       "      <td>1</td>\n",
       "      <td>8437.673028</td>\n",
       "      <td>42</td>\n",
       "      <td>0</td>\n",
       "      <td>0</td>\n",
       "      <td>F</td>\n",
       "      <td>сотрудник</td>\n",
       "      <td>0</td>\n",
       "      <td>253875</td>\n",
       "      <td>покупка жилья</td>\n",
       "    </tr>\n",
       "    <tr>\n",
       "      <th>1</th>\n",
       "      <td>1</td>\n",
       "      <td>4024.803754</td>\n",
       "      <td>36</td>\n",
       "      <td>1</td>\n",
       "      <td>0</td>\n",
       "      <td>F</td>\n",
       "      <td>сотрудник</td>\n",
       "      <td>0</td>\n",
       "      <td>112080</td>\n",
       "      <td>приобретение автомобиля</td>\n",
       "    </tr>\n",
       "    <tr>\n",
       "      <th>2</th>\n",
       "      <td>0</td>\n",
       "      <td>5623.422610</td>\n",
       "      <td>33</td>\n",
       "      <td>1</td>\n",
       "      <td>0</td>\n",
       "      <td>M</td>\n",
       "      <td>сотрудник</td>\n",
       "      <td>0</td>\n",
       "      <td>145885</td>\n",
       "      <td>покупка жилья</td>\n",
       "    </tr>\n",
       "    <tr>\n",
       "      <th>3</th>\n",
       "      <td>3</td>\n",
       "      <td>4124.747207</td>\n",
       "      <td>32</td>\n",
       "      <td>1</td>\n",
       "      <td>0</td>\n",
       "      <td>M</td>\n",
       "      <td>сотрудник</td>\n",
       "      <td>0</td>\n",
       "      <td>267628</td>\n",
       "      <td>дополнительное образование</td>\n",
       "    </tr>\n",
       "    <tr>\n",
       "      <th>4</th>\n",
       "      <td>0</td>\n",
       "      <td>340266.072047</td>\n",
       "      <td>53</td>\n",
       "      <td>1</td>\n",
       "      <td>1</td>\n",
       "      <td>F</td>\n",
       "      <td>пенсионер</td>\n",
       "      <td>0</td>\n",
       "      <td>158616</td>\n",
       "      <td>сыграть свадьбу</td>\n",
       "    </tr>\n",
       "  </tbody>\n",
       "</table>\n",
       "</div>"
      ],
      "text/plain": [
       "   children  days_employed  dob_years  education_id  family_status_id gender  \\\n",
       "0         1    8437.673028         42             0                 0      F   \n",
       "1         1    4024.803754         36             1                 0      F   \n",
       "2         0    5623.422610         33             1                 0      M   \n",
       "3         3    4124.747207         32             1                 0      M   \n",
       "4         0  340266.072047         53             1                 1      F   \n",
       "\n",
       "  income_type  debt  total_income                     purpose  \n",
       "0   сотрудник     0        253875               покупка жилья  \n",
       "1   сотрудник     0        112080     приобретение автомобиля  \n",
       "2   сотрудник     0        145885               покупка жилья  \n",
       "3   сотрудник     0        267628  дополнительное образование  \n",
       "4   пенсионер     0        158616             сыграть свадьбу  "
      ]
     },
     "execution_count": 41,
     "metadata": {},
     "output_type": "execute_result"
    }
   ],
   "source": [
    "data.head()"
   ]
  },
  {
   "cell_type": "markdown",
   "id": "e901fc77",
   "metadata": {},
   "source": [
    "### Категоризация дохода.  \n",
    "<a id='soffee1'></a>"
   ]
  },
  {
   "cell_type": "markdown",
   "id": "cd79c1f6",
   "metadata": {},
   "source": [
    "Для ответа на вопрос о влиянии уровня дохода заемщика на возврат кредита необходимо создать новый столбец `total_income_category` и сформировать несколько категорий дохода."
   ]
  },
  {
   "cell_type": "markdown",
   "id": "9f393ae5",
   "metadata": {},
   "source": [
    "Напишем функцию для создания категорий."
   ]
  },
  {
   "cell_type": "code",
   "execution_count": 42,
   "id": "3b0f5410",
   "metadata": {},
   "outputs": [],
   "source": [
    "def income_category(income):\n",
    "    \"\"\"\n",
    "    Функция принимает значение дохода заемщика и сортирует его по категориям. \n",
    "    \"\"\"\n",
    "    if 0 <= income <= 30000:\n",
    "        return 'E'\n",
    "    elif 30001 <= income <= 50000:\n",
    "        return 'D'\n",
    "    elif 50001 <= income <= 200000:\n",
    "        return 'C'\n",
    "    elif 200001 <= income <= 1000000:\n",
    "        return 'B'\n",
    "    elif 1000001 <= income <= 10000000:\n",
    "        return 'A'\n",
    "    else:\n",
    "        return 'Внимание!'"
   ]
  },
  {
   "cell_type": "markdown",
   "id": "ff2cf077",
   "metadata": {},
   "source": [
    "Проверим работу функции."
   ]
  },
  {
   "cell_type": "code",
   "execution_count": 43,
   "id": "9f49f47c",
   "metadata": {},
   "outputs": [
    {
     "data": {
      "text/plain": [
       "'E'"
      ]
     },
     "execution_count": 43,
     "metadata": {},
     "output_type": "execute_result"
    }
   ],
   "source": [
    "income_category(25000)"
   ]
  },
  {
   "cell_type": "code",
   "execution_count": 44,
   "id": "ca2768c7",
   "metadata": {},
   "outputs": [
    {
     "data": {
      "text/plain": [
       "'D'"
      ]
     },
     "execution_count": 44,
     "metadata": {},
     "output_type": "execute_result"
    }
   ],
   "source": [
    "income_category(44000)"
   ]
  },
  {
   "cell_type": "code",
   "execution_count": 45,
   "id": "cdaa5178",
   "metadata": {},
   "outputs": [
    {
     "data": {
      "text/plain": [
       "'C'"
      ]
     },
     "execution_count": 45,
     "metadata": {},
     "output_type": "execute_result"
    }
   ],
   "source": [
    "income_category(50001)"
   ]
  },
  {
   "cell_type": "code",
   "execution_count": 46,
   "id": "e72889aa",
   "metadata": {},
   "outputs": [
    {
     "data": {
      "text/plain": [
       "'B'"
      ]
     },
     "execution_count": 46,
     "metadata": {},
     "output_type": "execute_result"
    }
   ],
   "source": [
    "income_category(250000)"
   ]
  },
  {
   "cell_type": "code",
   "execution_count": 47,
   "id": "b3b4f4f5",
   "metadata": {},
   "outputs": [
    {
     "data": {
      "text/plain": [
       "'A'"
      ]
     },
     "execution_count": 47,
     "metadata": {},
     "output_type": "execute_result"
    }
   ],
   "source": [
    "income_category(1500000)"
   ]
  },
  {
   "cell_type": "code",
   "execution_count": 48,
   "id": "27bf91c6",
   "metadata": {},
   "outputs": [
    {
     "data": {
      "text/plain": [
       "'Внимание!'"
      ]
     },
     "execution_count": 48,
     "metadata": {},
     "output_type": "execute_result"
    }
   ],
   "source": [
    "income_category(-30000)"
   ]
  },
  {
   "cell_type": "markdown",
   "id": "e9b2ea6e",
   "metadata": {},
   "source": [
    "Функция работает корректно."
   ]
  },
  {
   "cell_type": "markdown",
   "id": "4fcfa821",
   "metadata": {},
   "source": [
    "Добавим к исходному датафрейму `data` новый столбец `total_income_category`, где сохраним результаты применения нашей функции `income_category`."
   ]
  },
  {
   "cell_type": "code",
   "execution_count": 49,
   "id": "d0885174",
   "metadata": {},
   "outputs": [],
   "source": [
    "data['total_income_category'] = data['total_income'].apply(income_category)"
   ]
  },
  {
   "cell_type": "markdown",
   "id": "0da13e03",
   "metadata": {},
   "source": [
    "Проверим корректность применения функции к датафрейму путем подсчета категорий и выборочной проверки среза по двум категориям.\n"
   ]
  },
  {
   "cell_type": "code",
   "execution_count": 50,
   "id": "34174bcb",
   "metadata": {},
   "outputs": [
    {
     "data": {
      "text/plain": [
       "C    16033\n",
       "B     5041\n",
       "D      350\n",
       "A       25\n",
       "E       22\n",
       "Name: total_income_category, dtype: int64"
      ]
     },
     "execution_count": 50,
     "metadata": {},
     "output_type": "execute_result"
    }
   ],
   "source": [
    "data['total_income_category'].value_counts() "
   ]
  },
  {
   "cell_type": "code",
   "execution_count": 51,
   "id": "17526e58",
   "metadata": {},
   "outputs": [
    {
     "data": {
      "text/plain": [
       "21471"
      ]
     },
     "execution_count": 51,
     "metadata": {},
     "output_type": "execute_result"
    }
   ],
   "source": [
    "data['total_income_category'].count() "
   ]
  },
  {
   "cell_type": "code",
   "execution_count": 52,
   "id": "dff508e5",
   "metadata": {},
   "outputs": [
    {
     "data": {
      "text/html": [
       "<div>\n",
       "<style scoped>\n",
       "    .dataframe tbody tr th:only-of-type {\n",
       "        vertical-align: middle;\n",
       "    }\n",
       "\n",
       "    .dataframe tbody tr th {\n",
       "        vertical-align: top;\n",
       "    }\n",
       "\n",
       "    .dataframe thead th {\n",
       "        text-align: right;\n",
       "    }\n",
       "</style>\n",
       "<table border=\"1\" class=\"dataframe\">\n",
       "  <thead>\n",
       "    <tr style=\"text-align: right;\">\n",
       "      <th></th>\n",
       "      <th>children</th>\n",
       "      <th>days_employed</th>\n",
       "      <th>dob_years</th>\n",
       "      <th>education_id</th>\n",
       "      <th>family_status_id</th>\n",
       "      <th>gender</th>\n",
       "      <th>income_type</th>\n",
       "      <th>debt</th>\n",
       "      <th>total_income</th>\n",
       "      <th>purpose</th>\n",
       "      <th>total_income_category</th>\n",
       "    </tr>\n",
       "  </thead>\n",
       "  <tbody>\n",
       "    <tr>\n",
       "      <th>934</th>\n",
       "      <td>0</td>\n",
       "      <td>348253.361682</td>\n",
       "      <td>69</td>\n",
       "      <td>1</td>\n",
       "      <td>0</td>\n",
       "      <td>F</td>\n",
       "      <td>пенсионер</td>\n",
       "      <td>0</td>\n",
       "      <td>29426</td>\n",
       "      <td>недвижимость</td>\n",
       "      <td>E</td>\n",
       "    </tr>\n",
       "    <tr>\n",
       "      <th>1184</th>\n",
       "      <td>0</td>\n",
       "      <td>401575.196728</td>\n",
       "      <td>55</td>\n",
       "      <td>1</td>\n",
       "      <td>1</td>\n",
       "      <td>M</td>\n",
       "      <td>пенсионер</td>\n",
       "      <td>0</td>\n",
       "      <td>29749</td>\n",
       "      <td>на проведение свадьбы</td>\n",
       "      <td>E</td>\n",
       "    </tr>\n",
       "    <tr>\n",
       "      <th>1598</th>\n",
       "      <td>0</td>\n",
       "      <td>359726.104207</td>\n",
       "      <td>68</td>\n",
       "      <td>1</td>\n",
       "      <td>1</td>\n",
       "      <td>M</td>\n",
       "      <td>пенсионер</td>\n",
       "      <td>0</td>\n",
       "      <td>21695</td>\n",
       "      <td>на проведение свадьбы</td>\n",
       "      <td>E</td>\n",
       "    </tr>\n",
       "    <tr>\n",
       "      <th>4056</th>\n",
       "      <td>0</td>\n",
       "      <td>386389.497407</td>\n",
       "      <td>64</td>\n",
       "      <td>1</td>\n",
       "      <td>0</td>\n",
       "      <td>F</td>\n",
       "      <td>пенсионер</td>\n",
       "      <td>1</td>\n",
       "      <td>29154</td>\n",
       "      <td>строительство недвижимости</td>\n",
       "      <td>E</td>\n",
       "    </tr>\n",
       "    <tr>\n",
       "      <th>8268</th>\n",
       "      <td>0</td>\n",
       "      <td>615.774147</td>\n",
       "      <td>46</td>\n",
       "      <td>1</td>\n",
       "      <td>0</td>\n",
       "      <td>F</td>\n",
       "      <td>сотрудник</td>\n",
       "      <td>0</td>\n",
       "      <td>26533</td>\n",
       "      <td>покупка коммерческой недвижимости</td>\n",
       "      <td>E</td>\n",
       "    </tr>\n",
       "  </tbody>\n",
       "</table>\n",
       "</div>"
      ],
      "text/plain": [
       "      children  days_employed  dob_years  education_id  family_status_id  \\\n",
       "934          0  348253.361682         69             1                 0   \n",
       "1184         0  401575.196728         55             1                 1   \n",
       "1598         0  359726.104207         68             1                 1   \n",
       "4056         0  386389.497407         64             1                 0   \n",
       "8268         0     615.774147         46             1                 0   \n",
       "\n",
       "     gender income_type  debt  total_income  \\\n",
       "934       F   пенсионер     0         29426   \n",
       "1184      M   пенсионер     0         29749   \n",
       "1598      M   пенсионер     0         21695   \n",
       "4056      F   пенсионер     1         29154   \n",
       "8268      F   сотрудник     0         26533   \n",
       "\n",
       "                                purpose total_income_category  \n",
       "934                        недвижимость                     E  \n",
       "1184              на проведение свадьбы                     E  \n",
       "1598              на проведение свадьбы                     E  \n",
       "4056         строительство недвижимости                     E  \n",
       "8268  покупка коммерческой недвижимости                     E  "
      ]
     },
     "execution_count": 52,
     "metadata": {},
     "output_type": "execute_result"
    }
   ],
   "source": [
    "data[data['total_income_category'] == 'E'].head()"
   ]
  },
  {
   "cell_type": "code",
   "execution_count": 53,
   "id": "2466c78f",
   "metadata": {},
   "outputs": [
    {
     "data": {
      "text/html": [
       "<div>\n",
       "<style scoped>\n",
       "    .dataframe tbody tr th:only-of-type {\n",
       "        vertical-align: middle;\n",
       "    }\n",
       "\n",
       "    .dataframe tbody tr th {\n",
       "        vertical-align: top;\n",
       "    }\n",
       "\n",
       "    .dataframe thead th {\n",
       "        text-align: right;\n",
       "    }\n",
       "</style>\n",
       "<table border=\"1\" class=\"dataframe\">\n",
       "  <thead>\n",
       "    <tr style=\"text-align: right;\">\n",
       "      <th></th>\n",
       "      <th>children</th>\n",
       "      <th>days_employed</th>\n",
       "      <th>dob_years</th>\n",
       "      <th>education_id</th>\n",
       "      <th>family_status_id</th>\n",
       "      <th>gender</th>\n",
       "      <th>income_type</th>\n",
       "      <th>debt</th>\n",
       "      <th>total_income</th>\n",
       "      <th>purpose</th>\n",
       "      <th>total_income_category</th>\n",
       "    </tr>\n",
       "  </thead>\n",
       "  <tbody>\n",
       "    <tr>\n",
       "      <th>1590</th>\n",
       "      <td>1</td>\n",
       "      <td>1283.436610</td>\n",
       "      <td>53</td>\n",
       "      <td>0</td>\n",
       "      <td>0</td>\n",
       "      <td>F</td>\n",
       "      <td>компаньон</td>\n",
       "      <td>0</td>\n",
       "      <td>1089120</td>\n",
       "      <td>на покупку автомобиля</td>\n",
       "      <td>A</td>\n",
       "    </tr>\n",
       "    <tr>\n",
       "      <th>2224</th>\n",
       "      <td>1</td>\n",
       "      <td>4614.851849</td>\n",
       "      <td>42</td>\n",
       "      <td>0</td>\n",
       "      <td>0</td>\n",
       "      <td>M</td>\n",
       "      <td>сотрудник</td>\n",
       "      <td>0</td>\n",
       "      <td>1278622</td>\n",
       "      <td>покупка жилья</td>\n",
       "      <td>A</td>\n",
       "    </tr>\n",
       "    <tr>\n",
       "      <th>4128</th>\n",
       "      <td>0</td>\n",
       "      <td>7992.968249</td>\n",
       "      <td>52</td>\n",
       "      <td>0</td>\n",
       "      <td>0</td>\n",
       "      <td>F</td>\n",
       "      <td>компаньон</td>\n",
       "      <td>0</td>\n",
       "      <td>1004476</td>\n",
       "      <td>операции с коммерческой недвижимостью</td>\n",
       "      <td>A</td>\n",
       "    </tr>\n",
       "    <tr>\n",
       "      <th>4413</th>\n",
       "      <td>0</td>\n",
       "      <td>542.321356</td>\n",
       "      <td>45</td>\n",
       "      <td>1</td>\n",
       "      <td>1</td>\n",
       "      <td>M</td>\n",
       "      <td>компаньон</td>\n",
       "      <td>1</td>\n",
       "      <td>1030899</td>\n",
       "      <td>профильное образование</td>\n",
       "      <td>A</td>\n",
       "    </tr>\n",
       "    <tr>\n",
       "      <th>7443</th>\n",
       "      <td>0</td>\n",
       "      <td>8626.777234</td>\n",
       "      <td>39</td>\n",
       "      <td>1</td>\n",
       "      <td>3</td>\n",
       "      <td>F</td>\n",
       "      <td>сотрудник</td>\n",
       "      <td>0</td>\n",
       "      <td>1240165</td>\n",
       "      <td>покупка недвижимости</td>\n",
       "      <td>A</td>\n",
       "    </tr>\n",
       "  </tbody>\n",
       "</table>\n",
       "</div>"
      ],
      "text/plain": [
       "      children  days_employed  dob_years  education_id  family_status_id  \\\n",
       "1590         1    1283.436610         53             0                 0   \n",
       "2224         1    4614.851849         42             0                 0   \n",
       "4128         0    7992.968249         52             0                 0   \n",
       "4413         0     542.321356         45             1                 1   \n",
       "7443         0    8626.777234         39             1                 3   \n",
       "\n",
       "     gender income_type  debt  total_income  \\\n",
       "1590      F   компаньон     0       1089120   \n",
       "2224      M   сотрудник     0       1278622   \n",
       "4128      F   компаньон     0       1004476   \n",
       "4413      M   компаньон     1       1030899   \n",
       "7443      F   сотрудник     0       1240165   \n",
       "\n",
       "                                    purpose total_income_category  \n",
       "1590                  на покупку автомобиля                     A  \n",
       "2224                          покупка жилья                     A  \n",
       "4128  операции с коммерческой недвижимостью                     A  \n",
       "4413                 профильное образование                     A  \n",
       "7443                   покупка недвижимости                     A  "
      ]
     },
     "execution_count": 53,
     "metadata": {},
     "output_type": "execute_result"
    }
   ],
   "source": [
    "data[data['total_income_category'] == 'A'].head()"
   ]
  },
  {
   "cell_type": "markdown",
   "id": "9f208b02",
   "metadata": {},
   "source": [
    "### Категоризация целей кредита."
   ]
  },
  {
   "cell_type": "markdown",
   "id": "105bafa7",
   "metadata": {},
   "source": [
    "Для ответа на вопрос о влиянии цели кредита на возврат кредита необходимо создать новый столбец `purpose_category` и сформировать несколько категорий."
   ]
  },
  {
   "cell_type": "markdown",
   "id": "33a0ef43",
   "metadata": {},
   "source": [
    "Для начала рассмотрим все уникальные значения в столбце `purpose`."
   ]
  },
  {
   "cell_type": "code",
   "execution_count": 54,
   "id": "ad3f03bc",
   "metadata": {},
   "outputs": [
    {
     "data": {
      "text/plain": [
       "array(['автомобили', 'автомобиль', 'высшее образование',\n",
       "       'дополнительное образование', 'жилье',\n",
       "       'заняться высшим образованием', 'заняться образованием',\n",
       "       'на покупку автомобиля', 'на покупку подержанного автомобиля',\n",
       "       'на покупку своего автомобиля', 'на проведение свадьбы',\n",
       "       'недвижимость', 'образование', 'операции с жильем',\n",
       "       'операции с коммерческой недвижимостью',\n",
       "       'операции с недвижимостью', 'операции со своей недвижимостью',\n",
       "       'покупка жилой недвижимости', 'покупка жилья',\n",
       "       'покупка жилья для сдачи', 'покупка жилья для семьи',\n",
       "       'покупка коммерческой недвижимости', 'покупка недвижимости',\n",
       "       'покупка своего жилья', 'получение высшего образования',\n",
       "       'получение дополнительного образования', 'получение образования',\n",
       "       'приобретение автомобиля', 'профильное образование',\n",
       "       'ремонт жилью', 'свадьба', 'свой автомобиль',\n",
       "       'сделка с автомобилем', 'сделка с подержанным автомобилем',\n",
       "       'строительство жилой недвижимости', 'строительство недвижимости',\n",
       "       'строительство собственной недвижимости', 'сыграть свадьбу'],\n",
       "      dtype=object)"
      ]
     },
     "execution_count": 54,
     "metadata": {},
     "output_type": "execute_result"
    }
   ],
   "source": [
    "data['purpose'].sort_values().unique()"
   ]
  },
  {
   "cell_type": "markdown",
   "id": "0e425f62",
   "metadata": {},
   "source": [
    "На основании этих целей выявим и применим единые корни слов для создания функции."
   ]
  },
  {
   "cell_type": "markdown",
   "id": "3dceae74",
   "metadata": {},
   "source": [
    "Напишем функцию для создания категорий. <a id='soffee2'></a>"
   ]
  },
  {
   "cell_type": "code",
   "execution_count": 55,
   "id": "1f306ccd",
   "metadata": {},
   "outputs": [],
   "source": [
    "def purpose_category(purpose):\n",
    "    \"\"\"\n",
    "    Функция принимает значение цели кредитования и сортирует ее по категориям. \n",
    "    \"\"\"\n",
    "    if 'автомобил'in purpose:\n",
    "        return 'операции с автомобилем'\n",
    "    elif 'жиль' in purpose or 'недвижимост' in purpose:\n",
    "        return 'операции с недвижимостью'\n",
    "    elif 'свадьб' in purpose:\n",
    "        return 'проведение свадьбы'\n",
    "    elif 'образован' in purpose:\n",
    "        return 'получение образования'\n",
    "    else:\n",
    "        return 'Новая цель!'"
   ]
  },
  {
   "cell_type": "markdown",
   "id": "5818a40c",
   "metadata": {},
   "source": [
    "Проверим работу функции."
   ]
  },
  {
   "cell_type": "code",
   "execution_count": 56,
   "id": "6db1fe34",
   "metadata": {},
   "outputs": [
    {
     "data": {
      "text/plain": [
       "'операции с недвижимостью'"
      ]
     },
     "execution_count": 56,
     "metadata": {},
     "output_type": "execute_result"
    }
   ],
   "source": [
    "purpose_category('покупка жилья для сдачи')"
   ]
  },
  {
   "cell_type": "code",
   "execution_count": 57,
   "id": "7d2f7cca",
   "metadata": {},
   "outputs": [
    {
     "data": {
      "text/plain": [
       "'операции с недвижимостью'"
      ]
     },
     "execution_count": 57,
     "metadata": {},
     "output_type": "execute_result"
    }
   ],
   "source": [
    "purpose_category('строительство собственной недвижимости')"
   ]
  },
  {
   "cell_type": "code",
   "execution_count": 58,
   "id": "d59b0ff9",
   "metadata": {},
   "outputs": [
    {
     "data": {
      "text/plain": [
       "'проведение свадьбы'"
      ]
     },
     "execution_count": 58,
     "metadata": {},
     "output_type": "execute_result"
    }
   ],
   "source": [
    "purpose_category('сыграть свадьбу')"
   ]
  },
  {
   "cell_type": "code",
   "execution_count": 59,
   "id": "b3d97c50",
   "metadata": {},
   "outputs": [
    {
     "data": {
      "text/plain": [
       "'получение образования'"
      ]
     },
     "execution_count": 59,
     "metadata": {},
     "output_type": "execute_result"
    }
   ],
   "source": [
    "purpose_category('получение высшего образования')"
   ]
  },
  {
   "cell_type": "code",
   "execution_count": 60,
   "id": "709158b4",
   "metadata": {},
   "outputs": [
    {
     "data": {
      "text/plain": [
       "'операции с автомобилем'"
      ]
     },
     "execution_count": 60,
     "metadata": {},
     "output_type": "execute_result"
    }
   ],
   "source": [
    "purpose_category('сделка с подержанным автомобилем')"
   ]
  },
  {
   "cell_type": "code",
   "execution_count": 61,
   "id": "d757c169",
   "metadata": {},
   "outputs": [
    {
     "data": {
      "text/plain": [
       "'Новая цель!'"
      ]
     },
     "execution_count": 61,
     "metadata": {},
     "output_type": "execute_result"
    }
   ],
   "source": [
    "purpose_category('покупка частного дома')"
   ]
  },
  {
   "cell_type": "markdown",
   "id": "520bd2e7",
   "metadata": {},
   "source": [
    "Функция работает корректно."
   ]
  },
  {
   "cell_type": "markdown",
   "id": "e3c6eda0",
   "metadata": {},
   "source": [
    "Добавим к исходному датафрейму `data` новый столбец `purpose_category`, где сохраним результаты применения нашей функции `purpose_category`."
   ]
  },
  {
   "cell_type": "code",
   "execution_count": 62,
   "id": "bba9f2aa",
   "metadata": {},
   "outputs": [],
   "source": [
    "data['purpose_category'] = data['purpose'].apply(purpose_category)"
   ]
  },
  {
   "cell_type": "markdown",
   "id": "12650b9f",
   "metadata": {},
   "source": [
    "Проверим корректность применения функции к датафрейму путем подсчета категорий и выборочной проверки среза по двум категориям."
   ]
  },
  {
   "cell_type": "code",
   "execution_count": 63,
   "id": "c1ef7418",
   "metadata": {},
   "outputs": [
    {
     "data": {
      "text/plain": [
       "операции с недвижимостью    10814\n",
       "операции с автомобилем       4308\n",
       "получение образования        4014\n",
       "проведение свадьбы           2335\n",
       "Name: purpose_category, dtype: int64"
      ]
     },
     "execution_count": 63,
     "metadata": {},
     "output_type": "execute_result"
    }
   ],
   "source": [
    "data['purpose_category'].value_counts() "
   ]
  },
  {
   "cell_type": "code",
   "execution_count": 64,
   "id": "3cb73409",
   "metadata": {},
   "outputs": [
    {
     "data": {
      "text/html": [
       "<div>\n",
       "<style scoped>\n",
       "    .dataframe tbody tr th:only-of-type {\n",
       "        vertical-align: middle;\n",
       "    }\n",
       "\n",
       "    .dataframe tbody tr th {\n",
       "        vertical-align: top;\n",
       "    }\n",
       "\n",
       "    .dataframe thead th {\n",
       "        text-align: right;\n",
       "    }\n",
       "</style>\n",
       "<table border=\"1\" class=\"dataframe\">\n",
       "  <thead>\n",
       "    <tr style=\"text-align: right;\">\n",
       "      <th></th>\n",
       "      <th>children</th>\n",
       "      <th>days_employed</th>\n",
       "      <th>dob_years</th>\n",
       "      <th>education_id</th>\n",
       "      <th>family_status_id</th>\n",
       "      <th>gender</th>\n",
       "      <th>income_type</th>\n",
       "      <th>debt</th>\n",
       "      <th>total_income</th>\n",
       "      <th>purpose</th>\n",
       "      <th>total_income_category</th>\n",
       "      <th>purpose_category</th>\n",
       "    </tr>\n",
       "  </thead>\n",
       "  <tbody>\n",
       "    <tr>\n",
       "      <th>4</th>\n",
       "      <td>0</td>\n",
       "      <td>340266.072047</td>\n",
       "      <td>53</td>\n",
       "      <td>1</td>\n",
       "      <td>1</td>\n",
       "      <td>F</td>\n",
       "      <td>пенсионер</td>\n",
       "      <td>0</td>\n",
       "      <td>158616</td>\n",
       "      <td>сыграть свадьбу</td>\n",
       "      <td>C</td>\n",
       "      <td>проведение свадьбы</td>\n",
       "    </tr>\n",
       "    <tr>\n",
       "      <th>8</th>\n",
       "      <td>2</td>\n",
       "      <td>6929.865299</td>\n",
       "      <td>35</td>\n",
       "      <td>0</td>\n",
       "      <td>1</td>\n",
       "      <td>F</td>\n",
       "      <td>сотрудник</td>\n",
       "      <td>0</td>\n",
       "      <td>95856</td>\n",
       "      <td>на проведение свадьбы</td>\n",
       "      <td>C</td>\n",
       "      <td>проведение свадьбы</td>\n",
       "    </tr>\n",
       "    <tr>\n",
       "      <th>12</th>\n",
       "      <td>0</td>\n",
       "      <td>NaN</td>\n",
       "      <td>65</td>\n",
       "      <td>1</td>\n",
       "      <td>1</td>\n",
       "      <td>M</td>\n",
       "      <td>пенсионер</td>\n",
       "      <td>0</td>\n",
       "      <td>145017</td>\n",
       "      <td>сыграть свадьбу</td>\n",
       "      <td>C</td>\n",
       "      <td>проведение свадьбы</td>\n",
       "    </tr>\n",
       "    <tr>\n",
       "      <th>23</th>\n",
       "      <td>0</td>\n",
       "      <td>272.981385</td>\n",
       "      <td>21</td>\n",
       "      <td>0</td>\n",
       "      <td>1</td>\n",
       "      <td>M</td>\n",
       "      <td>сотрудник</td>\n",
       "      <td>0</td>\n",
       "      <td>128265</td>\n",
       "      <td>сыграть свадьбу</td>\n",
       "      <td>C</td>\n",
       "      <td>проведение свадьбы</td>\n",
       "    </tr>\n",
       "    <tr>\n",
       "      <th>32</th>\n",
       "      <td>0</td>\n",
       "      <td>4649.910832</td>\n",
       "      <td>34</td>\n",
       "      <td>1</td>\n",
       "      <td>1</td>\n",
       "      <td>F</td>\n",
       "      <td>сотрудник</td>\n",
       "      <td>1</td>\n",
       "      <td>139057</td>\n",
       "      <td>на проведение свадьбы</td>\n",
       "      <td>C</td>\n",
       "      <td>проведение свадьбы</td>\n",
       "    </tr>\n",
       "  </tbody>\n",
       "</table>\n",
       "</div>"
      ],
      "text/plain": [
       "    children  days_employed  dob_years  education_id  family_status_id gender  \\\n",
       "4          0  340266.072047         53             1                 1      F   \n",
       "8          2    6929.865299         35             0                 1      F   \n",
       "12         0            NaN         65             1                 1      M   \n",
       "23         0     272.981385         21             0                 1      M   \n",
       "32         0    4649.910832         34             1                 1      F   \n",
       "\n",
       "   income_type  debt  total_income                purpose  \\\n",
       "4    пенсионер     0        158616        сыграть свадьбу   \n",
       "8    сотрудник     0         95856  на проведение свадьбы   \n",
       "12   пенсионер     0        145017        сыграть свадьбу   \n",
       "23   сотрудник     0        128265        сыграть свадьбу   \n",
       "32   сотрудник     1        139057  на проведение свадьбы   \n",
       "\n",
       "   total_income_category    purpose_category  \n",
       "4                      C  проведение свадьбы  \n",
       "8                      C  проведение свадьбы  \n",
       "12                     C  проведение свадьбы  \n",
       "23                     C  проведение свадьбы  \n",
       "32                     C  проведение свадьбы  "
      ]
     },
     "execution_count": 64,
     "metadata": {},
     "output_type": "execute_result"
    }
   ],
   "source": [
    "data[data['purpose_category'] == 'проведение свадьбы'].head()"
   ]
  },
  {
   "cell_type": "code",
   "execution_count": 65,
   "id": "4c5713a7",
   "metadata": {},
   "outputs": [
    {
     "data": {
      "text/html": [
       "<div>\n",
       "<style scoped>\n",
       "    .dataframe tbody tr th:only-of-type {\n",
       "        vertical-align: middle;\n",
       "    }\n",
       "\n",
       "    .dataframe tbody tr th {\n",
       "        vertical-align: top;\n",
       "    }\n",
       "\n",
       "    .dataframe thead th {\n",
       "        text-align: right;\n",
       "    }\n",
       "</style>\n",
       "<table border=\"1\" class=\"dataframe\">\n",
       "  <thead>\n",
       "    <tr style=\"text-align: right;\">\n",
       "      <th></th>\n",
       "      <th>children</th>\n",
       "      <th>days_employed</th>\n",
       "      <th>dob_years</th>\n",
       "      <th>education_id</th>\n",
       "      <th>family_status_id</th>\n",
       "      <th>gender</th>\n",
       "      <th>income_type</th>\n",
       "      <th>debt</th>\n",
       "      <th>total_income</th>\n",
       "      <th>purpose</th>\n",
       "      <th>total_income_category</th>\n",
       "      <th>purpose_category</th>\n",
       "    </tr>\n",
       "  </thead>\n",
       "  <tbody>\n",
       "    <tr>\n",
       "      <th>1</th>\n",
       "      <td>1</td>\n",
       "      <td>4024.803754</td>\n",
       "      <td>36</td>\n",
       "      <td>1</td>\n",
       "      <td>0</td>\n",
       "      <td>F</td>\n",
       "      <td>сотрудник</td>\n",
       "      <td>0</td>\n",
       "      <td>112080</td>\n",
       "      <td>приобретение автомобиля</td>\n",
       "      <td>C</td>\n",
       "      <td>операции с автомобилем</td>\n",
       "    </tr>\n",
       "    <tr>\n",
       "      <th>13</th>\n",
       "      <td>0</td>\n",
       "      <td>1846.641941</td>\n",
       "      <td>54</td>\n",
       "      <td>2</td>\n",
       "      <td>0</td>\n",
       "      <td>F</td>\n",
       "      <td>сотрудник</td>\n",
       "      <td>0</td>\n",
       "      <td>130458</td>\n",
       "      <td>приобретение автомобиля</td>\n",
       "      <td>C</td>\n",
       "      <td>операции с автомобилем</td>\n",
       "    </tr>\n",
       "    <tr>\n",
       "      <th>18</th>\n",
       "      <td>0</td>\n",
       "      <td>400281.136913</td>\n",
       "      <td>53</td>\n",
       "      <td>1</td>\n",
       "      <td>2</td>\n",
       "      <td>F</td>\n",
       "      <td>пенсионер</td>\n",
       "      <td>0</td>\n",
       "      <td>56823</td>\n",
       "      <td>на покупку подержанного автомобиля</td>\n",
       "      <td>C</td>\n",
       "      <td>операции с автомобилем</td>\n",
       "    </tr>\n",
       "    <tr>\n",
       "      <th>19</th>\n",
       "      <td>0</td>\n",
       "      <td>10038.818549</td>\n",
       "      <td>48</td>\n",
       "      <td>1</td>\n",
       "      <td>3</td>\n",
       "      <td>F</td>\n",
       "      <td>сотрудник</td>\n",
       "      <td>0</td>\n",
       "      <td>242831</td>\n",
       "      <td>на покупку своего автомобиля</td>\n",
       "      <td>B</td>\n",
       "      <td>операции с автомобилем</td>\n",
       "    </tr>\n",
       "    <tr>\n",
       "      <th>21</th>\n",
       "      <td>1</td>\n",
       "      <td>253.685166</td>\n",
       "      <td>33</td>\n",
       "      <td>1</td>\n",
       "      <td>1</td>\n",
       "      <td>F</td>\n",
       "      <td>сотрудник</td>\n",
       "      <td>0</td>\n",
       "      <td>131812</td>\n",
       "      <td>приобретение автомобиля</td>\n",
       "      <td>C</td>\n",
       "      <td>операции с автомобилем</td>\n",
       "    </tr>\n",
       "  </tbody>\n",
       "</table>\n",
       "</div>"
      ],
      "text/plain": [
       "    children  days_employed  dob_years  education_id  family_status_id gender  \\\n",
       "1          1    4024.803754         36             1                 0      F   \n",
       "13         0    1846.641941         54             2                 0      F   \n",
       "18         0  400281.136913         53             1                 2      F   \n",
       "19         0   10038.818549         48             1                 3      F   \n",
       "21         1     253.685166         33             1                 1      F   \n",
       "\n",
       "   income_type  debt  total_income                             purpose  \\\n",
       "1    сотрудник     0        112080             приобретение автомобиля   \n",
       "13   сотрудник     0        130458             приобретение автомобиля   \n",
       "18   пенсионер     0         56823  на покупку подержанного автомобиля   \n",
       "19   сотрудник     0        242831        на покупку своего автомобиля   \n",
       "21   сотрудник     0        131812             приобретение автомобиля   \n",
       "\n",
       "   total_income_category        purpose_category  \n",
       "1                      C  операции с автомобилем  \n",
       "13                     C  операции с автомобилем  \n",
       "18                     C  операции с автомобилем  \n",
       "19                     B  операции с автомобилем  \n",
       "21                     C  операции с автомобилем  "
      ]
     },
     "execution_count": 65,
     "metadata": {},
     "output_type": "execute_result"
    }
   ],
   "source": [
    "data[data['purpose_category'] == 'операции с автомобилем'].head()"
   ]
  },
  {
   "cell_type": "markdown",
   "id": "fdb8fe3e",
   "metadata": {},
   "source": [
    "**Вывод** \n",
    "\n",
    "В процессе предобработки данных были обнаружены и исправлены следующие проблемы:\n",
    "\n",
    "* пропущенные значения в каждлом отдельном случае заменены на релевантные,\n",
    "* изменены типы данных в столбцах на наиболее уместные,\n",
    "* удалены дубликаты,\n",
    "* исправлены выявленные аномалии в данных,\n",
    "* сформированы словари-идентификаторы для визуального удобства восприятия,\n",
    "* произведена необходимая категоризация данных.\n",
    "\n",
    "    Благодаря проделанной предварительной обработке данных исходный датафрейм был исправлен и значительно разгружен, а также облегчено его визуальное восприятие и скорость обработки.\n",
    "\n",
    "Теперь можно перейти к проверке гипотез."
   ]
  },
  {
   "cell_type": "markdown",
   "id": "06824b2e",
   "metadata": {},
   "source": [
    "## Ответы на вопросы."
   ]
  },
  {
   "cell_type": "markdown",
   "id": "7e61a627",
   "metadata": {},
   "source": [
    "### Есть ли зависимость между количеством детей заемщика и возвратом кредита в срок?"
   ]
  },
  {
   "cell_type": "markdown",
   "id": "7089f9b3",
   "metadata": {},
   "source": [
    "Для ответа на этот вопрос рассчитаем долю дефолта по каждой группе."
   ]
  },
  {
   "cell_type": "code",
   "execution_count": 66,
   "id": "d9cf591d",
   "metadata": {},
   "outputs": [
    {
     "data": {
      "text/html": [
       "<div>\n",
       "<style scoped>\n",
       "    .dataframe tbody tr th:only-of-type {\n",
       "        vertical-align: middle;\n",
       "    }\n",
       "\n",
       "    .dataframe tbody tr th {\n",
       "        vertical-align: top;\n",
       "    }\n",
       "\n",
       "    .dataframe thead th {\n",
       "        text-align: right;\n",
       "    }\n",
       "</style>\n",
       "<table border=\"1\" class=\"dataframe\">\n",
       "  <thead>\n",
       "    <tr style=\"text-align: right;\">\n",
       "      <th></th>\n",
       "      <th>debt</th>\n",
       "    </tr>\n",
       "    <tr>\n",
       "      <th>children</th>\n",
       "      <th></th>\n",
       "    </tr>\n",
       "  </thead>\n",
       "  <tbody>\n",
       "    <tr>\n",
       "      <th>0</th>\n",
       "      <td>0.075353</td>\n",
       "    </tr>\n",
       "    <tr>\n",
       "      <th>1</th>\n",
       "      <td>0.091639</td>\n",
       "    </tr>\n",
       "    <tr>\n",
       "      <th>2</th>\n",
       "      <td>0.094925</td>\n",
       "    </tr>\n",
       "    <tr>\n",
       "      <th>3</th>\n",
       "      <td>0.081818</td>\n",
       "    </tr>\n",
       "    <tr>\n",
       "      <th>4</th>\n",
       "      <td>0.097561</td>\n",
       "    </tr>\n",
       "    <tr>\n",
       "      <th>5</th>\n",
       "      <td>0.000000</td>\n",
       "    </tr>\n",
       "  </tbody>\n",
       "</table>\n",
       "</div>"
      ],
      "text/plain": [
       "              debt\n",
       "children          \n",
       "0         0.075353\n",
       "1         0.091639\n",
       "2         0.094925\n",
       "3         0.081818\n",
       "4         0.097561\n",
       "5         0.000000"
      ]
     },
     "execution_count": 66,
     "metadata": {},
     "output_type": "execute_result"
    }
   ],
   "source": [
    "data.groupby( ['children'] ).agg({'debt': 'mean'})"
   ]
  },
  {
   "cell_type": "code",
   "execution_count": 67,
   "id": "5320a70b",
   "metadata": {},
   "outputs": [
    {
     "data": {
      "text/plain": [
       "children\n",
       "0    0.075353\n",
       "1    0.091639\n",
       "2    0.094925\n",
       "3    0.081818\n",
       "4    0.097561\n",
       "5    0.000000\n",
       "Name: debt, dtype: float64"
      ]
     },
     "execution_count": 67,
     "metadata": {},
     "output_type": "execute_result"
    }
   ],
   "source": [
    "# Код ревьюера\n",
    "\n",
    "data.groupby('children')['debt'].mean()"
   ]
  },
  {
   "cell_type": "markdown",
   "id": "a6e22de8",
   "metadata": {},
   "source": [
    "**Вывод**\n",
    "\n",
    "Из данных видно, что существенной зависимости между количеством детей заемщика и возвратом кредита нет. В среднем в каждой категории 'количество детей заемщика' одинаковый процент должников от 7,5% до 10%. Максимальный процент невозврата кредита - 9,8% - у заемщиков с 4 детьми. Заемщиков с 5 детьми слишком мало, поэтому выборку нельзя считать репрезентативной и влияющей на результаты исследования. Поэтому минимальный процент невозврата кредита - 7,5% - у заемщиков без детей."
   ]
  },
  {
   "cell_type": "markdown",
   "id": "2992a9dc",
   "metadata": {},
   "source": [
    "### Есть ли зависимость между семейным положением заемщика и возвратом кредита в срок?"
   ]
  },
  {
   "cell_type": "markdown",
   "id": "46367aa1",
   "metadata": {},
   "source": [
    "Для ответа на этот вопрос оценим уровень дефолта в каждой категории с помощью группировки данных."
   ]
  },
  {
   "cell_type": "code",
   "execution_count": 68,
   "id": "76e8e46f",
   "metadata": {},
   "outputs": [
    {
     "data": {
      "text/html": [
       "<div>\n",
       "<style scoped>\n",
       "    .dataframe tbody tr th:only-of-type {\n",
       "        vertical-align: middle;\n",
       "    }\n",
       "\n",
       "    .dataframe tbody tr th {\n",
       "        vertical-align: top;\n",
       "    }\n",
       "\n",
       "    .dataframe thead th {\n",
       "        text-align: right;\n",
       "    }\n",
       "</style>\n",
       "<table border=\"1\" class=\"dataframe\">\n",
       "  <thead>\n",
       "    <tr style=\"text-align: right;\">\n",
       "      <th></th>\n",
       "      <th>debt</th>\n",
       "    </tr>\n",
       "    <tr>\n",
       "      <th>family_status_id</th>\n",
       "      <th></th>\n",
       "    </tr>\n",
       "  </thead>\n",
       "  <tbody>\n",
       "    <tr>\n",
       "      <th>0</th>\n",
       "      <td>0.075421</td>\n",
       "    </tr>\n",
       "    <tr>\n",
       "      <th>1</th>\n",
       "      <td>0.093202</td>\n",
       "    </tr>\n",
       "    <tr>\n",
       "      <th>2</th>\n",
       "      <td>0.065693</td>\n",
       "    </tr>\n",
       "    <tr>\n",
       "      <th>3</th>\n",
       "      <td>0.071130</td>\n",
       "    </tr>\n",
       "    <tr>\n",
       "      <th>4</th>\n",
       "      <td>0.097509</td>\n",
       "    </tr>\n",
       "  </tbody>\n",
       "</table>\n",
       "</div>"
      ],
      "text/plain": [
       "                      debt\n",
       "family_status_id          \n",
       "0                 0.075421\n",
       "1                 0.093202\n",
       "2                 0.065693\n",
       "3                 0.071130\n",
       "4                 0.097509"
      ]
     },
     "execution_count": 68,
     "metadata": {},
     "output_type": "execute_result"
    }
   ],
   "source": [
    "data.groupby( ['family_status_id'] ).agg({'debt': 'mean'})"
   ]
  },
  {
   "cell_type": "markdown",
   "id": "3fdadfc9",
   "metadata": {},
   "source": [
    "Для удобства и быстроты понимания уровня дефолта выведем словарь-идентификатор семейного положения, полученный в [п. 2.5.](#soffee) нашего исследования."
   ]
  },
  {
   "cell_type": "code",
   "execution_count": 69,
   "id": "647a0e9d",
   "metadata": {},
   "outputs": [
    {
     "data": {
      "text/html": [
       "<div>\n",
       "<style scoped>\n",
       "    .dataframe tbody tr th:only-of-type {\n",
       "        vertical-align: middle;\n",
       "    }\n",
       "\n",
       "    .dataframe tbody tr th {\n",
       "        vertical-align: top;\n",
       "    }\n",
       "\n",
       "    .dataframe thead th {\n",
       "        text-align: right;\n",
       "    }\n",
       "</style>\n",
       "<table border=\"1\" class=\"dataframe\">\n",
       "  <thead>\n",
       "    <tr style=\"text-align: right;\">\n",
       "      <th></th>\n",
       "      <th>family_status_id</th>\n",
       "      <th>family_status</th>\n",
       "    </tr>\n",
       "  </thead>\n",
       "  <tbody>\n",
       "    <tr>\n",
       "      <th>0</th>\n",
       "      <td>0</td>\n",
       "      <td>женат / замужем</td>\n",
       "    </tr>\n",
       "    <tr>\n",
       "      <th>1</th>\n",
       "      <td>1</td>\n",
       "      <td>гражданский брак</td>\n",
       "    </tr>\n",
       "    <tr>\n",
       "      <th>2</th>\n",
       "      <td>2</td>\n",
       "      <td>вдовец / вдова</td>\n",
       "    </tr>\n",
       "    <tr>\n",
       "      <th>3</th>\n",
       "      <td>3</td>\n",
       "      <td>в разводе</td>\n",
       "    </tr>\n",
       "    <tr>\n",
       "      <th>4</th>\n",
       "      <td>4</td>\n",
       "      <td>Не женат / не замужем</td>\n",
       "    </tr>\n",
       "  </tbody>\n",
       "</table>\n",
       "</div>"
      ],
      "text/plain": [
       "   family_status_id          family_status\n",
       "0                 0        женат / замужем\n",
       "1                 1       гражданский брак\n",
       "2                 2         вдовец / вдова\n",
       "3                 3              в разводе\n",
       "4                 4  Не женат / не замужем"
      ]
     },
     "execution_count": 69,
     "metadata": {},
     "output_type": "execute_result"
    }
   ],
   "source": [
    "data_family_status_id"
   ]
  },
  {
   "cell_type": "markdown",
   "id": "3baab6a8",
   "metadata": {},
   "source": [
    "**Вывод**\n",
    "\n",
    " Данные показывают, что кардинально семейное положение заемщика не влияет на возврат кредита, так как процент должников колеблется в пределах от 6,6% до 9,75%. \n",
    "\n",
    "Самый низкий процент задолженников во второй категории -'вдовец/вдова' - 6,6%. При этом максимальный порог невозврата кредита среди всех категорий не превышает 9,75% и является показателем в четвертой катгории - 'не женат/не замужем'."
   ]
  },
  {
   "cell_type": "markdown",
   "id": "2e4e7361",
   "metadata": {},
   "source": [
    "### Есть ли зависимость между уровнем дохода заемщика и возвратом кредита в срок?"
   ]
  },
  {
   "cell_type": "markdown",
   "id": "4d8a480a",
   "metadata": {},
   "source": [
    "Для ответа на этот вопрос рассчитаем долю дефолта по каждой категории заемщиков. Для этого воспользуемся данными из нового столбца с категоризацией дохода total_income_category , полученный в [п.2.6.](#soffee1) нашего исследования."
   ]
  },
  {
   "cell_type": "code",
   "execution_count": 70,
   "id": "4c50c538",
   "metadata": {},
   "outputs": [
    {
     "data": {
      "text/html": [
       "<div>\n",
       "<style scoped>\n",
       "    .dataframe tbody tr th:only-of-type {\n",
       "        vertical-align: middle;\n",
       "    }\n",
       "\n",
       "    .dataframe tbody tr th {\n",
       "        vertical-align: top;\n",
       "    }\n",
       "\n",
       "    .dataframe thead th {\n",
       "        text-align: right;\n",
       "    }\n",
       "</style>\n",
       "<table border=\"1\" class=\"dataframe\">\n",
       "  <thead>\n",
       "    <tr style=\"text-align: right;\">\n",
       "      <th></th>\n",
       "      <th>debt</th>\n",
       "    </tr>\n",
       "    <tr>\n",
       "      <th>total_income_category</th>\n",
       "      <th></th>\n",
       "    </tr>\n",
       "  </thead>\n",
       "  <tbody>\n",
       "    <tr>\n",
       "      <th>A</th>\n",
       "      <td>0.080000</td>\n",
       "    </tr>\n",
       "    <tr>\n",
       "      <th>B</th>\n",
       "      <td>0.070621</td>\n",
       "    </tr>\n",
       "    <tr>\n",
       "      <th>C</th>\n",
       "      <td>0.084825</td>\n",
       "    </tr>\n",
       "    <tr>\n",
       "      <th>D</th>\n",
       "      <td>0.060000</td>\n",
       "    </tr>\n",
       "    <tr>\n",
       "      <th>E</th>\n",
       "      <td>0.090909</td>\n",
       "    </tr>\n",
       "  </tbody>\n",
       "</table>\n",
       "</div>"
      ],
      "text/plain": [
       "                           debt\n",
       "total_income_category          \n",
       "A                      0.080000\n",
       "B                      0.070621\n",
       "C                      0.084825\n",
       "D                      0.060000\n",
       "E                      0.090909"
      ]
     },
     "execution_count": 70,
     "metadata": {},
     "output_type": "execute_result"
    }
   ],
   "source": [
    "data.groupby( ['total_income_category'] ).agg({'debt': 'mean'})"
   ]
  },
  {
   "cell_type": "markdown",
   "id": "20e6f7f6",
   "metadata": {},
   "source": [
    "Для удобства и быстроты понимания значений в категориях дохода заемщика вспомним функцию для их расчета."
   ]
  },
  {
   "cell_type": "code",
   "execution_count": 71,
   "id": "185d5d50",
   "metadata": {},
   "outputs": [],
   "source": [
    "def income_category(income):\n",
    "    if 0 <= income <= 30000:\n",
    "        return 'E'\n",
    "    elif 30001 <= income <= 50000:\n",
    "        return 'D'\n",
    "    elif 50001 <= income <= 200000:\n",
    "        return 'C'\n",
    "    elif 200001 <= income <= 1000000:\n",
    "        return 'B'\n",
    "    elif 1000001 <= income <= 10000000:\n",
    "        return 'A'\n",
    "    else:\n",
    "        return 'Внимание!'"
   ]
  },
  {
   "cell_type": "markdown",
   "id": "8325bc35",
   "metadata": {},
   "source": [
    "**Вывод**\n",
    "\n",
    "Данные показывают, что принципиально доход заемщика не влияет на возврат кредита и процент невозврата кредита колеблется от 6 до 9% во всех категориях.\n",
    "\n",
    "Однако стоит отметить, что самый большой процент невозврата - 9% у заемщиков категории 'Е' с самым низким уровнем дохода - менее 30 тысяч рублей. При этом самыми ответственными заемщиками можно считать категорю 'D' - с уровнем дохода от 30 до 50 тысяч реблей - здесь уровень задолженников не превышает 6%. "
   ]
  },
  {
   "cell_type": "markdown",
   "id": "3eb5fa75",
   "metadata": {},
   "source": [
    "### Как разные цели кредита влияют на его возврат в срок?"
   ]
  },
  {
   "cell_type": "markdown",
   "id": "d92b0e67",
   "metadata": {},
   "source": [
    "Для ответа на этот вопрос рассчитаем долю дефолта по каждой категории. Для этого воспользуемся данными из нового столбца с категоризацией цели кредита и получен новый столбец `purpose_category`, полученный в [п.2.7.](#soffee2) нашего исследования."
   ]
  },
  {
   "cell_type": "code",
   "execution_count": 72,
   "id": "cf0f3261",
   "metadata": {},
   "outputs": [
    {
     "data": {
      "text/html": [
       "<div>\n",
       "<style scoped>\n",
       "    .dataframe tbody tr th:only-of-type {\n",
       "        vertical-align: middle;\n",
       "    }\n",
       "\n",
       "    .dataframe tbody tr th {\n",
       "        vertical-align: top;\n",
       "    }\n",
       "\n",
       "    .dataframe thead th {\n",
       "        text-align: right;\n",
       "    }\n",
       "</style>\n",
       "<table border=\"1\" class=\"dataframe\">\n",
       "  <thead>\n",
       "    <tr style=\"text-align: right;\">\n",
       "      <th></th>\n",
       "      <th>debt</th>\n",
       "    </tr>\n",
       "    <tr>\n",
       "      <th>purpose_category</th>\n",
       "      <th></th>\n",
       "    </tr>\n",
       "  </thead>\n",
       "  <tbody>\n",
       "    <tr>\n",
       "      <th>операции с автомобилем</th>\n",
       "      <td>0.093547</td>\n",
       "    </tr>\n",
       "    <tr>\n",
       "      <th>операции с недвижимостью</th>\n",
       "      <td>0.072314</td>\n",
       "    </tr>\n",
       "    <tr>\n",
       "      <th>получение образования</th>\n",
       "      <td>0.092177</td>\n",
       "    </tr>\n",
       "    <tr>\n",
       "      <th>проведение свадьбы</th>\n",
       "      <td>0.079657</td>\n",
       "    </tr>\n",
       "  </tbody>\n",
       "</table>\n",
       "</div>"
      ],
      "text/plain": [
       "                              debt\n",
       "purpose_category                  \n",
       "операции с автомобилем    0.093547\n",
       "операции с недвижимостью  0.072314\n",
       "получение образования     0.092177\n",
       "проведение свадьбы        0.079657"
      ]
     },
     "execution_count": 72,
     "metadata": {},
     "output_type": "execute_result"
    }
   ],
   "source": [
    "data.groupby( ['purpose_category'] ).agg({'debt': 'mean'})"
   ]
  },
  {
   "cell_type": "markdown",
   "id": "e8fba558",
   "metadata": {},
   "source": [
    "**Вывод**\n",
    "\n",
    "Данные показывают, что цель кредита особенно не влияет на возврат кредита и процент невозврата кредита колеблется от 7 до 9% во всех категориях.\n",
    "\n",
    "Однако стоит отметить, что самый большой процент невозврата - 9% у заемщиков, получающих кредит нв 'операции с автомобилем'. При этом более ответственными заемщиками можно считать тех, кто берет кредит на 'операции с недвижимостью' - процент невозврата здесь не превышает 7,2%. "
   ]
  },
  {
   "cell_type": "markdown",
   "id": "6372ded0",
   "metadata": {},
   "source": [
    "## Общий вывод:"
   ]
  },
  {
   "cell_type": "markdown",
   "id": "d7d34e26",
   "metadata": {},
   "source": [
    "   В результате исследования были обнаружены пропуски, многочисленные аномальные значения, которые могли существенно исказить результаты анализа. Тем не менее благодаря проведенному полноценному анализу и корректировки полученных от заказчика данных, можно сделать следующие выводы и предложить необходимые меры для улучшения сбора данных.\n",
    "   В процессе предобработки возникли сложности с данными, поэтому заказчику в первую очередь рекомендуем наладить контроль за внесением значений в единую базу данных и исправить существующие несоответствия:\n",
    "   1. внести полноценные и достоверные сведения в столбец `total_income`\n",
    "   2. откорректировать описание значений в столбце `days_employed` и указать корректные единицы измерения. Так как существующее описание говорит нам о невероятном трудовом стаже заемщиков от 50 до 1100 лет! Обратить внимание на отрицательные значения стажа.\n",
    "   3. обратить внимание на столбец `children`, имеющий как отрицательные, так и аномально большие значения.\n",
    "   \n",
    "   \n",
    "   Целью исследования было понять влияют ли следующие параметры на факт погашения заемщиком кредита в срок:\n",
    "* семейное положение,\n",
    "* количество детей заемщика,\n",
    "* уровень дохода,\n",
    "* цель кредитования.\n",
    "\n",
    "   Проведенный анализ данных помог охарактеризовать основного потребителя услуги кредитования в банке:\n",
    "   \n",
    "   1. самая большая категория заемщиков не имеет детей. На их долю приходится 61% всех заемщиков, исследуемых в нашей работе.\n",
    "   2. самая большая категория заемщиков - '0' - 'женат / замужем. На ее долю приходится 53% всех заемщиков, исследуемых в нашей работе.\n",
    "   3. самая большая категория заемщиков - 'C' - с уровнем джохода от 50 до 200 тысяч рублей. На ее долю приходится 68% респондентов. \n",
    "   4. основная цель кредитования у заемщиков - 'операции с недвижимостью'. С этой целью за кредитом обратились 47% заемщиков. \n",
    "  \n",
    "При этом были получены основыне характеристики стабильного и дефолтного заемщика:\n",
    "\n",
    "* МИНИМАЛЬНЫЕ риски по невозврату кредита лежат на следующем заемщике:\n",
    "   - вдовец / вдова,\n",
    "   - не имеет детей,\n",
    "   - имеет доход от 30 до 50 тысяч рублей в месяц,\n",
    "   - цель кредита - 'операции с недвижимостью'.\n",
    "   \n",
    "  \n",
    "* МАКСИМАЛЬНЫЕ риски по невозврату кредита лежат на следующем заемщике:\n",
    "   - не женат / не замужем,\n",
    "   - с детьми (чем больше детей, тем больше вероятность невозврата кредита),\n",
    "   - имеет доход менее 30 тысяч рублей в месяц,\n",
    "   - цель кредита - 'операции с автомобилем'.\n",
    "   \n",
    "   В целом можно утверждать, что кардинальной зависимости между количеством детей у заемщика, ровно как и его семейным положением - нет.\n",
    "В расширении продуктов кредитования банку стоит опираться в первую очередь на стабильного заемщика в лице семейного человека  с хорошим стабильным достатком от 50 до 200 тыс. рублей, ставящим целью приобретение или расширений существующей жилплощади. \n",
    "В свою очередь стоит помнить о максимальных рисках с молодыми людьми, без стабильного семейного положения, с мальнькими и, возможно, не постояннными заработками, целью кредита которых является покупка автомобиля. Возможно стоит пересмотреть условия выдачи кредита, прибегнув к более тщательной проверки платежеспособности будущего заемщика. \n",
    "   "
   ]
  }
 ],
 "metadata": {
  "ExecuteTimeLog": [
   {
    "duration": 754,
    "start_time": "2022-03-07T14:14:43.898Z"
   },
   {
    "duration": 59,
    "start_time": "2022-03-07T14:14:44.655Z"
   },
   {
    "duration": 29,
    "start_time": "2022-03-07T14:14:44.717Z"
   },
   {
    "duration": 33,
    "start_time": "2022-03-07T14:14:44.748Z"
   },
   {
    "duration": 12,
    "start_time": "2022-03-07T14:14:44.783Z"
   },
   {
    "duration": 40,
    "start_time": "2022-03-07T14:14:44.797Z"
   },
   {
    "duration": 39,
    "start_time": "2022-03-07T14:14:44.839Z"
   },
   {
    "duration": 12,
    "start_time": "2022-03-07T14:14:44.882Z"
   },
   {
    "duration": 8,
    "start_time": "2022-03-07T14:14:44.897Z"
   },
   {
    "duration": 6,
    "start_time": "2022-03-07T14:14:44.908Z"
   },
   {
    "duration": 10,
    "start_time": "2022-03-07T14:14:44.917Z"
   },
   {
    "duration": 51,
    "start_time": "2022-03-07T14:14:44.930Z"
   },
   {
    "duration": 7,
    "start_time": "2022-03-07T14:14:44.983Z"
   },
   {
    "duration": 16,
    "start_time": "2022-03-07T14:14:44.993Z"
   },
   {
    "duration": 20,
    "start_time": "2022-03-07T14:14:45.011Z"
   },
   {
    "duration": 19,
    "start_time": "2022-03-07T14:14:45.034Z"
   },
   {
    "duration": 21,
    "start_time": "2022-03-07T14:14:45.055Z"
   },
   {
    "duration": 7,
    "start_time": "2022-03-07T14:14:45.079Z"
   },
   {
    "duration": 32,
    "start_time": "2022-03-07T14:14:45.089Z"
   },
   {
    "duration": 17,
    "start_time": "2022-03-07T14:14:45.124Z"
   },
   {
    "duration": 29,
    "start_time": "2022-03-07T14:14:45.144Z"
   },
   {
    "duration": 12,
    "start_time": "2022-03-07T14:14:45.176Z"
   },
   {
    "duration": 5,
    "start_time": "2022-03-07T14:14:45.195Z"
   },
   {
    "duration": 7,
    "start_time": "2022-03-07T14:14:45.204Z"
   },
   {
    "duration": 19,
    "start_time": "2022-03-07T14:14:45.213Z"
   },
   {
    "duration": 25,
    "start_time": "2022-03-07T14:14:45.273Z"
   },
   {
    "duration": 28,
    "start_time": "2022-03-07T14:14:45.301Z"
   },
   {
    "duration": 4,
    "start_time": "2022-03-07T14:14:45.331Z"
   },
   {
    "duration": 56,
    "start_time": "2022-03-07T14:14:45.337Z"
   },
   {
    "duration": 21,
    "start_time": "2022-03-07T14:14:45.396Z"
   },
   {
    "duration": 17,
    "start_time": "2022-03-07T14:14:45.420Z"
   },
   {
    "duration": 66,
    "start_time": "2022-03-07T14:14:45.440Z"
   },
   {
    "duration": 19,
    "start_time": "2022-03-07T14:14:45.509Z"
   },
   {
    "duration": 45,
    "start_time": "2022-03-07T14:14:45.530Z"
   },
   {
    "duration": 8,
    "start_time": "2022-03-07T14:14:45.578Z"
   },
   {
    "duration": 15,
    "start_time": "2022-03-07T14:14:45.588Z"
   },
   {
    "duration": 13,
    "start_time": "2022-03-07T14:14:45.606Z"
   },
   {
    "duration": 14,
    "start_time": "2022-03-07T14:14:45.622Z"
   },
   {
    "duration": 36,
    "start_time": "2022-03-07T14:14:45.639Z"
   },
   {
    "duration": 10,
    "start_time": "2022-03-07T14:14:45.678Z"
   },
   {
    "duration": 19,
    "start_time": "2022-03-07T14:14:45.690Z"
   },
   {
    "duration": 8,
    "start_time": "2022-03-07T14:14:45.712Z"
   },
   {
    "duration": 9,
    "start_time": "2022-03-07T14:14:45.723Z"
   },
   {
    "duration": 40,
    "start_time": "2022-03-07T14:14:45.735Z"
   },
   {
    "duration": 6,
    "start_time": "2022-03-07T14:14:45.778Z"
   },
   {
    "duration": 8,
    "start_time": "2022-03-07T14:14:45.786Z"
   },
   {
    "duration": 9,
    "start_time": "2022-03-07T14:14:45.797Z"
   },
   {
    "duration": 17,
    "start_time": "2022-03-07T14:14:45.808Z"
   },
   {
    "duration": 46,
    "start_time": "2022-03-07T14:14:45.827Z"
   },
   {
    "duration": 7,
    "start_time": "2022-03-07T14:14:45.875Z"
   },
   {
    "duration": 24,
    "start_time": "2022-03-07T14:14:45.885Z"
   },
   {
    "duration": 19,
    "start_time": "2022-03-07T14:14:45.911Z"
   },
   {
    "duration": 64,
    "start_time": "2022-03-07T14:14:45.932Z"
   },
   {
    "duration": 4,
    "start_time": "2022-03-07T14:14:45.998Z"
   },
   {
    "duration": 17,
    "start_time": "2022-03-07T14:14:46.004Z"
   },
   {
    "duration": 9,
    "start_time": "2022-03-07T14:14:46.023Z"
   },
   {
    "duration": 8,
    "start_time": "2022-03-07T14:14:46.034Z"
   },
   {
    "duration": 29,
    "start_time": "2022-03-07T14:14:46.045Z"
   },
   {
    "duration": 8,
    "start_time": "2022-03-07T14:14:46.077Z"
   },
   {
    "duration": 15,
    "start_time": "2022-03-07T14:14:46.087Z"
   },
   {
    "duration": 8,
    "start_time": "2022-03-07T14:14:46.105Z"
   },
   {
    "duration": 61,
    "start_time": "2022-03-07T14:14:46.116Z"
   },
   {
    "duration": 22,
    "start_time": "2022-03-07T14:14:46.180Z"
   },
   {
    "duration": 12,
    "start_time": "2022-03-07T14:14:46.205Z"
   },
   {
    "duration": 7,
    "start_time": "2022-03-07T14:14:46.219Z"
   },
   {
    "duration": 50,
    "start_time": "2022-03-07T14:14:46.229Z"
   },
   {
    "duration": 13,
    "start_time": "2022-03-07T14:14:46.282Z"
   },
   {
    "duration": 9,
    "start_time": "2022-03-07T14:15:05.266Z"
   },
   {
    "duration": 10,
    "start_time": "2022-03-07T14:15:12.977Z"
   },
   {
    "duration": 243,
    "start_time": "2022-03-08T09:08:51.513Z"
   },
   {
    "duration": 617,
    "start_time": "2022-03-08T09:08:59.750Z"
   },
   {
    "duration": 46,
    "start_time": "2022-03-08T09:09:00.929Z"
   },
   {
    "duration": 20,
    "start_time": "2022-03-08T09:09:01.890Z"
   },
   {
    "duration": 12,
    "start_time": "2022-03-08T09:09:12.657Z"
   },
   {
    "duration": 10,
    "start_time": "2022-03-08T09:11:05.882Z"
   },
   {
    "duration": 6,
    "start_time": "2022-03-08T09:11:31.309Z"
   },
   {
    "duration": 4,
    "start_time": "2022-03-08T09:11:53.375Z"
   },
   {
    "duration": 5,
    "start_time": "2022-03-08T09:12:04.666Z"
   },
   {
    "duration": 5,
    "start_time": "2022-03-08T09:12:35.397Z"
   },
   {
    "duration": 4,
    "start_time": "2022-03-08T09:16:51.294Z"
   },
   {
    "duration": 3,
    "start_time": "2022-03-08T09:20:42.209Z"
   },
   {
    "duration": 41,
    "start_time": "2022-03-08T09:20:43.082Z"
   },
   {
    "duration": 13,
    "start_time": "2022-03-08T09:20:43.956Z"
   },
   {
    "duration": 11,
    "start_time": "2022-03-08T09:20:46.147Z"
   },
   {
    "duration": 11,
    "start_time": "2022-03-08T09:20:49.169Z"
   },
   {
    "duration": 24,
    "start_time": "2022-03-08T09:20:51.279Z"
   },
   {
    "duration": 6,
    "start_time": "2022-03-08T09:20:53.029Z"
   },
   {
    "duration": 9,
    "start_time": "2022-03-08T09:20:56.748Z"
   },
   {
    "duration": 5,
    "start_time": "2022-03-08T09:20:58.615Z"
   },
   {
    "duration": 4,
    "start_time": "2022-03-08T09:20:58.887Z"
   },
   {
    "duration": 5,
    "start_time": "2022-03-08T09:20:59.546Z"
   },
   {
    "duration": 10,
    "start_time": "2022-03-08T09:21:00.910Z"
   },
   {
    "duration": 7,
    "start_time": "2022-03-08T09:21:01.735Z"
   },
   {
    "duration": 5,
    "start_time": "2022-03-08T09:21:02.271Z"
   },
   {
    "duration": 6,
    "start_time": "2022-03-08T09:21:51.927Z"
   },
   {
    "duration": 8,
    "start_time": "2022-03-08T09:21:54.167Z"
   },
   {
    "duration": 5,
    "start_time": "2022-03-08T09:21:56.607Z"
   },
   {
    "duration": 7,
    "start_time": "2022-03-08T09:21:57.115Z"
   },
   {
    "duration": 7,
    "start_time": "2022-03-08T09:21:58.229Z"
   },
   {
    "duration": 14,
    "start_time": "2022-03-08T09:21:59.314Z"
   },
   {
    "duration": 7,
    "start_time": "2022-03-08T09:22:05.807Z"
   },
   {
    "duration": 4,
    "start_time": "2022-03-08T09:22:06.484Z"
   },
   {
    "duration": 6,
    "start_time": "2022-03-08T09:22:07.141Z"
   },
   {
    "duration": 4,
    "start_time": "2022-03-08T09:22:14.192Z"
   },
   {
    "duration": 4,
    "start_time": "2022-03-08T09:22:14.916Z"
   },
   {
    "duration": 11,
    "start_time": "2022-03-08T09:22:15.838Z"
   },
   {
    "duration": 17,
    "start_time": "2022-03-08T09:22:17.097Z"
   },
   {
    "duration": 20,
    "start_time": "2022-03-08T09:22:17.667Z"
   },
   {
    "duration": 4,
    "start_time": "2022-03-08T09:22:21.426Z"
   },
   {
    "duration": 4,
    "start_time": "2022-03-08T09:22:48.521Z"
   },
   {
    "duration": 16,
    "start_time": "2022-03-08T09:26:03.376Z"
   },
   {
    "duration": 14,
    "start_time": "2022-03-08T09:26:04.306Z"
   },
   {
    "duration": 11,
    "start_time": "2022-03-08T09:26:08.702Z"
   },
   {
    "duration": 25,
    "start_time": "2022-03-08T09:26:09.639Z"
   },
   {
    "duration": 12,
    "start_time": "2022-03-08T09:26:10.473Z"
   },
   {
    "duration": 4,
    "start_time": "2022-03-08T09:26:24.274Z"
   },
   {
    "duration": 4,
    "start_time": "2022-03-08T09:26:24.575Z"
   },
   {
    "duration": 7,
    "start_time": "2022-03-08T09:26:25.208Z"
   },
   {
    "duration": 7,
    "start_time": "2022-03-08T09:26:25.557Z"
   },
   {
    "duration": 7,
    "start_time": "2022-03-08T09:26:26.615Z"
   },
   {
    "duration": 7,
    "start_time": "2022-03-08T09:26:32.090Z"
   },
   {
    "duration": 6,
    "start_time": "2022-03-08T09:26:33.298Z"
   },
   {
    "duration": 10,
    "start_time": "2022-03-08T09:26:34.013Z"
   },
   {
    "duration": 3,
    "start_time": "2022-03-08T09:46:17.007Z"
   },
   {
    "duration": 3,
    "start_time": "2022-03-08T09:46:19.897Z"
   },
   {
    "duration": 4,
    "start_time": "2022-03-08T09:46:20.793Z"
   },
   {
    "duration": 3,
    "start_time": "2022-03-08T09:46:23.360Z"
   },
   {
    "duration": 3,
    "start_time": "2022-03-08T09:46:24.302Z"
   },
   {
    "duration": 3,
    "start_time": "2022-03-08T09:46:26.872Z"
   },
   {
    "duration": 3,
    "start_time": "2022-03-08T09:46:43.681Z"
   },
   {
    "duration": 10,
    "start_time": "2022-03-08T09:46:52.880Z"
   },
   {
    "duration": 8,
    "start_time": "2022-03-08T09:46:53.951Z"
   },
   {
    "duration": 5,
    "start_time": "2022-03-08T09:46:55.415Z"
   },
   {
    "duration": 13,
    "start_time": "2022-03-08T09:46:56.517Z"
   },
   {
    "duration": 13,
    "start_time": "2022-03-08T09:46:58.113Z"
   },
   {
    "duration": 19,
    "start_time": "2022-03-08T09:47:01.717Z"
   },
   {
    "duration": 3,
    "start_time": "2022-03-08T09:47:10.216Z"
   },
   {
    "duration": 3,
    "start_time": "2022-03-08T09:50:54.345Z"
   },
   {
    "duration": 4,
    "start_time": "2022-03-08T09:51:29.431Z"
   },
   {
    "duration": 3,
    "start_time": "2022-03-08T09:52:05.321Z"
   },
   {
    "duration": 3,
    "start_time": "2022-03-08T09:53:59.294Z"
   },
   {
    "duration": 3,
    "start_time": "2022-03-08T09:54:27.108Z"
   },
   {
    "duration": 4,
    "start_time": "2022-03-08T09:54:39.253Z"
   },
   {
    "duration": 3,
    "start_time": "2022-03-08T09:55:06.551Z"
   },
   {
    "duration": 4,
    "start_time": "2022-03-08T09:56:39.290Z"
   },
   {
    "duration": 4,
    "start_time": "2022-03-08T09:56:41.404Z"
   },
   {
    "duration": 4,
    "start_time": "2022-03-08T09:56:42.180Z"
   },
   {
    "duration": 4,
    "start_time": "2022-03-08T09:56:43.006Z"
   },
   {
    "duration": 4,
    "start_time": "2022-03-08T09:56:43.849Z"
   },
   {
    "duration": 4,
    "start_time": "2022-03-08T09:56:44.177Z"
   },
   {
    "duration": 5,
    "start_time": "2022-03-08T09:56:45.709Z"
   },
   {
    "duration": 13,
    "start_time": "2022-03-08T09:58:47.324Z"
   },
   {
    "duration": 7,
    "start_time": "2022-03-08T09:58:51.918Z"
   },
   {
    "duration": 5,
    "start_time": "2022-03-08T09:58:55.136Z"
   },
   {
    "duration": 13,
    "start_time": "2022-03-08T09:59:00.038Z"
   },
   {
    "duration": 12,
    "start_time": "2022-03-08T09:59:08.259Z"
   },
   {
    "duration": 4,
    "start_time": "2022-03-08T10:00:00.394Z"
   },
   {
    "duration": 4,
    "start_time": "2022-03-08T10:02:25.021Z"
   },
   {
    "duration": 3,
    "start_time": "2022-03-08T10:02:26.234Z"
   },
   {
    "duration": 4,
    "start_time": "2022-03-08T10:02:27.137Z"
   },
   {
    "duration": 3,
    "start_time": "2022-03-08T10:02:28.168Z"
   },
   {
    "duration": 4,
    "start_time": "2022-03-08T10:02:28.999Z"
   },
   {
    "duration": 4,
    "start_time": "2022-03-08T10:03:10.467Z"
   },
   {
    "duration": 4,
    "start_time": "2022-03-08T10:03:34.432Z"
   },
   {
    "duration": 10,
    "start_time": "2022-03-08T10:05:07.046Z"
   },
   {
    "duration": 8,
    "start_time": "2022-03-08T10:05:08.036Z"
   },
   {
    "duration": 16,
    "start_time": "2022-03-08T10:05:08.454Z"
   },
   {
    "duration": 14,
    "start_time": "2022-03-08T10:05:37.146Z"
   },
   {
    "duration": 571,
    "start_time": "2022-03-10T16:12:34.896Z"
   },
   {
    "duration": 45,
    "start_time": "2022-03-10T16:12:35.469Z"
   },
   {
    "duration": 20,
    "start_time": "2022-03-10T16:12:35.516Z"
   },
   {
    "duration": 24,
    "start_time": "2022-03-10T16:12:35.538Z"
   },
   {
    "duration": 10,
    "start_time": "2022-03-10T16:12:35.563Z"
   },
   {
    "duration": 25,
    "start_time": "2022-03-10T16:12:35.575Z"
   },
   {
    "duration": 4,
    "start_time": "2022-03-10T16:12:35.602Z"
   },
   {
    "duration": 9,
    "start_time": "2022-03-10T16:12:35.608Z"
   },
   {
    "duration": 4,
    "start_time": "2022-03-10T16:12:35.618Z"
   },
   {
    "duration": 40,
    "start_time": "2022-03-10T16:12:35.623Z"
   },
   {
    "duration": 7,
    "start_time": "2022-03-10T16:12:35.664Z"
   },
   {
    "duration": 8,
    "start_time": "2022-03-10T16:12:35.672Z"
   },
   {
    "duration": 4,
    "start_time": "2022-03-10T16:12:35.682Z"
   },
   {
    "duration": 4,
    "start_time": "2022-03-10T16:12:35.688Z"
   },
   {
    "duration": 8,
    "start_time": "2022-03-10T16:12:35.694Z"
   },
   {
    "duration": 5,
    "start_time": "2022-03-10T16:12:35.704Z"
   },
   {
    "duration": 6,
    "start_time": "2022-03-10T16:12:35.710Z"
   },
   {
    "duration": 44,
    "start_time": "2022-03-10T16:12:35.718Z"
   },
   {
    "duration": 14,
    "start_time": "2022-03-10T16:12:35.763Z"
   },
   {
    "duration": 6,
    "start_time": "2022-03-10T16:12:35.779Z"
   },
   {
    "duration": 4,
    "start_time": "2022-03-10T16:12:35.787Z"
   },
   {
    "duration": 6,
    "start_time": "2022-03-10T16:12:35.792Z"
   },
   {
    "duration": 3,
    "start_time": "2022-03-10T16:12:35.802Z"
   },
   {
    "duration": 5,
    "start_time": "2022-03-10T16:12:35.807Z"
   },
   {
    "duration": 46,
    "start_time": "2022-03-10T16:12:35.814Z"
   },
   {
    "duration": 16,
    "start_time": "2022-03-10T16:12:35.862Z"
   },
   {
    "duration": 19,
    "start_time": "2022-03-10T16:12:35.880Z"
   },
   {
    "duration": 3,
    "start_time": "2022-03-10T16:12:35.901Z"
   },
   {
    "duration": 17,
    "start_time": "2022-03-10T16:12:35.905Z"
   },
   {
    "duration": 45,
    "start_time": "2022-03-10T16:12:35.923Z"
   },
   {
    "duration": 12,
    "start_time": "2022-03-10T16:12:35.970Z"
   },
   {
    "duration": 27,
    "start_time": "2022-03-10T16:12:35.984Z"
   },
   {
    "duration": 12,
    "start_time": "2022-03-10T16:12:36.014Z"
   },
   {
    "duration": 4,
    "start_time": "2022-03-10T16:12:36.060Z"
   },
   {
    "duration": 8,
    "start_time": "2022-03-10T16:12:36.065Z"
   },
   {
    "duration": 8,
    "start_time": "2022-03-10T16:12:36.074Z"
   },
   {
    "duration": 6,
    "start_time": "2022-03-10T16:12:36.083Z"
   },
   {
    "duration": 5,
    "start_time": "2022-03-10T16:12:36.091Z"
   },
   {
    "duration": 12,
    "start_time": "2022-03-10T16:12:36.098Z"
   },
   {
    "duration": 8,
    "start_time": "2022-03-10T16:12:36.112Z"
   },
   {
    "duration": 38,
    "start_time": "2022-03-10T16:12:36.122Z"
   },
   {
    "duration": 4,
    "start_time": "2022-03-10T16:12:36.162Z"
   },
   {
    "duration": 7,
    "start_time": "2022-03-10T16:12:36.167Z"
   },
   {
    "duration": 6,
    "start_time": "2022-03-10T16:12:36.176Z"
   },
   {
    "duration": 4,
    "start_time": "2022-03-10T16:12:36.184Z"
   },
   {
    "duration": 5,
    "start_time": "2022-03-10T16:12:36.190Z"
   },
   {
    "duration": 4,
    "start_time": "2022-03-10T16:12:36.197Z"
   },
   {
    "duration": 4,
    "start_time": "2022-03-10T16:12:36.203Z"
   },
   {
    "duration": 13,
    "start_time": "2022-03-10T16:12:36.209Z"
   },
   {
    "duration": 39,
    "start_time": "2022-03-10T16:12:36.223Z"
   },
   {
    "duration": 7,
    "start_time": "2022-03-10T16:12:36.263Z"
   },
   {
    "duration": 15,
    "start_time": "2022-03-10T16:12:36.271Z"
   },
   {
    "duration": 12,
    "start_time": "2022-03-10T16:12:36.288Z"
   },
   {
    "duration": 19,
    "start_time": "2022-03-10T16:12:36.302Z"
   },
   {
    "duration": 4,
    "start_time": "2022-03-10T16:12:36.322Z"
   },
   {
    "duration": 34,
    "start_time": "2022-03-10T16:12:36.327Z"
   },
   {
    "duration": 5,
    "start_time": "2022-03-10T16:12:36.362Z"
   },
   {
    "duration": 6,
    "start_time": "2022-03-10T16:12:36.368Z"
   },
   {
    "duration": 5,
    "start_time": "2022-03-10T16:12:36.375Z"
   },
   {
    "duration": 10,
    "start_time": "2022-03-10T16:12:36.381Z"
   },
   {
    "duration": 4,
    "start_time": "2022-03-10T16:12:36.393Z"
   },
   {
    "duration": 11,
    "start_time": "2022-03-10T16:12:36.399Z"
   },
   {
    "duration": 8,
    "start_time": "2022-03-10T16:12:36.411Z"
   },
   {
    "duration": 51,
    "start_time": "2022-03-10T16:12:36.421Z"
   },
   {
    "duration": 14,
    "start_time": "2022-03-10T16:12:36.474Z"
   },
   {
    "duration": 6,
    "start_time": "2022-03-10T16:12:36.489Z"
   },
   {
    "duration": 4,
    "start_time": "2022-03-10T16:12:36.497Z"
   },
   {
    "duration": 6,
    "start_time": "2022-03-10T16:12:36.506Z"
   },
   {
    "duration": 8,
    "start_time": "2022-03-10T16:12:36.513Z"
   },
   {
    "duration": 19,
    "start_time": "2022-03-10T16:12:51.410Z"
   },
   {
    "duration": 6,
    "start_time": "2022-03-10T16:13:11.656Z"
   },
   {
    "duration": 8,
    "start_time": "2022-03-10T16:13:53.082Z"
   },
   {
    "duration": 327,
    "start_time": "2022-03-11T07:43:37.331Z"
   },
   {
    "duration": 813,
    "start_time": "2022-03-11T07:43:47.943Z"
   },
   {
    "duration": 59,
    "start_time": "2022-03-11T07:43:49.142Z"
   },
   {
    "duration": 30,
    "start_time": "2022-03-11T07:43:50.031Z"
   },
   {
    "duration": 15,
    "start_time": "2022-03-11T07:43:51.863Z"
   },
   {
    "duration": 13,
    "start_time": "2022-03-11T07:43:53.393Z"
   },
   {
    "duration": 38,
    "start_time": "2022-03-11T07:43:54.202Z"
   },
   {
    "duration": 8,
    "start_time": "2022-03-11T07:44:04.593Z"
   },
   {
    "duration": 13,
    "start_time": "2022-03-11T07:44:18.141Z"
   },
   {
    "duration": 6,
    "start_time": "2022-03-11T07:44:22.139Z"
   },
   {
    "duration": 6,
    "start_time": "2022-03-11T07:44:22.923Z"
   },
   {
    "duration": 7,
    "start_time": "2022-03-11T07:44:23.982Z"
   },
   {
    "duration": 11,
    "start_time": "2022-03-11T07:44:26.943Z"
   },
   {
    "duration": 7,
    "start_time": "2022-03-11T07:44:28.943Z"
   },
   {
    "duration": 6,
    "start_time": "2022-03-11T07:44:29.523Z"
   },
   {
    "duration": 8,
    "start_time": "2022-03-11T07:44:34.746Z"
   },
   {
    "duration": 13,
    "start_time": "2022-03-11T07:46:45.472Z"
   },
   {
    "duration": 5,
    "start_time": "2022-03-11T07:47:27.497Z"
   },
   {
    "duration": 7,
    "start_time": "2022-03-11T07:47:31.527Z"
   },
   {
    "duration": 8,
    "start_time": "2022-03-11T07:47:45.771Z"
   },
   {
    "duration": 9,
    "start_time": "2022-03-11T07:47:47.596Z"
   },
   {
    "duration": 33,
    "start_time": "2022-03-11T07:47:50.070Z"
   },
   {
    "duration": 13,
    "start_time": "2022-03-11T07:47:54.829Z"
   },
   {
    "duration": 7,
    "start_time": "2022-03-11T07:47:56.583Z"
   },
   {
    "duration": 8,
    "start_time": "2022-03-11T07:47:57.669Z"
   },
   {
    "duration": 7,
    "start_time": "2022-03-11T07:48:01.528Z"
   },
   {
    "duration": 6,
    "start_time": "2022-03-11T07:48:02.768Z"
   },
   {
    "duration": 20,
    "start_time": "2022-03-11T07:48:03.690Z"
   },
   {
    "duration": 34,
    "start_time": "2022-03-11T07:48:07.968Z"
   },
   {
    "duration": 32,
    "start_time": "2022-03-11T07:48:08.989Z"
   },
   {
    "duration": 5,
    "start_time": "2022-03-11T07:48:10.509Z"
   },
   {
    "duration": 22,
    "start_time": "2022-03-11T07:48:14.069Z"
   },
   {
    "duration": 23,
    "start_time": "2022-03-11T07:48:14.588Z"
   },
   {
    "duration": 27,
    "start_time": "2022-03-11T07:48:15.689Z"
   },
   {
    "duration": 56,
    "start_time": "2022-03-11T07:48:16.417Z"
   },
   {
    "duration": 30,
    "start_time": "2022-03-11T07:48:17.830Z"
   },
   {
    "duration": 6,
    "start_time": "2022-03-11T07:48:20.449Z"
   },
   {
    "duration": 7,
    "start_time": "2022-03-11T07:48:23.708Z"
   },
   {
    "duration": 7,
    "start_time": "2022-03-11T07:48:24.369Z"
   },
   {
    "duration": 9,
    "start_time": "2022-03-11T07:48:24.628Z"
   },
   {
    "duration": 11,
    "start_time": "2022-03-11T07:48:25.197Z"
   },
   {
    "duration": 10,
    "start_time": "2022-03-11T07:48:25.585Z"
   },
   {
    "duration": 9,
    "start_time": "2022-03-11T07:48:26.853Z"
   },
   {
    "duration": 21,
    "start_time": "2022-03-11T07:48:27.668Z"
   },
   {
    "duration": 7,
    "start_time": "2022-03-11T07:48:42.709Z"
   },
   {
    "duration": 4,
    "start_time": "2022-03-11T07:48:57.429Z"
   },
   {
    "duration": 5,
    "start_time": "2022-03-11T07:48:57.649Z"
   },
   {
    "duration": 5,
    "start_time": "2022-03-11T07:48:57.848Z"
   },
   {
    "duration": 6,
    "start_time": "2022-03-11T07:48:58.096Z"
   },
   {
    "duration": 5,
    "start_time": "2022-03-11T07:48:58.609Z"
   },
   {
    "duration": 5,
    "start_time": "2022-03-11T07:48:58.848Z"
   },
   {
    "duration": 17,
    "start_time": "2022-03-11T07:49:02.077Z"
   },
   {
    "duration": 10,
    "start_time": "2022-03-11T07:49:02.609Z"
   },
   {
    "duration": 7,
    "start_time": "2022-03-11T07:49:02.834Z"
   },
   {
    "duration": 21,
    "start_time": "2022-03-11T07:49:03.129Z"
   },
   {
    "duration": 21,
    "start_time": "2022-03-11T07:49:03.397Z"
   },
   {
    "duration": 26,
    "start_time": "2022-03-11T07:49:04.760Z"
   },
   {
    "duration": 4,
    "start_time": "2022-03-11T07:49:07.371Z"
   },
   {
    "duration": 5,
    "start_time": "2022-03-11T07:49:19.629Z"
   },
   {
    "duration": 5,
    "start_time": "2022-03-11T07:49:19.857Z"
   },
   {
    "duration": 5,
    "start_time": "2022-03-11T07:49:20.069Z"
   },
   {
    "duration": 5,
    "start_time": "2022-03-11T07:49:20.229Z"
   },
   {
    "duration": 5,
    "start_time": "2022-03-11T07:49:20.483Z"
   },
   {
    "duration": 5,
    "start_time": "2022-03-11T07:49:20.749Z"
   },
   {
    "duration": 13,
    "start_time": "2022-03-11T07:49:24.005Z"
   },
   {
    "duration": 10,
    "start_time": "2022-03-11T07:49:24.339Z"
   },
   {
    "duration": 25,
    "start_time": "2022-03-11T07:49:24.567Z"
   },
   {
    "duration": 20,
    "start_time": "2022-03-11T07:49:25.231Z"
   },
   {
    "duration": 7,
    "start_time": "2022-03-11T07:51:50.237Z"
   },
   {
    "duration": 13,
    "start_time": "2022-03-11T07:51:57.538Z"
   },
   {
    "duration": 12,
    "start_time": "2022-03-11T07:53:59.859Z"
   },
   {
    "duration": 16,
    "start_time": "2022-03-11T07:58:53.079Z"
   },
   {
    "duration": 837,
    "start_time": "2022-03-11T07:59:15.619Z"
   },
   {
    "duration": 12,
    "start_time": "2022-03-11T07:59:22.810Z"
   },
   {
    "duration": 10,
    "start_time": "2022-03-11T07:59:54.434Z"
   },
   {
    "duration": 295,
    "start_time": "2022-03-11T08:00:05.159Z"
   },
   {
    "duration": 11,
    "start_time": "2022-03-11T08:00:20.722Z"
   },
   {
    "duration": 9,
    "start_time": "2022-03-11T08:02:50.719Z"
   },
   {
    "duration": 14,
    "start_time": "2022-03-11T08:08:24.859Z"
   },
   {
    "duration": 14,
    "start_time": "2022-03-11T08:16:58.442Z"
   }
  ],
  "kernelspec": {
   "display_name": "Python 3 (ipykernel)",
   "language": "python",
   "name": "python3"
  },
  "language_info": {
   "codemirror_mode": {
    "name": "ipython",
    "version": 3
   },
   "file_extension": ".py",
   "mimetype": "text/x-python",
   "name": "python",
   "nbconvert_exporter": "python",
   "pygments_lexer": "ipython3",
   "version": "3.9.7"
  },
  "toc": {
   "base_numbering": 1,
   "nav_menu": {
    "height": "247px",
    "width": "812px"
   },
   "number_sections": true,
   "sideBar": true,
   "skip_h1_title": true,
   "title_cell": "Исследование надежности заемщиков",
   "title_sidebar": "Contents",
   "toc_cell": true,
   "toc_position": {
    "height": "calc(100% - 180px)",
    "left": "10px",
    "top": "150px",
    "width": "383.993px"
   },
   "toc_section_display": true,
   "toc_window_display": true
  }
 },
 "nbformat": 4,
 "nbformat_minor": 5
}
