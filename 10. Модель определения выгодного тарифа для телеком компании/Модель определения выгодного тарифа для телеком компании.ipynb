{
 "cells": [
  {
   "cell_type": "markdown",
   "id": "8b8b5e8e",
   "metadata": {},
   "source": [
    "# Построение оптимальной модели для выбора подходящего тарифа"
   ]
  },
  {
   "cell_type": "markdown",
   "id": "2d4f878b",
   "metadata": {},
   "source": [
    "**Описание проекта**\n",
    "\n",
    "Заказчик - оператор мобильной связи «Мегалайн» выяснил, что многие клиенты пользуются архивными тарифами. Оператор хочет построить систему, способную проанализировать поведение клиентов и предложить пользователям новый тариф: «Смарт» или «Ультра».\n",
    "\n",
    "В нашем распоряжении данные о поведении клиентов, которые уже перешли на эти тарифы. \n",
    "\n",
    "**Описание данных**\n",
    "\n",
    "Согласно документации к данным:\n",
    "\n",
    "   * `сalls` — количество звонков,\n",
    "   * `minutes` — суммарная длительность звонков в минутах,\n",
    "   * `messages` — количество sms-сообщений,\n",
    "   * `mb_used` — израсходованный интернет-трафик в Мб,\n",
    "   * `is_ultra` — каким тарифом пользовался абонент в течение месяца («Ультра» — 1, «Смарт» — 0).\n",
    "\n",
    "\n",
    "**Цель исследования**\n",
    "\n",
    "Построить модель для задачи классификации, которая выберет подходящий тариф.\n",
    "Необходимо построить модель с максимально большим значением accuracy - не менее 0.75. \n",
    "\n",
    " **Ход исследования**\n",
    " \n",
    "Входные данные получим из файла `/datasets/users_behavior.csv`.\n",
    "По условию данные уже предобработаны и подготовлены для построения модели. \n",
    "\n"
   ]
  },
  {
   "cell_type": "markdown",
   "id": "451d1f4a",
   "metadata": {},
   "source": [
    "## Обзор данных"
   ]
  },
  {
   "cell_type": "markdown",
   "id": "1f57309a",
   "metadata": {},
   "source": [
    "Импортируем все необходимые для построения моделей библиотеки. "
   ]
  },
  {
   "cell_type": "code",
   "execution_count": 1,
   "id": "62b26ebd",
   "metadata": {},
   "outputs": [],
   "source": [
    "import pandas as pd\n",
    "import seaborn as sns\n",
    "import numpy as np\n",
    "import matplotlib.pyplot as plt\n",
    "from sklearn.tree import DecisionTreeClassifier\n",
    "from sklearn.model_selection import train_test_split\n",
    "from sklearn.metrics import accuracy_score\n",
    "from sklearn.ensemble import RandomForestClassifier\n",
    "from sklearn.linear_model import LogisticRegression\n",
    "from sklearn.dummy import DummyClassifier"
   ]
  },
  {
   "cell_type": "markdown",
   "id": "0183b9c5",
   "metadata": {},
   "source": [
    "Прочитаем файл:"
   ]
  },
  {
   "cell_type": "code",
   "execution_count": 2,
   "id": "071884ba",
   "metadata": {},
   "outputs": [],
   "source": [
    "try:\n",
    "    data = pd.read_csv('/datasets/users_behavior.csv')\n",
    "except:\n",
    "    data = pd.read_csv('https://code.s3.yandex.net/datasets/data.csv')"
   ]
  },
  {
   "cell_type": "code",
   "execution_count": 3,
   "id": "3a1210fa",
   "metadata": {},
   "outputs": [],
   "source": [
    "df = pd.read_csv('/Users/sofyabelaya/Downloads/users_behavior.csv')"
   ]
  },
  {
   "cell_type": "markdown",
   "id": "2d31e42b",
   "metadata": {},
   "source": [
    "Познакомимся с данными. Для этого создадим функцию, которая выводит общую информацию о данных, проверяет данные на пропуски и дубликаты, а также знакомит нас с основными статистическими характеристиками данных:"
   ]
  },
  {
   "cell_type": "code",
   "execution_count": 4,
   "id": "1dec8970",
   "metadata": {},
   "outputs": [],
   "source": [
    "def df_info(df):\n",
    "    print('Познакомимся с данными')\n",
    "    display(df.head())\n",
    "    print()\n",
    "    print('Посмотрим сводную информация о данных')\n",
    "    print()\n",
    "    df.info()\n",
    "    print()\n",
    "    print(\"Проверим данные на пропуски и дубликаты\")\n",
    "    print()\n",
    "    print(\"Доля пропусков:\")\n",
    "    display(df.isna().mean())\n",
    "    print()\n",
    "    print(\"Количество дубликатов:\", df.duplicated().sum()) \n",
    "    print()\n",
    "    print(\"Сводка статистики \")  \n",
    "    display(df.describe())     "
   ]
  },
  {
   "cell_type": "markdown",
   "id": "7c9f89ef",
   "metadata": {},
   "source": [
    "Посмотрим эту информацию:"
   ]
  },
  {
   "cell_type": "code",
   "execution_count": 5,
   "id": "fadf4a49",
   "metadata": {
    "scrolled": false
   },
   "outputs": [
    {
     "name": "stdout",
     "output_type": "stream",
     "text": [
      "Познакомимся с данными\n"
     ]
    },
    {
     "data": {
      "text/html": [
       "<div>\n",
       "<style scoped>\n",
       "    .dataframe tbody tr th:only-of-type {\n",
       "        vertical-align: middle;\n",
       "    }\n",
       "\n",
       "    .dataframe tbody tr th {\n",
       "        vertical-align: top;\n",
       "    }\n",
       "\n",
       "    .dataframe thead th {\n",
       "        text-align: right;\n",
       "    }\n",
       "</style>\n",
       "<table border=\"1\" class=\"dataframe\">\n",
       "  <thead>\n",
       "    <tr style=\"text-align: right;\">\n",
       "      <th></th>\n",
       "      <th>calls</th>\n",
       "      <th>minutes</th>\n",
       "      <th>messages</th>\n",
       "      <th>mb_used</th>\n",
       "      <th>is_ultra</th>\n",
       "    </tr>\n",
       "  </thead>\n",
       "  <tbody>\n",
       "    <tr>\n",
       "      <th>0</th>\n",
       "      <td>40.0</td>\n",
       "      <td>311.90</td>\n",
       "      <td>83.0</td>\n",
       "      <td>19915.42</td>\n",
       "      <td>0</td>\n",
       "    </tr>\n",
       "    <tr>\n",
       "      <th>1</th>\n",
       "      <td>85.0</td>\n",
       "      <td>516.75</td>\n",
       "      <td>56.0</td>\n",
       "      <td>22696.96</td>\n",
       "      <td>0</td>\n",
       "    </tr>\n",
       "    <tr>\n",
       "      <th>2</th>\n",
       "      <td>77.0</td>\n",
       "      <td>467.66</td>\n",
       "      <td>86.0</td>\n",
       "      <td>21060.45</td>\n",
       "      <td>0</td>\n",
       "    </tr>\n",
       "    <tr>\n",
       "      <th>3</th>\n",
       "      <td>106.0</td>\n",
       "      <td>745.53</td>\n",
       "      <td>81.0</td>\n",
       "      <td>8437.39</td>\n",
       "      <td>1</td>\n",
       "    </tr>\n",
       "    <tr>\n",
       "      <th>4</th>\n",
       "      <td>66.0</td>\n",
       "      <td>418.74</td>\n",
       "      <td>1.0</td>\n",
       "      <td>14502.75</td>\n",
       "      <td>0</td>\n",
       "    </tr>\n",
       "  </tbody>\n",
       "</table>\n",
       "</div>"
      ],
      "text/plain": [
       "   calls  minutes  messages   mb_used  is_ultra\n",
       "0   40.0   311.90      83.0  19915.42         0\n",
       "1   85.0   516.75      56.0  22696.96         0\n",
       "2   77.0   467.66      86.0  21060.45         0\n",
       "3  106.0   745.53      81.0   8437.39         1\n",
       "4   66.0   418.74       1.0  14502.75         0"
      ]
     },
     "metadata": {},
     "output_type": "display_data"
    },
    {
     "name": "stdout",
     "output_type": "stream",
     "text": [
      "\n",
      "Посмотрим сводную информация о данных\n",
      "\n",
      "<class 'pandas.core.frame.DataFrame'>\n",
      "RangeIndex: 3214 entries, 0 to 3213\n",
      "Data columns (total 5 columns):\n",
      " #   Column    Non-Null Count  Dtype  \n",
      "---  ------    --------------  -----  \n",
      " 0   calls     3214 non-null   float64\n",
      " 1   minutes   3214 non-null   float64\n",
      " 2   messages  3214 non-null   float64\n",
      " 3   mb_used   3214 non-null   float64\n",
      " 4   is_ultra  3214 non-null   int64  \n",
      "dtypes: float64(4), int64(1)\n",
      "memory usage: 125.7 KB\n",
      "\n",
      "Проверим данные на пропуски и дубликаты\n",
      "\n",
      "Доля пропусков:\n"
     ]
    },
    {
     "data": {
      "text/plain": [
       "calls       0.0\n",
       "minutes     0.0\n",
       "messages    0.0\n",
       "mb_used     0.0\n",
       "is_ultra    0.0\n",
       "dtype: float64"
      ]
     },
     "metadata": {},
     "output_type": "display_data"
    },
    {
     "name": "stdout",
     "output_type": "stream",
     "text": [
      "\n",
      "Количество дубликатов: 0\n",
      "\n",
      "Сводка статистики \n"
     ]
    },
    {
     "data": {
      "text/html": [
       "<div>\n",
       "<style scoped>\n",
       "    .dataframe tbody tr th:only-of-type {\n",
       "        vertical-align: middle;\n",
       "    }\n",
       "\n",
       "    .dataframe tbody tr th {\n",
       "        vertical-align: top;\n",
       "    }\n",
       "\n",
       "    .dataframe thead th {\n",
       "        text-align: right;\n",
       "    }\n",
       "</style>\n",
       "<table border=\"1\" class=\"dataframe\">\n",
       "  <thead>\n",
       "    <tr style=\"text-align: right;\">\n",
       "      <th></th>\n",
       "      <th>calls</th>\n",
       "      <th>minutes</th>\n",
       "      <th>messages</th>\n",
       "      <th>mb_used</th>\n",
       "      <th>is_ultra</th>\n",
       "    </tr>\n",
       "  </thead>\n",
       "  <tbody>\n",
       "    <tr>\n",
       "      <th>count</th>\n",
       "      <td>3214.000000</td>\n",
       "      <td>3214.000000</td>\n",
       "      <td>3214.000000</td>\n",
       "      <td>3214.000000</td>\n",
       "      <td>3214.000000</td>\n",
       "    </tr>\n",
       "    <tr>\n",
       "      <th>mean</th>\n",
       "      <td>63.038892</td>\n",
       "      <td>438.208787</td>\n",
       "      <td>38.281269</td>\n",
       "      <td>17207.673836</td>\n",
       "      <td>0.306472</td>\n",
       "    </tr>\n",
       "    <tr>\n",
       "      <th>std</th>\n",
       "      <td>33.236368</td>\n",
       "      <td>234.569872</td>\n",
       "      <td>36.148326</td>\n",
       "      <td>7570.968246</td>\n",
       "      <td>0.461100</td>\n",
       "    </tr>\n",
       "    <tr>\n",
       "      <th>min</th>\n",
       "      <td>0.000000</td>\n",
       "      <td>0.000000</td>\n",
       "      <td>0.000000</td>\n",
       "      <td>0.000000</td>\n",
       "      <td>0.000000</td>\n",
       "    </tr>\n",
       "    <tr>\n",
       "      <th>25%</th>\n",
       "      <td>40.000000</td>\n",
       "      <td>274.575000</td>\n",
       "      <td>9.000000</td>\n",
       "      <td>12491.902500</td>\n",
       "      <td>0.000000</td>\n",
       "    </tr>\n",
       "    <tr>\n",
       "      <th>50%</th>\n",
       "      <td>62.000000</td>\n",
       "      <td>430.600000</td>\n",
       "      <td>30.000000</td>\n",
       "      <td>16943.235000</td>\n",
       "      <td>0.000000</td>\n",
       "    </tr>\n",
       "    <tr>\n",
       "      <th>75%</th>\n",
       "      <td>82.000000</td>\n",
       "      <td>571.927500</td>\n",
       "      <td>57.000000</td>\n",
       "      <td>21424.700000</td>\n",
       "      <td>1.000000</td>\n",
       "    </tr>\n",
       "    <tr>\n",
       "      <th>max</th>\n",
       "      <td>244.000000</td>\n",
       "      <td>1632.060000</td>\n",
       "      <td>224.000000</td>\n",
       "      <td>49745.730000</td>\n",
       "      <td>1.000000</td>\n",
       "    </tr>\n",
       "  </tbody>\n",
       "</table>\n",
       "</div>"
      ],
      "text/plain": [
       "             calls      minutes     messages       mb_used     is_ultra\n",
       "count  3214.000000  3214.000000  3214.000000   3214.000000  3214.000000\n",
       "mean     63.038892   438.208787    38.281269  17207.673836     0.306472\n",
       "std      33.236368   234.569872    36.148326   7570.968246     0.461100\n",
       "min       0.000000     0.000000     0.000000      0.000000     0.000000\n",
       "25%      40.000000   274.575000     9.000000  12491.902500     0.000000\n",
       "50%      62.000000   430.600000    30.000000  16943.235000     0.000000\n",
       "75%      82.000000   571.927500    57.000000  21424.700000     1.000000\n",
       "max     244.000000  1632.060000   224.000000  49745.730000     1.000000"
      ]
     },
     "metadata": {},
     "output_type": "display_data"
    }
   ],
   "source": [
    "df_info(df)"
   ]
  },
  {
   "cell_type": "markdown",
   "id": "4c07e1da",
   "metadata": {},
   "source": [
    "Итак, в таблице с данными 5 столбцов и 3214 строк. \n",
    "Каждый объект в наборе данных - это информация поведении 3214 пользователей за месяц: подключенный тариф, количество и продолжительность звонков, количество отправленных сообщений и израсходованного трафика.\n",
    "\n",
    "**Вывод**\n",
    "\n",
    "Известно, что данные уже предобработаны и готовы к построению модели. Но мы видим, что в каждом столбце есть нулевые значения и выбросы, поэтому предварительно проведем разведочный анализ данных."
   ]
  },
  {
   "cell_type": "markdown",
   "id": "b44af646",
   "metadata": {},
   "source": [
    "## Разведочный анализ данных"
   ]
  },
  {
   "cell_type": "markdown",
   "id": "133474e7",
   "metadata": {},
   "source": [
    "Для начала посмотрим распределение данных по каждому параметру на гистограммах. Для этого напишем функцию."
   ]
  },
  {
   "cell_type": "code",
   "execution_count": 6,
   "id": "0d302e53",
   "metadata": {},
   "outputs": [],
   "source": [
    "def build_plot(column, title, xlabel):\n",
    "    '''\n",
    "    Функция принимает значения столбца и строит график,\n",
    "    а также присваивает название заголока и оси x\n",
    "    '''\n",
    "    sns.set_style(\"darkgrid\")\n",
    "    sns.displot(df[column], bins=50, kde=True, color='teal')\n",
    "    plt.title(title, fontsize=15)\n",
    "    plt.xlabel(xlabel, fontsize=12)\n",
    "    plt.ylabel('Частота', fontsize=12)\n",
    "    plt.show()\n",
    "    print()\n",
    "    print('Доля данных с нулевым значением:', (df.loc[df[column] == 0][column].count() / len(df)).round(2))"
   ]
  },
  {
   "cell_type": "markdown",
   "id": "30276810",
   "metadata": {},
   "source": [
    "Распределение данных:"
   ]
  },
  {
   "cell_type": "code",
   "execution_count": 7,
   "id": "c891102d",
   "metadata": {},
   "outputs": [
    {
     "data": {
      "image/png": "[encoded data removed]",
      "text/plain": [
       "<Figure size 360x360 with 1 Axes>"
      ]
     },
     "metadata": {},
     "output_type": "display_data"
    },
    {
     "name": "stdout",
     "output_type": "stream",
     "text": [
      "\n",
      "Доля данных с нулевым значением: 0.01\n"
     ]
    }
   ],
   "source": [
    "build_plot('calls', 'Гистограмма звонков', 'Количество звонков')"
   ]
  },
  {
   "cell_type": "code",
   "execution_count": 8,
   "id": "d0d77f17",
   "metadata": {},
   "outputs": [
    {
     "data": {
      "image/png": "[encoded data removed]",
      "text/plain": [
       "<Figure size 360x360 with 1 Axes>"
      ]
     },
     "metadata": {},
     "output_type": "display_data"
    },
    {
     "name": "stdout",
     "output_type": "stream",
     "text": [
      "\n",
      "Доля данных с нулевым значением: 0.01\n"
     ]
    }
   ],
   "source": [
    "build_plot('minutes', 'Гистограмма длительности звонков', 'Длительность звонков, минуты')"
   ]
  },
  {
   "cell_type": "code",
   "execution_count": 9,
   "id": "e84a48a2",
   "metadata": {},
   "outputs": [
    {
     "data": {
      "image/png": "[encoded data removed]",
      "text/plain": [
       "<Figure size 360x360 with 1 Axes>"
      ]
     },
     "metadata": {},
     "output_type": "display_data"
    },
    {
     "name": "stdout",
     "output_type": "stream",
     "text": [
      "\n",
      "Доля данных с нулевым значением: 0.15\n"
     ]
    }
   ],
   "source": [
    "build_plot('messages', 'Гистограмма sms-сообщений', 'Количество сообщений')"
   ]
  },
  {
   "cell_type": "code",
   "execution_count": 10,
   "id": "6b51b260",
   "metadata": {},
   "outputs": [
    {
     "data": {
      "image/png": "[encoded data removed]",
      "text/plain": [
       "<Figure size 360x360 with 1 Axes>"
      ]
     },
     "metadata": {},
     "output_type": "display_data"
    },
    {
     "name": "stdout",
     "output_type": "stream",
     "text": [
      "\n",
      "Доля данных с нулевым значением: 0.0\n"
     ]
    }
   ],
   "source": [
    "build_plot('mb_used', 'Гистограмма интернет-трафика', 'Израсходованный трафик, Мб')"
   ]
  },
  {
   "cell_type": "markdown",
   "id": "7f59083e",
   "metadata": {},
   "source": [
    "Посмотрим на взаимосвязи между признаками:"
   ]
  },
  {
   "cell_type": "code",
   "execution_count": 11,
   "id": "88d27af8",
   "metadata": {
    "scrolled": false
   },
   "outputs": [
    {
     "data": {
      "image/png": "[encoded data removed]",
      "text/plain": [
       "<Figure size 1152x432 with 2 Axes>"
      ]
     },
     "metadata": {},
     "output_type": "display_data"
    }
   ],
   "source": [
    "plt.figure(figsize=(16, 6)) \n",
    "heatmap = sns.heatmap(df.corr(), vmin=-1, vmax=1, annot=True, cmap='BrBG') \n",
    "heatmap.set_title('Корреляционная тепловая карта', fontsize=18)\n",
    "plt.show()"
   ]
  },
  {
   "cell_type": "markdown",
   "id": "387b231d",
   "metadata": {},
   "source": [
    "**Вывод**\n",
    "\n",
    "В процессе анализы мы выявили два сильно коррелирующих между собой признака - `calls` и `minutes`. А мультиколлинеарные признаки усложняют интерпретацию модели и как правило ухудшают качество прогнозов. Поскольку признак `calls` не является определяющим фактором для выбора тарифа, мы его удалим.\n",
    "Также мы обнаружили некоторое количество нулевых значений в остальных признаках. Удалим эти строки для того, чтобы модель могла точнее определить закономерности между признаками\n"
   ]
  },
  {
   "cell_type": "markdown",
   "id": "46495539",
   "metadata": {},
   "source": [
    "Удалим столбец `calls`"
   ]
  },
  {
   "cell_type": "code",
   "execution_count": 12,
   "id": "336b36a5",
   "metadata": {},
   "outputs": [],
   "source": [
    "df = df.drop(columns='calls')"
   ]
  },
  {
   "cell_type": "markdown",
   "id": "7fb28679",
   "metadata": {},
   "source": [
    " другой вариант\n",
    "df = df.drop('calls', axis=1)"
   ]
  },
  {
   "cell_type": "markdown",
   "id": "268a90bb",
   "metadata": {},
   "source": [
    "Сделаем срез данных остальных признаков со значением выше нуля."
   ]
  },
  {
   "cell_type": "code",
   "execution_count": 13,
   "id": "3c40b766",
   "metadata": {},
   "outputs": [
    {
     "data": {
      "text/html": [
       "<div>\n",
       "<style scoped>\n",
       "    .dataframe tbody tr th:only-of-type {\n",
       "        vertical-align: middle;\n",
       "    }\n",
       "\n",
       "    .dataframe tbody tr th {\n",
       "        vertical-align: top;\n",
       "    }\n",
       "\n",
       "    .dataframe thead th {\n",
       "        text-align: right;\n",
       "    }\n",
       "</style>\n",
       "<table border=\"1\" class=\"dataframe\">\n",
       "  <thead>\n",
       "    <tr style=\"text-align: right;\">\n",
       "      <th></th>\n",
       "      <th>minutes</th>\n",
       "      <th>messages</th>\n",
       "      <th>mb_used</th>\n",
       "      <th>is_ultra</th>\n",
       "    </tr>\n",
       "  </thead>\n",
       "  <tbody>\n",
       "    <tr>\n",
       "      <th>0</th>\n",
       "      <td>311.90</td>\n",
       "      <td>83.0</td>\n",
       "      <td>19915.42</td>\n",
       "      <td>0</td>\n",
       "    </tr>\n",
       "    <tr>\n",
       "      <th>1</th>\n",
       "      <td>516.75</td>\n",
       "      <td>56.0</td>\n",
       "      <td>22696.96</td>\n",
       "      <td>0</td>\n",
       "    </tr>\n",
       "    <tr>\n",
       "      <th>2</th>\n",
       "      <td>467.66</td>\n",
       "      <td>86.0</td>\n",
       "      <td>21060.45</td>\n",
       "      <td>0</td>\n",
       "    </tr>\n",
       "    <tr>\n",
       "      <th>3</th>\n",
       "      <td>745.53</td>\n",
       "      <td>81.0</td>\n",
       "      <td>8437.39</td>\n",
       "      <td>1</td>\n",
       "    </tr>\n",
       "    <tr>\n",
       "      <th>4</th>\n",
       "      <td>418.74</td>\n",
       "      <td>1.0</td>\n",
       "      <td>14502.75</td>\n",
       "      <td>0</td>\n",
       "    </tr>\n",
       "  </tbody>\n",
       "</table>\n",
       "</div>"
      ],
      "text/plain": [
       "   minutes  messages   mb_used  is_ultra\n",
       "0   311.90      83.0  19915.42         0\n",
       "1   516.75      56.0  22696.96         0\n",
       "2   467.66      86.0  21060.45         0\n",
       "3   745.53      81.0   8437.39         1\n",
       "4   418.74       1.0  14502.75         0"
      ]
     },
     "execution_count": 13,
     "metadata": {},
     "output_type": "execute_result"
    }
   ],
   "source": [
    "df = df.query('messages > 0 and minutes > 0 and mb_used > 0')\n",
    "df.head()"
   ]
  },
  {
   "cell_type": "markdown",
   "id": "701526a8",
   "metadata": {},
   "source": [
    "## Раделение данных на выборки"
   ]
  },
  {
   "cell_type": "markdown",
   "id": "af961e7e",
   "metadata": {},
   "source": [
    "Перед разделением данных на выборки посмотрим каково распределение доли абонентов, пользующихся тарифом 'Ультра' и тарифом 'Смарт'. Эта информация необходима для проверки соотношения этих долей в новых выборках. Распределение долей в новых выборках для корректной работы модели должно быть близко к первоначальному распределению в исходной выборке."
   ]
  },
  {
   "cell_type": "code",
   "execution_count": 14,
   "id": "cc68e262",
   "metadata": {},
   "outputs": [],
   "source": [
    "# функция показывает долю данных по каждому тарифу\n",
    "def share_of_tariffs(data):\n",
    "    share = data['is_ultra'].value_counts(normalize=True)\n",
    "    print('Доля данных о тарифе \"Ультра\":', round(share[1], 2))\n",
    "    print('Доля данных о тарифе \"Смарт\":', round(share[0], 2))"
   ]
  },
  {
   "cell_type": "markdown",
   "id": "0dd87076",
   "metadata": {},
   "source": [
    "Посмотрим распределение данных по каждому тарифу:"
   ]
  },
  {
   "cell_type": "code",
   "execution_count": 15,
   "id": "92248d3e",
   "metadata": {
    "scrolled": true
   },
   "outputs": [
    {
     "name": "stdout",
     "output_type": "stream",
     "text": [
      "Доля данных о тарифе \"Ультра\": 0.28\n",
      "Доля данных о тарифе \"Смарт\": 0.72\n"
     ]
    }
   ],
   "source": [
    "share_of_tariffs(df)"
   ]
  },
  {
   "cell_type": "markdown",
   "id": "3291403f",
   "metadata": {},
   "source": [
    "Разделим исходные данные на: \n",
    "\n",
    "    1. обучающую выборку - 60%\n",
    "    2. валидационную выборку - 20%\n",
    "    3. тестовую выборку - 20%\n",
    "    \n",
    "С помощью параметра `random_state =12345` зафиксируем псевдослучайность результата, чтобы можно было повторить удачный эксперимент."
   ]
  },
  {
   "cell_type": "markdown",
   "id": "4a3b292d",
   "metadata": {},
   "source": [
    "Разделим исходные данные на обучающую выборку - 60% и дополнительную выборку - 40%, которую в следующем шаге разделем поровну на валидационную и тестовую выборки. Для того, чтобы быть уверенным, что таргеты будут разделены в нужном соотношении, используем параметр stratify."
   ]
  },
  {
   "cell_type": "code",
   "execution_count": 16,
   "id": "e33db4d5",
   "metadata": {},
   "outputs": [],
   "source": [
    "df_train, df_valid_and_test = train_test_split(df, \n",
    "                                               test_size=0.4, \n",
    "                                               random_state=12345, \n",
    "                                               stratify=df['is_ultra'])"
   ]
  },
  {
   "cell_type": "code",
   "execution_count": 17,
   "id": "ace7a0cf",
   "metadata": {},
   "outputs": [],
   "source": [
    "df_valid, df_test = train_test_split(df_valid_and_test, \n",
    "                                     test_size=0.5, \n",
    "                                     random_state=12345, \n",
    "                                     stratify=df_valid_and_test['is_ultra'])"
   ]
  },
  {
   "cell_type": "markdown",
   "id": "a25112a3",
   "metadata": {},
   "source": [
    "Проверим работу stratify на распределение данных по тарифам в наших выборках:"
   ]
  },
  {
   "cell_type": "code",
   "execution_count": 18,
   "id": "f06a22ea",
   "metadata": {},
   "outputs": [
    {
     "name": "stdout",
     "output_type": "stream",
     "text": [
      "Обучающая выборка\n",
      "Доля данных о тарифе \"Ультра\": 0.28\n",
      "Доля данных о тарифе \"Смарт\": 0.72\n",
      "None\n",
      "\n",
      "Валидационная выборка\n",
      "Доля данных о тарифе \"Ультра\": 0.28\n",
      "Доля данных о тарифе \"Смарт\": 0.72\n",
      "None\n",
      "\n",
      "Тестовая выборка\n",
      "Доля данных о тарифе \"Ультра\": 0.28\n",
      "Доля данных о тарифе \"Смарт\": 0.72\n",
      "None\n"
     ]
    }
   ],
   "source": [
    "print(\"Обучающая выборка\")\n",
    "print(share_of_tariffs(df_train))\n",
    "print()\n",
    "print(\"Валидационная выборка\")\n",
    "print(share_of_tariffs(df_valid))\n",
    "print()\n",
    "print(\"Тестовая выборка\")\n",
    "print(share_of_tariffs(df_test))"
   ]
  },
  {
   "cell_type": "markdown",
   "id": "f21390da",
   "metadata": {},
   "source": [
    "**Вывод**\n",
    "\n",
    "Таблица разделена на выборки с тем же сотношением объема данных о тарифах, что и в исходном датасете. "
   ]
  },
  {
   "cell_type": "markdown",
   "id": "b7eda3d5",
   "metadata": {},
   "source": [
    "## Исследование качества моделей"
   ]
  },
  {
   "cell_type": "markdown",
   "id": "1e7f9df1",
   "metadata": {},
   "source": [
    "В нашем проекте целлевой признак - это столбец `is_ultra` - где определено каким тарифом пользовался абонент в течение месяца. Поскольку это категориальный целевой признак с двумя категориями, то перед нами стоит задача бинарной классификации.\n",
    "\n",
    "Чтобы сделать предсказание о том, какой тариф лучше для абонента, нужно понимать взаимосвязи признаков и ответов. \n",
    "Мы смоделировали предположение, как устроены эти взаимосвязи. И на этом основании сделаем предсказания - модели машинного обучения.\n",
    "\n",
    "Для задачи бинарной классификации рассмотрим три модели машинного обучения:\n",
    "   1. 'Решающее дерево' \n",
    "   2. 'Случайный лес'\n",
    "   3. 'Логистическая регрессия'\n",
    "   \n",
    "У моделей машинного обучения есть дополнительные гиперпараметры, меняя которые мы сможем найти оптимальную модель."
   ]
  },
  {
   "cell_type": "markdown",
   "id": "3a1e90f4",
   "metadata": {},
   "source": [
    "Для моделирования выделим в отдельные переменные признаки и целевой признак для каждой выборки."
   ]
  },
  {
   "cell_type": "markdown",
   "id": "7aace093",
   "metadata": {},
   "source": [
    "Создание переменых с признаками и целевым признаком для обучающей выборки:"
   ]
  },
  {
   "cell_type": "code",
   "execution_count": 19,
   "id": "a4edd2c7",
   "metadata": {},
   "outputs": [],
   "source": [
    "features_train = df_train.drop('is_ultra', axis = 1)\n",
    "target_train = df_train['is_ultra']"
   ]
  },
  {
   "cell_type": "markdown",
   "id": "a8b047c5",
   "metadata": {},
   "source": [
    "Создание переменых с признаками и целевым признаком для валидационной выборки:"
   ]
  },
  {
   "cell_type": "code",
   "execution_count": 20,
   "id": "183b770e",
   "metadata": {},
   "outputs": [],
   "source": [
    "features_valid = df_valid.drop('is_ultra', axis = 1)\n",
    "target_valid = df_valid['is_ultra']"
   ]
  },
  {
   "cell_type": "markdown",
   "id": "86aca083",
   "metadata": {},
   "source": [
    "Создание переменых с признаками и целевым признаком для тестовой выборки:"
   ]
  },
  {
   "cell_type": "code",
   "execution_count": 21,
   "id": "6406d92a",
   "metadata": {},
   "outputs": [],
   "source": [
    "features_test = df_test.drop('is_ultra', axis = 1)\n",
    "target_test = df_test['is_ultra']"
   ]
  },
  {
   "cell_type": "markdown",
   "id": "5085ce4f",
   "metadata": {},
   "source": [
    "### Модель \"Дерево решений\""
   ]
  },
  {
   "cell_type": "markdown",
   "id": "54ae2df2",
   "metadata": {},
   "source": [
    "Обучение модели проведем на обучающей выборке и проверим качество предсказаний на валидационной выборке. \n",
    "\n",
    "Управлять глубиной дерева в модели 'Дерево решений' будем через гиперпараметр `depth` и попробуем подобрать оптимальную глубину дерева церез цикл.\n",
    "\n",
    "Определяющий фактор качества модели является доля правильных ответов - `accuracy`."
   ]
  },
  {
   "cell_type": "code",
   "execution_count": 22,
   "id": "7d454588",
   "metadata": {},
   "outputs": [
    {
     "name": "stdout",
     "output_type": "stream",
     "text": [
      "Лучшая модель: DecisionTreeClassifier(max_depth=4, random_state=12345)\n",
      "Accuracy лучшей модели: 0.818\n",
      "Оптимальная глубина дерева: 4\n"
     ]
    }
   ],
   "source": [
    "# создадим переменные для хранения лучших показателей: модели, доли правильных ответов и глубины дерева\n",
    "best_model = None\n",
    "best_accuracy = 0\n",
    "best_depth = 0\n",
    "\n",
    "# в цикле переберем глубины дерева от 1 до 9 инайдем лучшие показатели качества модели\n",
    "for depth in range(1, 10):\n",
    "    model = DecisionTreeClassifier(random_state=12345, max_depth=depth)\n",
    "    model.fit(features_train, target_train)\n",
    "    accuracy_valid = model.score(features_valid, target_valid)\n",
    "\n",
    "    if accuracy_valid > best_accuracy:\n",
    "        best_model = model\n",
    "        best_depth = depth\n",
    "        best_accuracy = accuracy_valid\n",
    "               \n",
    "print('Лучшая модель:', best_model) \n",
    "print('Accuracy лучшей модели:', best_accuracy.round(3))\n",
    "print('Оптимальная глубина дерева:', best_depth)\n",
    "   "
   ]
  },
  {
   "cell_type": "markdown",
   "id": "aa7af6a7",
   "metadata": {},
   "source": [
    "**Вывод**\n",
    "\n",
    "Лучшая модель \"Дерева решений\" имеет оптимальную глубину дерева - 4, а доля правильных ответов составляет 0.818."
   ]
  },
  {
   "cell_type": "markdown",
   "id": "b03125ad",
   "metadata": {},
   "source": [
    "### Модель \"Случайный лес\""
   ]
  },
  {
   "cell_type": "markdown",
   "id": "00f2ff0d",
   "metadata": {},
   "source": [
    "Попробуем еще один алгоритм классификации - 'Случайныq лес'. Обучим разное количество независимых друг от друга деревьев и найдем лучшее решение. Обучение модели проведем на обучающей выборке и проверим качество предсказаний на валидационной выборке.\n",
    "\n",
    "Управлять количеством деревьев в модели будем через гиперпараметр `n_estimators` и постараемся определить оптимальное количество деревьев через цикл.\n",
    "\n",
    "Определяющий фактор качества модели также является доля правильных ответов - `accuracy`."
   ]
  },
  {
   "cell_type": "code",
   "execution_count": 23,
   "id": "d22830b1",
   "metadata": {},
   "outputs": [
    {
     "name": "stdout",
     "output_type": "stream",
     "text": [
      "Лучшая модель: RandomForestClassifier(n_estimators=50, random_state=12345)\n",
      "Accuracy лучшей модели: 0.846\n",
      "Оптимальная количество деревьев: 50\n"
     ]
    }
   ],
   "source": [
    "best_model = None\n",
    "best_accuracy = 0\n",
    "best_est = 0\n",
    "\n",
    "# в цикле переберем глубины дерева от 1 до 60 инайдем лучшие показатели качества модели\n",
    "for est in range(1, 61):\n",
    "    model = RandomForestClassifier(random_state=12345, n_estimators=est)\n",
    "    model.fit(features_train, target_train)\n",
    "    accuracy_valid = model.score(features_valid, target_valid)\n",
    "\n",
    "    if accuracy_valid > best_accuracy:\n",
    "        best_model = model\n",
    "        best_est = est\n",
    "        best_accuracy = accuracy_valid\n",
    "               \n",
    "print('Лучшая модель:', best_model) \n",
    "print('Accuracy лучшей модели:', best_accuracy.round(3))\n",
    "print('Оптимальная количество деревьев:', best_est)\n",
    "   "
   ]
  },
  {
   "cell_type": "markdown",
   "id": "9c7a5e0d",
   "metadata": {},
   "source": [
    "**Вывод**\n",
    "\n",
    "Лучшая модель \"Случайный лес\" состоит из 50 деревьев, а доля правильных ответов в ней составляет 0.846."
   ]
  },
  {
   "cell_type": "markdown",
   "id": "88b0e41b",
   "metadata": {},
   "source": [
    "### Модель \"Логистическая регрессия\""
   ]
  },
  {
   "cell_type": "code",
   "execution_count": 24,
   "id": "7a5bc416",
   "metadata": {},
   "outputs": [
    {
     "name": "stdout",
     "output_type": "stream",
     "text": [
      "Доля правильных ответов для логистической регрессии: 0.735\n",
      "Лучшая модель: LogisticRegression(C=0.01, random_state=12345)\n",
      "Регуляризация лучшей модели: 0.01\n"
     ]
    }
   ],
   "source": [
    "best_model = None\n",
    "best_accuracy = 0\n",
    "best_c = 0\n",
    "\n",
    "#в цикле переберем регуляризацию от 0.01 до 1 и найдем лучшие показатели качества модели\n",
    "for reg in np.arange(0.01, 1.0, 0.05):\n",
    "    model = LogisticRegression(random_state=12345, C=reg)\n",
    "    model.fit(features_train, target_train)\n",
    "    accuracy_valid = model.score(features_valid, target_valid)\n",
    "    if accuracy_valid > best_accuracy:\n",
    "        best_model = model\n",
    "        best_c = reg\n",
    "        best_accuracy = accuracy_valid\n",
    "print('Доля правильных ответов для логистической регрессии:', accuracy_valid.round(3))\n",
    "print('Лучшая модель:', best_model) \n",
    "print('Регуляризация лучшей модели:', best_c)\n"
   ]
  },
  {
   "cell_type": "markdown",
   "id": "da1cf8f4",
   "metadata": {},
   "source": [
    "**Вывод**\n",
    "\n",
    "Методом перебора моделей и гиперпараметров, выяснили, что лучшей моделью, протестированной на валидационной выборке, является модель \"Слйчайный лес\", состоящая из 50 деревьев и показывающая долю правильных ответов на уровне - 0.846. Наименьшую долю правильных ответов имеет модель \"Логистической регрессии\" - 0.735."
   ]
  },
  {
   "cell_type": "markdown",
   "id": "c110b846",
   "metadata": {},
   "source": [
    "### Проверка качества модели"
   ]
  },
  {
   "cell_type": "markdown",
   "id": "4c4da99d",
   "metadata": {},
   "source": [
    "Проверим качество модели на тестовой выборке:"
   ]
  },
  {
   "cell_type": "code",
   "execution_count": 25,
   "id": "71fd1157",
   "metadata": {},
   "outputs": [
    {
     "name": "stdout",
     "output_type": "stream",
     "text": [
      "Доля правильных ответов: 0.79\n"
     ]
    }
   ],
   "source": [
    "model = RandomForestClassifier(random_state=12345, n_estimators=23)\n",
    "model.fit(features_train, target_train)\n",
    "accuracy_test = model.score(features_test, target_test)\n",
    "print(\"Доля правильных ответов:\", accuracy_test.round(2))\n"
   ]
  },
  {
   "cell_type": "markdown",
   "id": "827a687b",
   "metadata": {},
   "source": [
    "**Вывод**\n",
    "\n",
    "И на тестовой выборке модель показала достаточно высокую долю правильных ответов на уровне 79%."
   ]
  },
  {
   "cell_type": "markdown",
   "id": "3fe2c27b",
   "metadata": {},
   "source": [
    "## Проверка модели на вменяемость"
   ]
  },
  {
   "cell_type": "markdown",
   "id": "8fe4e1cb",
   "metadata": {},
   "source": [
    "Проверим модель на адекватность с помощью модели с константным или случайным предсказанием через DummyClassifier"
   ]
  },
  {
   "cell_type": "code",
   "execution_count": 26,
   "id": "78ad39f0",
   "metadata": {},
   "outputs": [
    {
     "data": {
      "text/plain": [
       "0.7185741088180112"
      ]
     },
     "execution_count": 26,
     "metadata": {},
     "output_type": "execute_result"
    }
   ],
   "source": [
    "model = DummyClassifier(strategy='most_frequent')\n",
    "model.fit(features_train, target_train)\n",
    "model.score(features_valid, target_valid)"
   ]
  },
  {
   "cell_type": "markdown",
   "id": "fd1a307c",
   "metadata": {},
   "source": [
    "**Вывод**\n",
    "\n",
    "Модель прошла проверку на вменяемость, так ее показатели выше показателей DummyClassifier."
   ]
  },
  {
   "cell_type": "markdown",
   "id": "61a8afe4",
   "metadata": {},
   "source": [
    "## Вывод"
   ]
  },
  {
   "cell_type": "markdown",
   "id": "deced4c0",
   "metadata": {},
   "source": [
    "Благодаря проведенному разведочному анализу мы смогли определить мультиколлинеарные признаки и исключить их из данных. А также образужили и удалили данные, которые могли бы усложнить интерпретацию модели и ухудшить качество прогнозов. Тем самым обеспечили модели возможность более точно определить закономерности между признаками и повысить уровень предсказаний.\n",
    "\n",
    "Мы разделили исходнные данные на выборки: обучающую, валидационную и тестовую, а также выделили для каждой выборки переменные и и целевой признак.  \n",
    "\n",
    " Для поставленной задачи - бинарной классификации - подготовили три модели машинного обучения:\n",
    "\n",
    "1. 'Решающее дерево'\n",
    "2. 'Случайный лес'\n",
    "3. 'Логистическая регрессия'\n",
    "\n",
    "Благодаря начилию дополнительных гиперпараметров у моделей машинного обучения, путем перебора нашли оптимальную модель. \n",
    "\n",
    "Это модель \"Случайный лес\", которая показала высокий уровень предсказаний как на валидационной, так и на тестовой выбоках.\n",
    "Предсказания модели с долей правильных ответов на тестовой выборке - 79%.\n",
    "\n",
    "Данную модель можно рекомендовать заказчику для предложения пользователям новых тарифов в соответствии с используемым пакетом услуг.\n"
   ]
  }
 ],
 "metadata": {
  "ExecuteTimeLog": [
   {
    "duration": 1544,
    "start_time": "2022-04-27T07:31:57.912Z"
   },
   {
    "duration": 14,
    "start_time": "2022-04-27T07:31:59.458Z"
   },
   {
    "duration": 6,
    "start_time": "2022-04-27T07:31:59.474Z"
   },
   {
    "duration": 64,
    "start_time": "2022-04-27T07:31:59.482Z"
   },
   {
    "duration": 5,
    "start_time": "2022-04-27T07:31:59.548Z"
   },
   {
    "duration": 473,
    "start_time": "2022-04-27T07:31:59.554Z"
   },
   {
    "duration": 477,
    "start_time": "2022-04-27T07:32:00.029Z"
   },
   {
    "duration": 438,
    "start_time": "2022-04-27T07:32:00.508Z"
   },
   {
    "duration": 551,
    "start_time": "2022-04-27T07:32:00.947Z"
   },
   {
    "duration": 380,
    "start_time": "2022-04-27T07:32:01.501Z"
   },
   {
    "duration": 3,
    "start_time": "2022-04-27T07:32:01.883Z"
   },
   {
    "duration": 26,
    "start_time": "2022-04-27T07:32:01.888Z"
   },
   {
    "duration": 20,
    "start_time": "2022-04-27T07:32:01.916Z"
   },
   {
    "duration": 14,
    "start_time": "2022-04-27T07:32:01.938Z"
   },
   {
    "duration": 14,
    "start_time": "2022-04-27T07:32:01.954Z"
   },
   {
    "duration": 29,
    "start_time": "2022-04-27T07:32:01.970Z"
   },
   {
    "duration": 16,
    "start_time": "2022-04-27T07:32:02.001Z"
   },
   {
    "duration": 26,
    "start_time": "2022-04-27T07:32:02.019Z"
   },
   {
    "duration": 30,
    "start_time": "2022-04-27T07:32:02.047Z"
   },
   {
    "duration": 12,
    "start_time": "2022-04-27T07:32:02.079Z"
   },
   {
    "duration": 27,
    "start_time": "2022-04-27T07:32:02.093Z"
   },
   {
    "duration": 38,
    "start_time": "2022-04-27T07:32:02.122Z"
   },
   {
    "duration": 107,
    "start_time": "2022-04-27T07:32:02.162Z"
   },
   {
    "duration": 4628,
    "start_time": "2022-04-27T07:32:02.271Z"
   },
   {
    "duration": 80,
    "start_time": "2022-04-27T07:32:06.901Z"
   },
   {
    "duration": 120,
    "start_time": "2022-04-27T07:32:06.983Z"
   },
   {
    "duration": 1891,
    "start_time": "2022-04-27T07:33:50.025Z"
   },
   {
    "duration": 8,
    "start_time": "2022-04-27T07:34:13.409Z"
   },
   {
    "duration": 7,
    "start_time": "2022-04-27T07:34:22.668Z"
   },
   {
    "duration": 15,
    "start_time": "2022-04-27T07:34:26.711Z"
   }
  ],
  "kernelspec": {
   "display_name": "Python 3 (ipykernel)",
   "language": "python",
   "name": "python3"
  },
  "language_info": {
   "codemirror_mode": {
    "name": "ipython",
    "version": 3
   },
   "file_extension": ".py",
   "mimetype": "text/x-python",
   "name": "python",
   "nbconvert_exporter": "python",
   "pygments_lexer": "ipython3",
   "version": "3.9.7"
  },
  "toc": {
   "base_numbering": 1,
   "nav_menu": {},
   "number_sections": true,
   "sideBar": true,
   "skip_h1_title": true,
   "title_cell": "Содержание",
   "title_sidebar": "Contents",
   "toc_cell": true,
   "toc_position": {
    "height": "calc(100% - 180px)",
    "left": "10px",
    "top": "150px",
    "width": "383.788px"
   },
   "toc_section_display": true,
   "toc_window_display": false
  }
 },
 "nbformat": 4,
 "nbformat_minor": 5
}
