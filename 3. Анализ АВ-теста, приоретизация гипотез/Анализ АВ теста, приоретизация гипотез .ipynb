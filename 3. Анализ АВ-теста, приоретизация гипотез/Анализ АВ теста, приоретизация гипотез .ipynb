{
 "cells": [
  {
   "cell_type": "markdown",
   "id": "4426a13b",
   "metadata": {
    "toc": true
   },
   "source": [
    "<h1>Table of Contents<span class=\"tocSkip\"></span></h1>\n",
    "<div class=\"toc\"><ul class=\"toc-item\"><li><span><a href=\"#Обзор-и-подготовка-данных-к-анализу\" data-toc-modified-id=\"Обзор-и-подготовка-данных-к-анализу-1\"><span class=\"toc-item-num\">1&nbsp;&nbsp;</span>Обзор и подготовка данных к анализу</a></span></li><li><span><a href=\"#Приоретизация-гипотез\" data-toc-modified-id=\"Приоретизация-гипотез-2\"><span class=\"toc-item-num\">2&nbsp;&nbsp;</span>Приоретизация гипотез</a></span></li><li><span><a href=\"#Анализ-A/B---теста\" data-toc-modified-id=\"Анализ-A/B---теста-3\"><span class=\"toc-item-num\">3&nbsp;&nbsp;</span>Анализ A/B - теста</a></span><ul class=\"toc-item\"><li><span><a href=\"#Проверка-групп\" data-toc-modified-id=\"Проверка-групп-3.1\"><span class=\"toc-item-num\">3.1&nbsp;&nbsp;</span>Проверка групп</a></span></li><li><span><a href=\"#Визуализация-кумулятивных-метрик\" data-toc-modified-id=\"Визуализация-кумулятивных-метрик-3.2\"><span class=\"toc-item-num\">3.2&nbsp;&nbsp;</span>Визуализация кумулятивных метрик</a></span></li><li><span><a href=\"#Анализ-выбросов-и-всплесков\" data-toc-modified-id=\"Анализ-выбросов-и-всплесков-3.3\"><span class=\"toc-item-num\">3.3&nbsp;&nbsp;</span>Анализ выбросов и всплесков</a></span></li><li><span><a href=\"#Анализ-А/В---теста\" data-toc-modified-id=\"Анализ-А/В---теста-3.4\"><span class=\"toc-item-num\">3.4&nbsp;&nbsp;</span>Анализ А/В - теста</a></span></li></ul></li><li><span><a href=\"#Вывод\" data-toc-modified-id=\"Вывод-4\"><span class=\"toc-item-num\">4&nbsp;&nbsp;</span>Вывод</a></span></li></ul></div>"
   ]
  },
  {
   "cell_type": "markdown",
   "id": "0b7a4da8",
   "metadata": {},
   "source": [
    "# Приоретизация гипотез по увеличению выручки интернет-магазина. \n",
    "\n",
    "# Анализ А/В теста."
   ]
  },
  {
   "cell_type": "markdown",
   "id": "9042e920",
   "metadata": {},
   "source": [
    "**Описание проекта**\n",
    "\n",
    "Совместно с отделом маркетинга подготовлен список гипотез для увеличения выручки крупного интернет-магазина. \n",
    "\n",
    "**Цель исследования**\n",
    "\n",
    "Необходимо приоритезировать гипотезы, запустить А/В - тест и проанализировать результаты.\n",
    "\n",
    " **Ход исследования**\n",
    " \n",
    " 1. Обзор и подготовка данных к анализу.\n",
    " 2. Приоретизация гипотез\n",
    " 3. Анализ А/В - теста\n",
    " 4. Общий вывод."
   ]
  },
  {
   "cell_type": "markdown",
   "id": "86497c95",
   "metadata": {},
   "source": [
    "## Обзор и подготовка данных к анализу"
   ]
  },
  {
   "cell_type": "markdown",
   "id": "51fe0962",
   "metadata": {},
   "source": [
    "В этом разделе проведем обзор и подготовку данных к анализу:\n",
    "1. Выгрузим и познакомимся с данными.\n",
    "2. Найдем и устраним недочеты в данных.\n",
    "\n",
    "Составим первое представление о данных. Импортируем необходимые для анализа библиотеки."
   ]
  },
  {
   "cell_type": "code",
   "execution_count": 1,
   "id": "d7eb7d7a",
   "metadata": {},
   "outputs": [],
   "source": [
    "import pandas as pd\n",
    "import numpy as np\n",
    "import matplotlib.pyplot as plt\n",
    "import scipy.stats as st\n",
    "import datetime as dt"
   ]
  },
  {
   "cell_type": "markdown",
   "id": "2b92814c",
   "metadata": {},
   "source": [
    "Познакомимся с данными. Для этого создадим функцию, которая выводит общую информацию о данных, а также проверяет данные на пропуски и дубликаты:"
   ]
  },
  {
   "cell_type": "code",
   "execution_count": 3,
   "id": "3c6db9c8",
   "metadata": {},
   "outputs": [],
   "source": [
    "def df_info(df, columns):\n",
    "    print('Познакомимся с данными')\n",
    "    display(df.head())\n",
    "    print()\n",
    "    print('Посмотрим сводную информация о данных')\n",
    "    print()\n",
    "    df.info()\n",
    "    print()\n",
    "    print(\"Проверим данные на пропуски и дубликаты\")\n",
    "    print()\n",
    "    print(\"Доля пропусков:\")\n",
    "    display(df.isna().mean().round(2))\n",
    "    print()\n",
    "    print(\"Количество дубликатов:\", df.duplicated().sum()) \n",
    "    print()\n",
    "    print(\"Статистические данные:\")\n",
    "    display(df[columns].describe()) "
   ]
  },
  {
   "cell_type": "markdown",
   "id": "1c3cda6b",
   "metadata": {},
   "source": [
    "**Загрузим и познакомимся с данными о гипотезах** "
   ]
  },
  {
   "cell_type": "code",
   "execution_count": 4,
   "id": "9bf1049c",
   "metadata": {},
   "outputs": [
    {
     "name": "stdout",
     "output_type": "stream",
     "text": [
      "Познакомимся с данными\n"
     ]
    },
    {
     "data": {
      "text/html": [
       "<div>\n",
       "<style scoped>\n",
       "    .dataframe tbody tr th:only-of-type {\n",
       "        vertical-align: middle;\n",
       "    }\n",
       "\n",
       "    .dataframe tbody tr th {\n",
       "        vertical-align: top;\n",
       "    }\n",
       "\n",
       "    .dataframe thead th {\n",
       "        text-align: right;\n",
       "    }\n",
       "</style>\n",
       "<table border=\"1\" class=\"dataframe\">\n",
       "  <thead>\n",
       "    <tr style=\"text-align: right;\">\n",
       "      <th></th>\n",
       "      <th>Hypothesis</th>\n",
       "      <th>Reach</th>\n",
       "      <th>Impact</th>\n",
       "      <th>Confidence</th>\n",
       "      <th>Efforts</th>\n",
       "    </tr>\n",
       "  </thead>\n",
       "  <tbody>\n",
       "    <tr>\n",
       "      <th>0</th>\n",
       "      <td>Добавить два новых канала привлечения трафика,...</td>\n",
       "      <td>3</td>\n",
       "      <td>10</td>\n",
       "      <td>8</td>\n",
       "      <td>6</td>\n",
       "    </tr>\n",
       "    <tr>\n",
       "      <th>1</th>\n",
       "      <td>Запустить собственную службу доставки, что сок...</td>\n",
       "      <td>2</td>\n",
       "      <td>5</td>\n",
       "      <td>4</td>\n",
       "      <td>10</td>\n",
       "    </tr>\n",
       "    <tr>\n",
       "      <th>2</th>\n",
       "      <td>Добавить блоки рекомендаций товаров на сайт ин...</td>\n",
       "      <td>8</td>\n",
       "      <td>3</td>\n",
       "      <td>7</td>\n",
       "      <td>3</td>\n",
       "    </tr>\n",
       "    <tr>\n",
       "      <th>3</th>\n",
       "      <td>Изменить структура категорий, что увеличит кон...</td>\n",
       "      <td>8</td>\n",
       "      <td>3</td>\n",
       "      <td>3</td>\n",
       "      <td>8</td>\n",
       "    </tr>\n",
       "    <tr>\n",
       "      <th>4</th>\n",
       "      <td>Изменить цвет фона главной страницы, чтобы уве...</td>\n",
       "      <td>3</td>\n",
       "      <td>1</td>\n",
       "      <td>1</td>\n",
       "      <td>1</td>\n",
       "    </tr>\n",
       "  </tbody>\n",
       "</table>\n",
       "</div>"
      ],
      "text/plain": [
       "                                          Hypothesis  Reach  Impact  \\\n",
       "0  Добавить два новых канала привлечения трафика,...      3      10   \n",
       "1  Запустить собственную службу доставки, что сок...      2       5   \n",
       "2  Добавить блоки рекомендаций товаров на сайт ин...      8       3   \n",
       "3  Изменить структура категорий, что увеличит кон...      8       3   \n",
       "4  Изменить цвет фона главной страницы, чтобы уве...      3       1   \n",
       "\n",
       "   Confidence  Efforts  \n",
       "0           8        6  \n",
       "1           4       10  \n",
       "2           7        3  \n",
       "3           3        8  \n",
       "4           1        1  "
      ]
     },
     "metadata": {},
     "output_type": "display_data"
    },
    {
     "name": "stdout",
     "output_type": "stream",
     "text": [
      "\n",
      "Посмотрим сводную информация о данных\n",
      "\n",
      "<class 'pandas.core.frame.DataFrame'>\n",
      "RangeIndex: 9 entries, 0 to 8\n",
      "Data columns (total 5 columns):\n",
      " #   Column      Non-Null Count  Dtype \n",
      "---  ------      --------------  ----- \n",
      " 0   Hypothesis  9 non-null      object\n",
      " 1   Reach       9 non-null      int64 \n",
      " 2   Impact      9 non-null      int64 \n",
      " 3   Confidence  9 non-null      int64 \n",
      " 4   Efforts     9 non-null      int64 \n",
      "dtypes: int64(4), object(1)\n",
      "memory usage: 488.0+ bytes\n",
      "\n",
      "Проверим данные на пропуски и дубликаты\n",
      "\n",
      "Доля пропусков:\n"
     ]
    },
    {
     "data": {
      "text/plain": [
       "Hypothesis    0.0\n",
       "Reach         0.0\n",
       "Impact        0.0\n",
       "Confidence    0.0\n",
       "Efforts       0.0\n",
       "dtype: float64"
      ]
     },
     "metadata": {},
     "output_type": "display_data"
    },
    {
     "name": "stdout",
     "output_type": "stream",
     "text": [
      "\n",
      "Количество дубликатов: 0\n",
      "\n",
      "Статистические данные:\n"
     ]
    },
    {
     "data": {
      "text/html": [
       "<div>\n",
       "<style scoped>\n",
       "    .dataframe tbody tr th:only-of-type {\n",
       "        vertical-align: middle;\n",
       "    }\n",
       "\n",
       "    .dataframe tbody tr th {\n",
       "        vertical-align: top;\n",
       "    }\n",
       "\n",
       "    .dataframe thead th {\n",
       "        text-align: right;\n",
       "    }\n",
       "</style>\n",
       "<table border=\"1\" class=\"dataframe\">\n",
       "  <thead>\n",
       "    <tr style=\"text-align: right;\">\n",
       "      <th></th>\n",
       "      <th>Reach</th>\n",
       "      <th>Impact</th>\n",
       "      <th>Confidence</th>\n",
       "      <th>Efforts</th>\n",
       "    </tr>\n",
       "  </thead>\n",
       "  <tbody>\n",
       "    <tr>\n",
       "      <th>count</th>\n",
       "      <td>9.000000</td>\n",
       "      <td>9.000000</td>\n",
       "      <td>9.000000</td>\n",
       "      <td>9.000000</td>\n",
       "    </tr>\n",
       "    <tr>\n",
       "      <th>mean</th>\n",
       "      <td>4.777778</td>\n",
       "      <td>4.777778</td>\n",
       "      <td>5.555556</td>\n",
       "      <td>4.888889</td>\n",
       "    </tr>\n",
       "    <tr>\n",
       "      <th>std</th>\n",
       "      <td>3.153481</td>\n",
       "      <td>3.192874</td>\n",
       "      <td>3.045944</td>\n",
       "      <td>2.803767</td>\n",
       "    </tr>\n",
       "    <tr>\n",
       "      <th>min</th>\n",
       "      <td>1.000000</td>\n",
       "      <td>1.000000</td>\n",
       "      <td>1.000000</td>\n",
       "      <td>1.000000</td>\n",
       "    </tr>\n",
       "    <tr>\n",
       "      <th>25%</th>\n",
       "      <td>3.000000</td>\n",
       "      <td>3.000000</td>\n",
       "      <td>3.000000</td>\n",
       "      <td>3.000000</td>\n",
       "    </tr>\n",
       "    <tr>\n",
       "      <th>50%</th>\n",
       "      <td>3.000000</td>\n",
       "      <td>3.000000</td>\n",
       "      <td>7.000000</td>\n",
       "      <td>5.000000</td>\n",
       "    </tr>\n",
       "    <tr>\n",
       "      <th>75%</th>\n",
       "      <td>8.000000</td>\n",
       "      <td>7.000000</td>\n",
       "      <td>8.000000</td>\n",
       "      <td>6.000000</td>\n",
       "    </tr>\n",
       "    <tr>\n",
       "      <th>max</th>\n",
       "      <td>10.000000</td>\n",
       "      <td>10.000000</td>\n",
       "      <td>9.000000</td>\n",
       "      <td>10.000000</td>\n",
       "    </tr>\n",
       "  </tbody>\n",
       "</table>\n",
       "</div>"
      ],
      "text/plain": [
       "           Reach     Impact  Confidence    Efforts\n",
       "count   9.000000   9.000000    9.000000   9.000000\n",
       "mean    4.777778   4.777778    5.555556   4.888889\n",
       "std     3.153481   3.192874    3.045944   2.803767\n",
       "min     1.000000   1.000000    1.000000   1.000000\n",
       "25%     3.000000   3.000000    3.000000   3.000000\n",
       "50%     3.000000   3.000000    7.000000   5.000000\n",
       "75%     8.000000   7.000000    8.000000   6.000000\n",
       "max    10.000000  10.000000    9.000000  10.000000"
      ]
     },
     "metadata": {},
     "output_type": "display_data"
    }
   ],
   "source": [
    "df_info(hypothesis, ['Reach', 'Impact', 'Confidence', 'Efforts'])"
   ]
  },
  {
   "cell_type": "markdown",
   "id": "420f3c1d",
   "metadata": {},
   "source": [
    "Посмотрим на весь список подготовленных гипотез:"
   ]
  },
  {
   "cell_type": "code",
   "execution_count": 5,
   "id": "a094ca93",
   "metadata": {},
   "outputs": [
    {
     "data": {
      "text/plain": [
       "array(['Добавить два новых канала привлечения трафика, что позволит привлекать на 30% больше пользователей',\n",
       "       'Запустить собственную службу доставки, что сократит срок доставки заказов',\n",
       "       'Добавить блоки рекомендаций товаров на сайт интернет магазина, чтобы повысить конверсию и средний чек заказа',\n",
       "       'Изменить структура категорий, что увеличит конверсию, т.к. пользователи быстрее найдут нужный товар',\n",
       "       'Изменить цвет фона главной страницы, чтобы увеличить вовлеченность пользователей',\n",
       "       'Добавить страницу отзывов клиентов о магазине, что позволит увеличить количество заказов',\n",
       "       'Показать на главной странице баннеры с актуальными акциями и распродажами, чтобы увеличить конверсию',\n",
       "       'Добавить форму подписки на все основные страницы, чтобы собрать базу клиентов для email-рассылок',\n",
       "       'Запустить акцию, дающую скидку на товар в день рождения'],\n",
       "      dtype=object)"
      ]
     },
     "metadata": {},
     "output_type": "display_data"
    }
   ],
   "source": [
    "display(hypothesis['Hypothesis'].unique())"
   ]
  },
  {
   "cell_type": "markdown",
   "id": "ca4a430f",
   "metadata": {},
   "source": [
    "Итак, таблица содержит информацию о гипотезах. Всего 9 гипотез и 4 колонки со шкалой оценки влияния данных гипотез на пользователей, шкала тестирования каждой из них от 1 до 10. Пропусков, дубликатов и аномалий в данных не обнаружено.\n",
    "\n",
    "Согласно документации к данным:\n",
    "\n",
    "* Hypothesis — краткое описание гипотезы;\n",
    "* Reach — охват пользователей по 10-балльной шкале;\n",
    "* Impact — влияние на пользователей по 10-балльной шкале;\n",
    "* Confidence — уверенность в гипотезе по 10-балльной шкале;\n",
    "* Efforts — затраты ресурсов на проверку гипотезы по 10-балльной шкале. Чем больше значение Efforts, тем дороже проверка гипотезы."
   ]
  },
  {
   "cell_type": "markdown",
   "id": "35ebae73",
   "metadata": {},
   "source": [
    "**Загрузим и познакомимся с данными о покупках.** "
   ]
  },
  {
   "cell_type": "code",
   "execution_count": 6,
   "id": "1f1fea71",
   "metadata": {},
   "outputs": [
    {
     "name": "stdout",
     "output_type": "stream",
     "text": [
      "Познакомимся с данными\n"
     ]
    },
    {
     "data": {
      "text/html": [
       "<div>\n",
       "<style scoped>\n",
       "    .dataframe tbody tr th:only-of-type {\n",
       "        vertical-align: middle;\n",
       "    }\n",
       "\n",
       "    .dataframe tbody tr th {\n",
       "        vertical-align: top;\n",
       "    }\n",
       "\n",
       "    .dataframe thead th {\n",
       "        text-align: right;\n",
       "    }\n",
       "</style>\n",
       "<table border=\"1\" class=\"dataframe\">\n",
       "  <thead>\n",
       "    <tr style=\"text-align: right;\">\n",
       "      <th></th>\n",
       "      <th>transactionId</th>\n",
       "      <th>visitorId</th>\n",
       "      <th>date</th>\n",
       "      <th>revenue</th>\n",
       "      <th>group</th>\n",
       "    </tr>\n",
       "  </thead>\n",
       "  <tbody>\n",
       "    <tr>\n",
       "      <th>0</th>\n",
       "      <td>3667963787</td>\n",
       "      <td>3312258926</td>\n",
       "      <td>2019-08-15</td>\n",
       "      <td>1650</td>\n",
       "      <td>B</td>\n",
       "    </tr>\n",
       "    <tr>\n",
       "      <th>1</th>\n",
       "      <td>2804400009</td>\n",
       "      <td>3642806036</td>\n",
       "      <td>2019-08-15</td>\n",
       "      <td>730</td>\n",
       "      <td>B</td>\n",
       "    </tr>\n",
       "    <tr>\n",
       "      <th>2</th>\n",
       "      <td>2961555356</td>\n",
       "      <td>4069496402</td>\n",
       "      <td>2019-08-15</td>\n",
       "      <td>400</td>\n",
       "      <td>A</td>\n",
       "    </tr>\n",
       "    <tr>\n",
       "      <th>3</th>\n",
       "      <td>3797467345</td>\n",
       "      <td>1196621759</td>\n",
       "      <td>2019-08-15</td>\n",
       "      <td>9759</td>\n",
       "      <td>B</td>\n",
       "    </tr>\n",
       "    <tr>\n",
       "      <th>4</th>\n",
       "      <td>2282983706</td>\n",
       "      <td>2322279887</td>\n",
       "      <td>2019-08-15</td>\n",
       "      <td>2308</td>\n",
       "      <td>B</td>\n",
       "    </tr>\n",
       "  </tbody>\n",
       "</table>\n",
       "</div>"
      ],
      "text/plain": [
       "   transactionId   visitorId        date  revenue group\n",
       "0     3667963787  3312258926  2019-08-15     1650     B\n",
       "1     2804400009  3642806036  2019-08-15      730     B\n",
       "2     2961555356  4069496402  2019-08-15      400     A\n",
       "3     3797467345  1196621759  2019-08-15     9759     B\n",
       "4     2282983706  2322279887  2019-08-15     2308     B"
      ]
     },
     "metadata": {},
     "output_type": "display_data"
    },
    {
     "name": "stdout",
     "output_type": "stream",
     "text": [
      "\n",
      "Посмотрим сводную информация о данных\n",
      "\n",
      "<class 'pandas.core.frame.DataFrame'>\n",
      "RangeIndex: 1197 entries, 0 to 1196\n",
      "Data columns (total 5 columns):\n",
      " #   Column         Non-Null Count  Dtype \n",
      "---  ------         --------------  ----- \n",
      " 0   transactionId  1197 non-null   int64 \n",
      " 1   visitorId      1197 non-null   int64 \n",
      " 2   date           1197 non-null   object\n",
      " 3   revenue        1197 non-null   int64 \n",
      " 4   group          1197 non-null   object\n",
      "dtypes: int64(3), object(2)\n",
      "memory usage: 46.9+ KB\n",
      "\n",
      "Проверим данные на пропуски и дубликаты\n",
      "\n",
      "Доля пропусков:\n"
     ]
    },
    {
     "data": {
      "text/plain": [
       "transactionId    0.0\n",
       "visitorId        0.0\n",
       "date             0.0\n",
       "revenue          0.0\n",
       "group            0.0\n",
       "dtype: float64"
      ]
     },
     "metadata": {},
     "output_type": "display_data"
    },
    {
     "name": "stdout",
     "output_type": "stream",
     "text": [
      "\n",
      "Количество дубликатов: 0\n",
      "\n",
      "Статистические данные:\n"
     ]
    },
    {
     "data": {
      "text/plain": [
       "count    1.197000e+03\n",
       "mean     8.348006e+03\n",
       "std      3.919113e+04\n",
       "min      5.000000e+01\n",
       "25%      1.220000e+03\n",
       "50%      2.978000e+03\n",
       "75%      8.290000e+03\n",
       "max      1.294500e+06\n",
       "Name: revenue, dtype: float64"
      ]
     },
     "metadata": {},
     "output_type": "display_data"
    }
   ],
   "source": [
    "df_info(orders, 'revenue')"
   ]
  },
  {
   "cell_type": "markdown",
   "id": "c9d5e3e0",
   "metadata": {},
   "source": [
    "Итак, таблица содержит информацию о покупках. Всего 5 столбцах данные о 1197 транзакциях. Статистические данные о выручке показывают нам большой разброс, разберемся с этим позднее. Пропусков, дубликатов в данных не обнаружено.\n",
    "\n",
    "Согласно документации к данным:\n",
    "\n",
    "* transactionId — идентификатор заказа;\n",
    "* visitorId — идентификатор пользователя, совершившего заказ;\n",
    "* date — дата, когда был совершён заказ;\n",
    "* revenue — выручка заказа;\n",
    "* group — группа A/B-теста, в которую попал заказ."
   ]
  },
  {
   "cell_type": "markdown",
   "id": "33359ecb",
   "metadata": {},
   "source": [
    "**Загрузим и познакомимся с данными о посещениях пользователями сайта коммпании.** "
   ]
  },
  {
   "cell_type": "code",
   "execution_count": 7,
   "id": "e830bdc2",
   "metadata": {},
   "outputs": [
    {
     "name": "stdout",
     "output_type": "stream",
     "text": [
      "Познакомимся с данными\n"
     ]
    },
    {
     "data": {
      "text/html": [
       "<div>\n",
       "<style scoped>\n",
       "    .dataframe tbody tr th:only-of-type {\n",
       "        vertical-align: middle;\n",
       "    }\n",
       "\n",
       "    .dataframe tbody tr th {\n",
       "        vertical-align: top;\n",
       "    }\n",
       "\n",
       "    .dataframe thead th {\n",
       "        text-align: right;\n",
       "    }\n",
       "</style>\n",
       "<table border=\"1\" class=\"dataframe\">\n",
       "  <thead>\n",
       "    <tr style=\"text-align: right;\">\n",
       "      <th></th>\n",
       "      <th>date</th>\n",
       "      <th>group</th>\n",
       "      <th>visitors</th>\n",
       "    </tr>\n",
       "  </thead>\n",
       "  <tbody>\n",
       "    <tr>\n",
       "      <th>0</th>\n",
       "      <td>2019-08-01</td>\n",
       "      <td>A</td>\n",
       "      <td>719</td>\n",
       "    </tr>\n",
       "    <tr>\n",
       "      <th>1</th>\n",
       "      <td>2019-08-02</td>\n",
       "      <td>A</td>\n",
       "      <td>619</td>\n",
       "    </tr>\n",
       "    <tr>\n",
       "      <th>2</th>\n",
       "      <td>2019-08-03</td>\n",
       "      <td>A</td>\n",
       "      <td>507</td>\n",
       "    </tr>\n",
       "    <tr>\n",
       "      <th>3</th>\n",
       "      <td>2019-08-04</td>\n",
       "      <td>A</td>\n",
       "      <td>717</td>\n",
       "    </tr>\n",
       "    <tr>\n",
       "      <th>4</th>\n",
       "      <td>2019-08-05</td>\n",
       "      <td>A</td>\n",
       "      <td>756</td>\n",
       "    </tr>\n",
       "  </tbody>\n",
       "</table>\n",
       "</div>"
      ],
      "text/plain": [
       "         date group  visitors\n",
       "0  2019-08-01     A       719\n",
       "1  2019-08-02     A       619\n",
       "2  2019-08-03     A       507\n",
       "3  2019-08-04     A       717\n",
       "4  2019-08-05     A       756"
      ]
     },
     "metadata": {},
     "output_type": "display_data"
    },
    {
     "name": "stdout",
     "output_type": "stream",
     "text": [
      "\n",
      "Посмотрим сводную информация о данных\n",
      "\n",
      "<class 'pandas.core.frame.DataFrame'>\n",
      "RangeIndex: 62 entries, 0 to 61\n",
      "Data columns (total 3 columns):\n",
      " #   Column    Non-Null Count  Dtype \n",
      "---  ------    --------------  ----- \n",
      " 0   date      62 non-null     object\n",
      " 1   group     62 non-null     object\n",
      " 2   visitors  62 non-null     int64 \n",
      "dtypes: int64(1), object(2)\n",
      "memory usage: 1.6+ KB\n",
      "\n",
      "Проверим данные на пропуски и дубликаты\n",
      "\n",
      "Доля пропусков:\n"
     ]
    },
    {
     "data": {
      "text/plain": [
       "date        0.0\n",
       "group       0.0\n",
       "visitors    0.0\n",
       "dtype: float64"
      ]
     },
     "metadata": {},
     "output_type": "display_data"
    },
    {
     "name": "stdout",
     "output_type": "stream",
     "text": [
      "\n",
      "Количество дубликатов: 0\n",
      "\n",
      "Статистические данные:\n"
     ]
    },
    {
     "data": {
      "text/plain": [
       "count     62.000000\n",
       "mean     607.290323\n",
       "std      114.400560\n",
       "min      361.000000\n",
       "25%      534.000000\n",
       "50%      624.500000\n",
       "75%      710.500000\n",
       "max      770.000000\n",
       "Name: visitors, dtype: float64"
      ]
     },
     "metadata": {},
     "output_type": "display_data"
    }
   ],
   "source": [
    "df_info(visitors, 'visitors')"
   ]
  },
  {
   "cell_type": "markdown",
   "id": "f5919696",
   "metadata": {},
   "source": [
    "Итак, таблица содержит информацию о визитах пользователей из разных групп. Всего таблица содержит 3 столбца и 62 строки. Пропусков, дубликатов в данных не обнаружено.\n",
    "\n",
    "Согласно документации к данным:\n",
    "\n",
    "* date — дата;\n",
    "* group — группа A/B-теста;\n",
    "* visitors — количество пользователей в указанную дату в указанной группе A/B-теста"
   ]
  },
  {
   "cell_type": "markdown",
   "id": "614bf314",
   "metadata": {},
   "source": [
    "**Вывод**\n",
    "\n",
    "Видны следующие недочеты во входных данных:\n",
    "\n",
    "1. Нарушение стиля в названиях столбцов - строчные буквы сочетаются с прописными, поэтому приведем все названия к единому стилю.\n",
    "2. Столбцы:\n",
    "* `date`  в датасете orders, \n",
    "* `date` в датасете visitors\n",
    "\n",
    "нуждается в корректировки формата даты и преобразовании в datetime.\n",
    "\n",
    "Чтобы двигаться дальше, необходимо устранить проблемы в данных."
   ]
  },
  {
   "cell_type": "markdown",
   "id": "7ab81781",
   "metadata": {},
   "source": [
    "Для начала приведем к \"змеиному стилю\" все названия столбцов. "
   ]
  },
  {
   "cell_type": "code",
   "execution_count": 8,
   "id": "b99ee461",
   "metadata": {},
   "outputs": [
    {
     "name": "stdout",
     "output_type": "stream",
     "text": [
      "Первоначальные названия столбцов: Index(['Hypothesis', 'Reach', 'Impact', 'Confidence', 'Efforts'], dtype='object')\n",
      "Названия столбцов после изменения: Index(['hypothesis', 'reach', 'impact', 'confidence', 'efforts'], dtype='object')\n"
     ]
    }
   ],
   "source": [
    "print(\"Первоначальные названия столбцов:\", hypothesis.columns)\n",
    "hypothesis.columns = hypothesis.columns.str.lower()\n",
    "print(\"Названия столбцов после изменения:\", hypothesis.columns)"
   ]
  },
  {
   "cell_type": "code",
   "execution_count": 9,
   "id": "32c4f0fa",
   "metadata": {},
   "outputs": [
    {
     "name": "stdout",
     "output_type": "stream",
     "text": [
      "Первоначальные названия столбцов: Index(['transactionId', 'visitorId', 'date', 'revenue', 'group'], dtype='object')\n",
      "Названия столбцов после изменения: Index(['transaction_id', 'visitor_id', 'date', 'revenue', 'group'], dtype='object')\n"
     ]
    }
   ],
   "source": [
    "print(\"Первоначальные названия столбцов:\", orders.columns)\n",
    "orders.columns = orders.columns.str.replace(\"I\", \"_i\")\n",
    "print(\"Названия столбцов после изменения:\", orders.columns)"
   ]
  },
  {
   "cell_type": "markdown",
   "id": "ae3414d5",
   "metadata": {},
   "source": [
    "Преобразуем даты через функцию:"
   ]
  },
  {
   "cell_type": "code",
   "execution_count": 10,
   "id": "9db2f140",
   "metadata": {},
   "outputs": [],
   "source": [
    "def datetime(df, column):\n",
    "    df[column] = df[column].map(lambda x: dt.datetime.strptime(x, '%Y-%m-%d'))"
   ]
  },
  {
   "cell_type": "code",
   "execution_count": 11,
   "id": "b1bb7bd9",
   "metadata": {},
   "outputs": [],
   "source": [
    "datetime(orders, 'date')\n",
    "datetime(visitors, 'date')"
   ]
  },
  {
   "cell_type": "markdown",
   "id": "ef74fe9c",
   "metadata": {},
   "source": [
    "Проверим корректность изменений:"
   ]
  },
  {
   "cell_type": "code",
   "execution_count": 12,
   "id": "e47a665e",
   "metadata": {},
   "outputs": [
    {
     "name": "stdout",
     "output_type": "stream",
     "text": [
      "datetime64[ns]\n",
      "datetime64[ns]\n"
     ]
    }
   ],
   "source": [
    "print(orders['date'].dtypes)\n",
    "print(visitors['date'].dtypes)"
   ]
  },
  {
   "cell_type": "markdown",
   "id": "7689d56d",
   "metadata": {},
   "source": [
    "## Приоретизация гипотез\n",
    "\n",
    "В этом разделе приоритизируем гипотезы:\n",
    "\n",
    "1. Применим фреймворк ICE\n",
    "2. Применим фреймворк RICE\n",
    "3. Сделаем промежуточные выводы"
   ]
  },
  {
   "cell_type": "markdown",
   "id": "632a9b62",
   "metadata": {},
   "source": [
    "Все данные, необходимые для расчета приоритета гипотез методом ICE и RICE есть в таблице `hypothesis`, проведем расчеты:"
   ]
  },
  {
   "cell_type": "code",
   "execution_count": 13,
   "id": "844365e3",
   "metadata": {},
   "outputs": [
    {
     "data": {
      "text/html": [
       "<div>\n",
       "<style scoped>\n",
       "    .dataframe tbody tr th:only-of-type {\n",
       "        vertical-align: middle;\n",
       "    }\n",
       "\n",
       "    .dataframe tbody tr th {\n",
       "        vertical-align: top;\n",
       "    }\n",
       "\n",
       "    .dataframe thead th {\n",
       "        text-align: right;\n",
       "    }\n",
       "</style>\n",
       "<table border=\"1\" class=\"dataframe\">\n",
       "  <thead>\n",
       "    <tr style=\"text-align: right;\">\n",
       "      <th></th>\n",
       "      <th>hypothesis</th>\n",
       "      <th>ICE</th>\n",
       "    </tr>\n",
       "  </thead>\n",
       "  <tbody>\n",
       "    <tr>\n",
       "      <th>8</th>\n",
       "      <td>Запустить акцию, дающую скидку на товар в день рождения</td>\n",
       "      <td>16.20</td>\n",
       "    </tr>\n",
       "    <tr>\n",
       "      <th>0</th>\n",
       "      <td>Добавить два новых канала привлечения трафика, что позволит привлекать на 30% больше пользователей</td>\n",
       "      <td>13.33</td>\n",
       "    </tr>\n",
       "    <tr>\n",
       "      <th>7</th>\n",
       "      <td>Добавить форму подписки на все основные страницы, чтобы собрать базу клиентов для email-рассылок</td>\n",
       "      <td>11.20</td>\n",
       "    </tr>\n",
       "    <tr>\n",
       "      <th>6</th>\n",
       "      <td>Показать на главной странице баннеры с актуальными акциями и распродажами, чтобы увеличить конверсию</td>\n",
       "      <td>8.00</td>\n",
       "    </tr>\n",
       "    <tr>\n",
       "      <th>2</th>\n",
       "      <td>Добавить блоки рекомендаций товаров на сайт интернет магазина, чтобы повысить конверсию и средний чек заказа</td>\n",
       "      <td>7.00</td>\n",
       "    </tr>\n",
       "    <tr>\n",
       "      <th>1</th>\n",
       "      <td>Запустить собственную службу доставки, что сократит срок доставки заказов</td>\n",
       "      <td>2.00</td>\n",
       "    </tr>\n",
       "    <tr>\n",
       "      <th>5</th>\n",
       "      <td>Добавить страницу отзывов клиентов о магазине, что позволит увеличить количество заказов</td>\n",
       "      <td>1.33</td>\n",
       "    </tr>\n",
       "    <tr>\n",
       "      <th>3</th>\n",
       "      <td>Изменить структура категорий, что увеличит конверсию, т.к. пользователи быстрее найдут нужный товар</td>\n",
       "      <td>1.12</td>\n",
       "    </tr>\n",
       "    <tr>\n",
       "      <th>4</th>\n",
       "      <td>Изменить цвет фона главной страницы, чтобы увеличить вовлеченность пользователей</td>\n",
       "      <td>1.00</td>\n",
       "    </tr>\n",
       "  </tbody>\n",
       "</table>\n",
       "</div>"
      ],
      "text/plain": [
       "                                                                                                     hypothesis  \\\n",
       "8  Запустить акцию, дающую скидку на товар в день рождения                                                        \n",
       "0  Добавить два новых канала привлечения трафика, что позволит привлекать на 30% больше пользователей             \n",
       "7  Добавить форму подписки на все основные страницы, чтобы собрать базу клиентов для email-рассылок               \n",
       "6  Показать на главной странице баннеры с актуальными акциями и распродажами, чтобы увеличить конверсию           \n",
       "2  Добавить блоки рекомендаций товаров на сайт интернет магазина, чтобы повысить конверсию и средний чек заказа   \n",
       "1  Запустить собственную службу доставки, что сократит срок доставки заказов                                      \n",
       "5  Добавить страницу отзывов клиентов о магазине, что позволит увеличить количество заказов                       \n",
       "3  Изменить структура категорий, что увеличит конверсию, т.к. пользователи быстрее найдут нужный товар            \n",
       "4  Изменить цвет фона главной страницы, чтобы увеличить вовлеченность пользователей                               \n",
       "\n",
       "     ICE  \n",
       "8  16.20  \n",
       "0  13.33  \n",
       "7  11.20  \n",
       "6  8.00   \n",
       "2  7.00   \n",
       "1  2.00   \n",
       "5  1.33   \n",
       "3  1.12   \n",
       "4  1.00   "
      ]
     },
     "execution_count": 13,
     "metadata": {},
     "output_type": "execute_result"
    }
   ],
   "source": [
    "# приоретизируем гипотезы через ICE\n",
    "hypothesis['ICE'] = (\n",
    "    hypothesis['impact'] * hypothesis['confidence'] / hypothesis['efforts']\n",
    ").round(2)\n",
    "\n",
    "pd.set_option('display.max_colwidth', 0)\n",
    "hypothesis[['hypothesis', 'ICE']].sort_values(by='ICE', ascending=False)\n"
   ]
  },
  {
   "cell_type": "code",
   "execution_count": 14,
   "id": "01b1063a",
   "metadata": {},
   "outputs": [
    {
     "data": {
      "text/html": [
       "<div>\n",
       "<style scoped>\n",
       "    .dataframe tbody tr th:only-of-type {\n",
       "        vertical-align: middle;\n",
       "    }\n",
       "\n",
       "    .dataframe tbody tr th {\n",
       "        vertical-align: top;\n",
       "    }\n",
       "\n",
       "    .dataframe thead th {\n",
       "        text-align: right;\n",
       "    }\n",
       "</style>\n",
       "<table border=\"1\" class=\"dataframe\">\n",
       "  <thead>\n",
       "    <tr style=\"text-align: right;\">\n",
       "      <th></th>\n",
       "      <th>hypothesis</th>\n",
       "      <th>RICE</th>\n",
       "    </tr>\n",
       "  </thead>\n",
       "  <tbody>\n",
       "    <tr>\n",
       "      <th>7</th>\n",
       "      <td>Добавить форму подписки на все основные страницы, чтобы собрать базу клиентов для email-рассылок</td>\n",
       "      <td>112.0</td>\n",
       "    </tr>\n",
       "    <tr>\n",
       "      <th>2</th>\n",
       "      <td>Добавить блоки рекомендаций товаров на сайт интернет магазина, чтобы повысить конверсию и средний чек заказа</td>\n",
       "      <td>56.0</td>\n",
       "    </tr>\n",
       "    <tr>\n",
       "      <th>0</th>\n",
       "      <td>Добавить два новых канала привлечения трафика, что позволит привлекать на 30% больше пользователей</td>\n",
       "      <td>40.0</td>\n",
       "    </tr>\n",
       "    <tr>\n",
       "      <th>6</th>\n",
       "      <td>Показать на главной странице баннеры с актуальными акциями и распродажами, чтобы увеличить конверсию</td>\n",
       "      <td>40.0</td>\n",
       "    </tr>\n",
       "    <tr>\n",
       "      <th>8</th>\n",
       "      <td>Запустить акцию, дающую скидку на товар в день рождения</td>\n",
       "      <td>16.2</td>\n",
       "    </tr>\n",
       "    <tr>\n",
       "      <th>3</th>\n",
       "      <td>Изменить структура категорий, что увеличит конверсию, т.к. пользователи быстрее найдут нужный товар</td>\n",
       "      <td>9.0</td>\n",
       "    </tr>\n",
       "    <tr>\n",
       "      <th>1</th>\n",
       "      <td>Запустить собственную службу доставки, что сократит срок доставки заказов</td>\n",
       "      <td>4.0</td>\n",
       "    </tr>\n",
       "    <tr>\n",
       "      <th>5</th>\n",
       "      <td>Добавить страницу отзывов клиентов о магазине, что позволит увеличить количество заказов</td>\n",
       "      <td>4.0</td>\n",
       "    </tr>\n",
       "    <tr>\n",
       "      <th>4</th>\n",
       "      <td>Изменить цвет фона главной страницы, чтобы увеличить вовлеченность пользователей</td>\n",
       "      <td>3.0</td>\n",
       "    </tr>\n",
       "  </tbody>\n",
       "</table>\n",
       "</div>"
      ],
      "text/plain": [
       "                                                                                                     hypothesis  \\\n",
       "7  Добавить форму подписки на все основные страницы, чтобы собрать базу клиентов для email-рассылок               \n",
       "2  Добавить блоки рекомендаций товаров на сайт интернет магазина, чтобы повысить конверсию и средний чек заказа   \n",
       "0  Добавить два новых канала привлечения трафика, что позволит привлекать на 30% больше пользователей             \n",
       "6  Показать на главной странице баннеры с актуальными акциями и распродажами, чтобы увеличить конверсию           \n",
       "8  Запустить акцию, дающую скидку на товар в день рождения                                                        \n",
       "3  Изменить структура категорий, что увеличит конверсию, т.к. пользователи быстрее найдут нужный товар            \n",
       "1  Запустить собственную службу доставки, что сократит срок доставки заказов                                      \n",
       "5  Добавить страницу отзывов клиентов о магазине, что позволит увеличить количество заказов                       \n",
       "4  Изменить цвет фона главной страницы, чтобы увеличить вовлеченность пользователей                               \n",
       "\n",
       "    RICE  \n",
       "7  112.0  \n",
       "2  56.0   \n",
       "0  40.0   \n",
       "6  40.0   \n",
       "8  16.2   \n",
       "3  9.0    \n",
       "1  4.0    \n",
       "5  4.0    \n",
       "4  3.0    "
      ]
     },
     "metadata": {},
     "output_type": "display_data"
    }
   ],
   "source": [
    "# приоретизируем гипотезы через RICE\n",
    "hypothesis['RICE'] = (\n",
    "    hypothesis['reach'] * hypothesis['impact'] * hypothesis['confidence'] / hypothesis['efforts']\n",
    ").round(2)\n",
    "\n",
    "display(hypothesis[['hypothesis', 'RICE']].sort_values(by='RICE', ascending=False))"
   ]
  },
  {
   "cell_type": "code",
   "execution_count": 15,
   "id": "51c00c66",
   "metadata": {},
   "outputs": [
    {
     "data": {
      "text/html": [
       "<div>\n",
       "<style scoped>\n",
       "    .dataframe tbody tr th:only-of-type {\n",
       "        vertical-align: middle;\n",
       "    }\n",
       "\n",
       "    .dataframe tbody tr th {\n",
       "        vertical-align: top;\n",
       "    }\n",
       "\n",
       "    .dataframe thead th {\n",
       "        text-align: right;\n",
       "    }\n",
       "</style>\n",
       "<table border=\"1\" class=\"dataframe\">\n",
       "  <thead>\n",
       "    <tr style=\"text-align: right;\">\n",
       "      <th></th>\n",
       "      <th>hypothesis</th>\n",
       "      <th>reach</th>\n",
       "      <th>impact</th>\n",
       "      <th>confidence</th>\n",
       "      <th>efforts</th>\n",
       "      <th>ICE</th>\n",
       "      <th>RICE</th>\n",
       "    </tr>\n",
       "  </thead>\n",
       "  <tbody>\n",
       "    <tr>\n",
       "      <th>7</th>\n",
       "      <td>Добавить форму подписки на все основные страницы, чтобы собрать базу клиентов для email-рассылок</td>\n",
       "      <td>10</td>\n",
       "      <td>7</td>\n",
       "      <td>8</td>\n",
       "      <td>5</td>\n",
       "      <td>11.20</td>\n",
       "      <td>112.0</td>\n",
       "    </tr>\n",
       "    <tr>\n",
       "      <th>2</th>\n",
       "      <td>Добавить блоки рекомендаций товаров на сайт интернет магазина, чтобы повысить конверсию и средний чек заказа</td>\n",
       "      <td>8</td>\n",
       "      <td>3</td>\n",
       "      <td>7</td>\n",
       "      <td>3</td>\n",
       "      <td>7.00</td>\n",
       "      <td>56.0</td>\n",
       "    </tr>\n",
       "    <tr>\n",
       "      <th>0</th>\n",
       "      <td>Добавить два новых канала привлечения трафика, что позволит привлекать на 30% больше пользователей</td>\n",
       "      <td>3</td>\n",
       "      <td>10</td>\n",
       "      <td>8</td>\n",
       "      <td>6</td>\n",
       "      <td>13.33</td>\n",
       "      <td>40.0</td>\n",
       "    </tr>\n",
       "    <tr>\n",
       "      <th>6</th>\n",
       "      <td>Показать на главной странице баннеры с актуальными акциями и распродажами, чтобы увеличить конверсию</td>\n",
       "      <td>5</td>\n",
       "      <td>3</td>\n",
       "      <td>8</td>\n",
       "      <td>3</td>\n",
       "      <td>8.00</td>\n",
       "      <td>40.0</td>\n",
       "    </tr>\n",
       "    <tr>\n",
       "      <th>8</th>\n",
       "      <td>Запустить акцию, дающую скидку на товар в день рождения</td>\n",
       "      <td>1</td>\n",
       "      <td>9</td>\n",
       "      <td>9</td>\n",
       "      <td>5</td>\n",
       "      <td>16.20</td>\n",
       "      <td>16.2</td>\n",
       "    </tr>\n",
       "    <tr>\n",
       "      <th>3</th>\n",
       "      <td>Изменить структура категорий, что увеличит конверсию, т.к. пользователи быстрее найдут нужный товар</td>\n",
       "      <td>8</td>\n",
       "      <td>3</td>\n",
       "      <td>3</td>\n",
       "      <td>8</td>\n",
       "      <td>1.12</td>\n",
       "      <td>9.0</td>\n",
       "    </tr>\n",
       "    <tr>\n",
       "      <th>1</th>\n",
       "      <td>Запустить собственную службу доставки, что сократит срок доставки заказов</td>\n",
       "      <td>2</td>\n",
       "      <td>5</td>\n",
       "      <td>4</td>\n",
       "      <td>10</td>\n",
       "      <td>2.00</td>\n",
       "      <td>4.0</td>\n",
       "    </tr>\n",
       "    <tr>\n",
       "      <th>5</th>\n",
       "      <td>Добавить страницу отзывов клиентов о магазине, что позволит увеличить количество заказов</td>\n",
       "      <td>3</td>\n",
       "      <td>2</td>\n",
       "      <td>2</td>\n",
       "      <td>3</td>\n",
       "      <td>1.33</td>\n",
       "      <td>4.0</td>\n",
       "    </tr>\n",
       "    <tr>\n",
       "      <th>4</th>\n",
       "      <td>Изменить цвет фона главной страницы, чтобы увеличить вовлеченность пользователей</td>\n",
       "      <td>3</td>\n",
       "      <td>1</td>\n",
       "      <td>1</td>\n",
       "      <td>1</td>\n",
       "      <td>1.00</td>\n",
       "      <td>3.0</td>\n",
       "    </tr>\n",
       "  </tbody>\n",
       "</table>\n",
       "</div>"
      ],
      "text/plain": [
       "                                                                                                     hypothesis  \\\n",
       "7  Добавить форму подписки на все основные страницы, чтобы собрать базу клиентов для email-рассылок               \n",
       "2  Добавить блоки рекомендаций товаров на сайт интернет магазина, чтобы повысить конверсию и средний чек заказа   \n",
       "0  Добавить два новых канала привлечения трафика, что позволит привлекать на 30% больше пользователей             \n",
       "6  Показать на главной странице баннеры с актуальными акциями и распродажами, чтобы увеличить конверсию           \n",
       "8  Запустить акцию, дающую скидку на товар в день рождения                                                        \n",
       "3  Изменить структура категорий, что увеличит конверсию, т.к. пользователи быстрее найдут нужный товар            \n",
       "1  Запустить собственную службу доставки, что сократит срок доставки заказов                                      \n",
       "5  Добавить страницу отзывов клиентов о магазине, что позволит увеличить количество заказов                       \n",
       "4  Изменить цвет фона главной страницы, чтобы увеличить вовлеченность пользователей                               \n",
       "\n",
       "   reach  impact  confidence  efforts    ICE   RICE  \n",
       "7  10     7       8           5        11.20  112.0  \n",
       "2  8      3       7           3        7.00   56.0   \n",
       "0  3      10      8           6        13.33  40.0   \n",
       "6  5      3       8           3        8.00   40.0   \n",
       "8  1      9       9           5        16.20  16.2   \n",
       "3  8      3       3           8        1.12   9.0    \n",
       "1  2      5       4           10       2.00   4.0    \n",
       "5  3      2       2           3        1.33   4.0    \n",
       "4  3      1       1           1        1.00   3.0    "
      ]
     },
     "execution_count": 15,
     "metadata": {},
     "output_type": "execute_result"
    }
   ],
   "source": [
    "# сводная таблица гипотез с сортировкой по убыванию RICE\n",
    "hypothesis.sort_values(by='RICE', ascending=False)"
   ]
  },
  {
   "cell_type": "markdown",
   "id": "2a20badf",
   "metadata": {},
   "source": [
    "**Вывод**\n",
    "\n",
    "Фреймворк `ICE` вывел в лидеры гипотезы: №8, 0, 7. В то время как RICE, учитывающий какое количество пользователей затронет изменение, которое мы хотим внести, в лидеры вывел гипотезы №7, 2, 0. Это произошло, так как показатель `reach` в гипотезе 7 имеет максимальные 10 баллов - полный охват пользователей. Поскольку для компании имеет важное значение какой части пользователей коснутся изменения, то приоритет расставим основываясь на расчетах фреймворка RICE."
   ]
  },
  {
   "cell_type": "markdown",
   "id": "1dd11cdf",
   "metadata": {},
   "source": [
    "## Анализ A/B - теста \n",
    "\n",
    "В этом разделе проведем анализ A/B - теста:\n",
    "\n",
    "1. Проверим группы на дублирующихся пользователей, произведем анализ выборок.\n",
    "2. Визуализируем:\n",
    "    * кумулятивную выручку по группам;\n",
    "    * кумулятивный средний чек по группам;\n",
    "    * относительное изменение среднего чека группы В к группе А;\n",
    "    * кумулятивную конверсию по группам;\n",
    "    * относительное изменение кумулятивной конверсии группы В к группе А;\n",
    "    \n",
    "    \n",
    "3. Проведем анализ выбросов и всплесков:\n",
    "    * построим графики количества заказов по пользователям;\n",
    "    * посчитаем 95, 99 перцентили количества заказов на пользователя;\n",
    "    * построим точечный график стоимостей заказов;\n",
    "    * посчитаем 95, 99 перцентили стоимости заказов;\n",
    "    \n",
    "    \n",
    "4. Проведем анализ А/В - теста, посчитаем статистическую значимость различий:\n",
    "    * в среднем количестве заказов на пользователя между группами по «сырым» данным; \n",
    "    * в среднем чеке заказа между группами по «сырым» данным; \n",
    "    * в среднем количестве заказов на пользователя между группами по «очищенным» данным; \n",
    "    * в среднем чеке заказа между группами по «очищенным» данным;\n",
    "    * примем решение по результатам теста; \n",
    "\n",
    "\n",
    "5. Примем решение по результатам А/В - теста."
   ]
  },
  {
   "cell_type": "markdown",
   "id": "31d5f91d",
   "metadata": {},
   "source": [
    "### Проверка групп\n",
    "\n",
    "Убедимся в том, что не было \"подглядования\" пользователей и выборки с уникальными пользователями для каждой группы. "
   ]
  },
  {
   "cell_type": "markdown",
   "id": "c5990261",
   "metadata": {},
   "source": [
    "**1. Проверим все ли пользователи уникальны для каждой группы.**"
   ]
  },
  {
   "cell_type": "code",
   "execution_count": 16,
   "id": "fbe2f009",
   "metadata": {},
   "outputs": [
    {
     "data": {
      "text/plain": [
       "0    3957174400\n",
       "1    3984495233\n",
       "2    2780786433\n",
       "3    1294878855\n",
       "4    1648269707\n",
       "5    1614305549\n",
       "6    4120364173\n",
       "7    232979603 \n",
       "8    199603092 \n",
       "9    4266935830\n",
       "dtype: int64"
      ]
     },
     "metadata": {},
     "output_type": "display_data"
    },
    {
     "name": "stdout",
     "output_type": "stream",
     "text": [
      "Итого уникальных дублирующихся пользователей: 58\n"
     ]
    }
   ],
   "source": [
    "# создадим список пользователей, присутствующих в обеих группах\n",
    "duplicated_visitors_id = (\n",
    "    pd.Series(\n",
    "        list(\n",
    "            set(orders[orders['group'] == \"A\"]['visitor_id']) \n",
    "            & \n",
    "            set(orders[orders['group'] == \"B\"]['visitor_id'])\n",
    "        )\n",
    "    )\n",
    ")\n",
    "\n",
    "display(duplicated_visitors_id.head(10))\n",
    "print('Итого уникальных дублирующихся пользователей:', duplicated_visitors_id.nunique())"
   ]
  },
  {
   "cell_type": "code",
   "execution_count": 17,
   "id": "85c3c2d2",
   "metadata": {},
   "outputs": [
    {
     "data": {
      "text/html": [
       "<div>\n",
       "<style scoped>\n",
       "    .dataframe tbody tr th:only-of-type {\n",
       "        vertical-align: middle;\n",
       "    }\n",
       "\n",
       "    .dataframe tbody tr th {\n",
       "        vertical-align: top;\n",
       "    }\n",
       "\n",
       "    .dataframe thead th {\n",
       "        text-align: right;\n",
       "    }\n",
       "</style>\n",
       "<table border=\"1\" class=\"dataframe\">\n",
       "  <thead>\n",
       "    <tr style=\"text-align: right;\">\n",
       "      <th></th>\n",
       "      <th>transaction_id</th>\n",
       "      <th>visitor_id</th>\n",
       "      <th>date</th>\n",
       "      <th>revenue</th>\n",
       "      <th>group</th>\n",
       "    </tr>\n",
       "  </thead>\n",
       "  <tbody>\n",
       "    <tr>\n",
       "      <th>662</th>\n",
       "      <td>1811671147</td>\n",
       "      <td>4266935830</td>\n",
       "      <td>2019-08-29</td>\n",
       "      <td>78990</td>\n",
       "      <td>A</td>\n",
       "    </tr>\n",
       "    <tr>\n",
       "      <th>682</th>\n",
       "      <td>1216533772</td>\n",
       "      <td>4266935830</td>\n",
       "      <td>2019-08-29</td>\n",
       "      <td>78990</td>\n",
       "      <td>B</td>\n",
       "    </tr>\n",
       "    <tr>\n",
       "      <th>873</th>\n",
       "      <td>2519737434</td>\n",
       "      <td>4256040402</td>\n",
       "      <td>2019-08-08</td>\n",
       "      <td>58220</td>\n",
       "      <td>B</td>\n",
       "    </tr>\n",
       "    <tr>\n",
       "      <th>187</th>\n",
       "      <td>2048878902</td>\n",
       "      <td>4256040402</td>\n",
       "      <td>2019-08-17</td>\n",
       "      <td>1550</td>\n",
       "      <td>A</td>\n",
       "    </tr>\n",
       "    <tr>\n",
       "      <th>253</th>\n",
       "      <td>1610091760</td>\n",
       "      <td>4256040402</td>\n",
       "      <td>2019-08-23</td>\n",
       "      <td>16950</td>\n",
       "      <td>A</td>\n",
       "    </tr>\n",
       "    <tr>\n",
       "      <th>...</th>\n",
       "      <td>...</td>\n",
       "      <td>...</td>\n",
       "      <td>...</td>\n",
       "      <td>...</td>\n",
       "      <td>...</td>\n",
       "    </tr>\n",
       "    <tr>\n",
       "      <th>1102</th>\n",
       "      <td>1941707234</td>\n",
       "      <td>199603092</td>\n",
       "      <td>2019-08-12</td>\n",
       "      <td>6438</td>\n",
       "      <td>A</td>\n",
       "    </tr>\n",
       "    <tr>\n",
       "      <th>246</th>\n",
       "      <td>437656952</td>\n",
       "      <td>199603092</td>\n",
       "      <td>2019-08-02</td>\n",
       "      <td>3488</td>\n",
       "      <td>B</td>\n",
       "    </tr>\n",
       "    <tr>\n",
       "      <th>134</th>\n",
       "      <td>62794304</td>\n",
       "      <td>199603092</td>\n",
       "      <td>2019-08-22</td>\n",
       "      <td>6976</td>\n",
       "      <td>A</td>\n",
       "    </tr>\n",
       "    <tr>\n",
       "      <th>71</th>\n",
       "      <td>3679129301</td>\n",
       "      <td>8300375</td>\n",
       "      <td>2019-08-01</td>\n",
       "      <td>10510</td>\n",
       "      <td>B</td>\n",
       "    </tr>\n",
       "    <tr>\n",
       "      <th>703</th>\n",
       "      <td>4293855558</td>\n",
       "      <td>8300375</td>\n",
       "      <td>2019-08-07</td>\n",
       "      <td>1790</td>\n",
       "      <td>A</td>\n",
       "    </tr>\n",
       "  </tbody>\n",
       "</table>\n",
       "<p>181 rows × 5 columns</p>\n",
       "</div>"
      ],
      "text/plain": [
       "      transaction_id  visitor_id       date  revenue group\n",
       "662   1811671147      4266935830 2019-08-29  78990    A   \n",
       "682   1216533772      4266935830 2019-08-29  78990    B   \n",
       "873   2519737434      4256040402 2019-08-08  58220    B   \n",
       "187   2048878902      4256040402 2019-08-17  1550     A   \n",
       "253   1610091760      4256040402 2019-08-23  16950    A   \n",
       "...          ...             ...        ...    ...   ..   \n",
       "1102  1941707234      199603092  2019-08-12  6438     A   \n",
       "246   437656952       199603092  2019-08-02  3488     B   \n",
       "134   62794304        199603092  2019-08-22  6976     A   \n",
       "71    3679129301      8300375    2019-08-01  10510    B   \n",
       "703   4293855558      8300375    2019-08-07  1790     A   \n",
       "\n",
       "[181 rows x 5 columns]"
      ]
     },
     "execution_count": 17,
     "metadata": {},
     "output_type": "execute_result"
    }
   ],
   "source": [
    "# посмотрим на этот список\n",
    "(\n",
    "    orders[orders['visitor_id']\n",
    "           .isin(duplicated_visitors_id)]\n",
    "    .sort_values(by='visitor_id', \n",
    "                 ascending=False)\n",
    ")"
   ]
  },
  {
   "cell_type": "code",
   "execution_count": 18,
   "id": "a98b5aa8",
   "metadata": {},
   "outputs": [
    {
     "name": "stdout",
     "output_type": "stream",
     "text": [
      "Доля выручки повторяющихся пользователей: 15.60%\n"
     ]
    }
   ],
   "source": [
    "print('Доля выручки повторяющихся пользователей: {:.2%}'.format(\n",
    "    orders[orders['visitor_id']\n",
    "           .isin(duplicated_visitors_id)]['revenue']\n",
    "    .sum() \n",
    "    / \n",
    "    orders['revenue']\n",
    "    .sum()\n",
    ")\n",
    "     )"
   ]
  },
  {
   "cell_type": "markdown",
   "id": "36d015b4",
   "metadata": {},
   "source": [
    "Итого у нас 181 строка с 58 уникальными пользователями, которые одновременно находятся сразу в двух группах, а это противоречит условию проведения А/В - теста. Поскольку в рамках проекта нет возможности уточнить причину, то можем предполажить, что это технический сбой сбора данных. Поэтому понять в какой именно группе те или иные пользователи принимали участие нет возможности, и, несмотря на большую долю выручки - 15.6% этих пользователей(скорее всего именно здесь кроются выбросы в данных), их необходимо удалить, чтобы не искажать результаты A/B- теста. "
   ]
  },
  {
   "cell_type": "code",
   "execution_count": 19,
   "id": "9ce95969",
   "metadata": {},
   "outputs": [
    {
     "name": "stdout",
     "output_type": "stream",
     "text": [
      "Было пользователей: 1197\n",
      "Стало пользователей: 1016\n"
     ]
    }
   ],
   "source": [
    "print('Было пользователей:', len(orders))\n",
    "orders = orders.query('visitor_id not in @duplicated_visitors_id')\n",
    "print('Стало пользователей:', len(orders))"
   ]
  },
  {
   "cell_type": "markdown",
   "id": "3dfe1f25",
   "metadata": {},
   "source": [
    "**2. Анализ выборок.**"
   ]
  },
  {
   "cell_type": "code",
   "execution_count": 20,
   "id": "972fc8d5",
   "metadata": {},
   "outputs": [],
   "source": [
    "# разделим данные \n",
    "visitors_a = visitors.query('group == \"A\"')['visitors']\n",
    "visitors_b = visitors.query('group == \"B\"')['visitors']"
   ]
  },
  {
   "cell_type": "code",
   "execution_count": 21,
   "id": "dccd9f59",
   "metadata": {},
   "outputs": [
    {
     "name": "stdout",
     "output_type": "stream",
     "text": [
      "Количество пользователей в группе А: 18736\n",
      "Количество пользователей в группе B: 18916\n",
      "Общий размер выборки: 37652\n",
      "Разница в количестве пользователей в двух группах: 0.99 %\n"
     ]
    }
   ],
   "source": [
    "print(\"Количество пользователей в группе А:\", visitors_a.sum())\n",
    "print(\"Количество пользователей в группе B:\", visitors_b.sum())\n",
    "print(\"Общий размер выборки:\", visitors['visitors'].sum())\n",
    "print(\"Разница в количестве пользователей в двух группах:\",'{0:.2f}'.format(visitors_a.sum() / visitors_b.sum()),'%')"
   ]
  },
  {
   "cell_type": "markdown",
   "id": "59289cac",
   "metadata": {},
   "source": [
    "Проверили, что количество пользователей в группах различается не более, чем на 1%."
   ]
  },
  {
   "cell_type": "markdown",
   "id": "fd192fbe",
   "metadata": {},
   "source": [
    "Для проверки данных о визитах пользователей в группах на нормальность распределения применим критерий Шапиро-Уилка.\n",
    "\n",
    "**Сформулируем гипотезы:**\n",
    "\n",
    "* Нулевая гипотеза: данные в группе распределены нормально.\n",
    "* Альтернативная гипотеза: данные в группе распределены НЕ нормально."
   ]
  },
  {
   "cell_type": "code",
   "execution_count": 22,
   "id": "f7523cc5",
   "metadata": {},
   "outputs": [
    {
     "name": "stdout",
     "output_type": "stream",
     "text": [
      "p_value группы А:  0.029\n",
      "p_value группы B:  0.036\n",
      "Отвергаем нулевую гипотезу: данные в группе А распределены НЕ нормально\n",
      "Отвергаем нулевую гипотезу: данные в группе B распределены НЕ нормально\n"
     ]
    }
   ],
   "source": [
    "alpha = .05 # критический уровень статистической значимости\n",
    "results_a = st.shapiro(visitors_a)\n",
    "results_b = st.shapiro(visitors_b)\n",
    "p_value_a = results_a[1]\n",
    "p_value_b = results_b[1] \n",
    "\n",
    "print('p_value группы А: ', \"{:.3f}\".format(p_value_a))\n",
    "print('p_value группы B: ', \"{:.3f}\".format(p_value_b))\n",
    "\n",
    "if p_value_a < alpha:\n",
    "    print(\"Отвергаем нулевую гипотезу: данные в группе А распределены НЕ нормально\")\n",
    "else:\n",
    "    print(\"Не получилось отвергнуть нулевую гипотезу, данные в группе А распределены нормально\")\n",
    "\n",
    "if p_value_b < alpha:\n",
    "    print(\"Отвергаем нулевую гипотезу: данные в группе B распределены НЕ нормально\")\n",
    "else:\n",
    "    print(\"Не получилось отвергнуть нулевую гипотезу, данные в группе B распределены нормально\")"
   ]
  },
  {
   "cell_type": "markdown",
   "id": "1360f65f",
   "metadata": {},
   "source": [
    "Поскольку мы выяснили, что данные в выборках распределены не нормально, то алгебраические метрики будут работать плохо. Поэтому проверим сказалось ли влияние изменений на количестве пользователей с помощью непараметрического теста Уилкоксона-Манна-Уитни:\n",
    "\n",
    "**Сформулируем гипотезы:**\n",
    "\n",
    "* Нулевая гипотеза: количество пользователей в группах не отличается.\n",
    "* Альтернативная гипотеза: количество пользователей в группах отличается."
   ]
  },
  {
   "cell_type": "code",
   "execution_count": 23,
   "id": "88e0a4b1",
   "metadata": {},
   "outputs": [
    {
     "name": "stdout",
     "output_type": "stream",
     "text": [
      "p_value:  0.730\n",
      "Не получилось отвергнуть нулевую гипотезу, разница в количестве пользователей в группах статистически НЕ значима\n"
     ]
    }
   ],
   "source": [
    "alpha = 0.05  # критический уровень статистической значимости\n",
    "\n",
    "results = st.mannwhitneyu(visitors_a, visitors_b)\n",
    "\n",
    "print('p_value: ', \"{:.3f}\".format(results.pvalue))\n",
    "\n",
    "if results.pvalue < alpha:\n",
    "    print('Отвергаем нулевую гипотезу: разница в количестве пользователей в группах статистически значима')\n",
    "else:\n",
    "    print('Не получилось отвергнуть нулевую гипотезу, разница в количестве пользователей в группах статистически НЕ значима') "
   ]
  },
  {
   "cell_type": "markdown",
   "id": "545fedfa",
   "metadata": {},
   "source": [
    "**Вывод**\n",
    "\n",
    "Благодаря проведенному предварительному анализу было выявлено существенное нарушение условия проведения А/В-теста - 58 пользователей одновременно находились сразу в двух группах. Возможно, это стало результатом технического сбоя сбора данных или человеческого фактора. Анализ выборок также показал, что разница в размерах выборок не превышает 1%, что укладывается в рамки нормы. Также удалось установить, что нет статистически значимой разницы в количестве пользователей в группах. Теперь можно переходить к визуализации и анализу метрик."
   ]
  },
  {
   "cell_type": "markdown",
   "id": "f8f03eb4",
   "metadata": {},
   "source": [
    "### Визуализация кумулятивных метрик"
   ]
  },
  {
   "cell_type": "code",
   "execution_count": 24,
   "id": "f72c7701",
   "metadata": {},
   "outputs": [
    {
     "data": {
      "text/plain": [
       "(Timestamp('2019-08-01 00:00:00'), Timestamp('2019-08-31 00:00:00'))"
      ]
     },
     "execution_count": 24,
     "metadata": {},
     "output_type": "execute_result"
    }
   ],
   "source": [
    "# посмотрим даты проведения теста\n",
    "orders['date'].min(), orders['date'].max()"
   ]
  },
  {
   "cell_type": "markdown",
   "id": "ffe6b3af",
   "metadata": {},
   "source": [
    "Тест шел в течение месяца с 1 по 31 августа 2019г. Проанализируем графики кумулятивных метрик. \n",
    "\n",
    "**1. Построим график кумулятивной выручки по группам.**"
   ]
  },
  {
   "cell_type": "markdown",
   "id": "5630d228",
   "metadata": {},
   "source": [
    "Для начала соберем кумулятивные данные в единую таблицу `cumulative_data`."
   ]
  },
  {
   "cell_type": "code",
   "execution_count": 25,
   "id": "dcccae70",
   "metadata": {},
   "outputs": [
    {
     "data": {
      "text/html": [
       "<div>\n",
       "<style scoped>\n",
       "    .dataframe tbody tr th:only-of-type {\n",
       "        vertical-align: middle;\n",
       "    }\n",
       "\n",
       "    .dataframe tbody tr th {\n",
       "        vertical-align: top;\n",
       "    }\n",
       "\n",
       "    .dataframe thead th {\n",
       "        text-align: right;\n",
       "    }\n",
       "</style>\n",
       "<table border=\"1\" class=\"dataframe\">\n",
       "  <thead>\n",
       "    <tr style=\"text-align: right;\">\n",
       "      <th></th>\n",
       "      <th>date</th>\n",
       "      <th>group</th>\n",
       "      <th>orders</th>\n",
       "      <th>buyers</th>\n",
       "      <th>revenue</th>\n",
       "      <th>visitors</th>\n",
       "    </tr>\n",
       "  </thead>\n",
       "  <tbody>\n",
       "    <tr>\n",
       "      <th>0</th>\n",
       "      <td>2019-08-01</td>\n",
       "      <td>A</td>\n",
       "      <td>23</td>\n",
       "      <td>19</td>\n",
       "      <td>142779</td>\n",
       "      <td>719</td>\n",
       "    </tr>\n",
       "    <tr>\n",
       "      <th>1</th>\n",
       "      <td>2019-08-01</td>\n",
       "      <td>B</td>\n",
       "      <td>17</td>\n",
       "      <td>17</td>\n",
       "      <td>59758</td>\n",
       "      <td>713</td>\n",
       "    </tr>\n",
       "    <tr>\n",
       "      <th>2</th>\n",
       "      <td>2019-08-02</td>\n",
       "      <td>A</td>\n",
       "      <td>42</td>\n",
       "      <td>36</td>\n",
       "      <td>234381</td>\n",
       "      <td>1338</td>\n",
       "    </tr>\n",
       "    <tr>\n",
       "      <th>3</th>\n",
       "      <td>2019-08-02</td>\n",
       "      <td>B</td>\n",
       "      <td>40</td>\n",
       "      <td>39</td>\n",
       "      <td>221801</td>\n",
       "      <td>1294</td>\n",
       "    </tr>\n",
       "    <tr>\n",
       "      <th>4</th>\n",
       "      <td>2019-08-03</td>\n",
       "      <td>A</td>\n",
       "      <td>66</td>\n",
       "      <td>60</td>\n",
       "      <td>346854</td>\n",
       "      <td>1845</td>\n",
       "    </tr>\n",
       "  </tbody>\n",
       "</table>\n",
       "</div>"
      ],
      "text/plain": [
       "        date group  orders  buyers  revenue  visitors\n",
       "0 2019-08-01  A     23      19      142779   719     \n",
       "1 2019-08-01  B     17      17      59758    713     \n",
       "2 2019-08-02  A     42      36      234381   1338    \n",
       "3 2019-08-02  B     40      39      221801   1294    \n",
       "4 2019-08-03  A     66      60      346854   1845    "
      ]
     },
     "execution_count": 25,
     "metadata": {},
     "output_type": "execute_result"
    }
   ],
   "source": [
    "# создаем массив уникальных пар значений дат и групп теста\n",
    "dates_groups = orders[['date','group']].drop_duplicates() \n",
    "\n",
    "# получаем агрегированные кумулятивные данные о заказах по дням  \n",
    "orders_aggregated = (\n",
    "    dates_groups\n",
    "    .apply(lambda x: orders[np.logical_and(orders['date'] <= x['date'], \n",
    "                                           orders['group'] == x['group'])]\n",
    "                     .agg({'date' : 'max', \n",
    "                           'group' : 'max', \n",
    "                           'transaction_id' : 'nunique', \n",
    "                           'visitor_id' : 'nunique', \n",
    "                           'revenue' : 'sum'}), axis=1)\n",
    "    .sort_values(by=['date',\n",
    "                     'group'])\n",
    ")\n",
    "\n",
    "# получаем агрегированные кумулятивные данные о посетителях интернет-магазина по дням \n",
    "visitors_aggregated = (\n",
    "    dates_groups\n",
    "    .apply(lambda x: visitors[np.logical_and(visitors['date'] <= x['date'], \n",
    "                                             visitors['group'] == x['group'])].agg({'date' : 'max', \n",
    "                                                                                    'group' : 'max', \n",
    "                                                                                    'visitors' : 'sum'}), axis=1)\n",
    "    .sort_values(by=['date',\n",
    "                     'group'])\n",
    ")\n",
    "\n",
    "# объединяем кумулятивные данные в одной таблице и присваиваем ее столбцам понятные названия\n",
    "cumulative_data = orders_aggregated.merge(visitors_aggregated, \n",
    "                                        left_on=['date', 'group'], \n",
    "                                        right_on=['date', 'group'])\n",
    "cumulative_data.columns = ['date', 'group', 'orders', 'buyers', 'revenue', 'visitors']\n",
    "\n",
    "cumulative_data.head()"
   ]
  },
  {
   "cell_type": "markdown",
   "id": "03770fb8",
   "metadata": {},
   "source": [
    "Построим график кумулятивной выручки по группам."
   ]
  },
  {
   "cell_type": "code",
   "execution_count": 26,
   "id": "478d1997",
   "metadata": {},
   "outputs": [
    {
     "data": {
      "image/png": "[encoded data removed]",
      "text/plain": [
       "<Figure size 1152x432 with 1 Axes>"
      ]
     },
     "metadata": {
      "needs_background": "light"
     },
     "output_type": "display_data"
    }
   ],
   "source": [
    "# датафрейм с кумулятивным количеством заказов и кумулятивной выручкой по дням в группе А\n",
    "cumulative_revenue_a = cumulative_data[cumulative_data['group']=='A'][['date','revenue', 'orders']]\n",
    "\n",
    "# датафрейм с кумулятивным количеством заказов и кумулятивной выручкой по дням в группе B\n",
    "cumulative_revenue_b = cumulative_data[cumulative_data['group']=='B'][['date','revenue', 'orders']]\n",
    "\n",
    "\n",
    "plt.figure(figsize=(16, 6))\n",
    "# Строим график выручки группы А\n",
    "plt.plot(cumulative_revenue_a['date'], cumulative_revenue_a['revenue'], label='A')\n",
    "# Строим график выручки группы B\n",
    "plt.plot(cumulative_revenue_b['date'], cumulative_revenue_b['revenue'], label='B')\n",
    "plt.legend() \n",
    "plt.title('Кумулятивная выручка по группам', fontsize=16)\n",
    "plt.xlabel('Даты', fontsize=12)\n",
    "plt.ylabel('Кумулятивная выручка', fontsize=12)\n",
    "plt.legend()\n",
    "plt.grid()\n",
    "plt.show()"
   ]
  },
  {
   "cell_type": "markdown",
   "id": "820cf244",
   "metadata": {},
   "source": [
    "Посмотрим в какой именно момент произошел скачок выручки в группе В, отраженный на графике."
   ]
  },
  {
   "cell_type": "code",
   "execution_count": 27,
   "id": "b56842ba",
   "metadata": {},
   "outputs": [
    {
     "data": {
      "text/html": [
       "<div>\n",
       "<style scoped>\n",
       "    .dataframe tbody tr th:only-of-type {\n",
       "        vertical-align: middle;\n",
       "    }\n",
       "\n",
       "    .dataframe tbody tr th {\n",
       "        vertical-align: top;\n",
       "    }\n",
       "\n",
       "    .dataframe thead th {\n",
       "        text-align: right;\n",
       "    }\n",
       "</style>\n",
       "<table border=\"1\" class=\"dataframe\">\n",
       "  <thead>\n",
       "    <tr style=\"text-align: right;\">\n",
       "      <th></th>\n",
       "      <th>revenue</th>\n",
       "      <th>orders</th>\n",
       "    </tr>\n",
       "    <tr>\n",
       "      <th>date</th>\n",
       "      <th></th>\n",
       "      <th></th>\n",
       "    </tr>\n",
       "  </thead>\n",
       "  <tbody>\n",
       "    <tr>\n",
       "      <th>2019-08-15</th>\n",
       "      <td>1960427</td>\n",
       "      <td>289</td>\n",
       "    </tr>\n",
       "    <tr>\n",
       "      <th>2019-08-16</th>\n",
       "      <td>2074677</td>\n",
       "      <td>307</td>\n",
       "    </tr>\n",
       "    <tr>\n",
       "      <th>2019-08-17</th>\n",
       "      <td>2155542</td>\n",
       "      <td>320</td>\n",
       "    </tr>\n",
       "    <tr>\n",
       "      <th>2019-08-18</th>\n",
       "      <td>2190865</td>\n",
       "      <td>327</td>\n",
       "    </tr>\n",
       "    <tr>\n",
       "      <th>2019-08-19</th>\n",
       "      <td>3620785</td>\n",
       "      <td>348</td>\n",
       "    </tr>\n",
       "    <tr>\n",
       "      <th>2019-08-20</th>\n",
       "      <td>3768059</td>\n",
       "      <td>368</td>\n",
       "    </tr>\n",
       "    <tr>\n",
       "      <th>2019-08-21</th>\n",
       "      <td>3908406</td>\n",
       "      <td>380</td>\n",
       "    </tr>\n",
       "  </tbody>\n",
       "</table>\n",
       "</div>"
      ],
      "text/plain": [
       "            revenue  orders\n",
       "date                       \n",
       "2019-08-15  1960427  289   \n",
       "2019-08-16  2074677  307   \n",
       "2019-08-17  2155542  320   \n",
       "2019-08-18  2190865  327   \n",
       "2019-08-19  3620785  348   \n",
       "2019-08-20  3768059  368   \n",
       "2019-08-21  3908406  380   "
      ]
     },
     "execution_count": 27,
     "metadata": {},
     "output_type": "execute_result"
    }
   ],
   "source": [
    "(\n",
    "    cumulative_revenue_b\n",
    "    .set_index('date')\n",
    "    .loc['2019-08-15':'2019-08-21']\n",
    ")"
   ]
  },
  {
   "cell_type": "markdown",
   "id": "786b1914",
   "metadata": {},
   "source": [
    "**Вывод** \n",
    "\n",
    "Выручка в обеих группах постоянно увеличивается в течение всего теста. Это безусловно хороший знак. Но с 19 августа в группе В произошел резкий скачок выручки, это может сигнализировать о всплесках числа заказов, либо о появлении очень дорогих заказов в выборке. Такие выбросы проанализируем позже."
   ]
  },
  {
   "cell_type": "markdown",
   "id": "b4369117",
   "metadata": {},
   "source": [
    "**2. Построим график кумулятивного среднего чека по группам.**\n",
    "\n",
    " Для этого разделим кумулятивную выручку на кумулятивное число заказов."
   ]
  },
  {
   "cell_type": "code",
   "execution_count": 28,
   "id": "e713d803",
   "metadata": {},
   "outputs": [
    {
     "data": {
      "image/png": "[encoded data removed]",
      "text/plain": [
       "<Figure size 1152x432 with 1 Axes>"
      ]
     },
     "metadata": {
      "needs_background": "light"
     },
     "output_type": "display_data"
    }
   ],
   "source": [
    "plt.figure(figsize=(16, 6))\n",
    "# Строим график среднего чека группы А\n",
    "plt.plot(cumulative_revenue_a['date'], cumulative_revenue_a['revenue']/cumulative_revenue_a['orders'], label='A')\n",
    "# Строим график среднего чека группы B\n",
    "plt.plot(cumulative_revenue_b['date'], cumulative_revenue_b['revenue']/cumulative_revenue_b['orders'], label='B')\n",
    "plt.legend() \n",
    "plt.title('Кумулятивный средний чек по группам', fontsize=16)\n",
    "plt.xlabel('Даты', fontsize=12)\n",
    "plt.ylabel('Кумулятивный средний чек', fontsize=12)\n",
    "plt.legend()\n",
    "plt.grid()\n",
    "plt.show()\n"
   ]
  },
  {
   "cell_type": "markdown",
   "id": "c5d09b67",
   "metadata": {},
   "source": [
    "**Вывод**  \n",
    "\n",
    "Несмотря на все колебания в начале средний чек в обеих группах после 19 августа становится равномерным: установился на одном уровне с небольшим темпом роста для группы A и после бурного роста началось плавное падение для группы B. Поскольку предыдущий график показал нам рост кумулятивной выручки с 19 августа, а график среднего чека с этой же даты показал падение, то это, возможно, говорит о явном увеличении количества мелких заказов в это период, что в целом влияет на уровень падение кумулятивного среднего чека. "
   ]
  },
  {
   "cell_type": "markdown",
   "id": "44488634",
   "metadata": {},
   "source": [
    "Чтобы нагляднее увидеть разницу между группами\n",
    "\n",
    "**3. Построим график относительного изменения кумулятивного среднего чека группы B к группе A.**"
   ]
  },
  {
   "cell_type": "code",
   "execution_count": 29,
   "id": "8797f384",
   "metadata": {},
   "outputs": [
    {
     "data": {
      "image/png": "[encoded data removed]",
      "text/plain": [
       "<Figure size 1152x432 with 1 Axes>"
      ]
     },
     "metadata": {
      "needs_background": "light"
     },
     "output_type": "display_data"
    }
   ],
   "source": [
    "# собираем данные о кумулятивной выручке в двух группах в одном датафрейме\n",
    "cumulative_revenue = (\n",
    "    cumulative_revenue_a\n",
    "    .merge(cumulative_revenue_b, \n",
    "           left_on='date', \n",
    "           right_on='date', \n",
    "           how='left', \n",
    "           suffixes=['_a', '_b'])\n",
    ")\n",
    "\n",
    "# cтроим отношение средних чеков группы В к группе А\n",
    "plt.figure(figsize=(16, 6))\n",
    "(\n",
    "    plt\n",
    "    .plot(cumulative_revenue['date'], \n",
    "          (cumulative_revenue['revenue_b']/cumulative_revenue['orders_b'])/\n",
    "          (cumulative_revenue['revenue_a']/cumulative_revenue['orders_a'])-1)\n",
    ")\n",
    "plt.title('Относительный прирост кумулятивного среднего чека группы В к группе А', fontsize=16)\n",
    "plt.xlabel('Даты', fontsize=12)\n",
    "plt.ylabel('Относительный прирост', fontsize=12)\n",
    "\n",
    "# добавляем ось X\n",
    "plt.axhline(y=0, color='black', linestyle='--') \n",
    "plt.grid()\n",
    "plt.show()"
   ]
  },
  {
   "cell_type": "markdown",
   "id": "375e09cd",
   "metadata": {},
   "source": [
    "**Вывод**\n",
    "\n",
    "В нескольких точках график различия между сегментами резко «скачет». Именно в эти даты были совершены аномальные заказы в группе B. Найдём их позже. Тем не менее относительный прирост кумулятивного среднего чека группы В к группе А составляет 27.5%. "
   ]
  },
  {
   "cell_type": "markdown",
   "id": "f5984990",
   "metadata": {},
   "source": [
    "**4. Построим график кумулятивной конверсии по группам**"
   ]
  },
  {
   "cell_type": "code",
   "execution_count": 30,
   "id": "35589571",
   "metadata": {},
   "outputs": [
    {
     "data": {
      "image/png": "[encoded data removed]",
      "text/plain": [
       "<Figure size 1152x432 with 1 Axes>"
      ]
     },
     "metadata": {
      "needs_background": "light"
     },
     "output_type": "display_data"
    }
   ],
   "source": [
    "# считаем кумулятивную конверсию\n",
    "cumulative_data['conversion'] = cumulative_data['orders']/cumulative_data['visitors']\n",
    "\n",
    "# отделяем данные по группе A\n",
    "cumulative_data_a = cumulative_data[cumulative_data['group']=='A']\n",
    "\n",
    "# отделяем данные по группе B\n",
    "cumulative_data_b = cumulative_data[cumulative_data['group']=='B']\n",
    "\n",
    "# строим графики\n",
    "plt.figure(figsize=(16, 6))\n",
    "plt.plot(cumulative_data_a['date'], cumulative_data_a['conversion'], label='A')\n",
    "plt.plot(cumulative_data_b['date'], cumulative_data_b['conversion'], label='B')\n",
    "plt.legend()\n",
    "plt.title('Кумулятивная конверсия по группам', fontsize=16)\n",
    "plt.xlabel('Даты', fontsize=12)\n",
    "plt.ylabel('Кумулятивная конверсия', fontsize=12)\n",
    "plt.grid()\n",
    "\n",
    "# задаем масштаб осей\n",
    "plt.axis([dt.date(2019, 7, 31), dt.date(2019, 9, 1), 0, 0.045]) \n",
    "plt.show()"
   ]
  },
  {
   "cell_type": "markdown",
   "id": "5671d6b4",
   "metadata": {},
   "source": [
    "**Вывод** \n",
    "\n",
    "Обе группы колебались в первую неделю. В начале теста группа А имела более высокую конверсию, но затем конверсия группы В вырвалась вперёд и зафиксировалась на уровне 2.9%, а конверсия группы А просела и также зафиксировалась на уровне 2.5%. Тем не менее абсолютное значение колебания в начале и в конце теста не слишком большое - от 2.4 до 3.6%."
   ]
  },
  {
   "cell_type": "markdown",
   "id": "bd444074",
   "metadata": {},
   "source": [
    "**5. Построим график относительного изменения кумулятивной конверсии группы В к группе А.**"
   ]
  },
  {
   "cell_type": "code",
   "execution_count": 31,
   "id": "39c233c3",
   "metadata": {},
   "outputs": [
    {
     "data": {
      "image/png": "[encoded data removed]",
      "text/plain": [
       "<Figure size 1152x432 with 1 Axes>"
      ]
     },
     "metadata": {
      "needs_background": "light"
     },
     "output_type": "display_data"
    }
   ],
   "source": [
    "# собираем данные о кумулятивной конверсии в двух группах в одном датафрейме\n",
    "cumulative_conversions = (\n",
    "    cumulative_data_a[['date','conversion']]\n",
    "    .merge(cumulative_data_b[['date','conversion']], \n",
    "           left_on='date', \n",
    "           right_on='date', \n",
    "           how='left', \n",
    "           suffixes=['_a', '_b'])\n",
    ")\n",
    "# строим отношение кумулятивной конверсии группы В к группе А\n",
    "plt.figure(figsize=(16, 6))\n",
    "plt.plot(\n",
    "    cumulative_conversions['date'], \n",
    "    cumulative_conversions['conversion_b']\n",
    "    /\n",
    "    cumulative_conversions['conversion_a']\n",
    "    -1\n",
    ") \n",
    "         \n",
    "plt.title(\"Относительный прирост конверсии группы B к группе A\", fontsize=16)\n",
    "plt.xlabel('Даты', fontsize=12)\n",
    "plt.ylabel('Относительное изменение', fontsize=12)\n",
    "plt.grid()\n",
    "plt.axhline(y=0, color='black', linestyle='--')\n",
    "plt.axhline(y=-0.15, color='grey', linestyle='--')\n",
    "# задаем масштаб осей\n",
    "plt.axis([dt.date(2019, 7, 31), dt.date(2019, 9, 1), -0.5, 0.5]) \n",
    "plt.show()"
   ]
  },
  {
   "cell_type": "markdown",
   "id": "70f509de",
   "metadata": {},
   "source": [
    "**Вывод**\n",
    "\n",
    "В начале теста группа B проигрывала группе A, затем вырвалась вперёд и постепенно росла, зафиксировавшись около прироста в 18% относительно группы А. В целом отношение конверсии ещё не установилось, и сейчас делать какие-либо выводы по тесту нельзя. Сперва стоит проанализировать аномалии, возможно, они изменят картину."
   ]
  },
  {
   "cell_type": "markdown",
   "id": "df01bc8d",
   "metadata": {},
   "source": [
    "### Анализ выбросов и всплесков\n",
    "\n",
    "Проанализируем аномалии, которые могут искажать результаты A/B-теста.\n",
    "\n",
    "Помимо среднего чека, анализируют и конверсию. Поскольку пользователи, совершившие аномальное количество заказов, влияют на числитель формулы конверсии, то необходимо проверить именно этот параметр. Скорее всего, их поведение отличается от нормального.\n",
    "\n",
    "Подсчитаем количество заказов на пользователя и посмотрим на результат:"
   ]
  },
  {
   "cell_type": "markdown",
   "id": "ff6bc842",
   "metadata": {},
   "source": [
    "**1. Построим графики количества заказов на пользователя.**"
   ]
  },
  {
   "cell_type": "code",
   "execution_count": 32,
   "id": "1d032c20",
   "metadata": {},
   "outputs": [
    {
     "data": {
      "text/html": [
       "<div>\n",
       "<style scoped>\n",
       "    .dataframe tbody tr th:only-of-type {\n",
       "        vertical-align: middle;\n",
       "    }\n",
       "\n",
       "    .dataframe tbody tr th {\n",
       "        vertical-align: top;\n",
       "    }\n",
       "\n",
       "    .dataframe thead th {\n",
       "        text-align: right;\n",
       "    }\n",
       "</style>\n",
       "<table border=\"1\" class=\"dataframe\">\n",
       "  <thead>\n",
       "    <tr style=\"text-align: right;\">\n",
       "      <th></th>\n",
       "      <th>visitor_id</th>\n",
       "      <th>orders</th>\n",
       "    </tr>\n",
       "  </thead>\n",
       "  <tbody>\n",
       "    <tr>\n",
       "      <th>908</th>\n",
       "      <td>3967698036</td>\n",
       "      <td>3</td>\n",
       "    </tr>\n",
       "    <tr>\n",
       "      <th>55</th>\n",
       "      <td>249864742</td>\n",
       "      <td>3</td>\n",
       "    </tr>\n",
       "    <tr>\n",
       "      <th>478</th>\n",
       "      <td>2108163459</td>\n",
       "      <td>3</td>\n",
       "    </tr>\n",
       "    <tr>\n",
       "      <th>687</th>\n",
       "      <td>2988190573</td>\n",
       "      <td>3</td>\n",
       "    </tr>\n",
       "    <tr>\n",
       "      <th>890</th>\n",
       "      <td>3908431265</td>\n",
       "      <td>3</td>\n",
       "    </tr>\n",
       "    <tr>\n",
       "      <th>138</th>\n",
       "      <td>611059232</td>\n",
       "      <td>3</td>\n",
       "    </tr>\n",
       "    <tr>\n",
       "      <th>632</th>\n",
       "      <td>2742574263</td>\n",
       "      <td>3</td>\n",
       "    </tr>\n",
       "    <tr>\n",
       "      <th>157</th>\n",
       "      <td>678354126</td>\n",
       "      <td>2</td>\n",
       "    </tr>\n",
       "    <tr>\n",
       "      <th>323</th>\n",
       "      <td>1404560065</td>\n",
       "      <td>2</td>\n",
       "    </tr>\n",
       "    <tr>\n",
       "      <th>452</th>\n",
       "      <td>1985475298</td>\n",
       "      <td>2</td>\n",
       "    </tr>\n",
       "  </tbody>\n",
       "</table>\n",
       "</div>"
      ],
      "text/plain": [
       "     visitor_id  orders\n",
       "908  3967698036  3     \n",
       "55   249864742   3     \n",
       "478  2108163459  3     \n",
       "687  2988190573  3     \n",
       "890  3908431265  3     \n",
       "138  611059232   3     \n",
       "632  2742574263  3     \n",
       "157  678354126   2     \n",
       "323  1404560065  2     \n",
       "452  1985475298  2     "
      ]
     },
     "execution_count": 32,
     "metadata": {},
     "output_type": "execute_result"
    }
   ],
   "source": [
    "# сгруппируем заказы по пользователям и подсчитаем число уникальных заказов по сгруппированным данным\n",
    "orders_by_users = (\n",
    "    orders.groupby('visitor_id', as_index=False)  \n",
    "    .agg({'transaction_id': 'nunique'})            \n",
    ")\n",
    "\n",
    "orders_by_users.columns = ['visitor_id', 'orders']\n",
    "\n",
    "orders_by_users.sort_values(by='orders', ascending=False).head(10)"
   ]
  },
  {
   "cell_type": "code",
   "execution_count": 33,
   "id": "bd652235",
   "metadata": {},
   "outputs": [
    {
     "data": {
      "image/png": "[encoded data removed]",
      "text/plain": [
       "<Figure size 1008x864 with 2 Axes>"
      ]
     },
     "metadata": {
      "needs_background": "light"
     },
     "output_type": "display_data"
    }
   ],
   "source": [
    "# строим гистограмму распределения числа заказов на одного пользователя\n",
    "plt.figure(figsize=(14, 12))\n",
    "plt.subplot(2, 1, 1)\n",
    "plt.hist(orders_by_users['orders'])\n",
    "plt.title('Распределение количества заказов на одного пользователя', fontsize=14)\n",
    "plt.xlabel('Количество заказов', fontsize=12) \n",
    "plt.ylabel('Частота', fontsize=12) \n",
    "plt.grid()\n",
    "\n",
    "# серия из чисел от 0 до количества наблюдений в orders_by_users\n",
    "x_values = pd.Series(range(0, len(orders_by_users)))\n",
    "plt.subplot(2, 1, 2)\n",
    "plt.scatter(x_values, orders_by_users['orders']) \n",
    "plt.title('Точечную диаграмма количества заказов на одного пользователя', fontsize=14)\n",
    "plt.xlabel('Частота', fontsize=12) \n",
    "plt.ylabel('Количество заказов', fontsize=12) \n",
    "plt.grid()\n",
    "plt.show()"
   ]
  },
  {
   "attachments": {
    "%D0%A1%D0%BD%D0%B8%D0%BC%D0%BE%D0%BA%20%D1%8D%D0%BA%D1%80%D0%B0%D0%BD%D0%B0%202022-07-09%20%D0%B2%2010.19.03.png": {
     "image/png": "[encoded data removed]"
    }
   },
   "cell_type": "markdown",
   "id": "58018bdb",
   "metadata": {},
   "source": [
    "Такая идеальная картина получилась в силу того, что мы изначально удалили всех дублирующихся в обеих группах пользователей. Если бы мы этого не сделали, график бы выглядел так:\n",
    "\n",
    "![%D0%A1%D0%BD%D0%B8%D0%BC%D0%BE%D0%BA%20%D1%8D%D0%BA%D1%80%D0%B0%D0%BD%D0%B0%202022-07-09%20%D0%B2%2010.19.03.png](attachment:%D0%A1%D0%BD%D0%B8%D0%BC%D0%BE%D0%BA%20%D1%8D%D0%BA%D1%80%D0%B0%D0%BD%D0%B0%202022-07-09%20%D0%B2%2010.19.03.png)"
   ]
  },
  {
   "cell_type": "markdown",
   "id": "e3e5b013",
   "metadata": {},
   "source": [
    "**Вывод**\n",
    "\n",
    "Большинство покупателей заказывали только один раз. Однако доля пользователей с 2-3 заказами тоже значительна. После удаления дублирующихся пользователей, точечная диаграмма подтвердила выводы: есть много пользователей с 2-3 заказами. Однако их точная доля не ясна — непонятно, считать их аномалиями или нет. Для этого посчитаем 95-й и 99-й выборочные перцентили количества заказов по пользователям."
   ]
  },
  {
   "cell_type": "markdown",
   "id": "7a117e42",
   "metadata": {},
   "source": [
    "**2. Расчет 95 и 99 перцентиля количества заказов на пользователя.**"
   ]
  },
  {
   "cell_type": "code",
   "execution_count": 34,
   "id": "51ccfccf",
   "metadata": {},
   "outputs": [
    {
     "data": {
      "text/plain": [
       "array([1., 2.])"
      ]
     },
     "execution_count": 34,
     "metadata": {},
     "output_type": "execute_result"
    }
   ],
   "source": [
    "np.percentile(orders_by_users['orders'], [95, 99])"
   ]
  },
  {
   "cell_type": "code",
   "execution_count": 35,
   "id": "34dce7c8",
   "metadata": {},
   "outputs": [
    {
     "data": {
      "text/plain": [
       "7"
      ]
     },
     "execution_count": 35,
     "metadata": {},
     "output_type": "execute_result"
    }
   ],
   "source": [
    "# какое количество пользователей сделало больше 2 заказов\n",
    "orders_by_users[orders_by_users['orders'] > 2]['orders'].count()"
   ]
  },
  {
   "cell_type": "markdown",
   "id": "8fdaeb74",
   "metadata": {},
   "source": [
    "**Вывод**\n",
    "\n",
    "Не более 5% пользователей совершили больше 1 заказа и не более 1% пользователей совершили более 2 заказов. Если бы мы сразу не удалили аномальных пользователей, то показатели были бы иными: array([2., 4.]). В данном разделе аномальными можно считать пользователей, разместивших более 2 заказов. Поскольку дублирующиеся пользователи были основным источником аномалий в количестве заказов на пользователя, а именно этот параметр влияет на результаты конверсии, можно смело утверждать, что ранее расчитанные показатели конверсии можно считать достоверными и не подверженными влиянию аномалий."
   ]
  },
  {
   "cell_type": "markdown",
   "id": "435c3e22",
   "metadata": {},
   "source": [
    "**3. Построим графики стоимости заказов.**\n",
    "\n",
    "Посмотрим нет ли аномалий среди стоимости заказов, поскольку это сразу же исказит результаты теста. "
   ]
  },
  {
   "cell_type": "code",
   "execution_count": 36,
   "id": "bfc5d35b",
   "metadata": {},
   "outputs": [
    {
     "data": {
      "text/html": [
       "<div>\n",
       "<style scoped>\n",
       "    .dataframe tbody tr th:only-of-type {\n",
       "        vertical-align: middle;\n",
       "    }\n",
       "\n",
       "    .dataframe tbody tr th {\n",
       "        vertical-align: top;\n",
       "    }\n",
       "\n",
       "    .dataframe thead th {\n",
       "        text-align: right;\n",
       "    }\n",
       "</style>\n",
       "<table border=\"1\" class=\"dataframe\">\n",
       "  <thead>\n",
       "    <tr style=\"text-align: right;\">\n",
       "      <th></th>\n",
       "      <th>transaction_id</th>\n",
       "      <th>visitor_id</th>\n",
       "      <th>date</th>\n",
       "      <th>revenue</th>\n",
       "      <th>group</th>\n",
       "    </tr>\n",
       "  </thead>\n",
       "  <tbody>\n",
       "    <tr>\n",
       "      <th>425</th>\n",
       "      <td>590470918</td>\n",
       "      <td>1920142716</td>\n",
       "      <td>2019-08-19</td>\n",
       "      <td>1294500</td>\n",
       "      <td>B</td>\n",
       "    </tr>\n",
       "    <tr>\n",
       "      <th>1196</th>\n",
       "      <td>3936777065</td>\n",
       "      <td>2108080724</td>\n",
       "      <td>2019-08-15</td>\n",
       "      <td>202740</td>\n",
       "      <td>B</td>\n",
       "    </tr>\n",
       "    <tr>\n",
       "      <th>1136</th>\n",
       "      <td>666610489</td>\n",
       "      <td>1307669133</td>\n",
       "      <td>2019-08-13</td>\n",
       "      <td>92550</td>\n",
       "      <td>A</td>\n",
       "    </tr>\n",
       "    <tr>\n",
       "      <th>744</th>\n",
       "      <td>3668308183</td>\n",
       "      <td>888512513</td>\n",
       "      <td>2019-08-27</td>\n",
       "      <td>86620</td>\n",
       "      <td>B</td>\n",
       "    </tr>\n",
       "    <tr>\n",
       "      <th>743</th>\n",
       "      <td>3603576309</td>\n",
       "      <td>4133034833</td>\n",
       "      <td>2019-08-09</td>\n",
       "      <td>67990</td>\n",
       "      <td>A</td>\n",
       "    </tr>\n",
       "    <tr>\n",
       "      <th>1103</th>\n",
       "      <td>1348774318</td>\n",
       "      <td>1164614297</td>\n",
       "      <td>2019-08-12</td>\n",
       "      <td>66350</td>\n",
       "      <td>A</td>\n",
       "    </tr>\n",
       "    <tr>\n",
       "      <th>1099</th>\n",
       "      <td>316924019</td>\n",
       "      <td>148427295</td>\n",
       "      <td>2019-08-12</td>\n",
       "      <td>65710</td>\n",
       "      <td>A</td>\n",
       "    </tr>\n",
       "    <tr>\n",
       "      <th>949</th>\n",
       "      <td>1347999392</td>\n",
       "      <td>887908475</td>\n",
       "      <td>2019-08-21</td>\n",
       "      <td>60450</td>\n",
       "      <td>A</td>\n",
       "    </tr>\n",
       "    <tr>\n",
       "      <th>940</th>\n",
       "      <td>2420050534</td>\n",
       "      <td>4003628586</td>\n",
       "      <td>2019-08-08</td>\n",
       "      <td>58550</td>\n",
       "      <td>B</td>\n",
       "    </tr>\n",
       "    <tr>\n",
       "      <th>131</th>\n",
       "      <td>3163614039</td>\n",
       "      <td>2254586615</td>\n",
       "      <td>2019-08-22</td>\n",
       "      <td>53904</td>\n",
       "      <td>A</td>\n",
       "    </tr>\n",
       "  </tbody>\n",
       "</table>\n",
       "</div>"
      ],
      "text/plain": [
       "      transaction_id  visitor_id       date  revenue group\n",
       "425   590470918       1920142716 2019-08-19  1294500  B   \n",
       "1196  3936777065      2108080724 2019-08-15  202740   B   \n",
       "1136  666610489       1307669133 2019-08-13  92550    A   \n",
       "744   3668308183      888512513  2019-08-27  86620    B   \n",
       "743   3603576309      4133034833 2019-08-09  67990    A   \n",
       "1103  1348774318      1164614297 2019-08-12  66350    A   \n",
       "1099  316924019       148427295  2019-08-12  65710    A   \n",
       "949   1347999392      887908475  2019-08-21  60450    A   \n",
       "940   2420050534      4003628586 2019-08-08  58550    B   \n",
       "131   3163614039      2254586615 2019-08-22  53904    A   "
      ]
     },
     "metadata": {},
     "output_type": "display_data"
    }
   ],
   "source": [
    "display(orders.sort_values(by='revenue', ascending=False).head(10))"
   ]
  },
  {
   "cell_type": "code",
   "execution_count": 37,
   "id": "97156b2a",
   "metadata": {},
   "outputs": [
    {
     "data": {
      "image/png": "[encoded data removed]",
      "text/plain": [
       "<Figure size 1008x864 with 2 Axes>"
      ]
     },
     "metadata": {
      "needs_background": "light"
     },
     "output_type": "display_data"
    }
   ],
   "source": [
    "# строим гистограмму распределения стоимости заказов \n",
    "plt.figure(figsize=(14, 12))\n",
    "plt.subplot(2, 1, 1)\n",
    "plt.hist(orders['revenue'])\n",
    "plt.title('Распределение стоимости заказов', fontsize=14)\n",
    "plt.xlabel('Стоимость заказа', fontsize=12) \n",
    "plt.ylabel('Частота', fontsize=12) \n",
    "plt.grid()\n",
    "\n",
    "# серия из чисел от 0 до количества наблюдений в orders\n",
    "x_values = pd.Series(range(0, len(orders)))\n",
    "plt.subplot(2, 1, 2)\n",
    "plt.scatter(x_values, orders['revenue']) \n",
    "plt.title('Точечную диаграмма стоимости заказов', fontsize=14)\n",
    "plt.xlabel('Частота', fontsize=12) \n",
    "plt.ylabel('Стоимость заказов', fontsize=12) \n",
    "plt.grid()\n",
    "plt.show()"
   ]
  },
  {
   "cell_type": "markdown",
   "id": "8c0bca3e",
   "metadata": {},
   "source": [
    "Сильно дорогие заказы не дают возможности лучше рассмотреть распредление выручки. Посмотрим на распределение выручки без аномалий."
   ]
  },
  {
   "cell_type": "code",
   "execution_count": 38,
   "id": "a291e9c1",
   "metadata": {},
   "outputs": [
    {
     "data": {
      "image/png": "[encoded data removed]",
      "text/plain": [
       "<Figure size 1008x864 with 2 Axes>"
      ]
     },
     "metadata": {
      "needs_background": "light"
     },
     "output_type": "display_data"
    }
   ],
   "source": [
    "# строим гистограмму распределения стоимости заказов \n",
    "plt.figure(figsize=(14, 12))\n",
    "plt.subplot(2, 1, 1)\n",
    "plt.hist(orders[orders['revenue'] < 100000]['revenue'])\n",
    "plt.title('Распределение стоимости заказов без аномалий', fontsize=14)\n",
    "plt.xlabel('Стоимость заказа', fontsize=12) \n",
    "plt.ylabel('Частота', fontsize=12) \n",
    "plt.grid()\n",
    "\n",
    "# серия из чисел от 0 до количества наблюдений в orders\n",
    "x_values = pd.Series(range(0, len(orders[orders['revenue'] < 100000])))\n",
    "plt.subplot(2, 1, 2)\n",
    "plt.scatter(x_values, orders[orders['revenue'] < 100000]['revenue']) \n",
    "plt.title('Точечную диаграмма стоимости заказов без аномалий', fontsize=14)\n",
    "plt.xlabel('Частота', fontsize=12) \n",
    "plt.ylabel('Стоимость заказов', fontsize=12) \n",
    "plt.grid()\n",
    "plt.show()"
   ]
  },
  {
   "cell_type": "markdown",
   "id": "36721b64",
   "metadata": {},
   "source": [
    "**Вывод**\n",
    "\n",
    "Графики показали, что в данных есть дорогие заказы. Для определения границы аномальных заказов (это могут быть как очень дорогие, так и чрезмерно дешевые заказы) посмотрим на 1% и 5% наблюдений с крайними значениями, для этого используем 1, 5, 95 или 99 перцентиль. "
   ]
  },
  {
   "cell_type": "markdown",
   "id": "984397c3",
   "metadata": {},
   "source": [
    "4. Расчет 1, 5, 95 и 99 перцентиля стоимости заказов."
   ]
  },
  {
   "cell_type": "code",
   "execution_count": 39,
   "id": "eeb7ebe9",
   "metadata": {},
   "outputs": [
    {
     "data": {
      "text/plain": [
       "array([  100.,   300., 26785., 53904.])"
      ]
     },
     "execution_count": 39,
     "metadata": {},
     "output_type": "execute_result"
    }
   ],
   "source": [
    "np.percentile(orders['revenue'], [1, 5, 95, 99])"
   ]
  },
  {
   "cell_type": "code",
   "execution_count": 40,
   "id": "e0a15b42",
   "metadata": {},
   "outputs": [
    {
     "name": "stdout",
     "output_type": "stream",
     "text": [
      "Количество заказов дешевле 100 руб.: 9\n",
      "Количество заказов дороже 54 000 руб.: 9\n"
     ]
    }
   ],
   "source": [
    "print(\"Количество заказов дешевле 100 руб.:\", orders[orders['revenue'] < 100]['revenue'].count())\n",
    "print(\"Количество заказов дороже 54 000 руб.:\", orders[orders['revenue'] > 54000]['revenue'].count())"
   ]
  },
  {
   "cell_type": "markdown",
   "id": "52f6737e",
   "metadata": {},
   "source": [
    "**Вывод**\n",
    "\n",
    "Удаленные ранее дублирующиеся пользователи значительно повлияли на количество заказов на пользователя, но практически не повлияли на графики стоимости и перцентили заказов. Таким образом мы выяснили, что не более 1% всех пользователей делает заказ дешевле 100 и дороже 53 904 рублей. Не более 5% пользователей делает заказ дешевле 300 и дороже 26 785 рублей. За границу аномалии возьмем все заказы ниже 1 и выше 99 перцентиля."
   ]
  },
  {
   "cell_type": "markdown",
   "id": "657fafaf",
   "metadata": {},
   "source": [
    "### Анализ А/В - теста\n",
    "\n",
    "Выявленные аномалии дают основание для расчета статистической значимости различий метрик по 'сырым' и 'очищенным' данным. Это поможет принять более взвешенное решение о результатах теста."
   ]
  },
  {
   "cell_type": "markdown",
   "id": "49a04aec",
   "metadata": {},
   "source": [
    "**1. Расчет статистической значимости различий в количестве заказов на пользователя между группами в \"сырых\" данных**\n",
    "\n",
    "Сначала соберем все необходимые для расчета данные в единой таблице `data` со следующими столбцами:\n",
    "* `date` — дата;\n",
    "* `orders_a_per_date` — количество заказов в выбранную дату в группе A;\n",
    "* `revenue_a_per_date` — суммарная выручка в выбранную дату в группе A;\n",
    "* `orders_b_per_date` — количество заказов в выбранную дату в группе B;\n",
    "* `revenue_b_per_date` — суммарная выручка в выбранную дату в группе B;\n",
    "* `orders_a_cummulative` — суммарное число заказов до выбранной даты включительно в группе A;\n",
    "* `revenue_a_cummulative` — суммарная выручка до выбранной даты включительно в группе A;\n",
    "* `orders_b_cummulative` — суммарное количество заказов до выбранной даты включительно в группе B;\n",
    "* `revenue_b_cummulative` — суммарная выручка до выбранной даты включительно в группе B;\n",
    "* `visitors_a_per_date` — количество пользователей в выбранную дату в группе A;\n",
    "* `visitors_b_per_date` — количество пользователей в выбранную дату в группе B;\n",
    "* `visitors_a_cummulative` — количество пользователей до выбранной даты включительно в группе A;\n",
    "* `visitors_b_cummulative` — количество пользователей до выбранной даты включительно в группе B."
   ]
  },
  {
   "cell_type": "code",
   "execution_count": 41,
   "id": "23db4e97",
   "metadata": {},
   "outputs": [
    {
     "data": {
      "text/html": [
       "<div>\n",
       "<style scoped>\n",
       "    .dataframe tbody tr th:only-of-type {\n",
       "        vertical-align: middle;\n",
       "    }\n",
       "\n",
       "    .dataframe tbody tr th {\n",
       "        vertical-align: top;\n",
       "    }\n",
       "\n",
       "    .dataframe thead th {\n",
       "        text-align: right;\n",
       "    }\n",
       "</style>\n",
       "<table border=\"1\" class=\"dataframe\">\n",
       "  <thead>\n",
       "    <tr style=\"text-align: right;\">\n",
       "      <th></th>\n",
       "      <th>date</th>\n",
       "      <th>orders_a_per_date</th>\n",
       "      <th>revenue_a_per_date</th>\n",
       "      <th>orders_b_per_date</th>\n",
       "      <th>revenue_b_per_date</th>\n",
       "      <th>orders_a_cummulative</th>\n",
       "      <th>revenue_a_cummulative</th>\n",
       "      <th>orders_b_cummulative</th>\n",
       "      <th>revenue_b_cummulative</th>\n",
       "      <th>visitors_a_per_date</th>\n",
       "      <th>visitors_b_per_date</th>\n",
       "      <th>visitors_a_cummulative</th>\n",
       "      <th>visitors_b_cummulative</th>\n",
       "    </tr>\n",
       "  </thead>\n",
       "  <tbody>\n",
       "    <tr>\n",
       "      <th>0</th>\n",
       "      <td>2019-08-01</td>\n",
       "      <td>23</td>\n",
       "      <td>142779</td>\n",
       "      <td>17</td>\n",
       "      <td>59758</td>\n",
       "      <td>23</td>\n",
       "      <td>142779</td>\n",
       "      <td>17</td>\n",
       "      <td>59758</td>\n",
       "      <td>719</td>\n",
       "      <td>713</td>\n",
       "      <td>719</td>\n",
       "      <td>713</td>\n",
       "    </tr>\n",
       "    <tr>\n",
       "      <th>1</th>\n",
       "      <td>2019-08-02</td>\n",
       "      <td>19</td>\n",
       "      <td>91602</td>\n",
       "      <td>23</td>\n",
       "      <td>162043</td>\n",
       "      <td>42</td>\n",
       "      <td>234381</td>\n",
       "      <td>40</td>\n",
       "      <td>221801</td>\n",
       "      <td>619</td>\n",
       "      <td>581</td>\n",
       "      <td>1338</td>\n",
       "      <td>1294</td>\n",
       "    </tr>\n",
       "    <tr>\n",
       "      <th>2</th>\n",
       "      <td>2019-08-03</td>\n",
       "      <td>24</td>\n",
       "      <td>112473</td>\n",
       "      <td>14</td>\n",
       "      <td>67049</td>\n",
       "      <td>66</td>\n",
       "      <td>346854</td>\n",
       "      <td>54</td>\n",
       "      <td>288850</td>\n",
       "      <td>507</td>\n",
       "      <td>509</td>\n",
       "      <td>1845</td>\n",
       "      <td>1803</td>\n",
       "    </tr>\n",
       "    <tr>\n",
       "      <th>3</th>\n",
       "      <td>2019-08-04</td>\n",
       "      <td>11</td>\n",
       "      <td>41176</td>\n",
       "      <td>14</td>\n",
       "      <td>96890</td>\n",
       "      <td>77</td>\n",
       "      <td>388030</td>\n",
       "      <td>68</td>\n",
       "      <td>385740</td>\n",
       "      <td>717</td>\n",
       "      <td>770</td>\n",
       "      <td>2562</td>\n",
       "      <td>2573</td>\n",
       "    </tr>\n",
       "    <tr>\n",
       "      <th>4</th>\n",
       "      <td>2019-08-05</td>\n",
       "      <td>22</td>\n",
       "      <td>86383</td>\n",
       "      <td>21</td>\n",
       "      <td>89908</td>\n",
       "      <td>99</td>\n",
       "      <td>474413</td>\n",
       "      <td>89</td>\n",
       "      <td>475648</td>\n",
       "      <td>756</td>\n",
       "      <td>707</td>\n",
       "      <td>3318</td>\n",
       "      <td>3280</td>\n",
       "    </tr>\n",
       "  </tbody>\n",
       "</table>\n",
       "</div>"
      ],
      "text/plain": [
       "        date  orders_a_per_date  revenue_a_per_date  orders_b_per_date  \\\n",
       "0 2019-08-01  23                 142779              17                  \n",
       "1 2019-08-02  19                 91602               23                  \n",
       "2 2019-08-03  24                 112473              14                  \n",
       "3 2019-08-04  11                 41176               14                  \n",
       "4 2019-08-05  22                 86383               21                  \n",
       "\n",
       "   revenue_b_per_date  orders_a_cummulative  revenue_a_cummulative  \\\n",
       "0  59758               23                    142779                  \n",
       "1  162043              42                    234381                  \n",
       "2  67049               66                    346854                  \n",
       "3  96890               77                    388030                  \n",
       "4  89908               99                    474413                  \n",
       "\n",
       "   orders_b_cummulative  revenue_b_cummulative  visitors_a_per_date  \\\n",
       "0  17                    59758                  719                   \n",
       "1  40                    221801                 619                   \n",
       "2  54                    288850                 507                   \n",
       "3  68                    385740                 717                   \n",
       "4  89                    475648                 756                   \n",
       "\n",
       "   visitors_b_per_date  visitors_a_cummulative  visitors_b_cummulative  \n",
       "0  713                  719                     713                     \n",
       "1  581                  1338                    1294                    \n",
       "2  509                  1845                    1803                    \n",
       "3  770                  2562                    2573                    \n",
       "4  707                  3318                    3280                    "
      ]
     },
     "execution_count": 41,
     "metadata": {},
     "output_type": "execute_result"
    }
   ],
   "source": [
    "# найдем ежедневное количество посетителей в каждой группе\n",
    "daily_visitors_a = visitors[visitors['group'] == 'A'][['date', 'visitors']]\n",
    "daily_visitors_a.columns = ['date', 'visitors_a_per_date']\n",
    "\n",
    "daily_visitors_b = visitors[visitors['group'] == 'B'][['date', 'visitors']]\n",
    "daily_visitors_b.columns = ['date', 'visitors_b_per_date']\n",
    "\n",
    "# найдем кумулятивное количество пользователей в каждой группе\n",
    "visitors_a_cummulative = (\n",
    "    daily_visitors_a\n",
    "    .apply(lambda x: daily_visitors_a[daily_visitors_a['date'] <= x['date']]\n",
    "           .agg({'date': 'max', 'visitors_a_per_date': 'sum'}),axis=1)\n",
    ")\n",
    "visitors_a_cummulative.columns = ['date', 'visitors_a_cummulative']\n",
    "\n",
    "visitors_b_cummulative = (\n",
    "    daily_visitors_b\n",
    "    .apply(lambda x: daily_visitors_b[daily_visitors_b['date'] <= x['date']]\n",
    "           .agg({'date': 'max', 'visitors_b_per_date': 'sum'}),axis=1)\n",
    ")\n",
    "visitors_b_cummulative.columns = ['date', 'visitors_b_cummulative']\n",
    "\n",
    "# найдем ежедневное количество покупателей и выручку в каждой группе\n",
    "daily_orders_a = (\n",
    "    orders[orders['group'] == 'A'][['date', 'transaction_id', 'visitor_id', 'revenue']]\n",
    "    .groupby('date', as_index=False)\n",
    "    .agg({'transaction_id': pd.Series.nunique, 'revenue': 'sum'})\n",
    ")\n",
    "daily_orders_a.columns = ['date', 'orders_a_per_date', 'revenue_a_per_date']\n",
    "\n",
    "daily_orders_b = (\n",
    "    orders[orders['group'] == 'B'][['date', 'transaction_id', 'visitor_id', 'revenue']]\n",
    "    .groupby('date', as_index=False)\n",
    "    .agg({'transaction_id': pd.Series.nunique, 'revenue': 'sum'})\n",
    ")\n",
    "daily_orders_b.columns = ['date', 'orders_b_per_date', 'revenue_b_per_date']\n",
    "\n",
    "# найдем кумулятивное количество покупателей и кумулятивную выручку в каждой группе\n",
    "orders_a_cummulative = (\n",
    "    daily_orders_a\n",
    "    .apply(lambda x: daily_orders_a[daily_orders_a['date'] <= x['date']]\n",
    "           .agg({'date': 'max', 'orders_a_per_date': 'sum', 'revenue_a_per_date': 'sum'}),axis=1)\n",
    "    .sort_values(by=['date'])\n",
    ")\n",
    "orders_a_cummulative.columns = ['date', 'orders_a_cummulative', 'revenue_a_cummulative']\n",
    "\n",
    "orders_b_cummulative = (\n",
    "    daily_orders_b\n",
    "    .apply(lambda x: daily_orders_b[daily_orders_b['date'] <= x['date']]\n",
    "           .agg({'date': 'max', 'orders_b_per_date': 'sum', 'revenue_b_per_date': 'sum'}),axis=1)\n",
    "    .sort_values(by=['date'])\n",
    ")\n",
    "orders_b_cummulative.columns = ['date', 'orders_b_cummulative', 'revenue_b_cummulative']\n",
    "\n",
    "# соберем все данные в единую таблицу\n",
    "data = (\n",
    "    daily_orders_a.merge(\n",
    "        daily_orders_b, left_on='date', right_on='date', how='left'\n",
    "    )\n",
    "    .merge(orders_a_cummulative, left_on='date', right_on='date', how='left')\n",
    "    .merge(orders_b_cummulative, left_on='date', right_on='date', how='left')\n",
    "    .merge(daily_visitors_a, left_on='date', right_on='date', how='left')\n",
    "    .merge(daily_visitors_b, left_on='date', right_on='date', how='left')\n",
    "    .merge(visitors_a_cummulative, left_on='date', right_on='date', how='left')\n",
    "    .merge(visitors_b_cummulative, left_on='date', right_on='date', how='left')\n",
    ")\n",
    "\n",
    "data.head()"
   ]
  },
  {
   "cell_type": "markdown",
   "id": "92cfda38",
   "metadata": {},
   "source": [
    "Создадим переменные `orders_by_users_a` и `orders_by_users_b` с идентификатором пользователя и количеством совершенных этими пользователями заказов."
   ]
  },
  {
   "cell_type": "code",
   "execution_count": 42,
   "id": "4b4c83d7",
   "metadata": {},
   "outputs": [],
   "source": [
    "# создаем пары: идентификатор пользователя - количество покупок в каждой группе\n",
    "orders_by_users_a = (\n",
    "    orders[orders['group'] == \"A\"]\n",
    "    .groupby('visitor_id', as_index=False)\n",
    "    .agg({'transaction_id': 'nunique'})\n",
    ")\n",
    "orders_by_users_a.columns = ['visitor_id', 'count_of_orders']\n",
    "\n",
    "orders_by_users_b = (\n",
    "    orders[orders['group'] == \"B\"]\n",
    "    .groupby('visitor_id', as_index=False)\n",
    "    .agg({'transaction_id': 'nunique'})\n",
    ")\n",
    "orders_by_users_b.columns = ['visitor_id', 'count_of_orders']"
   ]
  },
  {
   "cell_type": "markdown",
   "id": "40f7b485",
   "metadata": {},
   "source": [
    "Объявим переменные `sample_a` и `sample_b`, в которых пользователям из разных групп будет соответствовать количество заказов. Тем, кто ничего не заказал, будут соответствовать нули. Это нужно, чтобы корректно подготовить выборки к проверке критерием Манна-Уитни.\n",
    "\n",
    "Переменная `sample_a` должна состоять из двух частей:\n",
    "\n",
    "* Список с количеством заказов для каждого из пользователей: `orders_by_users_a['count_of_orders']`.\n",
    "* Нули для пользователей, которые ничего не заказывали. Их количество равно разнице между суммой посетителей и количеством записей о заказах: `data['visitors_a_per_date'].sum() - len(orders_by_users_a['count_of_orders'])`. "
   ]
  },
  {
   "cell_type": "code",
   "execution_count": 43,
   "id": "c38ab9dd",
   "metadata": {},
   "outputs": [],
   "source": [
    "# соберем список всех заказов, начиная с нуля по всем пользователям по группам\n",
    "sample_a = pd.concat(\n",
    "    [\n",
    "        orders_by_users_a['count_of_orders'],\n",
    "        pd.Series(\n",
    "            0, \n",
    "            index=np.arange(data['visitors_a_per_date'].sum() - len(orders_by_users_a['count_of_orders'])), \n",
    "            name='count_of_orders'\n",
    "                 )\n",
    "    ]\n",
    "    ,axis=0\n",
    ")\n",
    "\n",
    "sample_b = pd.concat(\n",
    "    [\n",
    "        orders_by_users_b['count_of_orders'],\n",
    "        pd.Series(\n",
    "            0, \n",
    "            index=np.arange(data['visitors_b_per_date'].sum() - len(orders_by_users_b['count_of_orders'])), \n",
    "            name='count_of_orders'\n",
    "                 )  \n",
    "    ]\n",
    "    ,axis=0\n",
    ")"
   ]
  },
  {
   "cell_type": "markdown",
   "id": "e846755d",
   "metadata": {},
   "source": [
    "**Сформулируем гипотезы:**\n",
    "\n",
    "* Нулевая: различий в количестве заказов на пользователя между группами нет. \n",
    "* Альтернативная: различия в количестве заказов на пользователя между группами есть.\n",
    "\n",
    "Применим критерий Манна-Уитни поскольку в данных есть выбросы."
   ]
  },
  {
   "cell_type": "code",
   "execution_count": 44,
   "id": "3c65078e",
   "metadata": {},
   "outputs": [
    {
     "name": "stdout",
     "output_type": "stream",
     "text": [
      "p_value = 0.011\n",
      "Относительный прирост среднего числа заказов группы B к группе А: 0.160\n",
      "Отвергаем нулевую гипотезу: по «сырым» данным есть значимое различие в среднем числе заказов групп A и B\n"
     ]
    }
   ],
   "source": [
    "# получим p_value, применив критерий Манна-Уитни\n",
    "p_value = st.mannwhitneyu(sample_a, sample_b)[1]\n",
    "\n",
    "print('p_value =', \"{0:.3f}\".format(p_value))\n",
    "\n",
    "# получим относительный прирост среднего числа заказов группы B к группе А\n",
    "print(\"Относительный прирост среднего числа заказов группы B к группе А:\", \n",
    "      \"{0:.3f}\".format(sample_b.mean() / sample_a.mean() - 1)\n",
    "     )\n",
    "\n",
    "alpha = 0.05\n",
    "\n",
    "if p_value < alpha:\n",
    "    print('Отвергаем нулевую гипотезу: по «сырым» данным есть значимое различие в среднем числе заказов групп A и B')\n",
    "else:\n",
    "    print('По «сырым» данным различий в среднем числе заказов групп A и B нет.')"
   ]
  },
  {
   "cell_type": "markdown",
   "id": "e998454e",
   "metadata": {},
   "source": [
    "**Вывод**\n",
    "\n",
    "По \"сырым\" данным есть значимое различие в количестве заказов между группами. И относительный прирост cреднего числа заказов группы B к группе А составляет 16%."
   ]
  },
  {
   "cell_type": "markdown",
   "id": "55e6db1c",
   "metadata": {},
   "source": [
    "**2. Расчет статистической значимости различий в среднем чеке между группами в \"сырых\" данных** \n",
    "\n",
    "**Сформулируем гипотезы:**\n",
    "\n",
    "* Нулевая гипотеза: различий в среднем чеке между группами нет. \n",
    "* Альтернативная гипотеза: различия в среднем чеке между группами есть."
   ]
  },
  {
   "cell_type": "code",
   "execution_count": 45,
   "id": "878361dd",
   "metadata": {},
   "outputs": [
    {
     "name": "stdout",
     "output_type": "stream",
     "text": [
      "p_value = 0.829\n",
      "Относительный прирост среднего чека группы B к группе А: 0.287\n",
      "По «сырым» данным различий в среднем чеке групп A и B нет.\n"
     ]
    }
   ],
   "source": [
    "# получим p_value в среднем чеке между группами\n",
    "p_value = st.mannwhitneyu(orders[orders['group']=='A']['revenue'],\n",
    "                          orders[orders['group']=='B']['revenue'])[1]\n",
    "\n",
    "print(\"p_value =\", '{0:.3f}'.format(p_value))\n",
    "\n",
    "print(\n",
    "    'Относительный прирост среднего чека группы B к группе А:', \n",
    "    '{0:.3f}'.format(\n",
    "        orders[orders['group']=='B']['revenue'].mean()\n",
    "        /\n",
    "        orders[orders['group']=='A']['revenue'].mean()\n",
    "        -1\n",
    "    )\n",
    ") \n",
    "\n",
    "alpha = 0.05\n",
    "if p_value < alpha:\n",
    "    print('Отвергаем нулевую гипотезу: по «сырым» данным есть значимое различие в среднем чеке групп A и B')\n",
    "else:\n",
    "    print('По «сырым» данным различий в среднем чеке групп A и B нет.')"
   ]
  },
  {
   "cell_type": "code",
   "execution_count": 46,
   "id": "fb7af513",
   "metadata": {},
   "outputs": [
    {
     "name": "stdout",
     "output_type": "stream",
     "text": [
      "Самые дорогие заказы в группе А:\n"
     ]
    },
    {
     "data": {
      "text/html": [
       "<div>\n",
       "<style scoped>\n",
       "    .dataframe tbody tr th:only-of-type {\n",
       "        vertical-align: middle;\n",
       "    }\n",
       "\n",
       "    .dataframe tbody tr th {\n",
       "        vertical-align: top;\n",
       "    }\n",
       "\n",
       "    .dataframe thead th {\n",
       "        text-align: right;\n",
       "    }\n",
       "</style>\n",
       "<table border=\"1\" class=\"dataframe\">\n",
       "  <thead>\n",
       "    <tr style=\"text-align: right;\">\n",
       "      <th></th>\n",
       "      <th>transaction_id</th>\n",
       "      <th>visitor_id</th>\n",
       "      <th>date</th>\n",
       "      <th>revenue</th>\n",
       "      <th>group</th>\n",
       "    </tr>\n",
       "  </thead>\n",
       "  <tbody>\n",
       "    <tr>\n",
       "      <th>1136</th>\n",
       "      <td>666610489</td>\n",
       "      <td>1307669133</td>\n",
       "      <td>2019-08-13</td>\n",
       "      <td>92550</td>\n",
       "      <td>A</td>\n",
       "    </tr>\n",
       "  </tbody>\n",
       "</table>\n",
       "</div>"
      ],
      "text/plain": [
       "      transaction_id  visitor_id       date  revenue group\n",
       "1136  666610489       1307669133 2019-08-13  92550    A   "
      ]
     },
     "metadata": {},
     "output_type": "display_data"
    },
    {
     "name": "stdout",
     "output_type": "stream",
     "text": [
      "Самые дорогие заказы в группе B:\n"
     ]
    },
    {
     "data": {
      "text/html": [
       "<div>\n",
       "<style scoped>\n",
       "    .dataframe tbody tr th:only-of-type {\n",
       "        vertical-align: middle;\n",
       "    }\n",
       "\n",
       "    .dataframe tbody tr th {\n",
       "        vertical-align: top;\n",
       "    }\n",
       "\n",
       "    .dataframe thead th {\n",
       "        text-align: right;\n",
       "    }\n",
       "</style>\n",
       "<table border=\"1\" class=\"dataframe\">\n",
       "  <thead>\n",
       "    <tr style=\"text-align: right;\">\n",
       "      <th></th>\n",
       "      <th>transaction_id</th>\n",
       "      <th>visitor_id</th>\n",
       "      <th>date</th>\n",
       "      <th>revenue</th>\n",
       "      <th>group</th>\n",
       "    </tr>\n",
       "  </thead>\n",
       "  <tbody>\n",
       "    <tr>\n",
       "      <th>425</th>\n",
       "      <td>590470918</td>\n",
       "      <td>1920142716</td>\n",
       "      <td>2019-08-19</td>\n",
       "      <td>1294500</td>\n",
       "      <td>B</td>\n",
       "    </tr>\n",
       "    <tr>\n",
       "      <th>1196</th>\n",
       "      <td>3936777065</td>\n",
       "      <td>2108080724</td>\n",
       "      <td>2019-08-15</td>\n",
       "      <td>202740</td>\n",
       "      <td>B</td>\n",
       "    </tr>\n",
       "  </tbody>\n",
       "</table>\n",
       "</div>"
      ],
      "text/plain": [
       "      transaction_id  visitor_id       date  revenue group\n",
       "425   590470918       1920142716 2019-08-19  1294500  B   \n",
       "1196  3936777065      2108080724 2019-08-15  202740   B   "
      ]
     },
     "metadata": {},
     "output_type": "display_data"
    }
   ],
   "source": [
    "print(\"Самые дорогие заказы в группе А:\")\n",
    "display(orders[(orders['group']=='A') & (orders['revenue'] > 90000)])\n",
    "print(\"Самые дорогие заказы в группе B:\")\n",
    "display(orders[(orders['group']=='B') & (orders['revenue'] > 90000)])"
   ]
  },
  {
   "cell_type": "markdown",
   "id": "284c549a",
   "metadata": {},
   "source": [
    "**Вывод** \n",
    "\n",
    "По «сырым» данным статистически значимых различий в среднем чеке групп A и B нет. Впрочем, относительный прирост среднего чека группы B значительно выше группы A - на 28.7%. Вот тут-то и проявили себя 2 аномально больших заказа в группе В, давших такой высокий уровень  относительного прироста. Посмотрим, как аномалии повлияли на результаты теста. Для этого посчитаем статистическую значимость различий в среднем количестве заказов и среднем чеке между группами теста по очищенным данным."
   ]
  },
  {
   "cell_type": "markdown",
   "id": "97cf3e9a",
   "metadata": {},
   "source": [
    "**3. Расчет статистической значимости в количестве заказов на пользователя между группами по \"очищенным\" данным**"
   ]
  },
  {
   "cell_type": "markdown",
   "id": "e33a447b",
   "metadata": {},
   "source": [
    "Исходя из анализа возьмем за аномальных клиентов тех, кто совершил:\n",
    "\n",
    "    * более 2 заказов,\n",
    "    * заказы дешевле 100 рублей, \n",
    "    * заказы дороже 53904 рублей.\n",
    "    \n",
    "Для начала узнаем, сколько всего аномальных пользователей:"
   ]
  },
  {
   "cell_type": "code",
   "execution_count": 47,
   "id": "9793bef9",
   "metadata": {},
   "outputs": [
    {
     "name": "stdout",
     "output_type": "stream",
     "text": [
      "Аномальные пользователи\n"
     ]
    },
    {
     "data": {
      "text/plain": [
       "1099    148427295\n",
       "55      249864742\n",
       "138     611059232\n",
       "949     887908475\n",
       "744     888512513\n",
       "Name: visitor_id, dtype: int64"
      ]
     },
     "metadata": {},
     "output_type": "display_data"
    },
    {
     "name": "stdout",
     "output_type": "stream",
     "text": [
      "Итого аномальных пользователей: 25\n"
     ]
    }
   ],
   "source": [
    "users_with_abnormal_orders = (\n",
    "    orders_by_users[\n",
    "        orders_by_users['orders'] > int(np.percentile(orders_by_users['orders'], [99]))\n",
    "    ]['visitor_id']\n",
    ")\n",
    "\n",
    "users_with_abnormal_revenue = (\n",
    "    orders[\n",
    "        np.logical_or(\n",
    "            orders['revenue'] > int(np.percentile(orders['revenue'], [99])), \n",
    "            orders['revenue'] < int(np.percentile(orders['revenue'], [1]))\n",
    "        )]['visitor_id']\n",
    ")\n",
    "\n",
    "abnormal_users = (\n",
    "    pd.concat(\n",
    "        [\n",
    "            users_with_abnormal_orders, \n",
    "            users_with_abnormal_revenue\n",
    "        ], \n",
    "        axis=0)\n",
    "    .drop_duplicates()\n",
    "    .sort_values()\n",
    ")\n",
    "print(\"Аномальные пользователи\")\n",
    "display(abnormal_users.head())     \n",
    "print('Итого аномальных пользователей:', abnormal_users.shape[0])"
   ]
  },
  {
   "cell_type": "markdown",
   "id": "e1755b3e",
   "metadata": {},
   "source": [
    "Всего 25 аномальных пользователей. Посмотрим, как их действия повлияли на результаты теста. Посчитаем статистическую значимость различий в среднем количестве заказов на пользователя между группами теста по очищенным данным. "
   ]
  },
  {
   "cell_type": "code",
   "execution_count": 48,
   "id": "360dd491",
   "metadata": {},
   "outputs": [],
   "source": [
    "sample_a_filtered = pd.concat(\n",
    "    [\n",
    "        orders_by_users_a[np.logical_not(orders_by_users_a['visitor_id'].isin(abnormal_users))]['count_of_orders'],\n",
    "        pd.Series(\n",
    "            0, \n",
    "            index=np.arange(data['visitors_a_per_date'].sum() - len(orders_by_users_a['count_of_orders'])), \n",
    "            name='count_of_orders'\n",
    "                 )\n",
    "    ]\n",
    "    ,axis=0\n",
    ")\n",
    "\n",
    "sample_b_filtered = pd.concat(\n",
    "    [\n",
    "        orders_by_users_b[np.logical_not(orders_by_users_b['visitor_id'].isin(abnormal_users))]['count_of_orders'],\n",
    "        pd.Series(\n",
    "            0, \n",
    "            index=np.arange(data['visitors_b_per_date'].sum() - len(orders_by_users_b['count_of_orders'])), \n",
    "            name='count_of_orders'\n",
    "                 )  \n",
    "    ]\n",
    "    ,axis=0\n",
    ")"
   ]
  },
  {
   "cell_type": "markdown",
   "id": "ae94e4eb",
   "metadata": {},
   "source": [
    "Применим статистический критерий Манна-Уитни к полученным выборкам:\n",
    "\n",
    "**Сформулируем гипотезы:**\n",
    "\n",
    "* Нулевая: различий в количестве заказов на пользователя между группами нет. \n",
    "* Альтернативная: различия в количестве заказов на пользователя между группами есть."
   ]
  },
  {
   "cell_type": "code",
   "execution_count": 49,
   "id": "5d67182a",
   "metadata": {},
   "outputs": [
    {
     "name": "stdout",
     "output_type": "stream",
     "text": [
      "p_value =  0.009\n",
      "Относительный прирост среднего числа заказов группы B к группе А: 0.184\n",
      "Отвергаем нулевую гипотезу: по «очищенным» данным есть значимое различие в среднем числе заказов на пользователя в группе А и В\n"
     ]
    }
   ],
   "source": [
    "# получим p_value по \"очищенным\" данным, применив критерий Манна-Уитни\n",
    "p_value = st.mannwhitneyu(sample_a_filtered, sample_b_filtered)[1]\n",
    "\n",
    "print(\"p_value = \", p_value.round(3))\n",
    "\n",
    "# получим относительный прирост среднего числа заказов группы B к группе А по очищенным данных\n",
    "print(\"Относительный прирост среднего числа заказов группы B к группе А:\", \n",
    "      '{0:.3f}'.format(sample_b_filtered.mean()/sample_a_filtered.mean()-1)\n",
    "     )\n",
    "\n",
    "alpha = 0.05\n",
    "\n",
    "if p_value < alpha:\n",
    "    print(\n",
    "        'Отвергаем нулевую гипотезу: по «очищенным» данным есть значимое различие в среднем числе заказов на пользователя в группе А и В'\n",
    "    )\n",
    "else:\n",
    "    print('По «очищенным» данным различий в среднем числе заказов на пользователя в группе A и B нет.')"
   ]
  },
  {
   "cell_type": "markdown",
   "id": "cb569b75",
   "metadata": {},
   "source": [
    "**Вывод**\n",
    "\n",
    "Как и в случае с \"сырыми\" данными достигнута статистическая значимость различий. Результаты по относительному приросту среднего количества заказов практически не изменились: вместо 16% теперь составляет 18.4%. В данной метрике группа В значительно лучше группы А. Посмотрим произошло ли что-нибудь с результатами по среднему чеку?"
   ]
  },
  {
   "cell_type": "markdown",
   "id": "b996e23c",
   "metadata": {},
   "source": [
    "**4. Расчет статистической значимости в среднем чеке между группами по \"очищенным\" данным**\n",
    "\n",
    "**Сформулируем гипотезы:**\n",
    "\n",
    "* Нулевая гипотеза: по \"очищенным\" данным различий в среднем чеке между группами нет. \n",
    "* Альтернативная гипотеза: по \"очищенным\" данным различия в среднем чеке между группами есть."
   ]
  },
  {
   "cell_type": "code",
   "execution_count": 50,
   "id": "02c8a13a",
   "metadata": {},
   "outputs": [
    {
     "name": "stdout",
     "output_type": "stream",
     "text": [
      "p_value = 0.881\n",
      "Относительный прирост среднего чека группы B к группе А: -0.028\n",
      "По «очищенным» данным различий в среднем чеке групп A и B нет.\n"
     ]
    }
   ],
   "source": [
    "# получим p_value в среднем чеке между группами по \"очищенным\" данным\n",
    "p_value = st.mannwhitneyu(\n",
    "    orders[\n",
    "        np.logical_and(\n",
    "            orders['group'] == 'A',\n",
    "            np.logical_not(orders['visitor_id'].isin(abnormal_users))\n",
    "        )\n",
    "    ]['revenue'], \n",
    "    orders[\n",
    "        np.logical_and(\n",
    "            orders['group'] == 'B',\n",
    "            np.logical_not(orders['visitor_id'].isin(abnormal_users))\n",
    "        )\n",
    "    ]['revenue'])[1]\n",
    "\n",
    "\n",
    "print(\"p_value =\", \"{0:.3f}\".format(p_value))\n",
    "\n",
    "print('Относительный прирост среднего чека группы B к группе А:', \n",
    "      \"{0:.3f}\".format(\n",
    "        orders[\n",
    "            np.logical_and(\n",
    "                orders['group'] == 'B',\n",
    "                np.logical_not(orders['visitor_id'].isin(abnormal_users)),\n",
    "            )\n",
    "        ]['revenue'].mean()\n",
    "        / orders[\n",
    "            np.logical_and(\n",
    "                orders['group'] == 'A',\n",
    "                np.logical_not(orders['visitor_id'].isin(abnormal_users)),\n",
    "            )\n",
    "        ]['revenue'].mean()\n",
    "        - 1\n",
    "    )\n",
    ")\n",
    "\n",
    "alpha = 0.05\n",
    "if p_value < alpha:\n",
    "    print('Отвергаем нулевую гипотезу: по «очищенным» данным есть значимое различие в среднем чеке групп A и B')\n",
    "else:\n",
    "    print('По «очищенным» данным различий в среднем чеке групп A и B нет.')"
   ]
  },
  {
   "cell_type": "markdown",
   "id": "a1ee6ebf",
   "metadata": {},
   "source": [
    "**Вывод**\n",
    "\n",
    "Хотя p_value незначительно увеличился, тем не менее аномально дорогие заказы в группе В в значительной степени повлияли на относительный прирост среднего чека, который при \"очищенных\" данных стал проигрышем среднего чека группы В к группе А на 2.8% вместо прироста в 28.7% в \"сырых\" данных."
   ]
  },
  {
   "cell_type": "markdown",
   "id": "bf511889",
   "metadata": {},
   "source": [
    "**Выводы по результатам А/В - теста:**\n",
    "\n",
    "Имеющиеся факты:\n",
    "\n",
    "* Есть статистически значимое различие по среднему количеству заказов на пользователя между группами и по «сырым», и по \"очищенным\" данным в пользу группы В с существенным относительным приростом;\n",
    "\n",
    "* Нет статистически значимого различия по среднему чеку между группами ни по «сырым», ни по данным после фильтрации аномалий;\n",
    "\n",
    "* График различия конверсии между группами сообщает, что результаты группы B стабильно лучше группы A: зафиксировались около среднего значения.\n",
    "\n",
    "1. Если для компании основной метрикой является конверсия, то, исходя из имеющихся фактов, тест следует остановить и признать его успешным с присуждением победы группе В. \n",
    "\n",
    "2. Если основная метрика компании - средний чек, то тест необходимо остановить и признать неуспешным, поскольку нет никаких предпосылок для получения статистически значимого различия этой метрики в группах."
   ]
  },
  {
   "cell_type": "markdown",
   "id": "ca055934",
   "metadata": {},
   "source": [
    "## Вывод"
   ]
  },
  {
   "cell_type": "markdown",
   "id": "4533c16f",
   "metadata": {},
   "source": [
    "\n",
    "\n",
    "В процесе анализа данных были проделаны следующие шаги:\n",
    "\n",
    "1. Проведен обзор и предварительная подготовка дынных к анализу:\n",
    "  - стили заголовков приведены к \"змеиному стилю\",\n",
    "  - отформатированы данные с датами.\n",
    " \n",
    " \n",
    "2. Проведена приоретизация гипотез фреймворком ICE и RICE.\n",
    "\n",
    "3. Визуализированы основные кумулятивные метрики:\n",
    "    * кумулятивная выручка по группам;\n",
    "    * кумулятивный средний чек по группам;\n",
    "    * относительное изменение среднего чека группы В к группе А;\n",
    "    * кумулятивная конверсия по группам;\n",
    "    * относительное изменение кумулятивной конверсии группы В к группе А;\n",
    "    \n",
    "    \n",
    "4. Проведен анализ выбросов и всплесков:\n",
    "    * построены графики количества заказов по пользователям;\n",
    "    * посчитан 95, 99 перцентили количества заказов на пользователя;\n",
    "    * построен точечный график стоимостей заказов;\n",
    "    * посчитан 1, 5, 95, 99 перцентили стоимости заказов;\n",
    "    \n",
    "    \n",
    "5. Проведен анализ А/В - теста, посчитана статистическая значимость различий:\n",
    "    * в среднем количестве заказов на пользователя между группами по «сырым» данным; \n",
    "    * в среднем чеке заказа между группами по «сырым» данным; \n",
    "    * в среднем количестве заказов на пользователя между группами по «очищенным» данным; \n",
    "    * в среднем чеке заказа между группами по «очищенным» данным;\n",
    "   \n",
    "\n",
    "На основании проведенного анализа можно утверждать слудющее:\n",
    "\n",
    "1. Фреймворк ICE вывел в лидеры гипотезу №8: 'Запустить акцию, дающую скидку на товар в день рождения', в то время как фреймворк RICE назначил лидером гипотезу №7: 'Добавить форму подписки на все основные страницы, чтобы собрать базу клиентов для email-рассылок'\n",
    "RICE, учитываюет какое количество пользователей затронет изменение, которое планируется внести, а гипотеза №7 имеет максимальные 10 баллов - полный охват пользователей. \n",
    "\n",
    "2. В результате проверки групп была выявлена проблема подглядывания - 58 уникальных пользователя, которые видели обе версии сайта, что противоречит принципу работы A/B-теста. Проблема была устранена удалением данных пользователей из групп. Установлено, что проведено корректное деление трафика - разница в размере выборок не превышает 1%, что укладывается в рамки нормы. Также доказано, что нет статистически значимой разницы в количестве пользователей в группах.\n",
    "\n",
    "3. В процессе визуализации кумулятивных метрик выявлено, что:\n",
    "    * кумулятивная выручка в обеих группах постоянно увеличивается в течение всего теста. Но с 19 августа в группе В произошел резкий скачок выручки за счет очень дорогих заказов в группе;\n",
    "    * кумулятивный средний чек в обеих группах после 19 августа становится равномерным: установился на одном уровне с небольшим темпом роста для группы A и после бурного роста началось плавное падение для группы B;\n",
    "    * относительный прирост кумулятивного среднего чека группы В к группе А составляет 27.5%;\n",
    "    * кумулятивная конверсия группы В вырвалась вперёд и зафиксировалась на уровне 2.9%. Тем не менее абсолютное значение колебания в начале и в конце теста не слишком большое - от 2.4 до 3.6%;\n",
    "    * относительный прирост кумулятивной конверсии зафиксировался около прироста в 18% относительно группы А.\n",
    "    \n",
    "4. Анализ выбросов и всплесков показал, что:\n",
    "    * большинство покупателей сделали 1 заказ. Менее 5% пользователей совершили больше 1 заказа и менее 1% пользователей совершили более 2 заказов. За границу аномалии взяты все заказы выше 99 перцентиля.\n",
    "    * менее 1% всех пользователей делает заказ дешевле 100 и дороже 53 904 рублей. Менее 5% пользователей делает заказ дешевле 300 и дороже 26 785 рублей. За границу аномалии взяты все заказы ниже 1 и выше 99 перцентиля.\n",
    "    \n",
    "5. Расчет статистической значимости различий в метриках по группам показал:\n",
    "    * и по \"сырым\" и по \"очищенным\" данным ЕСТЬ статистически значимое различие в количестве заказов на пользователя между группами. И относительный прирост cреднего числа заказов на пользователя группы B к группе А составляет от 16% (сырае данных) до 18.4% (очищенные данные);\n",
    "    * ни по «сырым», ни по \"очищенным\" данным НЕТ статистически значимых различий в среднем чеке групп A и B нет. Впрочем, относительный прирост среднего чека группы B значительно просел после очистки данных от аномалий - с прироста в 28.7% до проигрыша в  2.8% по сравнению с группой А. Такое сильное внияние оказала пара огромных заказов в группе В.\n",
    "    \n",
    "     **Выводы по результатам А/В - теста:**\n",
    "\n",
    "1. Если для компании основной метрикой является конверсия, то, исходя из имеющихся фактов, тест следует остановить и признать его успешным с присуждением победы группе В. \n",
    "\n",
    "2. Если основная метрика компании - средний чек, то тест необходимо остановить и признать неуспешным, поскольку нет никаких предпосылок для получения статистически значимого различия этой метрики в группах.\n",
    "    \n",
    "    \n",
    "**Рекомендации**\n",
    "\n",
    "Выявить причину и решить проблему подглядывания."
   ]
  }
 ],
 "metadata": {
  "ExecuteTimeLog": [
   {
    "duration": 1048,
    "start_time": "2022-07-12T12:50:42.091Z"
   },
   {
    "duration": 126,
    "start_time": "2022-07-12T12:50:43.141Z"
   },
   {
    "duration": 4,
    "start_time": "2022-07-12T12:50:43.268Z"
   },
   {
    "duration": 47,
    "start_time": "2022-07-12T12:50:43.274Z"
   },
   {
    "duration": 4,
    "start_time": "2022-07-12T12:50:43.323Z"
   },
   {
    "duration": 28,
    "start_time": "2022-07-12T12:50:43.328Z"
   },
   {
    "duration": 21,
    "start_time": "2022-07-12T12:50:43.357Z"
   },
   {
    "duration": 3,
    "start_time": "2022-07-12T12:50:43.380Z"
   },
   {
    "duration": 46,
    "start_time": "2022-07-12T12:50:43.385Z"
   },
   {
    "duration": 10,
    "start_time": "2022-07-12T12:50:43.433Z"
   },
   {
    "duration": 13,
    "start_time": "2022-07-12T12:50:43.445Z"
   },
   {
    "duration": 7,
    "start_time": "2022-07-12T12:50:43.459Z"
   },
   {
    "duration": 12,
    "start_time": "2022-07-12T12:50:43.468Z"
   },
   {
    "duration": 9,
    "start_time": "2022-07-12T12:50:43.483Z"
   },
   {
    "duration": 11,
    "start_time": "2022-07-12T12:50:43.494Z"
   },
   {
    "duration": 23,
    "start_time": "2022-07-12T12:50:43.506Z"
   },
   {
    "duration": 16,
    "start_time": "2022-07-12T12:50:43.531Z"
   },
   {
    "duration": 6,
    "start_time": "2022-07-12T12:50:43.548Z"
   },
   {
    "duration": 11,
    "start_time": "2022-07-12T12:50:43.555Z"
   },
   {
    "duration": 9,
    "start_time": "2022-07-12T12:50:43.568Z"
   },
   {
    "duration": 10,
    "start_time": "2022-07-12T12:50:43.578Z"
   },
   {
    "duration": 9,
    "start_time": "2022-07-12T12:50:43.589Z"
   },
   {
    "duration": 25,
    "start_time": "2022-07-12T12:50:43.599Z"
   },
   {
    "duration": 8,
    "start_time": "2022-07-12T12:50:43.625Z"
   },
   {
    "duration": 270,
    "start_time": "2022-07-12T12:50:43.634Z"
   },
   {
    "duration": 286,
    "start_time": "2022-07-12T12:50:43.905Z"
   },
   {
    "duration": 12,
    "start_time": "2022-07-12T12:50:44.193Z"
   },
   {
    "duration": 228,
    "start_time": "2022-07-12T12:50:44.207Z"
   },
   {
    "duration": 311,
    "start_time": "2022-07-12T12:50:44.437Z"
   },
   {
    "duration": 229,
    "start_time": "2022-07-12T12:50:44.750Z"
   },
   {
    "duration": 290,
    "start_time": "2022-07-12T12:50:44.981Z"
   },
   {
    "duration": 11,
    "start_time": "2022-07-12T12:50:45.272Z"
   },
   {
    "duration": 323,
    "start_time": "2022-07-12T12:50:45.285Z"
   },
   {
    "duration": 14,
    "start_time": "2022-07-12T12:50:45.610Z"
   },
   {
    "duration": 10,
    "start_time": "2022-07-12T12:50:45.625Z"
   },
   {
    "duration": 13,
    "start_time": "2022-07-12T12:50:45.637Z"
   },
   {
    "duration": 299,
    "start_time": "2022-07-12T12:50:45.652Z"
   },
   {
    "duration": 6,
    "start_time": "2022-07-12T12:50:45.953Z"
   },
   {
    "duration": 12,
    "start_time": "2022-07-12T12:50:45.960Z"
   },
   {
    "duration": 301,
    "start_time": "2022-07-12T12:50:45.973Z"
   },
   {
    "duration": 11,
    "start_time": "2022-07-12T12:50:46.278Z"
   },
   {
    "duration": 6,
    "start_time": "2022-07-12T12:50:46.292Z"
   },
   {
    "duration": 48,
    "start_time": "2022-07-12T12:50:46.300Z"
   },
   {
    "duration": 11,
    "start_time": "2022-07-12T12:50:46.350Z"
   },
   {
    "duration": 30,
    "start_time": "2022-07-12T12:50:46.363Z"
   },
   {
    "duration": 9,
    "start_time": "2022-07-12T12:50:46.395Z"
   },
   {
    "duration": 8,
    "start_time": "2022-07-12T12:50:46.423Z"
   },
   {
    "duration": 27,
    "start_time": "2022-07-12T12:50:46.433Z"
   },
   {
    "duration": 14,
    "start_time": "2022-07-12T12:50:46.461Z"
   },
   {
    "duration": 4,
    "start_time": "2022-07-12T13:08:15.790Z"
   }
  ],
  "kernelspec": {
   "display_name": "Python 3 (ipykernel)",
   "language": "python",
   "name": "python3"
  },
  "language_info": {
   "codemirror_mode": {
    "name": "ipython",
    "version": 3
   },
   "file_extension": ".py",
   "mimetype": "text/x-python",
   "name": "python",
   "nbconvert_exporter": "python",
   "pygments_lexer": "ipython3",
   "version": "3.9.7"
  },
  "toc": {
   "base_numbering": 1,
   "nav_menu": {},
   "number_sections": true,
   "sideBar": true,
   "skip_h1_title": true,
   "title_cell": "Table of Contents",
   "title_sidebar": "Contents",
   "toc_cell": true,
   "toc_position": {
    "height": "calc(100% - 180px)",
    "left": "10px",
    "top": "150px",
    "width": "383.797px"
   },
   "toc_section_display": true,
   "toc_window_display": false
  }
 },
 "nbformat": 4,
 "nbformat_minor": 5
}
