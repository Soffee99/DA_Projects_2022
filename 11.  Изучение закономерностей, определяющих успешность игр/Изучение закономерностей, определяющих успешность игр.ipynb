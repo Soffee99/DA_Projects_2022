{
 "cells": [
  {
   "cell_type": "markdown",
   "id": "0f6d9940",
   "metadata": {
    "toc": true
   },
   "source": [
    "<h1>Table of Contents<span class=\"tocSkip\"></span></h1>\n",
    "<div class=\"toc\"><ul class=\"toc-item\"><li><span><a href=\"#Обзор-данных\" data-toc-modified-id=\"Обзор-данных-1\"><span class=\"toc-item-num\">1&nbsp;&nbsp;</span>Обзор данных</a></span></li><li><span><a href=\"#Предобработка-данных\" data-toc-modified-id=\"Предобработка-данных-2\"><span class=\"toc-item-num\">2&nbsp;&nbsp;</span>Предобработка данных</a></span><ul class=\"toc-item\"><li><span><a href=\"#Стиль-заголовков-и-значений\" data-toc-modified-id=\"Стиль-заголовков-и-значений-2.1\"><span class=\"toc-item-num\">2.1&nbsp;&nbsp;</span>Стиль заголовков и значений</a></span></li><li><span><a href=\"#Изменение-типов-данных\" data-toc-modified-id=\"Изменение-типов-данных-2.2\"><span class=\"toc-item-num\">2.2&nbsp;&nbsp;</span>Изменение типов данных</a></span></li><li><span><a href=\"#Пропуски-значений\" data-toc-modified-id=\"Пропуски-значений-2.3\"><span class=\"toc-item-num\">2.3&nbsp;&nbsp;</span>Пропуски значений</a></span></li><li><span><a href=\"#Добавление-столбцов\" data-toc-modified-id=\"Добавление-столбцов-2.4\"><span class=\"toc-item-num\">2.4&nbsp;&nbsp;</span>Добавление столбцов</a></span></li></ul></li><li><span><a href=\"#Исследовательский-анализ-данных\" data-toc-modified-id=\"Исследовательский-анализ-данных-3\"><span class=\"toc-item-num\">3&nbsp;&nbsp;</span>Исследовательский анализ данных</a></span><ul class=\"toc-item\"><li><span><a href=\"#Динамика-выхода-игр-по-годам\" data-toc-modified-id=\"Динамика-выхода-игр-по-годам-3.1\"><span class=\"toc-item-num\">3.1&nbsp;&nbsp;</span>Динамика выхода игр по годам</a></span></li><li><span><a href=\"#Динамика-продаж-по-платформам-за-1980-2016г.\" data-toc-modified-id=\"Динамика-продаж-по-платформам-за-1980-2016г.-3.2\"><span class=\"toc-item-num\">3.2&nbsp;&nbsp;</span>Динамика продаж по платформам за 1980-2016г.</a></span></li><li><span><a href=\"#Актуальный-период-данных\" data-toc-modified-id=\"Актуальный-период-данных-3.3\"><span class=\"toc-item-num\">3.3&nbsp;&nbsp;</span>Актуальный период данных</a></span></li><li><span><a href=\"#Динамика-продаж-по-платформам-за-2014-2016г.\" data-toc-modified-id=\"Динамика-продаж-по-платформам-за-2014-2016г.-3.4\"><span class=\"toc-item-num\">3.4&nbsp;&nbsp;</span>Динамика продаж по платформам за 2014-2016г.</a></span></li><li><span><a href=\"#Диаграммы-размаха\" data-toc-modified-id=\"Диаграммы-размаха-3.5\"><span class=\"toc-item-num\">3.5&nbsp;&nbsp;</span>Диаграммы размаха</a></span></li><li><span><a href=\"#Влияние-оценок-на-продажи-PS4\" data-toc-modified-id=\"Влияние-оценок-на-продажи-PS4-3.6\"><span class=\"toc-item-num\">3.6&nbsp;&nbsp;</span>Влияние оценок на продажи PS4</a></span></li><li><span><a href=\"#Влияние-оценок-на-продажи-других-платформ\" data-toc-modified-id=\"Влияние-оценок-на-продажи-других-платформ-3.7\"><span class=\"toc-item-num\">3.7&nbsp;&nbsp;</span>Влияние оценок на продажи других платформ</a></span></li><li><span><a href=\"#Динамика-продаж-по-жанрам-игр\" data-toc-modified-id=\"Динамика-продаж-по-жанрам-игр-3.8\"><span class=\"toc-item-num\">3.8&nbsp;&nbsp;</span>Динамика продаж по жанрам игр</a></span></li><li><span><a href=\"#Вывод-по-разделу\" data-toc-modified-id=\"Вывод-по-разделу-3.9\"><span class=\"toc-item-num\">3.9&nbsp;&nbsp;</span>Вывод по разделу</a></span></li></ul></li><li><span><a href=\"#Составление-портрета-пользователя-каждого-региона\" data-toc-modified-id=\"Составление-портрета-пользователя-каждого-региона-4\"><span class=\"toc-item-num\">4&nbsp;&nbsp;</span>Составление портрета пользователя каждого региона</a></span><ul class=\"toc-item\"><li><span><a href=\"#ТОП-5-платформ-в-каждом-регионе\" data-toc-modified-id=\"ТОП-5-платформ-в-каждом-регионе-4.1\"><span class=\"toc-item-num\">4.1&nbsp;&nbsp;</span>ТОП-5 платформ в каждом регионе</a></span></li><li><span><a href=\"#ТОП-5-жанров-в-каждом-регионе\" data-toc-modified-id=\"ТОП-5-жанров-в-каждом-регионе-4.2\"><span class=\"toc-item-num\">4.2&nbsp;&nbsp;</span>ТОП-5 жанров в каждом регионе</a></span></li><li><span><a href=\"#Влияние-рейтинга-ESRB-на-продажи\" data-toc-modified-id=\"Влияние-рейтинга-ESRB-на-продажи-4.3\"><span class=\"toc-item-num\">4.3&nbsp;&nbsp;</span>Влияние рейтинга ESRB на продажи</a></span></li></ul></li><li><span><a href=\"#Проверка-гипотез\" data-toc-modified-id=\"Проверка-гипотез-5\"><span class=\"toc-item-num\">5&nbsp;&nbsp;</span>Проверка гипотез</a></span><ul class=\"toc-item\"><li><span><a href=\"#Гипотеза-1\" data-toc-modified-id=\"Гипотеза-1-5.1\"><span class=\"toc-item-num\">5.1&nbsp;&nbsp;</span>Гипотеза 1</a></span></li><li><span><a href=\"#Гипотеза-2\" data-toc-modified-id=\"Гипотеза-2-5.2\"><span class=\"toc-item-num\">5.2&nbsp;&nbsp;</span>Гипотеза 2</a></span></li></ul></li><li><span><a href=\"#Общий-вывод\" data-toc-modified-id=\"Общий-вывод-6\"><span class=\"toc-item-num\">6&nbsp;&nbsp;</span>Общий вывод</a></span></li></ul></div>"
   ]
  },
  {
   "cell_type": "markdown",
   "id": "de25770c",
   "metadata": {},
   "source": [
    "# Определение закономерностей успешности игры"
   ]
  },
  {
   "cell_type": "markdown",
   "id": "c21d6426",
   "metadata": {},
   "source": [
    "**Описание проекта**\n",
    "\n",
    "   В нашем распоряжении исторические данные из открытых источников о продажах игр, оценки пользователей и экспертов, жанры и платформы (например, Xbox или PlayStation). Перед нами данные до 2016 года. Необходимо составить план кампании на 2017-й, основываясь на этих данных. Важно отработать сам принцип работы с данными для прогнозирования продаж на перспективу, основываясь на анализе данных предыдущих лет. \n",
    "   В наборе данных аббревиатура ESRB (Entertainment Software Rating Board) — это ассоциация, определяющая возрастной рейтинг компьютерных игр. ESRB оценивает игровой контент и присваивает ему подходящую возрастную категорию, например, «Для взрослых», «Для детей младшего возраста» или «Для подростков».\n",
    "\n",
    "\n",
    "**Цель исследования**\n",
    "\n",
    "Выявить определяющие успешность игры закономерности. Это позволит сделать ставку на потенциально популярный продукт и спланировать рекламные кампании.\n",
    "\n",
    "\n",
    " **Ход исследования**\n",
    " \n",
    " 1. Обзор данных.\n",
    " 2. Предобработка данных.\n",
    " 3. Проведение исследовательского анализа данных.\n",
    " 4. Составление портрета пользователя каждого региона.\n",
    " 5. Проверка гипотез.\n",
    " 6. Общий вывод.\n"
   ]
  },
  {
   "cell_type": "markdown",
   "id": "a26fd951",
   "metadata": {},
   "source": [
    "## Обзор данных"
   ]
  },
  {
   "cell_type": "markdown",
   "id": "d58e1a4a",
   "metadata": {},
   "source": [
    "Составим первое представление о данных. Импортируем необходимые для анализа библиотеки."
   ]
  },
  {
   "cell_type": "code",
   "execution_count": 1,
   "id": "d128dd4d",
   "metadata": {},
   "outputs": [],
   "source": [
    "import pandas as pd\n",
    "import numpy as np\n",
    "import seaborn as sns\n",
    "import matplotlib.pyplot as plt\n",
    "from scipy import stats as st"
   ]
  },
  {
   "cell_type": "markdown",
   "id": "3cbd2d0d",
   "metadata": {},
   "source": [
    "Загрузим и познакомимся с данными."
   ]
  },
  {
   "cell_type": "markdown",
   "id": "47224a9a",
   "metadata": {},
   "source": [
    "Выведем на экран первые десять строк таблицы:"
   ]
  },
  {
   "cell_type": "code",
   "execution_count": 3,
   "id": "e29f050c",
   "metadata": {},
   "outputs": [
    {
     "data": {
      "text/html": [
       "<div>\n",
       "<style scoped>\n",
       "    .dataframe tbody tr th:only-of-type {\n",
       "        vertical-align: middle;\n",
       "    }\n",
       "\n",
       "    .dataframe tbody tr th {\n",
       "        vertical-align: top;\n",
       "    }\n",
       "\n",
       "    .dataframe thead th {\n",
       "        text-align: right;\n",
       "    }\n",
       "</style>\n",
       "<table border=\"1\" class=\"dataframe\">\n",
       "  <thead>\n",
       "    <tr style=\"text-align: right;\">\n",
       "      <th></th>\n",
       "      <th>Name</th>\n",
       "      <th>Platform</th>\n",
       "      <th>Year_of_Release</th>\n",
       "      <th>Genre</th>\n",
       "      <th>NA_sales</th>\n",
       "      <th>EU_sales</th>\n",
       "      <th>JP_sales</th>\n",
       "      <th>Other_sales</th>\n",
       "      <th>Critic_Score</th>\n",
       "      <th>User_Score</th>\n",
       "      <th>Rating</th>\n",
       "    </tr>\n",
       "  </thead>\n",
       "  <tbody>\n",
       "    <tr>\n",
       "      <th>0</th>\n",
       "      <td>Wii Sports</td>\n",
       "      <td>Wii</td>\n",
       "      <td>2006.0</td>\n",
       "      <td>Sports</td>\n",
       "      <td>41.36</td>\n",
       "      <td>28.96</td>\n",
       "      <td>3.77</td>\n",
       "      <td>8.45</td>\n",
       "      <td>76.0</td>\n",
       "      <td>8</td>\n",
       "      <td>E</td>\n",
       "    </tr>\n",
       "    <tr>\n",
       "      <th>1</th>\n",
       "      <td>Super Mario Bros.</td>\n",
       "      <td>NES</td>\n",
       "      <td>1985.0</td>\n",
       "      <td>Platform</td>\n",
       "      <td>29.08</td>\n",
       "      <td>3.58</td>\n",
       "      <td>6.81</td>\n",
       "      <td>0.77</td>\n",
       "      <td>NaN</td>\n",
       "      <td>NaN</td>\n",
       "      <td>NaN</td>\n",
       "    </tr>\n",
       "    <tr>\n",
       "      <th>2</th>\n",
       "      <td>Mario Kart Wii</td>\n",
       "      <td>Wii</td>\n",
       "      <td>2008.0</td>\n",
       "      <td>Racing</td>\n",
       "      <td>15.68</td>\n",
       "      <td>12.76</td>\n",
       "      <td>3.79</td>\n",
       "      <td>3.29</td>\n",
       "      <td>82.0</td>\n",
       "      <td>8.3</td>\n",
       "      <td>E</td>\n",
       "    </tr>\n",
       "    <tr>\n",
       "      <th>3</th>\n",
       "      <td>Wii Sports Resort</td>\n",
       "      <td>Wii</td>\n",
       "      <td>2009.0</td>\n",
       "      <td>Sports</td>\n",
       "      <td>15.61</td>\n",
       "      <td>10.93</td>\n",
       "      <td>3.28</td>\n",
       "      <td>2.95</td>\n",
       "      <td>80.0</td>\n",
       "      <td>8</td>\n",
       "      <td>E</td>\n",
       "    </tr>\n",
       "    <tr>\n",
       "      <th>4</th>\n",
       "      <td>Pokemon Red/Pokemon Blue</td>\n",
       "      <td>GB</td>\n",
       "      <td>1996.0</td>\n",
       "      <td>Role-Playing</td>\n",
       "      <td>11.27</td>\n",
       "      <td>8.89</td>\n",
       "      <td>10.22</td>\n",
       "      <td>1.00</td>\n",
       "      <td>NaN</td>\n",
       "      <td>NaN</td>\n",
       "      <td>NaN</td>\n",
       "    </tr>\n",
       "    <tr>\n",
       "      <th>5</th>\n",
       "      <td>Tetris</td>\n",
       "      <td>GB</td>\n",
       "      <td>1989.0</td>\n",
       "      <td>Puzzle</td>\n",
       "      <td>23.20</td>\n",
       "      <td>2.26</td>\n",
       "      <td>4.22</td>\n",
       "      <td>0.58</td>\n",
       "      <td>NaN</td>\n",
       "      <td>NaN</td>\n",
       "      <td>NaN</td>\n",
       "    </tr>\n",
       "    <tr>\n",
       "      <th>6</th>\n",
       "      <td>New Super Mario Bros.</td>\n",
       "      <td>DS</td>\n",
       "      <td>2006.0</td>\n",
       "      <td>Platform</td>\n",
       "      <td>11.28</td>\n",
       "      <td>9.14</td>\n",
       "      <td>6.50</td>\n",
       "      <td>2.88</td>\n",
       "      <td>89.0</td>\n",
       "      <td>8.5</td>\n",
       "      <td>E</td>\n",
       "    </tr>\n",
       "    <tr>\n",
       "      <th>7</th>\n",
       "      <td>Wii Play</td>\n",
       "      <td>Wii</td>\n",
       "      <td>2006.0</td>\n",
       "      <td>Misc</td>\n",
       "      <td>13.96</td>\n",
       "      <td>9.18</td>\n",
       "      <td>2.93</td>\n",
       "      <td>2.84</td>\n",
       "      <td>58.0</td>\n",
       "      <td>6.6</td>\n",
       "      <td>E</td>\n",
       "    </tr>\n",
       "    <tr>\n",
       "      <th>8</th>\n",
       "      <td>New Super Mario Bros. Wii</td>\n",
       "      <td>Wii</td>\n",
       "      <td>2009.0</td>\n",
       "      <td>Platform</td>\n",
       "      <td>14.44</td>\n",
       "      <td>6.94</td>\n",
       "      <td>4.70</td>\n",
       "      <td>2.24</td>\n",
       "      <td>87.0</td>\n",
       "      <td>8.4</td>\n",
       "      <td>E</td>\n",
       "    </tr>\n",
       "    <tr>\n",
       "      <th>9</th>\n",
       "      <td>Duck Hunt</td>\n",
       "      <td>NES</td>\n",
       "      <td>1984.0</td>\n",
       "      <td>Shooter</td>\n",
       "      <td>26.93</td>\n",
       "      <td>0.63</td>\n",
       "      <td>0.28</td>\n",
       "      <td>0.47</td>\n",
       "      <td>NaN</td>\n",
       "      <td>NaN</td>\n",
       "      <td>NaN</td>\n",
       "    </tr>\n",
       "  </tbody>\n",
       "</table>\n",
       "</div>"
      ],
      "text/plain": [
       "                        Name Platform  Year_of_Release         Genre  \\\n",
       "0                 Wii Sports      Wii           2006.0        Sports   \n",
       "1          Super Mario Bros.      NES           1985.0      Platform   \n",
       "2             Mario Kart Wii      Wii           2008.0        Racing   \n",
       "3          Wii Sports Resort      Wii           2009.0        Sports   \n",
       "4   Pokemon Red/Pokemon Blue       GB           1996.0  Role-Playing   \n",
       "5                     Tetris       GB           1989.0        Puzzle   \n",
       "6      New Super Mario Bros.       DS           2006.0      Platform   \n",
       "7                   Wii Play      Wii           2006.0          Misc   \n",
       "8  New Super Mario Bros. Wii      Wii           2009.0      Platform   \n",
       "9                  Duck Hunt      NES           1984.0       Shooter   \n",
       "\n",
       "   NA_sales  EU_sales  JP_sales  Other_sales  Critic_Score User_Score Rating  \n",
       "0     41.36     28.96      3.77         8.45          76.0          8      E  \n",
       "1     29.08      3.58      6.81         0.77           NaN        NaN    NaN  \n",
       "2     15.68     12.76      3.79         3.29          82.0        8.3      E  \n",
       "3     15.61     10.93      3.28         2.95          80.0          8      E  \n",
       "4     11.27      8.89     10.22         1.00           NaN        NaN    NaN  \n",
       "5     23.20      2.26      4.22         0.58           NaN        NaN    NaN  \n",
       "6     11.28      9.14      6.50         2.88          89.0        8.5      E  \n",
       "7     13.96      9.18      2.93         2.84          58.0        6.6      E  \n",
       "8     14.44      6.94      4.70         2.24          87.0        8.4      E  \n",
       "9     26.93      0.63      0.28         0.47           NaN        NaN    NaN  "
      ]
     },
     "execution_count": 3,
     "metadata": {},
     "output_type": "execute_result"
    }
   ],
   "source": [
    "df.head(10)"
   ]
  },
  {
   "cell_type": "markdown",
   "id": "9076b11b",
   "metadata": {},
   "source": [
    "Получим сводную информацию о данных:"
   ]
  },
  {
   "cell_type": "code",
   "execution_count": 4,
   "id": "0403b383",
   "metadata": {},
   "outputs": [
    {
     "name": "stdout",
     "output_type": "stream",
     "text": [
      "<class 'pandas.core.frame.DataFrame'>\n",
      "RangeIndex: 16715 entries, 0 to 16714\n",
      "Data columns (total 11 columns):\n",
      " #   Column           Non-Null Count  Dtype  \n",
      "---  ------           --------------  -----  \n",
      " 0   Name             16713 non-null  object \n",
      " 1   Platform         16715 non-null  object \n",
      " 2   Year_of_Release  16446 non-null  float64\n",
      " 3   Genre            16713 non-null  object \n",
      " 4   NA_sales         16715 non-null  float64\n",
      " 5   EU_sales         16715 non-null  float64\n",
      " 6   JP_sales         16715 non-null  float64\n",
      " 7   Other_sales      16715 non-null  float64\n",
      " 8   Critic_Score     8137 non-null   float64\n",
      " 9   User_Score       10014 non-null  object \n",
      " 10  Rating           9949 non-null   object \n",
      "dtypes: float64(6), object(5)\n",
      "memory usage: 1.4+ MB\n"
     ]
    }
   ],
   "source": [
    "df.info()"
   ]
  },
  {
   "cell_type": "markdown",
   "id": "8085f4de",
   "metadata": {},
   "source": [
    "Итак, таблица содержит информацию об играх и состоит из 11 столбцов и 16715 строк. \n",
    "Для описания информации используются 6 количественных (float64) и 5 категориальных переменных (object).\n",
    "\n",
    "Согласно документации к данным:\n",
    "\n",
    "* `Name` — название игры\n",
    "* `Platform` — платформа\n",
    "* `Year_of_Release` — год выпуска\n",
    "* `Genre` — жанр игры\n",
    "* `NA_sales` — продажи в Северной Америке (миллионы проданных копий)\n",
    "* `EU_sales` — продажи в Европе (миллионы проданных копий)\n",
    "* `JP_sales` — продажи в Японии (миллионы проданных копий)\n",
    "* `Other_sales` — продажи в других странах (миллионы проданных копий)\n",
    "* `Critic_Score` — оценка критиков (максимум 100)\n",
    "* `User_Score` — оценка пользователей (максимум 10)\n",
    "* `Rating` — рейтинг от организации ESRB (англ. Entertainment Software Rating Board). Эта ассоциация определяет рейтинг компьютерных игр и присваивает им подходящую возрастную категорию.\n",
    "\n"
   ]
  },
  {
   "cell_type": "markdown",
   "id": "08deeefd",
   "metadata": {},
   "source": [
    "**Вывод**\n",
    "\n",
    "Видны следующие недочеты во входных данных:\n",
    "\n",
    "1. Нарушение стиля в названиях столбцов - строчные буквы сочетаются с прописными.\n",
    "2. Столбец `Year_of_Release` нуждается в корректировки формата на целочисленный. Поскольку в данных только год, то мы в дальнейшем не сможем вытащить из этих данных какие-то дополнительные сведения: месяц, день, поэтому в преобразовании в datetime нет необходимости.\n",
    "3. Столбец `User_Score` нуждается в корректировки формата с `object` на вещественный.\n",
    "4. Во избежание дублирования названий в разных регистрах приведем значения в столбцах `name`, `genre`, `platform` и `raiting` к единому - нижнему регистру.\n",
    "4. Количество значений в столбцах различается. Значит, в данных есть пропущенные значения.\n",
    "\n",
    "Чтобы двигаться дальше, необходимо устранить проблемы в данных."
   ]
  },
  {
   "cell_type": "markdown",
   "id": "873d5931",
   "metadata": {},
   "source": [
    "## Предобработка данных"
   ]
  },
  {
   "cell_type": "markdown",
   "id": "b6be00d4",
   "metadata": {},
   "source": [
    "В этом разделе подготовим данные для дальнейшего анализа: \n",
    "  \n",
    "   - переименуем столбцы, \n",
    "   - приведем значения в столбцах к нижнему регистру,\n",
    "   - преобразуем данные в нужные типы,\n",
    "   - обработаем пропуски,\n",
    "   - добавим новый столбец с суммарными продажами во всех регионах.\n"
   ]
  },
  {
   "cell_type": "markdown",
   "id": "063beaa3",
   "metadata": {},
   "source": [
    "### Стиль заголовков и значений"
   ]
  },
  {
   "cell_type": "markdown",
   "id": "8c50e0c7",
   "metadata": {},
   "source": [
    "Выведем на экран названия столбцов:"
   ]
  },
  {
   "cell_type": "code",
   "execution_count": 5,
   "id": "d3cbc295",
   "metadata": {},
   "outputs": [
    {
     "data": {
      "text/plain": [
       "Index(['Name', 'Platform', 'Year_of_Release', 'Genre', 'NA_sales', 'EU_sales',\n",
       "       'JP_sales', 'Other_sales', 'Critic_Score', 'User_Score', 'Rating'],\n",
       "      dtype='object')"
      ]
     },
     "execution_count": 5,
     "metadata": {},
     "output_type": "execute_result"
    }
   ],
   "source": [
    "df.columns"
   ]
  },
  {
   "cell_type": "markdown",
   "id": "019c62c8",
   "metadata": {},
   "source": [
    "Приведем названия столбцов в соответствие с хорошим стилем. Так как все названия столбцов уже в «змеином_регистре», то осталось только сделать все символы строчными."
   ]
  },
  {
   "cell_type": "code",
   "execution_count": 6,
   "id": "0da81d5f",
   "metadata": {},
   "outputs": [],
   "source": [
    "df.columns = df.columns.str.lower()"
   ]
  },
  {
   "cell_type": "markdown",
   "id": "26f3cda7",
   "metadata": {},
   "source": [
    "Проверим корректность преобразования. Для этого ещё раз выведем на экран названия столбцов:"
   ]
  },
  {
   "cell_type": "code",
   "execution_count": 7,
   "id": "3d836e19",
   "metadata": {},
   "outputs": [
    {
     "data": {
      "text/plain": [
       "Index(['name', 'platform', 'year_of_release', 'genre', 'na_sales', 'eu_sales',\n",
       "       'jp_sales', 'other_sales', 'critic_score', 'user_score', 'rating'],\n",
       "      dtype='object')"
      ]
     },
     "execution_count": 7,
     "metadata": {},
     "output_type": "execute_result"
    }
   ],
   "source": [
    "df.columns"
   ]
  },
  {
   "cell_type": "markdown",
   "id": "25fa40e5",
   "metadata": {},
   "source": [
    "Измененим регистр значений в столбцах `genre`, `platform` и `raiting` на нижний регистр. В дальнейшем это позволит избежать дублирования названий в разных регистрах."
   ]
  },
  {
   "cell_type": "code",
   "execution_count": 8,
   "id": "e662acf8",
   "metadata": {},
   "outputs": [],
   "source": [
    "columns = ['platform', 'genre', 'rating']\n",
    "for name in columns:\n",
    "    df[name] = df[name].str.lower()"
   ]
  },
  {
   "cell_type": "markdown",
   "id": "b2407c8f",
   "metadata": {},
   "source": [
    "Посмотрим на изменения."
   ]
  },
  {
   "cell_type": "code",
   "execution_count": 9,
   "id": "60ef7cb8",
   "metadata": {},
   "outputs": [
    {
     "data": {
      "text/html": [
       "<div>\n",
       "<style scoped>\n",
       "    .dataframe tbody tr th:only-of-type {\n",
       "        vertical-align: middle;\n",
       "    }\n",
       "\n",
       "    .dataframe tbody tr th {\n",
       "        vertical-align: top;\n",
       "    }\n",
       "\n",
       "    .dataframe thead th {\n",
       "        text-align: right;\n",
       "    }\n",
       "</style>\n",
       "<table border=\"1\" class=\"dataframe\">\n",
       "  <thead>\n",
       "    <tr style=\"text-align: right;\">\n",
       "      <th></th>\n",
       "      <th>name</th>\n",
       "      <th>platform</th>\n",
       "      <th>year_of_release</th>\n",
       "      <th>genre</th>\n",
       "      <th>na_sales</th>\n",
       "      <th>eu_sales</th>\n",
       "      <th>jp_sales</th>\n",
       "      <th>other_sales</th>\n",
       "      <th>critic_score</th>\n",
       "      <th>user_score</th>\n",
       "      <th>rating</th>\n",
       "    </tr>\n",
       "  </thead>\n",
       "  <tbody>\n",
       "    <tr>\n",
       "      <th>0</th>\n",
       "      <td>Wii Sports</td>\n",
       "      <td>wii</td>\n",
       "      <td>2006.0</td>\n",
       "      <td>sports</td>\n",
       "      <td>41.36</td>\n",
       "      <td>28.96</td>\n",
       "      <td>3.77</td>\n",
       "      <td>8.45</td>\n",
       "      <td>76.0</td>\n",
       "      <td>8</td>\n",
       "      <td>e</td>\n",
       "    </tr>\n",
       "    <tr>\n",
       "      <th>1</th>\n",
       "      <td>Super Mario Bros.</td>\n",
       "      <td>nes</td>\n",
       "      <td>1985.0</td>\n",
       "      <td>platform</td>\n",
       "      <td>29.08</td>\n",
       "      <td>3.58</td>\n",
       "      <td>6.81</td>\n",
       "      <td>0.77</td>\n",
       "      <td>NaN</td>\n",
       "      <td>NaN</td>\n",
       "      <td>NaN</td>\n",
       "    </tr>\n",
       "    <tr>\n",
       "      <th>2</th>\n",
       "      <td>Mario Kart Wii</td>\n",
       "      <td>wii</td>\n",
       "      <td>2008.0</td>\n",
       "      <td>racing</td>\n",
       "      <td>15.68</td>\n",
       "      <td>12.76</td>\n",
       "      <td>3.79</td>\n",
       "      <td>3.29</td>\n",
       "      <td>82.0</td>\n",
       "      <td>8.3</td>\n",
       "      <td>e</td>\n",
       "    </tr>\n",
       "    <tr>\n",
       "      <th>3</th>\n",
       "      <td>Wii Sports Resort</td>\n",
       "      <td>wii</td>\n",
       "      <td>2009.0</td>\n",
       "      <td>sports</td>\n",
       "      <td>15.61</td>\n",
       "      <td>10.93</td>\n",
       "      <td>3.28</td>\n",
       "      <td>2.95</td>\n",
       "      <td>80.0</td>\n",
       "      <td>8</td>\n",
       "      <td>e</td>\n",
       "    </tr>\n",
       "    <tr>\n",
       "      <th>4</th>\n",
       "      <td>Pokemon Red/Pokemon Blue</td>\n",
       "      <td>gb</td>\n",
       "      <td>1996.0</td>\n",
       "      <td>role-playing</td>\n",
       "      <td>11.27</td>\n",
       "      <td>8.89</td>\n",
       "      <td>10.22</td>\n",
       "      <td>1.00</td>\n",
       "      <td>NaN</td>\n",
       "      <td>NaN</td>\n",
       "      <td>NaN</td>\n",
       "    </tr>\n",
       "  </tbody>\n",
       "</table>\n",
       "</div>"
      ],
      "text/plain": [
       "                       name platform  year_of_release         genre  na_sales  \\\n",
       "0                Wii Sports      wii           2006.0        sports     41.36   \n",
       "1         Super Mario Bros.      nes           1985.0      platform     29.08   \n",
       "2            Mario Kart Wii      wii           2008.0        racing     15.68   \n",
       "3         Wii Sports Resort      wii           2009.0        sports     15.61   \n",
       "4  Pokemon Red/Pokemon Blue       gb           1996.0  role-playing     11.27   \n",
       "\n",
       "   eu_sales  jp_sales  other_sales  critic_score user_score rating  \n",
       "0     28.96      3.77         8.45          76.0          8      e  \n",
       "1      3.58      6.81         0.77           NaN        NaN    NaN  \n",
       "2     12.76      3.79         3.29          82.0        8.3      e  \n",
       "3     10.93      3.28         2.95          80.0          8      e  \n",
       "4      8.89     10.22         1.00           NaN        NaN    NaN  "
      ]
     },
     "execution_count": 9,
     "metadata": {},
     "output_type": "execute_result"
    }
   ],
   "source": [
    "df.head()"
   ]
  },
  {
   "cell_type": "markdown",
   "id": "9d3624ae",
   "metadata": {},
   "source": [
    "### Изменение типов данных"
   ]
  },
  {
   "cell_type": "markdown",
   "id": "4f970613",
   "metadata": {},
   "source": [
    "1. В столбцe `year_of_release` приведем значения к целочисленному типу. \n",
    "\n",
    "2. Столбец `user_score` нуждается в корректировки формата с `object` на вещественный."
   ]
  },
  {
   "cell_type": "markdown",
   "id": "36ab5132",
   "metadata": {},
   "source": [
    "Посмотрим долю пропусков в столбце `year_of_release`. Так как их возможное наличие создаст помехи в измененнии типов данных."
   ]
  },
  {
   "cell_type": "markdown",
   "id": "990bc0e9",
   "metadata": {},
   "source": [
    "Для проверки доли пропусков в данных создадим функцию."
   ]
  },
  {
   "cell_type": "code",
   "execution_count": 10,
   "id": "84865874",
   "metadata": {},
   "outputs": [],
   "source": [
    "def describe_column(df, column):\n",
    "    \n",
    "    print(f\"Количество пропусков: {df[column].isna().sum()}\") \n",
    "    print('Доля пропусков: {:.2%}'.format(df[column].isna().mean()))"
   ]
  },
  {
   "cell_type": "code",
   "execution_count": 11,
   "id": "aba0d92a",
   "metadata": {},
   "outputs": [
    {
     "name": "stdout",
     "output_type": "stream",
     "text": [
      "Количество пропусков: 269\n",
      "Доля пропусков: 1.61%\n"
     ]
    }
   ],
   "source": [
    "describe_column(df, \"year_of_release\")"
   ]
  },
  {
   "cell_type": "markdown",
   "id": "2ebe9c3c",
   "metadata": {},
   "source": [
    "Доля пропусков в столбце `year_of_release` очень маленькая и взаимосвязей для корректной замены здесь не прослеживается. Поэтому пустые значения будут удалены после чего преобразуем тип данных в целочисленный."
   ]
  },
  {
   "cell_type": "code",
   "execution_count": 12,
   "id": "389d2a92",
   "metadata": {},
   "outputs": [],
   "source": [
    "df.dropna(subset=['year_of_release'], inplace=True)"
   ]
  },
  {
   "cell_type": "markdown",
   "id": "07052619",
   "metadata": {},
   "source": [
    "Преобразуем тип данных в целочисленный."
   ]
  },
  {
   "cell_type": "code",
   "execution_count": 13,
   "id": "7934223c",
   "metadata": {},
   "outputs": [],
   "source": [
    "df['year_of_release'] = df['year_of_release'].astype('int')"
   ]
  },
  {
   "cell_type": "markdown",
   "id": "cc026634",
   "metadata": {},
   "source": [
    "Проверим преобразование типов данных и удаление пропусков."
   ]
  },
  {
   "cell_type": "code",
   "execution_count": 14,
   "id": "15edcc28",
   "metadata": {},
   "outputs": [
    {
     "data": {
      "text/plain": [
       "dtype('int64')"
      ]
     },
     "execution_count": 14,
     "metadata": {},
     "output_type": "execute_result"
    }
   ],
   "source": [
    "df['year_of_release'].dtypes"
   ]
  },
  {
   "cell_type": "code",
   "execution_count": 15,
   "id": "4e03fd8e",
   "metadata": {},
   "outputs": [
    {
     "data": {
      "text/plain": [
       "0"
      ]
     },
     "execution_count": 15,
     "metadata": {},
     "output_type": "execute_result"
    }
   ],
   "source": [
    "df['year_of_release'].isna().sum()"
   ]
  },
  {
   "cell_type": "markdown",
   "id": "197d58b6",
   "metadata": {},
   "source": [
    "Посмотрим с данными за какой период нам предстоит работать."
   ]
  },
  {
   "cell_type": "code",
   "execution_count": 16,
   "id": "96d69311",
   "metadata": {},
   "outputs": [
    {
     "data": {
      "text/plain": [
       "(1980, 2016)"
      ]
     },
     "execution_count": 16,
     "metadata": {},
     "output_type": "execute_result"
    }
   ],
   "source": [
    "df['year_of_release'].min(), df['year_of_release'].max()"
   ]
  },
  {
   "cell_type": "markdown",
   "id": "b47d44c5",
   "metadata": {},
   "source": [
    "Перед преобразованием типа данных, посмотрим уникальные значения в столбце `user_score`."
   ]
  },
  {
   "cell_type": "code",
   "execution_count": 17,
   "id": "815ab74c",
   "metadata": {},
   "outputs": [
    {
     "data": {
      "text/plain": [
       "array(['0', '0.2', '0.3', '0.5', '0.6', '0.7', '0.9', '1', '1.1', '1.2',\n",
       "       '1.3', '1.4', '1.5', '1.6', '1.7', '1.8', '1.9', '2', '2.1', '2.2',\n",
       "       '2.3', '2.4', '2.5', '2.6', '2.7', '2.8', '2.9', '3', '3.1', '3.2',\n",
       "       '3.3', '3.4', '3.5', '3.6', '3.7', '3.8', '3.9', '4', '4.1', '4.2',\n",
       "       '4.3', '4.4', '4.5', '4.6', '4.7', '4.8', '4.9', '5', '5.1', '5.2',\n",
       "       '5.3', '5.4', '5.5', '5.6', '5.7', '5.8', '5.9', '6', '6.1', '6.2',\n",
       "       '6.3', '6.4', '6.5', '6.6', '6.7', '6.8', '6.9', '7', '7.1', '7.2',\n",
       "       '7.3', '7.4', '7.5', '7.6', '7.7', '7.8', '7.9', '8', '8.1', '8.2',\n",
       "       '8.3', '8.4', '8.5', '8.6', '8.7', '8.8', '8.9', '9', '9.1', '9.2',\n",
       "       '9.3', '9.4', '9.5', '9.6', '9.7', 'tbd', nan], dtype=object)"
      ]
     },
     "execution_count": 17,
     "metadata": {},
     "output_type": "execute_result"
    }
   ],
   "source": [
    "df['user_score'].sort_values().unique()"
   ]
  },
  {
   "cell_type": "markdown",
   "id": "bc6498cb",
   "metadata": {},
   "source": [
    "Оценка пользователей находится в пределах от 0 до 10. Но встречается и значение 'tbd', что расшифровывается как \"To Be Determined, то есть \"Будет определено\". В данной ситуации значение'tbd' можно интерпретировать как отсутствие оценки пользователя и заменить на NaN."
   ]
  },
  {
   "cell_type": "markdown",
   "id": "fd3c1b2b",
   "metadata": {},
   "source": [
    "Посмотрим какое количество строк со значений 'tbd'."
   ]
  },
  {
   "cell_type": "code",
   "execution_count": 18,
   "id": "bbcb8722",
   "metadata": {},
   "outputs": [
    {
     "data": {
      "text/plain": [
       "2376"
      ]
     },
     "execution_count": 18,
     "metadata": {},
     "output_type": "execute_result"
    }
   ],
   "source": [
    "df.query('user_score == \"tbd\"')['user_score'].count()"
   ]
  },
  {
   "cell_type": "markdown",
   "id": "4f047fb1",
   "metadata": {},
   "source": [
    "Заменим значение 'tbd' на NaN."
   ]
  },
  {
   "cell_type": "code",
   "execution_count": 19,
   "id": "9dcf9e58",
   "metadata": {},
   "outputs": [],
   "source": [
    "df.loc[df['user_score'] == 'tbd', 'user_score'] = np.nan"
   ]
  },
  {
   "cell_type": "markdown",
   "id": "4629f6ff",
   "metadata": {},
   "source": [
    "Изменим тип данных в этой колонке на вещественный."
   ]
  },
  {
   "cell_type": "code",
   "execution_count": 20,
   "id": "ced6d638",
   "metadata": {},
   "outputs": [],
   "source": [
    "df['user_score'] = df['user_score'].astype('float')"
   ]
  },
  {
   "cell_type": "markdown",
   "id": "1577a0bb",
   "metadata": {},
   "source": [
    "Проверим корректность внесенных изменений. "
   ]
  },
  {
   "cell_type": "code",
   "execution_count": 21,
   "id": "bcf1a5f2",
   "metadata": {},
   "outputs": [
    {
     "data": {
      "text/plain": [
       "array([0. , 0.2, 0.3, 0.5, 0.6, 0.7, 0.9, 1. , 1.1, 1.2, 1.3, 1.4, 1.5,\n",
       "       1.6, 1.7, 1.8, 1.9, 2. , 2.1, 2.2, 2.3, 2.4, 2.5, 2.6, 2.7, 2.8,\n",
       "       2.9, 3. , 3.1, 3.2, 3.3, 3.4, 3.5, 3.6, 3.7, 3.8, 3.9, 4. , 4.1,\n",
       "       4.2, 4.3, 4.4, 4.5, 4.6, 4.7, 4.8, 4.9, 5. , 5.1, 5.2, 5.3, 5.4,\n",
       "       5.5, 5.6, 5.7, 5.8, 5.9, 6. , 6.1, 6.2, 6.3, 6.4, 6.5, 6.6, 6.7,\n",
       "       6.8, 6.9, 7. , 7.1, 7.2, 7.3, 7.4, 7.5, 7.6, 7.7, 7.8, 7.9, 8. ,\n",
       "       8.1, 8.2, 8.3, 8.4, 8.5, 8.6, 8.7, 8.8, 8.9, 9. , 9.1, 9.2, 9.3,\n",
       "       9.4, 9.5, 9.6, 9.7, nan])"
      ]
     },
     "execution_count": 21,
     "metadata": {},
     "output_type": "execute_result"
    }
   ],
   "source": [
    "df['user_score'].sort_values().unique()"
   ]
  },
  {
   "cell_type": "code",
   "execution_count": 22,
   "id": "147aa5ce",
   "metadata": {},
   "outputs": [
    {
     "data": {
      "text/plain": [
       "dtype('float64')"
      ]
     },
     "execution_count": 22,
     "metadata": {},
     "output_type": "execute_result"
    }
   ],
   "source": [
    "df['user_score'].dtypes"
   ]
  },
  {
   "cell_type": "markdown",
   "id": "2243b05e",
   "metadata": {},
   "source": [
    "### Пропуски значений"
   ]
  },
  {
   "cell_type": "markdown",
   "id": "970c71e8",
   "metadata": {},
   "source": [
    "Посмотрим количество пропусков в данных."
   ]
  },
  {
   "cell_type": "code",
   "execution_count": 23,
   "id": "6afa0467",
   "metadata": {},
   "outputs": [
    {
     "data": {
      "text/plain": [
       "name                  2\n",
       "platform              0\n",
       "year_of_release       0\n",
       "genre                 2\n",
       "na_sales              0\n",
       "eu_sales              0\n",
       "jp_sales              0\n",
       "other_sales           0\n",
       "critic_score       8463\n",
       "user_score         8983\n",
       "rating             6678\n",
       "dtype: int64"
      ]
     },
     "execution_count": 23,
     "metadata": {},
     "output_type": "execute_result"
    }
   ],
   "source": [
    "df.isna().sum()"
   ]
  },
  {
   "cell_type": "markdown",
   "id": "38a3871d",
   "metadata": {},
   "source": [
    "Посмотрим долю пропусков в данных столбца `critic_score`."
   ]
  },
  {
   "cell_type": "code",
   "execution_count": 24,
   "id": "f3f7bc07",
   "metadata": {},
   "outputs": [
    {
     "name": "stdout",
     "output_type": "stream",
     "text": [
      "Количество пропусков: 8463\n",
      "Доля пропусков: 51.46%\n"
     ]
    }
   ],
   "source": [
    "describe_column(df, \"critic_score\")"
   ]
  },
  {
   "cell_type": "markdown",
   "id": "d5738016",
   "metadata": {},
   "source": [
    "Посмотрим долю пропусков в данных столбца `user_score`."
   ]
  },
  {
   "cell_type": "code",
   "execution_count": 25,
   "id": "7ff4934c",
   "metadata": {},
   "outputs": [
    {
     "name": "stdout",
     "output_type": "stream",
     "text": [
      "Количество пропусков: 8983\n",
      "Доля пропусков: 54.62%\n"
     ]
    }
   ],
   "source": [
    "describe_column(df, \"user_score\")"
   ]
  },
  {
   "cell_type": "markdown",
   "id": "4601ddc3",
   "metadata": {},
   "source": [
    "Посмотрим долю пропусков в данных столбца `rating`."
   ]
  },
  {
   "cell_type": "code",
   "execution_count": 26,
   "id": "19e45632",
   "metadata": {},
   "outputs": [
    {
     "name": "stdout",
     "output_type": "stream",
     "text": [
      "Количество пропусков: 6678\n",
      "Доля пропусков: 40.61%\n"
     ]
    }
   ],
   "source": [
    "describe_column(df, \"rating\")"
   ]
  },
  {
   "cell_type": "markdown",
   "id": "b26603dd",
   "metadata": {},
   "source": [
    "Посмотрим на рейтинг ESRB"
   ]
  },
  {
   "cell_type": "code",
   "execution_count": 27,
   "id": "e506619f",
   "metadata": {},
   "outputs": [
    {
     "data": {
      "text/plain": [
       "e       3921\n",
       "t       2905\n",
       "m       1536\n",
       "e10+    1393\n",
       "ec         8\n",
       "k-a        3\n",
       "ao         1\n",
       "rp         1\n",
       "Name: rating, dtype: int64"
      ]
     },
     "execution_count": 27,
     "metadata": {},
     "output_type": "execute_result"
    }
   ],
   "source": [
    "df['rating'].value_counts()"
   ]
  },
  {
   "cell_type": "markdown",
   "id": "6e22146b",
   "metadata": {},
   "source": [
    "Посмотрим таблицу с пустыми значения в столбце `critic_score`. Поищем взаимосвязи."
   ]
  },
  {
   "cell_type": "code",
   "execution_count": 28,
   "id": "b162ecce",
   "metadata": {},
   "outputs": [
    {
     "data": {
      "text/html": [
       "<div>\n",
       "<style scoped>\n",
       "    .dataframe tbody tr th:only-of-type {\n",
       "        vertical-align: middle;\n",
       "    }\n",
       "\n",
       "    .dataframe tbody tr th {\n",
       "        vertical-align: top;\n",
       "    }\n",
       "\n",
       "    .dataframe thead th {\n",
       "        text-align: right;\n",
       "    }\n",
       "</style>\n",
       "<table border=\"1\" class=\"dataframe\">\n",
       "  <thead>\n",
       "    <tr style=\"text-align: right;\">\n",
       "      <th></th>\n",
       "      <th>name</th>\n",
       "      <th>platform</th>\n",
       "      <th>year_of_release</th>\n",
       "      <th>genre</th>\n",
       "      <th>na_sales</th>\n",
       "      <th>eu_sales</th>\n",
       "      <th>jp_sales</th>\n",
       "      <th>other_sales</th>\n",
       "      <th>critic_score</th>\n",
       "      <th>user_score</th>\n",
       "      <th>rating</th>\n",
       "    </tr>\n",
       "  </thead>\n",
       "  <tbody>\n",
       "    <tr>\n",
       "      <th>1</th>\n",
       "      <td>Super Mario Bros.</td>\n",
       "      <td>nes</td>\n",
       "      <td>1985</td>\n",
       "      <td>platform</td>\n",
       "      <td>29.08</td>\n",
       "      <td>3.58</td>\n",
       "      <td>6.81</td>\n",
       "      <td>0.77</td>\n",
       "      <td>NaN</td>\n",
       "      <td>NaN</td>\n",
       "      <td>NaN</td>\n",
       "    </tr>\n",
       "    <tr>\n",
       "      <th>4</th>\n",
       "      <td>Pokemon Red/Pokemon Blue</td>\n",
       "      <td>gb</td>\n",
       "      <td>1996</td>\n",
       "      <td>role-playing</td>\n",
       "      <td>11.27</td>\n",
       "      <td>8.89</td>\n",
       "      <td>10.22</td>\n",
       "      <td>1.00</td>\n",
       "      <td>NaN</td>\n",
       "      <td>NaN</td>\n",
       "      <td>NaN</td>\n",
       "    </tr>\n",
       "    <tr>\n",
       "      <th>5</th>\n",
       "      <td>Tetris</td>\n",
       "      <td>gb</td>\n",
       "      <td>1989</td>\n",
       "      <td>puzzle</td>\n",
       "      <td>23.20</td>\n",
       "      <td>2.26</td>\n",
       "      <td>4.22</td>\n",
       "      <td>0.58</td>\n",
       "      <td>NaN</td>\n",
       "      <td>NaN</td>\n",
       "      <td>NaN</td>\n",
       "    </tr>\n",
       "    <tr>\n",
       "      <th>9</th>\n",
       "      <td>Duck Hunt</td>\n",
       "      <td>nes</td>\n",
       "      <td>1984</td>\n",
       "      <td>shooter</td>\n",
       "      <td>26.93</td>\n",
       "      <td>0.63</td>\n",
       "      <td>0.28</td>\n",
       "      <td>0.47</td>\n",
       "      <td>NaN</td>\n",
       "      <td>NaN</td>\n",
       "      <td>NaN</td>\n",
       "    </tr>\n",
       "    <tr>\n",
       "      <th>10</th>\n",
       "      <td>Nintendogs</td>\n",
       "      <td>ds</td>\n",
       "      <td>2005</td>\n",
       "      <td>simulation</td>\n",
       "      <td>9.05</td>\n",
       "      <td>10.95</td>\n",
       "      <td>1.93</td>\n",
       "      <td>2.74</td>\n",
       "      <td>NaN</td>\n",
       "      <td>NaN</td>\n",
       "      <td>NaN</td>\n",
       "    </tr>\n",
       "    <tr>\n",
       "      <th>12</th>\n",
       "      <td>Pokemon Gold/Pokemon Silver</td>\n",
       "      <td>gb</td>\n",
       "      <td>1999</td>\n",
       "      <td>role-playing</td>\n",
       "      <td>9.00</td>\n",
       "      <td>6.18</td>\n",
       "      <td>7.20</td>\n",
       "      <td>0.71</td>\n",
       "      <td>NaN</td>\n",
       "      <td>NaN</td>\n",
       "      <td>NaN</td>\n",
       "    </tr>\n",
       "    <tr>\n",
       "      <th>18</th>\n",
       "      <td>Super Mario World</td>\n",
       "      <td>snes</td>\n",
       "      <td>1990</td>\n",
       "      <td>platform</td>\n",
       "      <td>12.78</td>\n",
       "      <td>3.75</td>\n",
       "      <td>3.54</td>\n",
       "      <td>0.55</td>\n",
       "      <td>NaN</td>\n",
       "      <td>NaN</td>\n",
       "      <td>NaN</td>\n",
       "    </tr>\n",
       "    <tr>\n",
       "      <th>20</th>\n",
       "      <td>Pokemon Diamond/Pokemon Pearl</td>\n",
       "      <td>ds</td>\n",
       "      <td>2006</td>\n",
       "      <td>role-playing</td>\n",
       "      <td>6.38</td>\n",
       "      <td>4.46</td>\n",
       "      <td>6.04</td>\n",
       "      <td>1.36</td>\n",
       "      <td>NaN</td>\n",
       "      <td>NaN</td>\n",
       "      <td>NaN</td>\n",
       "    </tr>\n",
       "    <tr>\n",
       "      <th>21</th>\n",
       "      <td>Super Mario Land</td>\n",
       "      <td>gb</td>\n",
       "      <td>1989</td>\n",
       "      <td>platform</td>\n",
       "      <td>10.83</td>\n",
       "      <td>2.71</td>\n",
       "      <td>4.18</td>\n",
       "      <td>0.42</td>\n",
       "      <td>NaN</td>\n",
       "      <td>NaN</td>\n",
       "      <td>NaN</td>\n",
       "    </tr>\n",
       "    <tr>\n",
       "      <th>22</th>\n",
       "      <td>Super Mario Bros. 3</td>\n",
       "      <td>nes</td>\n",
       "      <td>1988</td>\n",
       "      <td>platform</td>\n",
       "      <td>9.54</td>\n",
       "      <td>3.44</td>\n",
       "      <td>3.84</td>\n",
       "      <td>0.46</td>\n",
       "      <td>NaN</td>\n",
       "      <td>NaN</td>\n",
       "      <td>NaN</td>\n",
       "    </tr>\n",
       "  </tbody>\n",
       "</table>\n",
       "</div>"
      ],
      "text/plain": [
       "                             name platform  year_of_release         genre  \\\n",
       "1               Super Mario Bros.      nes             1985      platform   \n",
       "4        Pokemon Red/Pokemon Blue       gb             1996  role-playing   \n",
       "5                          Tetris       gb             1989        puzzle   \n",
       "9                       Duck Hunt      nes             1984       shooter   \n",
       "10                     Nintendogs       ds             2005    simulation   \n",
       "12    Pokemon Gold/Pokemon Silver       gb             1999  role-playing   \n",
       "18              Super Mario World     snes             1990      platform   \n",
       "20  Pokemon Diamond/Pokemon Pearl       ds             2006  role-playing   \n",
       "21               Super Mario Land       gb             1989      platform   \n",
       "22            Super Mario Bros. 3      nes             1988      platform   \n",
       "\n",
       "    na_sales  eu_sales  jp_sales  other_sales  critic_score  user_score rating  \n",
       "1      29.08      3.58      6.81         0.77           NaN         NaN    NaN  \n",
       "4      11.27      8.89     10.22         1.00           NaN         NaN    NaN  \n",
       "5      23.20      2.26      4.22         0.58           NaN         NaN    NaN  \n",
       "9      26.93      0.63      0.28         0.47           NaN         NaN    NaN  \n",
       "10      9.05     10.95      1.93         2.74           NaN         NaN    NaN  \n",
       "12      9.00      6.18      7.20         0.71           NaN         NaN    NaN  \n",
       "18     12.78      3.75      3.54         0.55           NaN         NaN    NaN  \n",
       "20      6.38      4.46      6.04         1.36           NaN         NaN    NaN  \n",
       "21     10.83      2.71      4.18         0.42           NaN         NaN    NaN  \n",
       "22      9.54      3.44      3.84         0.46           NaN         NaN    NaN  "
      ]
     },
     "execution_count": 28,
     "metadata": {},
     "output_type": "execute_result"
    }
   ],
   "source": [
    "df[df['critic_score'].isna()].head(10)"
   ]
  },
  {
   "cell_type": "markdown",
   "id": "820453d9",
   "metadata": {},
   "source": [
    "Проверим данные на дубликаты."
   ]
  },
  {
   "cell_type": "code",
   "execution_count": 29,
   "id": "e546bdad",
   "metadata": {},
   "outputs": [
    {
     "data": {
      "text/plain": [
       "0"
      ]
     },
     "execution_count": 29,
     "metadata": {},
     "output_type": "execute_result"
    }
   ],
   "source": [
    "df.duplicated().sum()"
   ]
  },
  {
   "cell_type": "markdown",
   "id": "55277bfc",
   "metadata": {},
   "source": [
    "**Вывод**\n",
    "\n",
    "Доля пропусков в столбцах `name` и `genre` очень маленькая, поэтому просто удалим их.\n",
    " \n",
    "В то время как доля пропусков в оценках критиков и пользователей, а также рейтинге ESRB очень высокая. \n",
    "Возможно на заре создания компьютерных игр не было строгого прописывания рейтингов и отзывов, поэтому в данных такой большой процент пропусков. \n",
    "\n",
    "1. Пропуски в `user_score` невозможно корректно заполнить каким-то значением или нулем, так как ноль используется в качестве оценки и это может исказить данные, поэтому оставим их без изменений.\n",
    "\n",
    "2. Пропуски в `critic_score` также невозможно заменить, так как в данных нет взаимосвязей на основе которых можно было бы сделать корректную замену, поэтому пропуски в столбце оставим без изменений. \n",
    "\n",
    "3. Пропуски в столбце `rating` составляют 40% и это категориальная переменная, которую можно заполнить значением `unknown`, чтобы не потерять такой большой пласт информации и в то же время, чтобы это было информативно при дальнейшем анализе. Рейтинг 'K-A' равносилен рейтингу 'E' - рейтинг «Для всех», поэтому объединим их."
   ]
  },
  {
   "cell_type": "markdown",
   "id": "4b89ba6a",
   "metadata": {},
   "source": [
    "Удалим пропуски в столбцах `name` и `genre`"
   ]
  },
  {
   "cell_type": "code",
   "execution_count": 30,
   "id": "fe2653e8",
   "metadata": {},
   "outputs": [],
   "source": [
    "df.dropna(subset = ['name', 'genre'], inplace=True)"
   ]
  },
  {
   "cell_type": "markdown",
   "id": "74c5f026",
   "metadata": {},
   "source": [
    "Рейтинг 'K-A' заменим на 'E'"
   ]
  },
  {
   "cell_type": "code",
   "execution_count": 31,
   "id": "3f5c6bdb",
   "metadata": {},
   "outputs": [],
   "source": [
    "df['rating'] = df['rating'].replace('k-a', 'e')"
   ]
  },
  {
   "cell_type": "markdown",
   "id": "a6b5e464",
   "metadata": {},
   "source": [
    "Заменим пропусти `unknown`"
   ]
  },
  {
   "cell_type": "code",
   "execution_count": 32,
   "id": "120d9d95",
   "metadata": {},
   "outputs": [],
   "source": [
    "df['rating'] = df['rating'].fillna('unknown')"
   ]
  },
  {
   "cell_type": "markdown",
   "id": "77d55fb1",
   "metadata": {},
   "source": [
    "Посмотрим на рейтинг после изменений."
   ]
  },
  {
   "cell_type": "code",
   "execution_count": 33,
   "id": "9a2e3ed6",
   "metadata": {},
   "outputs": [
    {
     "data": {
      "text/plain": [
       "unknown    6676\n",
       "e          3924\n",
       "t          2905\n",
       "m          1536\n",
       "e10+       1393\n",
       "ec            8\n",
       "ao            1\n",
       "rp            1\n",
       "Name: rating, dtype: int64"
      ]
     },
     "execution_count": 33,
     "metadata": {},
     "output_type": "execute_result"
    }
   ],
   "source": [
    "df['rating'].value_counts()"
   ]
  },
  {
   "cell_type": "markdown",
   "id": "c3339582",
   "metadata": {},
   "source": [
    "### Добавление столбцов"
   ]
  },
  {
   "cell_type": "markdown",
   "id": "2c9dc425",
   "metadata": {},
   "source": [
    "Для дальнейшего исследовательского анализа данных, добавим столбец с суммой продаж во всех регионах."
   ]
  },
  {
   "cell_type": "code",
   "execution_count": 34,
   "id": "6196f802",
   "metadata": {},
   "outputs": [],
   "source": [
    "df['total_sales'] = df[['na_sales', 'eu_sales', 'jp_sales']].sum(axis=1)"
   ]
  },
  {
   "cell_type": "markdown",
   "id": "653fa348",
   "metadata": {},
   "source": [
    "Также добавим столбец с информацией о том, на какую возрастную группу рассчитан рейтинг ESBR. Нам это понадобится в дальнейшем."
   ]
  },
  {
   "cell_type": "code",
   "execution_count": 35,
   "id": "70abb9ec",
   "metadata": {},
   "outputs": [],
   "source": [
    "df.loc[df['rating'] == 'unknown', 'rating_info'] = 'Рейтинг неизвестен'\n",
    "df.loc[df['rating'] == 'ec', 'rating_info'] = 'Для детей младшего возраста'\n",
    "df.loc[df['rating'] == 'e', 'rating_info'] = 'Для всех'\n",
    "df.loc[df['rating'] == 'e10+', 'rating_info'] = 'Для всех от 10 лет и старше'\n",
    "df.loc[df['rating'] == 't', 'rating_info'] = 'Подросткам'\n",
    "df.loc[df['rating'] == 'm', 'rating_info'] = 'Для взрослых'\n",
    "df.loc[df['rating'] == 'ao', 'rating_info'] = 'Только для взрослых'\n",
    "df.loc[df['rating'] == 'rp', 'rating_info'] = 'Рейтинг ожидается'"
   ]
  },
  {
   "cell_type": "markdown",
   "id": "304a3a63",
   "metadata": {},
   "source": [
    "Посмотрим на обновленную таблицу"
   ]
  },
  {
   "cell_type": "code",
   "execution_count": 36,
   "id": "a834b9f3",
   "metadata": {},
   "outputs": [
    {
     "data": {
      "text/html": [
       "<div>\n",
       "<style scoped>\n",
       "    .dataframe tbody tr th:only-of-type {\n",
       "        vertical-align: middle;\n",
       "    }\n",
       "\n",
       "    .dataframe tbody tr th {\n",
       "        vertical-align: top;\n",
       "    }\n",
       "\n",
       "    .dataframe thead th {\n",
       "        text-align: right;\n",
       "    }\n",
       "</style>\n",
       "<table border=\"1\" class=\"dataframe\">\n",
       "  <thead>\n",
       "    <tr style=\"text-align: right;\">\n",
       "      <th></th>\n",
       "      <th>name</th>\n",
       "      <th>platform</th>\n",
       "      <th>year_of_release</th>\n",
       "      <th>genre</th>\n",
       "      <th>na_sales</th>\n",
       "      <th>eu_sales</th>\n",
       "      <th>jp_sales</th>\n",
       "      <th>other_sales</th>\n",
       "      <th>critic_score</th>\n",
       "      <th>user_score</th>\n",
       "      <th>rating</th>\n",
       "      <th>total_sales</th>\n",
       "      <th>rating_info</th>\n",
       "    </tr>\n",
       "  </thead>\n",
       "  <tbody>\n",
       "    <tr>\n",
       "      <th>0</th>\n",
       "      <td>Wii Sports</td>\n",
       "      <td>wii</td>\n",
       "      <td>2006</td>\n",
       "      <td>sports</td>\n",
       "      <td>41.36</td>\n",
       "      <td>28.96</td>\n",
       "      <td>3.77</td>\n",
       "      <td>8.45</td>\n",
       "      <td>76.0</td>\n",
       "      <td>8.0</td>\n",
       "      <td>e</td>\n",
       "      <td>74.09</td>\n",
       "      <td>Для всех</td>\n",
       "    </tr>\n",
       "    <tr>\n",
       "      <th>1</th>\n",
       "      <td>Super Mario Bros.</td>\n",
       "      <td>nes</td>\n",
       "      <td>1985</td>\n",
       "      <td>platform</td>\n",
       "      <td>29.08</td>\n",
       "      <td>3.58</td>\n",
       "      <td>6.81</td>\n",
       "      <td>0.77</td>\n",
       "      <td>NaN</td>\n",
       "      <td>NaN</td>\n",
       "      <td>unknown</td>\n",
       "      <td>39.47</td>\n",
       "      <td>Рейтинг неизвестен</td>\n",
       "    </tr>\n",
       "    <tr>\n",
       "      <th>2</th>\n",
       "      <td>Mario Kart Wii</td>\n",
       "      <td>wii</td>\n",
       "      <td>2008</td>\n",
       "      <td>racing</td>\n",
       "      <td>15.68</td>\n",
       "      <td>12.76</td>\n",
       "      <td>3.79</td>\n",
       "      <td>3.29</td>\n",
       "      <td>82.0</td>\n",
       "      <td>8.3</td>\n",
       "      <td>e</td>\n",
       "      <td>32.23</td>\n",
       "      <td>Для всех</td>\n",
       "    </tr>\n",
       "    <tr>\n",
       "      <th>3</th>\n",
       "      <td>Wii Sports Resort</td>\n",
       "      <td>wii</td>\n",
       "      <td>2009</td>\n",
       "      <td>sports</td>\n",
       "      <td>15.61</td>\n",
       "      <td>10.93</td>\n",
       "      <td>3.28</td>\n",
       "      <td>2.95</td>\n",
       "      <td>80.0</td>\n",
       "      <td>8.0</td>\n",
       "      <td>e</td>\n",
       "      <td>29.82</td>\n",
       "      <td>Для всех</td>\n",
       "    </tr>\n",
       "    <tr>\n",
       "      <th>4</th>\n",
       "      <td>Pokemon Red/Pokemon Blue</td>\n",
       "      <td>gb</td>\n",
       "      <td>1996</td>\n",
       "      <td>role-playing</td>\n",
       "      <td>11.27</td>\n",
       "      <td>8.89</td>\n",
       "      <td>10.22</td>\n",
       "      <td>1.00</td>\n",
       "      <td>NaN</td>\n",
       "      <td>NaN</td>\n",
       "      <td>unknown</td>\n",
       "      <td>30.38</td>\n",
       "      <td>Рейтинг неизвестен</td>\n",
       "    </tr>\n",
       "  </tbody>\n",
       "</table>\n",
       "</div>"
      ],
      "text/plain": [
       "                       name platform  year_of_release         genre  na_sales  \\\n",
       "0                Wii Sports      wii             2006        sports     41.36   \n",
       "1         Super Mario Bros.      nes             1985      platform     29.08   \n",
       "2            Mario Kart Wii      wii             2008        racing     15.68   \n",
       "3         Wii Sports Resort      wii             2009        sports     15.61   \n",
       "4  Pokemon Red/Pokemon Blue       gb             1996  role-playing     11.27   \n",
       "\n",
       "   eu_sales  jp_sales  other_sales  critic_score  user_score   rating  \\\n",
       "0     28.96      3.77         8.45          76.0         8.0        e   \n",
       "1      3.58      6.81         0.77           NaN         NaN  unknown   \n",
       "2     12.76      3.79         3.29          82.0         8.3        e   \n",
       "3     10.93      3.28         2.95          80.0         8.0        e   \n",
       "4      8.89     10.22         1.00           NaN         NaN  unknown   \n",
       "\n",
       "   total_sales         rating_info  \n",
       "0        74.09            Для всех  \n",
       "1        39.47  Рейтинг неизвестен  \n",
       "2        32.23            Для всех  \n",
       "3        29.82            Для всех  \n",
       "4        30.38  Рейтинг неизвестен  "
      ]
     },
     "execution_count": 36,
     "metadata": {},
     "output_type": "execute_result"
    }
   ],
   "source": [
    "df.head()"
   ]
  },
  {
   "cell_type": "markdown",
   "id": "ebb000cc",
   "metadata": {},
   "source": [
    "**Вывод**\n",
    "\n",
    "Значения предобработаны: изменены типы данных, заполнены пропуски там, где это возможно, названия столбцов приведены к хорошему стилю, а также добавлены необходимые столбцы. В тоже время в данных есть большой процент пропусков, для которых нет возможности предложить адекватную замену. Дабы не искажать данные необоснованными заменами эти пропуски были оставлены без изменений.\n",
    "\n",
    "Таким образом данные подготовлены для дальнейшего анализа и проверки гипотез."
   ]
  },
  {
   "cell_type": "markdown",
   "id": "fedeeea5",
   "metadata": {},
   "source": [
    "## Исследовательский анализ данных"
   ]
  },
  {
   "cell_type": "markdown",
   "id": "ebc16784",
   "metadata": {},
   "source": [
    "### Динамика выхода игр по годам"
   ]
  },
  {
   "cell_type": "markdown",
   "id": "f4f78a42",
   "metadata": {},
   "source": [
    "Посмотрим сколько игр выпускалось в разные годы."
   ]
  },
  {
   "cell_type": "code",
   "execution_count": 37,
   "id": "272cc220",
   "metadata": {},
   "outputs": [
    {
     "data": {
      "image/png": "[encoded data removed]",
      "text/plain": [
       "<Figure size 864x432 with 1 Axes>"
      ]
     },
     "metadata": {
      "needs_background": "light"
     },
     "output_type": "display_data"
    }
   ],
   "source": [
    "plt.figure(figsize=(12, 6)) \n",
    "sns.set_style(\"whitegrid\")\n",
    "sns.histplot(data=df, x='year_of_release', bins=37, kde=True, color='teal')\n",
    "plt.title('Динамика выхода игр по годам', fontsize=14)\n",
    "plt.xlabel('Год', fontsize=12)\n",
    "plt.ylabel('Количество игр', fontsize=12)\n",
    "plt.show()"
   ]
  },
  {
   "cell_type": "markdown",
   "id": "d4d3ad8d",
   "metadata": {},
   "source": [
    "Для точного определения пикового года посмотрим количество выпущенных игр в 2008 и 2009 году"
   ]
  },
  {
   "cell_type": "code",
   "execution_count": 38,
   "id": "d218f155",
   "metadata": {},
   "outputs": [
    {
     "data": {
      "text/plain": [
       "1427"
      ]
     },
     "execution_count": 38,
     "metadata": {},
     "output_type": "execute_result"
    }
   ],
   "source": [
    "# количество выпущенных игр в 2008 году\n",
    "df[(df.year_of_release == 2008)]['year_of_release'].count()"
   ]
  },
  {
   "cell_type": "code",
   "execution_count": 39,
   "id": "e05d5cb1",
   "metadata": {},
   "outputs": [
    {
     "data": {
      "text/plain": [
       "1426"
      ]
     },
     "execution_count": 39,
     "metadata": {},
     "output_type": "execute_result"
    }
   ],
   "source": [
    "# количество выпущенных игр в 2009 году\n",
    "df[(df.year_of_release == 2009)]['year_of_release'].count()"
   ]
  },
  {
   "cell_type": "markdown",
   "id": "1e627936",
   "metadata": {},
   "source": [
    "**Вывод**\n",
    "\n",
    "1980 год стал отправной точкой для по-настоящему доступных домашних компьютеров. С этого момента начинается выпуск первых портативных карманных игровых устройств (Nintendo Game & Watch), появляются первые компании по производству компьютерных игр для 8-разрядных домашних компьютеров, компания Data East выпускает первый в мире унифицированный аркадный автомат DECO Cassette System.\n",
    "1983 год стал началом мирового кризиса рынка домашних консолей, широко известный как Кризис индустрии компьютерных игр 1983 года. Кризис продолжался до 1985 года, в результате чего многие компании были вынуждены покинуть рынок. Выбирающие себе игровую платформу игроки находятся в замешательстве. На рынке присутствует большое число разнообразных и несовместимых друг с другом игровых платформ, со своим уникальным в каждом случае набором игр. Таким образом, покупатель испытывал трудности как в выборе платформы, так и в поисках качественных игр для игровых приставок. \n",
    "1990-е годы были ознаменованы заметными инновациями в компьютерных играх. Основными достижениями называют переход от растровой графики к полностью полигональному 3D, снижение популярности аркадных игр и появление нескольких новых жанров - шутер от первого лица, стратегия в реальном времени и MMO. И с этого момента количество выпускаемых игр начинает неуклонно расти вплодь до 2008-2009 года. На графике это видно как быстрые темпы развития от 200 выпускаемых игр за год в 1995 до 1426 игр в 2008 - 2009 году. За 29 лет индуствия компьютерных игр достигла своего пика развития, поскольку наступила эра мобильных устройств и акценты сместились в пользу мобильных приложений и мобильных игр. С этого момента начинается резкий спад интереса инвесторов к рынку консольных игр. С 2009 до 2016 года выпуск компьютерных игр сократился на 280% c 1400 до 500 выпускаемых игр в год.\n",
    "\n",
    "Важны ли данные за все периоды? \n",
    "\n",
    "Я считаю, что нет, так как индустрия компьютерных игр развивалась слишком стремительно. Срок жизни компьютерной игры в среднем 5-7 лет. За это время, если игра и впрямь удалась, у нее появляются подражатели и рынок постепенно начинает размываться. Неудачные же игры отфильтруются естественным отбором. "
   ]
  },
  {
   "cell_type": "markdown",
   "id": "8e2b24ad",
   "metadata": {},
   "source": [
    "### Динамика продаж по платформам за 1980-2016г."
   ]
  },
  {
   "cell_type": "markdown",
   "id": "f8b47b37",
   "metadata": {},
   "source": [
    "Посмотрим на список платформ с общими продажами. Отсортируем список в порядке убывания. "
   ]
  },
  {
   "cell_type": "code",
   "execution_count": 40,
   "id": "923fa7d3",
   "metadata": {},
   "outputs": [
    {
     "data": {
      "text/html": [
       "<div>\n",
       "<style scoped>\n",
       "    .dataframe tbody tr th:only-of-type {\n",
       "        vertical-align: middle;\n",
       "    }\n",
       "\n",
       "    .dataframe tbody tr th {\n",
       "        vertical-align: top;\n",
       "    }\n",
       "\n",
       "    .dataframe thead th {\n",
       "        text-align: right;\n",
       "    }\n",
       "</style>\n",
       "<table border=\"1\" class=\"dataframe\">\n",
       "  <thead>\n",
       "    <tr style=\"text-align: right;\">\n",
       "      <th></th>\n",
       "      <th>platform</th>\n",
       "      <th>total_sales</th>\n",
       "    </tr>\n",
       "  </thead>\n",
       "  <tbody>\n",
       "    <tr>\n",
       "      <th>0</th>\n",
       "      <td>ps2</td>\n",
       "      <td>1043.09</td>\n",
       "    </tr>\n",
       "    <tr>\n",
       "      <th>1</th>\n",
       "      <td>x360</td>\n",
       "      <td>876.36</td>\n",
       "    </tr>\n",
       "    <tr>\n",
       "      <th>2</th>\n",
       "      <td>wii</td>\n",
       "      <td>813.47</td>\n",
       "    </tr>\n",
       "    <tr>\n",
       "      <th>3</th>\n",
       "      <td>ps3</td>\n",
       "      <td>796.75</td>\n",
       "    </tr>\n",
       "    <tr>\n",
       "      <th>4</th>\n",
       "      <td>ds</td>\n",
       "      <td>743.74</td>\n",
       "    </tr>\n",
       "    <tr>\n",
       "      <th>5</th>\n",
       "      <td>ps</td>\n",
       "      <td>686.89</td>\n",
       "    </tr>\n",
       "    <tr>\n",
       "      <th>6</th>\n",
       "      <td>gba</td>\n",
       "      <td>305.27</td>\n",
       "    </tr>\n",
       "    <tr>\n",
       "      <th>7</th>\n",
       "      <td>ps4</td>\n",
       "      <td>265.79</td>\n",
       "    </tr>\n",
       "    <tr>\n",
       "      <th>8</th>\n",
       "      <td>psp</td>\n",
       "      <td>248.77</td>\n",
       "    </tr>\n",
       "    <tr>\n",
       "      <th>9</th>\n",
       "      <td>gb</td>\n",
       "      <td>246.27</td>\n",
       "    </tr>\n",
       "    <tr>\n",
       "      <th>10</th>\n",
       "      <td>nes</td>\n",
       "      <td>245.74</td>\n",
       "    </tr>\n",
       "    <tr>\n",
       "      <th>11</th>\n",
       "      <td>3ds</td>\n",
       "      <td>244.54</td>\n",
       "    </tr>\n",
       "    <tr>\n",
       "      <th>12</th>\n",
       "      <td>xb</td>\n",
       "      <td>243.09</td>\n",
       "    </tr>\n",
       "    <tr>\n",
       "      <th>13</th>\n",
       "      <td>pc</td>\n",
       "      <td>233.88</td>\n",
       "    </tr>\n",
       "    <tr>\n",
       "      <th>14</th>\n",
       "      <td>n64</td>\n",
       "      <td>213.70</td>\n",
       "    </tr>\n",
       "    <tr>\n",
       "      <th>15</th>\n",
       "      <td>snes</td>\n",
       "      <td>196.82</td>\n",
       "    </tr>\n",
       "    <tr>\n",
       "      <th>16</th>\n",
       "      <td>gc</td>\n",
       "      <td>191.60</td>\n",
       "    </tr>\n",
       "    <tr>\n",
       "      <th>17</th>\n",
       "      <td>xone</td>\n",
       "      <td>145.05</td>\n",
       "    </tr>\n",
       "    <tr>\n",
       "      <th>18</th>\n",
       "      <td>2600</td>\n",
       "      <td>85.64</td>\n",
       "    </tr>\n",
       "    <tr>\n",
       "      <th>19</th>\n",
       "      <td>wiiu</td>\n",
       "      <td>76.24</td>\n",
       "    </tr>\n",
       "    <tr>\n",
       "      <th>20</th>\n",
       "      <td>psv</td>\n",
       "      <td>47.38</td>\n",
       "    </tr>\n",
       "    <tr>\n",
       "      <th>21</th>\n",
       "      <td>sat</td>\n",
       "      <td>33.52</td>\n",
       "    </tr>\n",
       "    <tr>\n",
       "      <th>22</th>\n",
       "      <td>gen</td>\n",
       "      <td>27.46</td>\n",
       "    </tr>\n",
       "    <tr>\n",
       "      <th>23</th>\n",
       "      <td>dc</td>\n",
       "      <td>15.68</td>\n",
       "    </tr>\n",
       "    <tr>\n",
       "      <th>24</th>\n",
       "      <td>scd</td>\n",
       "      <td>1.81</td>\n",
       "    </tr>\n",
       "    <tr>\n",
       "      <th>25</th>\n",
       "      <td>ng</td>\n",
       "      <td>1.44</td>\n",
       "    </tr>\n",
       "    <tr>\n",
       "      <th>26</th>\n",
       "      <td>ws</td>\n",
       "      <td>1.42</td>\n",
       "    </tr>\n",
       "    <tr>\n",
       "      <th>27</th>\n",
       "      <td>tg16</td>\n",
       "      <td>0.16</td>\n",
       "    </tr>\n",
       "    <tr>\n",
       "      <th>28</th>\n",
       "      <td>3do</td>\n",
       "      <td>0.10</td>\n",
       "    </tr>\n",
       "    <tr>\n",
       "      <th>29</th>\n",
       "      <td>gg</td>\n",
       "      <td>0.04</td>\n",
       "    </tr>\n",
       "    <tr>\n",
       "      <th>30</th>\n",
       "      <td>pcfx</td>\n",
       "      <td>0.03</td>\n",
       "    </tr>\n",
       "  </tbody>\n",
       "</table>\n",
       "</div>"
      ],
      "text/plain": [
       "   platform  total_sales\n",
       "0       ps2      1043.09\n",
       "1      x360       876.36\n",
       "2       wii       813.47\n",
       "3       ps3       796.75\n",
       "4        ds       743.74\n",
       "5        ps       686.89\n",
       "6       gba       305.27\n",
       "7       ps4       265.79\n",
       "8       psp       248.77\n",
       "9        gb       246.27\n",
       "10      nes       245.74\n",
       "11      3ds       244.54\n",
       "12       xb       243.09\n",
       "13       pc       233.88\n",
       "14      n64       213.70\n",
       "15     snes       196.82\n",
       "16       gc       191.60\n",
       "17     xone       145.05\n",
       "18     2600        85.64\n",
       "19     wiiu        76.24\n",
       "20      psv        47.38\n",
       "21      sat        33.52\n",
       "22      gen        27.46\n",
       "23       dc        15.68\n",
       "24      scd         1.81\n",
       "25       ng         1.44\n",
       "26       ws         1.42\n",
       "27     tg16         0.16\n",
       "28      3do         0.10\n",
       "29       gg         0.04\n",
       "30     pcfx         0.03"
      ]
     },
     "execution_count": 40,
     "metadata": {},
     "output_type": "execute_result"
    }
   ],
   "source": [
    "df.pivot_table(\n",
    "    index='platform', \n",
    "    values='total_sales',\n",
    "    aggfunc='sum'\n",
    ").sort_values(by='total_sales',ascending=False).reset_index()\n"
   ]
  },
  {
   "cell_type": "code",
   "execution_count": 41,
   "id": "c3f158de",
   "metadata": {},
   "outputs": [
    {
     "data": {
      "image/png": "[encoded data removed]",
      "text/plain": [
       "<Figure size 1080x360 with 1 Axes>"
      ]
     },
     "metadata": {},
     "output_type": "display_data"
    }
   ],
   "source": [
    "platform_sales = df.groupby('platform')[['na_sales','eu_sales','jp_sales','other_sales','total_sales']].sum().reset_index()\n",
    "(platform_sales\n",
    ".sort_values(by='total_sales', ascending=False)\n",
    ".plot(x='platform', y=['na_sales','eu_sales','jp_sales','other_sales'],kind='bar',stacked=True,figsize=(15,5),legend=True)\n",
    ".set_title('Продажи по платформам',fontsize=16)\n",
    ")\n",
    "plt.xlabel(\"Платформы\", fontsize=14)\n",
    "plt.ylabel(\"Количество продаж\", fontsize=14)\n",
    "plt.show()"
   ]
  },
  {
   "cell_type": "markdown",
   "id": "145f4abc",
   "metadata": {},
   "source": [
    "Возьмем ТОП-8 платформ, общие объемы продаж которых превышают 250 млн. копий."
   ]
  },
  {
   "cell_type": "code",
   "execution_count": 42,
   "id": "f05d714e",
   "metadata": {},
   "outputs": [
    {
     "data": {
      "text/html": [
       "<div>\n",
       "<style scoped>\n",
       "    .dataframe tbody tr th:only-of-type {\n",
       "        vertical-align: middle;\n",
       "    }\n",
       "\n",
       "    .dataframe tbody tr th {\n",
       "        vertical-align: top;\n",
       "    }\n",
       "\n",
       "    .dataframe thead th {\n",
       "        text-align: right;\n",
       "    }\n",
       "</style>\n",
       "<table border=\"1\" class=\"dataframe\">\n",
       "  <thead>\n",
       "    <tr style=\"text-align: right;\">\n",
       "      <th></th>\n",
       "      <th>platform</th>\n",
       "      <th>total_sales</th>\n",
       "    </tr>\n",
       "  </thead>\n",
       "  <tbody>\n",
       "    <tr>\n",
       "      <th>0</th>\n",
       "      <td>ps2</td>\n",
       "      <td>1043.09</td>\n",
       "    </tr>\n",
       "    <tr>\n",
       "      <th>1</th>\n",
       "      <td>x360</td>\n",
       "      <td>876.36</td>\n",
       "    </tr>\n",
       "    <tr>\n",
       "      <th>2</th>\n",
       "      <td>wii</td>\n",
       "      <td>813.47</td>\n",
       "    </tr>\n",
       "    <tr>\n",
       "      <th>3</th>\n",
       "      <td>ps3</td>\n",
       "      <td>796.75</td>\n",
       "    </tr>\n",
       "    <tr>\n",
       "      <th>4</th>\n",
       "      <td>ds</td>\n",
       "      <td>743.74</td>\n",
       "    </tr>\n",
       "    <tr>\n",
       "      <th>5</th>\n",
       "      <td>ps</td>\n",
       "      <td>686.89</td>\n",
       "    </tr>\n",
       "    <tr>\n",
       "      <th>6</th>\n",
       "      <td>gba</td>\n",
       "      <td>305.27</td>\n",
       "    </tr>\n",
       "    <tr>\n",
       "      <th>7</th>\n",
       "      <td>ps4</td>\n",
       "      <td>265.79</td>\n",
       "    </tr>\n",
       "  </tbody>\n",
       "</table>\n",
       "</div>"
      ],
      "text/plain": [
       "  platform  total_sales\n",
       "0      ps2      1043.09\n",
       "1     x360       876.36\n",
       "2      wii       813.47\n",
       "3      ps3       796.75\n",
       "4       ds       743.74\n",
       "5       ps       686.89\n",
       "6      gba       305.27\n",
       "7      ps4       265.79"
      ]
     },
     "execution_count": 42,
     "metadata": {},
     "output_type": "execute_result"
    }
   ],
   "source": [
    "top_sales_platform = (df\n",
    "                        .pivot_table(index='platform', values='total_sales', aggfunc='sum')\n",
    "                        .sort_values(by='total_sales', ascending=False)\n",
    "                        .reset_index()\n",
    "                        .head(8)\n",
    "                       )\n",
    "# выведем на экран лидеров рейтинга платформ за период с 1980-2016г.\n",
    "top_sales_platform"
   ]
  },
  {
   "cell_type": "markdown",
   "id": "4542add2",
   "metadata": {},
   "source": [
    "Составим список названий лидеров рейтинга платформ для дальнейшей группировки данных датасета по этому списку."
   ]
  },
  {
   "cell_type": "code",
   "execution_count": 43,
   "id": "70fd5248",
   "metadata": {},
   "outputs": [
    {
     "data": {
      "text/plain": [
       "array(['ps2', 'x360', 'wii', 'ps3', 'ds', 'ps', 'gba', 'ps4'],\n",
       "      dtype=object)"
      ]
     },
     "execution_count": 43,
     "metadata": {},
     "output_type": "execute_result"
    }
   ],
   "source": [
    "top_platforms_name = top_sales_platform['platform'].unique()\n",
    "top_platforms_name"
   ]
  },
  {
   "cell_type": "markdown",
   "id": "f5f07c62",
   "metadata": {},
   "source": [
    "Соберем отдельную таблицу с данными только по лидерам рынка."
   ]
  },
  {
   "cell_type": "code",
   "execution_count": 44,
   "id": "5b1b3dd7",
   "metadata": {},
   "outputs": [
    {
     "data": {
      "text/html": [
       "<div>\n",
       "<style scoped>\n",
       "    .dataframe tbody tr th:only-of-type {\n",
       "        vertical-align: middle;\n",
       "    }\n",
       "\n",
       "    .dataframe tbody tr th {\n",
       "        vertical-align: top;\n",
       "    }\n",
       "\n",
       "    .dataframe thead th {\n",
       "        text-align: right;\n",
       "    }\n",
       "</style>\n",
       "<table border=\"1\" class=\"dataframe\">\n",
       "  <thead>\n",
       "    <tr style=\"text-align: right;\">\n",
       "      <th></th>\n",
       "      <th>name</th>\n",
       "      <th>platform</th>\n",
       "      <th>year_of_release</th>\n",
       "      <th>genre</th>\n",
       "      <th>na_sales</th>\n",
       "      <th>eu_sales</th>\n",
       "      <th>jp_sales</th>\n",
       "      <th>other_sales</th>\n",
       "      <th>critic_score</th>\n",
       "      <th>user_score</th>\n",
       "      <th>rating</th>\n",
       "      <th>total_sales</th>\n",
       "      <th>rating_info</th>\n",
       "    </tr>\n",
       "  </thead>\n",
       "  <tbody>\n",
       "    <tr>\n",
       "      <th>15957</th>\n",
       "      <td>Strongest Tokyo University Shogi DS</td>\n",
       "      <td>ds</td>\n",
       "      <td>1985</td>\n",
       "      <td>action</td>\n",
       "      <td>0.00</td>\n",
       "      <td>0.00</td>\n",
       "      <td>0.02</td>\n",
       "      <td>0.00</td>\n",
       "      <td>NaN</td>\n",
       "      <td>NaN</td>\n",
       "      <td>unknown</td>\n",
       "      <td>0.02</td>\n",
       "      <td>Рейтинг неизвестен</td>\n",
       "    </tr>\n",
       "    <tr>\n",
       "      <th>10346</th>\n",
       "      <td>Jupiter Strike</td>\n",
       "      <td>ps</td>\n",
       "      <td>1994</td>\n",
       "      <td>shooter</td>\n",
       "      <td>0.06</td>\n",
       "      <td>0.04</td>\n",
       "      <td>0.00</td>\n",
       "      <td>0.01</td>\n",
       "      <td>NaN</td>\n",
       "      <td>NaN</td>\n",
       "      <td>unknown</td>\n",
       "      <td>0.10</td>\n",
       "      <td>Рейтинг неизвестен</td>\n",
       "    </tr>\n",
       "    <tr>\n",
       "      <th>3489</th>\n",
       "      <td>Theme Park</td>\n",
       "      <td>ps</td>\n",
       "      <td>1994</td>\n",
       "      <td>simulation</td>\n",
       "      <td>0.24</td>\n",
       "      <td>0.16</td>\n",
       "      <td>0.13</td>\n",
       "      <td>0.04</td>\n",
       "      <td>NaN</td>\n",
       "      <td>NaN</td>\n",
       "      <td>unknown</td>\n",
       "      <td>0.53</td>\n",
       "      <td>Рейтинг неизвестен</td>\n",
       "    </tr>\n",
       "    <tr>\n",
       "      <th>7925</th>\n",
       "      <td>ThunderStrike 2</td>\n",
       "      <td>ps</td>\n",
       "      <td>1994</td>\n",
       "      <td>simulation</td>\n",
       "      <td>0.10</td>\n",
       "      <td>0.07</td>\n",
       "      <td>0.00</td>\n",
       "      <td>0.01</td>\n",
       "      <td>NaN</td>\n",
       "      <td>NaN</td>\n",
       "      <td>unknown</td>\n",
       "      <td>0.17</td>\n",
       "      <td>Рейтинг неизвестен</td>\n",
       "    </tr>\n",
       "    <tr>\n",
       "      <th>5511</th>\n",
       "      <td>Parodius</td>\n",
       "      <td>ps</td>\n",
       "      <td>1994</td>\n",
       "      <td>shooter</td>\n",
       "      <td>0.00</td>\n",
       "      <td>0.00</td>\n",
       "      <td>0.31</td>\n",
       "      <td>0.02</td>\n",
       "      <td>NaN</td>\n",
       "      <td>NaN</td>\n",
       "      <td>unknown</td>\n",
       "      <td>0.31</td>\n",
       "      <td>Рейтинг неизвестен</td>\n",
       "    </tr>\n",
       "    <tr>\n",
       "      <th>11463</th>\n",
       "      <td>King's Field (Japan)</td>\n",
       "      <td>ps</td>\n",
       "      <td>1994</td>\n",
       "      <td>role-playing</td>\n",
       "      <td>0.00</td>\n",
       "      <td>0.00</td>\n",
       "      <td>0.08</td>\n",
       "      <td>0.01</td>\n",
       "      <td>NaN</td>\n",
       "      <td>NaN</td>\n",
       "      <td>unknown</td>\n",
       "      <td>0.08</td>\n",
       "      <td>Рейтинг неизвестен</td>\n",
       "    </tr>\n",
       "    <tr>\n",
       "      <th>10037</th>\n",
       "      <td>Primal Rage</td>\n",
       "      <td>ps</td>\n",
       "      <td>1994</td>\n",
       "      <td>fighting</td>\n",
       "      <td>0.06</td>\n",
       "      <td>0.04</td>\n",
       "      <td>0.00</td>\n",
       "      <td>0.01</td>\n",
       "      <td>NaN</td>\n",
       "      <td>NaN</td>\n",
       "      <td>unknown</td>\n",
       "      <td>0.10</td>\n",
       "      <td>Рейтинг неизвестен</td>\n",
       "    </tr>\n",
       "    <tr>\n",
       "      <th>12289</th>\n",
       "      <td>Discworld</td>\n",
       "      <td>ps</td>\n",
       "      <td>1994</td>\n",
       "      <td>adventure</td>\n",
       "      <td>0.04</td>\n",
       "      <td>0.02</td>\n",
       "      <td>0.00</td>\n",
       "      <td>0.00</td>\n",
       "      <td>NaN</td>\n",
       "      <td>NaN</td>\n",
       "      <td>unknown</td>\n",
       "      <td>0.06</td>\n",
       "      <td>Рейтинг неизвестен</td>\n",
       "    </tr>\n",
       "    <tr>\n",
       "      <th>6617</th>\n",
       "      <td>A. IV Evolution: A Ressha de Ikou 4</td>\n",
       "      <td>ps</td>\n",
       "      <td>1994</td>\n",
       "      <td>strategy</td>\n",
       "      <td>0.00</td>\n",
       "      <td>0.00</td>\n",
       "      <td>0.24</td>\n",
       "      <td>0.02</td>\n",
       "      <td>NaN</td>\n",
       "      <td>NaN</td>\n",
       "      <td>unknown</td>\n",
       "      <td>0.24</td>\n",
       "      <td>Рейтинг неизвестен</td>\n",
       "    </tr>\n",
       "    <tr>\n",
       "      <th>4992</th>\n",
       "      <td>ESPN Extreme Games</td>\n",
       "      <td>ps</td>\n",
       "      <td>1994</td>\n",
       "      <td>sports</td>\n",
       "      <td>0.11</td>\n",
       "      <td>0.08</td>\n",
       "      <td>0.17</td>\n",
       "      <td>0.03</td>\n",
       "      <td>NaN</td>\n",
       "      <td>NaN</td>\n",
       "      <td>unknown</td>\n",
       "      <td>0.36</td>\n",
       "      <td>Рейтинг неизвестен</td>\n",
       "    </tr>\n",
       "  </tbody>\n",
       "</table>\n",
       "</div>"
      ],
      "text/plain": [
       "                                      name platform  year_of_release  \\\n",
       "15957  Strongest Tokyo University Shogi DS       ds             1985   \n",
       "10346                       Jupiter Strike       ps             1994   \n",
       "3489                            Theme Park       ps             1994   \n",
       "7925                       ThunderStrike 2       ps             1994   \n",
       "5511                              Parodius       ps             1994   \n",
       "11463                 King's Field (Japan)       ps             1994   \n",
       "10037                          Primal Rage       ps             1994   \n",
       "12289                            Discworld       ps             1994   \n",
       "6617   A. IV Evolution: A Ressha de Ikou 4       ps             1994   \n",
       "4992                    ESPN Extreme Games       ps             1994   \n",
       "\n",
       "              genre  na_sales  eu_sales  jp_sales  other_sales  critic_score  \\\n",
       "15957        action      0.00      0.00      0.02         0.00           NaN   \n",
       "10346       shooter      0.06      0.04      0.00         0.01           NaN   \n",
       "3489     simulation      0.24      0.16      0.13         0.04           NaN   \n",
       "7925     simulation      0.10      0.07      0.00         0.01           NaN   \n",
       "5511        shooter      0.00      0.00      0.31         0.02           NaN   \n",
       "11463  role-playing      0.00      0.00      0.08         0.01           NaN   \n",
       "10037      fighting      0.06      0.04      0.00         0.01           NaN   \n",
       "12289     adventure      0.04      0.02      0.00         0.00           NaN   \n",
       "6617       strategy      0.00      0.00      0.24         0.02           NaN   \n",
       "4992         sports      0.11      0.08      0.17         0.03           NaN   \n",
       "\n",
       "       user_score   rating  total_sales         rating_info  \n",
       "15957         NaN  unknown         0.02  Рейтинг неизвестен  \n",
       "10346         NaN  unknown         0.10  Рейтинг неизвестен  \n",
       "3489          NaN  unknown         0.53  Рейтинг неизвестен  \n",
       "7925          NaN  unknown         0.17  Рейтинг неизвестен  \n",
       "5511          NaN  unknown         0.31  Рейтинг неизвестен  \n",
       "11463         NaN  unknown         0.08  Рейтинг неизвестен  \n",
       "10037         NaN  unknown         0.10  Рейтинг неизвестен  \n",
       "12289         NaN  unknown         0.06  Рейтинг неизвестен  \n",
       "6617          NaN  unknown         0.24  Рейтинг неизвестен  \n",
       "4992          NaN  unknown         0.36  Рейтинг неизвестен  "
      ]
     },
     "execution_count": 44,
     "metadata": {},
     "output_type": "execute_result"
    }
   ],
   "source": [
    "best_sales_platform = df[df['platform'].isin(top_platforms_name)].sort_values('year_of_release')\n",
    "\n",
    "# выведем на экран датасет с данными ТОП-8 платформ  за период с 1980-2016г.\n",
    "best_sales_platform.head(10)"
   ]
  },
  {
   "cell_type": "markdown",
   "id": "6ae57683",
   "metadata": {},
   "source": [
    "Построим гистограмму динамики продаж по платформам-лидерам за период с 1980-2016г."
   ]
  },
  {
   "cell_type": "code",
   "execution_count": 45,
   "id": "147bfbe5",
   "metadata": {},
   "outputs": [
    {
     "data": {
      "image/png": "[encoded data removed]",
      "text/plain": [
       "<Figure size 1152x432 with 1 Axes>"
      ]
     },
     "metadata": {},
     "output_type": "display_data"
    }
   ],
   "source": [
    "(best_sales_platform\n",
    "    .pivot_table(index='year_of_release', columns='platform', values='total_sales', aggfunc='sum')\n",
    "    .plot(grid=True, figsize=(16,6))\n",
    ")\n",
    "plt.title('Динамика продаж ТОП-8 платформам с 1980-2016г.', fontsize=14)\n",
    "plt.xlabel('Год выпуска', fontsize=12)\n",
    "plt.ylabel('Общие продажи, млн. копий', fontsize=12)\n",
    "plt.show()"
   ]
  },
  {
   "cell_type": "markdown",
   "id": "0451ccae",
   "metadata": {},
   "source": [
    "**Вывод**\n",
    "\n",
    "Бесспорные лидеры рынка компьютерных игр - это:\n",
    "\n",
    "       1. PlayStation(платформы: PS, PS2, PS3, PS4 и другие)\n",
    "       2. Nintendo (платформы: Wii, DS, GBA и другие)\n",
    "       3. XBox (платформы: X360, XB, XOne)\n",
    "       \n",
    "График наглядно доказывает,что жизненный цикл платформ длится примерно 7-10 лет с пиком продаж в середине этого цикла, то есть через 3-5 лет после выхода. Судя по графику, компании четко это понимают и поддерживают спрос и интерес к продукции у покупателей выпуском новой версии консоли через непродолжительное время после прохождения пика продаж предыдущей версии. Так примерно каждые 7 лет Playstation выпускает приставку нового поколения и интерес к предыдущей версии начинает угасать.\n",
    "Также на графиках видны три пиковых состояния продаж среди всех платформ за этот период:\n",
    "\n",
    "         1. PS в 1998г\n",
    "         2. PS2 в 2002-2004г.\n",
    "         3. Wii в 2009г.\n",
    "         \n",
    "Начиная с 2010 года продажи проседают более чем на 25%. Рынок компьютерных игр начинает терять свои объемы, так как идет сильное смещение ориентиров в сторону мобильных игр. \n",
    "\n",
    "Учитывая все вышесказанное, считаю актуальным периодом для дальнейшего анализа - данные за 2014- 2016 год. Именно этот период, на мой взгляд, поможет построить прогноз на 2017 год без иллюзий и в соответствии с динамикой изменяющегося мира и рынка."
   ]
  },
  {
   "cell_type": "markdown",
   "id": "4b49de73",
   "metadata": {},
   "source": [
    "### Актуальный период данных"
   ]
  },
  {
   "cell_type": "markdown",
   "id": "f0760dd6",
   "metadata": {},
   "source": [
    "В соответствии с предыдущими выводами, создадим новый датасет с данными, начиная с 2014 года."
   ]
  },
  {
   "cell_type": "code",
   "execution_count": 46,
   "id": "e2ad679b",
   "metadata": {},
   "outputs": [],
   "source": [
    "forecast_data = df.query('year_of_release >= 2014')"
   ]
  },
  {
   "cell_type": "code",
   "execution_count": 47,
   "id": "508e917d",
   "metadata": {},
   "outputs": [
    {
     "data": {
      "text/html": [
       "<div>\n",
       "<style scoped>\n",
       "    .dataframe tbody tr th:only-of-type {\n",
       "        vertical-align: middle;\n",
       "    }\n",
       "\n",
       "    .dataframe tbody tr th {\n",
       "        vertical-align: top;\n",
       "    }\n",
       "\n",
       "    .dataframe thead th {\n",
       "        text-align: right;\n",
       "    }\n",
       "</style>\n",
       "<table border=\"1\" class=\"dataframe\">\n",
       "  <thead>\n",
       "    <tr style=\"text-align: right;\">\n",
       "      <th></th>\n",
       "      <th>name</th>\n",
       "      <th>platform</th>\n",
       "      <th>year_of_release</th>\n",
       "      <th>genre</th>\n",
       "      <th>na_sales</th>\n",
       "      <th>eu_sales</th>\n",
       "      <th>jp_sales</th>\n",
       "      <th>other_sales</th>\n",
       "      <th>critic_score</th>\n",
       "      <th>user_score</th>\n",
       "      <th>rating</th>\n",
       "      <th>total_sales</th>\n",
       "      <th>rating_info</th>\n",
       "    </tr>\n",
       "  </thead>\n",
       "  <tbody>\n",
       "    <tr>\n",
       "      <th>31</th>\n",
       "      <td>Call of Duty: Black Ops 3</td>\n",
       "      <td>ps4</td>\n",
       "      <td>2015</td>\n",
       "      <td>shooter</td>\n",
       "      <td>6.03</td>\n",
       "      <td>5.86</td>\n",
       "      <td>0.36</td>\n",
       "      <td>2.38</td>\n",
       "      <td>NaN</td>\n",
       "      <td>NaN</td>\n",
       "      <td>unknown</td>\n",
       "      <td>12.25</td>\n",
       "      <td>Рейтинг неизвестен</td>\n",
       "    </tr>\n",
       "    <tr>\n",
       "      <th>42</th>\n",
       "      <td>Grand Theft Auto V</td>\n",
       "      <td>ps4</td>\n",
       "      <td>2014</td>\n",
       "      <td>action</td>\n",
       "      <td>3.96</td>\n",
       "      <td>6.31</td>\n",
       "      <td>0.38</td>\n",
       "      <td>1.97</td>\n",
       "      <td>97.0</td>\n",
       "      <td>8.3</td>\n",
       "      <td>m</td>\n",
       "      <td>10.65</td>\n",
       "      <td>Для взрослых</td>\n",
       "    </tr>\n",
       "    <tr>\n",
       "      <th>47</th>\n",
       "      <td>Pokemon Omega Ruby/Pokemon Alpha Sapphire</td>\n",
       "      <td>3ds</td>\n",
       "      <td>2014</td>\n",
       "      <td>role-playing</td>\n",
       "      <td>4.35</td>\n",
       "      <td>3.49</td>\n",
       "      <td>3.10</td>\n",
       "      <td>0.74</td>\n",
       "      <td>NaN</td>\n",
       "      <td>NaN</td>\n",
       "      <td>unknown</td>\n",
       "      <td>10.94</td>\n",
       "      <td>Рейтинг неизвестен</td>\n",
       "    </tr>\n",
       "    <tr>\n",
       "      <th>77</th>\n",
       "      <td>FIFA 16</td>\n",
       "      <td>ps4</td>\n",
       "      <td>2015</td>\n",
       "      <td>sports</td>\n",
       "      <td>1.12</td>\n",
       "      <td>6.12</td>\n",
       "      <td>0.06</td>\n",
       "      <td>1.28</td>\n",
       "      <td>82.0</td>\n",
       "      <td>4.3</td>\n",
       "      <td>e</td>\n",
       "      <td>7.30</td>\n",
       "      <td>Для всех</td>\n",
       "    </tr>\n",
       "    <tr>\n",
       "      <th>87</th>\n",
       "      <td>Star Wars Battlefront (2015)</td>\n",
       "      <td>ps4</td>\n",
       "      <td>2015</td>\n",
       "      <td>shooter</td>\n",
       "      <td>2.99</td>\n",
       "      <td>3.49</td>\n",
       "      <td>0.22</td>\n",
       "      <td>1.28</td>\n",
       "      <td>NaN</td>\n",
       "      <td>NaN</td>\n",
       "      <td>unknown</td>\n",
       "      <td>6.70</td>\n",
       "      <td>Рейтинг неизвестен</td>\n",
       "    </tr>\n",
       "  </tbody>\n",
       "</table>\n",
       "</div>"
      ],
      "text/plain": [
       "                                         name platform  year_of_release  \\\n",
       "31                  Call of Duty: Black Ops 3      ps4             2015   \n",
       "42                         Grand Theft Auto V      ps4             2014   \n",
       "47  Pokemon Omega Ruby/Pokemon Alpha Sapphire      3ds             2014   \n",
       "77                                    FIFA 16      ps4             2015   \n",
       "87               Star Wars Battlefront (2015)      ps4             2015   \n",
       "\n",
       "           genre  na_sales  eu_sales  jp_sales  other_sales  critic_score  \\\n",
       "31       shooter      6.03      5.86      0.36         2.38           NaN   \n",
       "42        action      3.96      6.31      0.38         1.97          97.0   \n",
       "47  role-playing      4.35      3.49      3.10         0.74           NaN   \n",
       "77        sports      1.12      6.12      0.06         1.28          82.0   \n",
       "87       shooter      2.99      3.49      0.22         1.28           NaN   \n",
       "\n",
       "    user_score   rating  total_sales         rating_info  \n",
       "31         NaN  unknown        12.25  Рейтинг неизвестен  \n",
       "42         8.3        m        10.65        Для взрослых  \n",
       "47         NaN  unknown        10.94  Рейтинг неизвестен  \n",
       "77         4.3        e         7.30            Для всех  \n",
       "87         NaN  unknown         6.70  Рейтинг неизвестен  "
      ]
     },
     "execution_count": 47,
     "metadata": {},
     "output_type": "execute_result"
    }
   ],
   "source": [
    "# выведем датасет с данными за 2014-2016г.\n",
    "forecast_data.head()"
   ]
  },
  {
   "cell_type": "markdown",
   "id": "bc712aee",
   "metadata": {},
   "source": [
    "Посмотрим на динамику продаж по платформам за 2014-2016 год."
   ]
  },
  {
   "cell_type": "code",
   "execution_count": 48,
   "id": "077cc46d",
   "metadata": {},
   "outputs": [
    {
     "data": {
      "text/html": [
       "<div>\n",
       "<style scoped>\n",
       "    .dataframe tbody tr th:only-of-type {\n",
       "        vertical-align: middle;\n",
       "    }\n",
       "\n",
       "    .dataframe tbody tr th {\n",
       "        vertical-align: top;\n",
       "    }\n",
       "\n",
       "    .dataframe thead th {\n",
       "        text-align: right;\n",
       "    }\n",
       "</style>\n",
       "<table border=\"1\" class=\"dataframe\">\n",
       "  <thead>\n",
       "    <tr style=\"text-align: right;\">\n",
       "      <th></th>\n",
       "      <th>platform</th>\n",
       "      <th>total_sales</th>\n",
       "    </tr>\n",
       "  </thead>\n",
       "  <tbody>\n",
       "    <tr>\n",
       "      <th>0</th>\n",
       "      <td>ps4</td>\n",
       "      <td>243.67</td>\n",
       "    </tr>\n",
       "    <tr>\n",
       "      <th>1</th>\n",
       "      <td>xone</td>\n",
       "      <td>127.84</td>\n",
       "    </tr>\n",
       "    <tr>\n",
       "      <th>2</th>\n",
       "      <td>3ds</td>\n",
       "      <td>83.00</td>\n",
       "    </tr>\n",
       "    <tr>\n",
       "      <th>3</th>\n",
       "      <td>ps3</td>\n",
       "      <td>58.81</td>\n",
       "    </tr>\n",
       "    <tr>\n",
       "      <th>4</th>\n",
       "      <td>x360</td>\n",
       "      <td>43.87</td>\n",
       "    </tr>\n",
       "    <tr>\n",
       "      <th>5</th>\n",
       "      <td>wiiu</td>\n",
       "      <td>39.82</td>\n",
       "    </tr>\n",
       "    <tr>\n",
       "      <th>6</th>\n",
       "      <td>pc</td>\n",
       "      <td>25.20</td>\n",
       "    </tr>\n",
       "    <tr>\n",
       "      <th>7</th>\n",
       "      <td>psv</td>\n",
       "      <td>20.59</td>\n",
       "    </tr>\n",
       "    <tr>\n",
       "      <th>8</th>\n",
       "      <td>wii</td>\n",
       "      <td>4.67</td>\n",
       "    </tr>\n",
       "    <tr>\n",
       "      <th>9</th>\n",
       "      <td>psp</td>\n",
       "      <td>0.36</td>\n",
       "    </tr>\n",
       "  </tbody>\n",
       "</table>\n",
       "</div>"
      ],
      "text/plain": [
       "  platform  total_sales\n",
       "0      ps4       243.67\n",
       "1     xone       127.84\n",
       "2      3ds        83.00\n",
       "3      ps3        58.81\n",
       "4     x360        43.87\n",
       "5     wiiu        39.82\n",
       "6       pc        25.20\n",
       "7      psv        20.59\n",
       "8      wii         4.67\n",
       "9      psp         0.36"
      ]
     },
     "execution_count": 48,
     "metadata": {},
     "output_type": "execute_result"
    }
   ],
   "source": [
    "forecast_data.groupby('platform')['total_sales'].sum().sort_values(ascending=False).reset_index()"
   ]
  },
  {
   "cell_type": "markdown",
   "id": "7ebd487e",
   "metadata": {},
   "source": [
    "Лидеры рынка изменили названия платформ, сменив предыдущее поколение, но это все теже атланты - PlayStation, XBox и Nintendo."
   ]
  },
  {
   "cell_type": "markdown",
   "id": "67909b30",
   "metadata": {},
   "source": [
    "### Динамика продаж по платформам за 2014-2016г."
   ]
  },
  {
   "cell_type": "markdown",
   "id": "081eefb3",
   "metadata": {},
   "source": [
    "Составим список платформ для формирования датасета с данными за актуальный период (2014-2016г.) по этим платформам."
   ]
  },
  {
   "cell_type": "code",
   "execution_count": 49,
   "id": "462f53ef",
   "metadata": {},
   "outputs": [
    {
     "data": {
      "text/plain": [
       "array(['ps4', '3ds', 'xone', 'wiiu', 'ps3', 'x360', 'pc', 'wii', 'psv',\n",
       "       'psp'], dtype=object)"
      ]
     },
     "execution_count": 49,
     "metadata": {},
     "output_type": "execute_result"
    }
   ],
   "source": [
    "actual_name_of_platform = forecast_data['platform'].unique()\n",
    "\n",
    " # выведем список\n",
    "actual_name_of_platform"
   ]
  },
  {
   "cell_type": "markdown",
   "id": "1d9f4725",
   "metadata": {},
   "source": [
    "Соберем датасет с данными о платформах  за период с 2014-2016г."
   ]
  },
  {
   "cell_type": "code",
   "execution_count": 50,
   "id": "768a676c",
   "metadata": {},
   "outputs": [
    {
     "data": {
      "text/html": [
       "<div>\n",
       "<style scoped>\n",
       "    .dataframe tbody tr th:only-of-type {\n",
       "        vertical-align: middle;\n",
       "    }\n",
       "\n",
       "    .dataframe tbody tr th {\n",
       "        vertical-align: top;\n",
       "    }\n",
       "\n",
       "    .dataframe thead th {\n",
       "        text-align: right;\n",
       "    }\n",
       "</style>\n",
       "<table border=\"1\" class=\"dataframe\">\n",
       "  <thead>\n",
       "    <tr style=\"text-align: right;\">\n",
       "      <th></th>\n",
       "      <th>name</th>\n",
       "      <th>platform</th>\n",
       "      <th>year_of_release</th>\n",
       "      <th>genre</th>\n",
       "      <th>na_sales</th>\n",
       "      <th>eu_sales</th>\n",
       "      <th>jp_sales</th>\n",
       "      <th>other_sales</th>\n",
       "      <th>critic_score</th>\n",
       "      <th>user_score</th>\n",
       "      <th>rating</th>\n",
       "      <th>total_sales</th>\n",
       "      <th>rating_info</th>\n",
       "    </tr>\n",
       "  </thead>\n",
       "  <tbody>\n",
       "    <tr>\n",
       "      <th>5246</th>\n",
       "      <td>Thief (2014)</td>\n",
       "      <td>ps3</td>\n",
       "      <td>2014</td>\n",
       "      <td>action</td>\n",
       "      <td>0.10</td>\n",
       "      <td>0.17</td>\n",
       "      <td>0.02</td>\n",
       "      <td>0.05</td>\n",
       "      <td>NaN</td>\n",
       "      <td>NaN</td>\n",
       "      <td>unknown</td>\n",
       "      <td>0.29</td>\n",
       "      <td>Рейтинг неизвестен</td>\n",
       "    </tr>\n",
       "    <tr>\n",
       "      <th>6628</th>\n",
       "      <td>Just Dance 2015</td>\n",
       "      <td>ps3</td>\n",
       "      <td>2014</td>\n",
       "      <td>misc</td>\n",
       "      <td>0.13</td>\n",
       "      <td>0.08</td>\n",
       "      <td>0.00</td>\n",
       "      <td>0.04</td>\n",
       "      <td>NaN</td>\n",
       "      <td>6.8</td>\n",
       "      <td>e10+</td>\n",
       "      <td>0.21</td>\n",
       "      <td>Для всех от 10 лет и старше</td>\n",
       "    </tr>\n",
       "    <tr>\n",
       "      <th>16294</th>\n",
       "      <td>Adventure Time: The Secret of the Nameless</td>\n",
       "      <td>x360</td>\n",
       "      <td>2014</td>\n",
       "      <td>adventure</td>\n",
       "      <td>0.01</td>\n",
       "      <td>0.00</td>\n",
       "      <td>0.00</td>\n",
       "      <td>0.00</td>\n",
       "      <td>NaN</td>\n",
       "      <td>NaN</td>\n",
       "      <td>unknown</td>\n",
       "      <td>0.01</td>\n",
       "      <td>Рейтинг неизвестен</td>\n",
       "    </tr>\n",
       "    <tr>\n",
       "      <th>6678</th>\n",
       "      <td>Hatsune Miku: Project Diva F 2nd</td>\n",
       "      <td>ps3</td>\n",
       "      <td>2014</td>\n",
       "      <td>misc</td>\n",
       "      <td>0.09</td>\n",
       "      <td>0.03</td>\n",
       "      <td>0.10</td>\n",
       "      <td>0.03</td>\n",
       "      <td>78.0</td>\n",
       "      <td>8.6</td>\n",
       "      <td>t</td>\n",
       "      <td>0.22</td>\n",
       "      <td>Подросткам</td>\n",
       "    </tr>\n",
       "    <tr>\n",
       "      <th>12502</th>\n",
       "      <td>Super Robot Wars OG Saga Masou Kishin F: Coffi...</td>\n",
       "      <td>ps3</td>\n",
       "      <td>2014</td>\n",
       "      <td>strategy</td>\n",
       "      <td>0.00</td>\n",
       "      <td>0.00</td>\n",
       "      <td>0.06</td>\n",
       "      <td>0.00</td>\n",
       "      <td>NaN</td>\n",
       "      <td>NaN</td>\n",
       "      <td>unknown</td>\n",
       "      <td>0.06</td>\n",
       "      <td>Рейтинг неизвестен</td>\n",
       "    </tr>\n",
       "  </tbody>\n",
       "</table>\n",
       "</div>"
      ],
      "text/plain": [
       "                                                    name platform  \\\n",
       "5246                                        Thief (2014)      ps3   \n",
       "6628                                     Just Dance 2015      ps3   \n",
       "16294        Adventure Time: The Secret of the Nameless      x360   \n",
       "6678                    Hatsune Miku: Project Diva F 2nd      ps3   \n",
       "12502  Super Robot Wars OG Saga Masou Kishin F: Coffi...      ps3   \n",
       "\n",
       "       year_of_release      genre  na_sales  eu_sales  jp_sales  other_sales  \\\n",
       "5246              2014     action      0.10      0.17      0.02         0.05   \n",
       "6628              2014       misc      0.13      0.08      0.00         0.04   \n",
       "16294             2014  adventure      0.01      0.00      0.00         0.00   \n",
       "6678              2014       misc      0.09      0.03      0.10         0.03   \n",
       "12502             2014   strategy      0.00      0.00      0.06         0.00   \n",
       "\n",
       "       critic_score  user_score   rating  total_sales  \\\n",
       "5246            NaN         NaN  unknown         0.29   \n",
       "6628            NaN         6.8     e10+         0.21   \n",
       "16294           NaN         NaN  unknown         0.01   \n",
       "6678           78.0         8.6        t         0.22   \n",
       "12502           NaN         NaN  unknown         0.06   \n",
       "\n",
       "                       rating_info  \n",
       "5246            Рейтинг неизвестен  \n",
       "6628   Для всех от 10 лет и старше  \n",
       "16294           Рейтинг неизвестен  \n",
       "6678                    Подросткам  \n",
       "12502           Рейтинг неизвестен  "
      ]
     },
     "execution_count": 50,
     "metadata": {},
     "output_type": "execute_result"
    }
   ],
   "source": [
    "actual_sales_platform = (forecast_data[forecast_data['platform']\n",
    "                        .isin(actual_name_of_platform)]\n",
    "                        .sort_values('year_of_release')\n",
    "                        )\n",
    "\n",
    "# выведем на экран\n",
    "actual_sales_platform.head()"
   ]
  },
  {
   "cell_type": "markdown",
   "id": "40681cf7",
   "metadata": {},
   "source": [
    "Построим гистограмму динамики продаж по платформам за актуальный период с 2014-2016г"
   ]
  },
  {
   "cell_type": "code",
   "execution_count": 51,
   "id": "12301c6a",
   "metadata": {},
   "outputs": [
    {
     "data": {
      "image/png": "[encoded data removed]",
      "text/plain": [
       "<Figure size 864x432 with 1 Axes>"
      ]
     },
     "metadata": {},
     "output_type": "display_data"
    }
   ],
   "source": [
    "(actual_sales_platform\n",
    "    .pivot_table(index='year_of_release', columns='platform', values='total_sales', aggfunc='sum')\n",
    "    .plot(grid=True, figsize=(12, 6))\n",
    ")\n",
    "plt.title('Динамика продаж по платформам с 2014-2016г.', fontsize=14)\n",
    "plt.xlabel('Год выпуска', fontsize=12)\n",
    "plt.ylabel('Общие продажи, млн. копий', fontsize=12)\n",
    "plt.locator_params(axis=\"both\", integer=True) \n",
    "plt.show()"
   ]
  },
  {
   "cell_type": "markdown",
   "id": "f444cf36",
   "metadata": {},
   "source": [
    "**Вывод** \n",
    "\n",
    "На графике видно, что самыми потенциально прибыльными платформами являются непосредственные новинки рынка, только что выпущенные - PS4 и XOne. В тройку лидеров также входит: 3DS(Nintendo). А предыдущие версии новинок - PS3 и X360 - потихонечку уходят в тень новинок. Да и в общем остальные платформы платформы заметно теряют рынок, предварительно пройдя свой пик продаж и к 2016 году сведя продажи к историческому минимуму. Именно поэтому при расчетах сделать ставку на потенциально прибыльный продукт и спланировать рекламные компании на 2017 год стоит рассмотреть именно тройку лидеров. "
   ]
  },
  {
   "cell_type": "markdown",
   "id": "3fb59a7e",
   "metadata": {},
   "source": [
    "### Диаграммы размаха "
   ]
  },
  {
   "cell_type": "markdown",
   "id": "8ab6e6b3",
   "metadata": {},
   "source": [
    "Построим диаграмму размаха по глобальным продажам игр в ТОП-3 платформ: PS4, XOne и 3DS."
   ]
  },
  {
   "cell_type": "code",
   "execution_count": 52,
   "id": "e6bfb6be",
   "metadata": {},
   "outputs": [],
   "source": [
    "# список ТОП-5 потенциально прибыльных платформ\n",
    "perspective_platforms_name = ['ps4', '3ds','xone']"
   ]
  },
  {
   "cell_type": "markdown",
   "id": "80d113d0",
   "metadata": {},
   "source": [
    "Соберем датасет по ТОП-3 потенциально прибыльными платформами с данными за актуальный период 2014-2016г."
   ]
  },
  {
   "cell_type": "code",
   "execution_count": 53,
   "id": "f1a3bbc4",
   "metadata": {},
   "outputs": [
    {
     "data": {
      "text/html": [
       "<div>\n",
       "<style scoped>\n",
       "    .dataframe tbody tr th:only-of-type {\n",
       "        vertical-align: middle;\n",
       "    }\n",
       "\n",
       "    .dataframe tbody tr th {\n",
       "        vertical-align: top;\n",
       "    }\n",
       "\n",
       "    .dataframe thead th {\n",
       "        text-align: right;\n",
       "    }\n",
       "</style>\n",
       "<table border=\"1\" class=\"dataframe\">\n",
       "  <thead>\n",
       "    <tr style=\"text-align: right;\">\n",
       "      <th></th>\n",
       "      <th>name</th>\n",
       "      <th>platform</th>\n",
       "      <th>year_of_release</th>\n",
       "      <th>genre</th>\n",
       "      <th>na_sales</th>\n",
       "      <th>eu_sales</th>\n",
       "      <th>jp_sales</th>\n",
       "      <th>other_sales</th>\n",
       "      <th>critic_score</th>\n",
       "      <th>user_score</th>\n",
       "      <th>rating</th>\n",
       "      <th>total_sales</th>\n",
       "      <th>rating_info</th>\n",
       "    </tr>\n",
       "  </thead>\n",
       "  <tbody>\n",
       "    <tr>\n",
       "      <th>31</th>\n",
       "      <td>Call of Duty: Black Ops 3</td>\n",
       "      <td>ps4</td>\n",
       "      <td>2015</td>\n",
       "      <td>shooter</td>\n",
       "      <td>6.03</td>\n",
       "      <td>5.86</td>\n",
       "      <td>0.36</td>\n",
       "      <td>2.38</td>\n",
       "      <td>NaN</td>\n",
       "      <td>NaN</td>\n",
       "      <td>unknown</td>\n",
       "      <td>12.25</td>\n",
       "      <td>Рейтинг неизвестен</td>\n",
       "    </tr>\n",
       "    <tr>\n",
       "      <th>42</th>\n",
       "      <td>Grand Theft Auto V</td>\n",
       "      <td>ps4</td>\n",
       "      <td>2014</td>\n",
       "      <td>action</td>\n",
       "      <td>3.96</td>\n",
       "      <td>6.31</td>\n",
       "      <td>0.38</td>\n",
       "      <td>1.97</td>\n",
       "      <td>97.0</td>\n",
       "      <td>8.3</td>\n",
       "      <td>m</td>\n",
       "      <td>10.65</td>\n",
       "      <td>Для взрослых</td>\n",
       "    </tr>\n",
       "    <tr>\n",
       "      <th>47</th>\n",
       "      <td>Pokemon Omega Ruby/Pokemon Alpha Sapphire</td>\n",
       "      <td>3ds</td>\n",
       "      <td>2014</td>\n",
       "      <td>role-playing</td>\n",
       "      <td>4.35</td>\n",
       "      <td>3.49</td>\n",
       "      <td>3.10</td>\n",
       "      <td>0.74</td>\n",
       "      <td>NaN</td>\n",
       "      <td>NaN</td>\n",
       "      <td>unknown</td>\n",
       "      <td>10.94</td>\n",
       "      <td>Рейтинг неизвестен</td>\n",
       "    </tr>\n",
       "    <tr>\n",
       "      <th>77</th>\n",
       "      <td>FIFA 16</td>\n",
       "      <td>ps4</td>\n",
       "      <td>2015</td>\n",
       "      <td>sports</td>\n",
       "      <td>1.12</td>\n",
       "      <td>6.12</td>\n",
       "      <td>0.06</td>\n",
       "      <td>1.28</td>\n",
       "      <td>82.0</td>\n",
       "      <td>4.3</td>\n",
       "      <td>e</td>\n",
       "      <td>7.30</td>\n",
       "      <td>Для всех</td>\n",
       "    </tr>\n",
       "    <tr>\n",
       "      <th>87</th>\n",
       "      <td>Star Wars Battlefront (2015)</td>\n",
       "      <td>ps4</td>\n",
       "      <td>2015</td>\n",
       "      <td>shooter</td>\n",
       "      <td>2.99</td>\n",
       "      <td>3.49</td>\n",
       "      <td>0.22</td>\n",
       "      <td>1.28</td>\n",
       "      <td>NaN</td>\n",
       "      <td>NaN</td>\n",
       "      <td>unknown</td>\n",
       "      <td>6.70</td>\n",
       "      <td>Рейтинг неизвестен</td>\n",
       "    </tr>\n",
       "  </tbody>\n",
       "</table>\n",
       "</div>"
      ],
      "text/plain": [
       "                                         name platform  year_of_release  \\\n",
       "31                  Call of Duty: Black Ops 3      ps4             2015   \n",
       "42                         Grand Theft Auto V      ps4             2014   \n",
       "47  Pokemon Omega Ruby/Pokemon Alpha Sapphire      3ds             2014   \n",
       "77                                    FIFA 16      ps4             2015   \n",
       "87               Star Wars Battlefront (2015)      ps4             2015   \n",
       "\n",
       "           genre  na_sales  eu_sales  jp_sales  other_sales  critic_score  \\\n",
       "31       shooter      6.03      5.86      0.36         2.38           NaN   \n",
       "42        action      3.96      6.31      0.38         1.97          97.0   \n",
       "47  role-playing      4.35      3.49      3.10         0.74           NaN   \n",
       "77        sports      1.12      6.12      0.06         1.28          82.0   \n",
       "87       shooter      2.99      3.49      0.22         1.28           NaN   \n",
       "\n",
       "    user_score   rating  total_sales         rating_info  \n",
       "31         NaN  unknown        12.25  Рейтинг неизвестен  \n",
       "42         8.3        m        10.65        Для взрослых  \n",
       "47         NaN  unknown        10.94  Рейтинг неизвестен  \n",
       "77         4.3        e         7.30            Для всех  \n",
       "87         NaN  unknown         6.70  Рейтинг неизвестен  "
      ]
     },
     "execution_count": 53,
     "metadata": {},
     "output_type": "execute_result"
    }
   ],
   "source": [
    "perspective_platforms_data = forecast_data.query('platform in @perspective_platforms_name')\n",
    "\n",
    "# выведем на экран\n",
    "perspective_platforms_data.head()"
   ]
  },
  {
   "cell_type": "markdown",
   "id": "33aad579",
   "metadata": {},
   "source": [
    "Построим диаграмму размаха продаж ТОП-3 платформ за 2014-2016г."
   ]
  },
  {
   "cell_type": "code",
   "execution_count": 54,
   "id": "2b8e9036",
   "metadata": {},
   "outputs": [
    {
     "data": {
      "image/png": "[encoded data removed]",
      "text/plain": [
       "<Figure size 864x576 with 1 Axes>"
      ]
     },
     "metadata": {},
     "output_type": "display_data"
    }
   ],
   "source": [
    "plt.figure(figsize=(12, 8))\n",
    "sns.boxplot(data=perspective_platforms_data, x='total_sales', y='platform')\n",
    "plt.xlim(0, 2)\n",
    "plt.title('Диаграмма размаха  продаж ТОП-3 платформ за 2014-2016г.', fontsize=14)\n",
    "plt.xlabel('Общие продажи, млн. копий', fontsize=12)\n",
    "plt.ylabel(\"ТОП-5 платформ\", fontsize=12)\n",
    "plt.show()"
   ]
  },
  {
   "cell_type": "markdown",
   "id": "7346354b",
   "metadata": {},
   "source": [
    "**Вывод**\n",
    "\n",
    "\n",
    "Диаграммы размаха показывают нам, что медианное значение у платформ различается. При этом самые новые конкурентные платформы XOne и PS4, вышедшие одновременно в 2013 году идут бок о бок по всем параметрам. Данные распределены нормально с существенным положительным смещением."
   ]
  },
  {
   "cell_type": "markdown",
   "id": "b32d9b25",
   "metadata": {},
   "source": [
    "### Влияние оценок на продажи PS4"
   ]
  },
  {
   "cell_type": "markdown",
   "id": "93afe0e8",
   "metadata": {},
   "source": [
    "Посмотрим, как влияют на продажи внутри платформы PS4 (как самой потенциально прибыльной) оценки пользователей и критиков. Построим диаграмму рассеяния и посчитaем корреляцию между оценками и продажами. \n"
   ]
  },
  {
   "cell_type": "markdown",
   "id": "6a060da2",
   "metadata": {},
   "source": [
    "Напишем функцию построения диаграммы рассеяния зависимости продаж на платформе от оценок пользователей, критиков, а также расчета коэффициента корреляции."
   ]
  },
  {
   "cell_type": "code",
   "execution_count": 55,
   "id": "338d7013",
   "metadata": {},
   "outputs": [],
   "source": [
    "def platform_scatterplot(x1, x2, y1, name_platform):\n",
    "    \"\"\"\n",
    "    Функция принимает значение исходного датасета и создает новый датасет по каждой платформе из списка ТОП-5 отдельно,\n",
    "    а затем строит диаграммы рассеяния продаж для этой платформы \n",
    "    в зависимости от оценок пользователей и оценок критиков,\n",
    "    также рассчитывает коэффициент корреляции\n",
    "    \"\"\"\n",
    "    \n",
    "    table_platform = forecast_data[forecast_data['platform'] == name_platform]\n",
    "    plt.figure(figsize=(10,5))\n",
    "    sns.set_style(\"whitegrid\")\n",
    "    sns.scatterplot(data=table_platform, x=x1, y=y1)\n",
    "    plt.title('Диаграмма зависимости продаж от оценок пользователей')\n",
    "    plt.xlabel('Оценки пользователей')\n",
    "    plt.ylabel('Продажи, млн. копий')\n",
    "    plt.show()\n",
    "    user_corr = table_platform[x1].corr(table_platform[y1])                             \n",
    "    print(\"Коэффициент корреляции:\", user_corr)\n",
    "    \n",
    "    plt.figure(figsize=(10,5))\n",
    "    sns.scatterplot(data=table_platform, x=x2, y=y1)\n",
    "    plt.title('Диаграмма зависимости продаж от оценок критиков')\n",
    "    plt.xlabel('Оценки критиков')\n",
    "    plt.ylabel('Продажи, млн. копий')\n",
    "    plt.show()\n",
    "    critic_corr = table_platform[x2].corr(table_platform[y1])                               \n",
    "    print(\"Коэффициент корреляции:\", critic_corr)"
   ]
  },
  {
   "cell_type": "markdown",
   "id": "e284cd51",
   "metadata": {},
   "source": [
    "Построим диаграмму рассеяния и посмотрим есть ли влияние оценок пользователей и критиков на продажи PS4."
   ]
  },
  {
   "cell_type": "code",
   "execution_count": 56,
   "id": "7f80814c",
   "metadata": {},
   "outputs": [
    {
     "data": {
      "image/png": "[encoded data removed]",
      "text/plain": [
       "<Figure size 720x360 with 1 Axes>"
      ]
     },
     "metadata": {},
     "output_type": "display_data"
    },
    {
     "name": "stdout",
     "output_type": "stream",
     "text": [
      "Коэффициент корреляции: -0.039364345213287334\n"
     ]
    },
    {
     "data": {
      "image/png": "[encoded data removed]",
      "text/plain": [
       "<Figure size 720x360 with 1 Axes>"
      ]
     },
     "metadata": {},
     "output_type": "display_data"
    },
    {
     "name": "stdout",
     "output_type": "stream",
     "text": [
      "Коэффициент корреляции: 0.4021203477635432\n"
     ]
    }
   ],
   "source": [
    "platform_scatterplot('user_score', 'critic_score', 'total_sales', \"ps4\")"
   ]
  },
  {
   "cell_type": "markdown",
   "id": "db775224",
   "metadata": {},
   "source": [
    "**Вывод**\n",
    "\n",
    "Зависимости между оценками пользователей и продажи PS4 нет. Коэффициент корреляции крайне низкий = -0.04\n",
    "\n",
    "При этом небольшая зависимость между оценками критиков и продажами все же прослеживается. Коэффициент корреляции средний = 0.4"
   ]
  },
  {
   "cell_type": "markdown",
   "id": "23c43e8d",
   "metadata": {},
   "source": [
    "### Влияние оценок на продажи других платформ"
   ]
  },
  {
   "cell_type": "markdown",
   "id": "1ea9daa2",
   "metadata": {},
   "source": [
    "Посмотрим влияют ли оценки пользователей и критиков на продажи остальных платформ из списка потенциально прибыльных. Соотнесем выводы о влиянии оценок на продажи этих платформ с вывода о влиянии оценок на продажи PS4. "
   ]
  },
  {
   "cell_type": "markdown",
   "id": "4aa09022",
   "metadata": {},
   "source": [
    "Список ТОП-5 платформ по продажам за актуальный период (2014-2016г.) лежит в переменной `perspective_platforms_name`."
   ]
  },
  {
   "cell_type": "code",
   "execution_count": 57,
   "id": "ddd3d0d0",
   "metadata": {},
   "outputs": [
    {
     "data": {
      "text/plain": [
       "['ps4', '3ds', 'xone']"
      ]
     },
     "execution_count": 57,
     "metadata": {},
     "output_type": "execute_result"
    }
   ],
   "source": [
    "perspective_platforms_name"
   ]
  },
  {
   "cell_type": "markdown",
   "id": "eeae13ee",
   "metadata": {},
   "source": [
    "Построим диаграмму рассеяния и посмотрим есть ли влияние оценок пользователей и критиков на продажи XOne."
   ]
  },
  {
   "cell_type": "code",
   "execution_count": 58,
   "id": "b9cf4b9a",
   "metadata": {},
   "outputs": [
    {
     "data": {
      "image/png": "[encoded data removed]",
      "text/plain": [
       "<Figure size 720x360 with 1 Axes>"
      ]
     },
     "metadata": {},
     "output_type": "display_data"
    },
    {
     "name": "stdout",
     "output_type": "stream",
     "text": [
      "Коэффициент корреляции: -0.07039252638189664\n"
     ]
    },
    {
     "data": {
      "image/png": "[encoded data removed]",
      "text/plain": [
       "<Figure size 720x360 with 1 Axes>"
      ]
     },
     "metadata": {},
     "output_type": "display_data"
    },
    {
     "name": "stdout",
     "output_type": "stream",
     "text": [
      "Коэффициент корреляции: 0.4286498963779636\n"
     ]
    }
   ],
   "source": [
    "platform_scatterplot('user_score', 'critic_score', 'total_sales', \"xone\")"
   ]
  },
  {
   "cell_type": "markdown",
   "id": "94da5fda",
   "metadata": {},
   "source": [
    "Построим диаграмму рассеяния и посмотрим есть ли влияние оценок пользователей и критиков на продажи 3DS."
   ]
  },
  {
   "cell_type": "code",
   "execution_count": 59,
   "id": "9c7674d8",
   "metadata": {},
   "outputs": [
    {
     "data": {
      "image/png": "[encoded data removed]",
      "text/plain": [
       "<Figure size 720x360 with 1 Axes>"
      ]
     },
     "metadata": {},
     "output_type": "display_data"
    },
    {
     "name": "stdout",
     "output_type": "stream",
     "text": [
      "Коэффициент корреляции: 0.21461640035191554\n"
     ]
    },
    {
     "data": {
      "image/png": "[encoded data removed]",
      "text/plain": [
       "<Figure size 720x360 with 1 Axes>"
      ]
     },
     "metadata": {},
     "output_type": "display_data"
    },
    {
     "name": "stdout",
     "output_type": "stream",
     "text": [
      "Коэффициент корреляции: 0.3117520311601232\n"
     ]
    }
   ],
   "source": [
    "platform_scatterplot('user_score', 'critic_score', 'total_sales', \"3ds\")"
   ]
  },
  {
   "cell_type": "markdown",
   "id": "3f77d5be",
   "metadata": {},
   "source": [
    "**Вывод**\n",
    "\n",
    "Диаграммы по остальным платформам из списка ТОП-3 потенциально прибыльных показали, что выводы о линейной зависимости ппродаж от оценок критиков и пользователей, сделанные для отдельно выбранной платформы - PS4 находят подтверждение и по остальным платформам, а именно: нет линейной зависимости между оценками пользователей и продажами, тогда как небольшая зависимость между оценкой критиков и продажами все-таки есть. Коэффициент корреляции средний - 0.4, тем не менее не стоит сбрасывать его со счетов. Возможно, если игра высоко оценена критиками у нее заметно меньше шансов провалиться в продажах. В тройке лидеров выделяется только платформа 3DS, где корреляция между оценками пользователей и продажами хоть и несущественна в целом, тем не менее значительно выше остальных платформ - 0.21."
   ]
  },
  {
   "cell_type": "markdown",
   "id": "f258a6a6",
   "metadata": {},
   "source": [
    "### Динамика продаж по жанрам игр"
   ]
  },
  {
   "cell_type": "markdown",
   "id": "0a09b882",
   "metadata": {},
   "source": [
    "Сгруппируем данные по жанрам и посмотрим лидеров по суммарным продажам игр среди жанров."
   ]
  },
  {
   "cell_type": "code",
   "execution_count": 60,
   "id": "56d1bf15",
   "metadata": {},
   "outputs": [
    {
     "data": {
      "text/html": [
       "<div>\n",
       "<style scoped>\n",
       "    .dataframe tbody tr th:only-of-type {\n",
       "        vertical-align: middle;\n",
       "    }\n",
       "\n",
       "    .dataframe tbody tr th {\n",
       "        vertical-align: top;\n",
       "    }\n",
       "\n",
       "    .dataframe thead th {\n",
       "        text-align: right;\n",
       "    }\n",
       "</style>\n",
       "<table border=\"1\" class=\"dataframe\">\n",
       "  <thead>\n",
       "    <tr style=\"text-align: right;\">\n",
       "      <th></th>\n",
       "      <th>genre</th>\n",
       "      <th>total_sales</th>\n",
       "    </tr>\n",
       "  </thead>\n",
       "  <tbody>\n",
       "    <tr>\n",
       "      <th>0</th>\n",
       "      <td>action</td>\n",
       "      <td>176.79</td>\n",
       "    </tr>\n",
       "    <tr>\n",
       "      <th>1</th>\n",
       "      <td>shooter</td>\n",
       "      <td>149.41</td>\n",
       "    </tr>\n",
       "    <tr>\n",
       "      <th>2</th>\n",
       "      <td>sports</td>\n",
       "      <td>95.12</td>\n",
       "    </tr>\n",
       "    <tr>\n",
       "      <th>3</th>\n",
       "      <td>role-playing</td>\n",
       "      <td>92.80</td>\n",
       "    </tr>\n",
       "    <tr>\n",
       "      <th>4</th>\n",
       "      <td>misc</td>\n",
       "      <td>33.52</td>\n",
       "    </tr>\n",
       "    <tr>\n",
       "      <th>5</th>\n",
       "      <td>fighting</td>\n",
       "      <td>25.49</td>\n",
       "    </tr>\n",
       "    <tr>\n",
       "      <th>6</th>\n",
       "      <td>racing</td>\n",
       "      <td>24.63</td>\n",
       "    </tr>\n",
       "    <tr>\n",
       "      <th>7</th>\n",
       "      <td>platform</td>\n",
       "      <td>16.28</td>\n",
       "    </tr>\n",
       "    <tr>\n",
       "      <th>8</th>\n",
       "      <td>adventure</td>\n",
       "      <td>15.73</td>\n",
       "    </tr>\n",
       "    <tr>\n",
       "      <th>9</th>\n",
       "      <td>simulation</td>\n",
       "      <td>12.24</td>\n",
       "    </tr>\n",
       "    <tr>\n",
       "      <th>10</th>\n",
       "      <td>strategy</td>\n",
       "      <td>3.72</td>\n",
       "    </tr>\n",
       "    <tr>\n",
       "      <th>11</th>\n",
       "      <td>puzzle</td>\n",
       "      <td>2.10</td>\n",
       "    </tr>\n",
       "  </tbody>\n",
       "</table>\n",
       "</div>"
      ],
      "text/plain": [
       "           genre  total_sales\n",
       "0         action       176.79\n",
       "1        shooter       149.41\n",
       "2         sports        95.12\n",
       "3   role-playing        92.80\n",
       "4           misc        33.52\n",
       "5       fighting        25.49\n",
       "6         racing        24.63\n",
       "7       platform        16.28\n",
       "8      adventure        15.73\n",
       "9     simulation        12.24\n",
       "10      strategy         3.72\n",
       "11        puzzle         2.10"
      ]
     },
     "execution_count": 60,
     "metadata": {},
     "output_type": "execute_result"
    }
   ],
   "source": [
    "best_genres = forecast_data.pivot_table(\n",
    "    index='genre', \n",
    "    aggfunc={'total_sales':'sum'}\n",
    ").sort_values(by='total_sales', ascending=False).reset_index()\n",
    "\n",
    "best_genres"
   ]
  },
  {
   "cell_type": "markdown",
   "id": "603c3460",
   "metadata": {},
   "source": [
    "Посмотрим распределение жанров игр в зависимости от объема суммарных продаж на графике."
   ]
  },
  {
   "cell_type": "code",
   "execution_count": 61,
   "id": "1eccfee9",
   "metadata": {},
   "outputs": [
    {
     "data": {
      "image/png": "[encoded data removed]",
      "text/plain": [
       "<Figure size 1296x432 with 1 Axes>"
      ]
     },
     "metadata": {},
     "output_type": "display_data"
    }
   ],
   "source": [
    "plt.figure(figsize=(18, 6))\n",
    "sns.barplot(data = best_genres, x='genre', y=\"total_sales\")\n",
    "plt.title('Динамика суммарных продаж по жанрам игр')\n",
    "plt.xlabel('Жанр игры')\n",
    "plt.ylabel('Общие продажи, млн. копий')\n",
    "plt.show()"
   ]
  },
  {
   "cell_type": "markdown",
   "id": "24a546a7",
   "metadata": {},
   "source": [
    "Посмотрим, какую долю рынка занимают первые два жанра по суммарным продажам: `Action` и `Shooter`."
   ]
  },
  {
   "cell_type": "code",
   "execution_count": 62,
   "id": "04f414d9",
   "metadata": {},
   "outputs": [
    {
     "data": {
      "text/plain": [
       "0.5"
      ]
     },
     "execution_count": 62,
     "metadata": {},
     "output_type": "execute_result"
    }
   ],
   "source": [
    "round((best_genres['total_sales'][:2].sum() / forecast_data['total_sales'].sum()), 2)"
   ]
  },
  {
   "cell_type": "markdown",
   "id": "f43c0938",
   "metadata": {},
   "source": [
    "Но стоит обратить внимание не только на суммарные продажи по жанрам, так как они могут скрывать за высоким продажами определенного жанра множество мелких игр с низкими продажами или, наоборот, за низкими продажами жанра - небольшое количество игр с высокими продажами. Посмотрим на это через призму средней цены игры в каждом жанре."
   ]
  },
  {
   "cell_type": "markdown",
   "id": "ff00be70",
   "metadata": {},
   "source": [
    "Сгруппируем данные по жанрам и посмотрим лидеров по средней цене игр в каждом жанре."
   ]
  },
  {
   "cell_type": "code",
   "execution_count": 63,
   "id": "5ac4a943",
   "metadata": {},
   "outputs": [
    {
     "data": {
      "text/html": [
       "<div>\n",
       "<style scoped>\n",
       "    .dataframe tbody tr th:only-of-type {\n",
       "        vertical-align: middle;\n",
       "    }\n",
       "\n",
       "    .dataframe tbody tr th {\n",
       "        vertical-align: top;\n",
       "    }\n",
       "\n",
       "    .dataframe thead th {\n",
       "        text-align: right;\n",
       "    }\n",
       "</style>\n",
       "<table border=\"1\" class=\"dataframe\">\n",
       "  <thead>\n",
       "    <tr style=\"text-align: right;\">\n",
       "      <th></th>\n",
       "      <th>genre</th>\n",
       "      <th>total_sales</th>\n",
       "    </tr>\n",
       "  </thead>\n",
       "  <tbody>\n",
       "    <tr>\n",
       "      <th>0</th>\n",
       "      <td>shooter</td>\n",
       "      <td>1.167266</td>\n",
       "    </tr>\n",
       "    <tr>\n",
       "      <th>1</th>\n",
       "      <td>sports</td>\n",
       "      <td>0.590807</td>\n",
       "    </tr>\n",
       "    <tr>\n",
       "      <th>2</th>\n",
       "      <td>platform</td>\n",
       "      <td>0.428421</td>\n",
       "    </tr>\n",
       "    <tr>\n",
       "      <th>3</th>\n",
       "      <td>fighting</td>\n",
       "      <td>0.424833</td>\n",
       "    </tr>\n",
       "    <tr>\n",
       "      <th>4</th>\n",
       "      <td>role-playing</td>\n",
       "      <td>0.419910</td>\n",
       "    </tr>\n",
       "    <tr>\n",
       "      <th>5</th>\n",
       "      <td>racing</td>\n",
       "      <td>0.356957</td>\n",
       "    </tr>\n",
       "    <tr>\n",
       "      <th>6</th>\n",
       "      <td>misc</td>\n",
       "      <td>0.296637</td>\n",
       "    </tr>\n",
       "    <tr>\n",
       "      <th>7</th>\n",
       "      <td>action</td>\n",
       "      <td>0.285606</td>\n",
       "    </tr>\n",
       "    <tr>\n",
       "      <th>8</th>\n",
       "      <td>simulation</td>\n",
       "      <td>0.278182</td>\n",
       "    </tr>\n",
       "    <tr>\n",
       "      <th>9</th>\n",
       "      <td>puzzle</td>\n",
       "      <td>0.150000</td>\n",
       "    </tr>\n",
       "    <tr>\n",
       "      <th>10</th>\n",
       "      <td>strategy</td>\n",
       "      <td>0.100541</td>\n",
       "    </tr>\n",
       "    <tr>\n",
       "      <th>11</th>\n",
       "      <td>adventure</td>\n",
       "      <td>0.085027</td>\n",
       "    </tr>\n",
       "  </tbody>\n",
       "</table>\n",
       "</div>"
      ],
      "text/plain": [
       "           genre  total_sales\n",
       "0        shooter     1.167266\n",
       "1         sports     0.590807\n",
       "2       platform     0.428421\n",
       "3       fighting     0.424833\n",
       "4   role-playing     0.419910\n",
       "5         racing     0.356957\n",
       "6           misc     0.296637\n",
       "7         action     0.285606\n",
       "8     simulation     0.278182\n",
       "9         puzzle     0.150000\n",
       "10      strategy     0.100541\n",
       "11     adventure     0.085027"
      ]
     },
     "execution_count": 63,
     "metadata": {},
     "output_type": "execute_result"
    }
   ],
   "source": [
    "best_genres_mean = forecast_data.pivot_table(\n",
    "    index='genre', \n",
    "    aggfunc={'total_sales':'mean'}\n",
    ").sort_values(by='total_sales', ascending=False).reset_index()\n",
    "\n",
    "best_genres_mean"
   ]
  },
  {
   "cell_type": "code",
   "execution_count": 64,
   "id": "66d03990",
   "metadata": {},
   "outputs": [
    {
     "data": {
      "image/png": "[encoded data removed]",
      "text/plain": [
       "<Figure size 1296x432 with 1 Axes>"
      ]
     },
     "metadata": {},
     "output_type": "display_data"
    }
   ],
   "source": [
    "plt.figure(figsize=(18, 6))\n",
    "sns.barplot(data = best_genres_mean, x='genre', y=\"total_sales\")\n",
    "plt.title('Динамика средней цены игры в жанре', fontsize=14)\n",
    "plt.xlabel('Жанр игры', fontsize=12)\n",
    "plt.ylabel('Средняя цена игры', fontsize=12)\n",
    "plt.show()"
   ]
  },
  {
   "cell_type": "markdown",
   "id": "309b5bd8",
   "metadata": {},
   "source": [
    "**Вывод**\n",
    "\n",
    "Безусловный лидер среди жанров по суммарным продажам - это `Action` - жанр игры, где главными составляющими является проверка скорости реакции, координации рук и глаз. На долю этого жанра приходится 27% общих продаж, что составляет 176.79 млн. копий за 2014-2016 г. \n",
    "\n",
    "Но не так уж и сильно отстает от лидера по общему количеству продаж и жанр `Shooter` - \"стрелялки\". На его долю приходится 23% общих продаж, что составляет 149ю41 млн. копий соответственно. \n",
    "\n",
    "Аутсайдер нашего списка жанров - Puzzle - жанр игры, направленный на решение логических задач, требующих от игрока задействования логики, стратегии и интуиции. \n",
    "\n",
    "Но информация о приоритетных жанрах не была бы столь полноценна, если бы мы посмотрели на жанры только с точки зрения суммарных продаж. Именно поэтому мы оценили расстановку сил среди жанров еще и по принципу средней цены игры в каждом жанре. И здесь обнаружились инетересные факты, ускользнувшие от нашего внимания при первом расчете. А именно: самая высокая средняя цены игры именно в жанре `Shooter` и, что самое удивительное_ она в 4 раза выше средней цены в жанре `Action`! И вообще жанр `Action` находится аж на 8 месте рейтинга жанров по средней цене игры. Тройка лидеров представлена: `Shooter`, `Sports`, `Platform`.\n",
    "\n",
    "Как факт нужно принять, что головоловки - удел меньшинства. Большинство покупателей предпочитает в виртуальном мире показать свое физическое превосходство и блеснуть меткостью в динамичных играх, вместо умственного напряжения в интеллектуальных."
   ]
  },
  {
   "cell_type": "markdown",
   "id": "c8b908ae",
   "metadata": {},
   "source": [
    "### Вывод по разделу"
   ]
  },
  {
   "cell_type": "markdown",
   "id": "5e27799f",
   "metadata": {},
   "source": [
    "\n",
    "В рамках проведенного исследовательского анализа данных было выявлено:\n",
    "\n",
    "1. Срок жизни компьютерной игры в среднем 5-7 лет.\n",
    "2. Бесспорные лидеры среди платформ по данным за весь период с 1980-2016г. - это:\n",
    "\n",
    "   1. PlayStation\n",
    "   2. Nintendo \n",
    "   3. XBox \n",
    "   \n",
    "3. Жизненный цикл платформ длится примерно 7-10 лет с пиком продаж через 3-5 лет после выхода.\n",
    "4. Определен актуальный период для дальнейшего анализа - 2014 - 2016 год.\n",
    "5. Определены самые потенциально прибыльные платформы - непосредственные новинки рынка, выпущенные в 2013г. - PS4 и XOne. \n",
    "6. Выявлено, что оценка пользователей не влияет на продажи, тогда как небольшая зависимость между оценкой критиков и продажи все-таки есть.\n",
    "7. Лидеры среди игровых жанров по суммарным продажам - это `Action` и `Shooter`. На их долю приходится 50% всего объема продаж. Аутсайдер среди жанров - `Puzzle`. Лидеры среди игровых жанров по средней цене игры - это `Shooter` и `Sports`."
   ]
  },
  {
   "cell_type": "markdown",
   "id": "7c38a19f",
   "metadata": {},
   "source": [
    "## Составление портрета пользователя каждого региона"
   ]
  },
  {
   "cell_type": "markdown",
   "id": "2bd1d7d1",
   "metadata": {},
   "source": [
    "В этом разделе определим для пользователя каждого региона: Северной Америки, Европы и Японии:\n",
    "\n",
    "1. ТОП-5 самых популярных платформ. Опишим различия в долях продаж.\n",
    "2. ТОП-5 самых популярных  жанры (топ-5). Опишим различия.\n",
    "3. Выясним влияет ли рейтинг ESRB на продажи в отдельном регионе?"
   ]
  },
  {
   "cell_type": "markdown",
   "id": "a20fae5d",
   "metadata": {},
   "source": [
    "### ТОП-5 платформ в каждом регионе"
   ]
  },
  {
   "cell_type": "markdown",
   "id": "c18cd19a",
   "metadata": {},
   "source": [
    "Определим ТОП-5 самых популярных платформ в каждом регионе. Для этого создадим функцию."
   ]
  },
  {
   "cell_type": "code",
   "execution_count": 65,
   "id": "23735579",
   "metadata": {},
   "outputs": [],
   "source": [
    "def top5_platforms_by_region(region):\n",
    "    '''\n",
    "    Функция создает датасет для отдельного региона по суммарным продажам,\n",
    "    выводит на экран ТОП-5 платформ, \n",
    "    добавляет столбец с расчетом доли продаж,\n",
    "    выводит совокупную долю продаж для ТОП-5 платформ и\n",
    "    строит по этим значениям график \n",
    "    '''\n",
    "    platform_by_region = (forecast_data.pivot_table(index='platform', values=region, aggfunc='sum')\n",
    "                          .reset_index()\n",
    "                          .sort_values(by=region, ascending=False)\n",
    "                          .head()\n",
    "                         )\n",
    "\n",
    "    platform_by_region['share_of_sales'] = platform_by_region[region] / forecast_data[region].sum()\n",
    "    \n",
    "    display(platform_by_region)\n",
    "    \n",
    "    print('Совокупная доля продаж ТОП-5 платформ в регионе:', round(platform_by_region['share_of_sales'].sum(), 3))\n",
    "    \n",
    "    plt.figure(figsize=(10,6))\n",
    "    sns.barplot(data=platform_by_region, x='platform', y=region)\n",
    "    plt.title('ТОП-5 платформ в регионе')\n",
    "    plt.xlabel('Платформы')\n",
    "    plt.ylabel('Продажи в данном регионе')\n",
    "    plt.show()"
   ]
  },
  {
   "cell_type": "markdown",
   "id": "71f19217",
   "metadata": {},
   "source": [
    "Посмотрим ТОП-5 самых популярных платформ в Северной Америке."
   ]
  },
  {
   "cell_type": "code",
   "execution_count": 66,
   "id": "77d8d3ee",
   "metadata": {},
   "outputs": [
    {
     "data": {
      "text/html": [
       "<div>\n",
       "<style scoped>\n",
       "    .dataframe tbody tr th:only-of-type {\n",
       "        vertical-align: middle;\n",
       "    }\n",
       "\n",
       "    .dataframe tbody tr th {\n",
       "        vertical-align: top;\n",
       "    }\n",
       "\n",
       "    .dataframe thead th {\n",
       "        text-align: right;\n",
       "    }\n",
       "</style>\n",
       "<table border=\"1\" class=\"dataframe\">\n",
       "  <thead>\n",
       "    <tr style=\"text-align: right;\">\n",
       "      <th></th>\n",
       "      <th>platform</th>\n",
       "      <th>na_sales</th>\n",
       "      <th>share_of_sales</th>\n",
       "    </tr>\n",
       "  </thead>\n",
       "  <tbody>\n",
       "    <tr>\n",
       "      <th>3</th>\n",
       "      <td>ps4</td>\n",
       "      <td>98.61</td>\n",
       "      <td>0.347145</td>\n",
       "    </tr>\n",
       "    <tr>\n",
       "      <th>9</th>\n",
       "      <td>xone</td>\n",
       "      <td>81.27</td>\n",
       "      <td>0.286102</td>\n",
       "    </tr>\n",
       "    <tr>\n",
       "      <th>8</th>\n",
       "      <td>x360</td>\n",
       "      <td>28.30</td>\n",
       "      <td>0.099627</td>\n",
       "    </tr>\n",
       "    <tr>\n",
       "      <th>0</th>\n",
       "      <td>3ds</td>\n",
       "      <td>22.64</td>\n",
       "      <td>0.079701</td>\n",
       "    </tr>\n",
       "    <tr>\n",
       "      <th>2</th>\n",
       "      <td>ps3</td>\n",
       "      <td>22.05</td>\n",
       "      <td>0.077624</td>\n",
       "    </tr>\n",
       "  </tbody>\n",
       "</table>\n",
       "</div>"
      ],
      "text/plain": [
       "  platform  na_sales  share_of_sales\n",
       "3      ps4     98.61        0.347145\n",
       "9     xone     81.27        0.286102\n",
       "8     x360     28.30        0.099627\n",
       "0      3ds     22.64        0.079701\n",
       "2      ps3     22.05        0.077624"
      ]
     },
     "metadata": {},
     "output_type": "display_data"
    },
    {
     "name": "stdout",
     "output_type": "stream",
     "text": [
      "Совокупная доля продаж ТОП-5 платформ в регионе: 0.89\n"
     ]
    },
    {
     "data": {
      "image/png": "[encoded data removed]",
      "text/plain": [
       "<Figure size 720x432 with 1 Axes>"
      ]
     },
     "metadata": {},
     "output_type": "display_data"
    }
   ],
   "source": [
    "top5_platforms_by_region('na_sales')"
   ]
  },
  {
   "cell_type": "markdown",
   "id": "ba1ab211",
   "metadata": {},
   "source": [
    "Посмотрим ТОП-5 самых популярных платформ в Европе."
   ]
  },
  {
   "cell_type": "code",
   "execution_count": 67,
   "id": "c426ad25",
   "metadata": {},
   "outputs": [
    {
     "data": {
      "text/html": [
       "<div>\n",
       "<style scoped>\n",
       "    .dataframe tbody tr th:only-of-type {\n",
       "        vertical-align: middle;\n",
       "    }\n",
       "\n",
       "    .dataframe tbody tr th {\n",
       "        vertical-align: top;\n",
       "    }\n",
       "\n",
       "    .dataframe thead th {\n",
       "        text-align: right;\n",
       "    }\n",
       "</style>\n",
       "<table border=\"1\" class=\"dataframe\">\n",
       "  <thead>\n",
       "    <tr style=\"text-align: right;\">\n",
       "      <th></th>\n",
       "      <th>platform</th>\n",
       "      <th>eu_sales</th>\n",
       "      <th>share_of_sales</th>\n",
       "    </tr>\n",
       "  </thead>\n",
       "  <tbody>\n",
       "    <tr>\n",
       "      <th>3</th>\n",
       "      <td>ps4</td>\n",
       "      <td>130.04</td>\n",
       "      <td>0.480420</td>\n",
       "    </tr>\n",
       "    <tr>\n",
       "      <th>9</th>\n",
       "      <td>xone</td>\n",
       "      <td>46.25</td>\n",
       "      <td>0.170866</td>\n",
       "    </tr>\n",
       "    <tr>\n",
       "      <th>2</th>\n",
       "      <td>ps3</td>\n",
       "      <td>25.54</td>\n",
       "      <td>0.094355</td>\n",
       "    </tr>\n",
       "    <tr>\n",
       "      <th>1</th>\n",
       "      <td>pc</td>\n",
       "      <td>17.97</td>\n",
       "      <td>0.066388</td>\n",
       "    </tr>\n",
       "    <tr>\n",
       "      <th>0</th>\n",
       "      <td>3ds</td>\n",
       "      <td>16.12</td>\n",
       "      <td>0.059554</td>\n",
       "    </tr>\n",
       "  </tbody>\n",
       "</table>\n",
       "</div>"
      ],
      "text/plain": [
       "  platform  eu_sales  share_of_sales\n",
       "3      ps4    130.04        0.480420\n",
       "9     xone     46.25        0.170866\n",
       "2      ps3     25.54        0.094355\n",
       "1       pc     17.97        0.066388\n",
       "0      3ds     16.12        0.059554"
      ]
     },
     "metadata": {},
     "output_type": "display_data"
    },
    {
     "name": "stdout",
     "output_type": "stream",
     "text": [
      "Совокупная доля продаж ТОП-5 платформ в регионе: 0.872\n"
     ]
    },
    {
     "data": {
      "image/png": "[encoded data removed]",
      "text/plain": [
       "<Figure size 720x432 with 1 Axes>"
      ]
     },
     "metadata": {},
     "output_type": "display_data"
    }
   ],
   "source": [
    "top5_platforms_by_region('eu_sales')"
   ]
  },
  {
   "cell_type": "markdown",
   "id": "895e330a",
   "metadata": {},
   "source": [
    "Посмотрим ТОП-5 самых популярных платформ в Японии."
   ]
  },
  {
   "cell_type": "code",
   "execution_count": 68,
   "id": "aa42da25",
   "metadata": {},
   "outputs": [
    {
     "data": {
      "text/html": [
       "<div>\n",
       "<style scoped>\n",
       "    .dataframe tbody tr th:only-of-type {\n",
       "        vertical-align: middle;\n",
       "    }\n",
       "\n",
       "    .dataframe tbody tr th {\n",
       "        vertical-align: top;\n",
       "    }\n",
       "\n",
       "    .dataframe thead th {\n",
       "        text-align: right;\n",
       "    }\n",
       "</style>\n",
       "<table border=\"1\" class=\"dataframe\">\n",
       "  <thead>\n",
       "    <tr style=\"text-align: right;\">\n",
       "      <th></th>\n",
       "      <th>platform</th>\n",
       "      <th>jp_sales</th>\n",
       "      <th>share_of_sales</th>\n",
       "    </tr>\n",
       "  </thead>\n",
       "  <tbody>\n",
       "    <tr>\n",
       "      <th>0</th>\n",
       "      <td>3ds</td>\n",
       "      <td>44.24</td>\n",
       "      <td>0.475239</td>\n",
       "    </tr>\n",
       "    <tr>\n",
       "      <th>3</th>\n",
       "      <td>ps4</td>\n",
       "      <td>15.02</td>\n",
       "      <td>0.161349</td>\n",
       "    </tr>\n",
       "    <tr>\n",
       "      <th>5</th>\n",
       "      <td>psv</td>\n",
       "      <td>14.54</td>\n",
       "      <td>0.156193</td>\n",
       "    </tr>\n",
       "    <tr>\n",
       "      <th>2</th>\n",
       "      <td>ps3</td>\n",
       "      <td>11.22</td>\n",
       "      <td>0.120529</td>\n",
       "    </tr>\n",
       "    <tr>\n",
       "      <th>7</th>\n",
       "      <td>wiiu</td>\n",
       "      <td>7.31</td>\n",
       "      <td>0.078526</td>\n",
       "    </tr>\n",
       "  </tbody>\n",
       "</table>\n",
       "</div>"
      ],
      "text/plain": [
       "  platform  jp_sales  share_of_sales\n",
       "0      3ds     44.24        0.475239\n",
       "3      ps4     15.02        0.161349\n",
       "5      psv     14.54        0.156193\n",
       "2      ps3     11.22        0.120529\n",
       "7     wiiu      7.31        0.078526"
      ]
     },
     "metadata": {},
     "output_type": "display_data"
    },
    {
     "name": "stdout",
     "output_type": "stream",
     "text": [
      "Совокупная доля продаж ТОП-5 платформ в регионе: 0.992\n"
     ]
    },
    {
     "data": {
      "image/png": "[encoded data removed]",
      "text/plain": [
       "<Figure size 720x432 with 1 Axes>"
      ]
     },
     "metadata": {},
     "output_type": "display_data"
    }
   ],
   "source": [
    "top5_platforms_by_region('jp_sales')"
   ]
  },
  {
   "cell_type": "markdown",
   "id": "25f002c6",
   "metadata": {},
   "source": [
    "**Вывод**\n",
    "\n",
    "Данные и графики показывают, что у каждого региона свои любимчики среди платформ.\n",
    "\n",
    "- Для Северной Америки - это: \n",
    "    1. PS4\n",
    "    2. Xone\n",
    "    3. X360\n",
    "    4. 3DS\n",
    "    5. PS3\n",
    "  На долю этих платформ приходится 89% всех продаж в регионе.\n",
    "  \n",
    "- Для Европы - это: \n",
    "    1. PS4 \n",
    "    2. XOne\n",
    "    3. PS3\n",
    "    4. PC\n",
    "    5. 3DS\n",
    "  На долю этих платформ приходится также 78% всех продаж в регионе.\n",
    "  \n",
    "- Для Японии - это: \n",
    "    1. 3DS \n",
    "    2. PS4\n",
    "    3. PS\n",
    "    4. PS3\n",
    "    5. Wiiu\n",
    "  На долю этих платформ приходится также 99% всех продаж в регионе."
   ]
  },
  {
   "cell_type": "markdown",
   "id": "ae8665cb",
   "metadata": {},
   "source": [
    "### ТОП-5 жанров в каждом регионе"
   ]
  },
  {
   "cell_type": "markdown",
   "id": "552bd536",
   "metadata": {},
   "source": [
    "Определим ТОП-5 самых популярных жанров в каждом регионе. Для этого создадим функцию."
   ]
  },
  {
   "cell_type": "code",
   "execution_count": 69,
   "id": "f703b67e",
   "metadata": {},
   "outputs": [],
   "source": [
    "def top5_genres_by_region(region):\n",
    "    '''\n",
    "    Функция создает датасет для отдельного региона по суммарным продажам,\n",
    "    выводит на экран ТОП-5 жанров, \n",
    "    добавляет столбец с расчетом доли продаж,\n",
    "    выводит совокупную долю продаж для ТОП-5 жанров и\n",
    "    строит по этим значениям график \n",
    "    '''\n",
    "    genre_by_region = (forecast_data.pivot_table(index='genre', values=region, aggfunc='sum')\n",
    "                          .reset_index()\n",
    "                          .sort_values(by=region, ascending=False)\n",
    "                          .head()\n",
    "                         )\n",
    "    \n",
    "    genre_by_region['share_of_sales'] = genre_by_region[region] / forecast_data[region].sum()\n",
    "    display(genre_by_region)\n",
    "    \n",
    "    print('Совокупная доля продаж ТОП-5 жанров в регионе:', round(genre_by_region['share_of_sales'][:5].sum(), 3))\n",
    "    \n",
    "    plt.figure(figsize=(10,6))\n",
    "    sns.barplot(data=genre_by_region, x='genre', y=region)\n",
    "    plt.title('ТОП-5 жанров в регионе')\n",
    "    plt.xlabel('Жанры')\n",
    "    plt.ylabel('Продажи в данном регионе')\n",
    "    plt.show()"
   ]
  },
  {
   "cell_type": "markdown",
   "id": "72e65e75",
   "metadata": {},
   "source": [
    "Посмотрим ТОП-5 самых популярных платформ в Северной Америке."
   ]
  },
  {
   "cell_type": "code",
   "execution_count": 70,
   "id": "774adc42",
   "metadata": {},
   "outputs": [
    {
     "data": {
      "text/html": [
       "<div>\n",
       "<style scoped>\n",
       "    .dataframe tbody tr th:only-of-type {\n",
       "        vertical-align: middle;\n",
       "    }\n",
       "\n",
       "    .dataframe tbody tr th {\n",
       "        vertical-align: top;\n",
       "    }\n",
       "\n",
       "    .dataframe thead th {\n",
       "        text-align: right;\n",
       "    }\n",
       "</style>\n",
       "<table border=\"1\" class=\"dataframe\">\n",
       "  <thead>\n",
       "    <tr style=\"text-align: right;\">\n",
       "      <th></th>\n",
       "      <th>genre</th>\n",
       "      <th>na_sales</th>\n",
       "      <th>share_of_sales</th>\n",
       "    </tr>\n",
       "  </thead>\n",
       "  <tbody>\n",
       "    <tr>\n",
       "      <th>8</th>\n",
       "      <td>shooter</td>\n",
       "      <td>79.02</td>\n",
       "      <td>0.278181</td>\n",
       "    </tr>\n",
       "    <tr>\n",
       "      <th>0</th>\n",
       "      <td>action</td>\n",
       "      <td>72.53</td>\n",
       "      <td>0.255333</td>\n",
       "    </tr>\n",
       "    <tr>\n",
       "      <th>10</th>\n",
       "      <td>sports</td>\n",
       "      <td>46.13</td>\n",
       "      <td>0.162395</td>\n",
       "    </tr>\n",
       "    <tr>\n",
       "      <th>7</th>\n",
       "      <td>role-playing</td>\n",
       "      <td>33.47</td>\n",
       "      <td>0.117827</td>\n",
       "    </tr>\n",
       "    <tr>\n",
       "      <th>3</th>\n",
       "      <td>misc</td>\n",
       "      <td>15.05</td>\n",
       "      <td>0.052982</td>\n",
       "    </tr>\n",
       "  </tbody>\n",
       "</table>\n",
       "</div>"
      ],
      "text/plain": [
       "           genre  na_sales  share_of_sales\n",
       "8        shooter     79.02        0.278181\n",
       "0         action     72.53        0.255333\n",
       "10        sports     46.13        0.162395\n",
       "7   role-playing     33.47        0.117827\n",
       "3           misc     15.05        0.052982"
      ]
     },
     "metadata": {},
     "output_type": "display_data"
    },
    {
     "name": "stdout",
     "output_type": "stream",
     "text": [
      "Совокупная доля продаж ТОП-5 жанров в регионе: 0.867\n"
     ]
    },
    {
     "data": {
      "image/png": "[encoded data removed]",
      "text/plain": [
       "<Figure size 720x432 with 1 Axes>"
      ]
     },
     "metadata": {},
     "output_type": "display_data"
    }
   ],
   "source": [
    "top5_genres_by_region('na_sales')"
   ]
  },
  {
   "cell_type": "markdown",
   "id": "96ff72d0",
   "metadata": {},
   "source": [
    "Посмотрим ТОП-5 самых популярных платформ в Европе."
   ]
  },
  {
   "cell_type": "code",
   "execution_count": 71,
   "id": "9d648062",
   "metadata": {},
   "outputs": [
    {
     "data": {
      "text/html": [
       "<div>\n",
       "<style scoped>\n",
       "    .dataframe tbody tr th:only-of-type {\n",
       "        vertical-align: middle;\n",
       "    }\n",
       "\n",
       "    .dataframe tbody tr th {\n",
       "        vertical-align: top;\n",
       "    }\n",
       "\n",
       "    .dataframe thead th {\n",
       "        text-align: right;\n",
       "    }\n",
       "</style>\n",
       "<table border=\"1\" class=\"dataframe\">\n",
       "  <thead>\n",
       "    <tr style=\"text-align: right;\">\n",
       "      <th></th>\n",
       "      <th>genre</th>\n",
       "      <th>eu_sales</th>\n",
       "      <th>share_of_sales</th>\n",
       "    </tr>\n",
       "  </thead>\n",
       "  <tbody>\n",
       "    <tr>\n",
       "      <th>0</th>\n",
       "      <td>action</td>\n",
       "      <td>74.68</td>\n",
       "      <td>0.275898</td>\n",
       "    </tr>\n",
       "    <tr>\n",
       "      <th>8</th>\n",
       "      <td>shooter</td>\n",
       "      <td>65.52</td>\n",
       "      <td>0.242057</td>\n",
       "    </tr>\n",
       "    <tr>\n",
       "      <th>10</th>\n",
       "      <td>sports</td>\n",
       "      <td>45.73</td>\n",
       "      <td>0.168945</td>\n",
       "    </tr>\n",
       "    <tr>\n",
       "      <th>7</th>\n",
       "      <td>role-playing</td>\n",
       "      <td>28.17</td>\n",
       "      <td>0.104071</td>\n",
       "    </tr>\n",
       "    <tr>\n",
       "      <th>6</th>\n",
       "      <td>racing</td>\n",
       "      <td>14.13</td>\n",
       "      <td>0.052202</td>\n",
       "    </tr>\n",
       "  </tbody>\n",
       "</table>\n",
       "</div>"
      ],
      "text/plain": [
       "           genre  eu_sales  share_of_sales\n",
       "0         action     74.68        0.275898\n",
       "8        shooter     65.52        0.242057\n",
       "10        sports     45.73        0.168945\n",
       "7   role-playing     28.17        0.104071\n",
       "6         racing     14.13        0.052202"
      ]
     },
     "metadata": {},
     "output_type": "display_data"
    },
    {
     "name": "stdout",
     "output_type": "stream",
     "text": [
      "Совокупная доля продаж ТОП-5 жанров в регионе: 0.843\n"
     ]
    },
    {
     "data": {
      "image/png": "[encoded data removed]",
      "text/plain": [
       "<Figure size 720x432 with 1 Axes>"
      ]
     },
     "metadata": {},
     "output_type": "display_data"
    }
   ],
   "source": [
    "top5_genres_by_region('eu_sales')"
   ]
  },
  {
   "cell_type": "markdown",
   "id": "a8d12ca2",
   "metadata": {},
   "source": [
    "Посмотрим ТОП-5 самых популярных платформ в Японии."
   ]
  },
  {
   "cell_type": "code",
   "execution_count": 72,
   "id": "537f46c3",
   "metadata": {},
   "outputs": [
    {
     "data": {
      "text/html": [
       "<div>\n",
       "<style scoped>\n",
       "    .dataframe tbody tr th:only-of-type {\n",
       "        vertical-align: middle;\n",
       "    }\n",
       "\n",
       "    .dataframe tbody tr th {\n",
       "        vertical-align: top;\n",
       "    }\n",
       "\n",
       "    .dataframe thead th {\n",
       "        text-align: right;\n",
       "    }\n",
       "</style>\n",
       "<table border=\"1\" class=\"dataframe\">\n",
       "  <thead>\n",
       "    <tr style=\"text-align: right;\">\n",
       "      <th></th>\n",
       "      <th>genre</th>\n",
       "      <th>jp_sales</th>\n",
       "      <th>share_of_sales</th>\n",
       "    </tr>\n",
       "  </thead>\n",
       "  <tbody>\n",
       "    <tr>\n",
       "      <th>7</th>\n",
       "      <td>role-playing</td>\n",
       "      <td>31.16</td>\n",
       "      <td>0.334730</td>\n",
       "    </tr>\n",
       "    <tr>\n",
       "      <th>0</th>\n",
       "      <td>action</td>\n",
       "      <td>29.58</td>\n",
       "      <td>0.317757</td>\n",
       "    </tr>\n",
       "    <tr>\n",
       "      <th>2</th>\n",
       "      <td>fighting</td>\n",
       "      <td>6.37</td>\n",
       "      <td>0.068428</td>\n",
       "    </tr>\n",
       "    <tr>\n",
       "      <th>3</th>\n",
       "      <td>misc</td>\n",
       "      <td>5.61</td>\n",
       "      <td>0.060264</td>\n",
       "    </tr>\n",
       "    <tr>\n",
       "      <th>8</th>\n",
       "      <td>shooter</td>\n",
       "      <td>4.87</td>\n",
       "      <td>0.052315</td>\n",
       "    </tr>\n",
       "  </tbody>\n",
       "</table>\n",
       "</div>"
      ],
      "text/plain": [
       "          genre  jp_sales  share_of_sales\n",
       "7  role-playing     31.16        0.334730\n",
       "0        action     29.58        0.317757\n",
       "2      fighting      6.37        0.068428\n",
       "3          misc      5.61        0.060264\n",
       "8       shooter      4.87        0.052315"
      ]
     },
     "metadata": {},
     "output_type": "display_data"
    },
    {
     "name": "stdout",
     "output_type": "stream",
     "text": [
      "Совокупная доля продаж ТОП-5 жанров в регионе: 0.833\n"
     ]
    },
    {
     "data": {
      "image/png": "[encoded data removed]",
      "text/plain": [
       "<Figure size 720x432 with 1 Axes>"
      ]
     },
     "metadata": {},
     "output_type": "display_data"
    }
   ],
   "source": [
    "top5_genres_by_region('jp_sales')"
   ]
  },
  {
   "cell_type": "markdown",
   "id": "3745e736",
   "metadata": {},
   "source": [
    "**Вывод**\n",
    "\n",
    "В предпочтениях игроков среди жанров игр у Северной Америки и Европы много общего: тройка лидеров абсолютно одинаковая. Тогда как Восток -дело тонкое - у Японии совсем другие вкусы. И только жанр Action можно смело назвать любимчиком всех стран.\n",
    "\n",
    "- Для Северной Америки - ТОП-5 самых популярных жанров, на долю которых приходится 86.7% всех продаж - это: \n",
    "    1. Shooter\n",
    "    2. Action\n",
    "    3. Sports\n",
    "    4. Role-playing\n",
    "    5. Misc \n",
    "  \n",
    "- Для Европы -  ТОП-5 самых популярных жанров, на долю которых приходится 84.3% всех продаж - это: \n",
    "    1. Action\n",
    "    2. Shooter\n",
    "    3. Sports\n",
    "    4. Role-playing\n",
    "    5. Racing\n",
    "  \n",
    "- Для Японии - ТОП-5 самых популярных жанров, на долю которых приходится 83.3% всех продаж - это: \n",
    "    1. Role-playing\n",
    "    2. Action\n",
    "    3. Fighting\n",
    "    4. Misc\n",
    "    5. Shooter"
   ]
  },
  {
   "cell_type": "markdown",
   "id": "1a628a79",
   "metadata": {},
   "source": [
    "### Влияние рейтинга ESRB на продажи"
   ]
  },
  {
   "cell_type": "markdown",
   "id": "bf93eb42",
   "metadata": {},
   "source": [
    "Определим как распределяются продажи в каждом регионе в зависимости от рейтинга ESRB. Для этого создадим функцию."
   ]
  },
  {
   "cell_type": "code",
   "execution_count": 73,
   "id": "128a0b47",
   "metadata": {},
   "outputs": [],
   "source": [
    "def rating_by_region(region):\n",
    "    '''\n",
    "    Функция создает датасет с рейтингом ESBR и \n",
    "    суммарными продажами для отдельного региона,\n",
    "    добавляет столбец с расчетом доли продаж,\n",
    "    '''\n",
    "    rating_region = forecast_data.pivot_table(\n",
    "    index=['rating', 'rating_info'], \n",
    "    values=region, \n",
    "    aggfunc='sum'\n",
    ").reset_index().sort_values(by=region, ascending=False)\n",
    "\n",
    "    rating_region['share_of_sales'] = (rating_region[region] / rating_region[region].sum() * 100).round(2)   \n",
    "    return rating_region"
   ]
  },
  {
   "cell_type": "markdown",
   "id": "78a1198c",
   "metadata": {},
   "source": [
    "Посмотрим как распределяются продажи в зависимости от рейтинга ESRB в Северной Америке."
   ]
  },
  {
   "cell_type": "code",
   "execution_count": 74,
   "id": "4b102924",
   "metadata": {},
   "outputs": [
    {
     "data": {
      "text/html": [
       "<div>\n",
       "<style scoped>\n",
       "    .dataframe tbody tr th:only-of-type {\n",
       "        vertical-align: middle;\n",
       "    }\n",
       "\n",
       "    .dataframe tbody tr th {\n",
       "        vertical-align: top;\n",
       "    }\n",
       "\n",
       "    .dataframe thead th {\n",
       "        text-align: right;\n",
       "    }\n",
       "</style>\n",
       "<table border=\"1\" class=\"dataframe\">\n",
       "  <thead>\n",
       "    <tr style=\"text-align: right;\">\n",
       "      <th></th>\n",
       "      <th>rating</th>\n",
       "      <th>rating_info</th>\n",
       "      <th>na_sales</th>\n",
       "      <th>share_of_sales</th>\n",
       "    </tr>\n",
       "  </thead>\n",
       "  <tbody>\n",
       "    <tr>\n",
       "      <th>2</th>\n",
       "      <td>m</td>\n",
       "      <td>Для взрослых</td>\n",
       "      <td>96.42</td>\n",
       "      <td>33.94</td>\n",
       "    </tr>\n",
       "    <tr>\n",
       "      <th>4</th>\n",
       "      <td>unknown</td>\n",
       "      <td>Рейтинг неизвестен</td>\n",
       "      <td>64.72</td>\n",
       "      <td>22.78</td>\n",
       "    </tr>\n",
       "    <tr>\n",
       "      <th>0</th>\n",
       "      <td>e</td>\n",
       "      <td>Для всех</td>\n",
       "      <td>50.74</td>\n",
       "      <td>17.86</td>\n",
       "    </tr>\n",
       "    <tr>\n",
       "      <th>3</th>\n",
       "      <td>t</td>\n",
       "      <td>Подросткам</td>\n",
       "      <td>38.95</td>\n",
       "      <td>13.71</td>\n",
       "    </tr>\n",
       "    <tr>\n",
       "      <th>1</th>\n",
       "      <td>e10+</td>\n",
       "      <td>Для всех от 10 лет и старше</td>\n",
       "      <td>33.23</td>\n",
       "      <td>11.70</td>\n",
       "    </tr>\n",
       "  </tbody>\n",
       "</table>\n",
       "</div>"
      ],
      "text/plain": [
       "    rating                  rating_info  na_sales  share_of_sales\n",
       "2        m                 Для взрослых     96.42           33.94\n",
       "4  unknown           Рейтинг неизвестен     64.72           22.78\n",
       "0        e                     Для всех     50.74           17.86\n",
       "3        t                   Подросткам     38.95           13.71\n",
       "1     e10+  Для всех от 10 лет и старше     33.23           11.70"
      ]
     },
     "execution_count": 74,
     "metadata": {},
     "output_type": "execute_result"
    }
   ],
   "source": [
    "rating_na = rating_by_region('na_sales')\n",
    "rating_na"
   ]
  },
  {
   "cell_type": "markdown",
   "id": "0a1c6f56",
   "metadata": {},
   "source": [
    "Посмотрим как распределяются продажи в зависимости от рейтинга ESRB в Европе."
   ]
  },
  {
   "cell_type": "code",
   "execution_count": 75,
   "id": "3dc9ee35",
   "metadata": {},
   "outputs": [
    {
     "data": {
      "text/html": [
       "<div>\n",
       "<style scoped>\n",
       "    .dataframe tbody tr th:only-of-type {\n",
       "        vertical-align: middle;\n",
       "    }\n",
       "\n",
       "    .dataframe tbody tr th {\n",
       "        vertical-align: top;\n",
       "    }\n",
       "\n",
       "    .dataframe thead th {\n",
       "        text-align: right;\n",
       "    }\n",
       "</style>\n",
       "<table border=\"1\" class=\"dataframe\">\n",
       "  <thead>\n",
       "    <tr style=\"text-align: right;\">\n",
       "      <th></th>\n",
       "      <th>rating</th>\n",
       "      <th>rating_info</th>\n",
       "      <th>eu_sales</th>\n",
       "      <th>share_of_sales</th>\n",
       "    </tr>\n",
       "  </thead>\n",
       "  <tbody>\n",
       "    <tr>\n",
       "      <th>2</th>\n",
       "      <td>m</td>\n",
       "      <td>Для взрослых</td>\n",
       "      <td>93.44</td>\n",
       "      <td>34.52</td>\n",
       "    </tr>\n",
       "    <tr>\n",
       "      <th>4</th>\n",
       "      <td>unknown</td>\n",
       "      <td>Рейтинг неизвестен</td>\n",
       "      <td>58.95</td>\n",
       "      <td>21.78</td>\n",
       "    </tr>\n",
       "    <tr>\n",
       "      <th>0</th>\n",
       "      <td>e</td>\n",
       "      <td>Для всех</td>\n",
       "      <td>58.06</td>\n",
       "      <td>21.45</td>\n",
       "    </tr>\n",
       "    <tr>\n",
       "      <th>3</th>\n",
       "      <td>t</td>\n",
       "      <td>Подросткам</td>\n",
       "      <td>34.07</td>\n",
       "      <td>12.59</td>\n",
       "    </tr>\n",
       "    <tr>\n",
       "      <th>1</th>\n",
       "      <td>e10+</td>\n",
       "      <td>Для всех от 10 лет и старше</td>\n",
       "      <td>26.16</td>\n",
       "      <td>9.66</td>\n",
       "    </tr>\n",
       "  </tbody>\n",
       "</table>\n",
       "</div>"
      ],
      "text/plain": [
       "    rating                  rating_info  eu_sales  share_of_sales\n",
       "2        m                 Для взрослых     93.44           34.52\n",
       "4  unknown           Рейтинг неизвестен     58.95           21.78\n",
       "0        e                     Для всех     58.06           21.45\n",
       "3        t                   Подросткам     34.07           12.59\n",
       "1     e10+  Для всех от 10 лет и старше     26.16            9.66"
      ]
     },
     "execution_count": 75,
     "metadata": {},
     "output_type": "execute_result"
    }
   ],
   "source": [
    "rating_eu = rating_by_region('eu_sales')\n",
    "rating_eu"
   ]
  },
  {
   "cell_type": "markdown",
   "id": "3d3f7d7a",
   "metadata": {},
   "source": [
    "Посмотрим как распределяются продажи в зависимости от рейтинга ESRB в Японии."
   ]
  },
  {
   "cell_type": "code",
   "execution_count": 76,
   "id": "b5357334",
   "metadata": {},
   "outputs": [
    {
     "data": {
      "text/html": [
       "<div>\n",
       "<style scoped>\n",
       "    .dataframe tbody tr th:only-of-type {\n",
       "        vertical-align: middle;\n",
       "    }\n",
       "\n",
       "    .dataframe tbody tr th {\n",
       "        vertical-align: top;\n",
       "    }\n",
       "\n",
       "    .dataframe thead th {\n",
       "        text-align: right;\n",
       "    }\n",
       "</style>\n",
       "<table border=\"1\" class=\"dataframe\">\n",
       "  <thead>\n",
       "    <tr style=\"text-align: right;\">\n",
       "      <th></th>\n",
       "      <th>rating</th>\n",
       "      <th>rating_info</th>\n",
       "      <th>jp_sales</th>\n",
       "      <th>share_of_sales</th>\n",
       "    </tr>\n",
       "  </thead>\n",
       "  <tbody>\n",
       "    <tr>\n",
       "      <th>4</th>\n",
       "      <td>unknown</td>\n",
       "      <td>Рейтинг неизвестен</td>\n",
       "      <td>56.90</td>\n",
       "      <td>61.12</td>\n",
       "    </tr>\n",
       "    <tr>\n",
       "      <th>3</th>\n",
       "      <td>t</td>\n",
       "      <td>Подросткам</td>\n",
       "      <td>14.78</td>\n",
       "      <td>15.88</td>\n",
       "    </tr>\n",
       "    <tr>\n",
       "      <th>0</th>\n",
       "      <td>e</td>\n",
       "      <td>Для всех</td>\n",
       "      <td>8.94</td>\n",
       "      <td>9.60</td>\n",
       "    </tr>\n",
       "    <tr>\n",
       "      <th>2</th>\n",
       "      <td>m</td>\n",
       "      <td>Для взрослых</td>\n",
       "      <td>8.01</td>\n",
       "      <td>8.60</td>\n",
       "    </tr>\n",
       "    <tr>\n",
       "      <th>1</th>\n",
       "      <td>e10+</td>\n",
       "      <td>Для всех от 10 лет и старше</td>\n",
       "      <td>4.46</td>\n",
       "      <td>4.79</td>\n",
       "    </tr>\n",
       "  </tbody>\n",
       "</table>\n",
       "</div>"
      ],
      "text/plain": [
       "    rating                  rating_info  jp_sales  share_of_sales\n",
       "4  unknown           Рейтинг неизвестен     56.90           61.12\n",
       "3        t                   Подросткам     14.78           15.88\n",
       "0        e                     Для всех      8.94            9.60\n",
       "2        m                 Для взрослых      8.01            8.60\n",
       "1     e10+  Для всех от 10 лет и старше      4.46            4.79"
      ]
     },
     "execution_count": 76,
     "metadata": {},
     "output_type": "execute_result"
    }
   ],
   "source": [
    "rating_jp = rating_by_region('jp_sales')\n",
    "rating_jp"
   ]
  },
  {
   "cell_type": "markdown",
   "id": "bbba11d5",
   "metadata": {},
   "source": [
    "Для большей наглядности построим круговые диаграммы распределения первых 4 рейтингов ESBR, так как доля остальных фактически равна нулю. "
   ]
  },
  {
   "cell_type": "code",
   "execution_count": 77,
   "id": "eff7a0df",
   "metadata": {},
   "outputs": [
    {
     "data": {
      "image/png": "[encoded data removed]",
      "text/plain": [
       "<Figure size 1296x360 with 3 Axes>"
      ]
     },
     "metadata": {},
     "output_type": "display_data"
    }
   ],
   "source": [
    "fig, (ax1, ax2, ax3) = plt.subplots(1, 3, figsize=(18, 5))\n",
    "\n",
    "ax1.pie(rating_na['share_of_sales'], labels=rating_na['rating'], autopct='%0.1f%%', shadow=True, textprops={'fontsize': 16})\n",
    "ax1.set_title('Рейтинг ESBR для Северной Америки', fontsize=18)\n",
    "ax1.set_ylabel('')\n",
    "\n",
    "ax2.pie(rating_eu['share_of_sales'], labels=rating_eu['rating'], autopct='%0.1f%%', shadow=True, textprops={'fontsize': 16})\n",
    "ax2.set_title('Рейтинг ESBR для Европы', fontsize=18)\n",
    "\n",
    "\n",
    "ax3.pie(rating_jp['share_of_sales'], labels=rating_jp['rating'], autopct='%0.1f%%', shadow=True, textprops={'fontsize': 16})\n",
    "ax3.set_title('Рейтинг ESBR для Японии', fontsize=18)\n",
    "\n",
    "plt.show()\n",
    "\n"
   ]
  },
  {
   "cell_type": "markdown",
   "id": "67915e2a",
   "metadata": {},
   "source": [
    "**Вывод**\n",
    "\n",
    "В очередной раз мы убедились, что рынок Японии - это самостийный рынок вкусов и предпочтений, отличающийся от Северной Америки и Европы. \n",
    "\n",
    "В Северной Америке и Европе самые высокие продажи среди игр с рейтингом \"M\" - для взрослых, на их долю приходится 34% всех продаж. При этом 22% всех продаж находятся вне зоны доступа для нас - это рейтинг `unknown`, проставленный нами в качестве метки там, где были пропуски в данных.\n",
    "В Японии же самыми популярными являются игры с рейтингом \"T\"- для подростков и \"E\" - для всех. Их доля на рынке 16% и 10% соответственно. А доля неизвестной части в рейтинге по Японии и вовсе огромна и составляет аж 61%.\n",
    " \n",
    "При этом все выбранные страны абсолютно солидарны в полном отсутствии интереса к играм с рейтингом \"EC\" - для детей младшего возвраста, \"RP\" - рейтинг ожидается и \"AO\" - только для взрослых."
   ]
  },
  {
   "cell_type": "markdown",
   "id": "20449956",
   "metadata": {},
   "source": [
    "## Проверка гипотез"
   ]
  },
  {
   "cell_type": "markdown",
   "id": "b4707c68",
   "metadata": {},
   "source": [
    "В рамках данного проекта необходимо проверить две гипотезы:\n",
    "\n",
    "1. Средние пользовательские рейтинги платформ Xbox One и PC одинаковые.\n",
    "2. Средние пользовательские рейтинги жанров Action и Sports разные.\n"
   ]
  },
  {
   "cell_type": "markdown",
   "id": "c9357e08",
   "metadata": {},
   "source": [
    "### Гипотеза 1"
   ]
  },
  {
   "cell_type": "markdown",
   "id": "856f66df",
   "metadata": {},
   "source": [
    "Для проверки первой гипотезы сформулируем нулевую и альтернативную версию:\n",
    "\n",
    " * Нулевая гипотеза - Средние пользовательские рейтинги платформ Xbox One и PC одинаковые.\n",
    " * Альтернативная гипотеза - Средние пользовательские рейтинги платформ Xbox One и PC разные.\n",
    " \n",
    " Это двусторонняя гипотеза, с нормальным распределением выборочных средних, поэтому проверять будем при помощи t-теста. \n",
    " \n",
    " Зададим alpha на уровне 5%."
   ]
  },
  {
   "cell_type": "markdown",
   "id": "8aab801e",
   "metadata": {},
   "source": [
    "Посмотрим долю пропусков в пользовательских рейтинга."
   ]
  },
  {
   "cell_type": "code",
   "execution_count": 78,
   "id": "c459fa43",
   "metadata": {},
   "outputs": [
    {
     "data": {
      "text/plain": [
       "0.47"
      ]
     },
     "execution_count": 78,
     "metadata": {},
     "output_type": "execute_result"
    }
   ],
   "source": [
    "round(forecast_data['user_score'].isna().mean(), 2)"
   ]
  },
  {
   "cell_type": "markdown",
   "id": "8083ab84",
   "metadata": {},
   "source": [
    "Процент пропусков большой, поэтому создадим выборку данных пользовательских рейтингом по каждой платформе без пропусков. Так как пропущенные значения в данных снижают статистическую мощность при проверке гипотез."
   ]
  },
  {
   "cell_type": "markdown",
   "id": "0972bc39",
   "metadata": {},
   "source": [
    "Создадим датасет по платформе Xone."
   ]
  },
  {
   "cell_type": "code",
   "execution_count": 79,
   "id": "9c3f9c89",
   "metadata": {},
   "outputs": [],
   "source": [
    "xone_data = (\n",
    "    forecast_data[\n",
    "        (forecast_data.user_score.isna() == False) & \n",
    "        (forecast_data.platform == \"xone\")]\n",
    ")"
   ]
  },
  {
   "cell_type": "markdown",
   "id": "3bbf7c5e",
   "metadata": {},
   "source": [
    "Посмотрим среднее и дисперсию пользовательских рейтингов по платформе XOne. Так мы лишний раз проверим правильность выводов ttest."
   ]
  },
  {
   "cell_type": "code",
   "execution_count": 80,
   "id": "83fb0801",
   "metadata": {},
   "outputs": [
    {
     "data": {
      "text/plain": [
       "6.59"
      ]
     },
     "execution_count": 80,
     "metadata": {},
     "output_type": "execute_result"
    }
   ],
   "source": [
    "round(xone_data['user_score'].mean(), 2)"
   ]
  },
  {
   "cell_type": "markdown",
   "id": "85e543b9",
   "metadata": {},
   "source": [
    "Поскольку у нас данные о выборке, то рассчитаем оценку дисперсии по выборке."
   ]
  },
  {
   "cell_type": "code",
   "execution_count": 81,
   "id": "0e6e8b74",
   "metadata": {},
   "outputs": [
    {
     "data": {
      "text/plain": [
       "1.89"
      ]
     },
     "execution_count": 81,
     "metadata": {},
     "output_type": "execute_result"
    }
   ],
   "source": [
    "round(np.var(xone_data['user_score'], ddof=1), 2)"
   ]
  },
  {
   "cell_type": "markdown",
   "id": "53675bf4",
   "metadata": {},
   "source": [
    "Создадим датасет по платформе PC."
   ]
  },
  {
   "cell_type": "code",
   "execution_count": 82,
   "id": "db1cf5a2",
   "metadata": {},
   "outputs": [],
   "source": [
    "pc_data = (forecast_data[\n",
    "               (forecast_data.user_score.isna() == False) & \n",
    "               (forecast_data.platform == \"pc\")]\n",
    "          )"
   ]
  },
  {
   "cell_type": "markdown",
   "id": "41a8a08c",
   "metadata": {},
   "source": [
    "Посмотрим среднее и дисперсию пользовательских рейтингов по платформе PC. Так мы лишний раз проверим правильность выводом ttest."
   ]
  },
  {
   "cell_type": "code",
   "execution_count": 83,
   "id": "a2b0211b",
   "metadata": {},
   "outputs": [
    {
     "data": {
      "text/plain": [
       "6.3"
      ]
     },
     "execution_count": 83,
     "metadata": {},
     "output_type": "execute_result"
    }
   ],
   "source": [
    "round(pc_data['user_score'].mean(), 2)"
   ]
  },
  {
   "cell_type": "markdown",
   "id": "92f6b1d8",
   "metadata": {},
   "source": [
    "Поскольку у нас данные о выборке, то рассчитаем оценку дисперсии по выборке."
   ]
  },
  {
   "cell_type": "code",
   "execution_count": 84,
   "id": "21b260a1",
   "metadata": {},
   "outputs": [
    {
     "data": {
      "text/plain": [
       "2.9"
      ]
     },
     "execution_count": 84,
     "metadata": {},
     "output_type": "execute_result"
    }
   ],
   "source": [
    "round(np.var(pc_data['user_score'], ddof=1), 2)"
   ]
  },
  {
   "cell_type": "markdown",
   "id": "a1a107b1",
   "metadata": {},
   "source": [
    "Проверим гипотезу. Но, поскольку, мы выяснили, что выборочные дисперсии не равны, укажем параметр equel_var=False."
   ]
  },
  {
   "cell_type": "code",
   "execution_count": 85,
   "id": "3d923500",
   "metadata": {},
   "outputs": [
    {
     "name": "stdout",
     "output_type": "stream",
     "text": [
      "p-значение: 0.11601398086668827\n",
      "Не получилось отвергнуть нулевую гипотезу\n"
     ]
    }
   ],
   "source": [
    "alpha = .05\n",
    "\n",
    "results = st.ttest_ind(\n",
    "    xone_data['user_score'], \n",
    "    pc_data['user_score'], equal_var=False)\n",
    "\n",
    "print('p-значение:', results.pvalue)\n",
    "\n",
    "if results.pvalue < alpha:\n",
    "    print(\"Отвергаем нулевую гипотезу\")\n",
    "else:\n",
    "    print(\"Не получилось отвергнуть нулевую гипотезу\") "
   ]
  },
  {
   "cell_type": "markdown",
   "id": "1e455c03",
   "metadata": {},
   "source": [
    "**Вывод** \n",
    "\n",
    "В результате t-теста мы можем сделать вывод о том, что статистически не значимом различии между средними пользовательских рейтингов платформ Xbox One и PC. "
   ]
  },
  {
   "cell_type": "markdown",
   "id": "29cab939",
   "metadata": {},
   "source": [
    "### Гипотеза 2"
   ]
  },
  {
   "cell_type": "markdown",
   "id": "cff84f30",
   "metadata": {},
   "source": [
    "Для проверки второй гипотезы сформулируем нулевую и альтернативную версию:\n",
    "\n",
    " * Нулевая гипотеза - Средние пользовательские рейтинги жанров Action и Sports одинаковые.\n",
    " * Альтернативная гипотеза - Средние пользовательские рейтинги жанров Action и Sports разные.\n",
    " \n",
    " Это двусторонняя гипотеза, с нормальным распределением выборочных средних, поэтому проверять будем при помощи t-теста. \n",
    " \n",
    " Зададим alpha на уровне 5%."
   ]
  },
  {
   "cell_type": "markdown",
   "id": "4de4c6c0",
   "metadata": {},
   "source": [
    "Создадим датасет по жанру Action."
   ]
  },
  {
   "cell_type": "code",
   "execution_count": 86,
   "id": "5af20dce",
   "metadata": {},
   "outputs": [],
   "source": [
    "action_data = (\n",
    "    forecast_data[\n",
    "        (forecast_data.user_score.isna() == False) & \n",
    "        (forecast_data.genre == \"action\")]\n",
    ")"
   ]
  },
  {
   "cell_type": "markdown",
   "id": "fa4dde6d",
   "metadata": {},
   "source": [
    "Создадим датасет по жанру Sports."
   ]
  },
  {
   "cell_type": "code",
   "execution_count": 87,
   "id": "4277fe0e",
   "metadata": {},
   "outputs": [],
   "source": [
    "sports_data = (\n",
    "    forecast_data[\n",
    "        (forecast_data.user_score.isna() == False) & \n",
    "        (forecast_data.genre == \"sports\")]\n",
    ")"
   ]
  },
  {
   "cell_type": "markdown",
   "id": "1b139e2b",
   "metadata": {},
   "source": [
    "Посмотрим отличаются ли дисперсии."
   ]
  },
  {
   "cell_type": "code",
   "execution_count": 88,
   "id": "37202631",
   "metadata": {},
   "outputs": [
    {
     "data": {
      "text/plain": [
       "1.9"
      ]
     },
     "execution_count": 88,
     "metadata": {},
     "output_type": "execute_result"
    }
   ],
   "source": [
    "# расчет дисперсии по жанру Action\n",
    "round(np.var(action_data['user_score'], ddof=1), 2)"
   ]
  },
  {
   "cell_type": "code",
   "execution_count": 89,
   "id": "2da50d83",
   "metadata": {},
   "outputs": [
    {
     "data": {
      "text/plain": [
       "3.45"
      ]
     },
     "execution_count": 89,
     "metadata": {},
     "output_type": "execute_result"
    }
   ],
   "source": [
    "# расчет дисперсии по жанру Sports\n",
    "round(np.var(sports_data['user_score'], ddof=1), 2)"
   ]
  },
  {
   "cell_type": "markdown",
   "id": "a2231bab",
   "metadata": {},
   "source": [
    "Проверим гипотезу. Но, поскольку, мы выяснили, что выборочные дисперсии не равны, укажем параметр equel_var=False."
   ]
  },
  {
   "cell_type": "code",
   "execution_count": 90,
   "id": "475ce3da",
   "metadata": {},
   "outputs": [
    {
     "name": "stdout",
     "output_type": "stream",
     "text": [
      "p-значение: 1.1825550382644557e-14\n",
      "Отвергаем нулевую гипотезу\n"
     ]
    }
   ],
   "source": [
    "alpha = .05\n",
    "\n",
    "results = st.ttest_ind(\n",
    "    action_data['user_score'], \n",
    "    sports_data['user_score'], equal_var=False)\n",
    "\n",
    "print('p-значение:', results.pvalue)\n",
    "\n",
    "if results.pvalue < alpha:\n",
    "    print(\"Отвергаем нулевую гипотезу\")\n",
    "else:\n",
    "    print(\"Не получилось отвергнуть нулевую гипотезу\") "
   ]
  },
  {
   "cell_type": "markdown",
   "id": "701a7995",
   "metadata": {},
   "source": [
    "Посчитаем среднее значение по жанрам Action и Sports."
   ]
  },
  {
   "cell_type": "code",
   "execution_count": 91,
   "id": "ecaef303",
   "metadata": {},
   "outputs": [
    {
     "data": {
      "text/plain": [
       "6.76"
      ]
     },
     "execution_count": 91,
     "metadata": {},
     "output_type": "execute_result"
    }
   ],
   "source": [
    "round(action_data['user_score'].mean(), 2)"
   ]
  },
  {
   "cell_type": "code",
   "execution_count": 92,
   "id": "90e53d1f",
   "metadata": {},
   "outputs": [
    {
     "data": {
      "text/plain": [
       "5.23"
      ]
     },
     "execution_count": 92,
     "metadata": {},
     "output_type": "execute_result"
    }
   ],
   "source": [
    "round(sports_data['user_score'].mean(), 2)"
   ]
  },
  {
   "cell_type": "markdown",
   "id": "114722ce",
   "metadata": {},
   "source": [
    "**Вывод**\n",
    "\n",
    "В результате t-теста мы можем сделать выводы о статистически значимом различии средних пользовательских рейтингов жанра Action и Sports."
   ]
  },
  {
   "cell_type": "markdown",
   "id": "5486e8c4",
   "metadata": {},
   "source": [
    "## Общий вывод"
   ]
  },
  {
   "cell_type": "markdown",
   "id": "b4828af4",
   "metadata": {},
   "source": [
    "В результате проведенного анализа мы выяснили, что рынок компьютерных игр с 1980 года прошел бурный этап технического развития, достиг пика продаж и популярности и вышел на размеренное плато. По всей видимости ожидать подобного всплеска интереса покупателей к компьютерным играм уже не прийдется, так так наступившая эра мобильных устройст постепенно сместила акценты в пользу мобильных приложений и мобильных игр. Именно поэтому в последние годы наблюдается падение интереса инвесторов к рынку консольных игр и смена ориентиров. Поэтому с 2009 до 2016 года выпуск компьютерных игр сократился почти в три раза c 1400 до 500 выпускаемых игр в год. Но, как бы то ни было, это по-прежнему интересный для инвесторов рынок, а регулярно выпускаемые новинки держат планку продаж на достаточно высоком уровне.\n",
    "\n",
    "\n",
    "В процессе обработки данных был определен срок жизни компьютерной игры - это в среднем 5-7 лет. \n",
    "А жизненный цикл платформ длится примерно 7-10 лет с пиком продаж через 3-5 лет после выхода. Лидеры рынка, понимая это, постоянно поддерживают интерес покупателей выпуском новых платформ спустя 5-7 лет.\n",
    "\n",
    "Поскольку индустрия компьютерных игр  равно как и компьютерные технологии развиваются очень стремительно, то для дальнейшего анализа был определен актуальный период - 2014 - 2016 год. \n",
    "\n",
    "Бесспорные лидеры рынка компьютерных игр - это платформы:\n",
    "\n",
    "   1. PlayStation(PS, PS2, PS3, PS4 и другие)\n",
    "   2. XBox (X360, XB, XOne) \n",
    "   3. Nintendo (3DS, Wii, DS, GBA и другие)\n",
    "\n",
    "\n",
    "Начиная с 2013 года борьба за покупателя разворачиваются по сути между двумя атлантами - новинками от самых потенциально прибыльных производителей -  платформами PS4 и XOne. Остальные платформы заметно теряют рынок, предварительно пройдя свой пик продаж и к 2016 году сведя продажи к минимуму. \n",
    "\n",
    "Также мы выяснили, что нет никакой зависимости ппродаж от оценок пользователей, но прослеживается небольшая связь между оценками критиков и продажами. Мнение компетентных критиков некоторым пользователям все-таки интересно.\n",
    "\n",
    "Определили безусловных лидеров среди жанров по суммарным продажам - это Action и Shooter для Америки и европы и Role-playing для Японии, аусайдером стал жанр - Puzzle. Но рейтинг жанров по средней цене игры иначе расставил жанры на пъедестале почета: выведя жанр Shooter на первое место, на втором месте - Sport.\n",
    "\n",
    "Составили портрет пользователя для каждого региона в отдельности:\n",
    "\n",
    "1. Северная Америка предпочитает:\n",
    "\n",
    "   - платформы: PS4, XOne, X360, 3DS, PS3\n",
    "   - жанр игры: Shooter, Action, Sports, Role-playing, Misc\n",
    "   - рейтинг ESBR: M, E, T\n",
    "   \n",
    "  \n",
    "2. Вкусовые предпочтения пользователей из Европы очень схожи с Северной Америкой.\n",
    "   Европа предпочитает: \n",
    "   \n",
    "    - платформы: PS4, XOne, PS3, PC и 3DS\n",
    "    - жанр игры: Action, Shooter, Sports, Role-playing, Racing\n",
    "   - рейтинг ESBR: M, E, T\n",
    " \n",
    "3. Японии очень специфична и в некоторых моментах совсем не похожа на остальные регионы.\n",
    "   Япония предпочитает: \n",
    "   - платформы: 3DS, PS4, PS, PS3 и Wiiu\n",
    "   - жанр игры: Role-playing, Action, Fighting, Misc, Shooter\n",
    "   - рейтинг ESBR: T, E, M\n",
    "   \n",
    "Проверили две гипотезы и выяснили, что:\n",
    "\n",
    "1. Средние пользовательские рейтинги платформ Xbox One и PC статистически значимо не различиются. \n",
    "2. Средние пользовательские рейтинги жанра Action и Sports статистически значимо различаются. \n",
    "\n",
    "Рукомендации:\n",
    "\n",
    "Рынок компьютерных игр своего расцвета уже достиг и прошел. Но здесь еще можно зарабатывать, главное предлагать разработки в исключительно востребованных, годами зарекомендовавшими себя жанрах, в соответствии с предпочтениями по рейтингу и для безусловных лидеров среди платформ - PlayStation, XBox, Nintendo. А проведенный анализ и выводы будут отличным подспорьем.\n"
   ]
  }
 ],
 "metadata": {
  "ExecuteTimeLog": [
   {
    "duration": 1199,
    "start_time": "2022-04-24T13:18:36.828Z"
   },
   {
    "duration": 111,
    "start_time": "2022-04-24T13:18:38.029Z"
   },
   {
    "duration": 0,
    "start_time": "2022-04-24T13:18:38.144Z"
   },
   {
    "duration": 0,
    "start_time": "2022-04-24T13:18:38.146Z"
   },
   {
    "duration": 0,
    "start_time": "2022-04-24T13:18:38.147Z"
   },
   {
    "duration": 0,
    "start_time": "2022-04-24T13:18:38.148Z"
   },
   {
    "duration": 0,
    "start_time": "2022-04-24T13:18:38.149Z"
   },
   {
    "duration": 0,
    "start_time": "2022-04-24T13:18:38.150Z"
   },
   {
    "duration": 0,
    "start_time": "2022-04-24T13:18:38.151Z"
   },
   {
    "duration": 0,
    "start_time": "2022-04-24T13:18:38.151Z"
   },
   {
    "duration": 0,
    "start_time": "2022-04-24T13:18:38.153Z"
   },
   {
    "duration": 0,
    "start_time": "2022-04-24T13:18:38.153Z"
   },
   {
    "duration": 0,
    "start_time": "2022-04-24T13:18:38.154Z"
   },
   {
    "duration": 0,
    "start_time": "2022-04-24T13:18:38.173Z"
   },
   {
    "duration": 0,
    "start_time": "2022-04-24T13:18:38.177Z"
   },
   {
    "duration": 0,
    "start_time": "2022-04-24T13:18:38.178Z"
   },
   {
    "duration": 0,
    "start_time": "2022-04-24T13:18:38.179Z"
   },
   {
    "duration": 0,
    "start_time": "2022-04-24T13:18:38.180Z"
   },
   {
    "duration": 0,
    "start_time": "2022-04-24T13:18:38.181Z"
   },
   {
    "duration": 0,
    "start_time": "2022-04-24T13:18:38.183Z"
   },
   {
    "duration": 0,
    "start_time": "2022-04-24T13:18:38.184Z"
   },
   {
    "duration": 0,
    "start_time": "2022-04-24T13:18:38.185Z"
   },
   {
    "duration": 0,
    "start_time": "2022-04-24T13:18:38.187Z"
   },
   {
    "duration": 0,
    "start_time": "2022-04-24T13:18:38.188Z"
   },
   {
    "duration": 0,
    "start_time": "2022-04-24T13:18:38.189Z"
   },
   {
    "duration": 0,
    "start_time": "2022-04-24T13:18:38.190Z"
   },
   {
    "duration": 0,
    "start_time": "2022-04-24T13:18:38.192Z"
   },
   {
    "duration": 0,
    "start_time": "2022-04-24T13:18:38.193Z"
   },
   {
    "duration": 0,
    "start_time": "2022-04-24T13:18:38.194Z"
   },
   {
    "duration": 0,
    "start_time": "2022-04-24T13:18:38.195Z"
   },
   {
    "duration": 0,
    "start_time": "2022-04-24T13:18:38.196Z"
   },
   {
    "duration": 0,
    "start_time": "2022-04-24T13:18:38.197Z"
   },
   {
    "duration": 0,
    "start_time": "2022-04-24T13:18:38.199Z"
   },
   {
    "duration": 0,
    "start_time": "2022-04-24T13:18:38.200Z"
   },
   {
    "duration": 0,
    "start_time": "2022-04-24T13:18:38.201Z"
   },
   {
    "duration": 1,
    "start_time": "2022-04-24T13:18:38.201Z"
   },
   {
    "duration": 0,
    "start_time": "2022-04-24T13:18:38.203Z"
   },
   {
    "duration": 0,
    "start_time": "2022-04-24T13:18:38.204Z"
   },
   {
    "duration": 0,
    "start_time": "2022-04-24T13:18:38.205Z"
   },
   {
    "duration": 0,
    "start_time": "2022-04-24T13:18:38.206Z"
   },
   {
    "duration": 0,
    "start_time": "2022-04-24T13:18:38.207Z"
   },
   {
    "duration": 0,
    "start_time": "2022-04-24T13:18:38.208Z"
   },
   {
    "duration": 1,
    "start_time": "2022-04-24T13:18:38.208Z"
   },
   {
    "duration": 0,
    "start_time": "2022-04-24T13:18:38.210Z"
   },
   {
    "duration": 0,
    "start_time": "2022-04-24T13:18:38.211Z"
   },
   {
    "duration": 0,
    "start_time": "2022-04-24T13:18:38.212Z"
   },
   {
    "duration": 0,
    "start_time": "2022-04-24T13:18:38.273Z"
   },
   {
    "duration": 0,
    "start_time": "2022-04-24T13:18:38.274Z"
   },
   {
    "duration": 0,
    "start_time": "2022-04-24T13:18:38.275Z"
   },
   {
    "duration": 0,
    "start_time": "2022-04-24T13:18:38.276Z"
   },
   {
    "duration": 0,
    "start_time": "2022-04-24T13:18:38.277Z"
   },
   {
    "duration": 0,
    "start_time": "2022-04-24T13:18:38.278Z"
   },
   {
    "duration": 0,
    "start_time": "2022-04-24T13:18:38.278Z"
   },
   {
    "duration": 0,
    "start_time": "2022-04-24T13:18:38.280Z"
   },
   {
    "duration": 0,
    "start_time": "2022-04-24T13:18:38.280Z"
   },
   {
    "duration": 0,
    "start_time": "2022-04-24T13:18:38.281Z"
   },
   {
    "duration": 0,
    "start_time": "2022-04-24T13:18:38.281Z"
   },
   {
    "duration": 0,
    "start_time": "2022-04-24T13:18:38.282Z"
   },
   {
    "duration": 0,
    "start_time": "2022-04-24T13:18:38.283Z"
   },
   {
    "duration": 0,
    "start_time": "2022-04-24T13:18:38.283Z"
   },
   {
    "duration": 0,
    "start_time": "2022-04-24T13:18:38.284Z"
   },
   {
    "duration": 0,
    "start_time": "2022-04-24T13:18:38.291Z"
   },
   {
    "duration": 0,
    "start_time": "2022-04-24T13:18:38.291Z"
   },
   {
    "duration": 0,
    "start_time": "2022-04-24T13:18:38.294Z"
   },
   {
    "duration": 1,
    "start_time": "2022-04-24T13:18:38.294Z"
   },
   {
    "duration": 0,
    "start_time": "2022-04-24T13:18:38.296Z"
   },
   {
    "duration": 0,
    "start_time": "2022-04-24T13:18:38.297Z"
   },
   {
    "duration": 0,
    "start_time": "2022-04-24T13:18:38.297Z"
   },
   {
    "duration": 0,
    "start_time": "2022-04-24T13:18:38.299Z"
   },
   {
    "duration": 0,
    "start_time": "2022-04-24T13:18:38.300Z"
   },
   {
    "duration": 0,
    "start_time": "2022-04-24T13:18:38.301Z"
   },
   {
    "duration": 0,
    "start_time": "2022-04-24T13:18:38.302Z"
   },
   {
    "duration": 0,
    "start_time": "2022-04-24T13:18:38.303Z"
   },
   {
    "duration": 0,
    "start_time": "2022-04-24T13:18:38.304Z"
   },
   {
    "duration": 0,
    "start_time": "2022-04-24T13:18:38.305Z"
   },
   {
    "duration": 0,
    "start_time": "2022-04-24T13:18:38.306Z"
   },
   {
    "duration": 0,
    "start_time": "2022-04-24T13:18:38.307Z"
   },
   {
    "duration": 0,
    "start_time": "2022-04-24T13:18:38.308Z"
   },
   {
    "duration": 0,
    "start_time": "2022-04-24T13:18:38.309Z"
   },
   {
    "duration": 0,
    "start_time": "2022-04-24T13:18:38.309Z"
   },
   {
    "duration": 0,
    "start_time": "2022-04-24T13:18:38.311Z"
   },
   {
    "duration": 0,
    "start_time": "2022-04-24T13:18:38.312Z"
   },
   {
    "duration": 0,
    "start_time": "2022-04-24T13:18:38.313Z"
   },
   {
    "duration": 0,
    "start_time": "2022-04-24T13:18:38.314Z"
   },
   {
    "duration": 0,
    "start_time": "2022-04-24T13:18:38.315Z"
   },
   {
    "duration": 0,
    "start_time": "2022-04-24T13:18:38.316Z"
   },
   {
    "duration": 0,
    "start_time": "2022-04-24T13:18:38.375Z"
   },
   {
    "duration": 0,
    "start_time": "2022-04-24T13:18:38.376Z"
   },
   {
    "duration": 0,
    "start_time": "2022-04-24T13:18:38.378Z"
   },
   {
    "duration": 0,
    "start_time": "2022-04-24T13:18:38.380Z"
   },
   {
    "duration": 0,
    "start_time": "2022-04-24T13:18:38.384Z"
   },
   {
    "duration": 16,
    "start_time": "2022-04-24T13:18:57.714Z"
   },
   {
    "duration": 21,
    "start_time": "2022-04-24T13:19:14.814Z"
   },
   {
    "duration": 49,
    "start_time": "2022-04-24T13:19:18.087Z"
   },
   {
    "duration": 3,
    "start_time": "2022-04-24T13:23:42.521Z"
   },
   {
    "duration": 18,
    "start_time": "2022-04-24T13:23:42.526Z"
   },
   {
    "duration": 0,
    "start_time": "2022-04-24T13:23:42.546Z"
   },
   {
    "duration": 0,
    "start_time": "2022-04-24T13:23:42.547Z"
   },
   {
    "duration": 0,
    "start_time": "2022-04-24T13:23:42.548Z"
   },
   {
    "duration": 3,
    "start_time": "2022-04-24T13:23:42.550Z"
   },
   {
    "duration": 6,
    "start_time": "2022-04-24T13:23:42.556Z"
   },
   {
    "duration": 32,
    "start_time": "2022-04-24T13:23:42.564Z"
   },
   {
    "duration": 18,
    "start_time": "2022-04-24T13:23:42.598Z"
   },
   {
    "duration": 4,
    "start_time": "2022-04-24T13:23:42.618Z"
   },
   {
    "duration": 7,
    "start_time": "2022-04-24T13:23:42.624Z"
   },
   {
    "duration": 52,
    "start_time": "2022-04-24T13:23:42.633Z"
   },
   {
    "duration": 6,
    "start_time": "2022-04-24T13:23:42.686Z"
   },
   {
    "duration": 7,
    "start_time": "2022-04-24T13:23:42.693Z"
   },
   {
    "duration": 7,
    "start_time": "2022-04-24T13:23:42.702Z"
   },
   {
    "duration": 9,
    "start_time": "2022-04-24T13:23:42.711Z"
   },
   {
    "duration": 53,
    "start_time": "2022-04-24T13:23:42.723Z"
   },
   {
    "duration": 14,
    "start_time": "2022-04-24T13:23:42.778Z"
   },
   {
    "duration": 9,
    "start_time": "2022-04-24T13:23:42.794Z"
   },
   {
    "duration": 8,
    "start_time": "2022-04-24T13:23:42.805Z"
   },
   {
    "duration": 9,
    "start_time": "2022-04-24T13:23:42.815Z"
   },
   {
    "duration": 4,
    "start_time": "2022-04-24T13:23:42.825Z"
   },
   {
    "duration": 54,
    "start_time": "2022-04-24T13:23:42.830Z"
   },
   {
    "duration": 13,
    "start_time": "2022-04-24T13:23:42.886Z"
   },
   {
    "duration": 7,
    "start_time": "2022-04-24T13:23:42.901Z"
   },
   {
    "duration": 7,
    "start_time": "2022-04-24T13:23:42.909Z"
   },
   {
    "duration": 8,
    "start_time": "2022-04-24T13:23:42.918Z"
   },
   {
    "duration": 63,
    "start_time": "2022-04-24T13:23:42.927Z"
   },
   {
    "duration": 31,
    "start_time": "2022-04-24T13:23:42.993Z"
   },
   {
    "duration": 13,
    "start_time": "2022-04-24T13:23:43.026Z"
   },
   {
    "duration": 34,
    "start_time": "2022-04-24T13:23:43.041Z"
   },
   {
    "duration": 12,
    "start_time": "2022-04-24T13:23:43.077Z"
   },
   {
    "duration": 11,
    "start_time": "2022-04-24T13:23:43.091Z"
   },
   {
    "duration": 21,
    "start_time": "2022-04-24T13:23:43.104Z"
   },
   {
    "duration": 15,
    "start_time": "2022-04-24T13:23:43.131Z"
   },
   {
    "duration": 249,
    "start_time": "2022-04-24T13:23:43.147Z"
   },
   {
    "duration": 12,
    "start_time": "2022-04-24T13:23:43.398Z"
   },
   {
    "duration": 8,
    "start_time": "2022-04-24T13:23:43.412Z"
   },
   {
    "duration": 61,
    "start_time": "2022-04-24T13:23:43.422Z"
   },
   {
    "duration": 26,
    "start_time": "2022-04-24T13:23:43.485Z"
   },
   {
    "duration": 5,
    "start_time": "2022-04-24T13:23:43.513Z"
   },
   {
    "duration": 29,
    "start_time": "2022-04-24T13:23:43.520Z"
   },
   {
    "duration": 317,
    "start_time": "2022-04-24T13:23:43.551Z"
   },
   {
    "duration": 11,
    "start_time": "2022-04-24T13:23:43.870Z"
   },
   {
    "duration": 24,
    "start_time": "2022-04-24T13:23:43.883Z"
   },
   {
    "duration": 14,
    "start_time": "2022-04-24T13:23:43.909Z"
   },
   {
    "duration": 6,
    "start_time": "2022-04-24T13:23:43.925Z"
   },
   {
    "duration": 60,
    "start_time": "2022-04-24T13:23:43.932Z"
   },
   {
    "duration": 340,
    "start_time": "2022-04-24T13:23:43.994Z"
   },
   {
    "duration": 3,
    "start_time": "2022-04-24T13:23:44.336Z"
   },
   {
    "duration": 39,
    "start_time": "2022-04-24T13:23:44.341Z"
   },
   {
    "duration": 246,
    "start_time": "2022-04-24T13:23:44.385Z"
   },
   {
    "duration": 5,
    "start_time": "2022-04-24T13:23:44.633Z"
   },
   {
    "duration": 415,
    "start_time": "2022-04-24T13:23:44.639Z"
   },
   {
    "duration": 19,
    "start_time": "2022-04-24T13:23:45.056Z"
   },
   {
    "duration": 470,
    "start_time": "2022-04-24T13:23:45.077Z"
   },
   {
    "duration": 769,
    "start_time": "2022-04-24T13:23:45.549Z"
   },
   {
    "duration": 835,
    "start_time": "2022-04-24T13:23:46.379Z"
   },
   {
    "duration": 869,
    "start_time": "2022-04-24T13:23:47.216Z"
   },
   {
    "duration": 23,
    "start_time": "2022-04-24T13:23:48.089Z"
   },
   {
    "duration": 577,
    "start_time": "2022-04-24T13:23:48.115Z"
   },
   {
    "duration": 5,
    "start_time": "2022-04-24T13:23:48.694Z"
   },
   {
    "duration": 7,
    "start_time": "2022-04-24T13:23:48.700Z"
   },
   {
    "duration": 425,
    "start_time": "2022-04-24T13:23:48.708Z"
   },
   {
    "duration": 213,
    "start_time": "2022-04-24T13:23:49.135Z"
   },
   {
    "duration": 197,
    "start_time": "2022-04-24T13:23:49.350Z"
   },
   {
    "duration": 6,
    "start_time": "2022-04-24T13:23:49.549Z"
   },
   {
    "duration": 300,
    "start_time": "2022-04-24T13:23:49.558Z"
   },
   {
    "duration": 186,
    "start_time": "2022-04-24T13:23:49.860Z"
   },
   {
    "duration": 193,
    "start_time": "2022-04-24T13:23:50.049Z"
   },
   {
    "duration": 5,
    "start_time": "2022-04-24T13:23:50.244Z"
   },
   {
    "duration": 42,
    "start_time": "2022-04-24T13:23:50.251Z"
   },
   {
    "duration": 21,
    "start_time": "2022-04-24T13:23:50.295Z"
   },
   {
    "duration": 21,
    "start_time": "2022-04-24T13:23:50.318Z"
   },
   {
    "duration": 342,
    "start_time": "2022-04-24T13:23:50.340Z"
   },
   {
    "duration": 7,
    "start_time": "2022-04-24T13:23:50.684Z"
   },
   {
    "duration": 7,
    "start_time": "2022-04-24T13:23:50.693Z"
   },
   {
    "duration": 10,
    "start_time": "2022-04-24T13:23:50.702Z"
   },
   {
    "duration": 7,
    "start_time": "2022-04-24T13:23:50.713Z"
   },
   {
    "duration": 6,
    "start_time": "2022-04-24T13:23:50.722Z"
   },
   {
    "duration": 7,
    "start_time": "2022-04-24T13:23:50.730Z"
   },
   {
    "duration": 11,
    "start_time": "2022-04-24T13:23:50.776Z"
   },
   {
    "duration": 16,
    "start_time": "2022-04-24T13:23:50.789Z"
   },
   {
    "duration": 9,
    "start_time": "2022-04-24T13:23:50.807Z"
   },
   {
    "duration": 11,
    "start_time": "2022-04-24T13:23:50.817Z"
   },
   {
    "duration": 11,
    "start_time": "2022-04-24T13:23:50.829Z"
   },
   {
    "duration": 9,
    "start_time": "2022-04-24T13:23:50.842Z"
   },
   {
    "duration": 25,
    "start_time": "2022-04-24T13:23:50.853Z"
   },
   {
    "duration": 8,
    "start_time": "2022-04-24T13:23:50.886Z"
   },
   {
    "duration": 12,
    "start_time": "2022-04-24T13:23:50.896Z"
   },
   {
    "duration": 9,
    "start_time": "2022-04-24T13:23:50.910Z"
   },
   {
    "duration": 6,
    "start_time": "2022-04-24T13:26:17.467Z"
   },
   {
    "duration": 111,
    "start_time": "2022-04-24T13:40:52.374Z"
   },
   {
    "duration": 23,
    "start_time": "2022-04-24T13:47:09.941Z"
   },
   {
    "duration": 10,
    "start_time": "2022-04-24T13:47:24.894Z"
   },
   {
    "duration": 1288,
    "start_time": "2022-04-24T14:12:47.533Z"
   },
   {
    "duration": 38,
    "start_time": "2022-04-24T14:12:48.823Z"
   },
   {
    "duration": 31,
    "start_time": "2022-04-24T14:12:48.862Z"
   },
   {
    "duration": 36,
    "start_time": "2022-04-24T14:12:48.897Z"
   },
   {
    "duration": 6,
    "start_time": "2022-04-24T14:12:48.936Z"
   },
   {
    "duration": 31,
    "start_time": "2022-04-24T14:12:48.944Z"
   },
   {
    "duration": 23,
    "start_time": "2022-04-24T14:12:48.978Z"
   },
   {
    "duration": 27,
    "start_time": "2022-04-24T14:12:49.003Z"
   },
   {
    "duration": 15,
    "start_time": "2022-04-24T14:12:49.032Z"
   },
   {
    "duration": 22,
    "start_time": "2022-04-24T14:12:49.050Z"
   },
   {
    "duration": 25,
    "start_time": "2022-04-24T14:12:49.080Z"
   },
   {
    "duration": 9,
    "start_time": "2022-04-24T14:12:49.107Z"
   },
   {
    "duration": 4,
    "start_time": "2022-04-24T14:12:49.118Z"
   },
   {
    "duration": 6,
    "start_time": "2022-04-24T14:12:49.124Z"
   },
   {
    "duration": 6,
    "start_time": "2022-04-24T14:12:49.132Z"
   },
   {
    "duration": 38,
    "start_time": "2022-04-24T14:12:49.140Z"
   },
   {
    "duration": 32,
    "start_time": "2022-04-24T14:12:49.180Z"
   },
   {
    "duration": 13,
    "start_time": "2022-04-24T14:12:49.214Z"
   },
   {
    "duration": 10,
    "start_time": "2022-04-24T14:12:49.229Z"
   },
   {
    "duration": 10,
    "start_time": "2022-04-24T14:12:49.241Z"
   },
   {
    "duration": 27,
    "start_time": "2022-04-24T14:12:49.252Z"
   },
   {
    "duration": 14,
    "start_time": "2022-04-24T14:12:49.283Z"
   },
   {
    "duration": 12,
    "start_time": "2022-04-24T14:12:49.298Z"
   },
   {
    "duration": 5,
    "start_time": "2022-04-24T14:12:49.312Z"
   },
   {
    "duration": 9,
    "start_time": "2022-04-24T14:12:49.319Z"
   },
   {
    "duration": 10,
    "start_time": "2022-04-24T14:12:49.329Z"
   },
   {
    "duration": 11,
    "start_time": "2022-04-24T14:12:49.373Z"
   },
   {
    "duration": 25,
    "start_time": "2022-04-24T14:12:49.389Z"
   },
   {
    "duration": 26,
    "start_time": "2022-04-24T14:12:49.416Z"
   },
   {
    "duration": 37,
    "start_time": "2022-04-24T14:12:49.444Z"
   },
   {
    "duration": 6,
    "start_time": "2022-04-24T14:12:49.485Z"
   },
   {
    "duration": 14,
    "start_time": "2022-04-24T14:12:49.493Z"
   },
   {
    "duration": 15,
    "start_time": "2022-04-24T14:12:49.509Z"
   },
   {
    "duration": 25,
    "start_time": "2022-04-24T14:12:49.526Z"
   },
   {
    "duration": 41,
    "start_time": "2022-04-24T14:12:49.553Z"
   },
   {
    "duration": 230,
    "start_time": "2022-04-24T14:12:49.596Z"
   },
   {
    "duration": 11,
    "start_time": "2022-04-24T14:12:49.828Z"
   },
   {
    "duration": 16,
    "start_time": "2022-04-24T14:12:49.841Z"
   },
   {
    "duration": 38,
    "start_time": "2022-04-24T14:12:49.875Z"
   },
   {
    "duration": 17,
    "start_time": "2022-04-24T14:12:49.915Z"
   },
   {
    "duration": 4,
    "start_time": "2022-04-24T14:12:49.934Z"
   },
   {
    "duration": 50,
    "start_time": "2022-04-24T14:12:49.940Z"
   },
   {
    "duration": 315,
    "start_time": "2022-04-24T14:12:49.993Z"
   },
   {
    "duration": 11,
    "start_time": "2022-04-24T14:12:50.310Z"
   },
   {
    "duration": 38,
    "start_time": "2022-04-24T14:12:50.323Z"
   },
   {
    "duration": 37,
    "start_time": "2022-04-24T14:12:50.363Z"
   },
   {
    "duration": 6,
    "start_time": "2022-04-24T14:12:50.403Z"
   },
   {
    "duration": 38,
    "start_time": "2022-04-24T14:12:50.411Z"
   },
   {
    "duration": 354,
    "start_time": "2022-04-24T14:12:50.451Z"
   },
   {
    "duration": 4,
    "start_time": "2022-04-24T14:12:50.807Z"
   },
   {
    "duration": 32,
    "start_time": "2022-04-24T14:12:50.813Z"
   },
   {
    "duration": 249,
    "start_time": "2022-04-24T14:12:50.847Z"
   },
   {
    "duration": 6,
    "start_time": "2022-04-24T14:12:51.097Z"
   },
   {
    "duration": 421,
    "start_time": "2022-04-24T14:12:51.105Z"
   },
   {
    "duration": 4,
    "start_time": "2022-04-24T14:12:51.528Z"
   },
   {
    "duration": 404,
    "start_time": "2022-04-24T14:12:51.533Z"
   },
   {
    "duration": 754,
    "start_time": "2022-04-24T14:12:51.939Z"
   },
   {
    "duration": 883,
    "start_time": "2022-04-24T14:12:52.695Z"
   },
   {
    "duration": 620,
    "start_time": "2022-04-24T14:12:53.584Z"
   },
   {
    "duration": 17,
    "start_time": "2022-04-24T14:12:54.207Z"
   },
   {
    "duration": 278,
    "start_time": "2022-04-24T14:12:54.226Z"
   },
   {
    "duration": 7,
    "start_time": "2022-04-24T14:12:54.506Z"
   },
   {
    "duration": 8,
    "start_time": "2022-04-24T14:12:54.515Z"
   },
   {
    "duration": 205,
    "start_time": "2022-04-24T14:12:54.525Z"
   },
   {
    "duration": 205,
    "start_time": "2022-04-24T14:12:54.732Z"
   },
   {
    "duration": 188,
    "start_time": "2022-04-24T14:12:54.939Z"
   },
   {
    "duration": 5,
    "start_time": "2022-04-24T14:12:55.129Z"
   },
   {
    "duration": 199,
    "start_time": "2022-04-24T14:12:55.136Z"
   },
   {
    "duration": 282,
    "start_time": "2022-04-24T14:12:55.337Z"
   },
   {
    "duration": 184,
    "start_time": "2022-04-24T14:12:55.621Z"
   },
   {
    "duration": 5,
    "start_time": "2022-04-24T14:12:55.806Z"
   },
   {
    "duration": 23,
    "start_time": "2022-04-24T14:12:55.812Z"
   },
   {
    "duration": 59,
    "start_time": "2022-04-24T14:12:55.837Z"
   },
   {
    "duration": 21,
    "start_time": "2022-04-24T14:12:55.898Z"
   },
   {
    "duration": 357,
    "start_time": "2022-04-24T14:12:55.920Z"
   },
   {
    "duration": 7,
    "start_time": "2022-04-24T14:12:56.279Z"
   },
   {
    "duration": 12,
    "start_time": "2022-04-24T14:12:56.287Z"
   },
   {
    "duration": 9,
    "start_time": "2022-04-24T14:12:56.301Z"
   },
   {
    "duration": 8,
    "start_time": "2022-04-24T14:12:56.312Z"
   },
   {
    "duration": 8,
    "start_time": "2022-04-24T14:12:56.322Z"
   },
   {
    "duration": 44,
    "start_time": "2022-04-24T14:12:56.332Z"
   },
   {
    "duration": 7,
    "start_time": "2022-04-24T14:12:56.383Z"
   },
   {
    "duration": 28,
    "start_time": "2022-04-24T14:12:56.392Z"
   },
   {
    "duration": 7,
    "start_time": "2022-04-24T14:12:56.422Z"
   },
   {
    "duration": 7,
    "start_time": "2022-04-24T14:12:56.431Z"
   },
   {
    "duration": 7,
    "start_time": "2022-04-24T14:12:56.440Z"
   },
   {
    "duration": 29,
    "start_time": "2022-04-24T14:12:56.449Z"
   },
   {
    "duration": 21,
    "start_time": "2022-04-24T14:12:56.481Z"
   },
   {
    "duration": 10,
    "start_time": "2022-04-24T14:12:56.504Z"
   },
   {
    "duration": 7,
    "start_time": "2022-04-24T14:12:56.516Z"
   },
   {
    "duration": 8,
    "start_time": "2022-04-24T14:12:56.525Z"
   }
  ],
  "kernelspec": {
   "display_name": "Python 3 (ipykernel)",
   "language": "python",
   "name": "python3"
  },
  "language_info": {
   "codemirror_mode": {
    "name": "ipython",
    "version": 3
   },
   "file_extension": ".py",
   "mimetype": "text/x-python",
   "name": "python",
   "nbconvert_exporter": "python",
   "pygments_lexer": "ipython3",
   "version": "3.9.7"
  },
  "toc": {
   "base_numbering": 1,
   "nav_menu": {},
   "number_sections": true,
   "sideBar": true,
   "skip_h1_title": true,
   "title_cell": "Table of Contents",
   "title_sidebar": "Contents",
   "toc_cell": true,
   "toc_position": {
    "height": "calc(100% - 180px)",
    "left": "10px",
    "top": "150px",
    "width": "383.766px"
   },
   "toc_section_display": true,
   "toc_window_display": true
  }
 },
 "nbformat": 4,
 "nbformat_minor": 5
}
