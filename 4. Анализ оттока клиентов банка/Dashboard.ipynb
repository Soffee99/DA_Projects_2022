{
 "cells": [
  {
   "cell_type": "markdown",
   "id": "044119c3",
   "metadata": {},
   "source": [
    "# Dashbord по пользовательским событиям для агрегатора новостей\n",
    "\n",
    "Dashboard к проект по техническому заданию:\n",
    "\n",
    "1. Постройте диаграмму, отражающую количество клиентов в зависимости от числа используемых продуктов.\n",
    "2. Добавьте индикатор процента ушедших клиентов.\n",
    "3. Добавьте фильтр дашборда по городу.\n",
    "\n",
    "[Ссылка на Dashboard](https://public.tableau.com/app/profile/sofi1246/viz/_16636088567050/Dashboard1)"
   ]
  }
 ],
 "metadata": {
  "kernelspec": {
   "display_name": "Python 3 (ipykernel)",
   "language": "python",
   "name": "python3"
  },
  "language_info": {
   "codemirror_mode": {
    "name": "ipython",
    "version": 3
   },
   "file_extension": ".py",
   "mimetype": "text/x-python",
   "name": "python",
   "nbconvert_exporter": "python",
   "pygments_lexer": "ipython3",
   "version": "3.9.7"
  },
  "toc": {
   "base_numbering": 1,
   "nav_menu": {},
   "number_sections": true,
   "sideBar": true,
   "skip_h1_title": true,
   "title_cell": "Table of Contents",
   "title_sidebar": "Contents",
   "toc_cell": true,
   "toc_position": {},
   "toc_section_display": true,
   "toc_window_display": false
  }
 },
 "nbformat": 4,
 "nbformat_minor": 5
}
