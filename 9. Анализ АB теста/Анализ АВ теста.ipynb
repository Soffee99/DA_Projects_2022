{
 "cells": [
  {
   "cell_type": "markdown",
   "id": "32f998cf",
   "metadata": {
    "toc": true
   },
   "source": [
    "<h1>Table of Contents<span class=\"tocSkip\"></span></h1>\n",
    "<div class=\"toc\"><ul class=\"toc-item\"><li><span><a href=\"#Обзор-и-предобработка-данных-к-анализу\" data-toc-modified-id=\"Обзор-и-предобработка-данных-к-анализу-1\"><span class=\"toc-item-num\">1&nbsp;&nbsp;</span>Обзор и предобработка данных к анализу</a></span><ul class=\"toc-item\"><li><span><a href=\"#Календарь-событий\" data-toc-modified-id=\"Календарь-событий-1.1\"><span class=\"toc-item-num\">1.1&nbsp;&nbsp;</span>Календарь событий</a></span></li><li><span><a href=\"#Регистрация-новых-пользователей\" data-toc-modified-id=\"Регистрация-новых-пользователей-1.2\"><span class=\"toc-item-num\">1.2&nbsp;&nbsp;</span>Регистрация новых пользователей</a></span></li><li><span><a href=\"#Действия-новых-пользователей\" data-toc-modified-id=\"Действия-новых-пользователей-1.3\"><span class=\"toc-item-num\">1.3&nbsp;&nbsp;</span>Действия новых пользователей</a></span></li><li><span><a href=\"#Участники-тестов\" data-toc-modified-id=\"Участники-тестов-1.4\"><span class=\"toc-item-num\">1.4&nbsp;&nbsp;</span>Участники тестов</a></span></li></ul></li><li><span><a href=\"#Оценка-корректности-проведения-теста\" data-toc-modified-id=\"Оценка-корректности-проведения-теста-2\"><span class=\"toc-item-num\">2&nbsp;&nbsp;</span>Оценка корректности проведения теста</a></span></li><li><span><a href=\"#Исследовательский-анализ-выборок\" data-toc-modified-id=\"Исследовательский-анализ-выборок-3\"><span class=\"toc-item-num\">3&nbsp;&nbsp;</span>Исследовательский анализ выборок</a></span></li><li><span><a href=\"#Оценка-результатов-А/В-теста\" data-toc-modified-id=\"Оценка-результатов-А/В-теста-4\"><span class=\"toc-item-num\">4&nbsp;&nbsp;</span>Оценка результатов А/В теста</a></span></li><li><span><a href=\"#Общий-вывод\" data-toc-modified-id=\"Общий-вывод-5\"><span class=\"toc-item-num\">5&nbsp;&nbsp;</span>Общий вывод</a></span></li></ul></div>"
   ]
  },
  {
   "cell_type": "markdown",
   "id": "a9b9679f",
   "metadata": {},
   "source": [
    "# Анализ А/В теста."
   ]
  },
  {
   "cell_type": "markdown",
   "id": "4aeb2791",
   "metadata": {},
   "source": [
    "**Описание проекта**\n",
    "\n",
    "В вашем распоряжении есть датасет с действиями пользователей, техническое задание и несколько вспомогательных датасетов.\n",
    "\n",
    "Техническое задание:\n",
    "\n",
    "- Название теста: `recommender_system_test`;\n",
    "- группы: А — контрольная, B — новая платёжная воронка;\n",
    "- дата запуска: 2020-12-07;\n",
    "- дата остановки набора новых пользователей: 2020-12-21;\n",
    "- дата остановки: 2021-01-04;\n",
    "- аудитория: 15% новых пользователей из региона EU;\n",
    "- назначение теста: тестирование изменений, связанных с внедрением улучшенной рекомендательной системы;\n",
    "- ожидаемое количество участников теста: 6000.\n",
    "- ожидаемый эффект: за 14 дней с момента регистрации пользователи покажут улучшение каждой метрики не менее, чем на 10%:\n",
    "    - конверсии в просмотр карточек товаров — событие `product_page`,\n",
    "    - просмотры корзины — `product_cart`,\n",
    "    - покупки — `purchase`.\n",
    "\n",
    "**Цель исследования**\n",
    "\n",
    "1. Оценить корректность проведения теста:\n",
    "\n",
    "   - проверить пересечение тестовой аудитории с конкурирующим тестом,\n",
    "   - проверить совпадение теста и маркетинговых событий, \n",
    "   - выявить при наличии проблемы временных границ теста.\n",
    "   \n",
    "2. Проанализировать результаты теста\n",
    "\n",
    " **Ход исследования**\n",
    "\n",
    " 1. Обзор и преобработка данных данных к анализу.\n",
    " 2. Оценка корректности проведения теста.\n",
    " 3. Исследовательский анализ выборок.\n",
    " 4. Оценка результатов А/В теста\n",
    " 4. Общий вывод."
   ]
  },
  {
   "cell_type": "markdown",
   "id": "1fb37ae3",
   "metadata": {},
   "source": [
    "## Обзор и предобработка данных к анализу\n",
    "\n",
    "В этом разделе проведем обзор и подготовку данных к анализу:\n",
    "\n",
    "1. Выгрузим и познакомимся с данными.\n",
    "2. Найдем и устраним недочеты в данных.\n",
    "\n",
    "Составим первое представление о данных. Импортируем необходимые для анализа библиотеки."
   ]
  },
  {
   "cell_type": "code",
   "execution_count": 1,
   "id": "700385fc",
   "metadata": {},
   "outputs": [],
   "source": [
    "import pandas as pd\n",
    "import numpy as np\n",
    "import datetime as dt\n",
    "import math as mth\n",
    "\n",
    "# библиотеки для визуализации\n",
    "import seaborn as sns\n",
    "import matplotlib.pyplot as plt\n",
    "%matplotlib inline\n",
    "from plotly import graph_objects as go\n",
    "import plotly.io as pio\n",
    "pio.renderers.default = 'iframe'\n",
    "import plotly\n",
    "import plotly.express as px\n",
    "#import plotly.offline as pyo\n",
    "#pyo.init_notebook_mode()\n",
    "\n",
    "# зададим параметры отображения\n",
    "pd.set_option('display.max_colwidth', 0)\n",
    "pd.options.display.max_columns = None\n",
    "\n",
    "# библиотеки для проверки статистических гипотез\n",
    "from scipy import stats as st"
   ]
  },
  {
   "cell_type": "markdown",
   "id": "d03a4c13",
   "metadata": {},
   "source": [
    "Познакомимся с данными. Для этого создадим функцию, которая выводит общую информацию о данных, а также проверяет данные на пропуски и дубликаты:"
   ]
  },
  {
   "cell_type": "code",
   "execution_count": 3,
   "id": "80ec04cf",
   "metadata": {},
   "outputs": [],
   "source": [
    "def df_info(df):\n",
    "    print('Знакомство с данными')\n",
    "    print('_' * 19, '\\n')\n",
    "    display(df.head(10))\n",
    "    print()\n",
    "    print('Сводная информация о данных')\n",
    "    print('_' * 26, '\\n')\n",
    "    df.info()\n",
    "    print()\n",
    "    print(\"Проверка данных на пропуски и дубликаты\")\n",
    "    print('_' * 35, '\\n')\n",
    "    print()\n",
    "    print(\"Доля пропусков:\", display(df.isna().mean().round(2)))\n",
    "    print('_' * 20, '\\n')\n",
    "    print()\n",
    "    print(\"Количество дубликатов:\", df.duplicated().sum()) \n",
    "    print('_' * 22, '\\n')"
   ]
  },
  {
   "cell_type": "markdown",
   "id": "32f16998",
   "metadata": {},
   "source": [
    "Напишем функцию вывода уникальных значений в столбцах "
   ]
  },
  {
   "cell_type": "code",
   "execution_count": 4,
   "id": "2de870a5",
   "metadata": {},
   "outputs": [],
   "source": [
    "def unique_info(df, column):\n",
    "    for col in df[column]:\n",
    "        print(\"Список уникальных значений {}:\".format(col))\n",
    "        print('_' * 32, '\\n')\n",
    "        if df[col].nunique() < 7:\n",
    "            print(df[col].unique())\n",
    "        print()"
   ]
  },
  {
   "cell_type": "markdown",
   "id": "55477104",
   "metadata": {},
   "source": [
    "И функцию подсчета количества уникальных значений:"
   ]
  },
  {
   "cell_type": "code",
   "execution_count": 5,
   "id": "11797053",
   "metadata": {},
   "outputs": [],
   "source": [
    "def nunique_info(df, column):   \n",
    "    print(\"Количество уникальных пользователей в данных: {}\".format(df[column].nunique()))"
   ]
  },
  {
   "cell_type": "markdown",
   "id": "af47fbe2",
   "metadata": {},
   "source": [
    "### Календарь событий\n",
    "\n",
    "**Загрузим данные и познакомимся с календарем маркетинговых событий на 2020 год**"
   ]
  },
  {
   "cell_type": "code",
   "execution_count": 6,
   "id": "2a8a8e95",
   "metadata": {
    "scrolled": true
   },
   "outputs": [
    {
     "name": "stdout",
     "output_type": "stream",
     "text": [
      "Знакомство с данными\n",
      "___________________ \n",
      "\n"
     ]
    },
    {
     "data": {
      "text/html": [
       "<div>\n",
       "<style scoped>\n",
       "    .dataframe tbody tr th:only-of-type {\n",
       "        vertical-align: middle;\n",
       "    }\n",
       "\n",
       "    .dataframe tbody tr th {\n",
       "        vertical-align: top;\n",
       "    }\n",
       "\n",
       "    .dataframe thead th {\n",
       "        text-align: right;\n",
       "    }\n",
       "</style>\n",
       "<table border=\"1\" class=\"dataframe\">\n",
       "  <thead>\n",
       "    <tr style=\"text-align: right;\">\n",
       "      <th></th>\n",
       "      <th>name</th>\n",
       "      <th>regions</th>\n",
       "      <th>start_dt</th>\n",
       "      <th>finish_dt</th>\n",
       "    </tr>\n",
       "  </thead>\n",
       "  <tbody>\n",
       "    <tr>\n",
       "      <th>0</th>\n",
       "      <td>Christmas&amp;New Year Promo</td>\n",
       "      <td>EU, N.America</td>\n",
       "      <td>2020-12-25</td>\n",
       "      <td>2021-01-03</td>\n",
       "    </tr>\n",
       "    <tr>\n",
       "      <th>1</th>\n",
       "      <td>St. Valentine's Day Giveaway</td>\n",
       "      <td>EU, CIS, APAC, N.America</td>\n",
       "      <td>2020-02-14</td>\n",
       "      <td>2020-02-16</td>\n",
       "    </tr>\n",
       "    <tr>\n",
       "      <th>2</th>\n",
       "      <td>St. Patric's Day Promo</td>\n",
       "      <td>EU, N.America</td>\n",
       "      <td>2020-03-17</td>\n",
       "      <td>2020-03-19</td>\n",
       "    </tr>\n",
       "    <tr>\n",
       "      <th>3</th>\n",
       "      <td>Easter Promo</td>\n",
       "      <td>EU, CIS, APAC, N.America</td>\n",
       "      <td>2020-04-12</td>\n",
       "      <td>2020-04-19</td>\n",
       "    </tr>\n",
       "    <tr>\n",
       "      <th>4</th>\n",
       "      <td>4th of July Promo</td>\n",
       "      <td>N.America</td>\n",
       "      <td>2020-07-04</td>\n",
       "      <td>2020-07-11</td>\n",
       "    </tr>\n",
       "    <tr>\n",
       "      <th>5</th>\n",
       "      <td>Black Friday Ads Campaign</td>\n",
       "      <td>EU, CIS, APAC, N.America</td>\n",
       "      <td>2020-11-26</td>\n",
       "      <td>2020-12-01</td>\n",
       "    </tr>\n",
       "    <tr>\n",
       "      <th>6</th>\n",
       "      <td>Chinese New Year Promo</td>\n",
       "      <td>APAC</td>\n",
       "      <td>2020-01-25</td>\n",
       "      <td>2020-02-07</td>\n",
       "    </tr>\n",
       "    <tr>\n",
       "      <th>7</th>\n",
       "      <td>Labor day (May 1st) Ads Campaign</td>\n",
       "      <td>EU, CIS, APAC</td>\n",
       "      <td>2020-05-01</td>\n",
       "      <td>2020-05-03</td>\n",
       "    </tr>\n",
       "    <tr>\n",
       "      <th>8</th>\n",
       "      <td>International Women's Day Promo</td>\n",
       "      <td>EU, CIS, APAC</td>\n",
       "      <td>2020-03-08</td>\n",
       "      <td>2020-03-10</td>\n",
       "    </tr>\n",
       "    <tr>\n",
       "      <th>9</th>\n",
       "      <td>Victory Day CIS (May 9th) Event</td>\n",
       "      <td>CIS</td>\n",
       "      <td>2020-05-09</td>\n",
       "      <td>2020-05-11</td>\n",
       "    </tr>\n",
       "  </tbody>\n",
       "</table>\n",
       "</div>"
      ],
      "text/plain": [
       "                               name                   regions    start_dt  \\\n",
       "0  Christmas&New Year Promo          EU, N.America             2020-12-25   \n",
       "1  St. Valentine's Day Giveaway      EU, CIS, APAC, N.America  2020-02-14   \n",
       "2  St. Patric's Day Promo            EU, N.America             2020-03-17   \n",
       "3  Easter Promo                      EU, CIS, APAC, N.America  2020-04-12   \n",
       "4  4th of July Promo                 N.America                 2020-07-04   \n",
       "5  Black Friday Ads Campaign         EU, CIS, APAC, N.America  2020-11-26   \n",
       "6  Chinese New Year Promo            APAC                      2020-01-25   \n",
       "7  Labor day (May 1st) Ads Campaign  EU, CIS, APAC             2020-05-01   \n",
       "8  International Women's Day Promo   EU, CIS, APAC             2020-03-08   \n",
       "9  Victory Day CIS (May 9th) Event   CIS                       2020-05-09   \n",
       "\n",
       "    finish_dt  \n",
       "0  2021-01-03  \n",
       "1  2020-02-16  \n",
       "2  2020-03-19  \n",
       "3  2020-04-19  \n",
       "4  2020-07-11  \n",
       "5  2020-12-01  \n",
       "6  2020-02-07  \n",
       "7  2020-05-03  \n",
       "8  2020-03-10  \n",
       "9  2020-05-11  "
      ]
     },
     "metadata": {},
     "output_type": "display_data"
    },
    {
     "name": "stdout",
     "output_type": "stream",
     "text": [
      "\n",
      "Сводная информация о данных\n",
      "__________________________ \n",
      "\n",
      "<class 'pandas.core.frame.DataFrame'>\n",
      "RangeIndex: 14 entries, 0 to 13\n",
      "Data columns (total 4 columns):\n",
      " #   Column     Non-Null Count  Dtype \n",
      "---  ------     --------------  ----- \n",
      " 0   name       14 non-null     object\n",
      " 1   regions    14 non-null     object\n",
      " 2   start_dt   14 non-null     object\n",
      " 3   finish_dt  14 non-null     object\n",
      "dtypes: object(4)\n",
      "memory usage: 576.0+ bytes\n",
      "\n",
      "Проверка данных на пропуски и дубликаты\n",
      "___________________________________ \n",
      "\n",
      "\n"
     ]
    },
    {
     "data": {
      "text/plain": [
       "name         0.0\n",
       "regions      0.0\n",
       "start_dt     0.0\n",
       "finish_dt    0.0\n",
       "dtype: float64"
      ]
     },
     "metadata": {},
     "output_type": "display_data"
    },
    {
     "name": "stdout",
     "output_type": "stream",
     "text": [
      "Доля пропусков: None\n",
      "____________________ \n",
      "\n",
      "\n",
      "Количество дубликатов: 0\n",
      "______________________ \n",
      "\n"
     ]
    }
   ],
   "source": [
    "df_info(marketing_events)"
   ]
  },
  {
   "cell_type": "markdown",
   "id": "3c7d8b7e",
   "metadata": {},
   "source": [
    "Посмотрим на список уникальных событий в календаре."
   ]
  },
  {
   "cell_type": "code",
   "execution_count": 7,
   "id": "ace64a02",
   "metadata": {},
   "outputs": [
    {
     "name": "stdout",
     "output_type": "stream",
     "text": [
      "Список уникальных значений name:\n",
      "________________________________ \n",
      "\n",
      "\n",
      "Список уникальных значений regions:\n",
      "________________________________ \n",
      "\n",
      "['EU, N.America' 'EU, CIS, APAC, N.America' 'N.America' 'APAC'\n",
      " 'EU, CIS, APAC' 'CIS']\n",
      "\n"
     ]
    }
   ],
   "source": [
    "unique_info(marketing_events, ['name', 'regions'])"
   ]
  },
  {
   "cell_type": "markdown",
   "id": "e858f6a4",
   "metadata": {},
   "source": [
    "Посмотрим период проведения маркетинговых событий. <br>Напишем функцию вывода этой информации."
   ]
  },
  {
   "cell_type": "code",
   "execution_count": 8,
   "id": "0679167c",
   "metadata": {},
   "outputs": [],
   "source": [
    "def date_check(df, column):\n",
    "    print(\"Данные представлены за период с\", \n",
    "          df[column].min(), \n",
    "          'по ', \n",
    "          df[column].max())"
   ]
  },
  {
   "cell_type": "code",
   "execution_count": 9,
   "id": "68275d69",
   "metadata": {},
   "outputs": [
    {
     "name": "stdout",
     "output_type": "stream",
     "text": [
      "Данные представлены за период с 2020-01-25 по  2020-12-30\n"
     ]
    }
   ],
   "source": [
    "date_check(marketing_events, 'start_dt')"
   ]
  },
  {
   "cell_type": "code",
   "execution_count": 10,
   "id": "3d17e6dd",
   "metadata": {},
   "outputs": [
    {
     "name": "stdout",
     "output_type": "stream",
     "text": [
      "Данные представлены за период с 2020-02-07 по  2021-01-07\n"
     ]
    }
   ],
   "source": [
    "date_check(marketing_events, 'finish_dt')"
   ]
  },
  {
   "cell_type": "markdown",
   "id": "3faf5d83",
   "metadata": {},
   "source": [
    "Календарь содержит данные о 14 маркетинговых мероприятиях, которые провводились с 25 января 2020 и по 7 января 2021. <br>Данные не содержат пропусков и дубликатов. <br>Но столбцам `start_dt` и `finish_dt` требуется корректировка формата даты и преобразовании в datetime.\n",
    "\n",
    "Согласно документации к данным:\n",
    "\n",
    "- `name` — название маркетингового события;\n",
    "- `regions` — регионы, в которых будет проводиться рекламная кампания;\n",
    "- `start_dt` — дата начала кампании;\n",
    "- `finish_dt` — дата завершения кампании."
   ]
  },
  {
   "cell_type": "markdown",
   "id": "c86e780d",
   "metadata": {},
   "source": [
    "Напишем функцию для корректирровки даты в нужный формат:"
   ]
  },
  {
   "cell_type": "code",
   "execution_count": 11,
   "id": "2972082d",
   "metadata": {},
   "outputs": [],
   "source": [
    "def data_type_change_and_check(df, column, format_date):\n",
    "    df[column] = pd.to_datetime(df[column], format=format_date)         \n",
    "    print(\"Новый тип данных даты:\", df[column].dtypes)"
   ]
  },
  {
   "cell_type": "markdown",
   "id": "c36e2f8e",
   "metadata": {},
   "source": [
    "Преобразуем данные о датах в нужный формат:"
   ]
  },
  {
   "cell_type": "code",
   "execution_count": 12,
   "id": "ebb95ad6",
   "metadata": {},
   "outputs": [
    {
     "name": "stdout",
     "output_type": "stream",
     "text": [
      "Новый тип данных даты: datetime64[ns]\n"
     ]
    }
   ],
   "source": [
    "data_type_change_and_check(marketing_events, 'start_dt', '%Y-%m-%d')"
   ]
  },
  {
   "cell_type": "code",
   "execution_count": 13,
   "id": "93684326",
   "metadata": {},
   "outputs": [
    {
     "name": "stdout",
     "output_type": "stream",
     "text": [
      "Новый тип данных даты: datetime64[ns]\n"
     ]
    }
   ],
   "source": [
    "data_type_change_and_check(marketing_events, 'finish_dt', '%Y-%m-%d')"
   ]
  },
  {
   "cell_type": "markdown",
   "id": "93c4b733",
   "metadata": {},
   "source": [
    "### Регистрация новых пользователей\n",
    "\n",
    "**Загрузим данные и познакомимся с пользователями, зарегистрировавшимися в период с 7 по 21 декабря 2020**"
   ]
  },
  {
   "cell_type": "code",
   "execution_count": 14,
   "id": "c8f8d359",
   "metadata": {
    "scrolled": true
   },
   "outputs": [
    {
     "name": "stdout",
     "output_type": "stream",
     "text": [
      "Знакомство с данными\n",
      "___________________ \n",
      "\n"
     ]
    },
    {
     "data": {
      "text/html": [
       "<div>\n",
       "<style scoped>\n",
       "    .dataframe tbody tr th:only-of-type {\n",
       "        vertical-align: middle;\n",
       "    }\n",
       "\n",
       "    .dataframe tbody tr th {\n",
       "        vertical-align: top;\n",
       "    }\n",
       "\n",
       "    .dataframe thead th {\n",
       "        text-align: right;\n",
       "    }\n",
       "</style>\n",
       "<table border=\"1\" class=\"dataframe\">\n",
       "  <thead>\n",
       "    <tr style=\"text-align: right;\">\n",
       "      <th></th>\n",
       "      <th>user_id</th>\n",
       "      <th>first_date</th>\n",
       "      <th>region</th>\n",
       "      <th>device</th>\n",
       "    </tr>\n",
       "  </thead>\n",
       "  <tbody>\n",
       "    <tr>\n",
       "      <th>0</th>\n",
       "      <td>D72A72121175D8BE</td>\n",
       "      <td>2020-12-07</td>\n",
       "      <td>EU</td>\n",
       "      <td>PC</td>\n",
       "    </tr>\n",
       "    <tr>\n",
       "      <th>1</th>\n",
       "      <td>F1C668619DFE6E65</td>\n",
       "      <td>2020-12-07</td>\n",
       "      <td>N.America</td>\n",
       "      <td>Android</td>\n",
       "    </tr>\n",
       "    <tr>\n",
       "      <th>2</th>\n",
       "      <td>2E1BF1D4C37EA01F</td>\n",
       "      <td>2020-12-07</td>\n",
       "      <td>EU</td>\n",
       "      <td>PC</td>\n",
       "    </tr>\n",
       "    <tr>\n",
       "      <th>3</th>\n",
       "      <td>50734A22C0C63768</td>\n",
       "      <td>2020-12-07</td>\n",
       "      <td>EU</td>\n",
       "      <td>iPhone</td>\n",
       "    </tr>\n",
       "    <tr>\n",
       "      <th>4</th>\n",
       "      <td>E1BDDCE0DAFA2679</td>\n",
       "      <td>2020-12-07</td>\n",
       "      <td>N.America</td>\n",
       "      <td>iPhone</td>\n",
       "    </tr>\n",
       "    <tr>\n",
       "      <th>5</th>\n",
       "      <td>137119F5A9E69421</td>\n",
       "      <td>2020-12-07</td>\n",
       "      <td>N.America</td>\n",
       "      <td>iPhone</td>\n",
       "    </tr>\n",
       "    <tr>\n",
       "      <th>6</th>\n",
       "      <td>62F0C741CC42D0CC</td>\n",
       "      <td>2020-12-07</td>\n",
       "      <td>APAC</td>\n",
       "      <td>iPhone</td>\n",
       "    </tr>\n",
       "    <tr>\n",
       "      <th>7</th>\n",
       "      <td>8942E64218C9A1ED</td>\n",
       "      <td>2020-12-07</td>\n",
       "      <td>EU</td>\n",
       "      <td>PC</td>\n",
       "    </tr>\n",
       "    <tr>\n",
       "      <th>8</th>\n",
       "      <td>499AFACF904BBAE3</td>\n",
       "      <td>2020-12-07</td>\n",
       "      <td>N.America</td>\n",
       "      <td>iPhone</td>\n",
       "    </tr>\n",
       "    <tr>\n",
       "      <th>9</th>\n",
       "      <td>FFCEA1179C253104</td>\n",
       "      <td>2020-12-07</td>\n",
       "      <td>EU</td>\n",
       "      <td>Android</td>\n",
       "    </tr>\n",
       "  </tbody>\n",
       "</table>\n",
       "</div>"
      ],
      "text/plain": [
       "            user_id  first_date     region   device\n",
       "0  D72A72121175D8BE  2020-12-07  EU         PC     \n",
       "1  F1C668619DFE6E65  2020-12-07  N.America  Android\n",
       "2  2E1BF1D4C37EA01F  2020-12-07  EU         PC     \n",
       "3  50734A22C0C63768  2020-12-07  EU         iPhone \n",
       "4  E1BDDCE0DAFA2679  2020-12-07  N.America  iPhone \n",
       "5  137119F5A9E69421  2020-12-07  N.America  iPhone \n",
       "6  62F0C741CC42D0CC  2020-12-07  APAC       iPhone \n",
       "7  8942E64218C9A1ED  2020-12-07  EU         PC     \n",
       "8  499AFACF904BBAE3  2020-12-07  N.America  iPhone \n",
       "9  FFCEA1179C253104  2020-12-07  EU         Android"
      ]
     },
     "metadata": {},
     "output_type": "display_data"
    },
    {
     "name": "stdout",
     "output_type": "stream",
     "text": [
      "\n",
      "Сводная информация о данных\n",
      "__________________________ \n",
      "\n",
      "<class 'pandas.core.frame.DataFrame'>\n",
      "RangeIndex: 61733 entries, 0 to 61732\n",
      "Data columns (total 4 columns):\n",
      " #   Column      Non-Null Count  Dtype \n",
      "---  ------      --------------  ----- \n",
      " 0   user_id     61733 non-null  object\n",
      " 1   first_date  61733 non-null  object\n",
      " 2   region      61733 non-null  object\n",
      " 3   device      61733 non-null  object\n",
      "dtypes: object(4)\n",
      "memory usage: 1.9+ MB\n",
      "\n",
      "Проверка данных на пропуски и дубликаты\n",
      "___________________________________ \n",
      "\n",
      "\n"
     ]
    },
    {
     "data": {
      "text/plain": [
       "user_id       0.0\n",
       "first_date    0.0\n",
       "region        0.0\n",
       "device        0.0\n",
       "dtype: float64"
      ]
     },
     "metadata": {},
     "output_type": "display_data"
    },
    {
     "name": "stdout",
     "output_type": "stream",
     "text": [
      "Доля пропусков: None\n",
      "____________________ \n",
      "\n",
      "\n",
      "Количество дубликатов: 0\n",
      "______________________ \n",
      "\n"
     ]
    }
   ],
   "source": [
    "df_info(new_users)"
   ]
  },
  {
   "cell_type": "markdown",
   "id": "972ab346",
   "metadata": {},
   "source": [
    "Посмотрим на список регионов и девайсов новых пользователей:"
   ]
  },
  {
   "cell_type": "code",
   "execution_count": 15,
   "id": "505bb4ed",
   "metadata": {},
   "outputs": [
    {
     "name": "stdout",
     "output_type": "stream",
     "text": [
      "Список уникальных значений region:\n",
      "________________________________ \n",
      "\n",
      "['EU' 'N.America' 'APAC' 'CIS']\n",
      "\n",
      "Список уникальных значений device:\n",
      "________________________________ \n",
      "\n",
      "['PC' 'Android' 'iPhone' 'Mac']\n",
      "\n"
     ]
    }
   ],
   "source": [
    "unique_info(new_users, ['region', 'device'])"
   ]
  },
  {
   "cell_type": "markdown",
   "id": "06a11f48",
   "metadata": {},
   "source": [
    "Количество уникальных пользователей в данных:"
   ]
  },
  {
   "cell_type": "code",
   "execution_count": 16,
   "id": "83189cbf",
   "metadata": {},
   "outputs": [
    {
     "name": "stdout",
     "output_type": "stream",
     "text": [
      "Количество уникальных пользователей в данных: 61733\n"
     ]
    }
   ],
   "source": [
    "nunique_info(new_users, 'user_id')"
   ]
  },
  {
   "cell_type": "markdown",
   "id": "ae45d240",
   "metadata": {},
   "source": [
    "Итак, таблица содержит информацию о 61 733 новых уникальных пользователей из четырех регионов. <br>Пропусков, дубликатов в данных не обнаружено. <br>Но столбцу `first_date` требуется корректировка формата даты и преобразовании в datetime.\n",
    "\n",
    "Согласно документации к данным:\n",
    "\n",
    "- `user_id` — идентификатор пользователя;\n",
    "- `first_date` — дата регистрации;\n",
    "- `region` — регион пользователя;\n",
    "- `device` — устройство, с которого происходила регистрация."
   ]
  },
  {
   "cell_type": "markdown",
   "id": "15635c0f",
   "metadata": {},
   "source": [
    "Преобразуем данные о датах в нужный формат"
   ]
  },
  {
   "cell_type": "code",
   "execution_count": 17,
   "id": "7a9697c6",
   "metadata": {},
   "outputs": [
    {
     "name": "stdout",
     "output_type": "stream",
     "text": [
      "Новый тип данных даты: datetime64[ns]\n"
     ]
    }
   ],
   "source": [
    "data_type_change_and_check(new_users, 'first_date', '%Y-%m-%d')"
   ]
  },
  {
   "cell_type": "markdown",
   "id": "ae0a770f",
   "metadata": {},
   "source": [
    "Посмотрим на соответствие дат регистрации новых пользователей техническому заданию."
   ]
  },
  {
   "cell_type": "code",
   "execution_count": 18,
   "id": "84750f46",
   "metadata": {},
   "outputs": [
    {
     "name": "stdout",
     "output_type": "stream",
     "text": [
      "Данные представлены за период с 2020-12-07 00:00:00 по  2020-12-23 00:00:00\n"
     ]
    }
   ],
   "source": [
    "date_check(new_users, 'first_date')"
   ]
  },
  {
   "cell_type": "markdown",
   "id": "3ae82350",
   "metadata": {},
   "source": [
    "Поскольку ТЗ установлена дата остановки набора новых пользователей - 21 декабря 2020, значит в данных таблицы `new_users` есть лишние данные за 2 дня с 21 по 23 декабря 2020. Для дальнейшего анализа создадим датасет с корректыми датами, соответствующими ТЗ. "
   ]
  },
  {
   "cell_type": "code",
   "execution_count": 19,
   "id": "420338b1",
   "metadata": {},
   "outputs": [],
   "source": [
    "correct_new_users = new_users.query('first_date <= \"2020-12-21\"')"
   ]
  },
  {
   "cell_type": "code",
   "execution_count": 20,
   "id": "e3a46b69",
   "metadata": {},
   "outputs": [
    {
     "name": "stdout",
     "output_type": "stream",
     "text": [
      "Данные представлены за период с 2020-12-07 00:00:00 по  2020-12-21 00:00:00\n"
     ]
    }
   ],
   "source": [
    "date_check(correct_new_users, 'first_date')"
   ]
  },
  {
   "cell_type": "markdown",
   "id": "05fd61a3",
   "metadata": {},
   "source": [
    "### Действия новых пользователей\n",
    "\n",
    "**Загрузим данные и познакомимся с действиями новых пользователей в период с 7 декабря по 4 января 2021**"
   ]
  },
  {
   "cell_type": "code",
   "execution_count": 21,
   "id": "2c3a8f40",
   "metadata": {
    "scrolled": true
   },
   "outputs": [
    {
     "name": "stdout",
     "output_type": "stream",
     "text": [
      "Знакомство с данными\n",
      "___________________ \n",
      "\n"
     ]
    },
    {
     "data": {
      "text/html": [
       "<div>\n",
       "<style scoped>\n",
       "    .dataframe tbody tr th:only-of-type {\n",
       "        vertical-align: middle;\n",
       "    }\n",
       "\n",
       "    .dataframe tbody tr th {\n",
       "        vertical-align: top;\n",
       "    }\n",
       "\n",
       "    .dataframe thead th {\n",
       "        text-align: right;\n",
       "    }\n",
       "</style>\n",
       "<table border=\"1\" class=\"dataframe\">\n",
       "  <thead>\n",
       "    <tr style=\"text-align: right;\">\n",
       "      <th></th>\n",
       "      <th>user_id</th>\n",
       "      <th>event_dt</th>\n",
       "      <th>event_name</th>\n",
       "      <th>details</th>\n",
       "    </tr>\n",
       "  </thead>\n",
       "  <tbody>\n",
       "    <tr>\n",
       "      <th>0</th>\n",
       "      <td>E1BDDCE0DAFA2679</td>\n",
       "      <td>2020-12-07 20:22:03</td>\n",
       "      <td>purchase</td>\n",
       "      <td>99.99</td>\n",
       "    </tr>\n",
       "    <tr>\n",
       "      <th>1</th>\n",
       "      <td>7B6452F081F49504</td>\n",
       "      <td>2020-12-07 09:22:53</td>\n",
       "      <td>purchase</td>\n",
       "      <td>9.99</td>\n",
       "    </tr>\n",
       "    <tr>\n",
       "      <th>2</th>\n",
       "      <td>9CD9F34546DF254C</td>\n",
       "      <td>2020-12-07 12:59:29</td>\n",
       "      <td>purchase</td>\n",
       "      <td>4.99</td>\n",
       "    </tr>\n",
       "    <tr>\n",
       "      <th>3</th>\n",
       "      <td>96F27A054B191457</td>\n",
       "      <td>2020-12-07 04:02:40</td>\n",
       "      <td>purchase</td>\n",
       "      <td>4.99</td>\n",
       "    </tr>\n",
       "    <tr>\n",
       "      <th>4</th>\n",
       "      <td>1FD7660FDF94CA1F</td>\n",
       "      <td>2020-12-07 10:15:09</td>\n",
       "      <td>purchase</td>\n",
       "      <td>4.99</td>\n",
       "    </tr>\n",
       "    <tr>\n",
       "      <th>5</th>\n",
       "      <td>831887FE7F2D6CBA</td>\n",
       "      <td>2020-12-07 06:50:29</td>\n",
       "      <td>purchase</td>\n",
       "      <td>4.99</td>\n",
       "    </tr>\n",
       "    <tr>\n",
       "      <th>6</th>\n",
       "      <td>6B2F726BFD5F8220</td>\n",
       "      <td>2020-12-07 11:27:42</td>\n",
       "      <td>purchase</td>\n",
       "      <td>4.99</td>\n",
       "    </tr>\n",
       "    <tr>\n",
       "      <th>7</th>\n",
       "      <td>BEB37715AACF53B0</td>\n",
       "      <td>2020-12-07 04:26:15</td>\n",
       "      <td>purchase</td>\n",
       "      <td>4.99</td>\n",
       "    </tr>\n",
       "    <tr>\n",
       "      <th>8</th>\n",
       "      <td>B5FA27F582227197</td>\n",
       "      <td>2020-12-07 01:46:37</td>\n",
       "      <td>purchase</td>\n",
       "      <td>4.99</td>\n",
       "    </tr>\n",
       "    <tr>\n",
       "      <th>9</th>\n",
       "      <td>A92195E3CFB83DBD</td>\n",
       "      <td>2020-12-07 00:32:07</td>\n",
       "      <td>purchase</td>\n",
       "      <td>4.99</td>\n",
       "    </tr>\n",
       "  </tbody>\n",
       "</table>\n",
       "</div>"
      ],
      "text/plain": [
       "            user_id             event_dt event_name  details\n",
       "0  E1BDDCE0DAFA2679  2020-12-07 20:22:03  purchase   99.99  \n",
       "1  7B6452F081F49504  2020-12-07 09:22:53  purchase   9.99   \n",
       "2  9CD9F34546DF254C  2020-12-07 12:59:29  purchase   4.99   \n",
       "3  96F27A054B191457  2020-12-07 04:02:40  purchase   4.99   \n",
       "4  1FD7660FDF94CA1F  2020-12-07 10:15:09  purchase   4.99   \n",
       "5  831887FE7F2D6CBA  2020-12-07 06:50:29  purchase   4.99   \n",
       "6  6B2F726BFD5F8220  2020-12-07 11:27:42  purchase   4.99   \n",
       "7  BEB37715AACF53B0  2020-12-07 04:26:15  purchase   4.99   \n",
       "8  B5FA27F582227197  2020-12-07 01:46:37  purchase   4.99   \n",
       "9  A92195E3CFB83DBD  2020-12-07 00:32:07  purchase   4.99   "
      ]
     },
     "metadata": {},
     "output_type": "display_data"
    },
    {
     "name": "stdout",
     "output_type": "stream",
     "text": [
      "\n",
      "Сводная информация о данных\n",
      "__________________________ \n",
      "\n",
      "<class 'pandas.core.frame.DataFrame'>\n",
      "RangeIndex: 440317 entries, 0 to 440316\n",
      "Data columns (total 4 columns):\n",
      " #   Column      Non-Null Count   Dtype  \n",
      "---  ------      --------------   -----  \n",
      " 0   user_id     440317 non-null  object \n",
      " 1   event_dt    440317 non-null  object \n",
      " 2   event_name  440317 non-null  object \n",
      " 3   details     62740 non-null   float64\n",
      "dtypes: float64(1), object(3)\n",
      "memory usage: 13.4+ MB\n",
      "\n",
      "Проверка данных на пропуски и дубликаты\n",
      "___________________________________ \n",
      "\n",
      "\n"
     ]
    },
    {
     "data": {
      "text/plain": [
       "user_id       0.00\n",
       "event_dt      0.00\n",
       "event_name    0.00\n",
       "details       0.86\n",
       "dtype: float64"
      ]
     },
     "metadata": {},
     "output_type": "display_data"
    },
    {
     "name": "stdout",
     "output_type": "stream",
     "text": [
      "Доля пропусков: None\n",
      "____________________ \n",
      "\n",
      "\n",
      "Количество дубликатов: 0\n",
      "______________________ \n",
      "\n"
     ]
    }
   ],
   "source": [
    "df_info(final_events)"
   ]
  },
  {
   "cell_type": "markdown",
   "id": "cc51f20b",
   "metadata": {},
   "source": [
    "Количество уникальных пользователей в данных:"
   ]
  },
  {
   "cell_type": "code",
   "execution_count": 22,
   "id": "3993b99b",
   "metadata": {},
   "outputs": [
    {
     "name": "stdout",
     "output_type": "stream",
     "text": [
      "Количество уникальных пользователей в данных: 58703\n"
     ]
    }
   ],
   "source": [
    "nunique_info(final_events, 'user_id')"
   ]
  },
  {
   "cell_type": "markdown",
   "id": "f18e3475",
   "metadata": {},
   "source": [
    "Посмотрим список и дополнительные данные и событиях."
   ]
  },
  {
   "cell_type": "code",
   "execution_count": 23,
   "id": "2a7986d7",
   "metadata": {},
   "outputs": [
    {
     "name": "stdout",
     "output_type": "stream",
     "text": [
      "Список уникальных значений event_name:\n",
      "________________________________ \n",
      "\n",
      "['purchase' 'product_cart' 'product_page' 'login']\n",
      "\n",
      "Список уникальных значений details:\n",
      "________________________________ \n",
      "\n",
      "[ 99.99   9.99   4.99 499.99    nan]\n",
      "\n"
     ]
    }
   ],
   "source": [
    "unique_info(final_events, ['event_name', 'details'])"
   ]
  },
  {
   "cell_type": "markdown",
   "id": "56164a60",
   "metadata": {},
   "source": [
    "Итак, таблица содержит информацию о действиях 58 703 новых уникальных пользователей. <br>Дуликатов нет, но данные столбца `details` содержат 86% пропусков. <br>Столбцу `event_dt` требуется корректировка формата даты и времени и преобразовании в datetime.\n",
    "\n",
    "Согласно документации к данным:\n",
    "\n",
    "- `user_id` — идентификатор пользователя;\n",
    "- `event_dt` — дата и время покупки;\n",
    "- `event_name` — тип события;\n",
    "- `details` — дополнительные данные о событии. Например, для покупок, `purchase` в этом поле хранится стоимость покупки в долларах."
   ]
  },
  {
   "cell_type": "markdown",
   "id": "064ce734",
   "metadata": {},
   "source": [
    "Преобразуем данные о дате и врмени в нужный формат"
   ]
  },
  {
   "cell_type": "code",
   "execution_count": 24,
   "id": "ee0fe217",
   "metadata": {},
   "outputs": [
    {
     "name": "stdout",
     "output_type": "stream",
     "text": [
      "Новый тип данных даты: datetime64[ns]\n"
     ]
    }
   ],
   "source": [
    "data_type_change_and_check(final_events, 'event_dt', '%Y-%m-%dT%H:%M:%S')"
   ]
  },
  {
   "cell_type": "markdown",
   "id": "679da556",
   "metadata": {},
   "source": [
    "Посмотрим на период действий новых пользователей:"
   ]
  },
  {
   "cell_type": "code",
   "execution_count": 25,
   "id": "cb20ae6a",
   "metadata": {},
   "outputs": [
    {
     "name": "stdout",
     "output_type": "stream",
     "text": [
      "Данные представлены за период с 2020-12-07 00:00:33 по  2020-12-30 23:36:33\n"
     ]
    }
   ],
   "source": [
    "date_check(final_events, 'event_dt')"
   ]
  },
  {
   "cell_type": "markdown",
   "id": "d657b84b",
   "metadata": {},
   "source": [
    "Дата остановки теста по ТЗ задана на 4 января 2021. Стало быть тест был основлен на 5 дней раньше положенного срока. Возможной причиной досрочной остановки могло быть:\n",
    "   - сильное падение конверсии,\n",
    "   - технической сбой при сборе логов,\n",
    "   - пользователи просто перестали совершать события,\n",
    "   - какие-то непредвиденные обстоятельства."
   ]
  },
  {
   "cell_type": "markdown",
   "id": "3fd2ae39",
   "metadata": {},
   "source": [
    "Попробуем понять причину пропусков в столбце `details`. Посмотрим на количество пропусков по событиям:"
   ]
  },
  {
   "cell_type": "code",
   "execution_count": 26,
   "id": "3f0ebe98",
   "metadata": {},
   "outputs": [
    {
     "data": {
      "text/plain": [
       "event_name\n",
       "login           189552\n",
       "product_page    125563\n",
       "product_cart    62462 \n",
       "Name: user_id, dtype: int64"
      ]
     },
     "execution_count": 26,
     "metadata": {},
     "output_type": "execute_result"
    }
   ],
   "source": [
    "(\n",
    "    final_events[final_events['details'].isna()]\n",
    "    .groupby('event_name')['user_id']\n",
    "    .count()\n",
    "    .sort_values(ascending=False)\n",
    ")"
   ]
  },
  {
   "cell_type": "markdown",
   "id": "4f832a9e",
   "metadata": {},
   "source": [
    "Посмотрим на общее распределение пользователей по событиям:"
   ]
  },
  {
   "cell_type": "code",
   "execution_count": 27,
   "id": "4253a984",
   "metadata": {},
   "outputs": [
    {
     "data": {
      "text/plain": [
       "login           189552\n",
       "product_page    125563\n",
       "purchase        62740 \n",
       "product_cart    62462 \n",
       "Name: event_name, dtype: int64"
      ]
     },
     "execution_count": 27,
     "metadata": {},
     "output_type": "execute_result"
    }
   ],
   "source": [
    "final_events['event_name'].value_counts()"
   ]
  },
  {
   "cell_type": "markdown",
   "id": "6190037b",
   "metadata": {},
   "source": [
    "По всей видимости у всех событий, кроме `purchase` просто нет дополнительных деталей события. Пока эти данные не влияют на исследование, оставим так."
   ]
  },
  {
   "cell_type": "markdown",
   "id": "cc1d9efb",
   "metadata": {},
   "source": [
    "### Участники тестов\n",
    "\n",
    "**Загрузим данные и познакомимся с участниками тестов**"
   ]
  },
  {
   "cell_type": "code",
   "execution_count": 28,
   "id": "6f120269",
   "metadata": {
    "scrolled": true
   },
   "outputs": [
    {
     "name": "stdout",
     "output_type": "stream",
     "text": [
      "Знакомство с данными\n",
      "___________________ \n",
      "\n"
     ]
    },
    {
     "data": {
      "text/html": [
       "<div>\n",
       "<style scoped>\n",
       "    .dataframe tbody tr th:only-of-type {\n",
       "        vertical-align: middle;\n",
       "    }\n",
       "\n",
       "    .dataframe tbody tr th {\n",
       "        vertical-align: top;\n",
       "    }\n",
       "\n",
       "    .dataframe thead th {\n",
       "        text-align: right;\n",
       "    }\n",
       "</style>\n",
       "<table border=\"1\" class=\"dataframe\">\n",
       "  <thead>\n",
       "    <tr style=\"text-align: right;\">\n",
       "      <th></th>\n",
       "      <th>user_id</th>\n",
       "      <th>group</th>\n",
       "      <th>ab_test</th>\n",
       "    </tr>\n",
       "  </thead>\n",
       "  <tbody>\n",
       "    <tr>\n",
       "      <th>0</th>\n",
       "      <td>D1ABA3E2887B6A73</td>\n",
       "      <td>A</td>\n",
       "      <td>recommender_system_test</td>\n",
       "    </tr>\n",
       "    <tr>\n",
       "      <th>1</th>\n",
       "      <td>A7A3664BD6242119</td>\n",
       "      <td>A</td>\n",
       "      <td>recommender_system_test</td>\n",
       "    </tr>\n",
       "    <tr>\n",
       "      <th>2</th>\n",
       "      <td>DABC14FDDFADD29E</td>\n",
       "      <td>A</td>\n",
       "      <td>recommender_system_test</td>\n",
       "    </tr>\n",
       "    <tr>\n",
       "      <th>3</th>\n",
       "      <td>04988C5DF189632E</td>\n",
       "      <td>A</td>\n",
       "      <td>recommender_system_test</td>\n",
       "    </tr>\n",
       "    <tr>\n",
       "      <th>4</th>\n",
       "      <td>482F14783456D21B</td>\n",
       "      <td>B</td>\n",
       "      <td>recommender_system_test</td>\n",
       "    </tr>\n",
       "    <tr>\n",
       "      <th>5</th>\n",
       "      <td>4FF2998A348C484F</td>\n",
       "      <td>A</td>\n",
       "      <td>recommender_system_test</td>\n",
       "    </tr>\n",
       "    <tr>\n",
       "      <th>6</th>\n",
       "      <td>7473E0943673C09E</td>\n",
       "      <td>A</td>\n",
       "      <td>recommender_system_test</td>\n",
       "    </tr>\n",
       "    <tr>\n",
       "      <th>7</th>\n",
       "      <td>C46FE336D240A054</td>\n",
       "      <td>A</td>\n",
       "      <td>recommender_system_test</td>\n",
       "    </tr>\n",
       "    <tr>\n",
       "      <th>8</th>\n",
       "      <td>92CB588012C10D3D</td>\n",
       "      <td>A</td>\n",
       "      <td>recommender_system_test</td>\n",
       "    </tr>\n",
       "    <tr>\n",
       "      <th>9</th>\n",
       "      <td>057AB296296C7FC0</td>\n",
       "      <td>B</td>\n",
       "      <td>recommender_system_test</td>\n",
       "    </tr>\n",
       "  </tbody>\n",
       "</table>\n",
       "</div>"
      ],
      "text/plain": [
       "            user_id group                  ab_test\n",
       "0  D1ABA3E2887B6A73  A     recommender_system_test\n",
       "1  A7A3664BD6242119  A     recommender_system_test\n",
       "2  DABC14FDDFADD29E  A     recommender_system_test\n",
       "3  04988C5DF189632E  A     recommender_system_test\n",
       "4  482F14783456D21B  B     recommender_system_test\n",
       "5  4FF2998A348C484F  A     recommender_system_test\n",
       "6  7473E0943673C09E  A     recommender_system_test\n",
       "7  C46FE336D240A054  A     recommender_system_test\n",
       "8  92CB588012C10D3D  A     recommender_system_test\n",
       "9  057AB296296C7FC0  B     recommender_system_test"
      ]
     },
     "metadata": {},
     "output_type": "display_data"
    },
    {
     "name": "stdout",
     "output_type": "stream",
     "text": [
      "\n",
      "Сводная информация о данных\n",
      "__________________________ \n",
      "\n",
      "<class 'pandas.core.frame.DataFrame'>\n",
      "RangeIndex: 18268 entries, 0 to 18267\n",
      "Data columns (total 3 columns):\n",
      " #   Column   Non-Null Count  Dtype \n",
      "---  ------   --------------  ----- \n",
      " 0   user_id  18268 non-null  object\n",
      " 1   group    18268 non-null  object\n",
      " 2   ab_test  18268 non-null  object\n",
      "dtypes: object(3)\n",
      "memory usage: 428.3+ KB\n",
      "\n",
      "Проверка данных на пропуски и дубликаты\n",
      "___________________________________ \n",
      "\n",
      "\n"
     ]
    },
    {
     "data": {
      "text/plain": [
       "user_id    0.0\n",
       "group      0.0\n",
       "ab_test    0.0\n",
       "dtype: float64"
      ]
     },
     "metadata": {},
     "output_type": "display_data"
    },
    {
     "name": "stdout",
     "output_type": "stream",
     "text": [
      "Доля пропусков: None\n",
      "____________________ \n",
      "\n",
      "\n",
      "Количество дубликатов: 0\n",
      "______________________ \n",
      "\n"
     ]
    }
   ],
   "source": [
    "df_info(participants)"
   ]
  },
  {
   "cell_type": "markdown",
   "id": "3dec1f04",
   "metadata": {},
   "source": [
    "Посмотрим на список названий тестов и группы пользователей:"
   ]
  },
  {
   "cell_type": "code",
   "execution_count": 29,
   "id": "0b820b3d",
   "metadata": {},
   "outputs": [
    {
     "name": "stdout",
     "output_type": "stream",
     "text": [
      "Список уникальных значений group:\n",
      "________________________________ \n",
      "\n",
      "['A' 'B']\n",
      "\n",
      "Список уникальных значений ab_test:\n",
      "________________________________ \n",
      "\n",
      "['recommender_system_test' 'interface_eu_test']\n",
      "\n"
     ]
    }
   ],
   "source": [
    "unique_info(participants, ['group', 'ab_test'])"
   ]
  },
  {
   "cell_type": "markdown",
   "id": "d21b6990",
   "metadata": {},
   "source": [
    "Количество уникальных пользователей в данных:"
   ]
  },
  {
   "cell_type": "code",
   "execution_count": 30,
   "id": "f7be5bc8",
   "metadata": {},
   "outputs": [
    {
     "name": "stdout",
     "output_type": "stream",
     "text": [
      "Количество уникальных пользователей в данных: 16666\n"
     ]
    }
   ],
   "source": [
    "nunique_info(participants, 'user_id')"
   ]
  },
  {
   "cell_type": "markdown",
   "id": "02a054b4",
   "metadata": {},
   "source": [
    "По ТЗ мы анализируем участников теста `recommender_system_test`. Посмотрим на их количество:"
   ]
  },
  {
   "cell_type": "code",
   "execution_count": 31,
   "id": "14f507a9",
   "metadata": {},
   "outputs": [
    {
     "name": "stdout",
     "output_type": "stream",
     "text": [
      "Количество уникальных пользователей в данных: 6701\n"
     ]
    }
   ],
   "source": [
    "nunique_info(participants.query('ab_test == \"recommender_system_test\"'), 'user_id')"
   ]
  },
  {
   "cell_type": "markdown",
   "id": "c33fcb0e",
   "metadata": {},
   "source": [
    "Итак, таблица содержит информацию о 16 666 участников тестов. <br>Пропусков и дуликатов в данных нет. <br>Все столбцы имеют правильный тип данных.\n",
    "\n",
    "Согласно документации к данным:\n",
    "\n",
    "- `user_id` — идентификатор пользователя;\n",
    "- `ab_test` — название теста;\n",
    "- `group` — группа пользователя."
   ]
  },
  {
   "cell_type": "markdown",
   "id": "34904303",
   "metadata": {},
   "source": [
    "**Вывод**\n",
    "\n",
    "В результате ознакомления с данными, выяснили:\n",
    "\n",
    "1. все названия столбцов оформлены в 'змеином стиле' и соответсвуют сути данных. Никаких корректировок здесь не требуется.\n",
    "2. в данных нет дубликатов.\n",
    "3. информация о дополнительных данных есть только по событию `purchase`, по остальным событиям она, видимо не фиксируется или несущественна, поэтому отсутствует. Таким образом 86% пропусков в столбце `details` не повлияют на результаты анализа и будут оставлены без изменений.\n",
    "4. все даты в датасетах приведены к нужному формату.\n",
    "\n",
    "Что интересного было обнаружено на первоначальном этапе:\n",
    "\n",
    "1. В данных о регистрации новых пользователей есть лишние данные за период, превышающий дату остановки набора согласно ТЗ. Данные `new_users` откоррктированы в соответствии с ТЗ.\n",
    "2. Выяснили, что тест был остановлен досрочно - 30 декабря 2020, вместо 4 января 2021. \n",
    "3. Выяснили, что в данных информация об участников двух тестов. \n",
    "\n",
    "Проведем дальнейшую оценку корректности проведения теста и посмотрим не было ли пересечния участников двух тест-групп."
   ]
  },
  {
   "cell_type": "markdown",
   "id": "f0326952",
   "metadata": {},
   "source": [
    "## Оценка корректности проведения теста\n",
    "\n",
    "В данном разделе будут сделаны следующие шаги:\n",
    "\n",
    "1. Проверка аудитории теста: пересечение пользователей в двух теста, внутри групп теста, равномерность распределения по тестовым группам и правильность их формирования.\n",
    "2. Проверка времени проведения теста на совпадение с маркетинговыми и другими активностями.\n",
    "3. Проверка соответствия данных требованиям всех пунктов технического задания. "
   ]
  },
  {
   "cell_type": "markdown",
   "id": "61e60851",
   "metadata": {},
   "source": [
    "Освежим в памяти первоначальное количество пользователей в нашей тесте:"
   ]
  },
  {
   "cell_type": "code",
   "execution_count": 32,
   "id": "282fbeb9",
   "metadata": {},
   "outputs": [
    {
     "name": "stdout",
     "output_type": "stream",
     "text": [
      "Количество уникальных пользователей в данных: 6701\n"
     ]
    }
   ],
   "source": [
    "nunique_info(participants.query('ab_test == \"recommender_system_test\"'), 'user_id')"
   ]
  },
  {
   "cell_type": "markdown",
   "id": "8b563b65",
   "metadata": {},
   "source": [
    "Проверим нет ли одних и тех же пользователей сразу в двух тест-группах. <br>Но, поскольку нам нужно будет исключить \"подглядывание\" и внутри нашего теста, напишем функцию проверки дублирующихся пользователей:"
   ]
  },
  {
   "cell_type": "code",
   "execution_count": 33,
   "id": "4eadc799",
   "metadata": {},
   "outputs": [],
   "source": [
    "def check_duplicated_user(df, column, group1, group2, users):\n",
    "    \"\"\"\n",
    "    функция проверяет наличие дублирующихся пользователей в двух группах\n",
    "    путем создания списка пользователей, присутствующих в обеих группах\n",
    "    \"\"\"\n",
    "    duplicated_user = (pd.Series(list(\n",
    "        set(df[df[column] == group1][users]) \n",
    "        & \n",
    "        set(df[df[column] == group2][users])\n",
    "    ), dtype=pd.StringDtype()))\n",
    "    return duplicated_user"
   ]
  },
  {
   "cell_type": "markdown",
   "id": "7ab61d3b",
   "metadata": {},
   "source": [
    "Создадим список и посмотрим количество таких пользователей если они есть:"
   ]
  },
  {
   "cell_type": "code",
   "execution_count": 34,
   "id": "f5a4d720",
   "metadata": {},
   "outputs": [],
   "source": [
    "duplicated_user_id_in_tests = (check_duplicated_user(participants,\n",
    "                                                     'ab_test', \n",
    "                                                     'recommender_system_test', \n",
    "                                                     'interface_eu_test', \n",
    "                                                     'user_id'))"
   ]
  },
  {
   "cell_type": "code",
   "execution_count": 35,
   "id": "502c3a4d",
   "metadata": {},
   "outputs": [
    {
     "name": "stdout",
     "output_type": "stream",
     "text": [
      "Итого уникальных дублирующихся пользователей: 1602\n"
     ]
    }
   ],
   "source": [
    "print('Итого уникальных дублирующихся пользователей:', duplicated_user_id_in_tests.nunique())"
   ]
  },
  {
   "cell_type": "markdown",
   "id": "76f7b33b",
   "metadata": {},
   "source": [
    "Таким образом у нас 1602 пользователя, которые  принимали участие одновременно в двух тестах. Посмотрим как распределены доли участников по двум группам нашего теста. Чтобы понять какая доля в каждой группе теста видела комбинированную версию сайта, включающую сразу два изменения согласно тестов. "
   ]
  },
  {
   "cell_type": "code",
   "execution_count": 36,
   "id": "5f848105",
   "metadata": {},
   "outputs": [
    {
     "data": {
      "text/plain": [
       "A    0.575\n",
       "B    0.425\n",
       "Name: group, dtype: float64"
      ]
     },
     "execution_count": 36,
     "metadata": {},
     "output_type": "execute_result"
    }
   ],
   "source": [
    "(\n",
    "    participants\n",
    "    .query('ab_test == \"recommender_system_test\" and user_id in @duplicated_user_id_in_tests')['group']\n",
    "    .value_counts(normalize = True)\n",
    "    .round(3)\n",
    ")"
   ]
  },
  {
   "cell_type": "markdown",
   "id": "bf34818d",
   "metadata": {},
   "source": [
    "Разница в 35% говорит нам о том, что влияние теста `interface_eu_test` на группы исследуемого теста `recommender_system_test` будет неравнозначно, что может сказаться на основном результате."
   ]
  },
  {
   "cell_type": "markdown",
   "id": "bd618405",
   "metadata": {},
   "source": [
    "Проверим общее распределение пользователей по группам в рамках нашего теста."
   ]
  },
  {
   "cell_type": "code",
   "execution_count": 37,
   "id": "84311d03",
   "metadata": {},
   "outputs": [
    {
     "data": {
      "text/plain": [
       "A    0.571\n",
       "B    0.429\n",
       "Name: group, dtype: float64"
      ]
     },
     "execution_count": 37,
     "metadata": {},
     "output_type": "execute_result"
    }
   ],
   "source": [
    "(\n",
    "    participants\n",
    "    .query('ab_test == \"recommender_system_test\"')['group']\n",
    "    .value_counts(normalize = True)\n",
    "    .round(3)\n",
    ")"
   ]
  },
  {
   "cell_type": "markdown",
   "id": "f380275d",
   "metadata": {},
   "source": [
    "**Вывод**\n",
    "\n",
    "* количество участников теста изначально было распределено неравномерно между группами - численность контрольной группы теста на 33% больше численности  группы В. А для успешного проведения теста разница в размерах выборок не должна превышает 1% если иное изначально не оговорено перед началом теста. \n",
    "* Но стоит отметить, что распредление долей в выборках без дублирующихся пользователей полностью соответсвует распределению долей с дублями. Загвоздка лищь в том, что мы ничего не знаем о втором тесте. Когда он проходил? Если он проходил параллельно и в теже сроки, что и исследуемый тест, то влияние дублей будет минимальным. А если он начался позже или закончился раньше, то мы имеем нерепрезентативную выборку, так как одни пользователи видели сайт с двумя обновления, а другие- только с одним. Не имея возможности прояснить этот важный момент, предлагаем исключить дублирующихся пользователей. "
   ]
  },
  {
   "cell_type": "markdown",
   "id": "23b0558d",
   "metadata": {},
   "source": [
    "Теперь убедимся в том, что не было \"подглядования\" пользователей между группами исследуемого теста и выборки содержат только уникальных пользователями для каждой группы."
   ]
  },
  {
   "cell_type": "code",
   "execution_count": 38,
   "id": "0589768c",
   "metadata": {},
   "outputs": [],
   "source": [
    "duplicated_user_id_in_group = (check_duplicated_user(participants\n",
    "                                                     .query('ab_test == \"recommender_system_test\"'),\n",
    "                                                     'group', \n",
    "                                                     'A', \n",
    "                                                     'B', \n",
    "                                                     'user_id'))"
   ]
  },
  {
   "cell_type": "code",
   "execution_count": 39,
   "id": "13ecace0",
   "metadata": {},
   "outputs": [
    {
     "name": "stdout",
     "output_type": "stream",
     "text": [
      "Итого уникальных дублирующихся пользователей: 0\n"
     ]
    }
   ],
   "source": [
    "print('Итого уникальных дублирующихся пользователей:', duplicated_user_id_in_group.nunique())"
   ]
  },
  {
   "cell_type": "markdown",
   "id": "5fc2564f",
   "metadata": {},
   "source": [
    "Отлично, хотя бы пользователи обеих групп теста уникальны. Проблема \"подглядывания\" пользователей из разных групп внутри теста исключена."
   ]
  },
  {
   "cell_type": "markdown",
   "id": "0e668f22",
   "metadata": {},
   "source": [
    "Прежде чем очистить данные от участников второго теста необходимо проверить требование ТЗ о 15% новых пользователей из EU, поэтому для начала объединим все данные кроме календаря по `user_id` и проверим этот пункт. Главная таблица у нас `participants`, поэтому присоединять будем только тех пользователей, что входят в исследуемый тест путем `left` объединения."
   ]
  },
  {
   "cell_type": "code",
   "execution_count": 40,
   "id": "d7a8aa05",
   "metadata": {},
   "outputs": [
    {
     "name": "stdout",
     "output_type": "stream",
     "text": [
      "<class 'pandas.core.frame.DataFrame'>\n",
      "Int64Index: 110368 entries, 0 to 110367\n",
      "Data columns (total 9 columns):\n",
      " #   Column      Non-Null Count   Dtype         \n",
      "---  ------      --------------   -----         \n",
      " 0   user_id     110368 non-null  object        \n",
      " 1   group       110368 non-null  object        \n",
      " 2   ab_test     110368 non-null  object        \n",
      " 3   first_date  104251 non-null  datetime64[ns]\n",
      " 4   region      104251 non-null  object        \n",
      " 5   device      104251 non-null  object        \n",
      " 6   event_dt    106625 non-null  datetime64[ns]\n",
      " 7   event_name  106625 non-null  object        \n",
      " 8   details     15416 non-null   float64       \n",
      "dtypes: datetime64[ns](2), float64(1), object(6)\n",
      "memory usage: 8.4+ MB\n"
     ]
    }
   ],
   "source": [
    "full_df = (participants\n",
    "           .merge(correct_new_users, \n",
    "                  on='user_id', \n",
    "                  how='left')\n",
    "           .merge(final_events, \n",
    "                  on='user_id', \n",
    "                  how='left'))\n",
    "# выведем общую информацию о новом датасете\n",
    "full_df.info()"
   ]
  },
  {
   "cell_type": "code",
   "execution_count": 41,
   "id": "e4be00d3",
   "metadata": {},
   "outputs": [
    {
     "data": {
      "text/plain": [
       "16666"
      ]
     },
     "execution_count": 41,
     "metadata": {},
     "output_type": "execute_result"
    }
   ],
   "source": [
    "# проверим, что 16 666 участников верно сжойнились\n",
    "full_df['user_id'].nunique()"
   ]
  },
  {
   "cell_type": "markdown",
   "id": "0594fa60",
   "metadata": {},
   "source": [
    "Оставим только регион EU"
   ]
  },
  {
   "cell_type": "code",
   "execution_count": 42,
   "id": "ab39392d",
   "metadata": {},
   "outputs": [
    {
     "data": {
      "text/plain": [
       "array(['EU'], dtype=object)"
      ]
     },
     "execution_count": 42,
     "metadata": {},
     "output_type": "execute_result"
    }
   ],
   "source": [
    "full_df = full_df.query('region == \"EU\"')\n",
    "\n",
    "# проверим, что все верно\n",
    "full_df['region'].unique()"
   ]
  },
  {
   "cell_type": "markdown",
   "id": "340cbf24",
   "metadata": {},
   "source": [
    "Посмотрим на общее количество новых пользователей из EU"
   ]
  },
  {
   "cell_type": "code",
   "execution_count": 43,
   "id": "4a66a0f3",
   "metadata": {},
   "outputs": [
    {
     "name": "stdout",
     "output_type": "stream",
     "text": [
      "Общее количество новый пользователей из региона EU: 15314\n"
     ]
    }
   ],
   "source": [
    "print('Общее количество новый пользователей из региона EU:', full_df['user_id'].nunique())"
   ]
  },
  {
   "cell_type": "code",
   "execution_count": 44,
   "id": "25d3f7f8",
   "metadata": {},
   "outputs": [
    {
     "name": "stdout",
     "output_type": "stream",
     "text": [
      "15% новых пользователей из региона EU - это 2297.1\n"
     ]
    }
   ],
   "source": [
    "print('15% новых пользователей из региона EU - это', (full_df['user_id'].nunique()*0.15))"
   ]
  },
  {
   "cell_type": "markdown",
   "id": "ec32c04f",
   "metadata": {},
   "source": [
    "И тут мы видим несоответсвие ТЗ: 15% новых пользователей из региона EU - это всего 2297 человек, тогда как ожидаемое количество участников теста - 6000."
   ]
  },
  {
   "cell_type": "markdown",
   "id": "912f8b70",
   "metadata": {},
   "source": [
    "Настало время собрать корректных участников теста `recommender_system_test` и исключить из данных дублирующихся участников обоих тестов."
   ]
  },
  {
   "cell_type": "code",
   "execution_count": 45,
   "id": "a8c5a3cf",
   "metadata": {},
   "outputs": [
    {
     "data": {
      "text/plain": [
       "4749"
      ]
     },
     "execution_count": 45,
     "metadata": {},
     "output_type": "execute_result"
    }
   ],
   "source": [
    "full_df = (full_df\n",
    "           .query('ab_test == \"recommender_system_test\" and user_id not in @duplicated_user_id_in_tests')\n",
    ")\n",
    "# посмотрим на итоговое количество участников исследуемого теста\n",
    "full_df['user_id'].nunique()"
   ]
  },
  {
   "cell_type": "markdown",
   "id": "5fd39bba",
   "metadata": {},
   "source": [
    "В данном случае ожидаемое количество участников теста стало значительно меньше ожидаемых 6000 по ТЗ, это была вынужденная, но необходимая мера для качественного анализа."
   ]
  },
  {
   "cell_type": "markdown",
   "id": "192ab449",
   "metadata": {},
   "source": [
    "Еще раз убедимся, что даты соответствуют ТЗ"
   ]
  },
  {
   "cell_type": "code",
   "execution_count": 46,
   "id": "226e25f7",
   "metadata": {},
   "outputs": [
    {
     "name": "stdout",
     "output_type": "stream",
     "text": [
      "Данные представлены за период с 2020-12-07 00:00:00 по  2020-12-21 00:00:00\n"
     ]
    }
   ],
   "source": [
    "date_check(full_df, 'first_date')"
   ]
  },
  {
   "cell_type": "code",
   "execution_count": 47,
   "id": "bd0ae006",
   "metadata": {},
   "outputs": [
    {
     "name": "stdout",
     "output_type": "stream",
     "text": [
      "Данные представлены за период с 2020-12-07 00:16:00 по  2020-12-30 06:42:52\n"
     ]
    }
   ],
   "source": [
    "date_check(full_df, 'event_dt')"
   ]
  },
  {
   "cell_type": "markdown",
   "id": "b336ddda",
   "metadata": {},
   "source": [
    "Проверим, не пересекается ли период проведения теста с какими-либо маркетинговыми событиями, что крайне нежелательно, поскольку повышенная активность пользователей, замотивированных какой-либо акцией может существенно исказить результаты теста. Учитывая, что акция могла начаться до 7 декабря, посомтрим также все акции, которые не только начались 7 декабря, но и те, что шли до 30 декабря."
   ]
  },
  {
   "cell_type": "code",
   "execution_count": 48,
   "id": "d6b31530",
   "metadata": {},
   "outputs": [
    {
     "data": {
      "text/html": [
       "<div>\n",
       "<style scoped>\n",
       "    .dataframe tbody tr th:only-of-type {\n",
       "        vertical-align: middle;\n",
       "    }\n",
       "\n",
       "    .dataframe tbody tr th {\n",
       "        vertical-align: top;\n",
       "    }\n",
       "\n",
       "    .dataframe thead th {\n",
       "        text-align: right;\n",
       "    }\n",
       "</style>\n",
       "<table border=\"1\" class=\"dataframe\">\n",
       "  <thead>\n",
       "    <tr style=\"text-align: right;\">\n",
       "      <th></th>\n",
       "      <th>name</th>\n",
       "      <th>regions</th>\n",
       "      <th>start_dt</th>\n",
       "      <th>finish_dt</th>\n",
       "    </tr>\n",
       "  </thead>\n",
       "  <tbody>\n",
       "    <tr>\n",
       "      <th>0</th>\n",
       "      <td>Christmas&amp;New Year Promo</td>\n",
       "      <td>EU, N.America</td>\n",
       "      <td>2020-12-25</td>\n",
       "      <td>2021-01-03</td>\n",
       "    </tr>\n",
       "    <tr>\n",
       "      <th>1</th>\n",
       "      <td>St. Valentine's Day Giveaway</td>\n",
       "      <td>EU, CIS, APAC, N.America</td>\n",
       "      <td>2020-02-14</td>\n",
       "      <td>2020-02-16</td>\n",
       "    </tr>\n",
       "    <tr>\n",
       "      <th>2</th>\n",
       "      <td>St. Patric's Day Promo</td>\n",
       "      <td>EU, N.America</td>\n",
       "      <td>2020-03-17</td>\n",
       "      <td>2020-03-19</td>\n",
       "    </tr>\n",
       "    <tr>\n",
       "      <th>3</th>\n",
       "      <td>Easter Promo</td>\n",
       "      <td>EU, CIS, APAC, N.America</td>\n",
       "      <td>2020-04-12</td>\n",
       "      <td>2020-04-19</td>\n",
       "    </tr>\n",
       "    <tr>\n",
       "      <th>5</th>\n",
       "      <td>Black Friday Ads Campaign</td>\n",
       "      <td>EU, CIS, APAC, N.America</td>\n",
       "      <td>2020-11-26</td>\n",
       "      <td>2020-12-01</td>\n",
       "    </tr>\n",
       "    <tr>\n",
       "      <th>7</th>\n",
       "      <td>Labor day (May 1st) Ads Campaign</td>\n",
       "      <td>EU, CIS, APAC</td>\n",
       "      <td>2020-05-01</td>\n",
       "      <td>2020-05-03</td>\n",
       "    </tr>\n",
       "    <tr>\n",
       "      <th>8</th>\n",
       "      <td>International Women's Day Promo</td>\n",
       "      <td>EU, CIS, APAC</td>\n",
       "      <td>2020-03-08</td>\n",
       "      <td>2020-03-10</td>\n",
       "    </tr>\n",
       "  </tbody>\n",
       "</table>\n",
       "</div>"
      ],
      "text/plain": [
       "                               name                   regions   start_dt  \\\n",
       "0  Christmas&New Year Promo          EU, N.America            2020-12-25   \n",
       "1  St. Valentine's Day Giveaway      EU, CIS, APAC, N.America 2020-02-14   \n",
       "2  St. Patric's Day Promo            EU, N.America            2020-03-17   \n",
       "3  Easter Promo                      EU, CIS, APAC, N.America 2020-04-12   \n",
       "5  Black Friday Ads Campaign         EU, CIS, APAC, N.America 2020-11-26   \n",
       "7  Labor day (May 1st) Ads Campaign  EU, CIS, APAC            2020-05-01   \n",
       "8  International Women's Day Promo   EU, CIS, APAC            2020-03-08   \n",
       "\n",
       "   finish_dt  \n",
       "0 2021-01-03  \n",
       "1 2020-02-16  \n",
       "2 2020-03-19  \n",
       "3 2020-04-19  \n",
       "5 2020-12-01  \n",
       "7 2020-05-03  \n",
       "8 2020-03-10  "
      ]
     },
     "execution_count": 48,
     "metadata": {},
     "output_type": "execute_result"
    }
   ],
   "source": [
    "marketing_events[\n",
    "    (marketing_events['regions'].str.contains('EU')) & \n",
    "    ((marketing_events['start_dt'] >= \"2020-10-07\") |\n",
    "     (marketing_events['finish_dt'] <= \"2020-12-30\"))\n",
    "] "
   ]
  },
  {
   "cell_type": "markdown",
   "id": "c65221a2",
   "metadata": {},
   "source": [
    "**Вывод**\n",
    "\n",
    "Из всей выборки видим, что с 25 декабря началась Рождественская акция, которая безусловно сильно повлияла на покупательскую активность пользователей. Конечно, перед началом теста стоило учитывать, что даты проведения теста приходятся аккурат на одну из пиковых маркетинговых акций. А возможно, что именно \"неожиданно\" появившаяся повышенная активность клиентов и стала причиной преждевременной остановки теста.  \n",
    "\n",
    "Данные проанализированы на соответствие ТЗ, поэтому приступим к детальному изучению выборок и проведем исследовательский анализ."
   ]
  },
  {
   "cell_type": "markdown",
   "id": "0ff540be",
   "metadata": {},
   "source": [
    "## Исследовательский анализ выборок\n",
    "\n",
    "На данном этапе проверим:\n",
    "\n",
    "- Одинаково ли распределено количество событий на пользователя в выборках?\n",
    "- Как число событий в выборках распределено по дням?\n",
    "- Как меняется конверсия в воронке в выборках на разных этапах?\n",
    "- Какие особенности данных нужно учесть, прежде чем приступать к A/B-тестированию?"
   ]
  },
  {
   "cell_type": "markdown",
   "id": "68bde618",
   "metadata": {},
   "source": [
    "Посмотрим на основную информацию о логах:"
   ]
  },
  {
   "cell_type": "code",
   "execution_count": 49,
   "id": "9f58e416",
   "metadata": {},
   "outputs": [
    {
     "name": "stdout",
     "output_type": "stream",
     "text": [
      "Всего событий в логе: 17526\n",
      "Всего пользователей в логе: 4749\n",
      "Среднее количество событий на одного пользователя: 4\n",
      "Период данных: с 2020-12-07 00:16:00 по 2020-12-30 06:42:52\n"
     ]
    }
   ],
   "source": [
    "print(\"Всего событий в логе:\", full_df['event_name'].count())\n",
    "print('Всего пользователей в логе:', full_df['user_id'].nunique())\n",
    "print('Среднее количество событий на одного пользователя:', int(len(full_df) / full_df['user_id'].nunique()))\n",
    "print(\"Период данных: с\", full_df['event_dt'].min(), \"по\", full_df['event_dt'].max())"
   ]
  },
  {
   "cell_type": "markdown",
   "id": "36fbac1f",
   "metadata": {},
   "source": [
    "Cоздадим датасет с данными по количеству событий на каждого пользователя."
   ]
  },
  {
   "cell_type": "code",
   "execution_count": 50,
   "id": "c4b1304f",
   "metadata": {},
   "outputs": [
    {
     "data": {
      "text/html": [
       "<div>\n",
       "<style scoped>\n",
       "    .dataframe tbody tr th:only-of-type {\n",
       "        vertical-align: middle;\n",
       "    }\n",
       "\n",
       "    .dataframe tbody tr th {\n",
       "        vertical-align: top;\n",
       "    }\n",
       "\n",
       "    .dataframe thead th {\n",
       "        text-align: right;\n",
       "    }\n",
       "</style>\n",
       "<table border=\"1\" class=\"dataframe\">\n",
       "  <thead>\n",
       "    <tr style=\"text-align: right;\">\n",
       "      <th></th>\n",
       "      <th>user_id</th>\n",
       "      <th>group</th>\n",
       "      <th>event_count</th>\n",
       "    </tr>\n",
       "  </thead>\n",
       "  <tbody>\n",
       "    <tr>\n",
       "      <th>0</th>\n",
       "      <td>000ABE35EE11412F</td>\n",
       "      <td>A</td>\n",
       "      <td>0</td>\n",
       "    </tr>\n",
       "    <tr>\n",
       "      <th>1</th>\n",
       "      <td>0010A1C096941592</td>\n",
       "      <td>A</td>\n",
       "      <td>12</td>\n",
       "    </tr>\n",
       "    <tr>\n",
       "      <th>2</th>\n",
       "      <td>001C05E87D336C59</td>\n",
       "      <td>A</td>\n",
       "      <td>0</td>\n",
       "    </tr>\n",
       "    <tr>\n",
       "      <th>3</th>\n",
       "      <td>003DF44D7589BBD4</td>\n",
       "      <td>A</td>\n",
       "      <td>15</td>\n",
       "    </tr>\n",
       "    <tr>\n",
       "      <th>4</th>\n",
       "      <td>00505E15A9D81546</td>\n",
       "      <td>A</td>\n",
       "      <td>5</td>\n",
       "    </tr>\n",
       "    <tr>\n",
       "      <th>...</th>\n",
       "      <td>...</td>\n",
       "      <td>...</td>\n",
       "      <td>...</td>\n",
       "    </tr>\n",
       "    <tr>\n",
       "      <th>4744</th>\n",
       "      <td>FF8CF7057415EB29</td>\n",
       "      <td>B</td>\n",
       "      <td>4</td>\n",
       "    </tr>\n",
       "    <tr>\n",
       "      <th>4745</th>\n",
       "      <td>FFAE9489C76F352B</td>\n",
       "      <td>A</td>\n",
       "      <td>6</td>\n",
       "    </tr>\n",
       "    <tr>\n",
       "      <th>4746</th>\n",
       "      <td>FFB3F647898BA928</td>\n",
       "      <td>B</td>\n",
       "      <td>0</td>\n",
       "    </tr>\n",
       "    <tr>\n",
       "      <th>4747</th>\n",
       "      <td>FFC2C5F898D1245B</td>\n",
       "      <td>B</td>\n",
       "      <td>0</td>\n",
       "    </tr>\n",
       "    <tr>\n",
       "      <th>4748</th>\n",
       "      <td>FFE858A7845F005E</td>\n",
       "      <td>A</td>\n",
       "      <td>0</td>\n",
       "    </tr>\n",
       "  </tbody>\n",
       "</table>\n",
       "<p>4749 rows × 3 columns</p>\n",
       "</div>"
      ],
      "text/plain": [
       "               user_id group  event_count\n",
       "0     000ABE35EE11412F  A     0          \n",
       "1     0010A1C096941592  A     12         \n",
       "2     001C05E87D336C59  A     0          \n",
       "3     003DF44D7589BBD4  A     15         \n",
       "4     00505E15A9D81546  A     5          \n",
       "...                ... ..    ..          \n",
       "4744  FF8CF7057415EB29  B     4          \n",
       "4745  FFAE9489C76F352B  A     6          \n",
       "4746  FFB3F647898BA928  B     0          \n",
       "4747  FFC2C5F898D1245B  B     0          \n",
       "4748  FFE858A7845F005E  A     0          \n",
       "\n",
       "[4749 rows x 3 columns]"
      ]
     },
     "execution_count": 50,
     "metadata": {},
     "output_type": "execute_result"
    }
   ],
   "source": [
    "users_by_groups = (full_df\n",
    "                   .groupby(['user_id', 'group'])\n",
    "                   .agg({'event_name':'count'})\n",
    "                   .rename(columns={'event_name':'event_count'})\n",
    "                   .reset_index())\n",
    "users_by_groups"
   ]
  },
  {
   "cell_type": "markdown",
   "id": "fc53d575",
   "metadata": {},
   "source": [
    "Посмотрим одинаково ли распределено количество событий на пользователя в выборках. "
   ]
  },
  {
   "cell_type": "code",
   "execution_count": 51,
   "id": "4bf0ce77",
   "metadata": {},
   "outputs": [
    {
     "data": {
      "image/png": "[encoded data removed]"
     },
     "metadata": {},
     "output_type": "display_data"
    }
   ],
   "source": [
    "# распределение количества событий на одного пользователя в группе А\n",
    "fig = px.box(users_by_groups, \n",
    "             y='event_count',\n",
    "             x='group', \n",
    "             color='group',\n",
    "             template='gridon',\n",
    "             title=\"Распределение количества событий на одного пользователя в группах\",\n",
    "             labels={'event_name':'Количество событий'})\n",
    "            \n",
    "fig.update_layout(width=1000, height=550)\n",
    "\n",
    "fig.show(\"png\")"
   ]
  },
  {
   "cell_type": "markdown",
   "id": "e1efe84b",
   "metadata": {},
   "source": [
    "Найдем количество пользователей в каждой группе"
   ]
  },
  {
   "cell_type": "code",
   "execution_count": 52,
   "id": "ee02c5cd",
   "metadata": {},
   "outputs": [
    {
     "data": {
      "text/plain": [
       "A    2713\n",
       "B    2036\n",
       "Name: group, dtype: int64"
      ]
     },
     "execution_count": 52,
     "metadata": {},
     "output_type": "execute_result"
    }
   ],
   "source": [
    "total_count_users_by_testgroup = users_by_groups['group'].value_counts()\n",
    "total_count_users_by_testgroup"
   ]
  },
  {
   "cell_type": "markdown",
   "id": "da8468c0",
   "metadata": {},
   "source": [
    "Посмотрим на долю пользователей в каждой группе, которые не совершали никаких событий."
   ]
  },
  {
   "cell_type": "code",
   "execution_count": 53,
   "id": "c4cb1886",
   "metadata": {},
   "outputs": [
    {
     "data": {
      "text/plain": [
       "group\n",
       "A    0.29\n",
       "B    0.68\n",
       "dtype: float64"
      ]
     },
     "execution_count": 53,
     "metadata": {},
     "output_type": "execute_result"
    }
   ],
   "source": [
    "(\n",
    "    users_by_groups[users_by_groups['event_count'] == 0].groupby('group')['user_id'].count() / \n",
    "    users_by_groups['group'].value_counts()\n",
    ").round(2)"
   ]
  },
  {
   "cell_type": "markdown",
   "id": "9eeeb1fc",
   "metadata": {},
   "source": [
    "Распределение количества событий на одного пользователя в группах разительно отличается:\n",
    "   * в контрольной группе - А - медианное значение количества событий на одного пользователя равно 4. Но 29% пользователей не совершали никаких действитий,\n",
    "   * в группе В вообще  - ситуация плачевная - пользователи крайне неактивные - медиана количества событий на пользователя равна 0 и много выбросов в данных, поскольку 68% пользователей не совершали никаких действий на сайте."
   ]
  },
  {
   "cell_type": "markdown",
   "id": "02f68cc3",
   "metadata": {},
   "source": [
    "**Посмотрим на распределение событий по датам:**\n",
    "\n",
    "Для этого добавим столбец с датой события в данные."
   ]
  },
  {
   "cell_type": "code",
   "execution_count": 54,
   "id": "00be16dd",
   "metadata": {
    "scrolled": true
   },
   "outputs": [
    {
     "name": "stdout",
     "output_type": "stream",
     "text": [
      "Новый тип данных даты: datetime64[ns]\n"
     ]
    },
    {
     "data": {
      "text/html": [
       "<div>\n",
       "<style scoped>\n",
       "    .dataframe tbody tr th:only-of-type {\n",
       "        vertical-align: middle;\n",
       "    }\n",
       "\n",
       "    .dataframe tbody tr th {\n",
       "        vertical-align: top;\n",
       "    }\n",
       "\n",
       "    .dataframe thead th {\n",
       "        text-align: right;\n",
       "    }\n",
       "</style>\n",
       "<table border=\"1\" class=\"dataframe\">\n",
       "  <thead>\n",
       "    <tr style=\"text-align: right;\">\n",
       "      <th></th>\n",
       "      <th>user_id</th>\n",
       "      <th>group</th>\n",
       "      <th>ab_test</th>\n",
       "      <th>first_date</th>\n",
       "      <th>region</th>\n",
       "      <th>device</th>\n",
       "      <th>event_dt</th>\n",
       "      <th>event_name</th>\n",
       "      <th>details</th>\n",
       "      <th>event_date</th>\n",
       "    </tr>\n",
       "  </thead>\n",
       "  <tbody>\n",
       "    <tr>\n",
       "      <th>0</th>\n",
       "      <td>D1ABA3E2887B6A73</td>\n",
       "      <td>A</td>\n",
       "      <td>recommender_system_test</td>\n",
       "      <td>2020-12-07</td>\n",
       "      <td>EU</td>\n",
       "      <td>PC</td>\n",
       "      <td>2020-12-07 14:43:27</td>\n",
       "      <td>purchase</td>\n",
       "      <td>99.99</td>\n",
       "      <td>2020-12-07</td>\n",
       "    </tr>\n",
       "    <tr>\n",
       "      <th>1</th>\n",
       "      <td>D1ABA3E2887B6A73</td>\n",
       "      <td>A</td>\n",
       "      <td>recommender_system_test</td>\n",
       "      <td>2020-12-07</td>\n",
       "      <td>EU</td>\n",
       "      <td>PC</td>\n",
       "      <td>2020-12-25 00:04:56</td>\n",
       "      <td>purchase</td>\n",
       "      <td>4.99</td>\n",
       "      <td>2020-12-25</td>\n",
       "    </tr>\n",
       "    <tr>\n",
       "      <th>2</th>\n",
       "      <td>D1ABA3E2887B6A73</td>\n",
       "      <td>A</td>\n",
       "      <td>recommender_system_test</td>\n",
       "      <td>2020-12-07</td>\n",
       "      <td>EU</td>\n",
       "      <td>PC</td>\n",
       "      <td>2020-12-07 14:43:29</td>\n",
       "      <td>product_cart</td>\n",
       "      <td>NaN</td>\n",
       "      <td>2020-12-07</td>\n",
       "    </tr>\n",
       "    <tr>\n",
       "      <th>3</th>\n",
       "      <td>D1ABA3E2887B6A73</td>\n",
       "      <td>A</td>\n",
       "      <td>recommender_system_test</td>\n",
       "      <td>2020-12-07</td>\n",
       "      <td>EU</td>\n",
       "      <td>PC</td>\n",
       "      <td>2020-12-25 00:04:57</td>\n",
       "      <td>product_cart</td>\n",
       "      <td>NaN</td>\n",
       "      <td>2020-12-25</td>\n",
       "    </tr>\n",
       "    <tr>\n",
       "      <th>4</th>\n",
       "      <td>D1ABA3E2887B6A73</td>\n",
       "      <td>A</td>\n",
       "      <td>recommender_system_test</td>\n",
       "      <td>2020-12-07</td>\n",
       "      <td>EU</td>\n",
       "      <td>PC</td>\n",
       "      <td>2020-12-07 14:43:27</td>\n",
       "      <td>product_page</td>\n",
       "      <td>NaN</td>\n",
       "      <td>2020-12-07</td>\n",
       "    </tr>\n",
       "  </tbody>\n",
       "</table>\n",
       "</div>"
      ],
      "text/plain": [
       "            user_id group                  ab_test first_date region device  \\\n",
       "0  D1ABA3E2887B6A73  A     recommender_system_test 2020-12-07  EU     PC      \n",
       "1  D1ABA3E2887B6A73  A     recommender_system_test 2020-12-07  EU     PC      \n",
       "2  D1ABA3E2887B6A73  A     recommender_system_test 2020-12-07  EU     PC      \n",
       "3  D1ABA3E2887B6A73  A     recommender_system_test 2020-12-07  EU     PC      \n",
       "4  D1ABA3E2887B6A73  A     recommender_system_test 2020-12-07  EU     PC      \n",
       "\n",
       "             event_dt    event_name  details event_date  \n",
       "0 2020-12-07 14:43:27  purchase      99.99   2020-12-07  \n",
       "1 2020-12-25 00:04:56  purchase      4.99    2020-12-25  \n",
       "2 2020-12-07 14:43:29  product_cart NaN      2020-12-07  \n",
       "3 2020-12-25 00:04:57  product_cart NaN      2020-12-25  \n",
       "4 2020-12-07 14:43:27  product_page NaN      2020-12-07  "
      ]
     },
     "execution_count": 54,
     "metadata": {},
     "output_type": "execute_result"
    }
   ],
   "source": [
    "full_df['event_date'] = pd.to_datetime(full_df['event_dt']).dt.date\n",
    "data_type_change_and_check(full_df, 'event_date', '%Y-%m-%d')\n",
    "full_df.head()"
   ]
  },
  {
   "cell_type": "markdown",
   "id": "94df3369",
   "metadata": {},
   "source": [
    "Посмотрим на общее количество событий по дням:"
   ]
  },
  {
   "cell_type": "code",
   "execution_count": 55,
   "id": "0be80e7e",
   "metadata": {
    "scrolled": true
   },
   "outputs": [
    {
     "data": {
      "text/html": [
       "<div>\n",
       "<style scoped>\n",
       "    .dataframe tbody tr th:only-of-type {\n",
       "        vertical-align: middle;\n",
       "    }\n",
       "\n",
       "    .dataframe tbody tr th {\n",
       "        vertical-align: top;\n",
       "    }\n",
       "\n",
       "    .dataframe thead th {\n",
       "        text-align: right;\n",
       "    }\n",
       "</style>\n",
       "<table border=\"1\" class=\"dataframe\">\n",
       "  <thead>\n",
       "    <tr style=\"text-align: right;\">\n",
       "      <th></th>\n",
       "      <th>event_name</th>\n",
       "    </tr>\n",
       "    <tr>\n",
       "      <th>event_date</th>\n",
       "      <th></th>\n",
       "    </tr>\n",
       "  </thead>\n",
       "  <tbody>\n",
       "    <tr>\n",
       "      <th>2020-12-07</th>\n",
       "      <td>489</td>\n",
       "    </tr>\n",
       "    <tr>\n",
       "      <th>2020-12-08</th>\n",
       "      <td>408</td>\n",
       "    </tr>\n",
       "    <tr>\n",
       "      <th>2020-12-09</th>\n",
       "      <td>532</td>\n",
       "    </tr>\n",
       "    <tr>\n",
       "      <th>2020-12-10</th>\n",
       "      <td>428</td>\n",
       "    </tr>\n",
       "    <tr>\n",
       "      <th>2020-12-11</th>\n",
       "      <td>379</td>\n",
       "    </tr>\n",
       "    <tr>\n",
       "      <th>2020-12-12</th>\n",
       "      <td>423</td>\n",
       "    </tr>\n",
       "    <tr>\n",
       "      <th>2020-12-13</th>\n",
       "      <td>336</td>\n",
       "    </tr>\n",
       "    <tr>\n",
       "      <th>2020-12-14</th>\n",
       "      <td>948</td>\n",
       "    </tr>\n",
       "    <tr>\n",
       "      <th>2020-12-15</th>\n",
       "      <td>944</td>\n",
       "    </tr>\n",
       "    <tr>\n",
       "      <th>2020-12-16</th>\n",
       "      <td>1023</td>\n",
       "    </tr>\n",
       "    <tr>\n",
       "      <th>2020-12-17</th>\n",
       "      <td>1069</td>\n",
       "    </tr>\n",
       "    <tr>\n",
       "      <th>2020-12-18</th>\n",
       "      <td>1108</td>\n",
       "    </tr>\n",
       "    <tr>\n",
       "      <th>2020-12-19</th>\n",
       "      <td>1316</td>\n",
       "    </tr>\n",
       "    <tr>\n",
       "      <th>2020-12-20</th>\n",
       "      <td>1337</td>\n",
       "    </tr>\n",
       "    <tr>\n",
       "      <th>2020-12-21</th>\n",
       "      <td>1750</td>\n",
       "    </tr>\n",
       "    <tr>\n",
       "      <th>2020-12-22</th>\n",
       "      <td>1090</td>\n",
       "    </tr>\n",
       "    <tr>\n",
       "      <th>2020-12-23</th>\n",
       "      <td>864</td>\n",
       "    </tr>\n",
       "    <tr>\n",
       "      <th>2020-12-24</th>\n",
       "      <td>742</td>\n",
       "    </tr>\n",
       "    <tr>\n",
       "      <th>2020-12-25</th>\n",
       "      <td>567</td>\n",
       "    </tr>\n",
       "    <tr>\n",
       "      <th>2020-12-26</th>\n",
       "      <td>491</td>\n",
       "    </tr>\n",
       "    <tr>\n",
       "      <th>2020-12-27</th>\n",
       "      <td>513</td>\n",
       "    </tr>\n",
       "    <tr>\n",
       "      <th>2020-12-28</th>\n",
       "      <td>395</td>\n",
       "    </tr>\n",
       "    <tr>\n",
       "      <th>2020-12-29</th>\n",
       "      <td>372</td>\n",
       "    </tr>\n",
       "    <tr>\n",
       "      <th>2020-12-30</th>\n",
       "      <td>2</td>\n",
       "    </tr>\n",
       "  </tbody>\n",
       "</table>\n",
       "</div>"
      ],
      "text/plain": [
       "            event_name\n",
       "event_date            \n",
       "2020-12-07  489       \n",
       "2020-12-08  408       \n",
       "2020-12-09  532       \n",
       "2020-12-10  428       \n",
       "2020-12-11  379       \n",
       "2020-12-12  423       \n",
       "2020-12-13  336       \n",
       "2020-12-14  948       \n",
       "2020-12-15  944       \n",
       "2020-12-16  1023      \n",
       "2020-12-17  1069      \n",
       "2020-12-18  1108      \n",
       "2020-12-19  1316      \n",
       "2020-12-20  1337      \n",
       "2020-12-21  1750      \n",
       "2020-12-22  1090      \n",
       "2020-12-23  864       \n",
       "2020-12-24  742       \n",
       "2020-12-25  567       \n",
       "2020-12-26  491       \n",
       "2020-12-27  513       \n",
       "2020-12-28  395       \n",
       "2020-12-29  372       \n",
       "2020-12-30  2         "
      ]
     },
     "execution_count": 55,
     "metadata": {},
     "output_type": "execute_result"
    }
   ],
   "source": [
    "full_df.pivot_table(index='event_date', values='event_name', aggfunc='count')"
   ]
  },
  {
   "cell_type": "markdown",
   "id": "5aedbddf",
   "metadata": {},
   "source": [
    "Заметен всплеск активности пользователей с 14 по 22 декабря. Вероятнее всего - это закономерный скачок покупательской активности перед Рождеством. Также не стоит забывать о возможном влиянии активности на маркетинговое мероприятие `Christmas&New Year Promo`, даже если оно имело не сильное влияние на покупательский интерес пользователей, что заметно по цифрам. <br>Посмотрим на распределение общего количества каждого события по дням"
   ]
  },
  {
   "cell_type": "code",
   "execution_count": 56,
   "id": "fd3f293d",
   "metadata": {},
   "outputs": [
    {
     "data": {
      "text/html": [
       "<div>\n",
       "<style scoped>\n",
       "    .dataframe tbody tr th:only-of-type {\n",
       "        vertical-align: middle;\n",
       "    }\n",
       "\n",
       "    .dataframe tbody tr th {\n",
       "        vertical-align: top;\n",
       "    }\n",
       "\n",
       "    .dataframe thead th {\n",
       "        text-align: right;\n",
       "    }\n",
       "</style>\n",
       "<table border=\"1\" class=\"dataframe\">\n",
       "  <thead>\n",
       "    <tr style=\"text-align: right;\">\n",
       "      <th></th>\n",
       "      <th>event_date</th>\n",
       "      <th>event_name</th>\n",
       "      <th>count</th>\n",
       "    </tr>\n",
       "  </thead>\n",
       "  <tbody>\n",
       "    <tr>\n",
       "      <th>0</th>\n",
       "      <td>2020-12-07</td>\n",
       "      <td>login</td>\n",
       "      <td>217</td>\n",
       "    </tr>\n",
       "    <tr>\n",
       "      <th>1</th>\n",
       "      <td>2020-12-07</td>\n",
       "      <td>product_cart</td>\n",
       "      <td>56</td>\n",
       "    </tr>\n",
       "    <tr>\n",
       "      <th>2</th>\n",
       "      <td>2020-12-07</td>\n",
       "      <td>product_page</td>\n",
       "      <td>142</td>\n",
       "    </tr>\n",
       "    <tr>\n",
       "      <th>3</th>\n",
       "      <td>2020-12-07</td>\n",
       "      <td>purchase</td>\n",
       "      <td>74</td>\n",
       "    </tr>\n",
       "    <tr>\n",
       "      <th>4</th>\n",
       "      <td>2020-12-08</td>\n",
       "      <td>login</td>\n",
       "      <td>189</td>\n",
       "    </tr>\n",
       "    <tr>\n",
       "      <th>...</th>\n",
       "      <td>...</td>\n",
       "      <td>...</td>\n",
       "      <td>...</td>\n",
       "    </tr>\n",
       "    <tr>\n",
       "      <th>90</th>\n",
       "      <td>2020-12-29</td>\n",
       "      <td>product_page</td>\n",
       "      <td>110</td>\n",
       "    </tr>\n",
       "    <tr>\n",
       "      <th>88</th>\n",
       "      <td>2020-12-29</td>\n",
       "      <td>login</td>\n",
       "      <td>172</td>\n",
       "    </tr>\n",
       "    <tr>\n",
       "      <th>91</th>\n",
       "      <td>2020-12-29</td>\n",
       "      <td>purchase</td>\n",
       "      <td>45</td>\n",
       "    </tr>\n",
       "    <tr>\n",
       "      <th>92</th>\n",
       "      <td>2020-12-30</td>\n",
       "      <td>login</td>\n",
       "      <td>1</td>\n",
       "    </tr>\n",
       "    <tr>\n",
       "      <th>93</th>\n",
       "      <td>2020-12-30</td>\n",
       "      <td>product_cart</td>\n",
       "      <td>1</td>\n",
       "    </tr>\n",
       "  </tbody>\n",
       "</table>\n",
       "<p>94 rows × 3 columns</p>\n",
       "</div>"
      ],
      "text/plain": [
       "   event_date    event_name  count\n",
       "0  2020-12-07  login         217  \n",
       "1  2020-12-07  product_cart  56   \n",
       "2  2020-12-07  product_page  142  \n",
       "3  2020-12-07  purchase      74   \n",
       "4  2020-12-08  login         189  \n",
       "..        ...    ...         ...  \n",
       "90 2020-12-29  product_page  110  \n",
       "88 2020-12-29  login         172  \n",
       "91 2020-12-29  purchase      45   \n",
       "92 2020-12-30  login         1    \n",
       "93 2020-12-30  product_cart  1    \n",
       "\n",
       "[94 rows x 3 columns]"
      ]
     },
     "execution_count": 56,
     "metadata": {},
     "output_type": "execute_result"
    }
   ],
   "source": [
    "(\n",
    "    full_df\n",
    "    .groupby(['event_date', 'event_name'])['user_id']\n",
    "    .count()\n",
    "    .reset_index()\n",
    "    .sort_values(by='event_date')\n",
    "    .rename(columns={'user_id':'count'})\n",
    ")"
   ]
  },
  {
   "cell_type": "markdown",
   "id": "4d20b05c",
   "metadata": {},
   "source": [
    "Построим гистограмму распределения событий за весь период:"
   ]
  },
  {
   "cell_type": "code",
   "execution_count": 57,
   "id": "335fc139",
   "metadata": {
    "scrolled": true
   },
   "outputs": [
    {
     "data": {
      "image/png": "[encoded data removed]"
     },
     "metadata": {},
     "output_type": "display_data"
    }
   ],
   "source": [
    "fig = px.histogram(full_df, \n",
    "                   x='event_date', \n",
    "                   color='event_name',\n",
    "                   barmode='group',\n",
    "                   template='gridon',\n",
    "                   title='Распределение событий по датам')\n",
    "\n",
    "fig.update_layout(xaxis_title='Дата', \n",
    "                  yaxis_title='Количество событий', \n",
    "                  autosize=False, \n",
    "                  width=1000, \n",
    "                  height=700, \n",
    "                  legend=dict(x=0.05, y=0.9), \n",
    "                  title={'font':dict(size=18)}, \n",
    "                  legend_title='Название события'\n",
    "                 )\n",
    "fig.update_xaxes(dtick='d1')\n",
    "\n",
    "fig.show(\"png\")"
   ]
  },
  {
   "cell_type": "markdown",
   "id": "11018148",
   "metadata": {},
   "source": [
    "Да, 14 декабря ативность пользователей в течение дня распределялась равномерно. Но, начиная с 14 декабря активность пользователей резко возрастает и растет до 22 декабря. Возможная причина - массовая закупка подарков за 10 дней до Рождества. <br>Посмотрим как распределились группы теста по датам:"
   ]
  },
  {
   "cell_type": "code",
   "execution_count": 58,
   "id": "441ae994",
   "metadata": {},
   "outputs": [
    {
     "data": {
      "image/png": "[encoded data removed]"
     },
     "metadata": {},
     "output_type": "display_data"
    }
   ],
   "source": [
    "fig = px.histogram(full_df, \n",
    "                   x='event_date', \n",
    "                   color='group',\n",
    "                   barmode='group',\n",
    "                   template='xgridoff',\n",
    "                   title='Распределение тест-групп по датам'\n",
    "                  )\n",
    "\n",
    "fig.update_layout(xaxis_title='Дата', \n",
    "                  yaxis_title='Количество пользователей в тест-группе', \n",
    "                  autosize=False, \n",
    "                  width=1000, \n",
    "                  height=700, \n",
    "                  title={'font':dict(size=18)}, \n",
    "                  legend_title='Тест-группа'\n",
    "                 )\n",
    "fig.update_xaxes(dtick='d1')\n",
    "\n",
    "fig.show(\"png\")"
   ]
  },
  {
   "cell_type": "markdown",
   "id": "99e82820",
   "metadata": {},
   "source": [
    "Посмотрим какое количество пользователей ежедневного регистрировалось на сайте с разбивкой по группам. Может здесь кроется причина?"
   ]
  },
  {
   "cell_type": "code",
   "execution_count": 59,
   "id": "0e338270",
   "metadata": {
    "scrolled": true
   },
   "outputs": [
    {
     "data": {
      "text/html": [
       "<div>\n",
       "<style scoped>\n",
       "    .dataframe tbody tr th:only-of-type {\n",
       "        vertical-align: middle;\n",
       "    }\n",
       "\n",
       "    .dataframe tbody tr th {\n",
       "        vertical-align: top;\n",
       "    }\n",
       "\n",
       "    .dataframe thead th {\n",
       "        text-align: right;\n",
       "    }\n",
       "</style>\n",
       "<table border=\"1\" class=\"dataframe\">\n",
       "  <thead>\n",
       "    <tr style=\"text-align: right;\">\n",
       "      <th>group</th>\n",
       "      <th>A</th>\n",
       "      <th>B</th>\n",
       "    </tr>\n",
       "    <tr>\n",
       "      <th>event_date</th>\n",
       "      <th></th>\n",
       "      <th></th>\n",
       "    </tr>\n",
       "  </thead>\n",
       "  <tbody>\n",
       "    <tr>\n",
       "      <th>2020-12-07</th>\n",
       "      <td>103.0</td>\n",
       "      <td>119.0</td>\n",
       "    </tr>\n",
       "    <tr>\n",
       "      <th>2020-12-08</th>\n",
       "      <td>108.0</td>\n",
       "      <td>82.0</td>\n",
       "    </tr>\n",
       "    <tr>\n",
       "      <th>2020-12-09</th>\n",
       "      <td>128.0</td>\n",
       "      <td>117.0</td>\n",
       "    </tr>\n",
       "    <tr>\n",
       "      <th>2020-12-10</th>\n",
       "      <td>113.0</td>\n",
       "      <td>89.0</td>\n",
       "    </tr>\n",
       "    <tr>\n",
       "      <th>2020-12-11</th>\n",
       "      <td>128.0</td>\n",
       "      <td>59.0</td>\n",
       "    </tr>\n",
       "    <tr>\n",
       "      <th>2020-12-12</th>\n",
       "      <td>128.0</td>\n",
       "      <td>75.0</td>\n",
       "    </tr>\n",
       "    <tr>\n",
       "      <th>2020-12-13</th>\n",
       "      <td>116.0</td>\n",
       "      <td>54.0</td>\n",
       "    </tr>\n",
       "    <tr>\n",
       "      <th>2020-12-14</th>\n",
       "      <td>339.0</td>\n",
       "      <td>95.0</td>\n",
       "    </tr>\n",
       "    <tr>\n",
       "      <th>2020-12-15</th>\n",
       "      <td>340.0</td>\n",
       "      <td>82.0</td>\n",
       "    </tr>\n",
       "    <tr>\n",
       "      <th>2020-12-16</th>\n",
       "      <td>327.0</td>\n",
       "      <td>123.0</td>\n",
       "    </tr>\n",
       "    <tr>\n",
       "      <th>2020-12-17</th>\n",
       "      <td>377.0</td>\n",
       "      <td>90.0</td>\n",
       "    </tr>\n",
       "    <tr>\n",
       "      <th>2020-12-18</th>\n",
       "      <td>399.0</td>\n",
       "      <td>98.0</td>\n",
       "    </tr>\n",
       "    <tr>\n",
       "      <th>2020-12-19</th>\n",
       "      <td>473.0</td>\n",
       "      <td>103.0</td>\n",
       "    </tr>\n",
       "    <tr>\n",
       "      <th>2020-12-20</th>\n",
       "      <td>480.0</td>\n",
       "      <td>118.0</td>\n",
       "    </tr>\n",
       "    <tr>\n",
       "      <th>2020-12-21</th>\n",
       "      <td>637.0</td>\n",
       "      <td>141.0</td>\n",
       "    </tr>\n",
       "    <tr>\n",
       "      <th>2020-12-22</th>\n",
       "      <td>429.0</td>\n",
       "      <td>66.0</td>\n",
       "    </tr>\n",
       "    <tr>\n",
       "      <th>2020-12-23</th>\n",
       "      <td>324.0</td>\n",
       "      <td>76.0</td>\n",
       "    </tr>\n",
       "    <tr>\n",
       "      <th>2020-12-24</th>\n",
       "      <td>272.0</td>\n",
       "      <td>53.0</td>\n",
       "    </tr>\n",
       "    <tr>\n",
       "      <th>2020-12-25</th>\n",
       "      <td>207.0</td>\n",
       "      <td>42.0</td>\n",
       "    </tr>\n",
       "    <tr>\n",
       "      <th>2020-12-26</th>\n",
       "      <td>182.0</td>\n",
       "      <td>39.0</td>\n",
       "    </tr>\n",
       "    <tr>\n",
       "      <th>2020-12-27</th>\n",
       "      <td>184.0</td>\n",
       "      <td>44.0</td>\n",
       "    </tr>\n",
       "    <tr>\n",
       "      <th>2020-12-28</th>\n",
       "      <td>143.0</td>\n",
       "      <td>37.0</td>\n",
       "    </tr>\n",
       "    <tr>\n",
       "      <th>2020-12-29</th>\n",
       "      <td>146.0</td>\n",
       "      <td>26.0</td>\n",
       "    </tr>\n",
       "    <tr>\n",
       "      <th>2020-12-30</th>\n",
       "      <td>NaN</td>\n",
       "      <td>1.0</td>\n",
       "    </tr>\n",
       "  </tbody>\n",
       "</table>\n",
       "</div>"
      ],
      "text/plain": [
       "group           A      B\n",
       "event_date              \n",
       "2020-12-07  103.0  119.0\n",
       "2020-12-08  108.0  82.0 \n",
       "2020-12-09  128.0  117.0\n",
       "2020-12-10  113.0  89.0 \n",
       "2020-12-11  128.0  59.0 \n",
       "2020-12-12  128.0  75.0 \n",
       "2020-12-13  116.0  54.0 \n",
       "2020-12-14  339.0  95.0 \n",
       "2020-12-15  340.0  82.0 \n",
       "2020-12-16  327.0  123.0\n",
       "2020-12-17  377.0  90.0 \n",
       "2020-12-18  399.0  98.0 \n",
       "2020-12-19  473.0  103.0\n",
       "2020-12-20  480.0  118.0\n",
       "2020-12-21  637.0  141.0\n",
       "2020-12-22  429.0  66.0 \n",
       "2020-12-23  324.0  76.0 \n",
       "2020-12-24  272.0  53.0 \n",
       "2020-12-25  207.0  42.0 \n",
       "2020-12-26  182.0  39.0 \n",
       "2020-12-27  184.0  44.0 \n",
       "2020-12-28  143.0  37.0 \n",
       "2020-12-29  146.0  26.0 \n",
       "2020-12-30 NaN     1.0  "
      ]
     },
     "execution_count": 59,
     "metadata": {},
     "output_type": "execute_result"
    }
   ],
   "source": [
    "full_df.pivot_table(index='event_date', columns='group', values='user_id', aggfunc='nunique')"
   ]
  },
  {
   "cell_type": "markdown",
   "id": "5b2812b5",
   "metadata": {},
   "source": [
    "График дает нам понять, что в группе В в активный период предрождественской активности было равномерное распределение пользователей по датам. Но стоит отметить, что пользователи группы В в принципе очень неактивны. В группе А 14 декабря произошел бурный всплеск пользовательской активности по причине массового притока новых пользователей: только за один день зарегистрировались 223 новых пользователя. В группе В тоже заметен некоторый всплеск, но несопоставимый с группой А - всего 41 новый пользователь.\n",
    "\n",
    "Самое время посмотреть как менялась конверсия в воронке в выборках на разных этапах."
   ]
  },
  {
   "cell_type": "markdown",
   "id": "dad5d4ad",
   "metadata": {},
   "source": [
    "1. Определим какие события есть в логах и как часто они встречаются."
   ]
  },
  {
   "cell_type": "code",
   "execution_count": 60,
   "id": "d0b97eef",
   "metadata": {},
   "outputs": [
    {
     "data": {
      "text/html": [
       "<div>\n",
       "<style scoped>\n",
       "    .dataframe tbody tr th:only-of-type {\n",
       "        vertical-align: middle;\n",
       "    }\n",
       "\n",
       "    .dataframe tbody tr th {\n",
       "        vertical-align: top;\n",
       "    }\n",
       "\n",
       "    .dataframe thead th {\n",
       "        text-align: right;\n",
       "    }\n",
       "</style>\n",
       "<table border=\"1\" class=\"dataframe\">\n",
       "  <thead>\n",
       "    <tr style=\"text-align: right;\">\n",
       "      <th></th>\n",
       "      <th>event_name</th>\n",
       "      <th>event_count</th>\n",
       "    </tr>\n",
       "  </thead>\n",
       "  <tbody>\n",
       "    <tr>\n",
       "      <th>0</th>\n",
       "      <td>login</td>\n",
       "      <td>7906</td>\n",
       "    </tr>\n",
       "    <tr>\n",
       "      <th>1</th>\n",
       "      <td>product_page</td>\n",
       "      <td>4922</td>\n",
       "    </tr>\n",
       "    <tr>\n",
       "      <th>2</th>\n",
       "      <td>product_cart</td>\n",
       "      <td>2350</td>\n",
       "    </tr>\n",
       "    <tr>\n",
       "      <th>3</th>\n",
       "      <td>purchase</td>\n",
       "      <td>2348</td>\n",
       "    </tr>\n",
       "  </tbody>\n",
       "</table>\n",
       "</div>"
      ],
      "text/plain": [
       "     event_name  event_count\n",
       "0  login         7906       \n",
       "1  product_page  4922       \n",
       "2  product_cart  2350       \n",
       "3  purchase      2348       "
      ]
     },
     "execution_count": 60,
     "metadata": {},
     "output_type": "execute_result"
    }
   ],
   "source": [
    "(\n",
    "    full_df\n",
    "    .pivot_table(index='event_name', \n",
    "                 values='user_id', \n",
    "                 aggfunc='count')\n",
    "    .rename(columns={'user_id':'event_count'})\n",
    "    .sort_values(by='event_count', ascending=False)\n",
    "    .reset_index()\n",
    ")"
   ]
  },
  {
   "cell_type": "markdown",
   "id": "e9c1be69",
   "metadata": {},
   "source": [
    "2. Посчитаем, сколько пользователей совершали каждое из этих событий. Посчитаем долю только тех пользователей, которые хоть раз совершали событие."
   ]
  },
  {
   "cell_type": "code",
   "execution_count": 61,
   "id": "b9ab8482",
   "metadata": {},
   "outputs": [
    {
     "data": {
      "text/html": [
       "<div>\n",
       "<style scoped>\n",
       "    .dataframe tbody tr th:only-of-type {\n",
       "        vertical-align: middle;\n",
       "    }\n",
       "\n",
       "    .dataframe tbody tr th {\n",
       "        vertical-align: top;\n",
       "    }\n",
       "\n",
       "    .dataframe thead th {\n",
       "        text-align: right;\n",
       "    }\n",
       "</style>\n",
       "<table border=\"1\" class=\"dataframe\">\n",
       "  <thead>\n",
       "    <tr style=\"text-align: right;\">\n",
       "      <th></th>\n",
       "      <th>event_name</th>\n",
       "      <th>users_count</th>\n",
       "      <th>share_all_users</th>\n",
       "    </tr>\n",
       "  </thead>\n",
       "  <tbody>\n",
       "    <tr>\n",
       "      <th>0</th>\n",
       "      <td>login</td>\n",
       "      <td>2594</td>\n",
       "      <td>54.62</td>\n",
       "    </tr>\n",
       "    <tr>\n",
       "      <th>1</th>\n",
       "      <td>product_page</td>\n",
       "      <td>1632</td>\n",
       "      <td>34.37</td>\n",
       "    </tr>\n",
       "    <tr>\n",
       "      <th>2</th>\n",
       "      <td>purchase</td>\n",
       "      <td>804</td>\n",
       "      <td>16.93</td>\n",
       "    </tr>\n",
       "    <tr>\n",
       "      <th>3</th>\n",
       "      <td>product_cart</td>\n",
       "      <td>773</td>\n",
       "      <td>16.28</td>\n",
       "    </tr>\n",
       "  </tbody>\n",
       "</table>\n",
       "</div>"
      ],
      "text/plain": [
       "     event_name  users_count  share_all_users\n",
       "0  login         2594         54.62          \n",
       "1  product_page  1632         34.37          \n",
       "2  purchase      804          16.93          \n",
       "3  product_cart  773          16.28          "
      ]
     },
     "execution_count": 61,
     "metadata": {},
     "output_type": "execute_result"
    }
   ],
   "source": [
    "count_users_in_event = (\n",
    "    full_df\n",
    "    .pivot_table(index='event_name', \n",
    "                 values='user_id', \n",
    "                 aggfunc='nunique')\n",
    "    .rename(columns={'user_id':'users_count'})\n",
    "    .sort_values(by='users_count', ascending=False)\n",
    "    .reset_index()\n",
    ")\n",
    "count_users_in_event['share_all_users'] = (count_users_in_event['users_count'] / \n",
    "                                           full_df['user_id'].nunique() * \n",
    "                                           100\n",
    "                                          ).round(2)\n",
    "count_users_in_event"
   ]
  },
  {
   "cell_type": "markdown",
   "id": "92e4cd6f",
   "metadata": {},
   "source": [
    "Данные показывают, что по общим данным только 16.28% пользователей доходят до успешной оплаты. "
   ]
  },
  {
   "cell_type": "markdown",
   "id": "d67b2c70",
   "metadata": {},
   "source": [
    "3. Построим воронку событий отдельно по каждой тестируемой группе."
   ]
  },
  {
   "cell_type": "code",
   "execution_count": 62,
   "id": "4ac32779",
   "metadata": {},
   "outputs": [
    {
     "data": {
      "text/html": [
       "<div>\n",
       "<style scoped>\n",
       "    .dataframe tbody tr th:only-of-type {\n",
       "        vertical-align: middle;\n",
       "    }\n",
       "\n",
       "    .dataframe tbody tr th {\n",
       "        vertical-align: top;\n",
       "    }\n",
       "\n",
       "    .dataframe thead th {\n",
       "        text-align: right;\n",
       "    }\n",
       "</style>\n",
       "<table border=\"1\" class=\"dataframe\">\n",
       "  <thead>\n",
       "    <tr style=\"text-align: right;\">\n",
       "      <th>group</th>\n",
       "      <th>event_name</th>\n",
       "      <th>A</th>\n",
       "      <th>B</th>\n",
       "    </tr>\n",
       "  </thead>\n",
       "  <tbody>\n",
       "    <tr>\n",
       "      <th>0</th>\n",
       "      <td>login</td>\n",
       "      <td>1939</td>\n",
       "      <td>655</td>\n",
       "    </tr>\n",
       "    <tr>\n",
       "      <th>1</th>\n",
       "      <td>product_page</td>\n",
       "      <td>1265</td>\n",
       "      <td>367</td>\n",
       "    </tr>\n",
       "    <tr>\n",
       "      <th>2</th>\n",
       "      <td>purchase</td>\n",
       "      <td>613</td>\n",
       "      <td>191</td>\n",
       "    </tr>\n",
       "    <tr>\n",
       "      <th>3</th>\n",
       "      <td>product_cart</td>\n",
       "      <td>589</td>\n",
       "      <td>184</td>\n",
       "    </tr>\n",
       "  </tbody>\n",
       "</table>\n",
       "</div>"
      ],
      "text/plain": [
       "group    event_name     A    B\n",
       "0      login         1939  655\n",
       "1      product_page  1265  367\n",
       "2      purchase      613   191\n",
       "3      product_cart  589   184"
      ]
     },
     "execution_count": 62,
     "metadata": {},
     "output_type": "execute_result"
    }
   ],
   "source": [
    "# соберем данные о пользователях по каждой тестируемой группе\n",
    "count_users_in_event_by_testgroup = (\n",
    "    full_df\n",
    "    .pivot_table(index='event_name',\n",
    "                 columns='group',\n",
    "                 values='user_id', \n",
    "                 aggfunc='nunique')\n",
    "    .sort_values(by='A', ascending=False)\n",
    "    .reset_index()\n",
    ")\n",
    "\n",
    "# уберем шаг views_tutorial\n",
    "count_users_in_event_by_testgroup = count_users_in_event_by_testgroup.loc[:3]\n",
    "count_users_in_event_by_testgroup"
   ]
  },
  {
   "cell_type": "markdown",
   "id": "d1ef0495",
   "metadata": {},
   "source": [
    "Получается, что пользователь может совершить покупку миную какие-то другие этапы. Например, если есть опция купить в один клик. Или еще какие-то другие варианты. Это важный момент, которые указывает нам, что мы имеем дело с простой продуктовой воронкой. Но, нам также важно указать логическую последовательность событий и выстроить события в воронке по ней. Поэтому поменяем этап `purchase` и `product_cart` местами, чтобы покупка была основной целью пользователя."
   ]
  },
  {
   "cell_type": "code",
   "execution_count": 63,
   "id": "7eb3c203",
   "metadata": {},
   "outputs": [
    {
     "data": {
      "text/html": [
       "<div>\n",
       "<style scoped>\n",
       "    .dataframe tbody tr th:only-of-type {\n",
       "        vertical-align: middle;\n",
       "    }\n",
       "\n",
       "    .dataframe tbody tr th {\n",
       "        vertical-align: top;\n",
       "    }\n",
       "\n",
       "    .dataframe thead th {\n",
       "        text-align: right;\n",
       "    }\n",
       "</style>\n",
       "<table border=\"1\" class=\"dataframe\">\n",
       "  <thead>\n",
       "    <tr style=\"text-align: right;\">\n",
       "      <th>group</th>\n",
       "      <th>event_name</th>\n",
       "      <th>A</th>\n",
       "      <th>B</th>\n",
       "    </tr>\n",
       "  </thead>\n",
       "  <tbody>\n",
       "    <tr>\n",
       "      <th>0</th>\n",
       "      <td>login</td>\n",
       "      <td>1939</td>\n",
       "      <td>655</td>\n",
       "    </tr>\n",
       "    <tr>\n",
       "      <th>1</th>\n",
       "      <td>product_page</td>\n",
       "      <td>1265</td>\n",
       "      <td>367</td>\n",
       "    </tr>\n",
       "    <tr>\n",
       "      <th>3</th>\n",
       "      <td>product_cart</td>\n",
       "      <td>589</td>\n",
       "      <td>184</td>\n",
       "    </tr>\n",
       "    <tr>\n",
       "      <th>2</th>\n",
       "      <td>purchase</td>\n",
       "      <td>613</td>\n",
       "      <td>191</td>\n",
       "    </tr>\n",
       "  </tbody>\n",
       "</table>\n",
       "</div>"
      ],
      "text/plain": [
       "group    event_name     A    B\n",
       "0      login         1939  655\n",
       "1      product_page  1265  367\n",
       "3      product_cart  589   184\n",
       "2      purchase      613   191"
      ]
     },
     "execution_count": 63,
     "metadata": {},
     "output_type": "execute_result"
    }
   ],
   "source": [
    "count_users_in_event_by_testgroup = count_users_in_event_by_testgroup.reindex([0,1,3,2])\n",
    "count_users_in_event_by_testgroup"
   ]
  },
  {
   "cell_type": "markdown",
   "id": "0a4ffa9c",
   "metadata": {},
   "source": [
    "Посмотрим на расчет конверсии в шаг и долю пользователей, успешно дошедших до оплаты с первого шага в каждой группе:"
   ]
  },
  {
   "cell_type": "code",
   "execution_count": 64,
   "id": "733f10ed",
   "metadata": {},
   "outputs": [],
   "source": [
    "def share_initial_and_previous(df, new_column1, new_column2, count_column):\n",
    "    \"\"\"\n",
    "    функция добавляет в датасет столбцы с \n",
    "    расчетом конверсии в шаг и \n",
    "    расчетом доли пользователей, успешно дошедших до оплаты с первого шага\n",
    "    \"\"\"\n",
    "    # расчет конверсии в шаг\n",
    "    df[new_column1] = (df[count_column] / df[count_column].shift(periods=1) * 100).round(2)\n",
    "    # доля пользователей, успешно дошедших до оплаты с первого шага\n",
    "    df[new_column2] = (df[count_column] / df[count_column].loc[0] * 100).fillna(0).round(2)"
   ]
  },
  {
   "cell_type": "code",
   "execution_count": 65,
   "id": "9d117a75",
   "metadata": {},
   "outputs": [
    {
     "data": {
      "text/html": [
       "<div>\n",
       "<style scoped>\n",
       "    .dataframe tbody tr th:only-of-type {\n",
       "        vertical-align: middle;\n",
       "    }\n",
       "\n",
       "    .dataframe tbody tr th {\n",
       "        vertical-align: top;\n",
       "    }\n",
       "\n",
       "    .dataframe thead th {\n",
       "        text-align: right;\n",
       "    }\n",
       "</style>\n",
       "<table border=\"1\" class=\"dataframe\">\n",
       "  <thead>\n",
       "    <tr style=\"text-align: right;\">\n",
       "      <th>group</th>\n",
       "      <th>event_name</th>\n",
       "      <th>A</th>\n",
       "      <th>B</th>\n",
       "      <th>share_of_previous_A</th>\n",
       "      <th>share_of_initial_A</th>\n",
       "      <th>share_of_previous_B</th>\n",
       "      <th>share_of_initial_B</th>\n",
       "    </tr>\n",
       "  </thead>\n",
       "  <tbody>\n",
       "    <tr>\n",
       "      <th>0</th>\n",
       "      <td>login</td>\n",
       "      <td>1939</td>\n",
       "      <td>655</td>\n",
       "      <td>NaN</td>\n",
       "      <td>100.00</td>\n",
       "      <td>NaN</td>\n",
       "      <td>100.00</td>\n",
       "    </tr>\n",
       "    <tr>\n",
       "      <th>1</th>\n",
       "      <td>product_page</td>\n",
       "      <td>1265</td>\n",
       "      <td>367</td>\n",
       "      <td>65.24</td>\n",
       "      <td>65.24</td>\n",
       "      <td>56.03</td>\n",
       "      <td>56.03</td>\n",
       "    </tr>\n",
       "    <tr>\n",
       "      <th>3</th>\n",
       "      <td>product_cart</td>\n",
       "      <td>589</td>\n",
       "      <td>184</td>\n",
       "      <td>46.56</td>\n",
       "      <td>30.38</td>\n",
       "      <td>50.14</td>\n",
       "      <td>28.09</td>\n",
       "    </tr>\n",
       "    <tr>\n",
       "      <th>2</th>\n",
       "      <td>purchase</td>\n",
       "      <td>613</td>\n",
       "      <td>191</td>\n",
       "      <td>104.07</td>\n",
       "      <td>31.61</td>\n",
       "      <td>103.80</td>\n",
       "      <td>29.16</td>\n",
       "    </tr>\n",
       "  </tbody>\n",
       "</table>\n",
       "</div>"
      ],
      "text/plain": [
       "group    event_name     A    B  share_of_previous_A  share_of_initial_A  \\\n",
       "0      login         1939  655 NaN                   100.00               \n",
       "1      product_page  1265  367  65.24                65.24                \n",
       "3      product_cart  589   184  46.56                30.38                \n",
       "2      purchase      613   191  104.07               31.61                \n",
       "\n",
       "group  share_of_previous_B  share_of_initial_B  \n",
       "0     NaN                   100.00              \n",
       "1      56.03                56.03               \n",
       "3      50.14                28.09               \n",
       "2      103.80               29.16               "
      ]
     },
     "execution_count": 65,
     "metadata": {},
     "output_type": "execute_result"
    }
   ],
   "source": [
    "share_initial_and_previous(count_users_in_event_by_testgroup, 'share_of_previous_A', 'share_of_initial_A', 'A')\n",
    "share_initial_and_previous(count_users_in_event_by_testgroup, 'share_of_previous_B', 'share_of_initial_B', 'B')\n",
    "count_users_in_event_by_testgroup"
   ]
  },
  {
   "cell_type": "markdown",
   "id": "a22c0ed0",
   "metadata": {},
   "source": [
    "Построим составной график воронки событий по группам теста"
   ]
  },
  {
   "cell_type": "code",
   "execution_count": 66,
   "id": "8b59e1bd",
   "metadata": {},
   "outputs": [
    {
     "data": {
      "image/png": "[encoded data removed]"
     },
     "metadata": {},
     "output_type": "display_data"
    }
   ],
   "source": [
    "fig = go.Figure()\n",
    "\n",
    "fig.add_trace(go.Funnel(\n",
    "    name = 'A',\n",
    "    y = count_users_in_event_by_testgroup['event_name'],\n",
    "    x = count_users_in_event_by_testgroup['A'],\n",
    "    textinfo = \"value+percent previous\", \n",
    "    marker = {\"color\": \"#2374b3\"}))\n",
    "\n",
    "fig.add_trace(go.Funnel(\n",
    "    name = 'B',\n",
    "    orientation = \"h\",\n",
    "    y = count_users_in_event_by_testgroup['event_name'],\n",
    "    x = count_users_in_event_by_testgroup['B'],\n",
    "    textposition = \"inside\",\n",
    "    textinfo = \"value+percent previous\", \n",
    "    marker = {\"color\": \"#fb8504\"}))\n",
    "\n",
    "fig.show(\"png\")"
   ]
  },
  {
   "cell_type": "markdown",
   "id": "7fe37ed9",
   "metadata": {},
   "source": [
    "**Вывод**\n",
    "\n",
    "Воронка событий показала, что на этапе `product_page` теряется больше всего пользователей:\n",
    "   - в группе А - до `product product_cart` не доходят 53.4% пользователей,\n",
    "   - в группе В - 50% пользователей.\n",
    "   \n",
    "Поскольку мы вручную изменили порядок событий на логический, то получилось 104% на шаге успешной покупки. Так как пользователеь может совершить покупку напрямую, минуя все предыдущие шаги и пользуется этим на 4% чаще, чем выстроенной нами последовательностью шагов.\n",
    "\n",
    "От первого и до последнего шага доходит:\n",
    "   - в группе А - 31.61% пользователей,\n",
    "   - в группе В - 29.16% пользователей.\n",
    "\n",
    "Также стоит отметить, что в группе В значительно больше пользователей отваливается еще на этапе `login`:  на страницу товара переходит на на 9% меньше пользователей, чем в группе А (в относительных цифрах)."
   ]
  },
  {
   "cell_type": "markdown",
   "id": "baa022ef",
   "metadata": {},
   "source": [
    "**Проверим соответствие последнему пункту ТЗ** - ожидаемый эффект: за 14 дней с момента регистрации пользователи покажут улучшение каждой метрики не менее, чем на 10%:\n",
    "\n",
    "    - конверсии в просмотр карточек товаров — событие `product_page`,\n",
    "    - просмотры корзины — `product_cart`,\n",
    "    - покупки — `purchase`.\n",
    "    \n",
    "Для этого соберем данные о пользователях по каждой тестируемой группе за 14 дней от начала теста - то есть с 7 по 21 декабря."
   ]
  },
  {
   "cell_type": "code",
   "execution_count": 67,
   "id": "338e221a",
   "metadata": {},
   "outputs": [
    {
     "data": {
      "text/html": [
       "<div>\n",
       "<style scoped>\n",
       "    .dataframe tbody tr th:only-of-type {\n",
       "        vertical-align: middle;\n",
       "    }\n",
       "\n",
       "    .dataframe tbody tr th {\n",
       "        vertical-align: top;\n",
       "    }\n",
       "\n",
       "    .dataframe thead th {\n",
       "        text-align: right;\n",
       "    }\n",
       "</style>\n",
       "<table border=\"1\" class=\"dataframe\">\n",
       "  <thead>\n",
       "    <tr style=\"text-align: right;\">\n",
       "      <th>group</th>\n",
       "      <th>event_name</th>\n",
       "      <th>A</th>\n",
       "      <th>B</th>\n",
       "    </tr>\n",
       "  </thead>\n",
       "  <tbody>\n",
       "    <tr>\n",
       "      <th>0</th>\n",
       "      <td>login</td>\n",
       "      <td>1651</td>\n",
       "      <td>593</td>\n",
       "    </tr>\n",
       "    <tr>\n",
       "      <th>1</th>\n",
       "      <td>product_page</td>\n",
       "      <td>1072</td>\n",
       "      <td>330</td>\n",
       "    </tr>\n",
       "    <tr>\n",
       "      <th>2</th>\n",
       "      <td>purchase</td>\n",
       "      <td>517</td>\n",
       "      <td>167</td>\n",
       "    </tr>\n",
       "    <tr>\n",
       "      <th>3</th>\n",
       "      <td>product_cart</td>\n",
       "      <td>514</td>\n",
       "      <td>170</td>\n",
       "    </tr>\n",
       "  </tbody>\n",
       "</table>\n",
       "</div>"
      ],
      "text/plain": [
       "group    event_name     A    B\n",
       "0      login         1651  593\n",
       "1      product_page  1072  330\n",
       "2      purchase      517   167\n",
       "3      product_cart  514   170"
      ]
     },
     "execution_count": 67,
     "metadata": {},
     "output_type": "execute_result"
    }
   ],
   "source": [
    "count_users_in_event_by_testgroup_14days = (\n",
    "    full_df.query('first_date < \"2020-12-21\"')\n",
    "    .pivot_table(index='event_name',\n",
    "                 columns='group',\n",
    "                 values='user_id', \n",
    "                 aggfunc='nunique')\n",
    "    .sort_values(by='A', ascending=False)\n",
    "    .reset_index()\n",
    ")\n",
    "\n",
    "# уберем шаг views_tutorial\n",
    "count_users_in_event_by_testgroup_14days = count_users_in_event_by_testgroup_14days.loc[:3]\n",
    "count_users_in_event_by_testgroup_14days"
   ]
  },
  {
   "cell_type": "code",
   "execution_count": 68,
   "id": "26ff8bcd",
   "metadata": {},
   "outputs": [
    {
     "data": {
      "text/html": [
       "<div>\n",
       "<style scoped>\n",
       "    .dataframe tbody tr th:only-of-type {\n",
       "        vertical-align: middle;\n",
       "    }\n",
       "\n",
       "    .dataframe tbody tr th {\n",
       "        vertical-align: top;\n",
       "    }\n",
       "\n",
       "    .dataframe thead th {\n",
       "        text-align: right;\n",
       "    }\n",
       "</style>\n",
       "<table border=\"1\" class=\"dataframe\">\n",
       "  <thead>\n",
       "    <tr style=\"text-align: right;\">\n",
       "      <th>group</th>\n",
       "      <th>event_name</th>\n",
       "      <th>A</th>\n",
       "      <th>B</th>\n",
       "    </tr>\n",
       "  </thead>\n",
       "  <tbody>\n",
       "    <tr>\n",
       "      <th>0</th>\n",
       "      <td>login</td>\n",
       "      <td>1651</td>\n",
       "      <td>593</td>\n",
       "    </tr>\n",
       "    <tr>\n",
       "      <th>1</th>\n",
       "      <td>product_page</td>\n",
       "      <td>1072</td>\n",
       "      <td>330</td>\n",
       "    </tr>\n",
       "    <tr>\n",
       "      <th>3</th>\n",
       "      <td>product_cart</td>\n",
       "      <td>514</td>\n",
       "      <td>170</td>\n",
       "    </tr>\n",
       "    <tr>\n",
       "      <th>2</th>\n",
       "      <td>purchase</td>\n",
       "      <td>517</td>\n",
       "      <td>167</td>\n",
       "    </tr>\n",
       "  </tbody>\n",
       "</table>\n",
       "</div>"
      ],
      "text/plain": [
       "group    event_name     A    B\n",
       "0      login         1651  593\n",
       "1      product_page  1072  330\n",
       "3      product_cart  514   170\n",
       "2      purchase      517   167"
      ]
     },
     "execution_count": 68,
     "metadata": {},
     "output_type": "execute_result"
    }
   ],
   "source": [
    "# установим логический порядок шагов\n",
    "count_users_in_event_by_testgroup_14days = count_users_in_event_by_testgroup_14days.reindex([0,1,3,2])\n",
    "count_users_in_event_by_testgroup_14days"
   ]
  },
  {
   "cell_type": "code",
   "execution_count": 69,
   "id": "a625e7e5",
   "metadata": {},
   "outputs": [
    {
     "data": {
      "text/html": [
       "<div>\n",
       "<style scoped>\n",
       "    .dataframe tbody tr th:only-of-type {\n",
       "        vertical-align: middle;\n",
       "    }\n",
       "\n",
       "    .dataframe tbody tr th {\n",
       "        vertical-align: top;\n",
       "    }\n",
       "\n",
       "    .dataframe thead th {\n",
       "        text-align: right;\n",
       "    }\n",
       "</style>\n",
       "<table border=\"1\" class=\"dataframe\">\n",
       "  <thead>\n",
       "    <tr style=\"text-align: right;\">\n",
       "      <th>group</th>\n",
       "      <th>event_name</th>\n",
       "      <th>A</th>\n",
       "      <th>B</th>\n",
       "      <th>share_of_previous_A</th>\n",
       "      <th>share_of_initial_A</th>\n",
       "      <th>share_of_previous_B</th>\n",
       "      <th>share_of_initial_B</th>\n",
       "    </tr>\n",
       "  </thead>\n",
       "  <tbody>\n",
       "    <tr>\n",
       "      <th>0</th>\n",
       "      <td>login</td>\n",
       "      <td>1651</td>\n",
       "      <td>593</td>\n",
       "      <td>NaN</td>\n",
       "      <td>100.00</td>\n",
       "      <td>NaN</td>\n",
       "      <td>100.00</td>\n",
       "    </tr>\n",
       "    <tr>\n",
       "      <th>1</th>\n",
       "      <td>product_page</td>\n",
       "      <td>1072</td>\n",
       "      <td>330</td>\n",
       "      <td>64.93</td>\n",
       "      <td>64.93</td>\n",
       "      <td>55.65</td>\n",
       "      <td>55.65</td>\n",
       "    </tr>\n",
       "    <tr>\n",
       "      <th>3</th>\n",
       "      <td>product_cart</td>\n",
       "      <td>514</td>\n",
       "      <td>170</td>\n",
       "      <td>47.95</td>\n",
       "      <td>31.13</td>\n",
       "      <td>51.52</td>\n",
       "      <td>28.67</td>\n",
       "    </tr>\n",
       "    <tr>\n",
       "      <th>2</th>\n",
       "      <td>purchase</td>\n",
       "      <td>517</td>\n",
       "      <td>167</td>\n",
       "      <td>100.58</td>\n",
       "      <td>31.31</td>\n",
       "      <td>98.24</td>\n",
       "      <td>28.16</td>\n",
       "    </tr>\n",
       "  </tbody>\n",
       "</table>\n",
       "</div>"
      ],
      "text/plain": [
       "group    event_name     A    B  share_of_previous_A  share_of_initial_A  \\\n",
       "0      login         1651  593 NaN                   100.00               \n",
       "1      product_page  1072  330  64.93                64.93                \n",
       "3      product_cart  514   170  47.95                31.13                \n",
       "2      purchase      517   167  100.58               31.31                \n",
       "\n",
       "group  share_of_previous_B  share_of_initial_B  \n",
       "0     NaN                   100.00              \n",
       "1      55.65                55.65               \n",
       "3      51.52                28.67               \n",
       "2      98.24                28.16               "
      ]
     },
     "execution_count": 69,
     "metadata": {},
     "output_type": "execute_result"
    }
   ],
   "source": [
    "# расчетаем конверсию в шаг и доли пользователей, успешно дошедших до оплаты с первого шага\n",
    "share_initial_and_previous(count_users_in_event_by_testgroup_14days, \n",
    "                           'share_of_previous_A', \n",
    "                           'share_of_initial_A', \n",
    "                           'A')\n",
    "share_initial_and_previous(count_users_in_event_by_testgroup_14days, \n",
    "                           'share_of_previous_B', \n",
    "                           'share_of_initial_B', \n",
    "                           'B')\n",
    "count_users_in_event_by_testgroup_14days"
   ]
  },
  {
   "cell_type": "markdown",
   "id": "812a141e",
   "metadata": {},
   "source": [
    "Построим составной график воронки событий по группам теста"
   ]
  },
  {
   "cell_type": "code",
   "execution_count": 70,
   "id": "49ad8bc8",
   "metadata": {},
   "outputs": [
    {
     "data": {
      "image/png": "[encoded data removed]"
     },
     "metadata": {},
     "output_type": "display_data"
    }
   ],
   "source": [
    "fig = go.Figure()\n",
    "\n",
    "fig.add_trace(go.Funnel(\n",
    "    name = 'A',\n",
    "    y = count_users_in_event_by_testgroup_14days['event_name'],\n",
    "    x = count_users_in_event_by_testgroup_14days['A'],\n",
    "    textinfo = \"value+percent previous\", \n",
    "    marker = {\"color\": \"#2374b3\"}))\n",
    "\n",
    "fig.add_trace(go.Funnel(\n",
    "    name = 'B',\n",
    "    orientation = \"h\",\n",
    "    y = count_users_in_event_by_testgroup_14days['event_name'],\n",
    "    x = count_users_in_event_by_testgroup_14days['B'],\n",
    "    textposition = \"inside\",\n",
    "    textinfo = \"value+percent previous\", \n",
    "    marker = {\"color\": \"#fb8504\"}))\n",
    "\n",
    "fig.show(\"png\")"
   ]
  },
  {
   "cell_type": "markdown",
   "id": "ec113aa0",
   "metadata": {},
   "source": [
    "**Вывод**\n",
    "\n",
    "За 14 дней от начала теста воронка событий показывает, что на этапе `product_page` также теряется больше всего пользователей:\n",
    "   - в группе А - до `product product_cart` не доходят 52% пользователей,\n",
    "   - в группе В - 48.4% пользователей.\n",
    "   \n",
    "От первого и до последнего шага доходит:\n",
    "   - в группе А - 31.31% пользователей,\n",
    "   - в группе В - 28.16% пользователей.\n",
    "\n",
    "В целом, мы видим, что улучшения каждой метрики на 10% по ТЗ тоже не получилось. "
   ]
  },
  {
   "cell_type": "markdown",
   "id": "9a7d2374",
   "metadata": {},
   "source": [
    "**Критерии успешного A/B тестирования:**\n",
    "\n",
    "\n",
    "1. *Корректное деление трафика теста*\n",
    "\n",
    "Пользователи должны распределяться между сегментами равномерно или в соответствии с указанными долями, структура трафика должна быть одинаковой. Например, нельзя считать корректным делением трафика A/B-тест, в котором пользователи группы A — посетители мобильной версии сайта, а пользователи группы B — десктопной.\n",
    "\n",
    "2. *Необходимо исключить проблему \"подглядывания\"*\n",
    "\n",
    "\n",
    "3. *Выборка не должна быть маленькой* - на малых данных не достичь ни значимости, ни точности — слишком велико влияние каждого отдельного наблюдения.\n",
    "\n",
    "\n",
    "4. *Сроки A/B тестирования должны быть как минимум в течение одного, в идеале двух полных бизнес-циклов*\n",
    "\n",
    "\n",
    "5. *Исключить аномальную активность пользователей*\n",
    "\n",
    "Тест проводят в период, когда параллельно не проходят какие-то маркетинговые события, которые могут повлиять на результаты теста. Также тест не проводят в период календарных праздников, которые тоже могут повляить на результат\n",
    "\n",
    "\n",
    "6. *Предварительно проверить качество деления трафика на группы - А/А тест* \n",
    "\n",
    "A/A-тест помогает измерить качество деления, определить доли групп, и подтвердить однородность трафика — отсутствие различия ключевых метрик между группами, которые видят абсолютно одинаковые версии продукта.\n"
   ]
  },
  {
   "cell_type": "markdown",
   "id": "ddd64a8b",
   "metadata": {},
   "source": [
    "## Оценка результатов А/В теста\n",
    "\n",
    "В этом разделе проведем:\n",
    "1. Оценку результатов A/В-тестирования.\n",
    "2. Проверку статистической разницы долей z-критерием."
   ]
  },
  {
   "cell_type": "markdown",
   "id": "e6eea2b8",
   "metadata": {},
   "source": [
    "**Оценка результатов теста:**\n",
    "\n",
    "Тест подготовлен некорректно:\n",
    "  - деление трафика между группами неравномерное,\n",
    "  - была проблема подглядывания между двумя тестами, о возможном влиянии которого на результат нам ничего неизвестно,\n",
    "  - тест проводился в период маркетингового события,\n",
    "  - досрочное - на 5 дней раньше положенного срока - окончания теста.\n",
    "  - не соблюдены требования ТЗ."
   ]
  },
  {
   "cell_type": "markdown",
   "id": "d4447d30",
   "metadata": {},
   "source": [
    "Проверим статистическую разницу долей z-критерием:\n",
    "\n",
    "**Сформулируем гипотезы:**\n",
    "\n",
    "* Нулевая гипотеза: доли пользователей, совершивших событие в группах НЕ различаются.\n",
    "* Альтернативная гипотеза: доли пользователей, совершивших событие в группах различаются."
   ]
  },
  {
   "cell_type": "code",
   "execution_count": 71,
   "id": "b7490dc7",
   "metadata": {},
   "outputs": [],
   "source": [
    "def z_test(group1, group2, alpha):\n",
    "    '''\n",
    "    функция проверки гипотезы о равенстве долей пользователей, совершивших событие, в двух группах\n",
    "    '''\n",
    "    for i in count_users_in_event_by_testgroup.index:\n",
    "        # пропорция успехов в группах\n",
    "        p1 = count_users_in_event_by_testgroup[group1][i] / total_count_users_by_testgroup[group1]\n",
    "        p2 = count_users_in_event_by_testgroup[group2][i] / total_count_users_by_testgroup[group2]\n",
    "        # пропорция успехов в комбинированном датасете:\n",
    "        p_combined = (\n",
    "            (count_users_in_event_by_testgroup[group1][i] + \n",
    "             count_users_in_event_by_testgroup[group2][i]) / \n",
    "            (total_count_users_by_testgroup[group1] + \n",
    "             total_count_users_by_testgroup[group2])\n",
    "        )\n",
    "        # разница пропорций в группах\n",
    "        difference = p1 - p2 \n",
    "        # считаем статистику в ст.отклонениях стандартного нормального распределения\n",
    "        z_value = (difference / mth.sqrt(p_combined * \n",
    "                                         (1 - p_combined) * \n",
    "                                         (1 / total_count_users_by_testgroup[group1] + \n",
    "                                          1 / total_count_users_by_testgroup[group2])\n",
    "                                        ))\n",
    "        # задаем стандартное нормальное распределение (среднее 0, ст.отклонение 1)\n",
    "        distr = st.norm(0, 1)\n",
    "        p_value = (1 - distr.cdf(abs(z_value))) * 2\n",
    "        \n",
    "        print('Для события', count_users_in_event_by_testgroup['event_name'][i], 'p-значение = ', p_value)\n",
    "        if p_value < alpha:\n",
    "            print('Отвергаем нулевую гипотезу: между долями есть значимая разница')\n",
    "        else:\n",
    "            print('Не получилось отвергнуть нулевую гипотезу, нет оснований считать доли разными') \n",
    "        print()"
   ]
  },
  {
   "cell_type": "code",
   "execution_count": 72,
   "id": "f0522c0b",
   "metadata": {},
   "outputs": [
    {
     "name": "stdout",
     "output_type": "stream",
     "text": [
      "Для события login p-значение =  0.0\n",
      "Отвергаем нулевую гипотезу: между долями есть значимая разница\n",
      "\n",
      "Для события product_page p-значение =  0.0\n",
      "Отвергаем нулевую гипотезу: между долями есть значимая разница\n",
      "\n",
      "Для события product_cart p-значение =  0.0\n",
      "Отвергаем нулевую гипотезу: между долями есть значимая разница\n",
      "\n",
      "Для события purchase p-значение =  0.0\n",
      "Отвергаем нулевую гипотезу: между долями есть значимая разница\n",
      "\n"
     ]
    }
   ],
   "source": [
    "z_test('A', 'B', 0.01)"
   ]
  },
  {
   "cell_type": "markdown",
   "id": "c083ba96",
   "metadata": {},
   "source": [
    "**Вывод**\n",
    "\n",
    "Мы провели 4 проверки статестических гипотез по каждому событию в отдельности. <br> При уровне значимости alpha=0.01 есть статистически значимая разница между долями пользователей в группах по каждому событию. "
   ]
  },
  {
   "cell_type": "markdown",
   "id": "7d7695b5",
   "metadata": {},
   "source": [
    "## Общий вывод "
   ]
  },
  {
   "cell_type": "markdown",
   "id": "13ea6a17",
   "metadata": {},
   "source": [
    "**В процесе анализа данных были проделаны следующие шаги:**\n",
    "\n",
    "1. Проведен обзор и предварительная подготовка дыннх к анализу:\n",
    "  - все даты в датасетах приведены к нужному формату\n",
    "  - проанализированы возможные причины пропусков в данных.\n",
    " \n",
    " \n",
    "2. Сделана оценка корректности проведения теста:\n",
    "  - проведен анализ аудитории теста: пересечение пользователей в двух теста, внутри групп теста, равномерность распределения по тестовым группам и правильность их формирования.\n",
    "  - проведен анализ времени проведения теста на совпадение с маркетинговыми и другими активностями.\n",
    "  - проведена общая проверка соответствия данных требованиям всех пунктов технического задания.\n",
    "\n",
    "3. Проведен исследовательский анализ данных:\n",
    "  - проанализировано распределение количества событий на пользователя в выборках.\n",
    "  - проанализировано распределение событий в выборках по дням.\n",
    "  - проведен анализ конверсии в воронке в выборках на разных этапах.\n",
    "  - приведены критерии успешного проведения A/B-тестирования.\n",
    "  \n",
    "4.  Проведена итоговая оценка результатов A/В-тестирования и проверка статистической разницы долей z-критерием. \n",
    "\n",
    "**Что интересного было обнаружено на первоначальном этапе:**\n",
    "\n",
    "1. В данных о регистрации новых пользователей есть лишние данные за период, превышающий дату остановки набора согласно ТЗ. \n",
    "2. Выяснили, что тест был остановлен досрочно - 30 декабря 2020, вместо 4 января 2021. \n",
    "3. Выяснили, что в данных информация об участников двух тестов. \n",
    "4. Выяснили, что 1602 пользователя принимали участие одновременно в двух тестах. Степень возможного влияния второго теста - неясна.\n",
    "5. Выяснили, что количество участников теста изначально было распределено неравномерно между группами - разница составляет 35%.\n",
    "6. \"Подглядывания\" пользователей внутри теста нет.\n",
    "7. Установлено несоответствие ТЗ факта о 15% новых пользователей из региона EU.\n",
    "8. Выявлен факт проведения теста в период маркетингово события `Christmas&New Year Promo`. Это помимо того, что период проведения теста совпадает с предрождественским периодом продаж.\n",
    "9. Требоване ТЗ об ожидаемом эффекте улучшения метрик не достигнуто.\n",
    "10. Итоговое корректное количество участников теста ниже ожидаемого: 4 749 вместо 6 000.\n",
    "\n",
    "**Детальная оценка групп теста показала:**\n",
    "\n",
    "1. Распределение количества событий на одного пользователя в группах разительно отличается:\n",
    "   * в контрольной группе - А - медианное значение количества событий на одного пользователя равно 4. Но 29% пользователей не совершали никаких действитий,\n",
    "   * в группе В вообще  - ситуация плачевная - пользователи крайне неактивные - медиана количества событий на пользователя равна 0 и много выбросов в данных, поскольку 68% пользователей не совершали никаких действий.\n",
    "\n",
    "2. В группе А 14 декабря произошел бурный всплеск пользовательской активности по причине массового притока новых пользователей: только за один день зарегистрировались 223 новых пользователя. В группе В тоже заметен некоторый всплеск, но несопоставимый с группой А - всего 41 новый пользователь. \n",
    "\n",
    "3. Только 16.28% пользователей доходят до успешной оплаты в общем по тесту.\n",
    "\n",
    "4. Воронка событий показала, что на этапе `product_page` теряется больше всего пользователей:\n",
    "   - в группе А - до `product product_cart` не доходят 53.4% пользователей,\n",
    "   - в группе В - 50% пользователей.\n",
    "   \n",
    "Поскольку мы вручную изменили порядок событий на логический, то получилось 104% на шаге успешной покупки. Так как пользователеь может совершить покупку напрямую, минуя все предыдущие шаги и пользуется этим на 4% чаще, чем выстроенной нами последовательностью шагов.\n",
    "\n",
    "От первого и до последнего шага доходит:\n",
    "   - в группе А - 31.61% пользователей,\n",
    "   - в группе В - 29.16% пользователей.\n",
    "\n",
    "Также стоит отметить, что в группе В значительно больше пользователей отваливается еще на этапе `login`:  на страницу товара переходит на на 9% меньше пользователей, чем в группе А (в относительных цифрах).\n",
    "\n",
    "**Заключение о корректности проведения теста:**\n",
    "\n",
    "Тест подготовлен и проведен некорректно:\n",
    "\n",
    " - деление трафика между группами неравномерное,\n",
    " - была проблема подглядывания между двумя тестами, о возможном влиянии которого на результат нам ничего неизвестно,\n",
    " - тест проводился в период маркетингового события,\n",
    " - досрочное - на 5 дней раньше положенного срока - окончания теста.\n",
    " - не соблюдены требования ТЗ."
   ]
  }
 ],
 "metadata": {
  "ExecuteTimeLog": [
   {
    "duration": 27831,
    "start_time": "2022-09-24T12:31:57.006Z"
   },
   {
    "duration": 1426,
    "start_time": "2022-09-24T12:32:24.840Z"
   },
   {
    "duration": 591,
    "start_time": "2022-09-24T12:32:26.268Z"
   },
   {
    "duration": 4,
    "start_time": "2022-09-24T12:32:26.861Z"
   },
   {
    "duration": 51,
    "start_time": "2022-09-24T12:32:26.867Z"
   },
   {
    "duration": 6,
    "start_time": "2022-09-24T12:32:26.920Z"
   },
   {
    "duration": 31,
    "start_time": "2022-09-24T12:32:26.927Z"
   },
   {
    "duration": 5,
    "start_time": "2022-09-24T12:32:26.960Z"
   },
   {
    "duration": 6,
    "start_time": "2022-09-24T12:32:26.966Z"
   },
   {
    "duration": 7,
    "start_time": "2022-09-24T12:32:26.974Z"
   },
   {
    "duration": 8,
    "start_time": "2022-09-24T12:32:26.983Z"
   },
   {
    "duration": 17,
    "start_time": "2022-09-24T12:32:26.993Z"
   },
   {
    "duration": 9,
    "start_time": "2022-09-24T12:32:27.011Z"
   },
   {
    "duration": 5,
    "start_time": "2022-09-24T12:32:27.023Z"
   },
   {
    "duration": 84,
    "start_time": "2022-09-24T12:32:27.029Z"
   },
   {
    "duration": 12,
    "start_time": "2022-09-24T12:32:27.114Z"
   },
   {
    "duration": 17,
    "start_time": "2022-09-24T12:32:27.127Z"
   },
   {
    "duration": 11,
    "start_time": "2022-09-24T12:32:27.146Z"
   },
   {
    "duration": 3,
    "start_time": "2022-09-24T12:32:27.159Z"
   },
   {
    "duration": 22,
    "start_time": "2022-09-24T12:32:27.164Z"
   },
   {
    "duration": 24,
    "start_time": "2022-09-24T12:32:27.187Z"
   },
   {
    "duration": 343,
    "start_time": "2022-09-24T12:32:27.213Z"
   },
   {
    "duration": 85,
    "start_time": "2022-09-24T12:32:27.558Z"
   },
   {
    "duration": 36,
    "start_time": "2022-09-24T12:32:27.644Z"
   },
   {
    "duration": 104,
    "start_time": "2022-09-24T12:32:27.682Z"
   },
   {
    "duration": 6,
    "start_time": "2022-09-24T12:32:27.788Z"
   },
   {
    "duration": 67,
    "start_time": "2022-09-24T12:32:27.809Z"
   },
   {
    "duration": 46,
    "start_time": "2022-09-24T12:32:27.877Z"
   },
   {
    "duration": 30,
    "start_time": "2022-09-24T12:32:27.925Z"
   },
   {
    "duration": 7,
    "start_time": "2022-09-24T12:32:27.956Z"
   },
   {
    "duration": 9,
    "start_time": "2022-09-24T12:32:27.964Z"
   },
   {
    "duration": 7,
    "start_time": "2022-09-24T12:32:27.974Z"
   },
   {
    "duration": 34,
    "start_time": "2022-09-24T12:32:27.982Z"
   },
   {
    "duration": 9,
    "start_time": "2022-09-24T12:32:28.018Z"
   },
   {
    "duration": 144,
    "start_time": "2022-09-24T12:32:28.028Z"
   },
   {
    "duration": 0,
    "start_time": "2022-09-24T12:32:28.175Z"
   },
   {
    "duration": 0,
    "start_time": "2022-09-24T12:32:28.177Z"
   },
   {
    "duration": 0,
    "start_time": "2022-09-24T12:32:28.178Z"
   },
   {
    "duration": 0,
    "start_time": "2022-09-24T12:32:28.180Z"
   },
   {
    "duration": 0,
    "start_time": "2022-09-24T12:32:28.181Z"
   },
   {
    "duration": 0,
    "start_time": "2022-09-24T12:32:28.182Z"
   },
   {
    "duration": 0,
    "start_time": "2022-09-24T12:32:28.184Z"
   },
   {
    "duration": 0,
    "start_time": "2022-09-24T12:32:28.185Z"
   },
   {
    "duration": 0,
    "start_time": "2022-09-24T12:32:28.186Z"
   },
   {
    "duration": 0,
    "start_time": "2022-09-24T12:32:28.188Z"
   },
   {
    "duration": 0,
    "start_time": "2022-09-24T12:32:28.209Z"
   },
   {
    "duration": 0,
    "start_time": "2022-09-24T12:32:28.210Z"
   },
   {
    "duration": 0,
    "start_time": "2022-09-24T12:32:28.211Z"
   },
   {
    "duration": 0,
    "start_time": "2022-09-24T12:32:28.213Z"
   },
   {
    "duration": 0,
    "start_time": "2022-09-24T12:32:28.214Z"
   },
   {
    "duration": 1,
    "start_time": "2022-09-24T12:32:28.215Z"
   },
   {
    "duration": 0,
    "start_time": "2022-09-24T12:32:28.217Z"
   },
   {
    "duration": 0,
    "start_time": "2022-09-24T12:32:28.218Z"
   },
   {
    "duration": 0,
    "start_time": "2022-09-24T12:32:28.219Z"
   },
   {
    "duration": 0,
    "start_time": "2022-09-24T12:32:28.221Z"
   },
   {
    "duration": 0,
    "start_time": "2022-09-24T12:32:28.222Z"
   },
   {
    "duration": 0,
    "start_time": "2022-09-24T12:32:28.223Z"
   },
   {
    "duration": 0,
    "start_time": "2022-09-24T12:32:28.224Z"
   },
   {
    "duration": 0,
    "start_time": "2022-09-24T12:32:28.225Z"
   },
   {
    "duration": 0,
    "start_time": "2022-09-24T12:32:28.227Z"
   },
   {
    "duration": 0,
    "start_time": "2022-09-24T12:32:28.227Z"
   },
   {
    "duration": 0,
    "start_time": "2022-09-24T12:32:28.228Z"
   },
   {
    "duration": 0,
    "start_time": "2022-09-24T12:32:28.229Z"
   },
   {
    "duration": 0,
    "start_time": "2022-09-24T12:32:28.230Z"
   },
   {
    "duration": 0,
    "start_time": "2022-09-24T12:32:28.231Z"
   },
   {
    "duration": 0,
    "start_time": "2022-09-24T12:32:28.232Z"
   },
   {
    "duration": 0,
    "start_time": "2022-09-24T12:32:28.233Z"
   },
   {
    "duration": 0,
    "start_time": "2022-09-24T12:32:28.234Z"
   },
   {
    "duration": 0,
    "start_time": "2022-09-24T12:32:28.234Z"
   },
   {
    "duration": 0,
    "start_time": "2022-09-24T12:32:28.235Z"
   },
   {
    "duration": 0,
    "start_time": "2022-09-24T12:32:28.236Z"
   },
   {
    "duration": 0,
    "start_time": "2022-09-24T12:32:28.236Z"
   },
   {
    "duration": 0,
    "start_time": "2022-09-24T12:32:28.237Z"
   },
   {
    "duration": 0,
    "start_time": "2022-09-24T12:32:28.238Z"
   },
   {
    "duration": 4,
    "start_time": "2022-09-24T12:33:09.236Z"
   },
   {
    "duration": 18,
    "start_time": "2022-09-24T12:33:10.065Z"
   },
   {
    "duration": 3,
    "start_time": "2022-09-24T12:33:15.202Z"
   },
   {
    "duration": 3377,
    "start_time": "2022-09-24T12:33:24.618Z"
   },
   {
    "duration": 1447,
    "start_time": "2022-09-24T12:33:27.998Z"
   },
   {
    "duration": 605,
    "start_time": "2022-09-24T12:33:29.447Z"
   },
   {
    "duration": 4,
    "start_time": "2022-09-24T12:33:30.054Z"
   },
   {
    "duration": 26,
    "start_time": "2022-09-24T12:33:30.060Z"
   },
   {
    "duration": 21,
    "start_time": "2022-09-24T12:33:30.088Z"
   },
   {
    "duration": 32,
    "start_time": "2022-09-24T12:33:30.110Z"
   },
   {
    "duration": 5,
    "start_time": "2022-09-24T12:33:30.143Z"
   },
   {
    "duration": 6,
    "start_time": "2022-09-24T12:33:30.150Z"
   },
   {
    "duration": 8,
    "start_time": "2022-09-24T12:33:30.158Z"
   },
   {
    "duration": 19,
    "start_time": "2022-09-24T12:33:30.167Z"
   },
   {
    "duration": 9,
    "start_time": "2022-09-24T12:33:30.187Z"
   },
   {
    "duration": 16,
    "start_time": "2022-09-24T12:33:30.197Z"
   },
   {
    "duration": 12,
    "start_time": "2022-09-24T12:33:30.216Z"
   },
   {
    "duration": 71,
    "start_time": "2022-09-24T12:33:30.230Z"
   },
   {
    "duration": 12,
    "start_time": "2022-09-24T12:33:30.302Z"
   },
   {
    "duration": 36,
    "start_time": "2022-09-24T12:33:30.316Z"
   },
   {
    "duration": 29,
    "start_time": "2022-09-24T12:33:30.354Z"
   },
   {
    "duration": 9,
    "start_time": "2022-09-24T12:33:30.384Z"
   },
   {
    "duration": 27,
    "start_time": "2022-09-24T12:33:30.395Z"
   },
   {
    "duration": 18,
    "start_time": "2022-09-24T12:33:30.423Z"
   },
   {
    "duration": 355,
    "start_time": "2022-09-24T12:33:30.443Z"
   },
   {
    "duration": 82,
    "start_time": "2022-09-24T12:33:30.799Z"
   },
   {
    "duration": 44,
    "start_time": "2022-09-24T12:33:30.883Z"
   },
   {
    "duration": 100,
    "start_time": "2022-09-24T12:33:30.930Z"
   },
   {
    "duration": 6,
    "start_time": "2022-09-24T12:33:31.032Z"
   },
   {
    "duration": 85,
    "start_time": "2022-09-24T12:33:31.039Z"
   },
   {
    "duration": 34,
    "start_time": "2022-09-24T12:33:31.126Z"
   },
   {
    "duration": 32,
    "start_time": "2022-09-24T12:33:31.161Z"
   },
   {
    "duration": 6,
    "start_time": "2022-09-24T12:33:31.209Z"
   },
   {
    "duration": 24,
    "start_time": "2022-09-24T12:33:31.217Z"
   },
   {
    "duration": 26,
    "start_time": "2022-09-24T12:33:31.243Z"
   },
   {
    "duration": 24,
    "start_time": "2022-09-24T12:33:31.271Z"
   },
   {
    "duration": 11,
    "start_time": "2022-09-24T12:33:31.296Z"
   },
   {
    "duration": 19,
    "start_time": "2022-09-24T12:33:31.309Z"
   },
   {
    "duration": 4,
    "start_time": "2022-09-24T12:33:31.330Z"
   },
   {
    "duration": 19,
    "start_time": "2022-09-24T12:33:31.335Z"
   },
   {
    "duration": 23,
    "start_time": "2022-09-24T12:33:31.355Z"
   },
   {
    "duration": 29,
    "start_time": "2022-09-24T12:33:31.380Z"
   },
   {
    "duration": 22,
    "start_time": "2022-09-24T12:33:31.410Z"
   },
   {
    "duration": 178,
    "start_time": "2022-09-24T12:33:31.436Z"
   },
   {
    "duration": 17,
    "start_time": "2022-09-24T12:33:31.615Z"
   },
   {
    "duration": 39,
    "start_time": "2022-09-24T12:33:31.633Z"
   },
   {
    "duration": 15,
    "start_time": "2022-09-24T12:33:31.674Z"
   },
   {
    "duration": 32,
    "start_time": "2022-09-24T12:33:31.690Z"
   },
   {
    "duration": 53,
    "start_time": "2022-09-24T12:33:31.724Z"
   },
   {
    "duration": 4,
    "start_time": "2022-09-24T12:33:31.779Z"
   },
   {
    "duration": 9,
    "start_time": "2022-09-24T12:33:31.785Z"
   },
   {
    "duration": 16,
    "start_time": "2022-09-24T12:33:31.796Z"
   },
   {
    "duration": 9,
    "start_time": "2022-09-24T12:33:31.814Z"
   },
   {
    "duration": 17,
    "start_time": "2022-09-24T12:33:31.824Z"
   },
   {
    "duration": 24,
    "start_time": "2022-09-24T12:33:31.843Z"
   },
   {
    "duration": 119,
    "start_time": "2022-09-24T12:33:31.869Z"
   },
   {
    "duration": 7,
    "start_time": "2022-09-24T12:33:31.990Z"
   },
   {
    "duration": 21,
    "start_time": "2022-09-24T12:33:32.009Z"
   },
   {
    "duration": 38,
    "start_time": "2022-09-24T12:33:32.032Z"
   },
   {
    "duration": 21,
    "start_time": "2022-09-24T12:33:32.072Z"
   },
   {
    "duration": 23,
    "start_time": "2022-09-24T12:33:32.095Z"
   },
   {
    "duration": 442,
    "start_time": "2022-09-24T12:33:32.120Z"
   },
   {
    "duration": 509,
    "start_time": "2022-09-24T12:33:32.565Z"
   },
   {
    "duration": 43,
    "start_time": "2022-09-24T12:33:33.075Z"
   },
   {
    "duration": 15,
    "start_time": "2022-09-24T12:33:33.120Z"
   },
   {
    "duration": 34,
    "start_time": "2022-09-24T12:33:33.136Z"
   },
   {
    "duration": 66,
    "start_time": "2022-09-24T12:33:33.172Z"
   },
   {
    "duration": 14,
    "start_time": "2022-09-24T12:33:33.240Z"
   },
   {
    "duration": 48,
    "start_time": "2022-09-24T12:33:33.256Z"
   },
   {
    "duration": 38,
    "start_time": "2022-09-24T12:33:33.306Z"
   },
   {
    "duration": 59,
    "start_time": "2022-09-24T12:33:33.346Z"
   },
   {
    "duration": 50,
    "start_time": "2022-09-24T12:33:33.407Z"
   },
   {
    "duration": 10,
    "start_time": "2022-09-24T12:33:33.459Z"
   },
   {
    "duration": 48,
    "start_time": "2022-09-24T12:33:33.471Z"
   },
   {
    "duration": 46,
    "start_time": "2022-09-24T12:33:33.521Z"
   },
   {
    "duration": 29,
    "start_time": "2022-09-24T12:33:33.569Z"
   },
   {
    "duration": 56,
    "start_time": "2022-09-24T12:33:33.599Z"
   },
   {
    "duration": 3399,
    "start_time": "2022-09-24T12:34:36.012Z"
   },
   {
    "duration": 1461,
    "start_time": "2022-09-24T12:34:39.413Z"
   },
   {
    "duration": 595,
    "start_time": "2022-09-24T12:34:40.876Z"
   },
   {
    "duration": 5,
    "start_time": "2022-09-24T12:34:41.473Z"
   },
   {
    "duration": 8,
    "start_time": "2022-09-24T12:34:41.479Z"
   },
   {
    "duration": 6,
    "start_time": "2022-09-24T12:34:41.488Z"
   },
   {
    "duration": 28,
    "start_time": "2022-09-24T12:34:41.495Z"
   },
   {
    "duration": 5,
    "start_time": "2022-09-24T12:34:41.525Z"
   },
   {
    "duration": 7,
    "start_time": "2022-09-24T12:34:41.532Z"
   },
   {
    "duration": 6,
    "start_time": "2022-09-24T12:34:41.542Z"
   },
   {
    "duration": 6,
    "start_time": "2022-09-24T12:34:41.549Z"
   },
   {
    "duration": 10,
    "start_time": "2022-09-24T12:34:41.556Z"
   },
   {
    "duration": 9,
    "start_time": "2022-09-24T12:34:41.568Z"
   },
   {
    "duration": 31,
    "start_time": "2022-09-24T12:34:41.579Z"
   },
   {
    "duration": 75,
    "start_time": "2022-09-24T12:34:41.612Z"
   },
   {
    "duration": 29,
    "start_time": "2022-09-24T12:34:41.689Z"
   },
   {
    "duration": 18,
    "start_time": "2022-09-24T12:34:41.720Z"
   },
   {
    "duration": 14,
    "start_time": "2022-09-24T12:34:41.740Z"
   },
   {
    "duration": 4,
    "start_time": "2022-09-24T12:34:41.755Z"
   },
   {
    "duration": 8,
    "start_time": "2022-09-24T12:34:41.761Z"
   },
   {
    "duration": 4,
    "start_time": "2022-09-24T12:34:41.771Z"
   },
   {
    "duration": 350,
    "start_time": "2022-09-24T12:34:41.809Z"
   },
   {
    "duration": 90,
    "start_time": "2022-09-24T12:34:42.161Z"
   },
   {
    "duration": 41,
    "start_time": "2022-09-24T12:34:42.253Z"
   },
   {
    "duration": 115,
    "start_time": "2022-09-24T12:34:42.296Z"
   },
   {
    "duration": 6,
    "start_time": "2022-09-24T12:34:42.412Z"
   },
   {
    "duration": 66,
    "start_time": "2022-09-24T12:34:42.419Z"
   },
   {
    "duration": 57,
    "start_time": "2022-09-24T12:34:42.489Z"
   },
   {
    "duration": 40,
    "start_time": "2022-09-24T12:34:42.548Z"
   },
   {
    "duration": 8,
    "start_time": "2022-09-24T12:34:42.608Z"
   },
   {
    "duration": 16,
    "start_time": "2022-09-24T12:34:42.618Z"
   },
   {
    "duration": 19,
    "start_time": "2022-09-24T12:34:42.637Z"
   },
   {
    "duration": 27,
    "start_time": "2022-09-24T12:34:42.658Z"
   },
   {
    "duration": 14,
    "start_time": "2022-09-24T12:34:42.687Z"
   },
   {
    "duration": 139,
    "start_time": "2022-09-24T12:34:42.703Z"
   },
   {
    "duration": 0,
    "start_time": "2022-09-24T12:34:42.844Z"
   },
   {
    "duration": 0,
    "start_time": "2022-09-24T12:34:42.845Z"
   },
   {
    "duration": 0,
    "start_time": "2022-09-24T12:34:42.846Z"
   },
   {
    "duration": 0,
    "start_time": "2022-09-24T12:34:42.847Z"
   },
   {
    "duration": 0,
    "start_time": "2022-09-24T12:34:42.848Z"
   },
   {
    "duration": 0,
    "start_time": "2022-09-24T12:34:42.849Z"
   },
   {
    "duration": 0,
    "start_time": "2022-09-24T12:34:42.851Z"
   },
   {
    "duration": 0,
    "start_time": "2022-09-24T12:34:42.852Z"
   },
   {
    "duration": 0,
    "start_time": "2022-09-24T12:34:42.854Z"
   },
   {
    "duration": 0,
    "start_time": "2022-09-24T12:34:42.855Z"
   },
   {
    "duration": 0,
    "start_time": "2022-09-24T12:34:42.856Z"
   },
   {
    "duration": 0,
    "start_time": "2022-09-24T12:34:42.857Z"
   },
   {
    "duration": 0,
    "start_time": "2022-09-24T12:34:42.858Z"
   },
   {
    "duration": 0,
    "start_time": "2022-09-24T12:34:42.859Z"
   },
   {
    "duration": 0,
    "start_time": "2022-09-24T12:34:42.861Z"
   },
   {
    "duration": 0,
    "start_time": "2022-09-24T12:34:42.862Z"
   },
   {
    "duration": 0,
    "start_time": "2022-09-24T12:34:42.863Z"
   },
   {
    "duration": 0,
    "start_time": "2022-09-24T12:34:42.863Z"
   },
   {
    "duration": 0,
    "start_time": "2022-09-24T12:34:42.865Z"
   },
   {
    "duration": 0,
    "start_time": "2022-09-24T12:34:42.865Z"
   },
   {
    "duration": 0,
    "start_time": "2022-09-24T12:34:42.866Z"
   },
   {
    "duration": 0,
    "start_time": "2022-09-24T12:34:42.867Z"
   },
   {
    "duration": 0,
    "start_time": "2022-09-24T12:34:42.873Z"
   },
   {
    "duration": 0,
    "start_time": "2022-09-24T12:34:42.873Z"
   },
   {
    "duration": 0,
    "start_time": "2022-09-24T12:34:42.909Z"
   },
   {
    "duration": 0,
    "start_time": "2022-09-24T12:34:42.910Z"
   },
   {
    "duration": 0,
    "start_time": "2022-09-24T12:34:42.911Z"
   },
   {
    "duration": 0,
    "start_time": "2022-09-24T12:34:42.912Z"
   },
   {
    "duration": 0,
    "start_time": "2022-09-24T12:34:42.914Z"
   },
   {
    "duration": 0,
    "start_time": "2022-09-24T12:34:42.915Z"
   },
   {
    "duration": 0,
    "start_time": "2022-09-24T12:34:42.916Z"
   },
   {
    "duration": 0,
    "start_time": "2022-09-24T12:34:42.917Z"
   },
   {
    "duration": 0,
    "start_time": "2022-09-24T12:34:42.917Z"
   },
   {
    "duration": 0,
    "start_time": "2022-09-24T12:34:42.918Z"
   },
   {
    "duration": 0,
    "start_time": "2022-09-24T12:34:42.920Z"
   },
   {
    "duration": 0,
    "start_time": "2022-09-24T12:34:42.921Z"
   },
   {
    "duration": 0,
    "start_time": "2022-09-24T12:34:42.921Z"
   },
   {
    "duration": 0,
    "start_time": "2022-09-24T12:34:42.923Z"
   },
   {
    "duration": 0,
    "start_time": "2022-09-24T12:34:42.924Z"
   },
   {
    "duration": 3457,
    "start_time": "2022-09-24T12:35:05.828Z"
   },
   {
    "duration": 1462,
    "start_time": "2022-09-24T12:35:09.287Z"
   },
   {
    "duration": 573,
    "start_time": "2022-09-24T12:35:10.751Z"
   },
   {
    "duration": 5,
    "start_time": "2022-09-24T12:35:11.326Z"
   },
   {
    "duration": 20,
    "start_time": "2022-09-24T12:35:11.332Z"
   },
   {
    "duration": 13,
    "start_time": "2022-09-24T12:35:11.354Z"
   },
   {
    "duration": 41,
    "start_time": "2022-09-24T12:35:11.368Z"
   },
   {
    "duration": 5,
    "start_time": "2022-09-24T12:35:11.410Z"
   },
   {
    "duration": 19,
    "start_time": "2022-09-24T12:35:11.417Z"
   },
   {
    "duration": 22,
    "start_time": "2022-09-24T12:35:11.439Z"
   },
   {
    "duration": 26,
    "start_time": "2022-09-24T12:35:11.463Z"
   },
   {
    "duration": 17,
    "start_time": "2022-09-24T12:35:11.491Z"
   },
   {
    "duration": 24,
    "start_time": "2022-09-24T12:35:11.510Z"
   },
   {
    "duration": 18,
    "start_time": "2022-09-24T12:35:11.536Z"
   },
   {
    "duration": 78,
    "start_time": "2022-09-24T12:35:11.555Z"
   },
   {
    "duration": 14,
    "start_time": "2022-09-24T12:35:11.635Z"
   },
   {
    "duration": 31,
    "start_time": "2022-09-24T12:35:11.651Z"
   },
   {
    "duration": 26,
    "start_time": "2022-09-24T12:35:11.683Z"
   },
   {
    "duration": 4,
    "start_time": "2022-09-24T12:35:11.710Z"
   },
   {
    "duration": 30,
    "start_time": "2022-09-24T12:35:11.716Z"
   },
   {
    "duration": 14,
    "start_time": "2022-09-24T12:35:11.749Z"
   },
   {
    "duration": 371,
    "start_time": "2022-09-24T12:35:11.765Z"
   },
   {
    "duration": 83,
    "start_time": "2022-09-24T12:35:12.138Z"
   },
   {
    "duration": 39,
    "start_time": "2022-09-24T12:35:12.222Z"
   },
   {
    "duration": 107,
    "start_time": "2022-09-24T12:35:12.263Z"
   },
   {
    "duration": 5,
    "start_time": "2022-09-24T12:35:12.372Z"
   },
   {
    "duration": 81,
    "start_time": "2022-09-24T12:35:12.379Z"
   },
   {
    "duration": 34,
    "start_time": "2022-09-24T12:35:12.464Z"
   },
   {
    "duration": 42,
    "start_time": "2022-09-24T12:35:12.508Z"
   },
   {
    "duration": 9,
    "start_time": "2022-09-24T12:35:12.552Z"
   },
   {
    "duration": 23,
    "start_time": "2022-09-24T12:35:12.563Z"
   },
   {
    "duration": 28,
    "start_time": "2022-09-24T12:35:12.588Z"
   },
   {
    "duration": 44,
    "start_time": "2022-09-24T12:35:12.618Z"
   },
   {
    "duration": 54,
    "start_time": "2022-09-24T12:35:12.664Z"
   },
   {
    "duration": 0,
    "start_time": "2022-09-24T12:35:12.721Z"
   },
   {
    "duration": 0,
    "start_time": "2022-09-24T12:35:12.722Z"
   },
   {
    "duration": 0,
    "start_time": "2022-09-24T12:35:12.723Z"
   },
   {
    "duration": 0,
    "start_time": "2022-09-24T12:35:12.724Z"
   },
   {
    "duration": 0,
    "start_time": "2022-09-24T12:35:12.725Z"
   },
   {
    "duration": 0,
    "start_time": "2022-09-24T12:35:12.726Z"
   },
   {
    "duration": 0,
    "start_time": "2022-09-24T12:35:12.728Z"
   },
   {
    "duration": 0,
    "start_time": "2022-09-24T12:35:12.730Z"
   },
   {
    "duration": 0,
    "start_time": "2022-09-24T12:35:12.731Z"
   },
   {
    "duration": 0,
    "start_time": "2022-09-24T12:35:12.734Z"
   },
   {
    "duration": 0,
    "start_time": "2022-09-24T12:35:12.735Z"
   },
   {
    "duration": 0,
    "start_time": "2022-09-24T12:35:12.736Z"
   },
   {
    "duration": 0,
    "start_time": "2022-09-24T12:35:12.738Z"
   },
   {
    "duration": 0,
    "start_time": "2022-09-24T12:35:12.740Z"
   },
   {
    "duration": 0,
    "start_time": "2022-09-24T12:35:12.742Z"
   },
   {
    "duration": 0,
    "start_time": "2022-09-24T12:35:12.744Z"
   },
   {
    "duration": 0,
    "start_time": "2022-09-24T12:35:12.745Z"
   },
   {
    "duration": 0,
    "start_time": "2022-09-24T12:35:12.747Z"
   },
   {
    "duration": 0,
    "start_time": "2022-09-24T12:35:12.749Z"
   },
   {
    "duration": 0,
    "start_time": "2022-09-24T12:35:12.750Z"
   },
   {
    "duration": 0,
    "start_time": "2022-09-24T12:35:12.752Z"
   },
   {
    "duration": 0,
    "start_time": "2022-09-24T12:35:12.753Z"
   },
   {
    "duration": 0,
    "start_time": "2022-09-24T12:35:12.755Z"
   },
   {
    "duration": 0,
    "start_time": "2022-09-24T12:35:12.756Z"
   },
   {
    "duration": 0,
    "start_time": "2022-09-24T12:35:12.758Z"
   },
   {
    "duration": 0,
    "start_time": "2022-09-24T12:35:12.758Z"
   },
   {
    "duration": 0,
    "start_time": "2022-09-24T12:35:12.759Z"
   },
   {
    "duration": 0,
    "start_time": "2022-09-24T12:35:12.808Z"
   },
   {
    "duration": 0,
    "start_time": "2022-09-24T12:35:12.810Z"
   },
   {
    "duration": 0,
    "start_time": "2022-09-24T12:35:12.811Z"
   },
   {
    "duration": 0,
    "start_time": "2022-09-24T12:35:12.812Z"
   },
   {
    "duration": 0,
    "start_time": "2022-09-24T12:35:12.813Z"
   },
   {
    "duration": 0,
    "start_time": "2022-09-24T12:35:12.814Z"
   },
   {
    "duration": 0,
    "start_time": "2022-09-24T12:35:12.815Z"
   },
   {
    "duration": 0,
    "start_time": "2022-09-24T12:35:12.816Z"
   },
   {
    "duration": 0,
    "start_time": "2022-09-24T12:35:12.817Z"
   },
   {
    "duration": 0,
    "start_time": "2022-09-24T12:35:12.818Z"
   },
   {
    "duration": 0,
    "start_time": "2022-09-24T12:35:12.820Z"
   },
   {
    "duration": 0,
    "start_time": "2022-09-24T12:35:12.821Z"
   },
   {
    "duration": 0,
    "start_time": "2022-09-24T12:35:12.823Z"
   },
   {
    "duration": 4,
    "start_time": "2022-09-24T12:35:42.696Z"
   },
   {
    "duration": 129,
    "start_time": "2022-09-24T12:35:43.513Z"
   },
   {
    "duration": 3,
    "start_time": "2022-09-24T12:35:59.393Z"
   },
   {
    "duration": 10,
    "start_time": "2022-09-24T12:36:00.161Z"
   },
   {
    "duration": 5,
    "start_time": "2022-09-24T12:36:01.739Z"
   },
   {
    "duration": 11,
    "start_time": "2022-09-24T12:36:03.185Z"
   },
   {
    "duration": 10,
    "start_time": "2022-09-24T12:36:06.211Z"
   },
   {
    "duration": 9,
    "start_time": "2022-09-24T12:36:07.497Z"
   },
   {
    "duration": 3638,
    "start_time": "2022-09-24T12:36:13.159Z"
   },
   {
    "duration": 1487,
    "start_time": "2022-09-24T12:36:16.800Z"
   },
   {
    "duration": 570,
    "start_time": "2022-09-24T12:36:18.288Z"
   },
   {
    "duration": 6,
    "start_time": "2022-09-24T12:36:18.860Z"
   },
   {
    "duration": 8,
    "start_time": "2022-09-24T12:36:18.868Z"
   },
   {
    "duration": 6,
    "start_time": "2022-09-24T12:36:18.877Z"
   },
   {
    "duration": 37,
    "start_time": "2022-09-24T12:36:18.884Z"
   },
   {
    "duration": 6,
    "start_time": "2022-09-24T12:36:18.923Z"
   },
   {
    "duration": 3,
    "start_time": "2022-09-24T12:36:18.931Z"
   },
   {
    "duration": 9,
    "start_time": "2022-09-24T12:36:18.937Z"
   },
   {
    "duration": 9,
    "start_time": "2022-09-24T12:36:18.948Z"
   },
   {
    "duration": 8,
    "start_time": "2022-09-24T12:36:18.958Z"
   },
   {
    "duration": 7,
    "start_time": "2022-09-24T12:36:18.968Z"
   },
   {
    "duration": 5,
    "start_time": "2022-09-24T12:36:18.977Z"
   },
   {
    "duration": 87,
    "start_time": "2022-09-24T12:36:18.984Z"
   },
   {
    "duration": 12,
    "start_time": "2022-09-24T12:36:19.073Z"
   },
   {
    "duration": 19,
    "start_time": "2022-09-24T12:36:19.109Z"
   },
   {
    "duration": 14,
    "start_time": "2022-09-24T12:36:19.130Z"
   },
   {
    "duration": 4,
    "start_time": "2022-09-24T12:36:19.146Z"
   },
   {
    "duration": 9,
    "start_time": "2022-09-24T12:36:19.152Z"
   },
   {
    "duration": 5,
    "start_time": "2022-09-24T12:36:19.162Z"
   },
   {
    "duration": 348,
    "start_time": "2022-09-24T12:36:19.209Z"
   },
   {
    "duration": 80,
    "start_time": "2022-09-24T12:36:19.559Z"
   },
   {
    "duration": 38,
    "start_time": "2022-09-24T12:36:19.640Z"
   },
   {
    "duration": 108,
    "start_time": "2022-09-24T12:36:19.680Z"
   },
   {
    "duration": 19,
    "start_time": "2022-09-24T12:36:19.790Z"
   },
   {
    "duration": 69,
    "start_time": "2022-09-24T12:36:19.811Z"
   },
   {
    "duration": 46,
    "start_time": "2022-09-24T12:36:19.884Z"
   },
   {
    "duration": 41,
    "start_time": "2022-09-24T12:36:19.932Z"
   },
   {
    "duration": 7,
    "start_time": "2022-09-24T12:36:19.974Z"
   },
   {
    "duration": 27,
    "start_time": "2022-09-24T12:36:19.982Z"
   },
   {
    "duration": 8,
    "start_time": "2022-09-24T12:36:20.011Z"
   },
   {
    "duration": 8,
    "start_time": "2022-09-24T12:36:20.020Z"
   },
   {
    "duration": 5,
    "start_time": "2022-09-24T12:36:20.029Z"
   },
   {
    "duration": 14,
    "start_time": "2022-09-24T12:36:20.035Z"
   },
   {
    "duration": 5,
    "start_time": "2022-09-24T12:36:20.050Z"
   },
   {
    "duration": 13,
    "start_time": "2022-09-24T12:36:20.056Z"
   },
   {
    "duration": 8,
    "start_time": "2022-09-24T12:36:20.070Z"
   },
   {
    "duration": 9,
    "start_time": "2022-09-24T12:36:20.109Z"
   },
   {
    "duration": 7,
    "start_time": "2022-09-24T12:36:20.119Z"
   },
   {
    "duration": 198,
    "start_time": "2022-09-24T12:36:20.127Z"
   },
   {
    "duration": 16,
    "start_time": "2022-09-24T12:36:20.327Z"
   },
   {
    "duration": 45,
    "start_time": "2022-09-24T12:36:20.344Z"
   },
   {
    "duration": 32,
    "start_time": "2022-09-24T12:36:20.390Z"
   },
   {
    "duration": 14,
    "start_time": "2022-09-24T12:36:20.424Z"
   },
   {
    "duration": 15,
    "start_time": "2022-09-24T12:36:20.439Z"
   },
   {
    "duration": 3,
    "start_time": "2022-09-24T12:36:20.456Z"
   },
   {
    "duration": 5,
    "start_time": "2022-09-24T12:36:20.461Z"
   },
   {
    "duration": 43,
    "start_time": "2022-09-24T12:36:20.467Z"
   },
   {
    "duration": 14,
    "start_time": "2022-09-24T12:36:20.511Z"
   },
   {
    "duration": 30,
    "start_time": "2022-09-24T12:36:20.527Z"
   },
   {
    "duration": 44,
    "start_time": "2022-09-24T12:36:20.558Z"
   },
   {
    "duration": 108,
    "start_time": "2022-09-24T12:36:20.604Z"
   },
   {
    "duration": 7,
    "start_time": "2022-09-24T12:36:20.714Z"
   },
   {
    "duration": 31,
    "start_time": "2022-09-24T12:36:20.723Z"
   },
   {
    "duration": 41,
    "start_time": "2022-09-24T12:36:20.756Z"
   },
   {
    "duration": 21,
    "start_time": "2022-09-24T12:36:20.799Z"
   },
   {
    "duration": 42,
    "start_time": "2022-09-24T12:36:20.821Z"
   },
   {
    "duration": 483,
    "start_time": "2022-09-24T12:36:20.865Z"
   },
   {
    "duration": 493,
    "start_time": "2022-09-24T12:36:21.350Z"
   },
   {
    "duration": 26,
    "start_time": "2022-09-24T12:36:21.845Z"
   },
   {
    "duration": 45,
    "start_time": "2022-09-24T12:36:21.873Z"
   },
   {
    "duration": 20,
    "start_time": "2022-09-24T12:36:21.920Z"
   },
   {
    "duration": 40,
    "start_time": "2022-09-24T12:36:21.942Z"
   },
   {
    "duration": 6,
    "start_time": "2022-09-24T12:36:21.984Z"
   },
   {
    "duration": 32,
    "start_time": "2022-09-24T12:36:21.991Z"
   },
   {
    "duration": 43,
    "start_time": "2022-09-24T12:36:22.025Z"
   },
   {
    "duration": 40,
    "start_time": "2022-09-24T12:36:22.069Z"
   },
   {
    "duration": 35,
    "start_time": "2022-09-24T12:36:22.111Z"
   },
   {
    "duration": 32,
    "start_time": "2022-09-24T12:36:22.148Z"
   },
   {
    "duration": 41,
    "start_time": "2022-09-24T12:36:22.181Z"
   },
   {
    "duration": 33,
    "start_time": "2022-09-24T12:36:22.224Z"
   },
   {
    "duration": 12,
    "start_time": "2022-09-24T12:36:22.259Z"
   },
   {
    "duration": 65,
    "start_time": "2022-09-24T12:36:22.273Z"
   }
  ],
  "kernelspec": {
   "display_name": "Python 3 (ipykernel)",
   "language": "python",
   "name": "python3"
  },
  "language_info": {
   "codemirror_mode": {
    "name": "ipython",
    "version": 3
   },
   "file_extension": ".py",
   "mimetype": "text/x-python",
   "name": "python",
   "nbconvert_exporter": "python",
   "pygments_lexer": "ipython3",
   "version": "3.9.7"
  },
  "toc": {
   "base_numbering": 1,
   "nav_menu": {},
   "number_sections": true,
   "sideBar": true,
   "skip_h1_title": true,
   "title_cell": "Table of Contents",
   "title_sidebar": "Contents",
   "toc_cell": true,
   "toc_position": {
    "height": "calc(100% - 180px)",
    "left": "10px",
    "top": "150px",
    "width": "346.797px"
   },
   "toc_section_display": true,
   "toc_window_display": false
  }
 },
 "nbformat": 4,
 "nbformat_minor": 5
}
