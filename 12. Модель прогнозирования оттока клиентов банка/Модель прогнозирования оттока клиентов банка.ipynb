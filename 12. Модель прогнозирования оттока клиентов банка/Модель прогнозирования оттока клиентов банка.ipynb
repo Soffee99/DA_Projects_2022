{
 "cells": [
  {
   "cell_type": "markdown",
   "id": "6d1d492e",
   "metadata": {
    "toc": true
   },
   "source": [
    "<h1>Содержание<span class=\"tocSkip\"></span></h1>\n",
    "<div class=\"toc\"><ul class=\"toc-item\"><li><span><a href=\"#Обзор-данных\" data-toc-modified-id=\"Обзор-данных-1\"><span class=\"toc-item-num\">1&nbsp;&nbsp;</span>Обзор данных</a></span></li><li><span><a href=\"#Подготовка-данных\" data-toc-modified-id=\"Подготовка-данных-2\"><span class=\"toc-item-num\">2&nbsp;&nbsp;</span>Подготовка данных</a></span><ul class=\"toc-item\"><li><span><a href=\"#Разведочный-анализ-данных\" data-toc-modified-id=\"Разведочный-анализ-данных-2.1\"><span class=\"toc-item-num\">2.1&nbsp;&nbsp;</span>Разведочный анализ данных</a></span></li><li><span><a href=\"#OHE-категориальных-данных\" data-toc-modified-id=\"OHE-категориальных-данных-2.2\"><span class=\"toc-item-num\">2.2&nbsp;&nbsp;</span>OHE категориальных данных</a></span></li><li><span><a href=\"#Разделение-данных-на-выборки\" data-toc-modified-id=\"Разделение-данных-на-выборки-2.3\"><span class=\"toc-item-num\">2.3&nbsp;&nbsp;</span>Разделение данных на выборки</a></span></li><li><span><a href=\"#Масштабирование-количественных-признаков\" data-toc-modified-id=\"Масштабирование-количественных-признаков-2.4\"><span class=\"toc-item-num\">2.4&nbsp;&nbsp;</span>Масштабирование количественных признаков</a></span></li></ul></li><li><span><a href=\"#Иследование-баланса-классов-и-качества-моделей\" data-toc-modified-id=\"Иследование-баланса-классов-и-качества-моделей-3\"><span class=\"toc-item-num\">3&nbsp;&nbsp;</span>Иследование баланса классов и качества моделей</a></span><ul class=\"toc-item\"><li><span><a href=\"#Исследование-баланса-классов\" data-toc-modified-id=\"Исследование-баланса-классов-3.1\"><span class=\"toc-item-num\">3.1&nbsp;&nbsp;</span>Исследование баланса классов</a></span></li><li><span><a href=\"#Качество-моделей-с-дисбалансом-классов\" data-toc-modified-id=\"Качество-моделей-с-дисбалансом-классов-3.2\"><span class=\"toc-item-num\">3.2&nbsp;&nbsp;</span>Качество моделей с дисбалансом классов</a></span><ul class=\"toc-item\"><li><span><a href=\"#Модель-&quot;Дерево-решений&quot;\" data-toc-modified-id=\"Модель-&quot;Дерево-решений&quot;-3.2.1\"><span class=\"toc-item-num\">3.2.1&nbsp;&nbsp;</span>Модель \"Дерево решений\"</a></span></li><li><span><a href=\"#Модель-&quot;Случайный-лес&quot;\" data-toc-modified-id=\"Модель-&quot;Случайный-лес&quot;-3.2.2\"><span class=\"toc-item-num\">3.2.2&nbsp;&nbsp;</span>Модель \"Случайный лес\"</a></span></li><li><span><a href=\"#Модель-&quot;Логистическая-регрессия&quot;\" data-toc-modified-id=\"Модель-&quot;Логистическая-регрессия&quot;-3.2.3\"><span class=\"toc-item-num\">3.2.3&nbsp;&nbsp;</span>Модель \"Логистическая регрессия\"</a></span></li></ul></li><li><span><a href=\"#Качество-моделей-с-балансом-классов\" data-toc-modified-id=\"Качество-моделей-с-балансом-классов-3.3\"><span class=\"toc-item-num\">3.3&nbsp;&nbsp;</span>Качество моделей с балансом классов</a></span><ul class=\"toc-item\"><li><span><a href=\"#Взвешивание-классов\" data-toc-modified-id=\"Взвешивание-классов-3.3.1\"><span class=\"toc-item-num\">3.3.1&nbsp;&nbsp;</span>Взвешивание классов</a></span></li><li><span><a href=\"#Техника-Upsampling\" data-toc-modified-id=\"Техника-Upsampling-3.3.2\"><span class=\"toc-item-num\">3.3.2&nbsp;&nbsp;</span>Техника Upsampling</a></span></li><li><span><a href=\"#Техника-Downsampling\" data-toc-modified-id=\"Техника-Downsampling-3.3.3\"><span class=\"toc-item-num\">3.3.3&nbsp;&nbsp;</span>Техника Downsampling</a></span></li></ul></li></ul></li><li><span><a href=\"#Финальное-тестирование\" data-toc-modified-id=\"Финальное-тестирование-4\"><span class=\"toc-item-num\">4&nbsp;&nbsp;</span>Финальное тестирование</a></span></li><li><span><a href=\"#Вывод\" data-toc-modified-id=\"Вывод-5\"><span class=\"toc-item-num\">5&nbsp;&nbsp;</span>Вывод</a></span></li></ul></div>"
   ]
  },
  {
   "cell_type": "markdown",
   "id": "8b8b5e8e",
   "metadata": {},
   "source": [
    "# Построение модели прогнозирования оттока клиентов банка"
   ]
  },
  {
   "cell_type": "markdown",
   "id": "2d4f878b",
   "metadata": {},
   "source": [
    "**Описание проекта**\n",
    "\n",
    "Из банка стали уходить клиенты. Каждый месяц по-немногу, но заметно. Банковские маркетологи посчитали: сохранять текущих клиентов дешевле, чем привлекать новых.\n",
    "Нам предоставлены исторические данные о поведении клиентов и расторжении договоров с банком.\n",
    "\n",
    "\n",
    "**Цель исследования**\n",
    "\n",
    "Построить модель с предельно большим значением F1-меры, которая будет прогнозировать, уйдёт клиент из банка в ближайшее время или нет.\n",
    "Необходимо построить модель с максимально большим значением F1-меру - не менее 0.59. Необходимо дополнительно измерять AUC-ROC и  сравнивать её значение с F1-мерой.\n",
    "\n",
    " **Ход исследования**\n",
    "\n",
    " 1. Обзор данных.\n",
    " 2. Подготовка и разведочный анализ данных.\n",
    " 3. Исследование баланса классов.\n",
    " 4. Обучение модели  без учета дисбаланса.\n",
    " 5. Улучшение качества моделей и поиск лучшей, учитывая дисбаланс классов.\n",
    " 6. Финальное тестирование\n",
    " 7. Общий вывод.\n",
    "\n",
    "**Описание данных**\n",
    "\n",
    "- `RowNumber` — индекс строки в данных\n",
    "- `CustomerId` — уникальный идентификатор клиента\n",
    "- `Surname` — фамилия\n",
    "- `CreditScore` — кредитный рейтинг\n",
    "- `Geography` — страна проживания\n",
    "- `Gender` — пол\n",
    "- `Age` — возраст\n",
    "- `Tenure` — сколько лет человек является клиентом банка\n",
    "- `Balance` — баланс на счёте\n",
    "- `NumOfProducts` — количество продуктов банка, используемых клиентом\n",
    "- `HasCrCard` — наличие кредитной карты\n",
    "- `IsActiveMember` — активность клиента\n",
    "- `EstimatedSalary` — предполагаемая зарплата\n",
    "\n",
    "Целевой признак\n",
    "\n",
    "- `Exited` — факт ухода клиента"
   ]
  },
  {
   "cell_type": "markdown",
   "id": "451d1f4a",
   "metadata": {},
   "source": [
    "## Обзор данных"
   ]
  },
  {
   "cell_type": "markdown",
   "id": "1f57309a",
   "metadata": {},
   "source": [
    "Импортируем все необходимые для построения моделей библиотеки. "
   ]
  },
  {
   "cell_type": "code",
   "execution_count": 1,
   "id": "62b26ebd",
   "metadata": {},
   "outputs": [],
   "source": [
    "import pandas as pd\n",
    "import numpy as np\n",
    "import seaborn as sns\n",
    "import matplotlib.pyplot as plt\n",
    "%matplotlib inline\n",
    "from sklearn.model_selection import train_test_split\n",
    "from sklearn.tree import DecisionTreeClassifier\n",
    "from sklearn.ensemble import RandomForestClassifier\n",
    "from sklearn.linear_model import LogisticRegression\n",
    "from sklearn.preprocessing import StandardScaler \n",
    "from sklearn.metrics import f1_score, roc_auc_score, recall_score, precision_score, roc_curve\n",
    "from sklearn.utils import shuffle"
   ]
  },
  {
   "cell_type": "markdown",
   "id": "2d31e42b",
   "metadata": {},
   "source": [
    "Познакомимся с данными. Для этого создадим функцию, которая выводит общую информацию о данных, проверяет данные на пропуски и дубликаты, а также знакомит нас с основными статистическими характеристиками данных:"
   ]
  },
  {
   "cell_type": "code",
   "execution_count": 3,
   "id": "1dec8970",
   "metadata": {},
   "outputs": [],
   "source": [
    "def df_info(df):\n",
    "    print('Познакомимся с данными')\n",
    "    display(df.head())\n",
    "    print()\n",
    "    print('Посмотрим сводную информация о данных')\n",
    "    print()\n",
    "    df.info()\n",
    "    print()\n",
    "    print(\"Проверим данные на пропуски и дубликаты\")\n",
    "    print()\n",
    "    print(\"Доля пропусков:\")\n",
    "    display(df.isna().mean().round(2))\n",
    "    print()\n",
    "    print(\"Количество дубликатов:\", df.duplicated().sum()) \n",
    "    print()\n",
    "    print(\"Сводка статистики \")  \n",
    "    display(df.describe())     "
   ]
  },
  {
   "cell_type": "markdown",
   "id": "7c9f89ef",
   "metadata": {},
   "source": [
    "Посмотрим эту информацию:"
   ]
  },
  {
   "cell_type": "code",
   "execution_count": 4,
   "id": "fadf4a49",
   "metadata": {},
   "outputs": [
    {
     "name": "stdout",
     "output_type": "stream",
     "text": [
      "Познакомимся с данными\n"
     ]
    },
    {
     "data": {
      "text/html": [
       "<div>\n",
       "<style scoped>\n",
       "    .dataframe tbody tr th:only-of-type {\n",
       "        vertical-align: middle;\n",
       "    }\n",
       "\n",
       "    .dataframe tbody tr th {\n",
       "        vertical-align: top;\n",
       "    }\n",
       "\n",
       "    .dataframe thead th {\n",
       "        text-align: right;\n",
       "    }\n",
       "</style>\n",
       "<table border=\"1\" class=\"dataframe\">\n",
       "  <thead>\n",
       "    <tr style=\"text-align: right;\">\n",
       "      <th></th>\n",
       "      <th>RowNumber</th>\n",
       "      <th>CustomerId</th>\n",
       "      <th>Surname</th>\n",
       "      <th>CreditScore</th>\n",
       "      <th>Geography</th>\n",
       "      <th>Gender</th>\n",
       "      <th>Age</th>\n",
       "      <th>Tenure</th>\n",
       "      <th>Balance</th>\n",
       "      <th>NumOfProducts</th>\n",
       "      <th>HasCrCard</th>\n",
       "      <th>IsActiveMember</th>\n",
       "      <th>EstimatedSalary</th>\n",
       "      <th>Exited</th>\n",
       "    </tr>\n",
       "  </thead>\n",
       "  <tbody>\n",
       "    <tr>\n",
       "      <th>0</th>\n",
       "      <td>1</td>\n",
       "      <td>15634602</td>\n",
       "      <td>Hargrave</td>\n",
       "      <td>619</td>\n",
       "      <td>France</td>\n",
       "      <td>Female</td>\n",
       "      <td>42</td>\n",
       "      <td>2.0</td>\n",
       "      <td>0.00</td>\n",
       "      <td>1</td>\n",
       "      <td>1</td>\n",
       "      <td>1</td>\n",
       "      <td>101348.88</td>\n",
       "      <td>1</td>\n",
       "    </tr>\n",
       "    <tr>\n",
       "      <th>1</th>\n",
       "      <td>2</td>\n",
       "      <td>15647311</td>\n",
       "      <td>Hill</td>\n",
       "      <td>608</td>\n",
       "      <td>Spain</td>\n",
       "      <td>Female</td>\n",
       "      <td>41</td>\n",
       "      <td>1.0</td>\n",
       "      <td>83807.86</td>\n",
       "      <td>1</td>\n",
       "      <td>0</td>\n",
       "      <td>1</td>\n",
       "      <td>112542.58</td>\n",
       "      <td>0</td>\n",
       "    </tr>\n",
       "    <tr>\n",
       "      <th>2</th>\n",
       "      <td>3</td>\n",
       "      <td>15619304</td>\n",
       "      <td>Onio</td>\n",
       "      <td>502</td>\n",
       "      <td>France</td>\n",
       "      <td>Female</td>\n",
       "      <td>42</td>\n",
       "      <td>8.0</td>\n",
       "      <td>159660.80</td>\n",
       "      <td>3</td>\n",
       "      <td>1</td>\n",
       "      <td>0</td>\n",
       "      <td>113931.57</td>\n",
       "      <td>1</td>\n",
       "    </tr>\n",
       "    <tr>\n",
       "      <th>3</th>\n",
       "      <td>4</td>\n",
       "      <td>15701354</td>\n",
       "      <td>Boni</td>\n",
       "      <td>699</td>\n",
       "      <td>France</td>\n",
       "      <td>Female</td>\n",
       "      <td>39</td>\n",
       "      <td>1.0</td>\n",
       "      <td>0.00</td>\n",
       "      <td>2</td>\n",
       "      <td>0</td>\n",
       "      <td>0</td>\n",
       "      <td>93826.63</td>\n",
       "      <td>0</td>\n",
       "    </tr>\n",
       "    <tr>\n",
       "      <th>4</th>\n",
       "      <td>5</td>\n",
       "      <td>15737888</td>\n",
       "      <td>Mitchell</td>\n",
       "      <td>850</td>\n",
       "      <td>Spain</td>\n",
       "      <td>Female</td>\n",
       "      <td>43</td>\n",
       "      <td>2.0</td>\n",
       "      <td>125510.82</td>\n",
       "      <td>1</td>\n",
       "      <td>1</td>\n",
       "      <td>1</td>\n",
       "      <td>79084.10</td>\n",
       "      <td>0</td>\n",
       "    </tr>\n",
       "  </tbody>\n",
       "</table>\n",
       "</div>"
      ],
      "text/plain": [
       "   RowNumber  CustomerId   Surname  CreditScore Geography  Gender  Age  \\\n",
       "0          1    15634602  Hargrave          619    France  Female   42   \n",
       "1          2    15647311      Hill          608     Spain  Female   41   \n",
       "2          3    15619304      Onio          502    France  Female   42   \n",
       "3          4    15701354      Boni          699    France  Female   39   \n",
       "4          5    15737888  Mitchell          850     Spain  Female   43   \n",
       "\n",
       "   Tenure    Balance  NumOfProducts  HasCrCard  IsActiveMember  \\\n",
       "0     2.0       0.00              1          1               1   \n",
       "1     1.0   83807.86              1          0               1   \n",
       "2     8.0  159660.80              3          1               0   \n",
       "3     1.0       0.00              2          0               0   \n",
       "4     2.0  125510.82              1          1               1   \n",
       "\n",
       "   EstimatedSalary  Exited  \n",
       "0        101348.88       1  \n",
       "1        112542.58       0  \n",
       "2        113931.57       1  \n",
       "3         93826.63       0  \n",
       "4         79084.10       0  "
      ]
     },
     "metadata": {},
     "output_type": "display_data"
    },
    {
     "name": "stdout",
     "output_type": "stream",
     "text": [
      "\n",
      "Посмотрим сводную информация о данных\n",
      "\n",
      "<class 'pandas.core.frame.DataFrame'>\n",
      "RangeIndex: 10000 entries, 0 to 9999\n",
      "Data columns (total 14 columns):\n",
      " #   Column           Non-Null Count  Dtype  \n",
      "---  ------           --------------  -----  \n",
      " 0   RowNumber        10000 non-null  int64  \n",
      " 1   CustomerId       10000 non-null  int64  \n",
      " 2   Surname          10000 non-null  object \n",
      " 3   CreditScore      10000 non-null  int64  \n",
      " 4   Geography        10000 non-null  object \n",
      " 5   Gender           10000 non-null  object \n",
      " 6   Age              10000 non-null  int64  \n",
      " 7   Tenure           9091 non-null   float64\n",
      " 8   Balance          10000 non-null  float64\n",
      " 9   NumOfProducts    10000 non-null  int64  \n",
      " 10  HasCrCard        10000 non-null  int64  \n",
      " 11  IsActiveMember   10000 non-null  int64  \n",
      " 12  EstimatedSalary  10000 non-null  float64\n",
      " 13  Exited           10000 non-null  int64  \n",
      "dtypes: float64(3), int64(8), object(3)\n",
      "memory usage: 1.1+ MB\n",
      "\n",
      "Проверим данные на пропуски и дубликаты\n",
      "\n",
      "Доля пропусков:\n"
     ]
    },
    {
     "data": {
      "text/plain": [
       "RowNumber          0.00\n",
       "CustomerId         0.00\n",
       "Surname            0.00\n",
       "CreditScore        0.00\n",
       "Geography          0.00\n",
       "Gender             0.00\n",
       "Age                0.00\n",
       "Tenure             0.09\n",
       "Balance            0.00\n",
       "NumOfProducts      0.00\n",
       "HasCrCard          0.00\n",
       "IsActiveMember     0.00\n",
       "EstimatedSalary    0.00\n",
       "Exited             0.00\n",
       "dtype: float64"
      ]
     },
     "metadata": {},
     "output_type": "display_data"
    },
    {
     "name": "stdout",
     "output_type": "stream",
     "text": [
      "\n",
      "Количество дубликатов: 0\n",
      "\n",
      "Сводка статистики \n"
     ]
    },
    {
     "data": {
      "text/html": [
       "<div>\n",
       "<style scoped>\n",
       "    .dataframe tbody tr th:only-of-type {\n",
       "        vertical-align: middle;\n",
       "    }\n",
       "\n",
       "    .dataframe tbody tr th {\n",
       "        vertical-align: top;\n",
       "    }\n",
       "\n",
       "    .dataframe thead th {\n",
       "        text-align: right;\n",
       "    }\n",
       "</style>\n",
       "<table border=\"1\" class=\"dataframe\">\n",
       "  <thead>\n",
       "    <tr style=\"text-align: right;\">\n",
       "      <th></th>\n",
       "      <th>RowNumber</th>\n",
       "      <th>CustomerId</th>\n",
       "      <th>CreditScore</th>\n",
       "      <th>Age</th>\n",
       "      <th>Tenure</th>\n",
       "      <th>Balance</th>\n",
       "      <th>NumOfProducts</th>\n",
       "      <th>HasCrCard</th>\n",
       "      <th>IsActiveMember</th>\n",
       "      <th>EstimatedSalary</th>\n",
       "      <th>Exited</th>\n",
       "    </tr>\n",
       "  </thead>\n",
       "  <tbody>\n",
       "    <tr>\n",
       "      <th>count</th>\n",
       "      <td>10000.00000</td>\n",
       "      <td>1.000000e+04</td>\n",
       "      <td>10000.000000</td>\n",
       "      <td>10000.000000</td>\n",
       "      <td>9091.000000</td>\n",
       "      <td>10000.000000</td>\n",
       "      <td>10000.000000</td>\n",
       "      <td>10000.00000</td>\n",
       "      <td>10000.000000</td>\n",
       "      <td>10000.000000</td>\n",
       "      <td>10000.000000</td>\n",
       "    </tr>\n",
       "    <tr>\n",
       "      <th>mean</th>\n",
       "      <td>5000.50000</td>\n",
       "      <td>1.569094e+07</td>\n",
       "      <td>650.528800</td>\n",
       "      <td>38.921800</td>\n",
       "      <td>4.997690</td>\n",
       "      <td>76485.889288</td>\n",
       "      <td>1.530200</td>\n",
       "      <td>0.70550</td>\n",
       "      <td>0.515100</td>\n",
       "      <td>100090.239881</td>\n",
       "      <td>0.203700</td>\n",
       "    </tr>\n",
       "    <tr>\n",
       "      <th>std</th>\n",
       "      <td>2886.89568</td>\n",
       "      <td>7.193619e+04</td>\n",
       "      <td>96.653299</td>\n",
       "      <td>10.487806</td>\n",
       "      <td>2.894723</td>\n",
       "      <td>62397.405202</td>\n",
       "      <td>0.581654</td>\n",
       "      <td>0.45584</td>\n",
       "      <td>0.499797</td>\n",
       "      <td>57510.492818</td>\n",
       "      <td>0.402769</td>\n",
       "    </tr>\n",
       "    <tr>\n",
       "      <th>min</th>\n",
       "      <td>1.00000</td>\n",
       "      <td>1.556570e+07</td>\n",
       "      <td>350.000000</td>\n",
       "      <td>18.000000</td>\n",
       "      <td>0.000000</td>\n",
       "      <td>0.000000</td>\n",
       "      <td>1.000000</td>\n",
       "      <td>0.00000</td>\n",
       "      <td>0.000000</td>\n",
       "      <td>11.580000</td>\n",
       "      <td>0.000000</td>\n",
       "    </tr>\n",
       "    <tr>\n",
       "      <th>25%</th>\n",
       "      <td>2500.75000</td>\n",
       "      <td>1.562853e+07</td>\n",
       "      <td>584.000000</td>\n",
       "      <td>32.000000</td>\n",
       "      <td>2.000000</td>\n",
       "      <td>0.000000</td>\n",
       "      <td>1.000000</td>\n",
       "      <td>0.00000</td>\n",
       "      <td>0.000000</td>\n",
       "      <td>51002.110000</td>\n",
       "      <td>0.000000</td>\n",
       "    </tr>\n",
       "    <tr>\n",
       "      <th>50%</th>\n",
       "      <td>5000.50000</td>\n",
       "      <td>1.569074e+07</td>\n",
       "      <td>652.000000</td>\n",
       "      <td>37.000000</td>\n",
       "      <td>5.000000</td>\n",
       "      <td>97198.540000</td>\n",
       "      <td>1.000000</td>\n",
       "      <td>1.00000</td>\n",
       "      <td>1.000000</td>\n",
       "      <td>100193.915000</td>\n",
       "      <td>0.000000</td>\n",
       "    </tr>\n",
       "    <tr>\n",
       "      <th>75%</th>\n",
       "      <td>7500.25000</td>\n",
       "      <td>1.575323e+07</td>\n",
       "      <td>718.000000</td>\n",
       "      <td>44.000000</td>\n",
       "      <td>7.000000</td>\n",
       "      <td>127644.240000</td>\n",
       "      <td>2.000000</td>\n",
       "      <td>1.00000</td>\n",
       "      <td>1.000000</td>\n",
       "      <td>149388.247500</td>\n",
       "      <td>0.000000</td>\n",
       "    </tr>\n",
       "    <tr>\n",
       "      <th>max</th>\n",
       "      <td>10000.00000</td>\n",
       "      <td>1.581569e+07</td>\n",
       "      <td>850.000000</td>\n",
       "      <td>92.000000</td>\n",
       "      <td>10.000000</td>\n",
       "      <td>250898.090000</td>\n",
       "      <td>4.000000</td>\n",
       "      <td>1.00000</td>\n",
       "      <td>1.000000</td>\n",
       "      <td>199992.480000</td>\n",
       "      <td>1.000000</td>\n",
       "    </tr>\n",
       "  </tbody>\n",
       "</table>\n",
       "</div>"
      ],
      "text/plain": [
       "         RowNumber    CustomerId   CreditScore           Age       Tenure  \\\n",
       "count  10000.00000  1.000000e+04  10000.000000  10000.000000  9091.000000   \n",
       "mean    5000.50000  1.569094e+07    650.528800     38.921800     4.997690   \n",
       "std     2886.89568  7.193619e+04     96.653299     10.487806     2.894723   \n",
       "min        1.00000  1.556570e+07    350.000000     18.000000     0.000000   \n",
       "25%     2500.75000  1.562853e+07    584.000000     32.000000     2.000000   \n",
       "50%     5000.50000  1.569074e+07    652.000000     37.000000     5.000000   \n",
       "75%     7500.25000  1.575323e+07    718.000000     44.000000     7.000000   \n",
       "max    10000.00000  1.581569e+07    850.000000     92.000000    10.000000   \n",
       "\n",
       "             Balance  NumOfProducts    HasCrCard  IsActiveMember  \\\n",
       "count   10000.000000   10000.000000  10000.00000    10000.000000   \n",
       "mean    76485.889288       1.530200      0.70550        0.515100   \n",
       "std     62397.405202       0.581654      0.45584        0.499797   \n",
       "min         0.000000       1.000000      0.00000        0.000000   \n",
       "25%         0.000000       1.000000      0.00000        0.000000   \n",
       "50%     97198.540000       1.000000      1.00000        1.000000   \n",
       "75%    127644.240000       2.000000      1.00000        1.000000   \n",
       "max    250898.090000       4.000000      1.00000        1.000000   \n",
       "\n",
       "       EstimatedSalary        Exited  \n",
       "count     10000.000000  10000.000000  \n",
       "mean     100090.239881      0.203700  \n",
       "std       57510.492818      0.402769  \n",
       "min          11.580000      0.000000  \n",
       "25%       51002.110000      0.000000  \n",
       "50%      100193.915000      0.000000  \n",
       "75%      149388.247500      0.000000  \n",
       "max      199992.480000      1.000000  "
      ]
     },
     "metadata": {},
     "output_type": "display_data"
    }
   ],
   "source": [
    "pd.options.display.max_columns = None\n",
    "df_info(df)"
   ]
  },
  {
   "cell_type": "markdown",
   "id": "6b6af4b3",
   "metadata": {},
   "source": [
    "Посмотрим все ли клиенты уникальны, нет ли дублей:"
   ]
  },
  {
   "cell_type": "code",
   "execution_count": 5,
   "id": "e9c8a122",
   "metadata": {},
   "outputs": [
    {
     "data": {
      "text/plain": [
       "0"
      ]
     },
     "execution_count": 5,
     "metadata": {},
     "output_type": "execute_result"
    }
   ],
   "source": [
    "df['CustomerId'].duplicated().sum()"
   ]
  },
  {
   "cell_type": "markdown",
   "id": "9552484d",
   "metadata": {},
   "source": [
    "Посмотрим сколько уникальных фамилий среди клиентов:"
   ]
  },
  {
   "cell_type": "code",
   "execution_count": 6,
   "id": "405fc476",
   "metadata": {},
   "outputs": [
    {
     "data": {
      "text/plain": [
       "2932"
      ]
     },
     "execution_count": 6,
     "metadata": {},
     "output_type": "execute_result"
    }
   ],
   "source": [
    "len(df['Surname'].unique())"
   ]
  },
  {
   "cell_type": "markdown",
   "id": "b5adef60",
   "metadata": {},
   "source": [
    "Посмотрим географию проживания клиентов:"
   ]
  },
  {
   "cell_type": "code",
   "execution_count": 7,
   "id": "1ed6f5bb",
   "metadata": {},
   "outputs": [
    {
     "data": {
      "text/plain": [
       "array(['France', 'Spain', 'Germany'], dtype=object)"
      ]
     },
     "execution_count": 7,
     "metadata": {},
     "output_type": "execute_result"
    }
   ],
   "source": [
    "df['Geography'].unique()"
   ]
  },
  {
   "cell_type": "markdown",
   "id": "f973e14d",
   "metadata": {},
   "source": [
    "Посмотрим уникальные значения столбца с пропусками `Tenure`:"
   ]
  },
  {
   "cell_type": "code",
   "execution_count": 8,
   "id": "f7e27e78",
   "metadata": {},
   "outputs": [
    {
     "data": {
      "text/plain": [
       "array([ 2.,  1.,  8.,  7.,  4.,  6.,  3., 10.,  5.,  9.,  0., nan])"
      ]
     },
     "execution_count": 8,
     "metadata": {},
     "output_type": "execute_result"
    }
   ],
   "source": [
    "df['Tenure'].unique()"
   ]
  },
  {
   "cell_type": "markdown",
   "id": "9b3f28f8",
   "metadata": {},
   "source": [
    "Итак, в таблице с данными 14 столбцов и 10000 строк. Данные представлены в 3 категориальных и 11 количественных признаках. \n",
    "Каждый объект в наборе данных - это информация о поведении 10000 пользователей банка: возраст, страна проживания, уникальный идентификатор клиента, фамилия, сколько лет клиент является клиентом банка, какой у него баланс на счете, какое количество продуктов он использует, предполагаемая заработная плата, а также активен клиент или нет, есть и нет у него кредитная карта.\n",
    "\n",
    "Согласно документации к данным:\n",
    "\n",
    "  - `RowNumber` — индекс строки в данных\n",
    "- `CustomerId` — уникальный идентификатор клиента\n",
    "- `Surname` — фамилия\n",
    "- `CreditScore` — кредитный рейтинг\n",
    "- `Geography` — страна проживания\n",
    "- `Gender` — пол\n",
    "- `Age` — возраст\n",
    "- `Tenure` — сколько лет человек является клиентом банка\n",
    "- `Balance` — баланс на счёте\n",
    "- `NumOfProducts` — количество продуктов банка, используемых клиентом\n",
    "- `HasCrCard` — наличие кредитной карты\n",
    "- `IsActiveMember` — активность клиента\n",
    "- `EstimatedSalary` — предполагаемая зарплата\n",
    "\n",
    "Целевой признак\n",
    "\n",
    "- `Exited` — факт ухода клиента\n",
    "\n",
    "**Вывод**\n",
    "\n",
    "1. В данных столбца `Tenure` мы видим 9% пропусков значений. У нас нет возможности в рамках проекта уточнить причины пропусков. Также мы не можем с уверенностью утверждать, что пропуски можно считать отсутствием стажа клиента банка и заменить их нулем, так как это исказит уже имеющиеся нулевые данные. Поскольку прямой зависимости от других данных не прослеживается и корректная замена не предполагается, то удалим их.\n",
    "\n",
    "2. Чтобы разгрузить исходный датафрейм и облегчить его визуальное восприятие и скорость обработки заменим тип данных на целочисленный в столбцах `Balance` и `EstimatedSalary`.\n",
    "\n",
    "3. Также в данных имеются избыточные признаки в виде столбцов:\n",
    "   - `RowNumber` - по-сути - это дубль индекса,\n",
    "   - `CustomerId` - 10 тыс уникальных номеров клиента,\n",
    "   - `Surname` - 2932 уникальные фамилии клиентов - не несут ценности для качественной модели.\n",
    "   \n",
    "Поскольку удаление избыточных признаков позволяет лучше понять данные, а также сократить время настройки модели, улучшить её точность и облегчить интерпретируемость, удалим данные столбцы.\n",
    "\n",
    "4. Приведем стили заголовков к \"змеиному стилю\". \n",
    "\n",
    "5. Для лучшего понимания данных и дальнейшей работы с ними проведем разведочный анализ.\n",
    "\n",
    "6. Категориальные признаки преобразуем в количественные техникой прямого кодирования или отображения (OHE).\n",
    "7. Значения и разброс в данных каждого признака - разный, чтобы избежать ловушки разных масштабов у количественных признаков - стандартизируем данные."
   ]
  },
  {
   "cell_type": "markdown",
   "id": "1f59016b",
   "metadata": {},
   "source": [
    "## Подготовка данных"
   ]
  },
  {
   "cell_type": "markdown",
   "id": "efd3965d",
   "metadata": {},
   "source": [
    "Удалим столбцы с избыточными признаками:"
   ]
  },
  {
   "cell_type": "code",
   "execution_count": 9,
   "id": "aec79dc7",
   "metadata": {},
   "outputs": [],
   "source": [
    "df = df.drop(columns=['RowNumber', 'CustomerId', 'Surname'])"
   ]
  },
  {
   "cell_type": "markdown",
   "id": "16ec15cc",
   "metadata": {},
   "source": [
    "Удалим пропуски в столбце `Tenure` и перезапишем индексацию строк:"
   ]
  },
  {
   "cell_type": "code",
   "execution_count": 10,
   "id": "504846dc",
   "metadata": {},
   "outputs": [],
   "source": [
    "df.dropna(subset=['Tenure'], inplace=True)"
   ]
  },
  {
   "cell_type": "markdown",
   "id": "dda9e46e",
   "metadata": {},
   "source": [
    "Проверим все ли пропуски удалились."
   ]
  },
  {
   "cell_type": "code",
   "execution_count": 11,
   "id": "5d2fb6ea",
   "metadata": {},
   "outputs": [
    {
     "data": {
      "text/plain": [
       "0"
      ]
     },
     "execution_count": 11,
     "metadata": {},
     "output_type": "execute_result"
    }
   ],
   "source": [
    "df['Tenure'].isna().sum()"
   ]
  },
  {
   "cell_type": "markdown",
   "id": "4203c43d",
   "metadata": {},
   "source": [
    "Заменим тип данных:"
   ]
  },
  {
   "cell_type": "code",
   "execution_count": 12,
   "id": "3b768e2d",
   "metadata": {},
   "outputs": [],
   "source": [
    "df[['Balance', 'EstimatedSalary']] = df[['Balance', 'EstimatedSalary']].astype('int64')"
   ]
  },
  {
   "cell_type": "markdown",
   "id": "5a6f5262",
   "metadata": {},
   "source": [
    "Приведем стиль заголовков к \"змеиному стилю\":"
   ]
  },
  {
   "cell_type": "code",
   "execution_count": 13,
   "id": "0e2da3de",
   "metadata": {},
   "outputs": [],
   "source": [
    "df = df.rename(columns={'CreditScore' : 'credit_score',\n",
    "                        'Geography' : 'country',\n",
    "                        'Gender' : 'gender',\n",
    "                        'Age' : 'age',\n",
    "                        'Tenure' : 'tenure',\n",
    "                        'Balance' : 'balance',\n",
    "                        'NumOfProducts' : 'products_amount',\n",
    "                        'HasCrCard' : 'is_credit_card',\n",
    "                        'IsActiveMember' : 'is_active_member',\n",
    "                        'EstimatedSalary' : 'estimated_salary',\n",
    "                        'Exited' : 'exited'})"
   ]
  },
  {
   "cell_type": "markdown",
   "id": "f67b14cc",
   "metadata": {},
   "source": [
    "Посмотрим на обновленный датасет:"
   ]
  },
  {
   "cell_type": "code",
   "execution_count": 14,
   "id": "d8e2a741",
   "metadata": {},
   "outputs": [
    {
     "data": {
      "text/html": [
       "<div>\n",
       "<style scoped>\n",
       "    .dataframe tbody tr th:only-of-type {\n",
       "        vertical-align: middle;\n",
       "    }\n",
       "\n",
       "    .dataframe tbody tr th {\n",
       "        vertical-align: top;\n",
       "    }\n",
       "\n",
       "    .dataframe thead th {\n",
       "        text-align: right;\n",
       "    }\n",
       "</style>\n",
       "<table border=\"1\" class=\"dataframe\">\n",
       "  <thead>\n",
       "    <tr style=\"text-align: right;\">\n",
       "      <th></th>\n",
       "      <th>credit_score</th>\n",
       "      <th>country</th>\n",
       "      <th>gender</th>\n",
       "      <th>age</th>\n",
       "      <th>tenure</th>\n",
       "      <th>balance</th>\n",
       "      <th>products_amount</th>\n",
       "      <th>is_credit_card</th>\n",
       "      <th>is_active_member</th>\n",
       "      <th>estimated_salary</th>\n",
       "      <th>exited</th>\n",
       "    </tr>\n",
       "  </thead>\n",
       "  <tbody>\n",
       "    <tr>\n",
       "      <th>0</th>\n",
       "      <td>619</td>\n",
       "      <td>France</td>\n",
       "      <td>Female</td>\n",
       "      <td>42</td>\n",
       "      <td>2.0</td>\n",
       "      <td>0</td>\n",
       "      <td>1</td>\n",
       "      <td>1</td>\n",
       "      <td>1</td>\n",
       "      <td>101348</td>\n",
       "      <td>1</td>\n",
       "    </tr>\n",
       "    <tr>\n",
       "      <th>1</th>\n",
       "      <td>608</td>\n",
       "      <td>Spain</td>\n",
       "      <td>Female</td>\n",
       "      <td>41</td>\n",
       "      <td>1.0</td>\n",
       "      <td>83807</td>\n",
       "      <td>1</td>\n",
       "      <td>0</td>\n",
       "      <td>1</td>\n",
       "      <td>112542</td>\n",
       "      <td>0</td>\n",
       "    </tr>\n",
       "    <tr>\n",
       "      <th>2</th>\n",
       "      <td>502</td>\n",
       "      <td>France</td>\n",
       "      <td>Female</td>\n",
       "      <td>42</td>\n",
       "      <td>8.0</td>\n",
       "      <td>159660</td>\n",
       "      <td>3</td>\n",
       "      <td>1</td>\n",
       "      <td>0</td>\n",
       "      <td>113931</td>\n",
       "      <td>1</td>\n",
       "    </tr>\n",
       "    <tr>\n",
       "      <th>3</th>\n",
       "      <td>699</td>\n",
       "      <td>France</td>\n",
       "      <td>Female</td>\n",
       "      <td>39</td>\n",
       "      <td>1.0</td>\n",
       "      <td>0</td>\n",
       "      <td>2</td>\n",
       "      <td>0</td>\n",
       "      <td>0</td>\n",
       "      <td>93826</td>\n",
       "      <td>0</td>\n",
       "    </tr>\n",
       "    <tr>\n",
       "      <th>4</th>\n",
       "      <td>850</td>\n",
       "      <td>Spain</td>\n",
       "      <td>Female</td>\n",
       "      <td>43</td>\n",
       "      <td>2.0</td>\n",
       "      <td>125510</td>\n",
       "      <td>1</td>\n",
       "      <td>1</td>\n",
       "      <td>1</td>\n",
       "      <td>79084</td>\n",
       "      <td>0</td>\n",
       "    </tr>\n",
       "  </tbody>\n",
       "</table>\n",
       "</div>"
      ],
      "text/plain": [
       "   credit_score country  gender  age  tenure  balance  products_amount  \\\n",
       "0           619  France  Female   42     2.0        0                1   \n",
       "1           608   Spain  Female   41     1.0    83807                1   \n",
       "2           502  France  Female   42     8.0   159660                3   \n",
       "3           699  France  Female   39     1.0        0                2   \n",
       "4           850   Spain  Female   43     2.0   125510                1   \n",
       "\n",
       "   is_credit_card  is_active_member  estimated_salary  exited  \n",
       "0               1                 1            101348       1  \n",
       "1               0                 1            112542       0  \n",
       "2               1                 0            113931       1  \n",
       "3               0                 0             93826       0  \n",
       "4               1                 1             79084       0  "
      ]
     },
     "execution_count": 14,
     "metadata": {},
     "output_type": "execute_result"
    }
   ],
   "source": [
    "df.head()"
   ]
  },
  {
   "cell_type": "markdown",
   "id": "22604daa",
   "metadata": {},
   "source": [
    "Безусловно данные стало проще и приятнее анализировать. Порядок - важная часть гармонии ))"
   ]
  },
  {
   "cell_type": "markdown",
   "id": "d7cdadee",
   "metadata": {},
   "source": [
    "### Разведочный анализ данных"
   ]
  },
  {
   "cell_type": "markdown",
   "id": "2a6d1bbf",
   "metadata": {},
   "source": [
    "Проведем разведочный анализ данных и глубже познакомимся с признаками:"
   ]
  },
  {
   "cell_type": "markdown",
   "id": "133474e7",
   "metadata": {},
   "source": [
    "Для начала посмотрим распределение данных на гистограммах. Для этого напишем функцию."
   ]
  },
  {
   "cell_type": "code",
   "execution_count": 15,
   "id": "0d302e53",
   "metadata": {},
   "outputs": [],
   "source": [
    "def build_plot(column, title, xlabel):\n",
    "    '''\n",
    "    Функция принимает значения столбца и строит график,\n",
    "    а также присваивает название заголока и оси x\n",
    "    '''\n",
    "    sns.set_style(\"darkgrid\")\n",
    "    sns.displot(df[column], bins=10, color='teal')\n",
    "    plt.title(title, fontsize=15)\n",
    "    plt.xlabel(xlabel, fontsize=12)\n",
    "    plt.ylabel('Частота', fontsize=12)\n",
    "    plt.show()"
   ]
  },
  {
   "cell_type": "markdown",
   "id": "1e2a132e",
   "metadata": {},
   "source": [
    "Также напишем функцию расчета доли данных при определенных условиях и по определенному столбцу."
   ]
  },
  {
   "cell_type": "code",
   "execution_count": 16,
   "id": "104f5ca5",
   "metadata": {},
   "outputs": [],
   "source": [
    "def share(condition, column):\n",
    "    return (df.query(condition)[column].count() / len(df)).round(2)"
   ]
  },
  {
   "cell_type": "markdown",
   "id": "30276810",
   "metadata": {},
   "source": [
    "Распределение данных:"
   ]
  },
  {
   "cell_type": "code",
   "execution_count": 17,
   "id": "c891102d",
   "metadata": {},
   "outputs": [
    {
     "data": {
      "image/png": "[encoded data removed]",
      "text/plain": [
       "<Figure size 360x360 with 1 Axes>"
      ]
     },
     "metadata": {},
     "output_type": "display_data"
    }
   ],
   "source": [
    "build_plot('credit_score', 'Гистограмма кредитного рейтинга', 'Кредитный рейтинг')"
   ]
  },
  {
   "cell_type": "markdown",
   "id": "5ee332dd",
   "metadata": {},
   "source": [
    "Данные о кредитном рейтинге распределены нормально."
   ]
  },
  {
   "cell_type": "code",
   "execution_count": 18,
   "id": "d0d77f17",
   "metadata": {},
   "outputs": [
    {
     "data": {
      "image/png": "[encoded data removed]",
      "text/plain": [
       "<Figure size 360x360 with 1 Axes>"
      ]
     },
     "metadata": {},
     "output_type": "display_data"
    }
   ],
   "source": [
    "build_plot('country', 'Распределение по странам', 'Страна')"
   ]
  },
  {
   "cell_type": "markdown",
   "id": "ea141d7d",
   "metadata": {},
   "source": [
    "Большая часть данных о клиентах из Франции. Данные по Испании и Германии примерно одинаковые."
   ]
  },
  {
   "cell_type": "code",
   "execution_count": 19,
   "id": "16e9315b",
   "metadata": {},
   "outputs": [
    {
     "data": {
      "image/png": "[encoded data removed]",
      "text/plain": [
       "<Figure size 360x360 with 1 Axes>"
      ]
     },
     "metadata": {},
     "output_type": "display_data"
    }
   ],
   "source": [
    "build_plot('gender', 'Распределение по полу', 'Пол')"
   ]
  },
  {
   "cell_type": "code",
   "execution_count": 20,
   "id": "217face5",
   "metadata": {},
   "outputs": [
    {
     "data": {
      "text/plain": [
       "0.55"
      ]
     },
     "execution_count": 20,
     "metadata": {},
     "output_type": "execute_result"
    }
   ],
   "source": [
    "share('gender == \"Male\"', 'gender')"
   ]
  },
  {
   "cell_type": "markdown",
   "id": "b5ab41eb",
   "metadata": {},
   "source": [
    "Данные по половому признаку распределны равномерно: 55% данных приходится на мужчин, 45% - на женщин."
   ]
  },
  {
   "cell_type": "code",
   "execution_count": 21,
   "id": "e84a48a2",
   "metadata": {},
   "outputs": [
    {
     "data": {
      "image/png": "[encoded data removed]",
      "text/plain": [
       "<Figure size 360x360 with 1 Axes>"
      ]
     },
     "metadata": {},
     "output_type": "display_data"
    }
   ],
   "source": [
    "build_plot('age', 'Гистограмма возраста клиента', 'Возраст, лет')"
   ]
  },
  {
   "cell_type": "markdown",
   "id": "95aec966",
   "metadata": {},
   "source": [
    "Большая часть клиентов банка в возрасте от 25 до 45 лет. "
   ]
  },
  {
   "cell_type": "code",
   "execution_count": 22,
   "id": "ee8cf936",
   "metadata": {},
   "outputs": [
    {
     "data": {
      "image/png": "[encoded data removed]",
      "text/plain": [
       "<Figure size 360x360 with 1 Axes>"
      ]
     },
     "metadata": {},
     "output_type": "display_data"
    }
   ],
   "source": [
    "build_plot('tenure', 'Сколько лет клиент с банком', 'Количество лет')"
   ]
  },
  {
   "cell_type": "code",
   "execution_count": 23,
   "id": "0644e9f5",
   "metadata": {},
   "outputs": [
    {
     "data": {
      "text/plain": [
       "0.04"
      ]
     },
     "execution_count": 23,
     "metadata": {},
     "output_type": "execute_result"
    }
   ],
   "source": [
    "share('tenure < 1', 'tenure')"
   ]
  },
  {
   "cell_type": "markdown",
   "id": "6b339b9d",
   "metadata": {},
   "source": [
    "Клиенты демонстрируют достаточно высокую стабильность и ориентированность на продукты банка и если не уходили в первый год, то оставались с банком весьма продолжительный срок. Клиентов, которые ушли в течение первого года по данных менее 4%. В данной ситуации предельно понятно желание заказчика понять причину и спрогнозировать отток для принятия превентивных мер удерживания клиентов."
   ]
  },
  {
   "cell_type": "code",
   "execution_count": 24,
   "id": "609b9b2e",
   "metadata": {},
   "outputs": [
    {
     "data": {
      "image/png": "[encoded data removed]",
      "text/plain": [
       "<Figure size 360x360 with 1 Axes>"
      ]
     },
     "metadata": {},
     "output_type": "display_data"
    }
   ],
   "source": [
    "build_plot('balance', 'Баланс средств на счете', 'Средства на счете')"
   ]
  },
  {
   "cell_type": "code",
   "execution_count": 25,
   "id": "d7d4db93",
   "metadata": {},
   "outputs": [
    {
     "data": {
      "text/plain": [
       "0.36"
      ]
     },
     "execution_count": 25,
     "metadata": {},
     "output_type": "execute_result"
    }
   ],
   "source": [
    "share('balance == 0', 'balance')"
   ]
  },
  {
   "cell_type": "markdown",
   "id": "39c68536",
   "metadata": {},
   "source": [
    "Интересно, но факт в том, что 36% клиентов банка не имеют средств на счете."
   ]
  },
  {
   "cell_type": "code",
   "execution_count": 26,
   "id": "6b51b260",
   "metadata": {},
   "outputs": [
    {
     "data": {
      "image/png": "[encoded data removed]",
      "text/plain": [
       "<Figure size 360x360 with 1 Axes>"
      ]
     },
     "metadata": {},
     "output_type": "display_data"
    }
   ],
   "source": [
    "build_plot('products_amount', 'Распределение количества продуктов банка', 'Продукты банка, шт.')"
   ]
  },
  {
   "cell_type": "code",
   "execution_count": 27,
   "id": "c6f7bc03",
   "metadata": {},
   "outputs": [
    {
     "data": {
      "text/plain": [
       "0.03"
      ]
     },
     "execution_count": 27,
     "metadata": {},
     "output_type": "execute_result"
    }
   ],
   "source": [
    "share('products_amount > 2', 'products_amount')"
   ]
  },
  {
   "cell_type": "markdown",
   "id": "c0af2c5b",
   "metadata": {},
   "source": [
    "Клиентов, которые пользуются более чем двумя продуктов в банке всего 3%. Основная масса клиентов - 97% пользуется 1 или 2 продуктами банка."
   ]
  },
  {
   "cell_type": "code",
   "execution_count": 28,
   "id": "cd457c75",
   "metadata": {},
   "outputs": [
    {
     "data": {
      "image/png": "[encoded data removed]",
      "text/plain": [
       "<Figure size 360x360 with 1 Axes>"
      ]
     },
     "metadata": {},
     "output_type": "display_data"
    }
   ],
   "source": [
    "build_plot('is_credit_card', 'Гистограмма наличия кредитной карты у клиента', 'Есть ли карта?')"
   ]
  },
  {
   "cell_type": "code",
   "execution_count": 29,
   "id": "d6306faf",
   "metadata": {},
   "outputs": [
    {
     "data": {
      "text/plain": [
       "0.7"
      ]
     },
     "execution_count": 29,
     "metadata": {},
     "output_type": "execute_result"
    }
   ],
   "source": [
    "share('is_credit_card == 1', 'is_credit_card')"
   ]
  },
  {
   "cell_type": "markdown",
   "id": "24678635",
   "metadata": {},
   "source": [
    "У большей части - 70% клиентов есть кредитная карта."
   ]
  },
  {
   "cell_type": "code",
   "execution_count": 30,
   "id": "0a92cccf",
   "metadata": {},
   "outputs": [
    {
     "data": {
      "image/png": "[encoded data removed]",
      "text/plain": [
       "<Figure size 360x360 with 1 Axes>"
      ]
     },
     "metadata": {},
     "output_type": "display_data"
    }
   ],
   "source": [
    "build_plot('is_active_member', 'Гистограмма активности клиентов', 'Активен ли клиент?')"
   ]
  },
  {
   "cell_type": "code",
   "execution_count": 31,
   "id": "1e249a9c",
   "metadata": {},
   "outputs": [
    {
     "data": {
      "text/plain": [
       "0.52"
      ]
     },
     "execution_count": 31,
     "metadata": {},
     "output_type": "execute_result"
    }
   ],
   "source": [
    "share('is_active_member == 1', 'is_active_member')"
   ]
  },
  {
   "cell_type": "markdown",
   "id": "e73609d7",
   "metadata": {},
   "source": [
    "Активность клиентов распределена практически пропорционально: активных клиентов- 52%, пассивных - 48%."
   ]
  },
  {
   "cell_type": "code",
   "execution_count": 32,
   "id": "e1c207a7",
   "metadata": {},
   "outputs": [
    {
     "data": {
      "image/png": "[encoded data removed]",
      "text/plain": [
       "<Figure size 360x360 with 1 Axes>"
      ]
     },
     "metadata": {},
     "output_type": "display_data"
    }
   ],
   "source": [
    "build_plot('estimated_salary', 'Гистограмма предполагаемой зарплаты', 'Предполагаемая зарплата, руб.')"
   ]
  },
  {
   "cell_type": "markdown",
   "id": "d68e4e63",
   "metadata": {},
   "source": [
    "Удивительно пропорционально и распределение данных о предполагаемой заработной плате клиентов банка."
   ]
  },
  {
   "cell_type": "markdown",
   "id": "cffd0129",
   "metadata": {},
   "source": [
    "Посмотрим на взаимосвязи между признаками:"
   ]
  },
  {
   "cell_type": "code",
   "execution_count": 33,
   "id": "07496267",
   "metadata": {},
   "outputs": [
    {
     "data": {
      "image/png": "[encoded data removed]",
      "text/plain": [
       "<Figure size 1152x432 with 2 Axes>"
      ]
     },
     "metadata": {},
     "output_type": "display_data"
    }
   ],
   "source": [
    "plt.figure(figsize=(16, 6)) \n",
    "heatmap = sns.heatmap(df.corr().round(2), vmin=-1, vmax=1, annot=True, cmap='BrBG') \n",
    "heatmap.set_title('Корреляционная тепловая карта', fontsize=18)\n",
    "plt.show()"
   ]
  },
  {
   "cell_type": "markdown",
   "id": "387b231d",
   "metadata": {},
   "source": [
    "**Вывод**\n",
    "\n",
    "В процессе анализы мы детально ознакомились с данными и выявили отсутствие сильно коррелирующих между собой признаков, а значит нет и мультиколлинеарности, усложняющей интерпретацию модели и как правило ухудшающей качество прогнозов. "
   ]
  },
  {
   "cell_type": "markdown",
   "id": "3f781901",
   "metadata": {},
   "source": [
    "### OHE категориальных данных"
   ]
  },
  {
   "cell_type": "markdown",
   "id": "c337b9ab",
   "metadata": {},
   "source": [
    "Преобразуем категориальные признаки в численные техникой прямого кодирования. Чтобы не попасть в дамми-ловушку, сбросим первый столбец."
   ]
  },
  {
   "cell_type": "code",
   "execution_count": 34,
   "id": "63e25440",
   "metadata": {},
   "outputs": [
    {
     "data": {
      "text/html": [
       "<div>\n",
       "<style scoped>\n",
       "    .dataframe tbody tr th:only-of-type {\n",
       "        vertical-align: middle;\n",
       "    }\n",
       "\n",
       "    .dataframe tbody tr th {\n",
       "        vertical-align: top;\n",
       "    }\n",
       "\n",
       "    .dataframe thead th {\n",
       "        text-align: right;\n",
       "    }\n",
       "</style>\n",
       "<table border=\"1\" class=\"dataframe\">\n",
       "  <thead>\n",
       "    <tr style=\"text-align: right;\">\n",
       "      <th></th>\n",
       "      <th>credit_score</th>\n",
       "      <th>age</th>\n",
       "      <th>tenure</th>\n",
       "      <th>balance</th>\n",
       "      <th>products_amount</th>\n",
       "      <th>is_credit_card</th>\n",
       "      <th>is_active_member</th>\n",
       "      <th>estimated_salary</th>\n",
       "      <th>exited</th>\n",
       "      <th>country_Germany</th>\n",
       "      <th>country_Spain</th>\n",
       "      <th>gender_Male</th>\n",
       "    </tr>\n",
       "  </thead>\n",
       "  <tbody>\n",
       "    <tr>\n",
       "      <th>0</th>\n",
       "      <td>619</td>\n",
       "      <td>42</td>\n",
       "      <td>2.0</td>\n",
       "      <td>0</td>\n",
       "      <td>1</td>\n",
       "      <td>1</td>\n",
       "      <td>1</td>\n",
       "      <td>101348</td>\n",
       "      <td>1</td>\n",
       "      <td>0</td>\n",
       "      <td>0</td>\n",
       "      <td>0</td>\n",
       "    </tr>\n",
       "    <tr>\n",
       "      <th>1</th>\n",
       "      <td>608</td>\n",
       "      <td>41</td>\n",
       "      <td>1.0</td>\n",
       "      <td>83807</td>\n",
       "      <td>1</td>\n",
       "      <td>0</td>\n",
       "      <td>1</td>\n",
       "      <td>112542</td>\n",
       "      <td>0</td>\n",
       "      <td>0</td>\n",
       "      <td>1</td>\n",
       "      <td>0</td>\n",
       "    </tr>\n",
       "    <tr>\n",
       "      <th>2</th>\n",
       "      <td>502</td>\n",
       "      <td>42</td>\n",
       "      <td>8.0</td>\n",
       "      <td>159660</td>\n",
       "      <td>3</td>\n",
       "      <td>1</td>\n",
       "      <td>0</td>\n",
       "      <td>113931</td>\n",
       "      <td>1</td>\n",
       "      <td>0</td>\n",
       "      <td>0</td>\n",
       "      <td>0</td>\n",
       "    </tr>\n",
       "    <tr>\n",
       "      <th>3</th>\n",
       "      <td>699</td>\n",
       "      <td>39</td>\n",
       "      <td>1.0</td>\n",
       "      <td>0</td>\n",
       "      <td>2</td>\n",
       "      <td>0</td>\n",
       "      <td>0</td>\n",
       "      <td>93826</td>\n",
       "      <td>0</td>\n",
       "      <td>0</td>\n",
       "      <td>0</td>\n",
       "      <td>0</td>\n",
       "    </tr>\n",
       "    <tr>\n",
       "      <th>4</th>\n",
       "      <td>850</td>\n",
       "      <td>43</td>\n",
       "      <td>2.0</td>\n",
       "      <td>125510</td>\n",
       "      <td>1</td>\n",
       "      <td>1</td>\n",
       "      <td>1</td>\n",
       "      <td>79084</td>\n",
       "      <td>0</td>\n",
       "      <td>0</td>\n",
       "      <td>1</td>\n",
       "      <td>0</td>\n",
       "    </tr>\n",
       "  </tbody>\n",
       "</table>\n",
       "</div>"
      ],
      "text/plain": [
       "   credit_score  age  tenure  balance  products_amount  is_credit_card  \\\n",
       "0           619   42     2.0        0                1               1   \n",
       "1           608   41     1.0    83807                1               0   \n",
       "2           502   42     8.0   159660                3               1   \n",
       "3           699   39     1.0        0                2               0   \n",
       "4           850   43     2.0   125510                1               1   \n",
       "\n",
       "   is_active_member  estimated_salary  exited  country_Germany  country_Spain  \\\n",
       "0                 1            101348       1                0              0   \n",
       "1                 1            112542       0                0              1   \n",
       "2                 0            113931       1                0              0   \n",
       "3                 0             93826       0                0              0   \n",
       "4                 1             79084       0                0              1   \n",
       "\n",
       "   gender_Male  \n",
       "0            0  \n",
       "1            0  \n",
       "2            0  \n",
       "3            0  \n",
       "4            0  "
      ]
     },
     "execution_count": 34,
     "metadata": {},
     "output_type": "execute_result"
    }
   ],
   "source": [
    "df_ohe = pd.get_dummies(df, drop_first=True)\n",
    "pd.options.display.max_columns = None\n",
    "df_ohe.head()"
   ]
  },
  {
   "cell_type": "markdown",
   "id": "a4eb0edc",
   "metadata": {},
   "source": [
    "### Разделение данных на выборки"
   ]
  },
  {
   "cell_type": "markdown",
   "id": "8b083b7a",
   "metadata": {},
   "source": [
    "Для начала разделим данные на признаки и выделим целевой признак: "
   ]
  },
  {
   "cell_type": "code",
   "execution_count": 35,
   "id": "2faf8fd1",
   "metadata": {},
   "outputs": [],
   "source": [
    "# целевой признак\n",
    "target = df_ohe['exited']"
   ]
  },
  {
   "cell_type": "code",
   "execution_count": 36,
   "id": "1f2f5a21",
   "metadata": {},
   "outputs": [],
   "source": [
    "# признаки\n",
    "features = df_ohe.drop(columns=['exited'])"
   ]
  },
  {
   "cell_type": "markdown",
   "id": "3291403f",
   "metadata": {},
   "source": [
    "Разделим исходные данные на: \n",
    "\n",
    "    1. обучающую выборку - 60%\n",
    "    2. валидационную выборку - 20%\n",
    "    3. тестовую выборку - 20%\n",
    "    \n",
    "С помощью параметра `random_state =12345` зафиксируем псевдослучайность результата, чтобы можно было повторить удачный эксперимент. А для того, чтобы быть уверенным, что таргеты будут разделены в том же соотношении, что и в исходных данных, используем параметр `stratify`."
   ]
  },
  {
   "cell_type": "markdown",
   "id": "4a3b292d",
   "metadata": {},
   "source": [
    "Разделим исходные данные на обучающую выборку - 60% и дополнительную выборку - 40%, которую в следующем шаге разделем поровну на валидационную и тестовую выборки. Для моделирования выделим в отдельные переменные признаки и целевой признак для каждой выборки."
   ]
  },
  {
   "cell_type": "code",
   "execution_count": 37,
   "id": "a540453f",
   "metadata": {},
   "outputs": [],
   "source": [
    "features_train, features_valid_test, target_train, target_valid_test = train_test_split(features, \n",
    "                                                                                        target, \n",
    "                                                                                        test_size=0.4, \n",
    "                                                                                        random_state=12345, \n",
    "                                                                                        stratify=target)"
   ]
  },
  {
   "cell_type": "code",
   "execution_count": 38,
   "id": "8cd57fcb",
   "metadata": {},
   "outputs": [],
   "source": [
    "features_valid, features_test, target_valid, target_test = train_test_split(features_valid_test,\n",
    "                                                                            target_valid_test,\n",
    "                                                                            test_size=0.5,\n",
    "                                                                            random_state=12345,\n",
    "                                                                            stratify=target_valid_test)"
   ]
  },
  {
   "cell_type": "markdown",
   "id": "4d13c121",
   "metadata": {},
   "source": [
    "Посмотрим на размер наших выборок:"
   ]
  },
  {
   "cell_type": "code",
   "execution_count": 39,
   "id": "8fc37ee3",
   "metadata": {},
   "outputs": [
    {
     "name": "stdout",
     "output_type": "stream",
     "text": [
      "Размер обучающей выборки: (5454, 11)\n",
      "Размер валидационно выборки: (1818, 11)\n",
      "Размер тестовой выборки: (1819, 11)\n"
     ]
    }
   ],
   "source": [
    "print('Размер обучающей выборки:', features_train.shape)\n",
    "print('Размер валидационно выборки:', features_valid.shape)\n",
    "print('Размер тестовой выборки:', features_test.shape)"
   ]
  },
  {
   "cell_type": "markdown",
   "id": "5a7e4df5",
   "metadata": {},
   "source": [
    "### Масштабирование количественных признаков"
   ]
  },
  {
   "cell_type": "code",
   "execution_count": 40,
   "id": "abe9d626",
   "metadata": {},
   "outputs": [
    {
     "data": {
      "text/html": [
       "<div>\n",
       "<style scoped>\n",
       "    .dataframe tbody tr th:only-of-type {\n",
       "        vertical-align: middle;\n",
       "    }\n",
       "\n",
       "    .dataframe tbody tr th {\n",
       "        vertical-align: top;\n",
       "    }\n",
       "\n",
       "    .dataframe thead th {\n",
       "        text-align: right;\n",
       "    }\n",
       "</style>\n",
       "<table border=\"1\" class=\"dataframe\">\n",
       "  <thead>\n",
       "    <tr style=\"text-align: right;\">\n",
       "      <th></th>\n",
       "      <th>credit_score</th>\n",
       "      <th>country</th>\n",
       "      <th>gender</th>\n",
       "      <th>age</th>\n",
       "      <th>tenure</th>\n",
       "      <th>balance</th>\n",
       "      <th>products_amount</th>\n",
       "      <th>is_credit_card</th>\n",
       "      <th>is_active_member</th>\n",
       "      <th>estimated_salary</th>\n",
       "      <th>exited</th>\n",
       "    </tr>\n",
       "  </thead>\n",
       "  <tbody>\n",
       "    <tr>\n",
       "      <th>0</th>\n",
       "      <td>619</td>\n",
       "      <td>France</td>\n",
       "      <td>Female</td>\n",
       "      <td>42</td>\n",
       "      <td>2.0</td>\n",
       "      <td>0</td>\n",
       "      <td>1</td>\n",
       "      <td>1</td>\n",
       "      <td>1</td>\n",
       "      <td>101348</td>\n",
       "      <td>1</td>\n",
       "    </tr>\n",
       "    <tr>\n",
       "      <th>1</th>\n",
       "      <td>608</td>\n",
       "      <td>Spain</td>\n",
       "      <td>Female</td>\n",
       "      <td>41</td>\n",
       "      <td>1.0</td>\n",
       "      <td>83807</td>\n",
       "      <td>1</td>\n",
       "      <td>0</td>\n",
       "      <td>1</td>\n",
       "      <td>112542</td>\n",
       "      <td>0</td>\n",
       "    </tr>\n",
       "    <tr>\n",
       "      <th>2</th>\n",
       "      <td>502</td>\n",
       "      <td>France</td>\n",
       "      <td>Female</td>\n",
       "      <td>42</td>\n",
       "      <td>8.0</td>\n",
       "      <td>159660</td>\n",
       "      <td>3</td>\n",
       "      <td>1</td>\n",
       "      <td>0</td>\n",
       "      <td>113931</td>\n",
       "      <td>1</td>\n",
       "    </tr>\n",
       "    <tr>\n",
       "      <th>3</th>\n",
       "      <td>699</td>\n",
       "      <td>France</td>\n",
       "      <td>Female</td>\n",
       "      <td>39</td>\n",
       "      <td>1.0</td>\n",
       "      <td>0</td>\n",
       "      <td>2</td>\n",
       "      <td>0</td>\n",
       "      <td>0</td>\n",
       "      <td>93826</td>\n",
       "      <td>0</td>\n",
       "    </tr>\n",
       "    <tr>\n",
       "      <th>4</th>\n",
       "      <td>850</td>\n",
       "      <td>Spain</td>\n",
       "      <td>Female</td>\n",
       "      <td>43</td>\n",
       "      <td>2.0</td>\n",
       "      <td>125510</td>\n",
       "      <td>1</td>\n",
       "      <td>1</td>\n",
       "      <td>1</td>\n",
       "      <td>79084</td>\n",
       "      <td>0</td>\n",
       "    </tr>\n",
       "  </tbody>\n",
       "</table>\n",
       "</div>"
      ],
      "text/plain": [
       "   credit_score country  gender  age  tenure  balance  products_amount  \\\n",
       "0           619  France  Female   42     2.0        0                1   \n",
       "1           608   Spain  Female   41     1.0    83807                1   \n",
       "2           502  France  Female   42     8.0   159660                3   \n",
       "3           699  France  Female   39     1.0        0                2   \n",
       "4           850   Spain  Female   43     2.0   125510                1   \n",
       "\n",
       "   is_credit_card  is_active_member  estimated_salary  exited  \n",
       "0               1                 1            101348       1  \n",
       "1               0                 1            112542       0  \n",
       "2               1                 0            113931       1  \n",
       "3               0                 0             93826       0  \n",
       "4               1                 1             79084       0  "
      ]
     },
     "execution_count": 40,
     "metadata": {},
     "output_type": "execute_result"
    }
   ],
   "source": [
    "df.head()"
   ]
  },
  {
   "cell_type": "code",
   "execution_count": 41,
   "id": "39bb7df0",
   "metadata": {},
   "outputs": [],
   "source": [
    "# создадим список всех количественных признаков для дальнейшего масштабирования\n",
    "numeric = ['credit_score', 'age', 'tenure', 'balance', 'products_amount','estimated_salary']"
   ]
  },
  {
   "cell_type": "code",
   "execution_count": 42,
   "id": "45b4e234",
   "metadata": {},
   "outputs": [
    {
     "data": {
      "text/plain": [
       "StandardScaler()"
      ]
     },
     "execution_count": 42,
     "metadata": {},
     "output_type": "execute_result"
    }
   ],
   "source": [
    "# создадим объект данных и обучим его\n",
    "scaler = StandardScaler()\n",
    "scaler.fit(features_train[numeric])"
   ]
  },
  {
   "cell_type": "code",
   "execution_count": 43,
   "id": "a1b7496f",
   "metadata": {},
   "outputs": [],
   "source": [
    "# уберем предупреждение \n",
    "pd.options.mode.chained_assignment = None\n",
    "# масштабируем данные обучающей, валидационной и тестовой выборки\n",
    "features_train[numeric] = scaler.transform(features_train[numeric])\n",
    "features_valid[numeric] = scaler.transform(features_valid[numeric])\n",
    "features_test[numeric] = scaler.transform(features_test[numeric])"
   ]
  },
  {
   "cell_type": "markdown",
   "id": "cced444a",
   "metadata": {},
   "source": [
    "Посмотрим на преображенный датасет:"
   ]
  },
  {
   "cell_type": "code",
   "execution_count": 44,
   "id": "8c9eb77f",
   "metadata": {},
   "outputs": [
    {
     "data": {
      "text/html": [
       "<div>\n",
       "<style scoped>\n",
       "    .dataframe tbody tr th:only-of-type {\n",
       "        vertical-align: middle;\n",
       "    }\n",
       "\n",
       "    .dataframe tbody tr th {\n",
       "        vertical-align: top;\n",
       "    }\n",
       "\n",
       "    .dataframe thead th {\n",
       "        text-align: right;\n",
       "    }\n",
       "</style>\n",
       "<table border=\"1\" class=\"dataframe\">\n",
       "  <thead>\n",
       "    <tr style=\"text-align: right;\">\n",
       "      <th></th>\n",
       "      <th>credit_score</th>\n",
       "      <th>age</th>\n",
       "      <th>tenure</th>\n",
       "      <th>balance</th>\n",
       "      <th>products_amount</th>\n",
       "      <th>is_credit_card</th>\n",
       "      <th>is_active_member</th>\n",
       "      <th>estimated_salary</th>\n",
       "      <th>country_Germany</th>\n",
       "      <th>country_Spain</th>\n",
       "      <th>gender_Male</th>\n",
       "    </tr>\n",
       "  </thead>\n",
       "  <tbody>\n",
       "    <tr>\n",
       "      <th>9723</th>\n",
       "      <td>-1.292898</td>\n",
       "      <td>-0.660843</td>\n",
       "      <td>0.686341</td>\n",
       "      <td>0.786642</td>\n",
       "      <td>-0.910943</td>\n",
       "      <td>0</td>\n",
       "      <td>0</td>\n",
       "      <td>-0.223547</td>\n",
       "      <td>0</td>\n",
       "      <td>0</td>\n",
       "      <td>1</td>\n",
       "    </tr>\n",
       "    <tr>\n",
       "      <th>1224</th>\n",
       "      <td>-1.563714</td>\n",
       "      <td>0.778434</td>\n",
       "      <td>1.034232</td>\n",
       "      <td>0.833801</td>\n",
       "      <td>-0.910943</td>\n",
       "      <td>1</td>\n",
       "      <td>0</td>\n",
       "      <td>1.383027</td>\n",
       "      <td>0</td>\n",
       "      <td>1</td>\n",
       "      <td>0</td>\n",
       "    </tr>\n",
       "    <tr>\n",
       "      <th>8377</th>\n",
       "      <td>1.581914</td>\n",
       "      <td>0.106771</td>\n",
       "      <td>-0.357331</td>\n",
       "      <td>-1.222966</td>\n",
       "      <td>0.789359</td>\n",
       "      <td>1</td>\n",
       "      <td>1</td>\n",
       "      <td>-0.308324</td>\n",
       "      <td>0</td>\n",
       "      <td>1</td>\n",
       "      <td>1</td>\n",
       "    </tr>\n",
       "    <tr>\n",
       "      <th>8014</th>\n",
       "      <td>0.842379</td>\n",
       "      <td>0.010820</td>\n",
       "      <td>-1.053112</td>\n",
       "      <td>0.807068</td>\n",
       "      <td>-0.910943</td>\n",
       "      <td>1</td>\n",
       "      <td>1</td>\n",
       "      <td>-0.430988</td>\n",
       "      <td>0</td>\n",
       "      <td>1</td>\n",
       "      <td>0</td>\n",
       "    </tr>\n",
       "    <tr>\n",
       "      <th>2491</th>\n",
       "      <td>-0.397123</td>\n",
       "      <td>-1.236554</td>\n",
       "      <td>-0.357331</td>\n",
       "      <td>-1.222966</td>\n",
       "      <td>0.789359</td>\n",
       "      <td>1</td>\n",
       "      <td>1</td>\n",
       "      <td>1.392638</td>\n",
       "      <td>0</td>\n",
       "      <td>1</td>\n",
       "      <td>0</td>\n",
       "    </tr>\n",
       "  </tbody>\n",
       "</table>\n",
       "</div>"
      ],
      "text/plain": [
       "      credit_score       age    tenure   balance  products_amount  \\\n",
       "9723     -1.292898 -0.660843  0.686341  0.786642        -0.910943   \n",
       "1224     -1.563714  0.778434  1.034232  0.833801        -0.910943   \n",
       "8377      1.581914  0.106771 -0.357331 -1.222966         0.789359   \n",
       "8014      0.842379  0.010820 -1.053112  0.807068        -0.910943   \n",
       "2491     -0.397123 -1.236554 -0.357331 -1.222966         0.789359   \n",
       "\n",
       "      is_credit_card  is_active_member  estimated_salary  country_Germany  \\\n",
       "9723               0                 0         -0.223547                0   \n",
       "1224               1                 0          1.383027                0   \n",
       "8377               1                 1         -0.308324                0   \n",
       "8014               1                 1         -0.430988                0   \n",
       "2491               1                 1          1.392638                0   \n",
       "\n",
       "      country_Spain  gender_Male  \n",
       "9723              0            1  \n",
       "1224              1            0  \n",
       "8377              1            1  \n",
       "8014              1            0  \n",
       "2491              1            0  "
      ]
     },
     "execution_count": 44,
     "metadata": {},
     "output_type": "execute_result"
    }
   ],
   "source": [
    "pd.options.display.max_columns = None\n",
    "features_train.head()"
   ]
  },
  {
   "cell_type": "markdown",
   "id": "c0c0b30b",
   "metadata": {},
   "source": [
    "## Иследование баланса классов и качества моделей"
   ]
  },
  {
   "cell_type": "markdown",
   "id": "b4b0acfd",
   "metadata": {},
   "source": [
    "### Исследование баланса классов"
   ]
  },
  {
   "cell_type": "code",
   "execution_count": 45,
   "id": "50e778ef",
   "metadata": {},
   "outputs": [
    {
     "data": {
      "image/png": "[encoded data removed]",
      "text/plain": [
       "<Figure size 360x360 with 1 Axes>"
      ]
     },
     "metadata": {},
     "output_type": "display_data"
    }
   ],
   "source": [
    "build_plot('exited', 'Гистограмма оттока клиентов', 'Факт ухода')"
   ]
  },
  {
   "cell_type": "code",
   "execution_count": 46,
   "id": "673acbbf",
   "metadata": {},
   "outputs": [
    {
     "data": {
      "text/plain": [
       "0    0.796062\n",
       "1    0.203938\n",
       "Name: exited, dtype: float64"
      ]
     },
     "execution_count": 46,
     "metadata": {},
     "output_type": "execute_result"
    }
   ],
   "source": [
    "df['exited'].value_counts(normalize=True)"
   ]
  },
  {
   "cell_type": "markdown",
   "id": "013e2164",
   "metadata": {},
   "source": [
    "На момент обработки исторических данных банк покинуло 20% клиентов. Поскольку это наш целевой признак, то в первую очередь это говорит нам о дисбалансе классов. Возможно это склонит модель к прогнозированию наиболее часто используемого класса, далее это проверим."
   ]
  },
  {
   "cell_type": "markdown",
   "id": "944da831",
   "metadata": {},
   "source": [
    "### Качество моделей с дисбалансом классов"
   ]
  },
  {
   "cell_type": "markdown",
   "id": "9aa57312",
   "metadata": {},
   "source": [
    "В нашем проекте целлевой признак - это столбец `exited` - где определен факт ухода клиента из банка. Поскольку это категориальный целевой признак с двумя категориями, то перед нами стоит задача бинарной классификации.\n",
    "\n",
    "Чтобы сделать предсказание о том, уйдет ли клиент из банка, нужно понимать взаимосвязи признаков и ответов. \n",
    "Мы смоделировали предположение, как устроены эти взаимосвязи. И на этом основании сделаем предсказания - модели машинного обучения.\n",
    "\n",
    "Для задачи бинарной классификации рассмотрим три модели машинного обучения:\n",
    "   1. 'Решающее дерево' \n",
    "   2. 'Случайный лес'\n",
    "   3. 'Логистическая регрессия'\n",
    "   \n",
    "У моделей машинного обучения есть дополнительные гиперпараметры, меняя которые мы сможем найти оптимальную модель."
   ]
  },
  {
   "cell_type": "markdown",
   "id": "5085ce4f",
   "metadata": {},
   "source": [
    "#### Модель \"Дерево решений\""
   ]
  },
  {
   "cell_type": "markdown",
   "id": "54ae2df2",
   "metadata": {},
   "source": [
    "Обучение модели проведем на обучающей выборке и проверим качество предсказаний на валидационной выборке. \n",
    "\n",
    "Управлять глубиной дерева в модели 'Дерево решений' будем через гиперпараметр `depth` и попробуем подобрать оптимальную глубину дерева церез цикл.\n",
    "\n",
    "Определяющим фактором качества всех моделей является среднее гармоническое точности и полноты - `F1-мера`. Чтобы выявить, как сильно наша модель отличается от случайной, посчитаем площадь под ROC-кривой — AUC-ROC."
   ]
  },
  {
   "cell_type": "code",
   "execution_count": 47,
   "id": "7d454588",
   "metadata": {},
   "outputs": [
    {
     "name": "stdout",
     "output_type": "stream",
     "text": [
      "Лучшая модель: DecisionTreeClassifier(max_depth=7, random_state=12345)\n",
      "Оптимальная глубина дерева: 7\n",
      "F1-мера лучшей модели: 0.582\n",
      "AUC-ROC: 0.825\n",
      "Recall: 0.466\n",
      "Precision: 0.772\n"
     ]
    }
   ],
   "source": [
    "# создадим переменные для хранения лучших показателей: модели, F1-мера, глубины дерева\n",
    "best_model = None\n",
    "best_depth = 0\n",
    "best_f1 = 0\n",
    "\n",
    "# в цикле переберем глубины дерева от 1 до 9 инайдем лучшие показатели качества модели\n",
    "for depth in range(1, 8):\n",
    "    model = DecisionTreeClassifier(random_state=12345, max_depth=depth)\n",
    "    model.fit(features_train, target_train)\n",
    "    predicted_valid = model.predict(features_valid)\n",
    "    f1 = f1_score(target_valid, predicted_valid)\n",
    "\n",
    "    if f1 > best_f1:\n",
    "        best_model = model\n",
    "        best_depth = depth\n",
    "        best_f1 = f1\n",
    "        \n",
    "# найдем значения вероятностей классов\n",
    "probabilities_valid = model.predict_proba(features_valid)\n",
    "# найдем вероятность положительного класса - 1\n",
    "probabilities_one_valid = probabilities_valid[:, 1]\n",
    "# найдем AUC-ROC\n",
    "auc_roc = roc_auc_score(target_valid, probabilities_one_valid)\n",
    "# найдем долю TP-ответов среди всех, у которых истинная метка 1\n",
    "recall = recall_score(target_valid, predicted_valid)\n",
    "# как много отрицательных ответов нашла модель, пока искала положительные\n",
    "precision = precision_score(target_valid, predicted_valid)\n",
    "               \n",
    "print('Лучшая модель:', best_model) \n",
    "print('Оптимальная глубина дерева:', best_depth)\n",
    "print('F1-мера лучшей модели:', best_f1.round(3))\n",
    "print('AUC-ROC:', auc_roc.round(3))\n",
    "print('Recall:', recall.round(3))\n",
    "print(\"Precision:\", precision.round(3))"
   ]
  },
  {
   "cell_type": "markdown",
   "id": "aa7af6a7",
   "metadata": {},
   "source": [
    "**Вывод**\n",
    "\n",
    "Лучший показатель F1-меры составляет 0.58 у модели \"Дерево решений\" с оптимальной глубиной дерева - 7. Также модель определяет только половину реально ушедших из банка клиентов - Recall=0.47 - не лучший уровень качества модели."
   ]
  },
  {
   "cell_type": "markdown",
   "id": "b03125ad",
   "metadata": {},
   "source": [
    "#### Модель \"Случайный лес\""
   ]
  },
  {
   "cell_type": "markdown",
   "id": "00f2ff0d",
   "metadata": {},
   "source": [
    "Попробуем еще один алгоритм классификации - 'Случайный лес'. Обучим разное количество независимых друг от друга деревьев и найдем лучшее решение. Обучение модели проведем на обучающей выборке и проверим качество предсказаний на валидационной выборке.\n",
    "\n",
    "Управлять количеством деревьев в модели будем через гиперпараметр `n_estimators` и `max_depth`. Постараемся определить оптимальное количество деревьев и глубину дерева через циклы."
   ]
  },
  {
   "cell_type": "code",
   "execution_count": 48,
   "id": "16bdf724",
   "metadata": {},
   "outputs": [
    {
     "name": "stdout",
     "output_type": "stream",
     "text": [
      "Лучшая модель: RandomForestClassifier(max_depth=20, n_estimators=50, random_state=12345)\n",
      "Количество деревьев: 50\n",
      "Оптимальная глубина дерева: 20\n",
      "F1-мера наилучшей модели на валидационной выборке: 0.62\n",
      "AUC-ROC: 0.864\n",
      "Recall: 0.466\n",
      "Precision: 0.772\n",
      "CPU times: user 18.8 s, sys: 234 ms, total: 19 s\n",
      "Wall time: 19.2 s\n"
     ]
    }
   ],
   "source": [
    "%%time\n",
    "best_model = None\n",
    "best_f1 = 0\n",
    "best_est = 0\n",
    "\n",
    "for est in range(10, 61, 10):\n",
    "    for depth in range (1, 21, 1):\n",
    "        model = RandomForestClassifier(random_state=12345, n_estimators=est, max_depth=depth)\n",
    "        model.fit(features_train, target_train) \n",
    "        predictions_valid = model.predict(features_valid) \n",
    "        f1 = f1_score(target_valid, predictions_valid)\n",
    "        if f1 > best_f1:\n",
    "            best_model = model\n",
    "            best_f1 = f1\n",
    "            best_est = est\n",
    "            best_depth = depth\n",
    "            \n",
    "# найдем значения вероятностей классов\n",
    "probabilities_valid = model.predict_proba(features_valid)\n",
    "# найдем вероятность положительного класса - 1\n",
    "probabilities_one_valid = probabilities_valid[:, 1]\n",
    "# найдем AUC-ROC\n",
    "auc_roc = roc_auc_score(target_valid, probabilities_one_valid)\n",
    "# найдем долю TP-ответов среди всех, у которых истинная метка 1\n",
    "recall = recall_score(target_valid, predicted_valid)\n",
    "# как много отрицательных ответов нашла модель, пока искала положительные\n",
    "precision = precision_score(target_valid, predicted_valid)\n",
    "            \n",
    "print(\"Лучшая модель:\", best_model)            \n",
    "print(\"Количество деревьев:\", best_est) \n",
    "print(\"Оптимальная глубина дерева:\", best_depth) \n",
    "print(\"F1-мера наилучшей модели на валидационной выборке:\", best_f1.round(3)) \n",
    "print('AUC-ROC:', auc_roc.round(3))\n",
    "print('Recall:', recall.round(3))\n",
    "print(\"Precision:\", precision.round(3))"
   ]
  },
  {
   "cell_type": "markdown",
   "id": "9c7a5e0d",
   "metadata": {},
   "source": [
    "**Вывод**\n",
    "\n",
    "Лучшая модель \"Случайный лес\" состоит из 50 деревьев, с оптимальной глубиной дерева - 20, а F1-мера данной модели составляет 0.62 с достаточно высокой площадью под ROC-кривой - 0.864. "
   ]
  },
  {
   "cell_type": "markdown",
   "id": "88b0e41b",
   "metadata": {},
   "source": [
    "#### Модель \"Логистическая регрессия\""
   ]
  },
  {
   "cell_type": "code",
   "execution_count": 49,
   "id": "0bf47654",
   "metadata": {},
   "outputs": [
    {
     "name": "stdout",
     "output_type": "stream",
     "text": [
      "Лучшая модель: LogisticRegression(C=0.46, random_state=12345, solver='liblinear')\n",
      "Регуляризация лучшей модели: 0.46\n",
      "F1-мера для логистической регрессии: 0.331\n",
      "AUC-ROC: 0.789\n",
      "Recall: 0.224\n",
      "Precision: 0.634\n"
     ]
    }
   ],
   "source": [
    "best_model = None\n",
    "best_f1 = 0\n",
    "best_c = 0\n",
    "\n",
    "#в цикле переберем регуляризацию от 0.01 до 1 и найдем лучшие показатели качества модели\n",
    "for reg in np.arange(0.01, 3.0, 0.05):\n",
    "    model = LogisticRegression(random_state=12345, C=reg, solver='liblinear')\n",
    "    model.fit(features_train, target_train)\n",
    "    predicted_valid = model.predict(features_valid)\n",
    "    f1 = f1_score(target_valid, predicted_valid)\n",
    "    if f1 > best_f1:\n",
    "        best_model = model\n",
    "        best_c = reg\n",
    "        best_f1 = f1\n",
    "        \n",
    "# найдем значения вероятностей классов\n",
    "probabilities_valid = model.predict_proba(features_valid)\n",
    "# найдем вероятность положительного класса - 1\n",
    "probabilities_one_valid = probabilities_valid[:, 1]\n",
    "# найдем AUC-ROC\n",
    "auc_roc = roc_auc_score(target_valid, probabilities_one_valid)\n",
    "recall = recall_score(target_valid, predicted_valid)\n",
    "# как много отрицательных ответов нашла модель, пока искала положительные\n",
    "precision = precision_score(target_valid, predicted_valid)\n",
    "\n",
    "print('Лучшая модель:', best_model) \n",
    "print('Регуляризация лучшей модели:', best_c.round(3))\n",
    "print('F1-мера для логистической регрессии:', f1.round(3))\n",
    "print('AUC-ROC:', auc_roc.round(3))\n",
    "print('Recall:', recall.round(3))\n",
    "print(\"Precision:\", precision.round(3))"
   ]
  },
  {
   "cell_type": "markdown",
   "id": "da1cf8f4",
   "metadata": {},
   "source": [
    "**Вывод**\n",
    "\n",
    "Логистическая регрессия показывает низкий уровень всех метрик качества модели и это было предсказуемо, так как линейных зависимостей между признаками и целевым признаком нет.\n",
    "\n",
    "Методом перебора моделей и гиперпараметров, выяснили, что лучшей моделью, протестированной на валидационной выборке, является модель \"Случайного леса\", состоящая из 50 деревьев с оптимальной глубиной дерева равной 20 и показывающая F1-меру на уровне - 0.62. Наименьшую долю правильных ответов имеет модель \"Логистической регрессии\" - 0.33.\n",
    "\n",
    "Однако стоит отметить достаточно высокий урокень AUC-ROC во всех моделях. Возможно, это связано с тем, что функция AUC-ROC не зависbт от пропорции классов, так как устроена не в виде суммы ошибок на объектах, а в виде суммы ошибок на парах объектов разных классов.\n",
    "\n",
    "При этом мы наблюдаем достаточно высокий уровень Precision во всех моделях при низком уровне Recall, что можно объяснить  высокой долей отрицательных ответов в выборках. Попробуем сделать выборки сбалансированными."
   ]
  },
  {
   "cell_type": "markdown",
   "id": "0e4eb8d5",
   "metadata": {},
   "source": [
    "### Качество моделей с балансом классов "
   ]
  },
  {
   "cell_type": "markdown",
   "id": "740587b5",
   "metadata": {},
   "source": [
    "#### Взвешивание классов"
   ]
  },
  {
   "cell_type": "markdown",
   "id": "b9f81a7c",
   "metadata": {},
   "source": [
    "Посмотрим справится ли взвешивание классов с улучшением метрики F1-мера?"
   ]
  },
  {
   "cell_type": "code",
   "execution_count": 50,
   "id": "e2eaa33f",
   "metadata": {},
   "outputs": [
    {
     "name": "stdout",
     "output_type": "stream",
     "text": [
      "F1-мера для \"Дерево решений\": 0.563\n"
     ]
    }
   ],
   "source": [
    "model = DecisionTreeClassifier(random_state=12345, max_depth=7, class_weight='balanced')\n",
    "model.fit(features_train, target_train)\n",
    "predicted_valid = model.predict(features_valid)\n",
    "f1 = f1_score(target_valid, predicted_valid)\n",
    "print('F1-мера для \"Дерево решений\":', f1.round(3))"
   ]
  },
  {
   "cell_type": "code",
   "execution_count": 51,
   "id": "78f0b401",
   "metadata": {},
   "outputs": [
    {
     "name": "stdout",
     "output_type": "stream",
     "text": [
      "F1-мера для \"Случайный лес\": 0.574\n"
     ]
    }
   ],
   "source": [
    "model = RandomForestClassifier(random_state=12345, n_estimators=50, max_depth=20, class_weight='balanced')\n",
    "model.fit(features_train, target_train) \n",
    "predictions_valid = model.predict(features_valid) \n",
    "f1 = f1_score(target_valid, predictions_valid)\n",
    "print('F1-мера для \"Случайный лес\":', f1.round(3))"
   ]
  },
  {
   "cell_type": "code",
   "execution_count": 52,
   "id": "5618a579",
   "metadata": {},
   "outputs": [
    {
     "name": "stdout",
     "output_type": "stream",
     "text": [
      "F1-мера для \"Логистическая регрессия\": 0.508\n"
     ]
    }
   ],
   "source": [
    "model = LogisticRegression(random_state=12345, C=2.1599999999999997, solver='liblinear', class_weight='balanced')\n",
    "model.fit(features_train, target_train)\n",
    "predicted_valid = model.predict(features_valid)\n",
    "f1 = f1_score(target_valid, predicted_valid)\n",
    "print('F1-мера для \"Логистическая регрессия\":', f1.round(3))"
   ]
  },
  {
   "cell_type": "markdown",
   "id": "4fb7528d",
   "metadata": {},
   "source": [
    "**Вывод** \n",
    "\n",
    "Взвешивание классов помогло улучшить F1-меру только в модели логистической регрессии с 0.33 до 0.5, а в остальных моделях даже немного ухудшило предсказания. Поэтому взвешивание классов не будем рассматривать как эффективную меру по улучшению качества модели в данной задаче и перейдем к следующим."
   ]
  },
  {
   "cell_type": "markdown",
   "id": "5a750191",
   "metadata": {},
   "source": [
    "#### Техника Upsampling"
   ]
  },
  {
   "cell_type": "markdown",
   "id": "124b1c89",
   "metadata": {},
   "source": [
    "Ранее мы выяснили, что у нас в данных большой перевес в сторону отрицательных ответ 0.8 против 0.2 на долю положительных. Попробуем увелить долю положительных ответов до баланса классов при помощи техники upsampling.\n",
    "\n",
    "Преобразование проведем в несколько этапов:\n",
    "\n",
    "1. Разделим обучающую выборку на отрицательные и положительные объекты;\n",
    "2. Скопируем несколько раз положительные объекты;\n",
    "3. С учётом полученных данных создадим новую обучающую выборку;\n",
    "4. Перемешаем данные: так как идущие друг за другом одинаковые вопросы не помогут обучению.\n",
    "\n",
    "Затем на обновленных данных обучим модели и проверим изменился ли показатель F1-меры."
   ]
  },
  {
   "cell_type": "markdown",
   "id": "d61aa985",
   "metadata": {},
   "source": [
    "Напишем функцию увеличения доли положительного класса для обучающих данных. "
   ]
  },
  {
   "cell_type": "code",
   "execution_count": 53,
   "id": "c6f95356",
   "metadata": {},
   "outputs": [],
   "source": [
    "def upsample(features, target, repeat):\n",
    "    '''\n",
    "    функция разделяет выборку на положительные и отрицательные ответы,\n",
    "    увеличивают объекты положительного класса и суммируем с отрицательным классом,\n",
    "    перемешивает данные\n",
    "    '''\n",
    "    features_zeros = features[target == 0]\n",
    "    features_ones = features[target == 1]\n",
    "    target_zeros = target[target == 0]\n",
    "    target_ones = target[target == 1]\n",
    "    # увеличиваем положительные классы\n",
    "    features_upsampled = pd.concat([features_zeros] + [features_ones] * repeat)\n",
    "    target_upsampled = pd.concat([target_zeros] + [target_ones] * repeat)\n",
    "    #перемешиваем данные\n",
    "    features_upsampled, target_upsampled = shuffle(features_upsampled, target_upsampled, random_state=12345)\n",
    "    \n",
    "    return(features_upsampled, target_upsampled)"
   ]
  },
  {
   "cell_type": "code",
   "execution_count": 54,
   "id": "d276c6a7",
   "metadata": {},
   "outputs": [
    {
     "name": "stdout",
     "output_type": "stream",
     "text": [
      "(6566, 11)\n",
      "(6566,)\n"
     ]
    }
   ],
   "source": [
    "# вызовем функцию\n",
    "features_upsampled, target_upsampled = upsample(features_train, target_train, 2)\n",
    "    \n",
    "print(features_upsampled.shape)\n",
    "print(target_upsampled.shape)"
   ]
  },
  {
   "cell_type": "markdown",
   "id": "a5b29a9b",
   "metadata": {},
   "source": [
    "Обучим модели на новых данных и найдем F1-меру"
   ]
  },
  {
   "cell_type": "markdown",
   "id": "5b23e4c5",
   "metadata": {},
   "source": [
    "**1. Модель \"Дерево решений\"**"
   ]
  },
  {
   "cell_type": "code",
   "execution_count": 55,
   "id": "7f7ef42b",
   "metadata": {},
   "outputs": [
    {
     "name": "stdout",
     "output_type": "stream",
     "text": [
      "Лучшая модель: DecisionTreeClassifier(max_depth=5, random_state=12345)\n",
      "Оптимальная глубина дерева: 5\n",
      "F1-мера лучшей модели: 0.602\n",
      "AUC-ROC: 0.818\n",
      "Recall: 0.593\n",
      "Precision: 0.591\n"
     ]
    }
   ],
   "source": [
    "# создадим переменные для хранения лучших показателей: модели, F1-мера, глубины дерева\n",
    "best_model = None\n",
    "best_depth = 0\n",
    "best_f1 = 0\n",
    "\n",
    "# в цикле переберем глубины дерева от 1 до 9 инайдем лучшие показатели качества модели\n",
    "for depth in range(1, 8):\n",
    "    model = DecisionTreeClassifier(random_state=12345, max_depth=depth)\n",
    "    model.fit(features_upsampled, target_upsampled)\n",
    "    predicted_valid = model.predict(features_valid)\n",
    "    f1 = f1_score(target_valid, predicted_valid)\n",
    "\n",
    "    if f1 > best_f1:\n",
    "        best_model = model\n",
    "        best_depth = depth\n",
    "        best_f1 = f1\n",
    "        \n",
    "# найдем значения вероятностей классов\n",
    "probabilities_valid = model.predict_proba(features_valid)\n",
    "# найдем вероятность положительного класса - 1\n",
    "probabilities_one_valid = probabilities_valid[:, 1]\n",
    "# найдем AUC-ROC\n",
    "auc_roc = roc_auc_score(target_valid, probabilities_one_valid)\n",
    "# найдем долю TP-ответов среди всех, у которых истинная метка 1\n",
    "recall = recall_score(target_valid, predicted_valid)\n",
    "# как много отрицательных ответов нашла модель, пока искала положительные\n",
    "precision = precision_score(target_valid, predicted_valid)\n",
    "               \n",
    "print('Лучшая модель:', best_model) \n",
    "print('Оптимальная глубина дерева:', best_depth)\n",
    "print('F1-мера лучшей модели:', best_f1.round(3))\n",
    "print('AUC-ROC:', auc_roc.round(3))\n",
    "print('Recall:', recall.round(3))\n",
    "print(\"Precision:\", precision.round(3))"
   ]
  },
  {
   "cell_type": "markdown",
   "id": "ef3c8055",
   "metadata": {},
   "source": [
    "**2. Модель \"Случайный лес\"**"
   ]
  },
  {
   "cell_type": "code",
   "execution_count": 56,
   "id": "854fdf9b",
   "metadata": {},
   "outputs": [
    {
     "name": "stdout",
     "output_type": "stream",
     "text": [
      "Лучшая модель: RandomForestClassifier(max_depth=8, n_estimators=40, random_state=12345)\n",
      "Количество деревьев: 40\n",
      "Оптимальная глубина дерева: 8\n",
      "F1-мера наилучшей модели на валидационной выборке: 0.649\n",
      "AUC-ROC: 0.862\n",
      "Recall: 0.593\n",
      "Precision: 0.591\n",
      "CPU times: user 21.8 s, sys: 306 ms, total: 22.2 s\n",
      "Wall time: 22.3 s\n"
     ]
    }
   ],
   "source": [
    "%%time\n",
    "best_model = None\n",
    "best_f1 = 0\n",
    "best_est = 0\n",
    "\n",
    "for est in range(10, 61, 10):\n",
    "    for depth in range (1, 21, 1):\n",
    "        model = RandomForestClassifier(random_state=12345, n_estimators=est, max_depth=depth)\n",
    "        model.fit(features_upsampled, target_upsampled) \n",
    "        predictions_valid = model.predict(features_valid) \n",
    "        f1 = f1_score(target_valid, predictions_valid)\n",
    "        if f1 > best_f1:\n",
    "            best_model = model\n",
    "            best_f1 = f1\n",
    "            best_est = est\n",
    "            best_depth = depth\n",
    "            \n",
    "# найдем значения вероятностей классов\n",
    "probabilities_valid = model.predict_proba(features_valid)\n",
    "# найдем вероятность положительного класса - 1\n",
    "probabilities_one_valid = probabilities_valid[:, 1]\n",
    "# найдем AUC-ROC\n",
    "auc_roc = roc_auc_score(target_valid, probabilities_one_valid)\n",
    "# найдем долю TP-ответов среди всех, у которых истинная метка 1\n",
    "recall = recall_score(target_valid, predicted_valid)\n",
    "# как много отрицательных ответов нашла модель, пока искала положительные\n",
    "precision = precision_score(target_valid, predicted_valid)\n",
    "            \n",
    "print(\"Лучшая модель:\", best_model)            \n",
    "print(\"Количество деревьев:\", best_est) \n",
    "print(\"Оптимальная глубина дерева:\", best_depth) \n",
    "print(\"F1-мера наилучшей модели на валидационной выборке:\", best_f1.round(3)) \n",
    "print('AUC-ROC:', auc_roc.round(3))\n",
    "print('Recall:', recall.round(3))\n",
    "print(\"Precision:\", precision.round(3))"
   ]
  },
  {
   "cell_type": "markdown",
   "id": "d7abd764",
   "metadata": {},
   "source": [
    "**3. Модель \"Логистическая регрессия\"**"
   ]
  },
  {
   "cell_type": "code",
   "execution_count": 57,
   "id": "b451504b",
   "metadata": {},
   "outputs": [
    {
     "name": "stdout",
     "output_type": "stream",
     "text": [
      "Лучшая модель: LogisticRegression(C=0.11, random_state=12345, solver='liblinear')\n",
      "Регуляризация лучшей модели: 0.11\n",
      "F1-мера для логистической регрессии: 0.509\n",
      "AUC-ROC: 0.79\n",
      "Recall: 0.477\n",
      "Precision: 0.546\n"
     ]
    }
   ],
   "source": [
    "best_model = None\n",
    "best_f1 = 0\n",
    "best_c = 0\n",
    "\n",
    "#в цикле переберем регуляризацию от 0.01 до 1 и найдем лучшие показатели качества модели\n",
    "for reg in np.arange(0.01, 3.0, 0.05):\n",
    "    model = LogisticRegression(random_state=12345, C=reg, solver='liblinear')\n",
    "    model.fit(features_upsampled, target_upsampled)\n",
    "    predicted_valid = model.predict(features_valid)\n",
    "    f1 = f1_score(target_valid, predicted_valid)\n",
    "    if f1 > best_f1:\n",
    "        best_model = model\n",
    "        best_c = reg\n",
    "        best_f1 = f1\n",
    "        \n",
    "# найдем значения вероятностей классов\n",
    "probabilities_valid = model.predict_proba(features_valid)\n",
    "# найдем вероятность положительного класса - 1\n",
    "probabilities_one_valid = probabilities_valid[:, 1]\n",
    "# найдем AUC-ROC\n",
    "auc_roc = roc_auc_score(target_valid, probabilities_one_valid)\n",
    "recall = recall_score(target_valid, predicted_valid)\n",
    "# как много отрицательных ответов нашла модель, пока искала положительные\n",
    "precision = precision_score(target_valid, predicted_valid)\n",
    "\n",
    "print('Лучшая модель:', best_model) \n",
    "print('Регуляризация лучшей модели:', best_c.round(3))\n",
    "print('F1-мера для логистической регрессии:', f1.round(3))\n",
    "print('AUC-ROC:', auc_roc.round(3))\n",
    "print('Recall:', recall.round(3))\n",
    "print(\"Precision:\", precision.round(3))"
   ]
  },
  {
   "cell_type": "markdown",
   "id": "62cfcece",
   "metadata": {},
   "source": [
    "**Вывод** \n",
    "\n",
    "Лучшие показатели F1-меры дает увеличение доли положительной выборки в 2 раза. Лучшей моделью опять стал \"Случайный лес\", подняв уровень F1-меры до 0.649, уравновесив и показатели Recall и Precision до 0.6."
   ]
  },
  {
   "cell_type": "markdown",
   "id": "ea5e987d",
   "metadata": {},
   "source": [
    "#### Техника Downsampling"
   ]
  },
  {
   "cell_type": "markdown",
   "id": "bf71e2b0",
   "metadata": {},
   "source": [
    "Попробуем подойти к данным иначе: уменьшим долю отрицательных ответов техникой downsampling (от англ. down — «вниз»; sampling — «выборка»).\n",
    "\n",
    "Преобразование также проведем в несколько этапов:\n",
    "\n",
    "1. Разделим обучающую выборку на отрицательные и положительные объекты;\n",
    "2. Случайным образом отбросим часть из отрицательных объектов (функция sample(frac=доля от исходной выборки));\n",
    "3. С учётом полученных данных создадим новую обучающую выборку;\n",
    "4. Перемешаем данные. Так как положительные ответы не должны идти следом за отрицательными: алгоритмам будет сложнее обучаться."
   ]
  },
  {
   "cell_type": "code",
   "execution_count": 58,
   "id": "aaa5cfda",
   "metadata": {},
   "outputs": [],
   "source": [
    "def downsample(features, target, fraction):\n",
    "    '''\n",
    "    функция разделяет выборку на положительные и отрицательные ответы,\n",
    "    уменьшает объекты отрицательного класса и суммируем с положительным классом,\n",
    "    перемешивает данные\n",
    "    '''\n",
    "    features_zeros = features[target == 0]\n",
    "    features_ones = features[target == 1]\n",
    "    target_zeros = target[target == 0]\n",
    "    target_ones = target[target == 1]\n",
    "    # отбрасываем отрицательные ответы\n",
    "    features_zeros = features_zeros.sample(frac=fraction, random_state=12345)\n",
    "    target_zeros = target_zeros.sample(frac=fraction, random_state=12345)\n",
    "    # создаем новую обучающую выборку\n",
    "    features_downsampled = pd.concat([features_zeros] + [features_ones])\n",
    "    target_downsampled = pd.concat([target_zeros] + [target_ones])\n",
    "    # перемешиваем данные\n",
    "    features_downsampled, target_downsampled = shuffle(features_downsampled, \n",
    "                                                       target_downsampled, \n",
    "                                                       random_state=12345)\n",
    "    return features_downsampled, target_downsampled"
   ]
  },
  {
   "cell_type": "code",
   "execution_count": 59,
   "id": "991ff437",
   "metadata": {},
   "outputs": [
    {
     "name": "stdout",
     "output_type": "stream",
     "text": [
      "(3283, 11)\n",
      "(3283,)\n"
     ]
    }
   ],
   "source": [
    "# вызовем функцию\n",
    "features_downsampled, target_downsampled = downsample(features_train, target_train, 0.5)\n",
    "\n",
    "# посмотрим размер обновленной выборки\n",
    "print(features_downsampled.shape)\n",
    "print(target_downsampled.shape)"
   ]
  },
  {
   "cell_type": "markdown",
   "id": "2a73d22e",
   "metadata": {},
   "source": [
    "Обучим модели на новых данных и найдем F1-меру"
   ]
  },
  {
   "cell_type": "markdown",
   "id": "97b46128",
   "metadata": {},
   "source": [
    "**1. Модель \"Дерево решений\"**"
   ]
  },
  {
   "cell_type": "code",
   "execution_count": 60,
   "id": "4c8b68d2",
   "metadata": {},
   "outputs": [
    {
     "name": "stdout",
     "output_type": "stream",
     "text": [
      "Лучшая модель: DecisionTreeClassifier(max_depth=5, random_state=12345)\n",
      "Оптимальная глубина дерева: 5\n",
      "F1-мера лучшей модели: 0.614\n",
      "AUC-ROC: 0.831\n",
      "Recall: 0.596\n",
      "Precision: 0.626\n"
     ]
    }
   ],
   "source": [
    "# создадим переменные для хранения лучших показателей: модели, F1-мера, глубины дерева\n",
    "best_model = None\n",
    "best_depth = 0\n",
    "best_f1 = 0\n",
    "\n",
    "# в цикле переберем глубины дерева от 1 до 9 инайдем лучшие показатели качества модели\n",
    "for depth in range(1, 8):\n",
    "    model = DecisionTreeClassifier(random_state=12345, max_depth=depth)\n",
    "    model.fit(features_downsampled, target_downsampled)\n",
    "    predicted_valid = model.predict(features_valid)\n",
    "    f1 = f1_score(target_valid, predicted_valid)\n",
    "\n",
    "    if f1 > best_f1:\n",
    "        best_model = model\n",
    "        best_depth = depth\n",
    "        best_f1 = f1\n",
    "        \n",
    "# найдем значения вероятностей классов\n",
    "probabilities_valid = model.predict_proba(features_valid)\n",
    "# найдем вероятность положительного класса - 1\n",
    "probabilities_one_valid = probabilities_valid[:, 1]\n",
    "# найдем AUC-ROC\n",
    "auc_roc = roc_auc_score(target_valid, probabilities_one_valid)\n",
    "# найдем долю TP-ответов среди всех, у которых истинная метка 1\n",
    "recall = recall_score(target_valid, predicted_valid)\n",
    "# как много отрицательных ответов нашла модель, пока искала положительные\n",
    "precision = precision_score(target_valid, predicted_valid)\n",
    "               \n",
    "print('Лучшая модель:', best_model) \n",
    "print('Оптимальная глубина дерева:', best_depth)\n",
    "print('F1-мера лучшей модели:', best_f1.round(3))\n",
    "print('AUC-ROC:', auc_roc.round(3))\n",
    "print('Recall:', recall.round(3))\n",
    "print(\"Precision:\", precision.round(3))"
   ]
  },
  {
   "cell_type": "markdown",
   "id": "1e01eea3",
   "metadata": {},
   "source": [
    "**2. Модель \"Случайный лес\"**"
   ]
  },
  {
   "cell_type": "code",
   "execution_count": 61,
   "id": "34107af6",
   "metadata": {},
   "outputs": [
    {
     "name": "stdout",
     "output_type": "stream",
     "text": [
      "Лучшая модель: RandomForestClassifier(max_depth=19, n_estimators=60, random_state=12345)\n",
      "Количество деревьев: 60\n",
      "Оптимальная глубина дерева: 19\n",
      "F1-мера наилучшей модели на валидационной выборке: 0.657\n",
      "AUC-ROC: 0.875\n",
      "Recall: 0.596\n",
      "Precision: 0.626\n",
      "CPU times: user 13.5 s, sys: 130 ms, total: 13.7 s\n",
      "Wall time: 13.5 s\n"
     ]
    }
   ],
   "source": [
    "%%time\n",
    "best_model = None\n",
    "best_f1 = 0\n",
    "best_est = 0\n",
    "\n",
    "for est in range(10, 61, 10):\n",
    "    for depth in range (1, 21, 1):\n",
    "        model = RandomForestClassifier(random_state=12345, n_estimators=est, max_depth=depth)\n",
    "        model.fit(features_downsampled, target_downsampled) \n",
    "        predictions_valid = model.predict(features_valid) \n",
    "        f1 = f1_score(target_valid, predictions_valid)\n",
    "        if f1 > best_f1:\n",
    "            best_model = model\n",
    "            best_f1 = f1\n",
    "            best_est = est\n",
    "            best_depth = depth\n",
    "            \n",
    "# найдем значения вероятностей классов\n",
    "probabilities_valid = model.predict_proba(features_valid)\n",
    "# найдем вероятность положительного класса - 1\n",
    "probabilities_one_valid = probabilities_valid[:, 1]\n",
    "# найдем AUC-ROC\n",
    "auc_roc = roc_auc_score(target_valid, probabilities_one_valid)\n",
    "# найдем долю TP-ответов среди всех, у которых истинная метка 1\n",
    "recall = recall_score(target_valid, predicted_valid)\n",
    "# как много отрицательных ответов нашла модель, пока искала положительные\n",
    "precision = precision_score(target_valid, predicted_valid)\n",
    "            \n",
    "print(\"Лучшая модель:\", best_model)            \n",
    "print(\"Количество деревьев:\", best_est) \n",
    "print(\"Оптимальная глубина дерева:\", best_depth) \n",
    "print(\"F1-мера наилучшей модели на валидационной выборке:\", best_f1.round(3)) \n",
    "print('AUC-ROC:', auc_roc.round(3))\n",
    "print('Recall:', recall.round(3))\n",
    "print(\"Precision:\", precision.round(3))"
   ]
  },
  {
   "cell_type": "markdown",
   "id": "c7ec5d18",
   "metadata": {},
   "source": [
    "**3. Модель \"Логистическая регрессия\"**"
   ]
  },
  {
   "cell_type": "code",
   "execution_count": 62,
   "id": "fa36805d",
   "metadata": {},
   "outputs": [
    {
     "name": "stdout",
     "output_type": "stream",
     "text": [
      "Лучшая модель: LogisticRegression(C=0.16000000000000003, random_state=12345,\n",
      "                   solver='liblinear')\n",
      "Регуляризация лучшей модели: 0.16\n",
      "F1-мера для логистической регрессии: 0.51\n",
      "AUC-ROC: 0.791\n",
      "Recall: 0.496\n",
      "Precision: 0.524\n"
     ]
    }
   ],
   "source": [
    "best_model = None\n",
    "best_f1 = 0\n",
    "best_c = 0\n",
    "\n",
    "#в цикле переберем регуляризацию от 0.01 до 1 и найдем лучшие показатели качества модели\n",
    "for reg in np.arange(0.01, 3.0, 0.05):\n",
    "    model = LogisticRegression(random_state=12345, C=reg, solver='liblinear')\n",
    "    model.fit(features_downsampled, target_downsampled)\n",
    "    predicted_valid = model.predict(features_valid)\n",
    "    f1 = f1_score(target_valid, predicted_valid)\n",
    "    if f1 > best_f1:\n",
    "        best_model = model\n",
    "        best_c = reg\n",
    "        best_f1 = f1\n",
    "        \n",
    "# найдем значения вероятностей классов\n",
    "probabilities_valid = model.predict_proba(features_valid)\n",
    "# найдем вероятность положительного класса - 1\n",
    "probabilities_one_valid = probabilities_valid[:, 1]\n",
    "# найдем AUC-ROC\n",
    "auc_roc = roc_auc_score(target_valid, probabilities_one_valid)\n",
    "recall = recall_score(target_valid, predicted_valid)\n",
    "# как много отрицательных ответов нашла модель, пока искала положительные\n",
    "precision = precision_score(target_valid, predicted_valid)\n",
    "\n",
    "print('Лучшая модель:', best_model) \n",
    "print('Регуляризация лучшей модели:', best_c.round(3))\n",
    "print('F1-мера для логистической регрессии:', f1.round(3))\n",
    "print('AUC-ROC:', auc_roc.round(3))\n",
    "print('Recall:', recall.round(3))\n",
    "print(\"Precision:\", precision.round(3))"
   ]
  },
  {
   "cell_type": "markdown",
   "id": "27786641",
   "metadata": {},
   "source": [
    "Визуализируем ROC-кривую для лучшей модели:"
   ]
  },
  {
   "cell_type": "code",
   "execution_count": 63,
   "id": "92a9532a",
   "metadata": {},
   "outputs": [
    {
     "data": {
      "image/png": "[encoded data removed]",
      "text/plain": [
       "<Figure size 432x288 with 1 Axes>"
      ]
     },
     "metadata": {},
     "output_type": "display_data"
    }
   ],
   "source": [
    "model = RandomForestClassifier(random_state=12345, n_estimators=60, max_depth=19)\n",
    "model.fit(features_downsampled, target_downsampled) \n",
    "predictions_valid = model.predict(features_valid) \n",
    "f1 = f1_score(target_valid, predictions_valid)\n",
    "    \n",
    "probabilities_valid = model.predict_proba(features_valid)\n",
    "probabilities_one_valid = probabilities_valid[:, 1]\n",
    "auc_roc = roc_auc_score(target_valid, probabilities_one_valid)\n",
    "recall = recall_score(target_valid, predicted_valid)\n",
    "precision = precision_score(target_valid, predicted_valid)\n",
    "\n",
    "# найдем долю верно предсказанных ответов - TPR,\n",
    "# долю ложно предсказанных ответов - FPR и порог - threshold\n",
    "fpr, tpr, threshold = roc_curve(target_valid, probabilities_one_valid)\n",
    "\n",
    "# построение графика\n",
    "plt.figure()\n",
    "plt.plot(fpr, tpr)\n",
    "# ROC-кривая случайной модели (выглядит как прямая)\n",
    "plt.plot([0, 1], [0, 1], linestyle='--')\n",
    "plt.xlim([0.0, 1.0])\n",
    "plt.ylim([0.0, 1.0])\n",
    "plt.xlabel('False Positive Rate')\n",
    "plt.ylabel('True Positive Rate')\n",
    "plt.title('ROC-кривая')\n",
    "plt.show()"
   ]
  },
  {
   "cell_type": "markdown",
   "id": "1f4a3ee8",
   "metadata": {},
   "source": [
    "**Вывод**\n",
    "\n",
    "Методом подбора оптимальной доли снижения отрицательных ответов, выяснили, что при fraction = 0.5 мы получим максимальный уровень F1-меры. И опять это модель \"Случайный лес\":\n",
    "\n",
    "RandomForestClassifier(max_depth=19, n_estimators=60, random_state=12345)\n",
    "\n",
    "показывает лучшие результаты: F1-мера - 0.657, ROC-AUC - 0.875."
   ]
  },
  {
   "cell_type": "markdown",
   "id": "c5b6934d",
   "metadata": {},
   "source": [
    "## Финальное тестирование"
   ]
  },
  {
   "cell_type": "markdown",
   "id": "6fa2f2e6",
   "metadata": {},
   "source": [
    "Проверим качество лучшей модели на тестовой выборке:"
   ]
  },
  {
   "cell_type": "code",
   "execution_count": 64,
   "id": "939f95fe",
   "metadata": {},
   "outputs": [
    {
     "name": "stdout",
     "output_type": "stream",
     "text": [
      "F1-мера: 0.602\n",
      "AUC-ROC: 0.841\n",
      "Recall: 0.59\n",
      "Precision: 0.615\n"
     ]
    }
   ],
   "source": [
    "model = RandomForestClassifier(random_state=12345, n_estimators=60, max_depth=19)\n",
    "model.fit(features_downsampled, target_downsampled) \n",
    "predictions_test = model.predict(features_test) \n",
    "f1 = f1_score(target_test, predictions_test)\n",
    "       \n",
    "# найдем значения вероятностей классов для тестовой выборки\n",
    "probabilities_test = model.predict_proba(features_test)\n",
    "# найдем вероятность положительного класса - 1 для тестовой выборки\n",
    "probabilities_one_test = probabilities_test[:, 1]\n",
    "# найдем AUC-ROC\n",
    "auc_roc = roc_auc_score(target_test, probabilities_one_test)\n",
    "recall = recall_score(target_test, predictions_test)\n",
    "# как много отрицательных ответов нашла модель, пока искала положительные\n",
    "precision = precision_score(target_test, predictions_test)\n",
    "\n",
    "print('F1-мера:', f1.round(3))\n",
    "print('AUC-ROC:', auc_roc.round(3))\n",
    "print('Recall:', recall.round(3))\n",
    "print(\"Precision:\", precision.round(3))"
   ]
  },
  {
   "cell_type": "markdown",
   "id": "e3c67f65",
   "metadata": {},
   "source": [
    "Посмотрим на ROC-кривая нашей модели на тестовой выборке:"
   ]
  },
  {
   "cell_type": "code",
   "execution_count": 65,
   "id": "0f850242",
   "metadata": {},
   "outputs": [
    {
     "data": {
      "image/png": "[encoded data removed]",
      "text/plain": [
       "<Figure size 432x288 with 1 Axes>"
      ]
     },
     "metadata": {},
     "output_type": "display_data"
    }
   ],
   "source": [
    "# найдем долю верно предсказанных ответов - TPR,\n",
    "# долю ложно предсказанных ответов - FPR и порог - threshold\n",
    "fpr, tpr, threshold = roc_curve(target_test, probabilities_one_test)\n",
    "\n",
    "# построение графика\n",
    "plt.figure()\n",
    "plt.plot(fpr, tpr)\n",
    "# ROC-кривая случайной модели (выглядит как прямая)\n",
    "plt.plot([0, 1], [0, 1], linestyle='--')\n",
    "plt.xlim([0.0, 1.0])\n",
    "plt.ylim([0.0, 1.0])\n",
    "plt.xlabel('False Positive Rate')\n",
    "plt.ylabel('True Positive Rate')\n",
    "plt.title('ROC-кривая')\n",
    "plt.show()"
   ]
  },
  {
   "cell_type": "markdown",
   "id": "fd1a307c",
   "metadata": {},
   "source": [
    "**Вывод**\n",
    "\n",
    "На тестовой выборке модель показала приемлемый уровень F1-меры - 0.6 при площади под ROC-кривой - 0.84."
   ]
  },
  {
   "cell_type": "markdown",
   "id": "61a8afe4",
   "metadata": {},
   "source": [
    "## Вывод"
   ]
  },
  {
   "cell_type": "markdown",
   "id": "deced4c0",
   "metadata": {},
   "source": [
    "В процессе работы с данными мы подготовили их к построению наилучшей модели предсказания факта ухода клиента слудющим образом:\n",
    "\n",
    "1. образужили и удалили данные, которые могли бы усложнить интерпретацию модели и ухудшить качество прогнозов\n",
    "2. провели разведочный анализ и исключили наличие в данных мультиколлинеарности.\n",
    "3. преобразовали категориальные признаки в численные техникой прямого кодирования(OHE).\n",
    "4. масшабировали количественные призначи, чтобы избежать ловушки разных масштабов данных.\n",
    "\n",
    "Тем самым обеспечили модели возможность более точно определить закономерности между признаками и повысить уровень предсказаний.\n",
    "\n",
    "Мы разделили исходнные данные на выборки: обучающую, валидационную и тестовую, а также выделили для каждой выборки переменные и и целевой признак.  \n",
    "\n",
    " Для поставленной задачи - бинарной классификации - подготовили три модели машинного обучения:\n",
    "\n",
    "1. 'Решающее дерево'\n",
    "2. 'Случайный лес'\n",
    "3. 'Логистическая регрессия'\n",
    "\n",
    "Благодаря начилию дополнительных гиперпараметров у моделей машинного обучения, путем перебора в цикле нашли оптимальную модель, которые показала наиболее высокое значение F1 меры.\n",
    "\n",
    "Поскольку в первоначальных данных имелся дисбаланс классов: положительных классов было в 4 раза меньше, чем отрицательных, то провели моделирование с применением разных техник:\n",
    "\n",
    "1. построили модели с дисбалансом классов. И здесь лучшей стала модель \"Случайный лес \" со следующими показателями качества предсказания:\n",
    "   - F1-мера = 0.62\n",
    "   - ROC-AUC = 0.864\n",
    "   - Recall = 0.466\n",
    "   - Precision = 0.772\n",
    "2. построили модели, сбалансировав классы с помощью параметра взвешивания классов, но этот метод показал ухудшением метрик.\n",
    "3. построили модели, сбалансировав классы с помощью увеличения доли положительных ответов. Это немного улучшило метрики качества прогнозирования всех моделей, но лучшей стала модель \"Случайный лес \" со следующими показателями качества предсказания:\n",
    "   - F1-мера = 0.649\n",
    "   - ROC-AUC = 0.86\n",
    "   - Recall = 0.59\n",
    "   - Precision = 0.59\n",
    "4. построили модели, попробовав сбалансировать классы, наоборот, с помощью уменьшения доли отрицательных ответов. Это еще немного улучшило метрики качества прогнозирования всех моделей, но лучшей, по-прежнему, стала модель \"Случайный лес \" со следующими показателями качества предсказания:\n",
    "   - F1-мера = 0.657\n",
    "   - ROC-AUC = 0.875\n",
    "   - Recall = 0.596\n",
    "   - Precision = 0.596\n",
    "\n",
    "\n",
    "Рекомендации:\n",
    "\n",
    "Для предсказания факта ухода клиентов из банка рекомендуем модель \"Случайный лес\", которая показала высокий уровень предсказаний как на валидационной, так и на тестовой выбоках за счет высокой точности (0.596), а также показывает адекватные результаты (AUC-ROC 0.876). Модель находит большую часть ушедших клиентов на тестовой выборке (полнота = 0.6).\n",
    "\n",
    "RandomForestClassifier(max_depth=19, n_estimators=60, random_state=12345)"
   ]
  }
 ],
 "metadata": {
  "ExecuteTimeLog": [
   {
    "duration": 128,
    "start_time": "2022-05-06T14:17:53.459Z"
   }
  ],
  "kernelspec": {
   "display_name": "Python 3 (ipykernel)",
   "language": "python",
   "name": "python3"
  },
  "language_info": {
   "codemirror_mode": {
    "name": "ipython",
    "version": 3
   },
   "file_extension": ".py",
   "mimetype": "text/x-python",
   "name": "python",
   "nbconvert_exporter": "python",
   "pygments_lexer": "ipython3",
   "version": "3.9.7"
  },
  "toc": {
   "base_numbering": 1,
   "nav_menu": {},
   "number_sections": true,
   "sideBar": true,
   "skip_h1_title": true,
   "title_cell": "Содержание",
   "title_sidebar": "Contents",
   "toc_cell": true,
   "toc_position": {
    "height": "calc(100% - 180px)",
    "left": "10px",
    "top": "150px",
    "width": "383.797px"
   },
   "toc_section_display": true,
   "toc_window_display": true
  }
 },
 "nbformat": 4,
 "nbformat_minor": 5
}
