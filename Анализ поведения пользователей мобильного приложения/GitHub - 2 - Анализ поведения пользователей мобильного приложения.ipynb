{
 "cells": [
  {
   "cell_type": "markdown",
   "id": "37fb7bcd",
   "metadata": {
    "toc": true
   },
   "source": [
    "<h1>Table of Contents<span class=\"tocSkip\"></span></h1>\n",
    "<div class=\"toc\"><ul class=\"toc-item\"><li><span><a href=\"#Обзор-и-подготовка-данных-к-анализу\" data-toc-modified-id=\"Обзор-и-подготовка-данных-к-анализу-1\"><span class=\"toc-item-num\">1&nbsp;&nbsp;</span>Обзор и подготовка данных к анализу</a></span></li><li><span><a href=\"#Предобработка-данных\" data-toc-modified-id=\"Предобработка-данных-2\"><span class=\"toc-item-num\">2&nbsp;&nbsp;</span>Предобработка данных</a></span></li><li><span><a href=\"#Изучение-и-проверка-данных\" data-toc-modified-id=\"Изучение-и-проверка-данных-3\"><span class=\"toc-item-num\">3&nbsp;&nbsp;</span>Изучение и проверка данных</a></span></li><li><span><a href=\"#Воронка-событий\" data-toc-modified-id=\"Воронка-событий-4\"><span class=\"toc-item-num\">4&nbsp;&nbsp;</span>Воронка событий</a></span></li><li><span><a href=\"#Анализ-результатов-эксперимента\" data-toc-modified-id=\"Анализ-результатов-эксперимента-5\"><span class=\"toc-item-num\">5&nbsp;&nbsp;</span>Анализ результатов эксперимента</a></span></li><li><span><a href=\"#Общий-вывод\" data-toc-modified-id=\"Общий-вывод-6\"><span class=\"toc-item-num\">6&nbsp;&nbsp;</span>Общий вывод</a></span></li></ul></div>"
   ]
  },
  {
   "cell_type": "markdown",
   "id": "d4b52952",
   "metadata": {},
   "source": [
    "# Анализ поведения пользователей мобильного приложения\n",
    "\n",
    "\n",
    "**Описание проекта**\n",
    "\n",
    "   В стартапе - мобильное приложение - онлайн магазин продуктов питания, необходимо разобраться в поведении пользователей. Необходимо изучить воронку продаж и узнать: \n",
    "    1. как пользователи доходят до покупки,\n",
    "    2. сколько пользователей доходит до покупки, \n",
    "    3. сколько пользователей «застревает» на предыдущих шагах и на каких именно.\n",
    "\n",
    "   Дизайнеры захотели поменять шрифты во всём приложении, а менеджеры обеспокоены, что пользователям будет непривычно. Для принятия взвещшенного решения проведен А/А/В - тест, где пользователей разбили на 3 группы: 2 контрольные со старыми шрифтами и одну экспериментальную — с новыми. Нобходимо выяснить, какой шрифт лучше, исследовав результаты A/A/B- эксперимента. Окончательное решение о шрифтах необходимо принять по результатам A/A/B- теста. \n",
    "\n",
    "\n",
    "**Цель исследования**\n",
    "\n",
    "Подготовить анализ поведения пользователей и результатов А/А/В - теста для принятий решения об изменениях.\n",
    "\n",
    "\n",
    " **Ход исследования**\n",
    "\n",
    "1. Обзор данных.\n",
    "2. Предобработка данных.\n",
    "3. Изучение и проверка данных.\n",
    "4. Изучение воронки событий.\n",
    "5. Анализ результатов эксперимента.\n",
    "6. Общий вывод."
   ]
  },
  {
   "cell_type": "markdown",
   "id": "8abfed1e",
   "metadata": {},
   "source": [
    "## Обзор и подготовка данных к анализу"
   ]
  },
  {
   "cell_type": "markdown",
   "id": "18920501",
   "metadata": {},
   "source": [
    "В этом разделе проведем обзор и подготовку данных к анализу:\n",
    "1. Выгрузим и познакомимся с данными.\n",
    "2. Найдем и устраним недочеты в данных.\n",
    "\n",
    "Составим первое представление о данных. Импортируем необходимые для анализа библиотеки."
   ]
  },
  {
   "cell_type": "code",
   "execution_count": 51,
   "id": "8645cb67",
   "metadata": {},
   "outputs": [],
   "source": [
    "import pandas as pd\n",
    "import numpy as np\n",
    "from datetime import datetime, timedelta\n",
    "import matplotlib.pyplot as plt\n",
    "import seaborn as sns\n",
    "from scipy import stats as st\n",
    "import math as mth\n",
    "\n",
    "# импорт библиотек для построения графиков\n",
    "import plotly\n",
    "from plotly import graph_objects as go\n",
    "import plotly.express as px"
   ]
  },
  {
   "cell_type": "code",
   "execution_count": 53,
   "id": "0d55346a",
   "metadata": {},
   "outputs": [],
   "source": [
    "# зададим параметры отображения\n",
    "pd.set_option('display.max_colwidth', 0)\n",
    "pd.options.display.max_columns = None"
   ]
  },
  {
   "cell_type": "markdown",
   "id": "002e0117",
   "metadata": {},
   "source": [
    "Познакомимся с данными. Для этого создадим функцию, которая выводит общую информацию о данных, а также проверяет данные на пропуски и дубликаты:"
   ]
  },
  {
   "cell_type": "code",
   "execution_count": 54,
   "id": "29b1f85b",
   "metadata": {},
   "outputs": [],
   "source": [
    "def df_info(df):\n",
    "    print('Познакомимся с данными')\n",
    "    print('_' * 50, '\\n')\n",
    "    display(df.head(10))\n",
    "    print()\n",
    "    print('Посмотрим сводную информация о данных')\n",
    "    print('_' * 50, '\\n')\n",
    "    df.info()\n",
    "    print()\n",
    "    print(\"Проверим данные на пропуски и дубликаты\")\n",
    "    print('_' * 50, '\\n')\n",
    "    print()\n",
    "    print(\"Доля пропусков:\")\n",
    "    display(df.isna().mean().round(2))\n",
    "    print()\n",
    "    print(\"Количество дубликатов:\", df.duplicated().sum()) \n",
    "    print('_' * 50, '\\n')"
   ]
  },
  {
   "cell_type": "markdown",
   "id": "5c5b42dc",
   "metadata": {},
   "source": [
    "Загрузим и познакомимся с данными"
   ]
  },
  {
   "cell_type": "code",
   "execution_count": 55,
   "id": "61f31952",
   "metadata": {},
   "outputs": [
    {
     "name": "stdout",
     "output_type": "stream",
     "text": [
      "Познакомимся с данными\n",
      "__________________________________________________ \n",
      "\n"
     ]
    },
    {
     "data": {
      "text/html": [
       "<div>\n",
       "<style scoped>\n",
       "    .dataframe tbody tr th:only-of-type {\n",
       "        vertical-align: middle;\n",
       "    }\n",
       "\n",
       "    .dataframe tbody tr th {\n",
       "        vertical-align: top;\n",
       "    }\n",
       "\n",
       "    .dataframe thead th {\n",
       "        text-align: right;\n",
       "    }\n",
       "</style>\n",
       "<table border=\"1\" class=\"dataframe\">\n",
       "  <thead>\n",
       "    <tr style=\"text-align: right;\">\n",
       "      <th></th>\n",
       "      <th>EventName</th>\n",
       "      <th>DeviceIDHash</th>\n",
       "      <th>EventTimestamp</th>\n",
       "      <th>ExpId</th>\n",
       "    </tr>\n",
       "  </thead>\n",
       "  <tbody>\n",
       "    <tr>\n",
       "      <th>0</th>\n",
       "      <td>MainScreenAppear</td>\n",
       "      <td>4575588528974610257</td>\n",
       "      <td>1564029816</td>\n",
       "      <td>246</td>\n",
       "    </tr>\n",
       "    <tr>\n",
       "      <th>1</th>\n",
       "      <td>MainScreenAppear</td>\n",
       "      <td>7416695313311560658</td>\n",
       "      <td>1564053102</td>\n",
       "      <td>246</td>\n",
       "    </tr>\n",
       "    <tr>\n",
       "      <th>2</th>\n",
       "      <td>PaymentScreenSuccessful</td>\n",
       "      <td>3518123091307005509</td>\n",
       "      <td>1564054127</td>\n",
       "      <td>248</td>\n",
       "    </tr>\n",
       "    <tr>\n",
       "      <th>3</th>\n",
       "      <td>CartScreenAppear</td>\n",
       "      <td>3518123091307005509</td>\n",
       "      <td>1564054127</td>\n",
       "      <td>248</td>\n",
       "    </tr>\n",
       "    <tr>\n",
       "      <th>4</th>\n",
       "      <td>PaymentScreenSuccessful</td>\n",
       "      <td>6217807653094995999</td>\n",
       "      <td>1564055322</td>\n",
       "      <td>248</td>\n",
       "    </tr>\n",
       "    <tr>\n",
       "      <th>5</th>\n",
       "      <td>CartScreenAppear</td>\n",
       "      <td>6217807653094995999</td>\n",
       "      <td>1564055323</td>\n",
       "      <td>248</td>\n",
       "    </tr>\n",
       "    <tr>\n",
       "      <th>6</th>\n",
       "      <td>OffersScreenAppear</td>\n",
       "      <td>8351860793733343758</td>\n",
       "      <td>1564066242</td>\n",
       "      <td>246</td>\n",
       "    </tr>\n",
       "    <tr>\n",
       "      <th>7</th>\n",
       "      <td>MainScreenAppear</td>\n",
       "      <td>5682100281902512875</td>\n",
       "      <td>1564085677</td>\n",
       "      <td>246</td>\n",
       "    </tr>\n",
       "    <tr>\n",
       "      <th>8</th>\n",
       "      <td>MainScreenAppear</td>\n",
       "      <td>1850981295691852772</td>\n",
       "      <td>1564086702</td>\n",
       "      <td>247</td>\n",
       "    </tr>\n",
       "    <tr>\n",
       "      <th>9</th>\n",
       "      <td>MainScreenAppear</td>\n",
       "      <td>5407636962369102641</td>\n",
       "      <td>1564112112</td>\n",
       "      <td>246</td>\n",
       "    </tr>\n",
       "  </tbody>\n",
       "</table>\n",
       "</div>"
      ],
      "text/plain": [
       "                 EventName         DeviceIDHash  EventTimestamp  ExpId\n",
       "0  MainScreenAppear         4575588528974610257  1564029816      246  \n",
       "1  MainScreenAppear         7416695313311560658  1564053102      246  \n",
       "2  PaymentScreenSuccessful  3518123091307005509  1564054127      248  \n",
       "3  CartScreenAppear         3518123091307005509  1564054127      248  \n",
       "4  PaymentScreenSuccessful  6217807653094995999  1564055322      248  \n",
       "5  CartScreenAppear         6217807653094995999  1564055323      248  \n",
       "6  OffersScreenAppear       8351860793733343758  1564066242      246  \n",
       "7  MainScreenAppear         5682100281902512875  1564085677      246  \n",
       "8  MainScreenAppear         1850981295691852772  1564086702      247  \n",
       "9  MainScreenAppear         5407636962369102641  1564112112      246  "
      ]
     },
     "metadata": {},
     "output_type": "display_data"
    },
    {
     "name": "stdout",
     "output_type": "stream",
     "text": [
      "\n",
      "Посмотрим сводную информация о данных\n",
      "__________________________________________________ \n",
      "\n",
      "<class 'pandas.core.frame.DataFrame'>\n",
      "RangeIndex: 244126 entries, 0 to 244125\n",
      "Data columns (total 4 columns):\n",
      " #   Column          Non-Null Count   Dtype \n",
      "---  ------          --------------   ----- \n",
      " 0   EventName       244126 non-null  object\n",
      " 1   DeviceIDHash    244126 non-null  int64 \n",
      " 2   EventTimestamp  244126 non-null  int64 \n",
      " 3   ExpId           244126 non-null  int64 \n",
      "dtypes: int64(3), object(1)\n",
      "memory usage: 7.5+ MB\n",
      "\n",
      "Проверим данные на пропуски и дубликаты\n",
      "__________________________________________________ \n",
      "\n",
      "\n",
      "Доля пропусков:\n"
     ]
    },
    {
     "data": {
      "text/plain": [
       "EventName         0.0\n",
       "DeviceIDHash      0.0\n",
       "EventTimestamp    0.0\n",
       "ExpId             0.0\n",
       "dtype: float64"
      ]
     },
     "metadata": {},
     "output_type": "display_data"
    },
    {
     "name": "stdout",
     "output_type": "stream",
     "text": [
      "\n",
      "Количество дубликатов: 413\n",
      "__________________________________________________ \n",
      "\n"
     ]
    }
   ],
   "source": [
    "df_info(df)"
   ]
  },
  {
   "cell_type": "markdown",
   "id": "72fc57b4",
   "metadata": {},
   "source": [
    "Познакомимся со значениями в столбцах `EventName`, `ExpId`:"
   ]
  },
  {
   "cell_type": "code",
   "execution_count": 56,
   "id": "5cf69b86",
   "metadata": {},
   "outputs": [],
   "source": [
    "# функция подсчета количества и вывода уникальных значений\n",
    "def unique_info_columns(df, column):\n",
    "    print('Количество уникальных объектов:', df[column].nunique())\n",
    "    print('_' * 50, '\\n')\n",
    "    # количество заведений каждого значения\n",
    "    print('Уникальные значения', column, 'по частоте использования:')\n",
    "    print()\n",
    "    print(df[column].value_counts().head(10))"
   ]
  },
  {
   "cell_type": "code",
   "execution_count": 57,
   "id": "56590164",
   "metadata": {},
   "outputs": [
    {
     "name": "stdout",
     "output_type": "stream",
     "text": [
      "Количество уникальных объектов: 5\n",
      "__________________________________________________ \n",
      "\n",
      "Уникальные значения EventName по частоте использования:\n",
      "\n",
      "MainScreenAppear           119205\n",
      "OffersScreenAppear         46825 \n",
      "CartScreenAppear           42731 \n",
      "PaymentScreenSuccessful    34313 \n",
      "Tutorial                   1052  \n",
      "Name: EventName, dtype: int64\n"
     ]
    }
   ],
   "source": [
    "unique_info_columns(df, 'EventName')"
   ]
  },
  {
   "cell_type": "code",
   "execution_count": 58,
   "id": "9f4b309b",
   "metadata": {},
   "outputs": [
    {
     "name": "stdout",
     "output_type": "stream",
     "text": [
      "Количество уникальных объектов: 3\n",
      "__________________________________________________ \n",
      "\n",
      "Уникальные значения ExpId по частоте использования:\n",
      "\n",
      "248    85747\n",
      "246    80304\n",
      "247    78075\n",
      "Name: ExpId, dtype: int64\n"
     ]
    }
   ],
   "source": [
    "unique_info_columns(df, 'ExpId')"
   ]
  },
  {
   "cell_type": "markdown",
   "id": "3f60a04b",
   "metadata": {},
   "source": [
    "Итак, таблица с действиями пользователей содержит 4 столбца и 244126 строк. \n",
    "\n",
    "Согласно документации к данным:\n",
    "\n",
    "* `EventName` — название события;\n",
    "* `DeviceIDHash` — уникальный идентификатор ;\n",
    "* `EventTimestamp` — время события;\n",
    "* `ExpId` — номер эксперимента: 246 и 247 — контрольные группы, а 248 — экспериментальная.\n",
    "\n",
    "**Вывод**\n",
    "\n",
    "В данных обнаружены следующие недочеты:\n",
    "\n",
    "1. 413 дубликатов данных, которые необходимо удалить.\n",
    "2. Тип данных в столбце `EventTimestamp` указан в формате unix time, приведем его к формату даты и времени datetime, а также создадим отдельный столбец с датой.\n",
    "3. Дадим столбцам более удобные для отражения сущности названия.\n",
    "4. Для удобства работы, названиям событий дадим формулировки, отражающие сущности действия.\n",
    "5. Для удобства обработки результатов теста заменим названия тестируемых групп на:\n",
    "\n",
    "   - контрольная группа 246 - A1,\n",
    "   - контрольная группа 247 - A2,\n",
    "   - экспериментальная группа 248 - B.\n",
    "\n",
    "Чтобы двигаться дальше, необходимо устранить проблемы в данных."
   ]
  },
  {
   "cell_type": "markdown",
   "id": "a5f91a40",
   "metadata": {},
   "source": [
    "## Предобработка данных"
   ]
  },
  {
   "cell_type": "markdown",
   "id": "61a225cc",
   "metadata": {},
   "source": [
    "Переименуем столбцы:"
   ]
  },
  {
   "cell_type": "code",
   "execution_count": 59,
   "id": "a727aff1",
   "metadata": {},
   "outputs": [],
   "source": [
    "df = df.rename(columns={'EventName':'event_type', \n",
    "                        'DeviceIDHash':'device_id', \n",
    "                        'EventTimestamp':'event_datetime', \n",
    "                        'ExpId':'test_group'}\n",
    "        )"
   ]
  },
  {
   "cell_type": "markdown",
   "id": "194da96c",
   "metadata": {},
   "source": [
    "Добавим столбец с датой и временем и отдельный столбец с датой:"
   ]
  },
  {
   "cell_type": "code",
   "execution_count": 60,
   "id": "6fc1b165",
   "metadata": {},
   "outputs": [],
   "source": [
    "df['event_datetime'] = pd.to_datetime(df['event_datetime'], unit='s')\n",
    "df['event_date'] = pd.to_datetime(df['event_datetime'], unit='s').dt.date"
   ]
  },
  {
   "cell_type": "markdown",
   "id": "3814edf9",
   "metadata": {},
   "source": [
    "Дадим названиям событий удобные формулировки:"
   ]
  },
  {
   "cell_type": "code",
   "execution_count": 61,
   "id": "10debbe3",
   "metadata": {},
   "outputs": [],
   "source": [
    "# функция замены английский названий событий на русские\n",
    "\n",
    "def change_event_type(row):\n",
    "    if row == 'MainScreenAppear':\n",
    "        return \"visit_main_screen\"\n",
    "    elif row == 'OffersScreenAppear':\n",
    "        return \"views_product\"\n",
    "    elif row == 'CartScreenAppear':\n",
    "        return \"views_cart_screen\"\n",
    "    elif row == 'PaymentScreenSuccessful':\n",
    "        return \"successful_payment\"\n",
    "    elif row == 'Tutorial':\n",
    "        return \"views_tutorial\"\n",
    "    return row\n",
    "\n",
    "# применим функцию к столбцу event_type\n",
    "df['event_type'] = df['event_type'].apply(change_event_type)"
   ]
  },
  {
   "cell_type": "markdown",
   "id": "c4090f7a",
   "metadata": {},
   "source": [
    "Ззменим названия тестируемых групп:"
   ]
  },
  {
   "cell_type": "code",
   "execution_count": 62,
   "id": "332df2f6",
   "metadata": {},
   "outputs": [],
   "source": [
    "# функция замены старых названий групп на новые\n",
    "def change_group_name(row):\n",
    "    if row == 246:\n",
    "        return \"A1\"\n",
    "    elif row == 247:\n",
    "        return \"A2\"\n",
    "    elif row == 248:\n",
    "        return \"B\"\n",
    "    return row\n",
    "\n",
    "# применим функцию к столбцу test_group\n",
    "df['test_group'] = df['test_group'].apply(change_group_name)"
   ]
  },
  {
   "cell_type": "markdown",
   "id": "513a1e1a",
   "metadata": {},
   "source": [
    "Удалим обнаруженные дубликаты. "
   ]
  },
  {
   "cell_type": "code",
   "execution_count": 63,
   "id": "132eea8f",
   "metadata": {},
   "outputs": [
    {
     "data": {
      "text/plain": [
       "243713"
      ]
     },
     "execution_count": 63,
     "metadata": {},
     "output_type": "execute_result"
    }
   ],
   "source": [
    "df = df.drop_duplicates()\n",
    "\n",
    "# всего было 244126 строк из них 413 дубликатов, поэтому должно остаться 243713 строк\n",
    "len(df)"
   ]
  },
  {
   "cell_type": "code",
   "execution_count": 64,
   "id": "931b602d",
   "metadata": {},
   "outputs": [
    {
     "data": {
      "text/html": [
       "<div>\n",
       "<style scoped>\n",
       "    .dataframe tbody tr th:only-of-type {\n",
       "        vertical-align: middle;\n",
       "    }\n",
       "\n",
       "    .dataframe tbody tr th {\n",
       "        vertical-align: top;\n",
       "    }\n",
       "\n",
       "    .dataframe thead th {\n",
       "        text-align: right;\n",
       "    }\n",
       "</style>\n",
       "<table border=\"1\" class=\"dataframe\">\n",
       "  <thead>\n",
       "    <tr style=\"text-align: right;\">\n",
       "      <th></th>\n",
       "      <th>event_type</th>\n",
       "      <th>device_id</th>\n",
       "      <th>event_datetime</th>\n",
       "      <th>test_group</th>\n",
       "      <th>event_date</th>\n",
       "    </tr>\n",
       "  </thead>\n",
       "  <tbody>\n",
       "    <tr>\n",
       "      <th>0</th>\n",
       "      <td>visit_main_screen</td>\n",
       "      <td>4575588528974610257</td>\n",
       "      <td>2019-07-25 04:43:36</td>\n",
       "      <td>A1</td>\n",
       "      <td>2019-07-25</td>\n",
       "    </tr>\n",
       "    <tr>\n",
       "      <th>1</th>\n",
       "      <td>visit_main_screen</td>\n",
       "      <td>7416695313311560658</td>\n",
       "      <td>2019-07-25 11:11:42</td>\n",
       "      <td>A1</td>\n",
       "      <td>2019-07-25</td>\n",
       "    </tr>\n",
       "    <tr>\n",
       "      <th>2</th>\n",
       "      <td>successful_payment</td>\n",
       "      <td>3518123091307005509</td>\n",
       "      <td>2019-07-25 11:28:47</td>\n",
       "      <td>B</td>\n",
       "      <td>2019-07-25</td>\n",
       "    </tr>\n",
       "    <tr>\n",
       "      <th>3</th>\n",
       "      <td>views_cart_screen</td>\n",
       "      <td>3518123091307005509</td>\n",
       "      <td>2019-07-25 11:28:47</td>\n",
       "      <td>B</td>\n",
       "      <td>2019-07-25</td>\n",
       "    </tr>\n",
       "    <tr>\n",
       "      <th>4</th>\n",
       "      <td>successful_payment</td>\n",
       "      <td>6217807653094995999</td>\n",
       "      <td>2019-07-25 11:48:42</td>\n",
       "      <td>B</td>\n",
       "      <td>2019-07-25</td>\n",
       "    </tr>\n",
       "  </tbody>\n",
       "</table>\n",
       "</div>"
      ],
      "text/plain": [
       "           event_type            device_id      event_datetime test_group  \\\n",
       "0  visit_main_screen   4575588528974610257 2019-07-25 04:43:36  A1          \n",
       "1  visit_main_screen   7416695313311560658 2019-07-25 11:11:42  A1          \n",
       "2  successful_payment  3518123091307005509 2019-07-25 11:28:47  B           \n",
       "3  views_cart_screen   3518123091307005509 2019-07-25 11:28:47  B           \n",
       "4  successful_payment  6217807653094995999 2019-07-25 11:48:42  B           \n",
       "\n",
       "   event_date  \n",
       "0  2019-07-25  \n",
       "1  2019-07-25  \n",
       "2  2019-07-25  \n",
       "3  2019-07-25  \n",
       "4  2019-07-25  "
      ]
     },
     "execution_count": 64,
     "metadata": {},
     "output_type": "execute_result"
    }
   ],
   "source": [
    "# посмотрим на обновленную таблицу данных\n",
    "df.head()"
   ]
  },
  {
   "cell_type": "markdown",
   "id": "8485f65f",
   "metadata": {},
   "source": [
    "**Вывод**\n",
    "\n",
    "Данные предобработаны и полностью готовы для дальнейшего анализа."
   ]
  },
  {
   "cell_type": "markdown",
   "id": "bd5ad324",
   "metadata": {},
   "source": [
    "## Изучение и проверка данных\n",
    "\n",
    "В этой главе мы решим следующие задачи:\n",
    "\n",
    "1. Определим сколько всего событий в логе.\n",
    "2. Определим сколько всего пользователей в логе.\n",
    "3. Определим сколько в среднем событий приходится на пользователя.\n",
    "4. Определим данными за какой период мы располагаем. \n",
    "5. Визуализируем распределение событий по дате и времени. \n",
    "6. Определим одинаково ли полные данные за весь период.\n",
    "7. Определим период с полноценными данными и отбросим более старые даты. \n",
    "8. Определим много ли событий и пользователей мы потеряли, отбросив старые данные.\n",
    "9. Проверим, что у нас есть пользователи из всех трёх экспериментальных групп."
   ]
  },
  {
   "cell_type": "markdown",
   "id": "85cc9e9e",
   "metadata": {},
   "source": [
    "Решим сразу первые четыре поставленные задачи:"
   ]
  },
  {
   "cell_type": "code",
   "execution_count": 65,
   "id": "228da8b3",
   "metadata": {},
   "outputs": [],
   "source": [
    "# функция для отображения основной информации о логах  \n",
    "def logs_users_info(df):\n",
    "    print(\"Всего событий в логе:\", df['event_type'].count())\n",
    "    print()\n",
    "    print('Всего пользователей в логе:', df['device_id'].nunique())\n",
    "    print()\n",
    "    print('Среднее количество событий на одного пользователя:', int(len(df) / df['device_id'].nunique()))\n",
    "    print()\n",
    "    print(\"Период данных: с\", df['event_date'].min(), \"по\", df['event_date'].max())"
   ]
  },
  {
   "cell_type": "code",
   "execution_count": 66,
   "id": "060b0265",
   "metadata": {},
   "outputs": [
    {
     "name": "stdout",
     "output_type": "stream",
     "text": [
      "Всего событий в логе: 243713\n",
      "\n",
      "Всего пользователей в логе: 7551\n",
      "\n",
      "Среднее количество событий на одного пользователя: 32\n",
      "\n",
      "Период данных: с 2019-07-25 по 2019-08-07\n"
     ]
    }
   ],
   "source": [
    "# посмотрим на первоначальные данные\n",
    "logs_users_info(df)"
   ]
  },
  {
   "cell_type": "markdown",
   "id": "27a279af",
   "metadata": {},
   "source": [
    "Посмотрим на распределение количества событий, совершенных пользователями. Таким образом определим уместно ли рассчитывать среднее количество событий на одного пользователя через среднее арифметическое."
   ]
  },
  {
   "cell_type": "code",
   "execution_count": 67,
   "id": "34142cf9",
   "metadata": {},
   "outputs": [
    {
     "data": {
      "text/html": [
       "<iframe\n",
       "    scrolling=\"no\"\n",
       "    width=\"1020px\"\n",
       "    height=\"570\"\n",
       "    src=\"iframe_figures/figure_67.html\"\n",
       "    frameborder=\"0\"\n",
       "    allowfullscreen\n",
       "></iframe>\n"
      ]
     },
     "metadata": {},
     "output_type": "display_data"
    }
   ],
   "source": [
    "# распределение количества событий на одного пользователя\n",
    "fig = px.box(df.groupby('device_id').agg({'event_type':'count'}), \n",
    "                   x='event_type', \n",
    "                   template='gridon',\n",
    "                   title=\"Распределение количества событий на одного пользователя\",\n",
    "             labels={'event_type':'Количество событий'})\n",
    "            \n",
    "fig.update_layout(width=1000, height=550)\n",
    "fig.show()"
   ]
  },
  {
   "cell_type": "code",
   "execution_count": 68,
   "id": "d811241b",
   "metadata": {},
   "outputs": [
    {
     "data": {
      "text/html": [
       "<div>\n",
       "<style scoped>\n",
       "    .dataframe tbody tr th:only-of-type {\n",
       "        vertical-align: middle;\n",
       "    }\n",
       "\n",
       "    .dataframe tbody tr th {\n",
       "        vertical-align: top;\n",
       "    }\n",
       "\n",
       "    .dataframe thead th {\n",
       "        text-align: right;\n",
       "    }\n",
       "</style>\n",
       "<table border=\"1\" class=\"dataframe\">\n",
       "  <thead>\n",
       "    <tr style=\"text-align: right;\">\n",
       "      <th></th>\n",
       "      <th>event_type</th>\n",
       "    </tr>\n",
       "  </thead>\n",
       "  <tbody>\n",
       "    <tr>\n",
       "      <th>count</th>\n",
       "      <td>7551.000000</td>\n",
       "    </tr>\n",
       "    <tr>\n",
       "      <th>mean</th>\n",
       "      <td>32.275593</td>\n",
       "    </tr>\n",
       "    <tr>\n",
       "      <th>std</th>\n",
       "      <td>65.154219</td>\n",
       "    </tr>\n",
       "    <tr>\n",
       "      <th>min</th>\n",
       "      <td>1.000000</td>\n",
       "    </tr>\n",
       "    <tr>\n",
       "      <th>25%</th>\n",
       "      <td>9.000000</td>\n",
       "    </tr>\n",
       "    <tr>\n",
       "      <th>50%</th>\n",
       "      <td>20.000000</td>\n",
       "    </tr>\n",
       "    <tr>\n",
       "      <th>75%</th>\n",
       "      <td>37.000000</td>\n",
       "    </tr>\n",
       "    <tr>\n",
       "      <th>max</th>\n",
       "      <td>2307.000000</td>\n",
       "    </tr>\n",
       "  </tbody>\n",
       "</table>\n",
       "</div>"
      ],
      "text/plain": [
       "        event_type\n",
       "count  7551.000000\n",
       "mean   32.275593  \n",
       "std    65.154219  \n",
       "min    1.000000   \n",
       "25%    9.000000   \n",
       "50%    20.000000  \n",
       "75%    37.000000  \n",
       "max    2307.000000"
      ]
     },
     "execution_count": 68,
     "metadata": {},
     "output_type": "execute_result"
    }
   ],
   "source": [
    "# выведем основные сттатистики в табличном виде\n",
    "df.groupby('device_id').agg({'event_type':'count'}).describe()"
   ]
  },
  {
   "cell_type": "markdown",
   "id": "86c30035",
   "metadata": {},
   "source": [
    "Таким образом выяснили, что данные о количестве заказов на одного пользователя распределены неравномерно и имеют довольно большие выбросы. В данной ситуации среднее количество событий на одного пользователя правильнее рассчитывать через медиану, так как она более устойчива к выбросам."
   ]
  },
  {
   "cell_type": "code",
   "execution_count": 69,
   "id": "0c57b96e",
   "metadata": {},
   "outputs": [
    {
     "name": "stdout",
     "output_type": "stream",
     "text": [
      "Среднее количество событий на одного пользователя: 20\n"
     ]
    }
   ],
   "source": [
    " print('Среднее количество событий на одного пользователя:',\n",
    "       int(df.groupby('device_id').agg({'event_type':'count'}).median()))"
   ]
  },
  {
   "cell_type": "markdown",
   "id": "7b3f58f1",
   "metadata": {},
   "source": [
    "С учетом нового расчета откорректируем функцию logs_users_info и введем переменные для дальнейшего расчета количества отрезанных данных:"
   ]
  },
  {
   "cell_type": "code",
   "execution_count": 70,
   "id": "1552d0a7",
   "metadata": {},
   "outputs": [],
   "source": [
    "initial_total_events = df['event_type'].count()\n",
    "initial_total_users = df['device_id'].nunique()\n",
    "initial_avg_events = int(df.groupby('device_id').agg({'event_type':'count'}).median())"
   ]
  },
  {
   "cell_type": "code",
   "execution_count": 71,
   "id": "e3cbbb89",
   "metadata": {},
   "outputs": [],
   "source": [
    "# функция для отображения основной информации о логах  \n",
    "def logs_users_info(df, total_events, total_users, avg_events):\n",
    "    print(\"Всего событий в логе:\", total_events)\n",
    "    print()\n",
    "    print('Всего пользователей в логе:', total_users)\n",
    "    print()\n",
    "    print('Среднее количество событий на одного пользователя:', avg_events)\n",
    "    print()\n",
    "    print(\"Период данных: с\", df['event_date'].min(), \"по\", df['event_date'].max())"
   ]
  },
  {
   "cell_type": "markdown",
   "id": "8ff9f5e3",
   "metadata": {},
   "source": [
    "Посмотрим на распределение событий по датам:"
   ]
  },
  {
   "cell_type": "code",
   "execution_count": 72,
   "id": "6e525454",
   "metadata": {},
   "outputs": [
    {
     "data": {
      "text/html": [
       "<div>\n",
       "<style scoped>\n",
       "    .dataframe tbody tr th:only-of-type {\n",
       "        vertical-align: middle;\n",
       "    }\n",
       "\n",
       "    .dataframe tbody tr th {\n",
       "        vertical-align: top;\n",
       "    }\n",
       "\n",
       "    .dataframe thead th {\n",
       "        text-align: right;\n",
       "    }\n",
       "</style>\n",
       "<table border=\"1\" class=\"dataframe\">\n",
       "  <thead>\n",
       "    <tr style=\"text-align: right;\">\n",
       "      <th></th>\n",
       "      <th>event_type</th>\n",
       "    </tr>\n",
       "    <tr>\n",
       "      <th>event_date</th>\n",
       "      <th></th>\n",
       "    </tr>\n",
       "  </thead>\n",
       "  <tbody>\n",
       "    <tr>\n",
       "      <th>2019-07-25</th>\n",
       "      <td>9</td>\n",
       "    </tr>\n",
       "    <tr>\n",
       "      <th>2019-07-26</th>\n",
       "      <td>31</td>\n",
       "    </tr>\n",
       "    <tr>\n",
       "      <th>2019-07-27</th>\n",
       "      <td>55</td>\n",
       "    </tr>\n",
       "    <tr>\n",
       "      <th>2019-07-28</th>\n",
       "      <td>105</td>\n",
       "    </tr>\n",
       "    <tr>\n",
       "      <th>2019-07-29</th>\n",
       "      <td>184</td>\n",
       "    </tr>\n",
       "    <tr>\n",
       "      <th>2019-07-30</th>\n",
       "      <td>412</td>\n",
       "    </tr>\n",
       "    <tr>\n",
       "      <th>2019-07-31</th>\n",
       "      <td>2030</td>\n",
       "    </tr>\n",
       "    <tr>\n",
       "      <th>2019-08-01</th>\n",
       "      <td>36141</td>\n",
       "    </tr>\n",
       "    <tr>\n",
       "      <th>2019-08-02</th>\n",
       "      <td>35554</td>\n",
       "    </tr>\n",
       "    <tr>\n",
       "      <th>2019-08-03</th>\n",
       "      <td>33282</td>\n",
       "    </tr>\n",
       "    <tr>\n",
       "      <th>2019-08-04</th>\n",
       "      <td>32968</td>\n",
       "    </tr>\n",
       "    <tr>\n",
       "      <th>2019-08-05</th>\n",
       "      <td>36058</td>\n",
       "    </tr>\n",
       "    <tr>\n",
       "      <th>2019-08-06</th>\n",
       "      <td>35788</td>\n",
       "    </tr>\n",
       "    <tr>\n",
       "      <th>2019-08-07</th>\n",
       "      <td>31096</td>\n",
       "    </tr>\n",
       "  </tbody>\n",
       "</table>\n",
       "</div>"
      ],
      "text/plain": [
       "            event_type\n",
       "event_date            \n",
       "2019-07-25  9         \n",
       "2019-07-26  31        \n",
       "2019-07-27  55        \n",
       "2019-07-28  105       \n",
       "2019-07-29  184       \n",
       "2019-07-30  412       \n",
       "2019-07-31  2030      \n",
       "2019-08-01  36141     \n",
       "2019-08-02  35554     \n",
       "2019-08-03  33282     \n",
       "2019-08-04  32968     \n",
       "2019-08-05  36058     \n",
       "2019-08-06  35788     \n",
       "2019-08-07  31096     "
      ]
     },
     "execution_count": 72,
     "metadata": {},
     "output_type": "execute_result"
    }
   ],
   "source": [
    "# посмотрим на общее количество событий по дням\n",
    "df.pivot_table(index='event_date', values='event_type', aggfunc='count')"
   ]
  },
  {
   "cell_type": "code",
   "execution_count": 73,
   "id": "b48b89d3",
   "metadata": {},
   "outputs": [
    {
     "data": {
      "text/html": [
       "<div>\n",
       "<style scoped>\n",
       "    .dataframe tbody tr th:only-of-type {\n",
       "        vertical-align: middle;\n",
       "    }\n",
       "\n",
       "    .dataframe tbody tr th {\n",
       "        vertical-align: top;\n",
       "    }\n",
       "\n",
       "    .dataframe thead th {\n",
       "        text-align: right;\n",
       "    }\n",
       "</style>\n",
       "<table border=\"1\" class=\"dataframe\">\n",
       "  <thead>\n",
       "    <tr style=\"text-align: right;\">\n",
       "      <th></th>\n",
       "      <th>event_date</th>\n",
       "      <th>event_type</th>\n",
       "      <th>count</th>\n",
       "    </tr>\n",
       "  </thead>\n",
       "  <tbody>\n",
       "    <tr>\n",
       "      <th>0</th>\n",
       "      <td>2019-07-25</td>\n",
       "      <td>successful_payment</td>\n",
       "      <td>2</td>\n",
       "    </tr>\n",
       "    <tr>\n",
       "      <th>1</th>\n",
       "      <td>2019-07-25</td>\n",
       "      <td>views_cart_screen</td>\n",
       "      <td>2</td>\n",
       "    </tr>\n",
       "    <tr>\n",
       "      <th>2</th>\n",
       "      <td>2019-07-25</td>\n",
       "      <td>views_product</td>\n",
       "      <td>1</td>\n",
       "    </tr>\n",
       "    <tr>\n",
       "      <th>3</th>\n",
       "      <td>2019-07-25</td>\n",
       "      <td>visit_main_screen</td>\n",
       "      <td>4</td>\n",
       "    </tr>\n",
       "    <tr>\n",
       "      <th>4</th>\n",
       "      <td>2019-07-26</td>\n",
       "      <td>successful_payment</td>\n",
       "      <td>3</td>\n",
       "    </tr>\n",
       "    <tr>\n",
       "      <th>...</th>\n",
       "      <td>...</td>\n",
       "      <td>...</td>\n",
       "      <td>...</td>\n",
       "    </tr>\n",
       "    <tr>\n",
       "      <th>63</th>\n",
       "      <td>2019-08-07</td>\n",
       "      <td>views_product</td>\n",
       "      <td>5940</td>\n",
       "    </tr>\n",
       "    <tr>\n",
       "      <th>64</th>\n",
       "      <td>2019-08-07</td>\n",
       "      <td>views_tutorial</td>\n",
       "      <td>70</td>\n",
       "    </tr>\n",
       "    <tr>\n",
       "      <th>61</th>\n",
       "      <td>2019-08-07</td>\n",
       "      <td>successful_payment</td>\n",
       "      <td>4242</td>\n",
       "    </tr>\n",
       "    <tr>\n",
       "      <th>62</th>\n",
       "      <td>2019-08-07</td>\n",
       "      <td>views_cart_screen</td>\n",
       "      <td>5054</td>\n",
       "    </tr>\n",
       "    <tr>\n",
       "      <th>65</th>\n",
       "      <td>2019-08-07</td>\n",
       "      <td>visit_main_screen</td>\n",
       "      <td>15790</td>\n",
       "    </tr>\n",
       "  </tbody>\n",
       "</table>\n",
       "<p>66 rows × 3 columns</p>\n",
       "</div>"
      ],
      "text/plain": [
       "    event_date          event_type  count\n",
       "0   2019-07-25  successful_payment  2    \n",
       "1   2019-07-25  views_cart_screen   2    \n",
       "2   2019-07-25  views_product       1    \n",
       "3   2019-07-25  visit_main_screen   4    \n",
       "4   2019-07-26  successful_payment  3    \n",
       "..         ...                 ... ..    \n",
       "63  2019-08-07  views_product       5940 \n",
       "64  2019-08-07  views_tutorial      70   \n",
       "61  2019-08-07  successful_payment  4242 \n",
       "62  2019-08-07  views_cart_screen   5054 \n",
       "65  2019-08-07  visit_main_screen   15790\n",
       "\n",
       "[66 rows x 3 columns]"
      ]
     },
     "execution_count": 73,
     "metadata": {},
     "output_type": "execute_result"
    }
   ],
   "source": [
    "# посмотрим на распределение общего количества каждого события по дням\n",
    "(\n",
    "    df\n",
    "    .groupby(['event_date', 'event_type'])['device_id']\n",
    "    .count()\n",
    "    .reset_index()\n",
    "    .sort_values(by='event_date')\n",
    "    .rename(columns={'device_id':'count'})\n",
    ")"
   ]
  },
  {
   "cell_type": "markdown",
   "id": "f08e5294",
   "metadata": {},
   "source": [
    "Построим гистограмму распределения событий за весь период:"
   ]
  },
  {
   "cell_type": "code",
   "execution_count": 74,
   "id": "0949b8b3",
   "metadata": {},
   "outputs": [
    {
     "data": {
      "text/html": [
       "<iframe\n",
       "    scrolling=\"no\"\n",
       "    width=\"1020px\"\n",
       "    height=\"720\"\n",
       "    src=\"iframe_figures/figure_74.html\"\n",
       "    frameborder=\"0\"\n",
       "    allowfullscreen\n",
       "></iframe>\n"
      ]
     },
     "metadata": {},
     "output_type": "display_data"
    }
   ],
   "source": [
    "fig = px.histogram(df, \n",
    "                   x='event_datetime', \n",
    "                   color='event_type',\n",
    "                   barmode='group',\n",
    "                   template='gridon',\n",
    "                   title='Распределение событий по датам')\n",
    "\n",
    "fig.update_layout(xaxis_title='Дата', \n",
    "                  yaxis_title='Количество событий', \n",
    "                  autosize=False, \n",
    "                  width=1000, \n",
    "                  height=700, \n",
    "                  legend=dict(x=0.05, y=0.9), \n",
    "                  title={'font':dict(size=18)}, \n",
    "                  legend_title='Название события'\n",
    "                 )\n",
    "fig.update_xaxes(dtick='d1')\n",
    "fig.show()"
   ]
  },
  {
   "cell_type": "markdown",
   "id": "a57be606",
   "metadata": {},
   "source": [
    "Данные о событиях до 1 августа представлены слабо, поскольку они не одинаково полные за весь период. Поэтому ограничим период анлиза данных для лучшей визуализации с 31 июля до 8 августа."
   ]
  },
  {
   "cell_type": "code",
   "execution_count": 75,
   "id": "3fd35880",
   "metadata": {},
   "outputs": [
    {
     "data": {
      "text/html": [
       "<iframe\n",
       "    scrolling=\"no\"\n",
       "    width=\"1020px\"\n",
       "    height=\"720\"\n",
       "    src=\"iframe_figures/figure_75.html\"\n",
       "    frameborder=\"0\"\n",
       "    allowfullscreen\n",
       "></iframe>\n"
      ]
     },
     "metadata": {},
     "output_type": "display_data"
    }
   ],
   "source": [
    "\n",
    "fig = px.histogram(df, \n",
    "                   x='event_datetime', \n",
    "                   color='event_type',\n",
    "                   barmode='group',\n",
    "                   template='xgridoff',\n",
    "                   title='Распределение событий c 31-07-2019 по 08-08-2019', \n",
    "                   range_x=['2019-07-31', '2019-08-08'])\n",
    "\n",
    "fig.update_layout(xaxis_title='Дата', \n",
    "                  yaxis_title='Количество событий', \n",
    "                  autosize=False, \n",
    "                  width=1000, \n",
    "                  height=700, \n",
    "                  legend=dict(x=0.05, y=-0.5), \n",
    "                  title={'font':dict(size=18)}, \n",
    "                  legend_title='Название события'\n",
    "                 )\n",
    "fig.show()"
   ]
  },
  {
   "cell_type": "markdown",
   "id": "d14fdfa0",
   "metadata": {},
   "source": [
    "**Вывод**\n",
    "\n",
    "   Сделать какие-либо значимые выводы по данным с  25 июля по 1 августа невозможно, так как данные представлены не полностью за этот период. <br>    Тогда как на протяжении недели с 1 августа 00:00 по 7 августа 22:00 ативность пользователей в течение дня распределяется равномерно: с утра постепенно растет в течение дня до 16:00 - 18:00, затем закономерно падает к 24:00. \n",
    "   \n",
    "   Итак, мы обладаем полноценными данными только за период с 1 по 7 августа включительно, поэтому в дальнейшем корректного анализа данных будем использовать только это срез данных, отбросив предыдущие даты."
   ]
  },
  {
   "cell_type": "markdown",
   "id": "9b0384cc",
   "metadata": {},
   "source": [
    "А также посмотрим много ли событий и пользователей мы потеряли, отбросив старые данные."
   ]
  },
  {
   "cell_type": "code",
   "execution_count": 76,
   "id": "2c2358ac",
   "metadata": {},
   "outputs": [
    {
     "name": "stdout",
     "output_type": "stream",
     "text": [
      "Всего событий в логе: 243713\n",
      "\n",
      "Всего пользователей в логе: 7551\n",
      "\n",
      "Среднее количество событий на одного пользователя: 20\n",
      "\n",
      "Период данных: с 2019-07-25 по 2019-08-07\n"
     ]
    }
   ],
   "source": [
    "# первоначальные данные о логах\n",
    "logs_users_info(df, initial_total_events, initial_total_users, initial_avg_events)"
   ]
  },
  {
   "cell_type": "code",
   "execution_count": 77,
   "id": "27013730",
   "metadata": {},
   "outputs": [],
   "source": [
    "# сделаем срез данных за выбранных период\n",
    "df = df.query('event_datetime > \"2019-08-01\" and event_datetime < \"2019-08-08\"').reset_index()"
   ]
  },
  {
   "cell_type": "code",
   "execution_count": 78,
   "id": "e217e197",
   "metadata": {},
   "outputs": [],
   "source": [
    "# расчет событий, пользователей и среднего количества для обновленных данных\n",
    "correct_total_events = df['event_type'].count()\n",
    "correct_total_users = df['device_id'].nunique()\n",
    "correct_avg_events = int(df.groupby('device_id').agg({'event_type':'count'}).median())"
   ]
  },
  {
   "cell_type": "code",
   "execution_count": 79,
   "id": "02f649e9",
   "metadata": {},
   "outputs": [
    {
     "name": "stdout",
     "output_type": "stream",
     "text": [
      "Всего событий в логе: 240887\n",
      "\n",
      "Всего пользователей в логе: 7534\n",
      "\n",
      "Среднее количество событий на одного пользователя: 19\n",
      "\n",
      "Период данных: с 2019-08-01 по 2019-08-07\n"
     ]
    }
   ],
   "source": [
    "# обновленный срез данных\n",
    "logs_users_info(df, correct_total_events, correct_total_users, correct_avg_events)"
   ]
  },
  {
   "cell_type": "markdown",
   "id": "710cc553",
   "metadata": {},
   "source": [
    "Произведем расчет отрезанных данных:"
   ]
  },
  {
   "cell_type": "code",
   "execution_count": 80,
   "id": "4f08ca1e",
   "metadata": {},
   "outputs": [
    {
     "name": "stdout",
     "output_type": "stream",
     "text": [
      "Отбросили 2826 событий в логе, что составляет 1.16% от первоначальных данных\n",
      "\n",
      "Отбросили 17 пользователей в логе, что составляет 0.23% от первоначальных данных\n",
      "\n",
      "Среднее количество событий на одного пользователя в логе уменьшилось на: 1\n"
     ]
    }
   ],
   "source": [
    "print(f\"Отбросили {initial_total_events - correct_total_events} событий в логе\"\n",
    "      f\", что составляет {round((1 - correct_total_events / initial_total_events) * 100, 2)}% от первоначальных данных\")\n",
    "print()\n",
    "print(f\"Отбросили {initial_total_users - correct_total_users} пользователей в логе\"\n",
    "      f\", что составляет {round((1 - correct_total_users / initial_total_users) * 100, 2)}% от первоначальных данных\")\n",
    "print()\n",
    "print(f\"Среднее количество событий на одного пользователя в логе уменьшилось на: {initial_avg_events - correct_avg_events}\")"
   ]
  },
  {
   "cell_type": "markdown",
   "id": "00d8b2ea",
   "metadata": {},
   "source": [
    "Проверим, что пользователи всех трех тестовых групп остались в данных."
   ]
  },
  {
   "cell_type": "code",
   "execution_count": 81,
   "id": "5e6cfb90",
   "metadata": {},
   "outputs": [
    {
     "data": {
      "text/html": [
       "<iframe\n",
       "    scrolling=\"no\"\n",
       "    width=\"1020px\"\n",
       "    height=\"720\"\n",
       "    src=\"iframe_figures/figure_81.html\"\n",
       "    frameborder=\"0\"\n",
       "    allowfullscreen\n",
       "></iframe>\n"
      ]
     },
     "metadata": {},
     "output_type": "display_data"
    }
   ],
   "source": [
    "fig = px.histogram(df, \n",
    "                   x='event_datetime', \n",
    "                   color='test_group',\n",
    "                   barmode='group',\n",
    "                   template='xgridoff',\n",
    "                   title='Распределение тест-групп по датам'\n",
    "                  )\n",
    "\n",
    "fig.update_layout(xaxis_title='Дата', \n",
    "                  yaxis_title='Количество пользователей в тест-группе', \n",
    "                  autosize=False, \n",
    "                  width=1000, \n",
    "                  height=700, \n",
    "                  title={'font':dict(size=18)}, \n",
    "                  legend_title='Тест-группа'\n",
    "                 )\n",
    "fig.update_xaxes(dtick='d1')\n",
    "fig.show()"
   ]
  },
  {
   "cell_type": "markdown",
   "id": "292b3eac",
   "metadata": {},
   "source": [
    "**Вывод**\n",
    "\n",
    "В результате изучения и проверки логов был обнаружен период неполноценных данных с 25 июля по 1 августа. Данные представлены в полном объеме только за период с 1 по 8 августа. Поэтому дальнейший анализ будем проводить на этом срезе данных. Отбросив малоинформативные данные мы потеряли всего 1.16% событий и 0.23% пользователей. \n",
    "\n",
    "Итоги полноценных данных:\n",
    "\n",
    " * Всего событий в логе: 240887,\n",
    " * Всего пользователей в логе: 7534,\n",
    " * Среднее количество событий на одного пользователя: 19. "
   ]
  },
  {
   "cell_type": "markdown",
   "id": "90877762",
   "metadata": {},
   "source": [
    "## Воронка событий\n",
    "\n",
    "В этом разделе будут выполнены следующие задачи:\n",
    "\n",
    "1. Определим какие события есть в логах и как часто они встречаются.\n",
    "2. Посчитаем, сколько пользователей совершали каждое из этих событий. Посчитаем долю тех пользователей, которые хоть раз совершали событие.\n",
    "3. Предположим, в каком порядке происходят события. Определим все ли события выстраиваются в последовательную цепочку. \n",
    "4. По воронке событий посчитаем, какая доля пользователей проходит на следующий шаг воронки (от числа пользователей на предыдущем). \n",
    "5. Определим на каком шаге теряется больше всего пользователей.\n",
    "6. Определим какая доля пользователей доходит от первого события до оплаты."
   ]
  },
  {
   "cell_type": "markdown",
   "id": "5aac344a",
   "metadata": {},
   "source": [
    "**1. Определим какие события есть в логах и как часто они встречаются.**"
   ]
  },
  {
   "cell_type": "code",
   "execution_count": 82,
   "id": "963c4ed6",
   "metadata": {},
   "outputs": [
    {
     "data": {
      "text/html": [
       "<div>\n",
       "<style scoped>\n",
       "    .dataframe tbody tr th:only-of-type {\n",
       "        vertical-align: middle;\n",
       "    }\n",
       "\n",
       "    .dataframe tbody tr th {\n",
       "        vertical-align: top;\n",
       "    }\n",
       "\n",
       "    .dataframe thead th {\n",
       "        text-align: right;\n",
       "    }\n",
       "</style>\n",
       "<table border=\"1\" class=\"dataframe\">\n",
       "  <thead>\n",
       "    <tr style=\"text-align: right;\">\n",
       "      <th></th>\n",
       "      <th>event_type</th>\n",
       "      <th>event_count</th>\n",
       "    </tr>\n",
       "  </thead>\n",
       "  <tbody>\n",
       "    <tr>\n",
       "      <th>0</th>\n",
       "      <td>visit_main_screen</td>\n",
       "      <td>117328</td>\n",
       "    </tr>\n",
       "    <tr>\n",
       "      <th>1</th>\n",
       "      <td>views_product</td>\n",
       "      <td>46333</td>\n",
       "    </tr>\n",
       "    <tr>\n",
       "      <th>2</th>\n",
       "      <td>views_cart_screen</td>\n",
       "      <td>42303</td>\n",
       "    </tr>\n",
       "    <tr>\n",
       "      <th>3</th>\n",
       "      <td>successful_payment</td>\n",
       "      <td>33918</td>\n",
       "    </tr>\n",
       "    <tr>\n",
       "      <th>4</th>\n",
       "      <td>views_tutorial</td>\n",
       "      <td>1005</td>\n",
       "    </tr>\n",
       "  </tbody>\n",
       "</table>\n",
       "</div>"
      ],
      "text/plain": [
       "           event_type  event_count\n",
       "0  visit_main_screen   117328     \n",
       "1  views_product       46333      \n",
       "2  views_cart_screen   42303      \n",
       "3  successful_payment  33918      \n",
       "4  views_tutorial      1005       "
      ]
     },
     "execution_count": 82,
     "metadata": {},
     "output_type": "execute_result"
    }
   ],
   "source": [
    "(\n",
    "    df\n",
    "    .pivot_table(index='event_type', \n",
    "                 values='device_id', \n",
    "                 aggfunc='count')\n",
    "    .rename(columns={'device_id':'event_count'})\n",
    "    .sort_values(by='event_count', ascending=False)\n",
    "    .reset_index()\n",
    ")"
   ]
  },
  {
   "cell_type": "code",
   "execution_count": 83,
   "id": "afd8a80d",
   "metadata": {},
   "outputs": [
    {
     "data": {
      "text/html": [
       "<iframe\n",
       "    scrolling=\"no\"\n",
       "    width=\"1020px\"\n",
       "    height=\"520\"\n",
       "    src=\"iframe_figures/figure_83.html\"\n",
       "    frameborder=\"0\"\n",
       "    allowfullscreen\n",
       "></iframe>\n"
      ]
     },
     "metadata": {},
     "output_type": "display_data"
    }
   ],
   "source": [
    "# построим график распределения событйи в логах\n",
    "fig = px.bar((df\n",
    "              .pivot_table(index='event_type', \n",
    "                           values='device_id', \n",
    "                           aggfunc='count')\n",
    "              .rename(columns={'device_id':'event_count'})\n",
    "              .sort_values(by='event_count', ascending=False)\n",
    "              .reset_index()),\n",
    "             x='event_count', \n",
    "             y='event_type', \n",
    "             color='event_type', \n",
    "             text='event_count',\n",
    "             template='simple_white', \n",
    "             title='Распределение событий в логах'\n",
    "            )\n",
    "\n",
    "fig.update_layout(xaxis_title='Количество событий', \n",
    "                  yaxis_title='Событие', \n",
    "                  autosize=False,\n",
    "                  showlegend=False,\n",
    "                  width=1000,\n",
    "                  height=500, \n",
    "                  title={'font':dict(size=18), 'x':0.45})\n",
    "fig.show()"
   ]
  },
  {
   "cell_type": "markdown",
   "id": "3fc90f22",
   "metadata": {},
   "source": [
    "**2. Посчитаем, сколько пользователей совершали каждое из этих событий. Посчитаем долю тех пользователей, которые хоть раз совершали событие.**"
   ]
  },
  {
   "cell_type": "code",
   "execution_count": 84,
   "id": "4fc37209",
   "metadata": {},
   "outputs": [
    {
     "data": {
      "text/html": [
       "<div>\n",
       "<style scoped>\n",
       "    .dataframe tbody tr th:only-of-type {\n",
       "        vertical-align: middle;\n",
       "    }\n",
       "\n",
       "    .dataframe tbody tr th {\n",
       "        vertical-align: top;\n",
       "    }\n",
       "\n",
       "    .dataframe thead th {\n",
       "        text-align: right;\n",
       "    }\n",
       "</style>\n",
       "<table border=\"1\" class=\"dataframe\">\n",
       "  <thead>\n",
       "    <tr style=\"text-align: right;\">\n",
       "      <th></th>\n",
       "      <th>event_type</th>\n",
       "      <th>users_count</th>\n",
       "      <th>share_all_users</th>\n",
       "    </tr>\n",
       "  </thead>\n",
       "  <tbody>\n",
       "    <tr>\n",
       "      <th>0</th>\n",
       "      <td>visit_main_screen</td>\n",
       "      <td>7419</td>\n",
       "      <td>98.47</td>\n",
       "    </tr>\n",
       "    <tr>\n",
       "      <th>1</th>\n",
       "      <td>views_product</td>\n",
       "      <td>4593</td>\n",
       "      <td>60.96</td>\n",
       "    </tr>\n",
       "    <tr>\n",
       "      <th>2</th>\n",
       "      <td>views_cart_screen</td>\n",
       "      <td>3734</td>\n",
       "      <td>49.56</td>\n",
       "    </tr>\n",
       "    <tr>\n",
       "      <th>3</th>\n",
       "      <td>successful_payment</td>\n",
       "      <td>3539</td>\n",
       "      <td>46.97</td>\n",
       "    </tr>\n",
       "    <tr>\n",
       "      <th>4</th>\n",
       "      <td>views_tutorial</td>\n",
       "      <td>840</td>\n",
       "      <td>11.15</td>\n",
       "    </tr>\n",
       "  </tbody>\n",
       "</table>\n",
       "</div>"
      ],
      "text/plain": [
       "           event_type  users_count  share_all_users\n",
       "0  visit_main_screen   7419         98.47          \n",
       "1  views_product       4593         60.96          \n",
       "2  views_cart_screen   3734         49.56          \n",
       "3  successful_payment  3539         46.97          \n",
       "4  views_tutorial      840          11.15          "
      ]
     },
     "execution_count": 84,
     "metadata": {},
     "output_type": "execute_result"
    }
   ],
   "source": [
    "count_users_in_event = (\n",
    "    df\n",
    "    .pivot_table(index='event_type', \n",
    "                 values='device_id', \n",
    "                 aggfunc='nunique')\n",
    "    .rename(columns={'device_id':'users_count'})\n",
    "    .sort_values(by='users_count', ascending=False)\n",
    "    .reset_index()\n",
    ")\n",
    "count_users_in_event['share_all_users'] = (count_users_in_event['users_count'] / \n",
    "                                           df['device_id'].nunique() * \n",
    "                                           100\n",
    "                                          ).round(2)\n",
    "count_users_in_event"
   ]
  },
  {
   "cell_type": "code",
   "execution_count": 85,
   "id": "45365b7d",
   "metadata": {},
   "outputs": [
    {
     "data": {
      "text/html": [
       "<iframe\n",
       "    scrolling=\"no\"\n",
       "    width=\"1020px\"\n",
       "    height=\"520\"\n",
       "    src=\"iframe_figures/figure_85.html\"\n",
       "    frameborder=\"0\"\n",
       "    allowfullscreen\n",
       "></iframe>\n"
      ]
     },
     "metadata": {},
     "output_type": "display_data"
    }
   ],
   "source": [
    "# построим график доли пользователей, совершивших событие\n",
    "fig = px.bar(count_users_in_event,\n",
    "             x='users_count', \n",
    "             y='event_type', \n",
    "             color='event_type', \n",
    "             text='share_all_users',\n",
    "             template='simple_white', \n",
    "             title='Доля пользователей, совершивших событие')\n",
    "\n",
    "fig.update_layout(xaxis_title='Количество пользователей', \n",
    "                  yaxis_title='Событие', \n",
    "                  autosize=False,\n",
    "                  showlegend=False,\n",
    "                  width=1000,\n",
    "                  height=500, \n",
    "                  title={'font':dict(size=18), 'x':0.5})\n",
    "fig.show()"
   ]
  },
  {
   "cell_type": "markdown",
   "id": "bf3541f0",
   "metadata": {},
   "source": [
    "**Вывод**\n",
    "\n",
    "В процессе анализа выяснили:\n",
    "\n",
    " 1. 7419 пользователей увидели главную страницу приложения - это 98.48% всех пользователей. Столь высокий процент может быть связан с тем, что большинство пользователей заходит непосредственно через приложение и автоматом видят главную страницу. Это первый шаг воронки событий.\n",
    " 2. 4593 пользователя заходили на страницу товара - это 60.96% всех пользователей. На страницу товара пользователь может попасть и минуя главную страницу, перейдя по ссылке на товар из поисковика. Тем не менее 37.52% пользователей, просмотревших главную страницу, не переходят на страницу товара. А это может сигнализировать о том, что главная страница не \"зацепила\" потенциального покупателя. Необходимо обратить на это внимание. Этот шаг можно смело считать вторым этапом в воронке событий.\n",
    " 3. 3734 пользователя заходили на страницу \"Корзина\" - это 49.56% всех пользователей. С одной стороны то, что пользователь перешел на страницу интересующего его товара и не дошел до корзины - вполне закономерно: посмотрел описание и передумал. А, с другой стороны, стоит обратить внимание на то, что 11.4% пользователей отваливаются на шаге просмотра страницы товара: достаточно ли удобное и полноценное описание товара, хорошо ли видна кнопка \"Добавить в корзину\". Но, если в приложении реализована возможность быстрой оплаты, то часть покупателей может сразу перескочить через этот шаг. Тем не менее этот шаг является третьим этапом в воронке событий.\n",
    " 4. 3539 пользователя дошли до успешной оплаты - это 46.97% всех пользователей. Решение о покупке после добавления в корзину отклоняют только 2.59% пользователей. И это заключительный - четвертый этап воронки событий.\n",
    " 5. 840 пользователей просмотрели страницу \"Руководство пользователя\" - это 11.15% всех пользователей. Данный шаг вообще никак не взаимосвязан и, соответственно, никак не влияет на какой-либо из предыдущих шагов. Поэтому данный шаг исключим из воронки событий."
   ]
  },
  {
   "cell_type": "markdown",
   "id": "a2137277",
   "metadata": {},
   "source": [
    "**3. Построим воронку событий.**"
   ]
  },
  {
   "cell_type": "markdown",
   "id": "c2d90efd",
   "metadata": {},
   "source": [
    "Для этого приведем дынные таблицы count_users_in_event в соответствии с шагами воронки, определенными ранее."
   ]
  },
  {
   "cell_type": "code",
   "execution_count": 86,
   "id": "ebab3812",
   "metadata": {},
   "outputs": [
    {
     "data": {
      "text/html": [
       "<div>\n",
       "<style scoped>\n",
       "    .dataframe tbody tr th:only-of-type {\n",
       "        vertical-align: middle;\n",
       "    }\n",
       "\n",
       "    .dataframe tbody tr th {\n",
       "        vertical-align: top;\n",
       "    }\n",
       "\n",
       "    .dataframe thead th {\n",
       "        text-align: right;\n",
       "    }\n",
       "</style>\n",
       "<table border=\"1\" class=\"dataframe\">\n",
       "  <thead>\n",
       "    <tr style=\"text-align: right;\">\n",
       "      <th></th>\n",
       "      <th>event_type</th>\n",
       "      <th>users_count</th>\n",
       "    </tr>\n",
       "  </thead>\n",
       "  <tbody>\n",
       "    <tr>\n",
       "      <th>0</th>\n",
       "      <td>visit_main_screen</td>\n",
       "      <td>7419</td>\n",
       "    </tr>\n",
       "    <tr>\n",
       "      <th>1</th>\n",
       "      <td>views_product</td>\n",
       "      <td>4593</td>\n",
       "    </tr>\n",
       "    <tr>\n",
       "      <th>2</th>\n",
       "      <td>views_cart_screen</td>\n",
       "      <td>3734</td>\n",
       "    </tr>\n",
       "    <tr>\n",
       "      <th>3</th>\n",
       "      <td>successful_payment</td>\n",
       "      <td>3539</td>\n",
       "    </tr>\n",
       "  </tbody>\n",
       "</table>\n",
       "</div>"
      ],
      "text/plain": [
       "           event_type  users_count\n",
       "0  visit_main_screen   7419       \n",
       "1  views_product       4593       \n",
       "2  views_cart_screen   3734       \n",
       "3  successful_payment  3539       "
      ]
     },
     "execution_count": 86,
     "metadata": {},
     "output_type": "execute_result"
    }
   ],
   "source": [
    "count_users_in_event = count_users_in_event.loc[:, :'users_count']\n",
    "count_users_in_event = count_users_in_event.loc[:3]\n",
    "count_users_in_event"
   ]
  },
  {
   "cell_type": "code",
   "execution_count": 87,
   "id": "9f08ba8e",
   "metadata": {},
   "outputs": [],
   "source": [
    "# расчет конверсии в шаг\n",
    "count_users_in_event['share_of_previous'] = (count_users_in_event['users_count'] / \n",
    "                                             count_users_in_event['users_count'].shift(periods=1) * 100).round(2)\n",
    "# доля пользователей, успешно дошедших до оплаты с первого шага\n",
    "count_users_in_event['share_of_initial'] = (count_users_in_event['users_count'] / \n",
    "                                          count_users_in_event['users_count'].loc[0] * 100).fillna(0).round(2)"
   ]
  },
  {
   "cell_type": "code",
   "execution_count": 88,
   "id": "6c644cbb",
   "metadata": {},
   "outputs": [
    {
     "data": {
      "text/html": [
       "<div>\n",
       "<style scoped>\n",
       "    .dataframe tbody tr th:only-of-type {\n",
       "        vertical-align: middle;\n",
       "    }\n",
       "\n",
       "    .dataframe tbody tr th {\n",
       "        vertical-align: top;\n",
       "    }\n",
       "\n",
       "    .dataframe thead th {\n",
       "        text-align: right;\n",
       "    }\n",
       "</style>\n",
       "<table border=\"1\" class=\"dataframe\">\n",
       "  <thead>\n",
       "    <tr style=\"text-align: right;\">\n",
       "      <th></th>\n",
       "      <th>event_type</th>\n",
       "      <th>users_count</th>\n",
       "      <th>share_of_previous</th>\n",
       "      <th>share_of_initial</th>\n",
       "    </tr>\n",
       "  </thead>\n",
       "  <tbody>\n",
       "    <tr>\n",
       "      <th>0</th>\n",
       "      <td>visit_main_screen</td>\n",
       "      <td>7419</td>\n",
       "      <td>NaN</td>\n",
       "      <td>100.00</td>\n",
       "    </tr>\n",
       "    <tr>\n",
       "      <th>1</th>\n",
       "      <td>views_product</td>\n",
       "      <td>4593</td>\n",
       "      <td>61.91</td>\n",
       "      <td>61.91</td>\n",
       "    </tr>\n",
       "    <tr>\n",
       "      <th>2</th>\n",
       "      <td>views_cart_screen</td>\n",
       "      <td>3734</td>\n",
       "      <td>81.30</td>\n",
       "      <td>50.33</td>\n",
       "    </tr>\n",
       "    <tr>\n",
       "      <th>3</th>\n",
       "      <td>successful_payment</td>\n",
       "      <td>3539</td>\n",
       "      <td>94.78</td>\n",
       "      <td>47.70</td>\n",
       "    </tr>\n",
       "  </tbody>\n",
       "</table>\n",
       "</div>"
      ],
      "text/plain": [
       "           event_type  users_count  share_of_previous  share_of_initial\n",
       "0  visit_main_screen   7419        NaN                 100.00          \n",
       "1  views_product       4593         61.91              61.91           \n",
       "2  views_cart_screen   3734         81.30              50.33           \n",
       "3  successful_payment  3539         94.78              47.70           "
      ]
     },
     "execution_count": 88,
     "metadata": {},
     "output_type": "execute_result"
    }
   ],
   "source": [
    "count_users_in_event"
   ]
  },
  {
   "cell_type": "code",
   "execution_count": 89,
   "id": "07662cfd",
   "metadata": {},
   "outputs": [
    {
     "data": {
      "text/html": [
       "<iframe\n",
       "    scrolling=\"no\"\n",
       "    width=\"100%\"\n",
       "    height=\"545px\"\n",
       "    src=\"iframe_figures/figure_89.html\"\n",
       "    frameborder=\"0\"\n",
       "    allowfullscreen\n",
       "></iframe>\n"
      ]
     },
     "metadata": {},
     "output_type": "display_data"
    }
   ],
   "source": [
    "# построим воронку событий с долей пользователей, переходящих на следующий шаг - of previous\n",
    "# и долей пользователей дошедших от первого до последнего шага - of initial\n",
    "\n",
    "fig = (\n",
    "    go.Figure(\n",
    "        go.Funnel( \n",
    "            y=count_users_in_event['event_type'], \n",
    "            x=count_users_in_event['users_count'], \n",
    "            textposition = \"inside\", \n",
    "            textinfo = \"value+percent previous\", \n",
    "            marker = {\"color\": [\"#2374b3\", \"#fb8504\", \"#169109\", \"#c40213\"]}\n",
    "        )\n",
    "    )\n",
    ")\n",
    "fig.show() "
   ]
  },
  {
   "cell_type": "markdown",
   "id": "cd8f3fed",
   "metadata": {},
   "source": [
    "**Вывод**\n",
    "\n",
    "Воронка событий показала, что на этапе \"Просмотра главной страницы\" теряется больше всего пользователей - 38% не доходит до шага \"Просмотр страницы товара\". При этом, можно утверждать, что пользователь добавивший товар в корзину - в 95% случаев успешнно оплатит товара. От первого и до последнего шага доходит 47.7% пользователей.\n",
    "\n",
    "Итого:\n",
    "   1. шаг `visit_main_screen` совершили 7419 пользователей,\n",
    "   2. шаг `views_product` совершили 4593 пользователей - это 61.9% к предыдущему и первоначальному шагу,\n",
    "   3. шаг `views_cart_screen` совершили\t3734 пользователей - это 81.3% к предыдущему и 50.3% к первоначальному шагу,\n",
    "   4. шаг `successful_payment` совершили 3539 пользователей - это 94.8% к предыдущему и 47.7% к первоначальному шагу."
   ]
  },
  {
   "cell_type": "markdown",
   "id": "5f75f66b",
   "metadata": {},
   "source": [
    "Посмотрим на воронку событий отдельно по каждой тестируемой группе. Возможно, они отражают туже динамику перехода между событиями общей воронки или, наборот, демонстрируют свой собственный путь."
   ]
  },
  {
   "cell_type": "code",
   "execution_count": 90,
   "id": "d971586e",
   "metadata": {},
   "outputs": [
    {
     "data": {
      "text/html": [
       "<div>\n",
       "<style scoped>\n",
       "    .dataframe tbody tr th:only-of-type {\n",
       "        vertical-align: middle;\n",
       "    }\n",
       "\n",
       "    .dataframe tbody tr th {\n",
       "        vertical-align: top;\n",
       "    }\n",
       "\n",
       "    .dataframe thead th {\n",
       "        text-align: right;\n",
       "    }\n",
       "</style>\n",
       "<table border=\"1\" class=\"dataframe\">\n",
       "  <thead>\n",
       "    <tr style=\"text-align: right;\">\n",
       "      <th>test_group</th>\n",
       "      <th>event_type</th>\n",
       "      <th>A1</th>\n",
       "      <th>A2</th>\n",
       "      <th>B</th>\n",
       "    </tr>\n",
       "  </thead>\n",
       "  <tbody>\n",
       "    <tr>\n",
       "      <th>0</th>\n",
       "      <td>visit_main_screen</td>\n",
       "      <td>2450</td>\n",
       "      <td>2476</td>\n",
       "      <td>2493</td>\n",
       "    </tr>\n",
       "    <tr>\n",
       "      <th>1</th>\n",
       "      <td>views_product</td>\n",
       "      <td>1542</td>\n",
       "      <td>1520</td>\n",
       "      <td>1531</td>\n",
       "    </tr>\n",
       "    <tr>\n",
       "      <th>2</th>\n",
       "      <td>views_cart_screen</td>\n",
       "      <td>1266</td>\n",
       "      <td>1238</td>\n",
       "      <td>1230</td>\n",
       "    </tr>\n",
       "    <tr>\n",
       "      <th>3</th>\n",
       "      <td>successful_payment</td>\n",
       "      <td>1200</td>\n",
       "      <td>1158</td>\n",
       "      <td>1181</td>\n",
       "    </tr>\n",
       "  </tbody>\n",
       "</table>\n",
       "</div>"
      ],
      "text/plain": [
       "test_group          event_type    A1    A2     B\n",
       "0           visit_main_screen   2450  2476  2493\n",
       "1           views_product       1542  1520  1531\n",
       "2           views_cart_screen   1266  1238  1230\n",
       "3           successful_payment  1200  1158  1181"
      ]
     },
     "execution_count": 90,
     "metadata": {},
     "output_type": "execute_result"
    }
   ],
   "source": [
    "# соберем данные о пользователях по каждой тестируемой группе\n",
    "count_users_in_event_by_testgroup = (\n",
    "    df\n",
    "    .pivot_table(index='event_type',\n",
    "                 columns='test_group',\n",
    "                 values='device_id', \n",
    "                 aggfunc='nunique')\n",
    "    .sort_values(by='A1', ascending=False)\n",
    "    .reset_index()\n",
    ")\n",
    "\n",
    "# уберем шаг views_tutorial\n",
    "count_users_in_event_by_testgroup = count_users_in_event_by_testgroup.loc[:3]\n",
    "count_users_in_event_by_testgroup"
   ]
  },
  {
   "cell_type": "code",
   "execution_count": 91,
   "id": "d1b4b19c",
   "metadata": {},
   "outputs": [
    {
     "data": {
      "text/html": [
       "<iframe\n",
       "    scrolling=\"no\"\n",
       "    width=\"100%\"\n",
       "    height=\"545px\"\n",
       "    src=\"iframe_figures/figure_91.html\"\n",
       "    frameborder=\"0\"\n",
       "    allowfullscreen\n",
       "></iframe>\n"
      ]
     },
     "metadata": {},
     "output_type": "display_data"
    }
   ],
   "source": [
    "# построим составной график воронки событий по группам теста\n",
    "fig = go.Figure()\n",
    "\n",
    "fig.add_trace(go.Funnel(\n",
    "    name = 'A1',\n",
    "    y = count_users_in_event_by_testgroup['event_type'],\n",
    "    x = count_users_in_event_by_testgroup['A1'],\n",
    "    textinfo = \"value+percent previous\", \n",
    "    marker = {\"color\": \"#2374b3\"}))\n",
    "\n",
    "fig.add_trace(go.Funnel(\n",
    "    name = 'A2',\n",
    "    orientation = \"h\",\n",
    "    y = count_users_in_event_by_testgroup['event_type'],\n",
    "    x = count_users_in_event_by_testgroup['A2'],\n",
    "    textposition = \"inside\",\n",
    "    textinfo = \"value+percent previous\", \n",
    "    marker = {\"color\": \"#fb8504\"}))\n",
    "\n",
    "fig.add_trace(go.Funnel(\n",
    "    name = 'B',\n",
    "    orientation = \"h\",\n",
    "    y = count_users_in_event_by_testgroup['event_type'],\n",
    "    x = count_users_in_event_by_testgroup['B'],\n",
    "    textposition = \"inside\",\n",
    "    textinfo = \"value+percent previous\", \n",
    "    marker = {\"color\": \"#169109\"}))\n",
    "\n",
    "fig.show()"
   ]
  },
  {
   "cell_type": "markdown",
   "id": "cb42b5fb",
   "metadata": {},
   "source": [
    "**Вывод**\n",
    "\n",
    "   Составная воронка событий по каждой тестируемой группе демонстрирует в общем-то такую же динамику переходы от шага к шагу с небольшим колебанием доли в пределах 1-1.5%, что и общая воронка событий. Тем самым подтверждается факт, что на этапе просмотра главной страницы теряется максимальная доля пользователей. <br> Возможно, причина кроется в первом зрительном эффекте, который главная страница производит на пользователя. Стоит обратить внимание дизайнеров и маркетологов и сделать главную страницу более привлекательной и \"вкусной\" для пользователей. Возможно пользователем не хватает \"цепляющих\" баннеров и акцентов на акционные товары. Нельзя исключать и вариант того, что на разных операционных системах устройств пользователей, интерфейс приложения отображается по-разному. Также не стоит исключать факт того, что в приложении может быть реализована система быстрой оплаты и с главной страницы можно купить тот или иной товар, минуя все последующие шаги. А может быть дело и в шрифте, который решили изменить дизайнеры. <br> Далее проверим, состоятельна ли их гипотеза?"
   ]
  },
  {
   "cell_type": "markdown",
   "id": "5ca25ea9",
   "metadata": {},
   "source": [
    "## Анализ результатов эксперимента\n",
    "\n",
    "На данном этапе сделаем следующее:\n",
    "\n",
    "1. Определим сколько пользователей в каждой экспериментальной группе.\n",
    "2. Проверим корректность всех механизмов и расчётов  в контрольных группах (А1 и А2) через проверку статистической разницы между выборками этих групп.\n",
    "3. Выберем самое популярное событие.\n",
    "4. Посчитаем число пользователей и долю, совершивших самое популярное событие в каждой из контрольных групп. Проверим статистически достоверно ли отличие между группами. \n",
    "5. Повторим пункт 4 для всех остальных событий. Проверим, можно ли утверждать, что разбиение на группы работает корректно?\n",
    "6. Проведем аналогичные расчеты для экспериментальной группы (В). Сравним результаты экспериментальной группы с каждой из контрольных групп в отдельности по каждому событию. Также сравним результаты экспериментальной группы с результататми объединённой контрольной группой. \n",
    "7. Сделаем выводы из эксперимента."
   ]
  },
  {
   "cell_type": "markdown",
   "id": "4613ccfb",
   "metadata": {},
   "source": [
    "Найдем общее количество пользователей в каждой тест-группе. И добавим строку с расчетом пользователей в объедененной контрольной группе:"
   ]
  },
  {
   "cell_type": "code",
   "execution_count": 92,
   "id": "ac9b35b0",
   "metadata": {},
   "outputs": [
    {
     "data": {
      "text/plain": [
       "test_group\n",
       "A1       2484\n",
       "A2       2513\n",
       "B        2537\n",
       "A1+A2    4997\n",
       "Name: device_id, dtype: int64"
      ]
     },
     "execution_count": 92,
     "metadata": {},
     "output_type": "execute_result"
    }
   ],
   "source": [
    "total_count_users_by_testgroup = (\n",
    "    df.groupby('test_group')['device_id'].nunique()\n",
    ")\n",
    "\n",
    "total_count_users_by_testgroup['A1+A2'] = total_count_users_by_testgroup['A1'] + total_count_users_by_testgroup['A2']\n",
    "total_count_users_by_testgroup"
   ]
  },
  {
   "cell_type": "markdown",
   "id": "21b81d9a",
   "metadata": {},
   "source": [
    "Данные о пользователях по каждой тестируемой группе лежат в переменной `count_users_in_event_by_testgroup`. Добавим столбец с объединенной контрольной группой."
   ]
  },
  {
   "cell_type": "code",
   "execution_count": 93,
   "id": "5d2dd6de",
   "metadata": {},
   "outputs": [
    {
     "data": {
      "text/html": [
       "<div>\n",
       "<style scoped>\n",
       "    .dataframe tbody tr th:only-of-type {\n",
       "        vertical-align: middle;\n",
       "    }\n",
       "\n",
       "    .dataframe tbody tr th {\n",
       "        vertical-align: top;\n",
       "    }\n",
       "\n",
       "    .dataframe thead th {\n",
       "        text-align: right;\n",
       "    }\n",
       "</style>\n",
       "<table border=\"1\" class=\"dataframe\">\n",
       "  <thead>\n",
       "    <tr style=\"text-align: right;\">\n",
       "      <th>test_group</th>\n",
       "      <th>event_type</th>\n",
       "      <th>A1</th>\n",
       "      <th>A2</th>\n",
       "      <th>B</th>\n",
       "      <th>A1+A2</th>\n",
       "    </tr>\n",
       "  </thead>\n",
       "  <tbody>\n",
       "    <tr>\n",
       "      <th>0</th>\n",
       "      <td>visit_main_screen</td>\n",
       "      <td>2450</td>\n",
       "      <td>2476</td>\n",
       "      <td>2493</td>\n",
       "      <td>4926</td>\n",
       "    </tr>\n",
       "    <tr>\n",
       "      <th>1</th>\n",
       "      <td>views_product</td>\n",
       "      <td>1542</td>\n",
       "      <td>1520</td>\n",
       "      <td>1531</td>\n",
       "      <td>3062</td>\n",
       "    </tr>\n",
       "    <tr>\n",
       "      <th>2</th>\n",
       "      <td>views_cart_screen</td>\n",
       "      <td>1266</td>\n",
       "      <td>1238</td>\n",
       "      <td>1230</td>\n",
       "      <td>2504</td>\n",
       "    </tr>\n",
       "    <tr>\n",
       "      <th>3</th>\n",
       "      <td>successful_payment</td>\n",
       "      <td>1200</td>\n",
       "      <td>1158</td>\n",
       "      <td>1181</td>\n",
       "      <td>2358</td>\n",
       "    </tr>\n",
       "  </tbody>\n",
       "</table>\n",
       "</div>"
      ],
      "text/plain": [
       "test_group          event_type    A1    A2     B  A1+A2\n",
       "0           visit_main_screen   2450  2476  2493  4926 \n",
       "1           views_product       1542  1520  1531  3062 \n",
       "2           views_cart_screen   1266  1238  1230  2504 \n",
       "3           successful_payment  1200  1158  1181  2358 "
      ]
     },
     "execution_count": 93,
     "metadata": {},
     "output_type": "execute_result"
    }
   ],
   "source": [
    "count_users_in_event_by_testgroup['A1+A2'] = (\n",
    "    count_users_in_event_by_testgroup['A1'] + \n",
    "    count_users_in_event_by_testgroup['A2']\n",
    ")\n",
    "count_users_in_event_by_testgroup"
   ]
  },
  {
   "cell_type": "markdown",
   "id": "9c598485",
   "metadata": {},
   "source": [
    "Поскольку критериями успешного A/A-теста являются:\n",
    "\n",
    "1. Количество пользователей в различных группах различается не более, чем на 1%;\n",
    "2. Попавший в одну из групп посетитель остаётся в этой группе до конца теста. Если пользователь видит разные версии исследуемой страницы в ходе одного исследования, неизвестно, какая именно повлияла на его решения. Значит, и результаты такого теста нельзя интерпретировать однозначно. \n",
    "\n",
    "Убедимся в том, что не было \"подглядования\" пользователей и каждая выборка состоит только из уникальных пользователей. А также проверим долю разницы количества пользователей в каждой выборках."
   ]
  },
  {
   "cell_type": "code",
   "execution_count": 94,
   "id": "7211cfe5",
   "metadata": {},
   "outputs": [],
   "source": [
    "def check_groups(group_1, group_2):\n",
    "    \"\"\"\n",
    "    функция находит массив пересекающихся значений и \n",
    "    подсчитывает долю разницы количества пользователей в двух группах\n",
    "    \"\"\"\n",
    "    intersect_list = np.intersect1d((df[df['test_group'] == group_1]['device_id']), \n",
    "                                    (df[df['test_group'] == group_2]['device_id']))\n",
    "    print('Количество пересекающихся пользователей в группах', group_1, 'и',  group_2, ':', intersect_list)\n",
    "    print('Разница в количестве пользователей в группах', group_1, 'и',  group_2, ':',\n",
    "          ('{:.1%}'.format(\n",
    "              1 -\n",
    "              df[df['test_group'] == group_1]['device_id']\n",
    "              .nunique() / \n",
    "              df[df['test_group'] == group_2]['device_id']\n",
    "              .nunique())\n",
    "          ))"
   ]
  },
  {
   "cell_type": "code",
   "execution_count": 95,
   "id": "80648d59",
   "metadata": {},
   "outputs": [
    {
     "name": "stdout",
     "output_type": "stream",
     "text": [
      "Количество пересекающихся пользователей в группах A1 и A2 : []\n",
      "Разница в количестве пользователей в группах A1 и A2 : 1.2%\n"
     ]
    }
   ],
   "source": [
    "check_groups(\"A1\", \"A2\")"
   ]
  },
  {
   "cell_type": "markdown",
   "id": "4646a522",
   "metadata": {},
   "source": [
    "Расчет показал, что пользователи в обеих контрольных группах уникальны, но есть небольшое превышение разницы в размерах выборок.\n",
    "Проверим статистическую разницу доли пользователей, совершивших каждое из событий в двух группах.\n",
    "\n",
    "**Сформулируем гипотезы:**\n",
    "\n",
    "* Нулевая гипотеза: доли пользователей, совершивших событие в группах НЕ различаются.\n",
    "* Альтернативная гипотеза: доли пользователей, совершивших событие в группах различаются."
   ]
  },
  {
   "cell_type": "code",
   "execution_count": 96,
   "id": "c89c0b7b",
   "metadata": {},
   "outputs": [],
   "source": [
    "def z_test(group1, group2, alpha):\n",
    "    '''\n",
    "    функция проверки гипотезы о равенстве долей пользователей, совершивших событие, в двух группах\n",
    "    '''\n",
    "    for i in count_users_in_event_by_testgroup.index:\n",
    "        # пропорция успехов в группах\n",
    "        p1 = count_users_in_event_by_testgroup[group1][i] / total_count_users_by_testgroup[group1]\n",
    "        p2 = count_users_in_event_by_testgroup[group2][i] / total_count_users_by_testgroup[group2]\n",
    "        # пропорция успехов в комбинированном датасете:\n",
    "        p_combined = (\n",
    "            (count_users_in_event_by_testgroup[group1][i] + \n",
    "             count_users_in_event_by_testgroup[group2][i]) / \n",
    "            (total_count_users_by_testgroup[group1] + \n",
    "             total_count_users_by_testgroup[group2])\n",
    "        )\n",
    "        # разница пропорций в группах\n",
    "        difference = p1 - p2 \n",
    "        # считаем статистику в ст.отклонениях стандартного нормального распределения\n",
    "        z_value = (difference / mth.sqrt(p_combined * \n",
    "                                         (1 - p_combined) * \n",
    "                                         (1 / total_count_users_by_testgroup[group1] + \n",
    "                                          1 / total_count_users_by_testgroup[group2])\n",
    "                                        ))\n",
    "        # задаем стандартное нормальное распределение (среднее 0, ст.отклонение 1)\n",
    "        distr = st.norm(0, 1)\n",
    "        p_value = (1 - distr.cdf(abs(z_value))) * 2\n",
    "        \n",
    "        print('Для события', count_users_in_event_by_testgroup['event_type'][i], 'p-значение = ', p_value)\n",
    "        if p_value < alpha:\n",
    "            print('Отвергаем нулевую гипотезу: между долями есть значимая разница')\n",
    "        else:\n",
    "            print('Не получилось отвергнуть нулевую гипотезу, нет оснований считать доли разными') \n",
    "        print()"
   ]
  },
  {
   "cell_type": "markdown",
   "id": "e18415fb",
   "metadata": {},
   "source": [
    "Для наглядности создадим функцию, строющую воронку событий для двух групп попарно:"
   ]
  },
  {
   "cell_type": "code",
   "execution_count": 97,
   "id": "cd701381",
   "metadata": {},
   "outputs": [],
   "source": [
    "def funnel_by_groups(group1, group2, color1, color2):\n",
    "    '''\n",
    "    функция строит воронку событий для каждой пары тест-групп\n",
    "    '''\n",
    "    fig = go.Figure()\n",
    "    fig.add_trace(go.Funnel(name = group1,\n",
    "                            y = count_users_in_event_by_testgroup['event_type'],\n",
    "                            x = count_users_in_event_by_testgroup[group1],\n",
    "                            textinfo = \"value+percent previous\", \n",
    "                            marker = {\"color\": color1}))\n",
    "    fig.add_trace(go.Funnel(name = group2,\n",
    "                            orientation = \"h\",\n",
    "                            y = count_users_in_event_by_testgroup['event_type'],\n",
    "                            x = count_users_in_event_by_testgroup[group2],\n",
    "                            textposition = \"inside\",\n",
    "                            textinfo = \"value+percent previous\", \n",
    "                            marker = {\"color\": color2}))\n",
    "    fig.show()"
   ]
  },
  {
   "cell_type": "markdown",
   "id": "dde26770",
   "metadata": {},
   "source": [
    "**Посмотрим на график и статистическую разницу между группами `A1 и A2`:**"
   ]
  },
  {
   "cell_type": "code",
   "execution_count": 98,
   "id": "8ec6c641",
   "metadata": {},
   "outputs": [
    {
     "data": {
      "text/html": [
       "<iframe\n",
       "    scrolling=\"no\"\n",
       "    width=\"100%\"\n",
       "    height=\"545px\"\n",
       "    src=\"iframe_figures/figure_98.html\"\n",
       "    frameborder=\"0\"\n",
       "    allowfullscreen\n",
       "></iframe>\n"
      ]
     },
     "metadata": {},
     "output_type": "display_data"
    },
    {
     "name": "stdout",
     "output_type": "stream",
     "text": [
      "Для события visit_main_screen p-значение =  0.7570597232046099\n",
      "Не получилось отвергнуть нулевую гипотезу, нет оснований считать доли разными\n",
      "\n",
      "Для события views_product p-значение =  0.2480954578522181\n",
      "Не получилось отвергнуть нулевую гипотезу, нет оснований считать доли разными\n",
      "\n",
      "Для события views_cart_screen p-значение =  0.22883372237997213\n",
      "Не получилось отвергнуть нулевую гипотезу, нет оснований считать доли разными\n",
      "\n",
      "Для события successful_payment p-значение =  0.11456679313141849\n",
      "Не получилось отвергнуть нулевую гипотезу, нет оснований считать доли разными\n",
      "\n"
     ]
    }
   ],
   "source": [
    "funnel_by_groups('A1', 'A2', \"#2374b3\", \"#fb8504\")\n",
    "z_test('A1', 'A2', 0.01)"
   ]
  },
  {
   "cell_type": "markdown",
   "id": "940aaf72",
   "metadata": {},
   "source": [
    "**Вывод по группам A1 и А2**\n",
    "\n",
    "Мы провели 4 проверки статестических гипотез по каждому событию в отдельности. <br> При уровне значимости alpha=0.01 статистически значимой разницы между контрольными группами не обнаружено, поэтому мы можем быть уверены в точности проведенного тестирования."
   ]
  },
  {
   "cell_type": "markdown",
   "id": "a7c37f70",
   "metadata": {},
   "source": [
    "**Посмотрим на график и статистическую разницу между группами `A1 и B` и `A2 и B`:**"
   ]
  },
  {
   "cell_type": "code",
   "execution_count": 99,
   "id": "ffd2ece9",
   "metadata": {},
   "outputs": [
    {
     "data": {
      "text/html": [
       "<iframe\n",
       "    scrolling=\"no\"\n",
       "    width=\"100%\"\n",
       "    height=\"545px\"\n",
       "    src=\"iframe_figures/figure_99.html\"\n",
       "    frameborder=\"0\"\n",
       "    allowfullscreen\n",
       "></iframe>\n"
      ]
     },
     "metadata": {},
     "output_type": "display_data"
    },
    {
     "name": "stdout",
     "output_type": "stream",
     "text": [
      "Для события visit_main_screen p-значение =  0.2949721933554552\n",
      "Не получилось отвергнуть нулевую гипотезу, нет оснований считать доли разными\n",
      "\n",
      "Для события views_product p-значение =  0.20836205402738917\n",
      "Не получилось отвергнуть нулевую гипотезу, нет оснований считать доли разными\n",
      "\n",
      "Для события views_cart_screen p-значение =  0.07842923237520116\n",
      "Не получилось отвергнуть нулевую гипотезу, нет оснований считать доли разными\n",
      "\n",
      "Для события successful_payment p-значение =  0.2122553275697796\n",
      "Не получилось отвергнуть нулевую гипотезу, нет оснований считать доли разными\n",
      "\n",
      "______________________________________________________________________________________________________________ \n",
      "\n"
     ]
    },
    {
     "data": {
      "text/html": [
       "<iframe\n",
       "    scrolling=\"no\"\n",
       "    width=\"100%\"\n",
       "    height=\"545px\"\n",
       "    src=\"iframe_figures/figure_99.html\"\n",
       "    frameborder=\"0\"\n",
       "    allowfullscreen\n",
       "></iframe>\n"
      ]
     },
     "metadata": {},
     "output_type": "display_data"
    },
    {
     "name": "stdout",
     "output_type": "stream",
     "text": [
      "Для события visit_main_screen p-значение =  0.4587053616621515\n",
      "Не получилось отвергнуть нулевую гипотезу, нет оснований считать доли разными\n",
      "\n",
      "Для события views_product p-значение =  0.9197817830592261\n",
      "Не получилось отвергнуть нулевую гипотезу, нет оснований считать доли разными\n",
      "\n",
      "Для события views_cart_screen p-значение =  0.5786197879539783\n",
      "Не получилось отвергнуть нулевую гипотезу, нет оснований считать доли разными\n",
      "\n",
      "Для события successful_payment p-значение =  0.7373415053803964\n",
      "Не получилось отвергнуть нулевую гипотезу, нет оснований считать доли разными\n",
      "\n"
     ]
    }
   ],
   "source": [
    "funnel_by_groups('A1', 'B', \"#2374b3\", \"#169109\")\n",
    "z_test('A1', 'B', 0.05)\n",
    "print('_' * 110, '\\n')\n",
    "funnel_by_groups('A2', 'B', \"#fb8504\", \"#169109\")\n",
    "z_test('A2', 'B', 0.05)"
   ]
  },
  {
   "cell_type": "markdown",
   "id": "4002ea28",
   "metadata": {},
   "source": [
    "**Вывод по группам А1 и В, А2 и В**\n",
    "\n",
    "Мы провели 8 проверок статестических гипотез по каждому событию в отдельности. <br> При уровене значимости alpha=0.1 в группах `А1 и В` в событии `views_cart_screen`  удалось отвергнуть нулевую гипотезу. Но, при таком уровне значимости каждый десятый раз можно получить ложный результат, поэтому возьмем уровень значимости alpha=0.05, хотя можно было бы и alpha=0.01 - в нашем случае результат останется тем же: статистически значимой разницы между всеми парами контрольных и экспериментальной группы не обнаружено."
   ]
  },
  {
   "cell_type": "markdown",
   "id": "f36b2b61",
   "metadata": {},
   "source": [
    "**Посмотрим на график и статистическую разницу между группами `A1+А2 и B`:**"
   ]
  },
  {
   "cell_type": "code",
   "execution_count": 100,
   "id": "b6b5f427",
   "metadata": {},
   "outputs": [
    {
     "data": {
      "text/html": [
       "<iframe\n",
       "    scrolling=\"no\"\n",
       "    width=\"100%\"\n",
       "    height=\"545px\"\n",
       "    src=\"iframe_figures/figure_100.html\"\n",
       "    frameborder=\"0\"\n",
       "    allowfullscreen\n",
       "></iframe>\n"
      ]
     },
     "metadata": {},
     "output_type": "display_data"
    },
    {
     "name": "stdout",
     "output_type": "stream",
     "text": [
      "Для события visit_main_screen p-значение =  0.29424526837179577\n",
      "Не получилось отвергнуть нулевую гипотезу, нет оснований считать доли разными\n",
      "\n",
      "Для события views_product p-значение =  0.43425549655188256\n",
      "Не получилось отвергнуть нулевую гипотезу, нет оснований считать доли разными\n",
      "\n",
      "Для события views_cart_screen p-значение =  0.18175875284404386\n",
      "Не получилось отвергнуть нулевую гипотезу, нет оснований считать доли разными\n",
      "\n",
      "Для события successful_payment p-значение =  0.6004294282308704\n",
      "Не получилось отвергнуть нулевую гипотезу, нет оснований считать доли разными\n",
      "\n"
     ]
    }
   ],
   "source": [
    "funnel_by_groups('A1+A2', 'B', \"#754924\", \"#169109\")\n",
    "z_test('A1+A2', 'B', 0.05)"
   ]
  },
  {
   "cell_type": "markdown",
   "id": "19b06a6a",
   "metadata": {},
   "source": [
    "**Вывод по группам А1+А2 и В**\n",
    "\n",
    "Мы провели 4 проверки статестических гипотез по каждому событию в отдельности. <br> При уровне значимости 0.01 <= alpha <= 0.1 статистически значимой разницы между объединенной контрольной и экспериментальной группами не обнаружено."
   ]
  },
  {
   "cell_type": "markdown",
   "id": "db751281",
   "metadata": {},
   "source": [
    "## Общий вывод"
   ]
  },
  {
   "cell_type": "markdown",
   "id": "ca32bfce",
   "metadata": {},
   "source": [
    "В процесе анализа данных были проделаны следующие шаги:\n",
    "\n",
    "**1. Проведен обзор и предобработка дынных к анализу:**\n",
    "  - исходным обозначениям столбцов, событий и групп даны новые названия, наиболее точно отражающие сущность,\n",
    "  - столбец с датой из unix time переведен к типу данных datetime,\n",
    "  - удалены дубли.\n",
    "  \n",
    " \n",
    "**2. Изучены и проверены данные:**\n",
    "\n",
    "Изначально в данных было:\n",
    "   \n",
    "   - Всего событий в логе: 243713 \n",
    "   - Всего пользователей в логе: 7551 \n",
    "   - Среднее количество событий на одного пользователя: 32 \n",
    "   - Период данных: с 2019-07-25 по 2019-08-07 \n",
    "   \n",
    "В результате изучения и проверки логов был обнаружен период неполноценных данных с 25 июля по 1 августа. Данные представлены в полном объеме только за период с 1 по 8 августа. Поэтому дальнейший анализ будем проводить на этом срезе данных. Отбросив малоинформативные данные мы потеряли всего 1.17% событий и 0.23% пользователей. \n",
    "\n",
    "Итоги полноценных данных стало:\n",
    "\n",
    " * Всего событий в логе: 240887,\n",
    " * Всего пользователей в логе: 7534,\n",
    " * Среднее количество событий на одного пользователя: 31. \n",
    "\n",
    "**3. Изучили распределение событий в логах, построили воронку событий и выяснили:**\n",
    "\n",
    "   1. первый шаг воронки событий - visit_main_screen -  совершили 7419 пользователей  - это 98.48% всех пользователей. Мы также выяснили, что на страницу товара пользователь может попасть и минуя главную страницу. Тем не менее 37.52% пользователей, просмотревших главную страницу, не переходят на страницу товара. А это может сигнализировать о том, что главная страница не \"зацепила\" потенциального покупателя.\n",
    "   2. второй шаг воронки событий - views_product - совершили 4593 пользователя - это 60.96% всех пользователей. Выявлено, 11.4% пользователей отваливаются на шаге просмотра страницы товара, но, есть вероятность, что в приложении реализована возможность быстрой оплаты, поэтому часть покупателей может сразу перескочить через этот шаг к непосредственной оплате.\n",
    "   3. третий шаг воронки событий - views_cart_screen - совершили 3734 пользователя - это 49.56% всех пользователей. \n",
    "   4. шаг четвертый воронки событий - successful_payment - совершили 3539 пользователя - это 46.97% всех пользователей. Решение о покупке после добавления в корзину отклоняют только 2.59% пользователей. \n",
    "   5. 840 пользователей просмотрели страницу \"Руководство пользователя\" - это 11.15% всех пользователей. Данный шаг вообще никак не взаимосвязан и, соответственно, никак не влияет на какой-либо из предыдущих шагов. Поэтому данный шаг был исключен из воронки событий.\n",
    "\n",
    "Воронка событий показала, что на этапе \"Просмотра главной страницы\" теряется больше всего пользователей - 38% не доходит до шага \"Просмотр страницы товара\". При этом, можно утверждать, что пользователь добавивший товар в корзину - в 95% случаев успешнно оплатит товара. От первого и до последнего шага доходит 47.7% пользователей.\n",
    "\n",
    "Итого:\n",
    "  1. шаг `visit_main_screen` совершили 7419 пользователей,\n",
    "  2. шаг `views_product` совершили 4593 пользователей - это 61.9% к предыдущему и первоначальному шагу,\n",
    "  3. шаг `views_cart_screen` совершили\t3734 пользователей - это 81.3% к предыдущему и 50.3% к первоначальному шагу,\n",
    "  4. шаг `successful_payment` совершили 3539 пользователей - это 94.8% к предыдущему и 47.7% к первоначальному шагу.\n",
    "    \n",
    "\n",
    "**4. Анализ результатов эксперимента показал:**\n",
    "\n",
    "В общей сложности мы провели 16 проверок статестических гипотез. И даже при уровне значимости  alpha=0.01 статистически значимой разницы попарно между контрольными, каждой контрольной и экспериментальной, а также объединенной контрольной и экспериментальной группами не обнаружено. На этом основании можно утвержать, что изменение шрифтов статистически значимо не повлияло на пользователей. И для менеджеров, и для дизайнеров эксперимент можно считать успешным, так как новые шрифты не отпугнули пользователей. Но стоит отметить, что и существенного притока пользователей, благодаря новым шрифтам тоже не произошло. \n",
    "\n",
    "\n",
    "**Рекомендации:**\n",
    "\n",
    "Поскольку  на этапе просмотра главной страницы теряется максимальная доля пользователей, возможно, причина кроется в первом зрительном эффекте, который главная страница производит на пользователя. Стоит обратить внимание дизайнеров и маркетологов и сделать главную страницу более привлекательной и \"вкусной\" для пользователей. Возможно пользователем не хватает \"цепляющих\" баннеров и акцентов на акционные товары. Нельзя исключать и вариант того, что на разных операционных системах устройств пользователей, интерфейс приложения отображается по-разному. "
   ]
  }
 ],
 "metadata": {
  "ExecuteTimeLog": [
   {
    "duration": 1731,
    "start_time": "2022-08-02T08:48:06.711Z"
   },
   {
    "duration": 4,
    "start_time": "2022-08-02T08:48:08.444Z"
   },
   {
    "duration": 776,
    "start_time": "2022-08-02T08:48:08.450Z"
   },
   {
    "duration": 5,
    "start_time": "2022-08-02T08:48:09.229Z"
   },
   {
    "duration": 219,
    "start_time": "2022-08-02T08:48:09.236Z"
   },
   {
    "duration": 4,
    "start_time": "2022-08-02T08:48:09.457Z"
   },
   {
    "duration": 1434,
    "start_time": "2022-08-02T08:48:09.462Z"
   },
   {
    "duration": 0,
    "start_time": "2022-08-02T08:48:10.899Z"
   },
   {
    "duration": 0,
    "start_time": "2022-08-02T08:48:10.900Z"
   },
   {
    "duration": 0,
    "start_time": "2022-08-02T08:48:10.902Z"
   },
   {
    "duration": 0,
    "start_time": "2022-08-02T08:48:10.903Z"
   },
   {
    "duration": 0,
    "start_time": "2022-08-02T08:48:10.904Z"
   },
   {
    "duration": 0,
    "start_time": "2022-08-02T08:48:10.905Z"
   },
   {
    "duration": 0,
    "start_time": "2022-08-02T08:48:10.907Z"
   },
   {
    "duration": 0,
    "start_time": "2022-08-02T08:48:10.908Z"
   },
   {
    "duration": 0,
    "start_time": "2022-08-02T08:48:10.909Z"
   },
   {
    "duration": 0,
    "start_time": "2022-08-02T08:48:10.910Z"
   },
   {
    "duration": 0,
    "start_time": "2022-08-02T08:48:10.911Z"
   },
   {
    "duration": 0,
    "start_time": "2022-08-02T08:48:10.912Z"
   },
   {
    "duration": 0,
    "start_time": "2022-08-02T08:48:10.914Z"
   },
   {
    "duration": 0,
    "start_time": "2022-08-02T08:48:10.915Z"
   },
   {
    "duration": 0,
    "start_time": "2022-08-02T08:48:10.916Z"
   },
   {
    "duration": 0,
    "start_time": "2022-08-02T08:48:10.917Z"
   },
   {
    "duration": 0,
    "start_time": "2022-08-02T08:48:10.918Z"
   },
   {
    "duration": 0,
    "start_time": "2022-08-02T08:48:10.920Z"
   },
   {
    "duration": 0,
    "start_time": "2022-08-02T08:48:10.921Z"
   },
   {
    "duration": 0,
    "start_time": "2022-08-02T08:48:10.922Z"
   },
   {
    "duration": 0,
    "start_time": "2022-08-02T08:48:10.923Z"
   },
   {
    "duration": 0,
    "start_time": "2022-08-02T08:48:10.924Z"
   },
   {
    "duration": 0,
    "start_time": "2022-08-02T08:48:10.925Z"
   },
   {
    "duration": 0,
    "start_time": "2022-08-02T08:48:10.926Z"
   },
   {
    "duration": 0,
    "start_time": "2022-08-02T08:48:10.927Z"
   },
   {
    "duration": 0,
    "start_time": "2022-08-02T08:48:10.929Z"
   },
   {
    "duration": 0,
    "start_time": "2022-08-02T08:48:10.930Z"
   },
   {
    "duration": 0,
    "start_time": "2022-08-02T08:48:10.931Z"
   },
   {
    "duration": 0,
    "start_time": "2022-08-02T08:48:10.932Z"
   },
   {
    "duration": 0,
    "start_time": "2022-08-02T08:48:10.933Z"
   },
   {
    "duration": 0,
    "start_time": "2022-08-02T08:48:10.934Z"
   },
   {
    "duration": 0,
    "start_time": "2022-08-02T08:48:10.934Z"
   },
   {
    "duration": 0,
    "start_time": "2022-08-02T08:48:10.935Z"
   },
   {
    "duration": 0,
    "start_time": "2022-08-02T08:48:10.936Z"
   },
   {
    "duration": 1314,
    "start_time": "2022-08-02T08:48:41.869Z"
   },
   {
    "duration": 9,
    "start_time": "2022-08-02T08:49:01.983Z"
   },
   {
    "duration": 1457,
    "start_time": "2022-08-02T08:49:36.980Z"
   },
   {
    "duration": 4,
    "start_time": "2022-08-02T08:49:38.439Z"
   },
   {
    "duration": 166,
    "start_time": "2022-08-02T08:49:38.444Z"
   },
   {
    "duration": 5,
    "start_time": "2022-08-02T08:49:38.612Z"
   },
   {
    "duration": 120,
    "start_time": "2022-08-02T08:49:38.619Z"
   },
   {
    "duration": 4,
    "start_time": "2022-08-02T08:49:38.741Z"
   },
   {
    "duration": 14,
    "start_time": "2022-08-02T08:49:38.747Z"
   },
   {
    "duration": 63,
    "start_time": "2022-08-02T08:49:38.763Z"
   },
   {
    "duration": 11,
    "start_time": "2022-08-02T08:49:38.828Z"
   },
   {
    "duration": 8,
    "start_time": "2022-08-02T08:49:38.841Z"
   },
   {
    "duration": 131,
    "start_time": "2022-08-02T08:49:38.851Z"
   },
   {
    "duration": 63,
    "start_time": "2022-08-02T08:49:38.984Z"
   },
   {
    "duration": 41,
    "start_time": "2022-08-02T08:49:39.049Z"
   },
   {
    "duration": 129,
    "start_time": "2022-08-02T08:49:39.102Z"
   },
   {
    "duration": 9,
    "start_time": "2022-08-02T08:49:39.233Z"
   },
   {
    "duration": 10,
    "start_time": "2022-08-02T08:49:39.244Z"
   },
   {
    "duration": 53,
    "start_time": "2022-08-02T08:49:39.255Z"
   },
   {
    "duration": 38,
    "start_time": "2022-08-02T08:49:39.310Z"
   },
   {
    "duration": 63,
    "start_time": "2022-08-02T08:49:39.349Z"
   },
   {
    "duration": 5161,
    "start_time": "2022-08-02T08:49:39.413Z"
   },
   {
    "duration": 5043,
    "start_time": "2022-08-02T08:49:44.576Z"
   },
   {
    "duration": 40,
    "start_time": "2022-08-02T08:49:49.621Z"
   },
   {
    "duration": 25,
    "start_time": "2022-08-02T08:49:49.663Z"
   },
   {
    "duration": 44,
    "start_time": "2022-08-02T08:49:49.690Z"
   },
   {
    "duration": 4830,
    "start_time": "2022-08-02T08:49:49.736Z"
   },
   {
    "duration": 34,
    "start_time": "2022-08-02T08:49:54.569Z"
   },
   {
    "duration": 527,
    "start_time": "2022-08-02T08:49:54.605Z"
   },
   {
    "duration": 68,
    "start_time": "2022-08-02T08:49:55.133Z"
   },
   {
    "duration": 323,
    "start_time": "2022-08-02T08:49:55.202Z"
   },
   {
    "duration": 7,
    "start_time": "2022-08-02T08:49:55.527Z"
   },
   {
    "duration": 311,
    "start_time": "2022-08-02T08:49:55.536Z"
   },
   {
    "duration": 85,
    "start_time": "2022-08-02T08:49:55.849Z"
   },
   {
    "duration": 339,
    "start_time": "2022-08-02T08:49:55.936Z"
   },
   {
    "duration": 44,
    "start_time": "2022-08-02T08:49:56.277Z"
   },
   {
    "duration": 9,
    "start_time": "2022-08-02T08:49:56.323Z"
   },
   {
    "duration": 8,
    "start_time": "2022-08-02T08:49:56.333Z"
   },
   {
    "duration": 102,
    "start_time": "2022-08-02T08:49:56.342Z"
   },
   {
    "duration": 6,
    "start_time": "2022-08-02T08:49:56.446Z"
   },
   {
    "duration": 10,
    "start_time": "2022-08-02T08:49:56.454Z"
   },
   {
    "duration": 280,
    "start_time": "2022-08-02T08:49:56.466Z"
   },
   {
    "duration": 501,
    "start_time": "2022-08-02T08:49:56.749Z"
   },
   {
    "duration": 265,
    "start_time": "2022-08-02T08:49:57.252Z"
   },
   {
    "duration": 1227,
    "start_time": "2022-08-02T16:09:05.054Z"
   },
   {
    "duration": 2,
    "start_time": "2022-08-02T16:09:06.283Z"
   },
   {
    "duration": 514,
    "start_time": "2022-08-02T16:09:06.287Z"
   },
   {
    "duration": 5,
    "start_time": "2022-08-02T16:09:06.803Z"
   },
   {
    "duration": 112,
    "start_time": "2022-08-02T16:09:06.809Z"
   },
   {
    "duration": 4,
    "start_time": "2022-08-02T16:09:06.922Z"
   },
   {
    "duration": 12,
    "start_time": "2022-08-02T16:09:06.927Z"
   },
   {
    "duration": 42,
    "start_time": "2022-08-02T16:09:06.941Z"
   },
   {
    "duration": 22,
    "start_time": "2022-08-02T16:09:06.985Z"
   },
   {
    "duration": 7,
    "start_time": "2022-08-02T16:09:07.009Z"
   },
   {
    "duration": 94,
    "start_time": "2022-08-02T16:09:07.018Z"
   },
   {
    "duration": 37,
    "start_time": "2022-08-02T16:09:07.114Z"
   },
   {
    "duration": 34,
    "start_time": "2022-08-02T16:09:07.153Z"
   },
   {
    "duration": 113,
    "start_time": "2022-08-02T16:09:07.200Z"
   },
   {
    "duration": 9,
    "start_time": "2022-08-02T16:09:07.314Z"
   },
   {
    "duration": 6,
    "start_time": "2022-08-02T16:09:07.324Z"
   },
   {
    "duration": 45,
    "start_time": "2022-08-02T16:09:07.332Z"
   },
   {
    "duration": 478,
    "start_time": "2022-08-02T16:09:07.379Z"
   },
   {
    "duration": 26,
    "start_time": "2022-08-02T16:09:07.859Z"
   },
   {
    "duration": 17,
    "start_time": "2022-08-02T16:09:07.886Z"
   },
   {
    "duration": 26,
    "start_time": "2022-08-02T16:09:07.904Z"
   },
   {
    "duration": 3,
    "start_time": "2022-08-02T16:09:07.931Z"
   },
   {
    "duration": 53,
    "start_time": "2022-08-02T16:09:07.936Z"
   },
   {
    "duration": 50,
    "start_time": "2022-08-02T16:09:07.999Z"
   },
   {
    "duration": 4679,
    "start_time": "2022-08-02T16:09:08.051Z"
   },
   {
    "duration": 4434,
    "start_time": "2022-08-02T16:09:12.732Z"
   },
   {
    "duration": 26,
    "start_time": "2022-08-02T16:09:17.168Z"
   },
   {
    "duration": 41,
    "start_time": "2022-08-02T16:09:17.197Z"
   },
   {
    "duration": 29,
    "start_time": "2022-08-02T16:09:17.239Z"
   },
   {
    "duration": 24,
    "start_time": "2022-08-02T16:09:17.270Z"
   },
   {
    "duration": 7,
    "start_time": "2022-08-02T16:09:17.300Z"
   },
   {
    "duration": 4654,
    "start_time": "2022-08-02T16:09:17.308Z"
   },
   {
    "duration": 30,
    "start_time": "2022-08-02T16:09:21.964Z"
   },
   {
    "duration": 489,
    "start_time": "2022-08-02T16:09:21.996Z"
   },
   {
    "duration": 60,
    "start_time": "2022-08-02T16:09:22.487Z"
   },
   {
    "duration": 348,
    "start_time": "2022-08-02T16:09:22.548Z"
   },
   {
    "duration": 7,
    "start_time": "2022-08-02T16:09:22.898Z"
   },
   {
    "duration": 13,
    "start_time": "2022-08-02T16:09:22.907Z"
   },
   {
    "duration": 13,
    "start_time": "2022-08-02T16:09:22.922Z"
   },
   {
    "duration": 466,
    "start_time": "2022-08-02T16:09:22.936Z"
   },
   {
    "duration": 78,
    "start_time": "2022-08-02T16:09:23.403Z"
   },
   {
    "duration": 380,
    "start_time": "2022-08-02T16:09:23.482Z"
   },
   {
    "duration": 47,
    "start_time": "2022-08-02T16:09:23.864Z"
   },
   {
    "duration": 9,
    "start_time": "2022-08-02T16:09:23.913Z"
   },
   {
    "duration": 5,
    "start_time": "2022-08-02T16:09:23.923Z"
   },
   {
    "duration": 95,
    "start_time": "2022-08-02T16:09:23.930Z"
   },
   {
    "duration": 5,
    "start_time": "2022-08-02T16:09:24.028Z"
   },
   {
    "duration": 12,
    "start_time": "2022-08-02T16:09:24.035Z"
   },
   {
    "duration": 278,
    "start_time": "2022-08-02T16:09:24.048Z"
   },
   {
    "duration": 516,
    "start_time": "2022-08-02T16:09:24.327Z"
   },
   {
    "duration": 523,
    "start_time": "2022-08-02T16:09:24.844Z"
   }
  ],
  "kernelspec": {
   "display_name": "Python 3 (ipykernel)",
   "language": "python",
   "name": "python3"
  },
  "language_info": {
   "codemirror_mode": {
    "name": "ipython",
    "version": 3
   },
   "file_extension": ".py",
   "mimetype": "text/x-python",
   "name": "python",
   "nbconvert_exporter": "python",
   "pygments_lexer": "ipython3",
   "version": "3.9.7"
  },
  "toc": {
   "base_numbering": 1,
   "nav_menu": {},
   "number_sections": true,
   "sideBar": true,
   "skip_h1_title": true,
   "title_cell": "Table of Contents",
   "title_sidebar": "Contents",
   "toc_cell": true,
   "toc_position": {
    "height": "calc(100% - 180px)",
    "left": "10px",
    "top": "150px",
    "width": "426.656px"
   },
   "toc_section_display": true,
   "toc_window_display": false
  }
 },
 "nbformat": 4,
 "nbformat_minor": 5
}
